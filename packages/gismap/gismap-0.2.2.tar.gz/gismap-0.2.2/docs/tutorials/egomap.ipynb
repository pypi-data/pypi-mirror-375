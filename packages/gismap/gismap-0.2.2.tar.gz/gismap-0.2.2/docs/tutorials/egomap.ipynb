{
 "cells": [
  {
   "cell_type": "markdown",
   "id": "0",
   "metadata": {},
   "source": [
    "# EgoMap"
   ]
  },
  {
   "cell_type": "markdown",
   "id": "1",
   "metadata": {},
   "source": [
    "Every researcher is the center of his/her own universe. With EgoMaps, everyone can visualize that universe!\n",
    "\n",
    "Concretely, your EgoMap is a co-publication graph containing:\n",
    "\n",
    "- The *star*, i.e. you, the center of the universe\n",
    "- The *planets*, i.e. your co-authors\n",
    "- The *moons*, e.g. the co-authors of your co-authors\n",
    "\n",
    "By default, EgoMaps comprise up to 50 researchers, selecting first planets (sorted by number of collaborations), then moons (sorted by connectivity)."
   ]
  },
  {
   "cell_type": "markdown",
   "id": "2",
   "metadata": {},
   "source": [
    "## Disclaimer"
   ]
  },
  {
   "cell_type": "markdown",
   "id": "3",
   "metadata": {},
   "source": [
    "**EgoMaps provide an engaging visualization of a researcher's egosystem.** In essence, they offer an intuitive way to explore and identify the research community or communities surrounding a given individual. By highlighting connections and relationships within a research network, EgoMaps aim to facilitate a deeper understanding of collaborative and thematic clusters in a researcher’s environment.\n",
    "\n",
    "It is important to emphasize that **EgoMaps are not designed nor intended to support any form of quantitative evaluation or ranking of researchers' work or impact.** Any such interpretation or usage is strongly discouraged, as the feature's primary purpose is to assist with qualitative exploration and visualization of research communities, not research assessment."
   ]
  },
  {
   "cell_type": "markdown",
   "id": "4",
   "metadata": {},
   "source": [
    "## Simple case"
   ]
  },
  {
   "cell_type": "markdown",
   "id": "5",
   "metadata": {},
   "source": [
    "For basic scenarios, you just need to enter the name of the researcher. For example:"
   ]
  },
  {
   "cell_type": "code",
   "execution_count": null,
   "id": "6",
   "metadata": {},
   "outputs": [],
   "source": [
    "from gismap.lab import EgoMap as Map\n",
    "\n",
    "celine = Map(\"Céline Comte\")\n",
    "celine.build()"
   ]
  },
  {
   "cell_type": "markdown",
   "id": "7",
   "metadata": {},
   "source": [
    "You can display your EgoMap with `show_html` and save it with `save_html`"
   ]
  },
  {
   "cell_type": "code",
   "execution_count": null,
   "id": "8",
   "metadata": {},
   "outputs": [],
   "source": [
    "celine.show_html()"
   ]
  },
  {
   "cell_type": "markdown",
   "id": "9",
   "metadata": {},
   "source": [
    "## Adjusting the size"
   ]
  },
  {
   "cell_type": "markdown",
   "id": "10",
   "metadata": {},
   "source": [
    "Depending on your degree, you may want to adjust the size of your universe with `target`. You can also personalize the *star* with a picture."
   ]
  },
  {
   "cell_type": "code",
   "execution_count": null,
   "id": "11",
   "metadata": {},
   "outputs": [],
   "source": [
    "nidhi = Map(\"Nidhi Hegde\")\n",
    "nidhi.star.metadata.img = \"https://sites.ualberta.ca/~nidhih/images/circle1.png\"\n",
    "nidhi.build(target=70)"
   ]
  },
  {
   "cell_type": "code",
   "execution_count": null,
   "id": "12",
   "metadata": {},
   "outputs": [],
   "source": [
    "nidhi.show_html()"
   ]
  },
  {
   "cell_type": "markdown",
   "id": "13",
   "metadata": {},
   "source": [
    "## Using specific DBs"
   ]
  },
  {
   "cell_type": "markdown",
   "id": "14",
   "metadata": {},
   "source": [
    "You can specify the DB(s) you want to use. For example, if you are a French researcher not working in computer science, HAL is enough."
   ]
  },
  {
   "cell_type": "code",
   "execution_count": null,
   "id": "15",
   "metadata": {},
   "outputs": [],
   "source": [
    "mathilde = Map(\"Mathilde Labbé\", dbs=\"hal\")\n",
    "mathilde.star.metadata.img = (\n",
    "    \"https://0.academia-photos.com/282997/7894577/15068468/s200_mathilde.labbe.jpg\"\n",
    ")\n",
    "mathilde.build(target=25)"
   ]
  },
  {
   "cell_type": "code",
   "execution_count": null,
   "id": "16",
   "metadata": {},
   "outputs": [],
   "source": [
    "mathilde.show_html()"
   ]
  }
 ],
 "metadata": {
  "kernelspec": {
   "display_name": "Python 3 (ipykernel)",
   "language": "python",
   "name": "python3"
  },
  "language_info": {
   "codemirror_mode": {
    "name": "ipython",
    "version": 3
   },
   "file_extension": ".py",
   "mimetype": "text/x-python",
   "name": "python",
   "nbconvert_exporter": "python",
   "pygments_lexer": "ipython3",
   "version": "3.12.8"
  }
 },
 "nbformat": 4,
 "nbformat_minor": 5
}
