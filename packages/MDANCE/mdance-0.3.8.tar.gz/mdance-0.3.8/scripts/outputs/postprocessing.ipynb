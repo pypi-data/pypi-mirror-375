{
 "cells": [
  {
   "cell_type": "markdown",
   "metadata": {},
   "source": [
    "# Postprocessing of the clustering results"
   ]
  },
  {
   "cell_type": "markdown",
   "metadata": {},
   "source": [
    "#### Imports\n",
    "* [numpy](https://numpy.org/) for manipulating and saving arrays.\n",
    "* [MDAnalysis](https://www.mdanalysis.org/) for reading and writing trajectory files."
   ]
  },
  {
   "cell_type": "code",
   "execution_count": 1,
   "metadata": {},
   "outputs": [
    {
     "name": "stderr",
     "output_type": "stream",
     "text": [
      "c:\\Users\\aestr\\AppData\\Local\\Programs\\Python\\Python312\\Lib\\site-packages\\tqdm\\auto.py:21: TqdmWarning: IProgress not found. Please update jupyter and ipywidgets. See https://ipywidgets.readthedocs.io/en/stable/user_install.html\n",
      "  from .autonotebook import tqdm as notebook_tqdm\n"
     ]
    }
   ],
   "source": [
    "import MDAnalysis as mda\n",
    "import numpy as np\n",
    "\n",
    "from mdance import data"
   ]
  },
  {
   "cell_type": "markdown",
   "metadata": {},
   "source": [
    "#### Read the original trajectory file with MDAnalysis.\n",
    "* `input_top` is the path to the topology file.\n",
    "* `input_traj` is the path to the trajectory file.\n"
   ]
  },
  {
   "cell_type": "code",
   "execution_count": 2,
   "metadata": {},
   "outputs": [
    {
     "name": "stdout",
     "output_type": "stream",
     "text": [
      "Number of atoms in the trajectory: 217\n"
     ]
    },
    {
     "name": "stderr",
     "output_type": "stream",
     "text": [
      "c:\\Users\\aestr\\AppData\\Local\\Programs\\Python\\Python312\\Lib\\site-packages\\MDAnalysis\\topology\\PDBParser.py:331: UserWarning: Element information is missing, elements attribute will not be populated. If needed these can be guessed using MDAnalysis.topology.guessers.\n",
      "  warnings.warn(\"Element information is missing, elements attribute \"\n",
      "c:\\Users\\aestr\\AppData\\Local\\Programs\\Python\\Python312\\Lib\\site-packages\\MDAnalysis\\coordinates\\DCD.py:165: DeprecationWarning: DCDReader currently makes independent timesteps by copying self.ts while other readers update self.ts inplace. This behavior will be changed in 3.0 to be the same as other readers. Read more at https://github.com/MDAnalysis/mdanalysis/issues/3889 to learn if this change in behavior might affect you.\n",
      "  warnings.warn(\"DCDReader currently makes independent timesteps\"\n"
     ]
    }
   ],
   "source": [
    "input_top = data.top\n",
    "input_traj = data.traj\n",
    "\n",
    "u = mda.Universe(input_top, input_traj)\n",
    "print(f'Number of atoms in the trajectory: {u.atoms.n_atoms}')"
   ]
  },
  {
   "cell_type": "markdown",
   "metadata": {},
   "source": [
    "#### Extract frames for each cluster using the cluster assignments from the previous step.\n",
    "`cluster_assignments` is the path to the cluster assignment. <br>\n",
    "It will take this list of frame and convert to a trajectory for each unique cluster. <br>"
   ]
  },
  {
   "cell_type": "code",
   "execution_count": 3,
   "metadata": {},
   "outputs": [],
   "source": [
    "cluster_assignment = '../nani/outputs/best_frames_indices_6.csv'"
   ]
  },
  {
   "cell_type": "code",
   "execution_count": 4,
   "metadata": {},
   "outputs": [
    {
     "name": "stderr",
     "output_type": "stream",
     "text": [
      "c:\\Users\\aestr\\AppData\\Local\\Programs\\Python\\Python312\\Lib\\site-packages\\MDAnalysis\\coordinates\\DCD.py:463: UserWarning: No dimensions set for current frame, zeroed unitcell will be written\n",
      "  warnings.warn(wmsg)\n"
     ]
    }
   ],
   "source": [
    "# Define the frames to extract\n",
    "x, y = np.loadtxt(cluster_assignment, delimiter=',', skiprows=2, dtype=int, unpack=True)\n",
    "\n",
    "# get x value in a list for every unique y value\n",
    "frames = [x[y == i] for i in np.unique(y)]\n",
    "\n",
    "for i, frame in enumerate(frames):\n",
    "   # write trajectory with only the selected frames in frames[i]\n",
    "    with mda.Writer(f'best_frames_{i}.dcd', u.atoms.n_atoms) as W:\n",
    "        for ts in u.trajectory[frame]:\n",
    "            W.write(u.atoms)"
   ]
  }
 ],
 "metadata": {
  "kernelspec": {
   "display_name": "Python 3",
   "language": "python",
   "name": "python3"
  },
  "language_info": {
   "codemirror_mode": {
    "name": "ipython",
    "version": 3
   },
   "file_extension": ".py",
   "mimetype": "text/x-python",
   "name": "python",
   "nbconvert_exporter": "python",
   "pygments_lexer": "ipython3",
   "version": "3.12.4"
  },
  "orig_nbformat": 4
 },
 "nbformat": 4,
 "nbformat_minor": 2
}
