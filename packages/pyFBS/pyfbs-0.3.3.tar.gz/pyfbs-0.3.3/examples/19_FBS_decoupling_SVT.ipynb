{
 "cells": [
  {
   "cell_type": "markdown",
   "metadata": {},
   "source": [
    "# 19 FBS decoupling with SVT\n",
    "This tutorial shows the application of the singular vector transformation to perform substructure decoupling in the classic LM-FBS framework. The operations are performed with experimentally obtained FRFs."
   ]
  },
  {
   "cell_type": "code",
   "execution_count": 1,
   "metadata": {},
   "outputs": [],
   "source": [
    "import pyFBS\n",
    "\n",
    "import numpy as np\n",
    "import matplotlib.pyplot as plt\n",
    "import pandas as pd\n",
    "%matplotlib inline"
   ]
  },
  {
   "cell_type": "markdown",
   "metadata": {},
   "source": [
    "## Data Import\n",
    "Load the required predefined datasets:"
   ]
  },
  {
   "cell_type": "code",
   "execution_count": 2,
   "metadata": {
    "scrolled": true
   },
   "outputs": [
    {
     "name": "stderr",
     "output_type": "stream",
     "text": [
      "100%|██████████████████████████████████████████████████████████████████████████████████| 6/6 [00:00<00:00, 1203.99it/s]\n",
      "100%|██████████████████████████████████████████████████████████████████████████████████| 3/3 [00:00<00:00, 3014.59it/s]\n",
      "100%|██████████████████████████████████████████████████████████████████████████████████| 7/7 [00:00<00:00, 7015.56it/s]"
     ]
    },
    {
     "name": "stdout",
     "output_type": "stream",
     "text": [
      "Downloading FEM files\n",
      "Downloading STL files\n",
      "Downloading Measurements files\n"
     ]
    },
    {
     "name": "stderr",
     "output_type": "stream",
     "text": [
      "\n"
     ]
    }
   ],
   "source": [
    "pyFBS.download_lab_testbench()"
   ]
  },
  {
   "cell_type": "code",
   "execution_count": 3,
   "metadata": {},
   "outputs": [],
   "source": [
    "stl_dir_A = r\"./lab_testbench/STL/A.stl\"\n",
    "stl_dir_B = r\"./lab_testbench/STL/B.stl\"\n",
    "stl_dir_AB = r\"./lab_testbench/STL/AB.stl\"\n",
    "\n",
    "exp_A = r\"./lab_testbench/Measurements/Y_A.p\"\n",
    "exp_B = r\"./lab_testbench/Measurements/Y_B.p\"\n",
    "exp_AB = r\"./lab_testbench/Measurements/Y_AB.p\"\n",
    "\n",
    "pos_xlsx = r\"./lab_testbench/Measurements/decoupling_example_SVT.xlsx\"\n",
    "\n",
    "df_acc_A = pd.read_excel(pos_xlsx, sheet_name='Sensors_A')\n",
    "df_chn_A = pd.read_excel(pos_xlsx, sheet_name='Channels_A')\n",
    "df_imp_A = pd.read_excel(pos_xlsx, sheet_name='Impacts_A')\n",
    "\n",
    "df_acc_B = pd.read_excel(pos_xlsx, sheet_name='Sensors_B')\n",
    "df_chn_B = pd.read_excel(pos_xlsx, sheet_name='Channels_B')\n",
    "df_imp_B = pd.read_excel(pos_xlsx, sheet_name='Impacts_B')\n",
    "\n",
    "df_acc_AB = pd.read_excel(pos_xlsx, sheet_name='Sensors_AB')\n",
    "df_chn_AB = pd.read_excel(pos_xlsx, sheet_name='Channels_AB')\n",
    "df_imp_AB = pd.read_excel(pos_xlsx, sheet_name='Impacts_AB')"
   ]
  },
  {
   "cell_type": "markdown",
   "metadata": {},
   "source": [
    "## 3D view\n",
    "Open 3D viewer in the background. With the 3D viewer the subplot capabilities of [PyVista](https://docs.pyvista.org/index.html) can be used."
   ]
  },
  {
   "cell_type": "code",
   "execution_count": 4,
   "metadata": {},
   "outputs": [],
   "source": [
    "view3D = pyFBS.view3D(show_origin = False, show_axes = False,shape =  (1,3),title = \"Overview\")"
   ]
  },
  {
   "cell_type": "markdown",
   "metadata": {},
   "source": [
    "Add the STL file of substructure A to the 1-1 subplot and show the corresponding accelerometers, channels and impacts."
   ]
  },
  {
   "cell_type": "code",
   "execution_count": 5,
   "metadata": {},
   "outputs": [],
   "source": [
    "view3D.plot.subplot(0,0)\n",
    "view3D.plot.isometric_view()\n",
    "view3D.plot.add_text(\"A structure\", position='upper_left', font_size=10, color=\"k\", font=\"times\", name=\"A_structure\")\n",
    "\n",
    "view3D.add_stl(stl_dir_A,color = \"#83afd2\",name = \"A\");\n",
    "view3D.show_acc(df_acc_A,scale = 1000)\n",
    "view3D.show_imp(df_imp_A,scale = 1000)\n",
    "view3D.show_chn(df_chn_A,scale = 1000)"
   ]
  },
  {
   "cell_type": "markdown",
   "metadata": {},
   "source": [
    "Add the STL file of substructure B to the 1-2 subplot and show the corresponding accelerometers, channels and impacts."
   ]
  },
  {
   "cell_type": "code",
   "execution_count": 6,
   "metadata": {},
   "outputs": [],
   "source": [
    "view3D.plot.subplot(0,1)\n",
    "view3D.plot.isometric_view()\n",
    "view3D.plot.add_text(\"B structure\", position='upper_left', font_size=10, color=\"k\", font=\"times\", name=\"B_structure\");\n",
    "\n",
    "view3D.add_stl(stl_dir_B,color = \"#83afd2\",name = \"B\");\n",
    "view3D.show_acc(df_acc_B,scale = 1000,overwrite = False)\n",
    "view3D.show_imp(df_imp_B,scale = 1000,overwrite = False)\n",
    "view3D.show_chn(df_chn_B,scale = 1000,overwrite = False)"
   ]
  },
  {
   "cell_type": "markdown",
   "metadata": {},
   "source": [
    "Add STL file of the assembly AB to the 1-3 subplot and show the corresponding reference accelerometers, channels and impacts."
   ]
  },
  {
   "cell_type": "code",
   "execution_count": 7,
   "metadata": {},
   "outputs": [],
   "source": [
    "view3D.plot.subplot(0,2)\n",
    "view3D.plot.isometric_view()\n",
    "view3D.plot.add_text(\"AB structure\", position='upper_left', font_size=10, color=\"k\", font=\"times\", name=\"AB_structure\");\n",
    "\n",
    "view3D.add_stl(stl_dir_AB,color = \"#83afd2\",name = \"AB\");\n",
    "view3D.show_acc(df_acc_AB,scale = 1000,overwrite = False)\n",
    "view3D.show_imp(df_imp_AB,scale = 1000,overwrite = False)\n",
    "view3D.show_chn(df_chn_AB,scale = 1000,overwrite = False)"
   ]
  },
  {
   "cell_type": "markdown",
   "metadata": {},
   "source": [
    "Each separate subplot view can also be linked or unlinked:"
   ]
  },
  {
   "cell_type": "code",
   "execution_count": 8,
   "metadata": {},
   "outputs": [],
   "source": [
    "view3D.plot.link_views()\n",
    "#view3D.plot.unlink_views()"
   ]
  },
  {
   "cell_type": "markdown",
   "metadata": {},
   "source": [
    "## Experimental model"
   ]
  },
  {
   "cell_type": "code",
   "execution_count": 9,
   "metadata": {},
   "outputs": [],
   "source": [
    "freq, _Y_A_exp = np.load(exp_A, allow_pickle = True)\n",
    "_, _Y_B_exp = np.load(exp_B, allow_pickle = True)\n",
    "_, _Y_AB_exp = np.load(exp_AB, allow_pickle = True)\n",
    "\n",
    "Y_A_exp = np.transpose(_Y_A_exp, (2, 0, 1))\n",
    "Y_B_exp = np.transpose(_Y_B_exp, (2, 0, 1))\n",
    "Y_AB_exp = np.transpose(_Y_AB_exp, (2, 0, 1))\n",
    "\n"
   ]
  },
  {
   "cell_type": "markdown",
   "metadata": {},
   "source": [
    "## Singular vector transformation \n",
    "The SVT can be performed directly on the measured data. Make sure that input and output DoFs involved in the transformation are the same in the subsystem to be decoupled (B) and the assembled system (AB). Furthermore, the same reduction spaces must be used for both the systems (B and AB) in order to guarantee a proper compatibility and equilibrium. The reduced singular subspaces are extracted from the subsystem B and a number of 6 DoFs is used."
   ]
  },
  {
   "cell_type": "code",
   "execution_count": 10,
   "metadata": {},
   "outputs": [],
   "source": [
    "k = 6\n",
    "svt = pyFBS.SVT(df_chn_B,df_imp_B,freq,Y_B_exp,[1,10],k)\n"
   ]
  },
  {
   "cell_type": "markdown",
   "metadata": {},
   "source": [
    "Apply the defined SVT to systems B and AB:"
   ]
  },
  {
   "cell_type": "code",
   "execution_count": 11,
   "metadata": {},
   "outputs": [],
   "source": [
    "_,_,FRF_B_sv= svt.apply_SVT(df_chn_B,df_imp_B,freq,Y_B_exp)\n",
    "_,_,FRF_AB_sv= svt.apply_SVT(df_chn_AB,df_imp_AB,freq,Y_AB_exp)\n"
   ]
  },
  {
   "cell_type": "markdown",
   "metadata": {},
   "source": [
    "## LM-FBS Decoupling\n",
    "\n",
    "The uncoupled global admittance is constructed using the transformed FRF datasets and imposing the decoupling operation through the minus sign. The compatibility and the equilibrium conditions are defined via the signed Boolean matrices."
   ]
  },
  {
   "cell_type": "code",
   "execution_count": 12,
   "metadata": {},
   "outputs": [
    {
     "data": {
      "text/plain": [
       "<matplotlib.image.AxesImage at 0x2a53cdc6d90>"
      ]
     },
     "execution_count": 12,
     "metadata": {},
     "output_type": "execute_result"
    },
    {
     "data": {
      "image/png": "[encoded data removed]",
      "text/plain": [
       "<Figure size 432x288 with 1 Axes>"
      ]
     },
     "metadata": {
      "needs_background": "light"
     },
     "output_type": "display_data"
    },
    {
     "data": {
      "image/png": "[encoded data removed]",
      "text/plain": [
       "<Figure size 432x288 with 1 Axes>"
      ]
     },
     "metadata": {
      "needs_background": "light"
     },
     "output_type": "display_data"
    },
    {
     "data": {
      "image/png": "[encoded data removed]",
      "text/plain": [
       "<Figure size 432x288 with 1 Axes>"
      ]
     },
     "metadata": {
      "needs_background": "light"
     },
     "output_type": "display_data"
    }
   ],
   "source": [
    "Y_AB_un = np.zeros((len(freq),2*k+6,2*k+6),dtype = complex)\n",
    "\n",
    "Y_AB_un[:,0:2*k,0:2*k] = FRF_AB_sv\n",
    "Y_AB_un[:,2*k:,2*k:] = -1*FRF_B_sv\n",
    "\n",
    "plt.spy(np.abs(Y_AB_un[100]))\n",
    "\n",
    "Bu = np.zeros((k,2*k+6))\n",
    "Bu[:k,0:k] = 1*np.eye(k)\n",
    "Bu[:k,2*k:2*k+6] = -1*np.eye(k)\n",
    "\n",
    "plt.figure()\n",
    "plt.imshow(Bu)\n",
    "\n",
    "Bf = Bu\n",
    "\n",
    "plt.figure()\n",
    "plt.imshow(Bf)\n"
   ]
  },
  {
   "cell_type": "markdown",
   "metadata": {},
   "source": [
    "Apply the LM-FBS based on the defined compatibility and equilibrium conditions."
   ]
  },
  {
   "cell_type": "code",
   "execution_count": 13,
   "metadata": {},
   "outputs": [],
   "source": [
    "Y_A_dec = np.zeros_like(Y_AB_un,dtype = complex)\n",
    "\n",
    "Y_int = Bu@Y_AB_un@Bf.T\n",
    "Y_A_dec  = Y_AB_un - Y_AB_un@Bf.T@np.linalg.pinv(Y_int)@Bu@Y_AB_un\n"
   ]
  },
  {
   "cell_type": "markdown",
   "metadata": {},
   "source": [
    "## Results\n",
    "First extract the FRFs at the reference DoFs:"
   ]
  },
  {
   "cell_type": "code",
   "execution_count": 14,
   "metadata": {},
   "outputs": [],
   "source": [
    "arr_ = [6,7,8,9,10,11]\n",
    "Y_A_LMFBS = Y_A_dec[:,arr_,:][:,:,arr_]\n",
    "Y_A_ref = Y_A_exp"
   ]
  },
  {
   "cell_type": "markdown",
   "metadata": {},
   "source": [
    "The decoupled and the reference results for A can be compared:"
   ]
  },
  {
   "cell_type": "code",
   "execution_count": 15,
   "metadata": {},
   "outputs": [
    {
     "data": {
      "text/html": [
       "<div>\n",
       "<style scoped>\n",
       "    .dataframe tbody tr th:only-of-type {\n",
       "        vertical-align: middle;\n",
       "    }\n",
       "\n",
       "    .dataframe tbody tr th {\n",
       "        vertical-align: top;\n",
       "    }\n",
       "\n",
       "    .dataframe thead th {\n",
       "        text-align: right;\n",
       "    }\n",
       "</style>\n",
       "<table border=\"1\" class=\"dataframe\">\n",
       "  <thead>\n",
       "    <tr style=\"text-align: right;\">\n",
       "      <th></th>\n",
       "      <th>Name</th>\n",
       "      <th>Description</th>\n",
       "      <th>Quantity</th>\n",
       "      <th>Grouping</th>\n",
       "      <th>Position_1</th>\n",
       "      <th>Position_2</th>\n",
       "      <th>Position_3</th>\n",
       "      <th>Direction_1</th>\n",
       "      <th>Direction_2</th>\n",
       "      <th>Direction_3</th>\n",
       "    </tr>\n",
       "  </thead>\n",
       "  <tbody>\n",
       "    <tr>\n",
       "      <th>1</th>\n",
       "      <td>S1 Y</td>\n",
       "      <td>NaN</td>\n",
       "      <td>NaN</td>\n",
       "      <td>10</td>\n",
       "      <td>-0.076519</td>\n",
       "      <td>0.142987</td>\n",
       "      <td>0.022</td>\n",
       "      <td>-0.70915</td>\n",
       "      <td>0.705057</td>\n",
       "      <td>0</td>\n",
       "    </tr>\n",
       "  </tbody>\n",
       "</table>\n",
       "</div>"
      ],
      "text/plain": [
       "   Name  Description  Quantity  Grouping  Position_1  Position_2  Position_3  \\\n",
       "1  S1 Y          NaN       NaN        10   -0.076519    0.142987       0.022   \n",
       "\n",
       "   Direction_1  Direction_2  Direction_3  \n",
       "1     -0.70915     0.705057            0  "
      ]
     },
     "metadata": {},
     "output_type": "display_data"
    },
    {
     "data": {
      "text/html": [
       "<div>\n",
       "<style scoped>\n",
       "    .dataframe tbody tr th:only-of-type {\n",
       "        vertical-align: middle;\n",
       "    }\n",
       "\n",
       "    .dataframe tbody tr th {\n",
       "        vertical-align: top;\n",
       "    }\n",
       "\n",
       "    .dataframe thead th {\n",
       "        text-align: right;\n",
       "    }\n",
       "</style>\n",
       "<table border=\"1\" class=\"dataframe\">\n",
       "  <thead>\n",
       "    <tr style=\"text-align: right;\">\n",
       "      <th></th>\n",
       "      <th>Name</th>\n",
       "      <th>Description</th>\n",
       "      <th>Quantity</th>\n",
       "      <th>Grouping</th>\n",
       "      <th>Position_1</th>\n",
       "      <th>Position_2</th>\n",
       "      <th>Position_3</th>\n",
       "      <th>Direction_1</th>\n",
       "      <th>Direction_2</th>\n",
       "      <th>Direction_3</th>\n",
       "    </tr>\n",
       "  </thead>\n",
       "  <tbody>\n",
       "    <tr>\n",
       "      <th>0</th>\n",
       "      <td>H1</td>\n",
       "      <td>NaN</td>\n",
       "      <td>NaN</td>\n",
       "      <td>10</td>\n",
       "      <td>0.014311</td>\n",
       "      <td>0.207959</td>\n",
       "      <td>0.017</td>\n",
       "      <td>5.790274e-10</td>\n",
       "      <td>0.0</td>\n",
       "      <td>-1</td>\n",
       "    </tr>\n",
       "  </tbody>\n",
       "</table>\n",
       "</div>"
      ],
      "text/plain": [
       "  Name  Description  Quantity  Grouping  Position_1  Position_2  Position_3  \\\n",
       "0   H1          NaN       NaN        10    0.014311    0.207959       0.017   \n",
       "\n",
       "    Direction_1  Direction_2  Direction_3  \n",
       "0  5.790274e-10          0.0           -1  "
      ]
     },
     "metadata": {},
     "output_type": "display_data"
    },
    {
     "data": {
      "text/plain": [
       "(0.0, 2000.0)"
      ]
     },
     "execution_count": 15,
     "metadata": {},
     "output_type": "execute_result"
    },
    {
     "data": {
      "image/png": "[encoded data removed]",
      "text/plain": [
       "<Figure size 720x432 with 2 Axes>"
      ]
     },
     "metadata": {
      "needs_background": "light"
     },
     "output_type": "display_data"
    }
   ],
   "source": [
    "s1 = 1\n",
    "s2 = 0\n",
    "\n",
    "display(df_chn_A.loc[[s1]])\n",
    "display(df_imp_A.loc[[s2]])\n",
    "\n",
    "plt.figure(figsize = (10,6))\n",
    "plt.subplot(211)\n",
    "plt.semilogy(freq,np.abs(Y_A_ref[:,s1,s2]),label = \"reference\")\n",
    "plt.semilogy(freq,np.abs(Y_A_LMFBS[:,s1,s2]),'--',label = \"LMFBS decoupled\")\n",
    "\n",
    "plt.xlim(0,2000)\n",
    "\n",
    "plt.subplot(413)\n",
    "plt.plot(freq,np.angle(Y_A_ref[:,s1,s2]),label = \"reference\")\n",
    "plt.plot(freq,np.angle(Y_A_LMFBS[:,s1,s2]),'--',label = \"LMFBS decoupled\")\n",
    "\n",
    "plt.xlim(0,2000)"
   ]
  },
  {
   "cell_type": "code",
   "execution_count": null,
   "metadata": {},
   "outputs": [],
   "source": []
  }
 ],
 "metadata": {
  "kernelspec": {
   "display_name": "Python 3",
   "language": "python",
   "name": "python3"
  },
  "language_info": {
   "codemirror_mode": {
    "name": "ipython",
    "version": 3
   },
   "file_extension": ".py",
   "mimetype": "text/x-python",
   "name": "python",
   "nbconvert_exporter": "python",
   "pygments_lexer": "ipython3",
   "version": "3.8.5"
  }
 },
 "nbformat": 4,
 "nbformat_minor": 4
}
