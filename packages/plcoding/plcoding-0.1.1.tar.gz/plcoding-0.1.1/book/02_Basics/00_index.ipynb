{
 "cells": [
  {
   "cell_type": "markdown",
   "id": "4bf2b02e",
   "metadata": {},
   "source": [
    "# 第二章：极化码基础"
   ]
  },
  {
   "cell_type": "markdown",
   "id": "b464cd7c",
   "metadata": {},
   "source": [
    "在本章中，我们会对一些关键概念和理论进行深入讨论。\n",
    "\n",
    "如果你完全理解这一章节的所有内容，就说明你已经入门极化码了。"
   ]
  }
 ],
 "metadata": {
  "language_info": {
   "name": "python"
  }
 },
 "nbformat": 4,
 "nbformat_minor": 5
}
