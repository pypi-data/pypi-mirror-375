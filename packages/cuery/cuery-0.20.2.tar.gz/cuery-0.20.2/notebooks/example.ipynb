{
 "cells": [
  {
   "cell_type": "code",
   "execution_count": 1,
   "id": "d88bdd64",
   "metadata": {},
   "outputs": [],
   "source": [
    "import importlib\n",
    "from pathlib import Path\n",
    "\n",
    "import pandas as pd\n",
    "from rich.console import Console\n",
    "\n",
    "c = Console(width=60)\n",
    "\n",
    "GDRIVE = Path(\"~/Google Drive/Shared drives/Solutions\").expanduser()"
   ]
  },
  {
   "cell_type": "markdown",
   "id": "af84fdfc",
   "metadata": {},
   "source": [
    "# Quick Start"
   ]
  },
  {
   "cell_type": "code",
   "execution_count": 4,
   "id": "5913c9ed",
   "metadata": {},
   "outputs": [
    {
     "name": "stderr",
     "output_type": "stream",
     "text": [
      "Gathering responses: 100%|██████████| 3/3 [00:01<00:00,  2.12it/s]"
     ]
    },
    {
     "name": "stdout",
     "output_type": "stream",
     "text": [
      "                                                text  \\\n",
      "0   Apple is headquartered in Cupertino, California.   \n",
      "1  Barack Obama was the 44th President of the Uni...   \n",
      "2      The Eiffel Tower is located in Paris, France.   \n",
      "\n",
      "                         entities_name                       entities_type  \n",
      "0       [Apple, Cupertino, California]  [Organization, Location, Location]  \n",
      "1  [Barack Obama, 44th, United States]         [Person, Ordinal, Location]  \n",
      "2        [Eiffel Tower, Paris, France]      [location, location, location]  \n"
     ]
    },
    {
     "name": "stderr",
     "output_type": "stream",
     "text": [
      "\n"
     ]
    }
   ],
   "source": [
    "from cuery import Prompt, Response, Task, set_api_keys\n",
    "\n",
    "set_api_keys()\n",
    "\n",
    "\n",
    "# Define response model\n",
    "class Entity(Response):\n",
    "    name: str\n",
    "    type: str\n",
    "\n",
    "\n",
    "class NamedEntities(Response):\n",
    "    entities: list[Entity]\n",
    "\n",
    "\n",
    "context = pd.DataFrame(\n",
    "    {\n",
    "        \"text\": [\n",
    "            \"Apple is headquartered in Cupertino, California.\",\n",
    "            \"Barack Obama was the 44th President of the United States.\",\n",
    "            \"The Eiffel Tower is located in Paris, France.\",\n",
    "        ]\n",
    "    }\n",
    ")\n",
    "\n",
    "prompt = Prompt.from_string(\"Extract named entities from the following text: {{text}}\")\n",
    "task = Task(prompt=prompt, response=NamedEntities)\n",
    "result = await task(context, model=\"openai/gpt-3.5-turbo\", n_concurrent=10)\n",
    "print(result.to_pandas(explode=False))"
   ]
  },
  {
   "cell_type": "code",
   "execution_count": 5,
   "id": "58de55c1",
   "metadata": {},
   "outputs": [
    {
     "name": "stdout",
     "output_type": "stream",
     "text": [
      "                                                text           name  \\\n",
      "0   Apple is headquartered in Cupertino, California.          Apple   \n",
      "1   Apple is headquartered in Cupertino, California.      Cupertino   \n",
      "2   Apple is headquartered in Cupertino, California.     California   \n",
      "3  Barack Obama was the 44th President of the Uni...   Barack Obama   \n",
      "4  Barack Obama was the 44th President of the Uni...           44th   \n",
      "5  Barack Obama was the 44th President of the Uni...  United States   \n",
      "6      The Eiffel Tower is located in Paris, France.   Eiffel Tower   \n",
      "7      The Eiffel Tower is located in Paris, France.          Paris   \n",
      "8      The Eiffel Tower is located in Paris, France.         France   \n",
      "\n",
      "           type  \n",
      "0  Organization  \n",
      "1      Location  \n",
      "2      Location  \n",
      "3        Person  \n",
      "4       Ordinal  \n",
      "5      Location  \n",
      "6      location  \n",
      "7      location  \n",
      "8      location  \n"
     ]
    }
   ],
   "source": [
    "print(result.to_pandas(explode=True))"
   ]
  },
  {
   "cell_type": "markdown",
   "id": "72c2a58e",
   "metadata": {},
   "source": [
    "# Prompts"
   ]
  },
  {
   "cell_type": "code",
   "execution_count": 6,
   "id": "f2d8adfc",
   "metadata": {},
   "outputs": [
    {
     "data": {
      "text/html": [
       "<pre style=\"white-space:pre;overflow-x:auto;line-height:normal;font-family:Menlo,'DejaVu Sans Mono',consolas,'Courier New',monospace\">╭─────────────────────────<span style=\"font-weight: bold\"> PROMPT </span>─────────────────────────╮\n",
       "│                                                          │\n",
       "│  Required: <span style=\"font-weight: bold\">[</span><span style=\"color: #008000; text-decoration-color: #008000\">'topic'</span><span style=\"font-weight: bold\">]</span>                                     │\n",
       "│                                                          │\n",
       "│ ╭──────────────────────── <span style=\"color: #008000; text-decoration-color: #008000; font-weight: bold\">USER</span> ────────────────────────╮ │\n",
       "│ │ <span style=\"color: #000000; text-decoration-color: #000000; background-color: #f0f0f0\">Explain </span><span style=\"color: #007020; text-decoration-color: #007020; background-color: #f0f0f0\">{{</span><span style=\"color: #000000; text-decoration-color: #000000; background-color: #f0f0f0\"> </span><span style=\"color: #bb60d5; text-decoration-color: #bb60d5; background-color: #f0f0f0\">topic</span><span style=\"color: #000000; text-decoration-color: #000000; background-color: #f0f0f0\"> </span><span style=\"color: #007020; text-decoration-color: #007020; background-color: #f0f0f0\">}}</span><span style=\"color: #000000; text-decoration-color: #000000; background-color: #f0f0f0\"> in simple terms.</span><span style=\"background-color: #f0f0f0\">                </span> │ │\n",
       "│ ╰──────────────────────────────────────────────────────╯ │\n",
       "╰──────────────────────────────────────────────────────────╯\n",
       "</pre>\n"
      ],
      "text/plain": [
       "╭─────────────────────────\u001b[1m PROMPT \u001b[0m─────────────────────────╮\n",
       "│                                                          │\n",
       "│  Required: \u001b[1m[\u001b[0m\u001b[32m'topic'\u001b[0m\u001b[1m]\u001b[0m                                     │\n",
       "│                                                          │\n",
       "│ ╭──────────────────────── \u001b[1;32mUSER\u001b[0m ────────────────────────╮ │\n",
       "│ │ \u001b[38;2;0;0;0;48;2;240;240;240mExplain \u001b[0m\u001b[38;2;0;112;32;48;2;240;240;240m{{\u001b[0m\u001b[38;2;0;0;0;48;2;240;240;240m \u001b[0m\u001b[38;2;187;96;213;48;2;240;240;240mtopic\u001b[0m\u001b[38;2;0;0;0;48;2;240;240;240m \u001b[0m\u001b[38;2;0;112;32;48;2;240;240;240m}}\u001b[0m\u001b[38;2;0;0;0;48;2;240;240;240m in simple terms.\u001b[0m\u001b[48;2;240;240;240m                \u001b[0m │ │\n",
       "│ ╰──────────────────────────────────────────────────────╯ │\n",
       "╰──────────────────────────────────────────────────────────╯\n"
      ]
     },
     "metadata": {},
     "output_type": "display_data"
    }
   ],
   "source": [
    "from cuery import Prompt\n",
    "\n",
    "prompt = Prompt.from_string(\"Explain {{ topic }} in simple terms.\")\n",
    "c.print(prompt)"
   ]
  },
  {
   "cell_type": "markdown",
   "id": "28434b21",
   "metadata": {},
   "source": [
    "# Context"
   ]
  },
  {
   "cell_type": "code",
   "execution_count": 7,
   "id": "13c3e2af",
   "metadata": {},
   "outputs": [
    {
     "data": {
      "text/plain": [
       "{'topic': 'Machine Learning', 'audience': 'beginners'}"
      ]
     },
     "execution_count": 7,
     "metadata": {},
     "output_type": "execute_result"
    }
   ],
   "source": [
    "from cuery.context import iter_context\n",
    "\n",
    "df = pd.DataFrame(\n",
    "    {\n",
    "        \"topic\": [\"Machine Learning\", \"Natural Language Processing\", \"Computer Vision\"],\n",
    "        \"audience\": [\"beginners\", \"developers\", \"researchers\"],\n",
    "    }\n",
    ")\n",
    "\n",
    "contexts, count = iter_context(df, required=[\"topic\", \"audience\"])\n",
    "next(contexts)"
   ]
  },
  {
   "cell_type": "markdown",
   "id": "d86cf715",
   "metadata": {},
   "source": [
    "# Response, Task"
   ]
  },
  {
   "cell_type": "code",
   "execution_count": 8,
   "id": "ca2fbcf8",
   "metadata": {},
   "outputs": [
    {
     "data": {
      "application/vnd.jupyter.widget-view+json": {
       "model_id": "4bd5fc60fdf54b8697ba70cd92d8868b",
       "version_major": 2,
       "version_minor": 0
      },
      "text/plain": [
       "Iterating context:   0%|          | 0/2 [00:00<?, ?it/s]"
      ]
     },
     "metadata": {},
     "output_type": "display_data"
    },
    {
     "name": "stdout",
     "output_type": "stream",
     "text": [
      "[MovieRecommendations(recommendations=[MovieRecommendation(title='The Matrix', year=1999, genre=['Action', 'Sci-Fi'], rating=8.7), MovieRecommendation(title='Ex Machina', year=2014, genre=['Drama', 'Sci-Fi'], rating=7.7), MovieRecommendation(title='Her', year=2013, genre=['Drama', 'Romance', 'Sci-Fi'], rating=8.0), MovieRecommendation(title='I, Robot', year=2004, genre=['Action', 'Sci-Fi', 'Thriller'], rating=7.1)]), MovieRecommendations(recommendations=[MovieRecommendation(title='Ex Machina', year=2014, genre=['Drama', 'Sci-Fi', 'Thriller'], rating=7.7), MovieRecommendation(title='Her', year=2013, genre=['Drama', 'Romance', 'Sci-Fi'], rating=8.0), MovieRecommendation(title='Blade Runner 2049', year=2017, genre=['Drama', 'Mystery', 'Sci-Fi'], rating=8.0)])]\n",
      "              topic     audience              title  year  \\\n",
      "0  Machine Learning    beginners         The Matrix  1999   \n",
      "1  Machine Learning    beginners         Ex Machina  2014   \n",
      "2  Machine Learning    beginners                Her  2013   \n",
      "3  Machine Learning    beginners           I, Robot  2004   \n",
      "4   Computer Vision  researchers         Ex Machina  2014   \n",
      "5   Computer Vision  researchers                Her  2013   \n",
      "6   Computer Vision  researchers  Blade Runner 2049  2017   \n",
      "\n",
      "                        genre  rating  \n",
      "0            [Action, Sci-Fi]     8.7  \n",
      "1             [Drama, Sci-Fi]     7.7  \n",
      "2    [Drama, Romance, Sci-Fi]     8.0  \n",
      "3  [Action, Sci-Fi, Thriller]     7.1  \n",
      "4   [Drama, Sci-Fi, Thriller]     7.7  \n",
      "5    [Drama, Romance, Sci-Fi]     8.0  \n",
      "6    [Drama, Mystery, Sci-Fi]     8.0  \n"
     ]
    }
   ],
   "source": [
    "from cuery import Field, Prompt, Response, Task\n",
    "\n",
    "\n",
    "class MovieRecommendation(Response):\n",
    "    title: str\n",
    "    year: int = Field(gt=1900, lt=2030)\n",
    "    genre: list[str]\n",
    "    rating: float = Field(ge=0, le=10)\n",
    "\n",
    "\n",
    "# Multi-output response model\n",
    "class MovieRecommendations(Response):\n",
    "    recommendations: list[MovieRecommendation]\n",
    "\n",
    "\n",
    "movie_prompt = Prompt.from_string(\n",
    "    \"Recommend a movie for {{ audience }} interested in {{ topic }}.\"\n",
    ")\n",
    "context = [\n",
    "    {\"topic\": \"Machine Learning\", \"audience\": \"beginners\"},\n",
    "    {\"topic\": \"Computer Vision\", \"audience\": \"researchers\"},\n",
    "]\n",
    "\n",
    "movie_task = Task(prompt=movie_prompt, response=MovieRecommendations)\n",
    "result = await movie_task(context)\n",
    "print(result)\n",
    "print(result.to_pandas())"
   ]
  },
  {
   "cell_type": "code",
   "execution_count": 9,
   "id": "ceecd6bd",
   "metadata": {},
   "outputs": [
    {
     "name": "stdout",
     "output_type": "stream",
     "text": [
      "   prompt  completion      cost\n",
      "0     147         106  0.000233\n",
      "1     147          90  0.000208\n"
     ]
    }
   ],
   "source": [
    "print(result.usage())"
   ]
  },
  {
   "cell_type": "code",
   "execution_count": 10,
   "id": "8e7f2143",
   "metadata": {},
   "outputs": [
    {
     "name": "stdout",
     "output_type": "stream",
     "text": [
      "gpt-3.5-turbo-0125\n",
      "default\n"
     ]
    }
   ],
   "source": [
    "from cuery import pprint\n",
    "\n",
    "print(result[0]._raw_response.model)\n",
    "print(result[0]._raw_response.service_tier)"
   ]
  },
  {
   "cell_type": "code",
   "execution_count": 12,
   "id": "ac75d8a6",
   "metadata": {},
   "outputs": [
    {
     "name": "stdout",
     "output_type": "stream",
     "text": [
      "Recommend a movie for beginners interested in Machine Learning.\n"
     ]
    }
   ],
   "source": [
    "print(movie_task.queries[0][\"messages\"][0][\"content\"])"
   ]
  },
  {
   "cell_type": "code",
   "execution_count": 13,
   "id": "8b3b9246",
   "metadata": {},
   "outputs": [
    {
     "data": {
      "text/html": [
       "<pre style=\"white-space:pre;overflow-x:auto;line-height:normal;font-family:Menlo,'DejaVu Sans Mono',consolas,'Courier New',monospace\">╭─────────────<span style=\"font-weight: bold\"> RESPONSE: MovieRecommendations </span>─────────────╮\n",
       "│                                                          │\n",
       "│ ╭─<span style=\"font-weight: bold\"> recommendations: list[__main__.MovieRecommendation]</span>─╮ │\n",
       "│ │                                                      │ │\n",
       "│ │  <span style=\"font-weight: bold\">{</span><span style=\"color: #008000; text-decoration-color: #008000\">'required'</span>: <span style=\"color: #00ff00; text-decoration-color: #00ff00; font-style: italic\">True</span><span style=\"font-weight: bold\">}</span>                                  │ │\n",
       "│ │                                                      │ │\n",
       "│ ╰──────────────────────────────────────────────────────╯ │\n",
       "│                                                          │\n",
       "│  ╭─────────<span style=\"font-weight: bold\"> RESPONSE: MovieRecommendation </span>──────────╮    │\n",
       "│  │                                                  │    │\n",
       "│  │ ╭─<span style=\"font-weight: bold\"> title: str </span>─────────────────────────────────╮ │    │\n",
       "│  │ │                                              │ │    │\n",
       "│  │ │  <span style=\"font-weight: bold\">{</span><span style=\"color: #008000; text-decoration-color: #008000\">'required'</span>: <span style=\"color: #00ff00; text-decoration-color: #00ff00; font-style: italic\">True</span><span style=\"font-weight: bold\">}</span>                          │ │    │\n",
       "│  │ │                                              │ │    │\n",
       "│  │ ╰──────────────────────────────────────────────╯ │    │\n",
       "│  │ ╭─<span style=\"font-weight: bold\"> year: int </span>──────────────────────────────────╮ │    │\n",
       "│  │ │                                              │ │    │\n",
       "│  │ │  <span style=\"font-weight: bold\">{</span>                                           │ │    │\n",
       "│  │ │      <span style=\"color: #008000; text-decoration-color: #008000\">'required'</span>: <span style=\"color: #00ff00; text-decoration-color: #00ff00; font-style: italic\">True</span>,                       │ │    │\n",
       "│  │ │      <span style=\"color: #008000; text-decoration-color: #008000\">'metadata'</span>: <span style=\"font-weight: bold\">[</span>                           │ │    │\n",
       "│  │ │          <span style=\"color: #800080; text-decoration-color: #800080; font-weight: bold\">Gt</span><span style=\"font-weight: bold\">(</span><span style=\"color: #808000; text-decoration-color: #808000\">gt</span>=<span style=\"color: #008080; text-decoration-color: #008080; font-weight: bold\">1900</span><span style=\"font-weight: bold\">)</span>,                        │ │    │\n",
       "│  │ │          <span style=\"color: #800080; text-decoration-color: #800080; font-weight: bold\">Lt</span><span style=\"font-weight: bold\">(</span><span style=\"color: #808000; text-decoration-color: #808000\">lt</span>=<span style=\"color: #008080; text-decoration-color: #008080; font-weight: bold\">2030</span><span style=\"font-weight: bold\">)</span>                         │ │    │\n",
       "│  │ │      <span style=\"font-weight: bold\">]</span>                                       │ │    │\n",
       "│  │ │  <span style=\"font-weight: bold\">}</span>                                           │ │    │\n",
       "│  │ │                                              │ │    │\n",
       "│  │ ╰──────────────────────────────────────────────╯ │    │\n",
       "│  │ ╭─<span style=\"font-weight: bold\"> genre: list[str] </span>───────────────────────────╮ │    │\n",
       "│  │ │                                              │ │    │\n",
       "│  │ │  <span style=\"font-weight: bold\">{</span><span style=\"color: #008000; text-decoration-color: #008000\">'required'</span>: <span style=\"color: #00ff00; text-decoration-color: #00ff00; font-style: italic\">True</span><span style=\"font-weight: bold\">}</span>                          │ │    │\n",
       "│  │ │                                              │ │    │\n",
       "│  │ ╰──────────────────────────────────────────────╯ │    │\n",
       "│  │ ╭─<span style=\"font-weight: bold\"> rating: float </span>──────────────────────────────╮ │    │\n",
       "│  │ │                                              │ │    │\n",
       "│  │ │  <span style=\"font-weight: bold\">{</span>                                           │ │    │\n",
       "│  │ │      <span style=\"color: #008000; text-decoration-color: #008000\">'required'</span>: <span style=\"color: #00ff00; text-decoration-color: #00ff00; font-style: italic\">True</span>,                       │ │    │\n",
       "│  │ │      <span style=\"color: #008000; text-decoration-color: #008000\">'metadata'</span>: <span style=\"font-weight: bold\">[</span><span style=\"color: #800080; text-decoration-color: #800080; font-weight: bold\">Ge</span><span style=\"font-weight: bold\">(</span><span style=\"color: #808000; text-decoration-color: #808000\">ge</span>=<span style=\"color: #008080; text-decoration-color: #008080; font-weight: bold\">0</span><span style=\"font-weight: bold\">)</span>, <span style=\"color: #800080; text-decoration-color: #800080; font-weight: bold\">Le</span><span style=\"font-weight: bold\">(</span><span style=\"color: #808000; text-decoration-color: #808000\">le</span>=<span style=\"color: #008080; text-decoration-color: #008080; font-weight: bold\">10</span><span style=\"font-weight: bold\">)]</span>       │ │    │\n",
       "│  │ │  <span style=\"font-weight: bold\">}</span>                                           │ │    │\n",
       "│  │ │                                              │ │    │\n",
       "│  │ ╰──────────────────────────────────────────────╯ │    │\n",
       "│  │                                                  │    │\n",
       "│  ╰──────────────────────────────────────────────────╯    │\n",
       "│                                                          │\n",
       "│                                                          │\n",
       "╰──────────────────────────────────────────────────────────╯\n",
       "</pre>\n"
      ],
      "text/plain": [
       "╭─────────────\u001b[1m RESPONSE: MovieRecommendations \u001b[0m─────────────╮\n",
       "│                                                          │\n",
       "│ ╭─\u001b[1m recommendations: list[__main__.MovieRecommendation]\u001b[0m─╮ │\n",
       "│ │                                                      │ │\n",
       "│ │  \u001b[1m{\u001b[0m\u001b[32m'required'\u001b[0m: \u001b[3;92mTrue\u001b[0m\u001b[1m}\u001b[0m                                  │ │\n",
       "│ │                                                      │ │\n",
       "│ ╰──────────────────────────────────────────────────────╯ │\n",
       "│                                                          │\n",
       "│  ╭─────────\u001b[1m RESPONSE: MovieRecommendation \u001b[0m──────────╮    │\n",
       "│  │                                                  │    │\n",
       "│  │ ╭─\u001b[1m title: str \u001b[0m─────────────────────────────────╮ │    │\n",
       "│  │ │                                              │ │    │\n",
       "│  │ │  \u001b[1m{\u001b[0m\u001b[32m'required'\u001b[0m: \u001b[3;92mTrue\u001b[0m\u001b[1m}\u001b[0m                          │ │    │\n",
       "│  │ │                                              │ │    │\n",
       "│  │ ╰──────────────────────────────────────────────╯ │    │\n",
       "│  │ ╭─\u001b[1m year: int \u001b[0m──────────────────────────────────╮ │    │\n",
       "│  │ │                                              │ │    │\n",
       "│  │ │  \u001b[1m{\u001b[0m                                           │ │    │\n",
       "│  │ │      \u001b[32m'required'\u001b[0m: \u001b[3;92mTrue\u001b[0m,                       │ │    │\n",
       "│  │ │      \u001b[32m'metadata'\u001b[0m: \u001b[1m[\u001b[0m                           │ │    │\n",
       "│  │ │          \u001b[1;35mGt\u001b[0m\u001b[1m(\u001b[0m\u001b[33mgt\u001b[0m=\u001b[1;36m1900\u001b[0m\u001b[1m)\u001b[0m,                        │ │    │\n",
       "│  │ │          \u001b[1;35mLt\u001b[0m\u001b[1m(\u001b[0m\u001b[33mlt\u001b[0m=\u001b[1;36m2030\u001b[0m\u001b[1m)\u001b[0m                         │ │    │\n",
       "│  │ │      \u001b[1m]\u001b[0m                                       │ │    │\n",
       "│  │ │  \u001b[1m}\u001b[0m                                           │ │    │\n",
       "│  │ │                                              │ │    │\n",
       "│  │ ╰──────────────────────────────────────────────╯ │    │\n",
       "│  │ ╭─\u001b[1m genre: list[str] \u001b[0m───────────────────────────╮ │    │\n",
       "│  │ │                                              │ │    │\n",
       "│  │ │  \u001b[1m{\u001b[0m\u001b[32m'required'\u001b[0m: \u001b[3;92mTrue\u001b[0m\u001b[1m}\u001b[0m                          │ │    │\n",
       "│  │ │                                              │ │    │\n",
       "│  │ ╰──────────────────────────────────────────────╯ │    │\n",
       "│  │ ╭─\u001b[1m rating: float \u001b[0m──────────────────────────────╮ │    │\n",
       "│  │ │                                              │ │    │\n",
       "│  │ │  \u001b[1m{\u001b[0m                                           │ │    │\n",
       "│  │ │      \u001b[32m'required'\u001b[0m: \u001b[3;92mTrue\u001b[0m,                       │ │    │\n",
       "│  │ │      \u001b[32m'metadata'\u001b[0m: \u001b[1m[\u001b[0m\u001b[1;35mGe\u001b[0m\u001b[1m(\u001b[0m\u001b[33mge\u001b[0m=\u001b[1;36m0\u001b[0m\u001b[1m)\u001b[0m, \u001b[1;35mLe\u001b[0m\u001b[1m(\u001b[0m\u001b[33mle\u001b[0m=\u001b[1;36m10\u001b[0m\u001b[1m)\u001b[0m\u001b[1m]\u001b[0m       │ │    │\n",
       "│  │ │  \u001b[1m}\u001b[0m                                           │ │    │\n",
       "│  │ │                                              │ │    │\n",
       "│  │ ╰──────────────────────────────────────────────╯ │    │\n",
       "│  │                                                  │    │\n",
       "│  ╰──────────────────────────────────────────────────╯    │\n",
       "│                                                          │\n",
       "│                                                          │\n",
       "╰──────────────────────────────────────────────────────────╯\n"
      ]
     },
     "metadata": {},
     "output_type": "display_data"
    }
   ],
   "source": [
    "c.print(result[0])"
   ]
  },
  {
   "cell_type": "markdown",
   "id": "149f929c",
   "metadata": {},
   "source": [
    "# Chain"
   ]
  },
  {
   "cell_type": "code",
   "execution_count": 15,
   "id": "0ec0ed27",
   "metadata": {},
   "outputs": [
    {
     "data": {
      "text/html": [
       "<pre style=\"white-space:pre;overflow-x:auto;line-height:normal;font-family:Menlo,'DejaVu Sans Mono',consolas,'Courier New',monospace\"><span style=\"color: #7fbfbf; text-decoration-color: #7fbfbf\">[08/18/25 15:24:36] </span><span style=\"color: #000080; text-decoration-color: #000080\">INFO    </span> <span style=\"font-weight: bold\">[</span><span style=\"color: #008080; text-decoration-color: #008080; font-weight: bold\">1</span>/<span style=\"color: #008080; text-decoration-color: #008080; font-weight: bold\">2</span><span style=\"font-weight: bold\">]</span> Running task <span style=\"color: #008000; text-decoration-color: #008000\">'MovieRecommendations'</span>                                             \n",
       "</pre>\n"
      ],
      "text/plain": [
       "\u001b[2;36m[08/18/25 15:24:36]\u001b[0m\u001b[2;36m \u001b[0m\u001b[34mINFO    \u001b[0m \u001b[1m[\u001b[0m\u001b[1;36m1\u001b[0m/\u001b[1;36m2\u001b[0m\u001b[1m]\u001b[0m Running task \u001b[32m'MovieRecommendations'\u001b[0m                                             \n"
      ]
     },
     "metadata": {},
     "output_type": "display_data"
    },
    {
     "name": "stderr",
     "output_type": "stream",
     "text": [
      "Gathering responses: 100%|██████████| 2/2 [00:02<00:00,  1.02s/it]\n"
     ]
    },
    {
     "data": {
      "text/html": [
       "<pre style=\"white-space:pre;overflow-x:auto;line-height:normal;font-family:Menlo,'DejaVu Sans Mono',consolas,'Courier New',monospace\"><span style=\"color: #7fbfbf; text-decoration-color: #7fbfbf\">[08/18/25 15:24:38] </span><span style=\"color: #000080; text-decoration-color: #000080\">INFO    </span> <span style=\"font-weight: bold\">[</span><span style=\"color: #008080; text-decoration-color: #008080; font-weight: bold\">2</span>/<span style=\"color: #008080; text-decoration-color: #008080; font-weight: bold\">2</span><span style=\"font-weight: bold\">]</span> Running task <span style=\"color: #008000; text-decoration-color: #008000\">'Rating'</span>                                                           \n",
       "</pre>\n"
      ],
      "text/plain": [
       "\u001b[2;36m[08/18/25 15:24:38]\u001b[0m\u001b[2;36m \u001b[0m\u001b[34mINFO    \u001b[0m \u001b[1m[\u001b[0m\u001b[1;36m2\u001b[0m/\u001b[1;36m2\u001b[0m\u001b[1m]\u001b[0m Running task \u001b[32m'Rating'\u001b[0m                                                           \n"
      ]
     },
     "metadata": {},
     "output_type": "display_data"
    },
    {
     "name": "stderr",
     "output_type": "stream",
     "text": [
      "Gathering responses: 100%|██████████| 6/6 [00:01<00:00,  4.37it/s]\n"
     ]
    },
    {
     "data": {
      "application/vnd.microsoft.datawrangler.viewer.v0+json": {
       "columns": [
        {
         "name": "index",
         "rawType": "int64",
         "type": "integer"
        },
        {
         "name": "topic",
         "rawType": "object",
         "type": "string"
        },
        {
         "name": "audience",
         "rawType": "object",
         "type": "string"
        },
        {
         "name": "title",
         "rawType": "object",
         "type": "string"
        },
        {
         "name": "year",
         "rawType": "int64",
         "type": "integer"
        },
        {
         "name": "genre",
         "rawType": "object",
         "type": "unknown"
        },
        {
         "name": "rating",
         "rawType": "float64",
         "type": "float"
        },
        {
         "name": "pg_category",
         "rawType": "object",
         "type": "string"
        },
        {
         "name": "pg_reason",
         "rawType": "object",
         "type": "string"
        }
       ],
       "ref": "9a0adea3-343e-40df-b5a4-6152e9ab719d",
       "rows": [
        [
         "0",
         "Machine Learning",
         "beginners",
         "The Imitation Game",
         "2014",
         "['Biography', 'Drama', 'Thriller']",
         "8.0",
         "PG-13",
         "for some sexual references, mature thematic material and historical smoking"
        ],
        [
         "1",
         "Machine Learning",
         "beginners",
         "Ex Machina",
         "2014",
         "['Drama', 'Mystery', 'Sci-Fi']",
         "7.7",
         "R",
         "Ex Machina contains strong violence, language, and some sexual content."
        ],
        [
         "2",
         "Machine Learning",
         "beginners",
         "Ex Machina",
         "2014",
         "['Drama', 'Mystery', 'Sci-Fi']",
         "7.7",
         "R",
         "Ex Machina contains strong language, violence, and sexual content."
        ],
        [
         "3",
         "Machine Learning",
         "beginners",
         "Her",
         "2013",
         "['Drama', 'Romance', 'Sci-Fi']",
         "8.0",
         "R",
         "Language, sexual content and brief graphic nudity"
        ],
        [
         "4",
         "Machine Learning",
         "beginners",
         "Her",
         "2013",
         "['Drama', 'Romance', 'Sci-Fi']",
         "8.0",
         "R",
         "For language, sexual content and brief nudity."
        ],
        [
         "5",
         "Computer Vision",
         "researchers",
         "Blade Runner",
         "1982",
         "['Sci-Fi', 'Thriller']",
         "8.1",
         "PG",
         "violence and brief nudity"
        ],
        [
         "6",
         "Computer Vision",
         "researchers",
         "Ex Machina",
         "2014",
         "['Drama', 'Sci-Fi']",
         "7.7",
         "R",
         "Ex Machina contains strong violence, language, and some sexual content."
        ],
        [
         "7",
         "Computer Vision",
         "researchers",
         "Ex Machina",
         "2014",
         "['Drama', 'Sci-Fi']",
         "7.7",
         "R",
         "Ex Machina contains strong language, violence, and sexual content."
        ],
        [
         "8",
         "Computer Vision",
         "researchers",
         "Her",
         "2013",
         "['Drama', 'Romance', 'Sci-Fi']",
         "8.0",
         "R",
         "Language, sexual content and brief graphic nudity"
        ],
        [
         "9",
         "Computer Vision",
         "researchers",
         "Her",
         "2013",
         "['Drama', 'Romance', 'Sci-Fi']",
         "8.0",
         "R",
         "For language, sexual content and brief nudity."
        ]
       ],
       "shape": {
        "columns": 8,
        "rows": 10
       }
      },
      "text/html": [
       "<div>\n",
       "<style scoped>\n",
       "    .dataframe tbody tr th:only-of-type {\n",
       "        vertical-align: middle;\n",
       "    }\n",
       "\n",
       "    .dataframe tbody tr th {\n",
       "        vertical-align: top;\n",
       "    }\n",
       "\n",
       "    .dataframe thead th {\n",
       "        text-align: right;\n",
       "    }\n",
       "</style>\n",
       "<table border=\"1\" class=\"dataframe\">\n",
       "  <thead>\n",
       "    <tr style=\"text-align: right;\">\n",
       "      <th></th>\n",
       "      <th>topic</th>\n",
       "      <th>audience</th>\n",
       "      <th>title</th>\n",
       "      <th>year</th>\n",
       "      <th>genre</th>\n",
       "      <th>rating</th>\n",
       "      <th>pg_category</th>\n",
       "      <th>pg_reason</th>\n",
       "    </tr>\n",
       "  </thead>\n",
       "  <tbody>\n",
       "    <tr>\n",
       "      <th>0</th>\n",
       "      <td>Machine Learning</td>\n",
       "      <td>beginners</td>\n",
       "      <td>The Imitation Game</td>\n",
       "      <td>2014</td>\n",
       "      <td>[Biography, Drama, Thriller]</td>\n",
       "      <td>8.0</td>\n",
       "      <td>PG-13</td>\n",
       "      <td>for some sexual references, mature thematic ma...</td>\n",
       "    </tr>\n",
       "    <tr>\n",
       "      <th>1</th>\n",
       "      <td>Machine Learning</td>\n",
       "      <td>beginners</td>\n",
       "      <td>Ex Machina</td>\n",
       "      <td>2014</td>\n",
       "      <td>[Drama, Mystery, Sci-Fi]</td>\n",
       "      <td>7.7</td>\n",
       "      <td>R</td>\n",
       "      <td>Ex Machina contains strong violence, language,...</td>\n",
       "    </tr>\n",
       "    <tr>\n",
       "      <th>2</th>\n",
       "      <td>Machine Learning</td>\n",
       "      <td>beginners</td>\n",
       "      <td>Ex Machina</td>\n",
       "      <td>2014</td>\n",
       "      <td>[Drama, Mystery, Sci-Fi]</td>\n",
       "      <td>7.7</td>\n",
       "      <td>R</td>\n",
       "      <td>Ex Machina contains strong language, violence,...</td>\n",
       "    </tr>\n",
       "    <tr>\n",
       "      <th>3</th>\n",
       "      <td>Machine Learning</td>\n",
       "      <td>beginners</td>\n",
       "      <td>Her</td>\n",
       "      <td>2013</td>\n",
       "      <td>[Drama, Romance, Sci-Fi]</td>\n",
       "      <td>8.0</td>\n",
       "      <td>R</td>\n",
       "      <td>Language, sexual content and brief graphic nudity</td>\n",
       "    </tr>\n",
       "    <tr>\n",
       "      <th>4</th>\n",
       "      <td>Machine Learning</td>\n",
       "      <td>beginners</td>\n",
       "      <td>Her</td>\n",
       "      <td>2013</td>\n",
       "      <td>[Drama, Romance, Sci-Fi]</td>\n",
       "      <td>8.0</td>\n",
       "      <td>R</td>\n",
       "      <td>For language, sexual content and brief nudity.</td>\n",
       "    </tr>\n",
       "    <tr>\n",
       "      <th>5</th>\n",
       "      <td>Computer Vision</td>\n",
       "      <td>researchers</td>\n",
       "      <td>Blade Runner</td>\n",
       "      <td>1982</td>\n",
       "      <td>[Sci-Fi, Thriller]</td>\n",
       "      <td>8.1</td>\n",
       "      <td>PG</td>\n",
       "      <td>violence and brief nudity</td>\n",
       "    </tr>\n",
       "    <tr>\n",
       "      <th>6</th>\n",
       "      <td>Computer Vision</td>\n",
       "      <td>researchers</td>\n",
       "      <td>Ex Machina</td>\n",
       "      <td>2014</td>\n",
       "      <td>[Drama, Sci-Fi]</td>\n",
       "      <td>7.7</td>\n",
       "      <td>R</td>\n",
       "      <td>Ex Machina contains strong violence, language,...</td>\n",
       "    </tr>\n",
       "    <tr>\n",
       "      <th>7</th>\n",
       "      <td>Computer Vision</td>\n",
       "      <td>researchers</td>\n",
       "      <td>Ex Machina</td>\n",
       "      <td>2014</td>\n",
       "      <td>[Drama, Sci-Fi]</td>\n",
       "      <td>7.7</td>\n",
       "      <td>R</td>\n",
       "      <td>Ex Machina contains strong language, violence,...</td>\n",
       "    </tr>\n",
       "    <tr>\n",
       "      <th>8</th>\n",
       "      <td>Computer Vision</td>\n",
       "      <td>researchers</td>\n",
       "      <td>Her</td>\n",
       "      <td>2013</td>\n",
       "      <td>[Drama, Romance, Sci-Fi]</td>\n",
       "      <td>8.0</td>\n",
       "      <td>R</td>\n",
       "      <td>Language, sexual content and brief graphic nudity</td>\n",
       "    </tr>\n",
       "    <tr>\n",
       "      <th>9</th>\n",
       "      <td>Computer Vision</td>\n",
       "      <td>researchers</td>\n",
       "      <td>Her</td>\n",
       "      <td>2013</td>\n",
       "      <td>[Drama, Romance, Sci-Fi]</td>\n",
       "      <td>8.0</td>\n",
       "      <td>R</td>\n",
       "      <td>For language, sexual content and brief nudity.</td>\n",
       "    </tr>\n",
       "  </tbody>\n",
       "</table>\n",
       "</div>"
      ],
      "text/plain": [
       "              topic     audience               title  year  \\\n",
       "0  Machine Learning    beginners  The Imitation Game  2014   \n",
       "1  Machine Learning    beginners          Ex Machina  2014   \n",
       "2  Machine Learning    beginners          Ex Machina  2014   \n",
       "3  Machine Learning    beginners                 Her  2013   \n",
       "4  Machine Learning    beginners                 Her  2013   \n",
       "5   Computer Vision  researchers        Blade Runner  1982   \n",
       "6   Computer Vision  researchers          Ex Machina  2014   \n",
       "7   Computer Vision  researchers          Ex Machina  2014   \n",
       "8   Computer Vision  researchers                 Her  2013   \n",
       "9   Computer Vision  researchers                 Her  2013   \n",
       "\n",
       "                          genre  rating pg_category  \\\n",
       "0  [Biography, Drama, Thriller]     8.0       PG-13   \n",
       "1      [Drama, Mystery, Sci-Fi]     7.7           R   \n",
       "2      [Drama, Mystery, Sci-Fi]     7.7           R   \n",
       "3      [Drama, Romance, Sci-Fi]     8.0           R   \n",
       "4      [Drama, Romance, Sci-Fi]     8.0           R   \n",
       "5            [Sci-Fi, Thriller]     8.1          PG   \n",
       "6               [Drama, Sci-Fi]     7.7           R   \n",
       "7               [Drama, Sci-Fi]     7.7           R   \n",
       "8      [Drama, Romance, Sci-Fi]     8.0           R   \n",
       "9      [Drama, Romance, Sci-Fi]     8.0           R   \n",
       "\n",
       "                                           pg_reason  \n",
       "0  for some sexual references, mature thematic ma...  \n",
       "1  Ex Machina contains strong violence, language,...  \n",
       "2  Ex Machina contains strong language, violence,...  \n",
       "3  Language, sexual content and brief graphic nudity  \n",
       "4     For language, sexual content and brief nudity.  \n",
       "5                          violence and brief nudity  \n",
       "6  Ex Machina contains strong violence, language,...  \n",
       "7  Ex Machina contains strong language, violence,...  \n",
       "8  Language, sexual content and brief graphic nudity  \n",
       "9     For language, sexual content and brief nudity.  "
      ]
     },
     "execution_count": 15,
     "metadata": {},
     "output_type": "execute_result"
    }
   ],
   "source": [
    "from typing import Literal\n",
    "\n",
    "from cuery import Chain, Task\n",
    "\n",
    "# Reuse example from above\n",
    "movies = Task(prompt=movie_prompt, response=MovieRecommendations)\n",
    "\n",
    "\n",
    "# Add PG rating\n",
    "class Rating(Response):\n",
    "    pg_category: Literal[\"G\", \"PG\", \"PG-13\", \"R\", \"NC-17\"]\n",
    "    \"\"\"PG rating of the movie.\"\"\"\n",
    "    pg_reason: str\n",
    "    \"\"\"Reason for the rating.\"\"\"\n",
    "\n",
    "\n",
    "rating_prompt = Prompt.from_string(\"What is the PG rating for {{ title }}?\")\n",
    "rating_task = Task(prompt=rating_prompt, response=Rating)\n",
    "\n",
    "# Create a chain of tasks\n",
    "chain = Chain(movie_task, rating_task)\n",
    "result = await chain(context, model=\"openai/gpt-3.5-turbo\", n_concurrent=20)\n",
    "result"
   ]
  },
  {
   "cell_type": "code",
   "execution_count": 16,
   "id": "77efea6e",
   "metadata": {},
   "outputs": [
    {
     "name": "stdout",
     "output_type": "stream",
     "text": [
      "              topic     audience               title  year  \\\n",
      "0  Machine Learning    beginners  The Imitation Game  2014   \n",
      "1  Machine Learning    beginners          Ex Machina  2014   \n",
      "2  Machine Learning    beginners          Ex Machina  2014   \n",
      "3  Machine Learning    beginners                 Her  2013   \n",
      "4  Machine Learning    beginners                 Her  2013   \n",
      "5   Computer Vision  researchers        Blade Runner  1982   \n",
      "6   Computer Vision  researchers          Ex Machina  2014   \n",
      "7   Computer Vision  researchers          Ex Machina  2014   \n",
      "8   Computer Vision  researchers                 Her  2013   \n",
      "9   Computer Vision  researchers                 Her  2013   \n",
      "\n",
      "                          genre  rating pg_category  \\\n",
      "0  [Biography, Drama, Thriller]     8.0       PG-13   \n",
      "1      [Drama, Mystery, Sci-Fi]     7.7           R   \n",
      "2      [Drama, Mystery, Sci-Fi]     7.7           R   \n",
      "3      [Drama, Romance, Sci-Fi]     8.0           R   \n",
      "4      [Drama, Romance, Sci-Fi]     8.0           R   \n",
      "5            [Sci-Fi, Thriller]     8.1          PG   \n",
      "6               [Drama, Sci-Fi]     7.7           R   \n",
      "7               [Drama, Sci-Fi]     7.7           R   \n",
      "8      [Drama, Romance, Sci-Fi]     8.0           R   \n",
      "9      [Drama, Romance, Sci-Fi]     8.0           R   \n",
      "\n",
      "                                           pg_reason  \n",
      "0  for some sexual references, mature thematic ma...  \n",
      "1  Ex Machina contains strong violence, language,...  \n",
      "2  Ex Machina contains strong language, violence,...  \n",
      "3  Language, sexual content and brief graphic nudity  \n",
      "4     For language, sexual content and brief nudity.  \n",
      "5                          violence and brief nudity  \n",
      "6  Ex Machina contains strong violence, language,...  \n",
      "7  Ex Machina contains strong language, violence,...  \n",
      "8  Language, sexual content and brief graphic nudity  \n",
      "9     For language, sexual content and brief nudity.  \n"
     ]
    }
   ],
   "source": [
    "print(result)"
   ]
  },
  {
   "cell_type": "markdown",
   "id": "e64e56e0",
   "metadata": {},
   "source": [
    "# Templates"
   ]
  },
  {
   "cell_type": "code",
   "execution_count": null,
   "id": "4920838d",
   "metadata": {},
   "outputs": [],
   "source": [
    "from cuery import templates\n",
    "from cuery.utils import render_template\n",
    "\n",
    "prompt = \"\"\"\n",
    "Analyze the following record and provide a summary in Markdown format.\n",
    "Make sure to include the name, age, city, and interests.\n",
    "\"\"\"\n",
    "\n",
    "context = {\n",
    "    \"record\": {\n",
    "        \"name\": \"John Doe\",\n",
    "        \"age\": 30,\n",
    "        \"city\": \"New York\",\n",
    "        \"interests\": [\"reading\", \"traveling\", \"coding\"],\n",
    "    }\n",
    "}\n"
   ]
  },
  {
   "cell_type": "code",
   "execution_count": 4,
   "id": "c22c65b9",
   "metadata": {},
   "outputs": [
    {
     "name": "stdout",
     "output_type": "stream",
     "text": [
      "\n",
      "Analyze the following record and provide a summary in Markdown format.\n",
      "Make sure to include the name, age, city, and interests.\n",
      "\n",
      "{\n",
      "  \"age\": 30,\n",
      "  \"city\": \"New York\",\n",
      "  \"interests\": [\n",
      "    \"reading\",\n",
      "    \"traveling\",\n",
      "    \"coding\"\n",
      "  ],\n",
      "  \"name\": \"John Doe\"\n",
      "}\n",
      "\n",
      "\n",
      "Analyze the following record and provide a summary in Markdown format.\n",
      "Make sure to include the name, age, city, and interests.\n",
      "\n",
      "name: \"John Doe\"\n",
      "\n",
      "age: 30\n",
      "\n",
      "city: \"New York\"\n",
      "\n",
      "interests: [\n",
      "  \"reading\",\n",
      "  \"traveling\",\n",
      "  \"coding\"\n",
      "]\n",
      "\n",
      "\n",
      "\n",
      "\n",
      "Analyze the following record and provide a summary in Markdown format.\n",
      "Make sure to include the name, age, city, and interests.\n",
      "\n",
      "## name\n",
      "\n",
      "John Doe\n",
      "\n",
      "\n",
      "## age\n",
      "\n",
      "30\n",
      "\n",
      "\n",
      "## city\n",
      "\n",
      "New York\n",
      "\n",
      "\n",
      "## interests\n",
      "\n",
      "- reading\n",
      "\n",
      "- traveling\n",
      "\n",
      "- coding\n",
      "\n",
      "\n",
      "\n",
      "\n",
      "\n",
      "\n"
     ]
    }
   ],
   "source": [
    "for mode in [\"json\", \"text\", \"md\"]:\n",
    "    tpl = templates.prompt_with_template(prompt, template=f\"record_to_{mode}\")\n",
    "    print(render_template(tpl, **context), end=\"\\n\\n\")"
   ]
  }
 ],
 "metadata": {
  "kernelspec": {
   "display_name": "cuery (3.11.13)",
   "language": "python",
   "name": "python3"
  },
  "language_info": {
   "codemirror_mode": {
    "name": "ipython",
    "version": 3
   },
   "file_extension": ".py",
   "mimetype": "text/x-python",
   "name": "python",
   "nbconvert_exporter": "python",
   "pygments_lexer": "ipython3",
   "version": "3.11.13"
  }
 },
 "nbformat": 4,
 "nbformat_minor": 5
}
