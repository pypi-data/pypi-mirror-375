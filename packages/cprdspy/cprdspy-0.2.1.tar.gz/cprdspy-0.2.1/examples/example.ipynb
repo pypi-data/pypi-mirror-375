{
 "cells": [
  {
   "cell_type": "code",
   "execution_count": 22,
   "id": "4cb85dc7",
   "metadata": {},
   "outputs": [],
   "source": [
    "from cprdspy.CPR_plotly.Lines.line_config import *\n",
    "from cprdspy.CPR_plotly.Spirals.spiral_config import *\n",
    "from cprdspy.CPR_plotly.Dots.dot_config import *\n",
    "from cprdspy.CPR_plotly.Circles.circle_config import *\n",
    "from cprdspy.CPR_plotly.Waves.wave_config import *\n",
    "from cprdspy.CPR_plotly.Stars.star_config import *\n",
    "from cprdspy.CPR_plotly.Flowers.flower_config import *\n",
    "from cprdspy.CPR_plotly.Arcs.arc_config import *"
   ]
  },
  {
   "cell_type": "code",
   "execution_count": null,
   "id": "1b00cad9",
   "metadata": {},
   "outputs": [],
   "source": [
    "wave_circle_geometric(A=2, F=6, P=12, color=\"red\", theta=0, R=1, direction=\"both\", width=2, opacity=0.5, num_points=1000, show_center=True)"
   ]
  },
  {
   "cell_type": "code",
   "execution_count": null,
   "id": "4847523e",
   "metadata": {},
   "outputs": [],
   "source": [
    "flowers_flower_by_petal_multi((0,0),1,1,6,np.sqrt(1.5),6,12,0,'#0f0')"
   ]
  },
  {
   "cell_type": "code",
   "execution_count": null,
   "id": "b158697d",
   "metadata": {},
   "outputs": [],
   "source": [
    "wave_circle_geometric(A=1, F=2, P=12, color=\"blue\", theta=0, R=1, direction=\"both\", width=2, opacity=0.5, num_points=1000, show_center=True)"
   ]
  },
  {
   "cell_type": "code",
   "execution_count": null,
   "id": "82d15482",
   "metadata": {},
   "outputs": [],
   "source": [
    "flowers_flower_by_petal_multi((0,0),1,1,11,np.sqrt(1.26),6,12,0,'#f00')"
   ]
  },
  {
   "cell_type": "code",
   "execution_count": null,
   "id": "7c1ac43d",
   "metadata": {},
   "outputs": [],
   "source": []
  }
 ],
 "metadata": {
  "kernelspec": {
   "display_name": ".venv",
   "language": "python",
   "name": "python3"
  },
  "language_info": {
   "codemirror_mode": {
    "name": "ipython",
    "version": 3
   },
   "file_extension": ".py",
   "mimetype": "text/x-python",
   "name": "python",
   "nbconvert_exporter": "python",
   "pygments_lexer": "ipython3",
   "version": "3.13.2"
  }
 },
 "nbformat": 4,
 "nbformat_minor": 5
}
