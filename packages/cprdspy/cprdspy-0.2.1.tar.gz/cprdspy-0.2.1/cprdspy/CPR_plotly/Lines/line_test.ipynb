{
 "cells": [
  {
   "cell_type": "code",
   "execution_count": null,
   "id": "7d6af29d",
   "metadata": {},
   "outputs": [],
   "source": [
    "from line_config import *\n",
    "import numpy as np"
   ]
  },
  {
   "cell_type": "code",
   "execution_count": null,
   "id": "f81f9aea",
   "metadata": {},
   "outputs": [],
   "source": [
    "multi_swastika(\n",
    "    n=7,\n",
    "    m=6,\n",
    "    radius=1,\n",
    "    theta=np.pi/12,\n",
    "    color=\"red\",\n",
    "    width=2,\n",
    "    opacity=0.5,\n",
    "    show_points=True,\n",
    ")"
   ]
  },
  {
   "cell_type": "code",
   "execution_count": null,
   "id": "26feed47",
   "metadata": {},
   "outputs": [],
   "source": [
    "swastika(\n",
    "    n=4,\n",
    "    radius=1,\n",
    "    theta=0.5,\n",
    "    color=\"red\",\n",
    "    width=2,\n",
    "    opacity=0.5,\n",
    "    show_points=True,\n",
    ")"
   ]
  },
  {
   "cell_type": "code",
   "execution_count": null,
   "id": "f43efb51",
   "metadata": {},
   "outputs": [],
   "source": [
    "multi_polygon(\n",
    "    n=8,\n",
    "    m=6,\n",
    "    direction=\"in\",\n",
    "    alpha=0,\n",
    "    theta=0,\n",
    "    color=\"orange\",\n",
    "    width=1,\n",
    "    \n",
    ")"
   ]
  },
  {
   "cell_type": "code",
   "execution_count": null,
   "id": "453f5dcf",
   "metadata": {},
   "outputs": [],
   "source": [
    "metatron_cube(10, 2, 0, \"blue\")"
   ]
  },
  {
   "cell_type": "code",
   "execution_count": null,
   "id": "4cadb106",
   "metadata": {},
   "outputs": [],
   "source": [
    "connect_points(n_points(12, 3,np.pi/12), \"all\")"
   ]
  },
  {
   "cell_type": "code",
   "execution_count": null,
   "id": "d727a5bc",
   "metadata": {},
   "outputs": [],
   "source": []
  }
 ],
 "metadata": {
  "kernelspec": {
   "display_name": ".venv",
   "language": "python",
   "name": "python3"
  },
  "language_info": {
   "codemirror_mode": {
    "name": "ipython",
    "version": 3
   },
   "file_extension": ".py",
   "mimetype": "text/x-python",
   "name": "python",
   "nbconvert_exporter": "python",
   "pygments_lexer": "ipython3",
   "version": "3.13.2"
  }
 },
 "nbformat": 4,
 "nbformat_minor": 5
}
