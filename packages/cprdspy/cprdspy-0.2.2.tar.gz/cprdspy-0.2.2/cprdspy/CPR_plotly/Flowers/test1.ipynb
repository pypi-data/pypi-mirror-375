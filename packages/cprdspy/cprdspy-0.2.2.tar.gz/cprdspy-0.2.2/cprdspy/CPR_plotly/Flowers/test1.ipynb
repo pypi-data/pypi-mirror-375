{
 "cells": [
  {
   "cell_type": "code",
   "execution_count": null,
   "id": "c7a04ba1",
   "metadata": {},
   "outputs": [],
   "source": [
    "from flower_config2 import (\n",
    "    n_flower_petal,\n",
    "    flowers_flower_by_petal_multi,\n",
    "    config\n",
    ")\n",
    "\n",
    "# 设置主题\n",
    "config.set_theme(\"cyberpunk\")\n",
    "\n",
    "# 创建单个花瓣\n",
    "fig = n_flower_petal(\n",
    "    center=[0, 0],\n",
    "    R=1.0,    # 大圆半径\n",
    "    r=1.2,    # 花瓣弧半径\n",
    "    n=6,      # 花瓣数量\n",
    "    animate=True\n",
    ")\n",
    "\n",
    "# 创建多层花\n",
    "fig = flowers_flower_by_petal_multi(\n",
    "    center=[0, 0],\n",
    "    R=1.0,        # 初始半径\n",
    "    r=1.2,        # 花瓣弧半径\n",
    "    n=6,          # 每层花瓣数\n",
    "    ratio=np.sqrt(2),  # 层间比例\n",
    "    M=3,          # 层数\n",
    "    N=12,         # 每层旋转分段\n",
    "    animate=False\n",
    ")\n",
    "fig.show()"
   ]
  }
 ],
 "metadata": {
  "kernelspec": {
   "display_name": ".venv",
   "language": "python",
   "name": "python3"
  },
  "language_info": {
   "name": "python",
   "version": "3.13.2"
  }
 },
 "nbformat": 4,
 "nbformat_minor": 5
}
