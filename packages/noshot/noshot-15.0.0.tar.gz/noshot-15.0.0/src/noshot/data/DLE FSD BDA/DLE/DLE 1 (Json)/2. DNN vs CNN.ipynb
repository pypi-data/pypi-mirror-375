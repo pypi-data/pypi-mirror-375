{
 "cells": [
  {
   "cell_type": "code",
   "execution_count": null,
   "metadata": {
    "colab": {
     "base_uri": "https://localhost:8080/"
    },
    "id": "d1-Arg7UL-nD",
    "outputId": "78548f80-8e83-4f06-a8bf-32faa2537e11"
   },
   "outputs": [],
   "source": [
    "from google.colab import drive\n",
    "drive.mount('/content/drive')"
   ]
  },
  {
   "cell_type": "markdown",
   "metadata": {
    "id": "Bk41--jYMGZc"
   },
   "source": [
    "Packages"
   ]
  },
  {
   "cell_type": "code",
   "execution_count": null,
   "metadata": {
    "id": "h7cJDYIHMHWp"
   },
   "outputs": [],
   "source": [
    "import os\n",
    "import pandas as pd\n",
    "import numpy as np\n",
    "import matplotlib.pyplot as plt\n",
    "import tensorflow as tf\n",
    "from tensorflow.keras.preprocessing.image import load_img,img_to_array\n",
    "from tensorflow.keras.utils import to_categorical\n",
    "from sklearn.model_selection import train_test_split\n",
    "from sklearn.preprocessing import LabelEncoder\n",
    "from sklearn.metrics import classification_report,confusion_matrix\n",
    "from tensorflow.keras.models import Sequential\n",
    "from tensorflow.keras.layers import Dense,Conv2D,MaxPooling2D,Dropout,Flatten"
   ]
  },
  {
   "cell_type": "markdown",
   "metadata": {
    "id": "9kJuyVCiMKen"
   },
   "source": [
    "Dataset"
   ]
  },
  {
   "cell_type": "code",
   "execution_count": null,
   "metadata": {
    "id": "2g6EPCH4MJ0M"
   },
   "outputs": [],
   "source": [
    "dataset_path='/content/drive/MyDrive/sem 7/Lab/DL_Lab/Bean_Dataset'"
   ]
  },
  {
   "cell_type": "code",
   "execution_count": null,
   "metadata": {
    "id": "o66ozfBwMNAU"
   },
   "outputs": [],
   "source": [
    "def load_images(file_path,img_size):\n",
    "  images=[]\n",
    "  labels=[]\n",
    "\n",
    "  class_names=os.listdir(file_path)\n",
    "\n",
    "  valid_extensions = (\".jpg\", \".jpeg\", \".png\", \".bmp\")\n",
    "\n",
    "  for cls in class_names:\n",
    "\n",
    "    class_path=os.path.join(file_path,cls)\n",
    "\n",
    "    for file_name in os.listdir(class_path):\n",
    "\n",
    "      if file_name.lower().endswith(valid_extensions):\n",
    "\n",
    "        img=load_img(os.path.join(class_path,file_name),target_size=img_size)\n",
    "        img_array=img_to_array(img)/255.0\n",
    "        images.append(img_array)\n",
    "        labels.append(cls)\n",
    "\n",
    "\n",
    "  return np.array(images),np.array(labels),class_names\n",
    "\n",
    "\n",
    "images,labels,cls_names=load_images(dataset_path,(128,128))"
   ]
  },
  {
   "cell_type": "code",
   "execution_count": null,
   "metadata": {
    "id": "6iUS3pY9MgR1"
   },
   "outputs": [],
   "source": [
    "X=images.copy()\n",
    "y=labels.copy()\n",
    "\n",
    "X_train,X_test,y_train,y_test=train_test_split(X,y,test_size=0.2,random_state=42)"
   ]
  },
  {
   "cell_type": "markdown",
   "metadata": {
    "id": "0n5aTiDaMXNI"
   },
   "source": [
    "#### **DNN**"
   ]
  },
  {
   "cell_type": "code",
   "execution_count": null,
   "metadata": {
    "id": "OjYNez19MQ00"
   },
   "outputs": [],
   "source": [
    "X_train_flat=X_train.reshape(X_train.shape[0],-1)\n",
    "X_test_flat=X_test.reshape(X_test.shape[0],-1)"
   ]
  },
  {
   "cell_type": "code",
   "execution_count": null,
   "metadata": {
    "colab": {
     "base_uri": "https://localhost:8080/"
    },
    "id": "wr3G4CYbMj8N",
    "outputId": "924fe453-4f34-40a1-e8b3-822c0b5629c9"
   },
   "outputs": [],
   "source": [
    "le=LabelEncoder()\n",
    "y_train=le.fit_transform(y_train)\n",
    "y_test=le.transform(y_test)\n",
    "\n",
    "enc_cls=le.classes_\n",
    "print(enc_cls)\n",
    "\n",
    "num_classes=len(enc_cls)\n",
    "y_train = to_categorical(y_train, num_classes)\n",
    "y_test  = to_categorical(y_test, num_classes)"
   ]
  },
  {
   "cell_type": "code",
   "execution_count": null,
   "metadata": {
    "colab": {
     "base_uri": "https://localhost:8080/"
    },
    "id": "tx9q6JnJM4Ah",
    "outputId": "9650d086-a8a9-4085-ee24-599d94474b1f"
   },
   "outputs": [],
   "source": [
    "model=Sequential([\n",
    "    Dense(128,activation='relu',input_shape=(X_train_flat.shape[1],)),\n",
    "    Dense(64,activation='relu'),\n",
    "    Dense(len(enc_cls),activation='softmax')\n",
    "])"
   ]
  },
  {
   "cell_type": "code",
   "execution_count": null,
   "metadata": {
    "colab": {
     "base_uri": "https://localhost:8080/"
    },
    "id": "XH9TjQ2AM8ye",
    "outputId": "8ffa837b-7267-4390-dc98-572f69b7de12"
   },
   "outputs": [],
   "source": [
    "model.compile(optimizer='adam',loss='categorical_crossentropy',metrics=[\"accuracy\"])\n",
    "history1=model.fit(X_train_flat,y_train,epochs=5,validation_split=0.2)"
   ]
  },
  {
   "cell_type": "code",
   "execution_count": null,
   "metadata": {
    "colab": {
     "base_uri": "https://localhost:8080/"
    },
    "id": "5jO_15PwNFIl",
    "outputId": "e6ffa460-d5a2-410d-e6a8-e7ca3ba2e136"
   },
   "outputs": [],
   "source": [
    "loss,acc=model.evaluate(X_test_flat,y_test)\n",
    "print(f'Test Accuracy : {acc*100:.2f}%')\n",
    "print(f'Test Loss : {loss:.2f}')"
   ]
  },
  {
   "cell_type": "code",
   "execution_count": null,
   "metadata": {
    "colab": {
     "base_uri": "https://localhost:8080/"
    },
    "id": "6cBSj9z-NG_1",
    "outputId": "c619d9a4-6031-4158-d514-445b7a6475e7"
   },
   "outputs": [],
   "source": [
    "y_pred=np.argmax(model.predict(X_test_flat),axis=-1)\n",
    "y_true=np.argmax(y_test,axis=-1)"
   ]
  },
  {
   "cell_type": "code",
   "execution_count": null,
   "metadata": {
    "colab": {
     "base_uri": "https://localhost:8080/"
    },
    "id": "1nbx4PYuNZ-W",
    "outputId": "5b88f136-c73d-4970-b371-e63dd2e31253"
   },
   "outputs": [],
   "source": [
    "print(enc_cls)"
   ]
  },
  {
   "cell_type": "code",
   "execution_count": null,
   "metadata": {
    "colab": {
     "base_uri": "https://localhost:8080/"
    },
    "id": "gnRVdjyDNJOi",
    "outputId": "1e1d5111-835f-4845-f685-0de232a84fa7"
   },
   "outputs": [],
   "source": [
    "print('Classfication Report')\n",
    "print(classification_report(y_true,y_pred,target_names=enc_cls))"
   ]
  },
  {
   "cell_type": "code",
   "execution_count": null,
   "metadata": {
    "colab": {
     "base_uri": "https://localhost:8080/"
    },
    "id": "oecJC_etOFzJ",
    "outputId": "c50119db-bbc4-48df-dbf9-279d82150042"
   },
   "outputs": [],
   "source": [
    "print('Confusion Matrix')\n",
    "print(confusion_matrix(y_true,y_pred))"
   ]
  },
  {
   "cell_type": "markdown",
   "metadata": {
    "id": "f2jBb3C3MZNz"
   },
   "source": [
    "#### **CNN**"
   ]
  },
  {
   "cell_type": "code",
   "execution_count": null,
   "metadata": {
    "colab": {
     "base_uri": "https://localhost:8080/"
    },
    "id": "wBaxM8YdMcgs",
    "outputId": "dcf2ce9a-2e0b-4a71-89c3-3e9e7df2d3e1"
   },
   "outputs": [],
   "source": [
    "model=Sequential([\n",
    "    Conv2D(32,(3,3),activation='relu',input_shape=(128,128,3)),\n",
    "    MaxPooling2D((2,2)),\n",
    "    Conv2D(64,(3,3),activation='relu'),\n",
    "    MaxPooling2D((2,2)),\n",
    "    Flatten(),\n",
    "    Dense(128,activation='relu'),\n",
    "    Dropout(0.5),\n",
    "    Dense(len(cls_names),activation='softmax')\n",
    "])"
   ]
  },
  {
   "cell_type": "code",
   "execution_count": null,
   "metadata": {
    "colab": {
     "base_uri": "https://localhost:8080/"
    },
    "id": "kW1_9HT5PCVJ",
    "outputId": "72e45505-aab3-4ef5-951b-0c73d7cb516d"
   },
   "outputs": [],
   "source": [
    "model.compile(optimizer='adam',loss='categorical_crossentropy',metrics=['accuracy'])\n",
    "history2=model.fit(X_train,y_train,epochs=5,validation_split=0.2)"
   ]
  },
  {
   "cell_type": "code",
   "execution_count": null,
   "metadata": {
    "colab": {
     "base_uri": "https://localhost:8080/"
    },
    "id": "FzKRiAgwQdaw",
    "outputId": "31938d09-b35c-4768-a677-afc9a6c04625"
   },
   "outputs": [],
   "source": [
    "loss,acc=model.evaluate(X_test,y_test)\n",
    "print(f'Test Accuracy : {acc*100:.2f}%')\n",
    "print(f'Test Loss : {loss:.2f}')"
   ]
  },
  {
   "cell_type": "code",
   "execution_count": null,
   "metadata": {
    "colab": {
     "base_uri": "https://localhost:8080/"
    },
    "id": "XPg932SqQr2p",
    "outputId": "4a420b6d-3821-4bc7-9d12-eaad4fccf67c"
   },
   "outputs": [],
   "source": [
    "y_pred=np.argmax(model.predict(X_test),axis=-1)\n",
    "y_true=np.argmax(y_test,axis=-1)"
   ]
  },
  {
   "cell_type": "code",
   "execution_count": null,
   "metadata": {
    "colab": {
     "base_uri": "https://localhost:8080/"
    },
    "id": "fD9HE2lyQt4F",
    "outputId": "3b46eed1-f8d7-45b9-ffe5-94e56535e206"
   },
   "outputs": [],
   "source": [
    "print('Classfication Report')\n",
    "print(classification_report(y_true,y_pred,target_names=enc_cls))"
   ]
  },
  {
   "cell_type": "code",
   "execution_count": null,
   "metadata": {
    "colab": {
     "base_uri": "https://localhost:8080/"
    },
    "id": "gvGw6SDuQxiL",
    "outputId": "a52de03d-2d2a-4fac-8cf3-22346c4b1929"
   },
   "outputs": [],
   "source": [
    "print('Confusion Matrix')\n",
    "print(confusion_matrix(y_true,y_pred))"
   ]
  },
  {
   "cell_type": "markdown",
   "metadata": {
    "id": "46TV5Ti5Q0Cm"
   },
   "source": [
    "#### **Comparison**"
   ]
  },
  {
   "cell_type": "code",
   "execution_count": null,
   "metadata": {
    "colab": {
     "base_uri": "https://localhost:8080/",
     "height": 472
    },
    "id": "GUW5r0afQ2mF",
    "outputId": "28ac9467-fe6b-481f-b30b-be2d01dd9929"
   },
   "outputs": [],
   "source": [
    "plt.plot(history1.history['accuracy'],label='train_accuracy')\n",
    "plt.plot(history1.history['val_accuracy'],label='val_accuracy')\n",
    "plt.title('Model Accuracy of DNN')\n",
    "plt.xlabel('Epochs')\n",
    "plt.ylabel('Accuracy')\n",
    "plt.legend()\n",
    "plt.show()"
   ]
  },
  {
   "cell_type": "code",
   "execution_count": null,
   "metadata": {
    "colab": {
     "base_uri": "https://localhost:8080/",
     "height": 472
    },
    "id": "Lfxe-GudRFIB",
    "outputId": "176a332d-56f0-4c7f-9d0b-418dc82f894c"
   },
   "outputs": [],
   "source": [
    "plt.plot(history2.history['accuracy'],label='train_accuracy')\n",
    "plt.plot(history2.history['val_accuracy'],label='val_accuracy')\n",
    "plt.title('Model Accuracy of CNN')\n",
    "plt.xlabel('Epochs')\n",
    "plt.ylabel('Accuracy')\n",
    "plt.legend()\n",
    "plt.show()"
   ]
  },
  {
   "cell_type": "code",
   "execution_count": null,
   "metadata": {
    "colab": {
     "base_uri": "https://localhost:8080/",
     "height": 472
    },
    "id": "B1hDFZg0RI0r",
    "outputId": "e1e9e652-7349-4aa4-bbcb-a50b69c0def9"
   },
   "outputs": [],
   "source": [
    "plt.plot(history1.history['loss'],label='train_loss')\n",
    "plt.plot(history1.history['val_loss'],label='val_loss')\n",
    "plt.title('Model loss')\n",
    "plt.xlabel('Epochs')\n",
    "plt.ylabel('loss')\n",
    "plt.legend()\n",
    "plt.show()"
   ]
  },
  {
   "cell_type": "code",
   "execution_count": null,
   "metadata": {
    "colab": {
     "base_uri": "https://localhost:8080/",
     "height": 472
    },
    "id": "wo7IfH95RL7W",
    "outputId": "dce13968-1b41-4ae1-d127-665edf693165"
   },
   "outputs": [],
   "source": [
    "plt.plot(history2.history['loss'],label='train_loss')\n",
    "plt.plot(history2.history['val_loss'],label='val_loss')\n",
    "plt.title('Model loss')\n",
    "plt.xlabel('Epochs')\n",
    "plt.ylabel('loss')\n",
    "plt.legend()\n",
    "plt.show()"
   ]
  }
 ],
 "metadata": {
  "colab": {
   "provenance": []
  },
  "kernelspec": {
   "display_name": "Python 3 (ipykernel)",
   "language": "python",
   "name": "python3"
  },
  "language_info": {
   "codemirror_mode": {
    "name": "ipython",
    "version": 3
   },
   "file_extension": ".py",
   "mimetype": "text/x-python",
   "name": "python",
   "nbconvert_exporter": "python",
   "pygments_lexer": "ipython3",
   "version": "3.12.4"
  }
 },
 "nbformat": 4,
 "nbformat_minor": 4
}
