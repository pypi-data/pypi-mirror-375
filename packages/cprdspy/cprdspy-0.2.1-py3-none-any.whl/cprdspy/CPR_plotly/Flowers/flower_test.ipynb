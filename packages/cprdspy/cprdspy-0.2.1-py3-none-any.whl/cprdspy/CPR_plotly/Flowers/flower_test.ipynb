{
 "cells": [
  {
   "cell_type": "code",
   "execution_count": null,
   "id": "985ad33e",
   "metadata": {},
   "outputs": [],
   "source": [
    "from flower_config import *"
   ]
  },
  {
   "cell_type": "code",
   "execution_count": null,
   "id": "d4360e55",
   "metadata": {},
   "outputs": [],
   "source": [
    "n_flower_arc((0,0),1,1,6,0)"
   ]
  },
  {
   "cell_type": "code",
   "execution_count": null,
   "id": "17a33315",
   "metadata": {},
   "outputs": [],
   "source": [
    "n_flower_petal((0,0),1,1,6,0,\"red\",2,0.5)"
   ]
  },
  {
   "cell_type": "code",
   "execution_count": null,
   "id": "70c3893b",
   "metadata": {},
   "outputs": [],
   "source": [
    "n_lily_petal_fill((0,0),1,6,0,\"red\",'green')"
   ]
  },
  {
   "cell_type": "code",
   "execution_count": null,
   "id": "6ef3154c",
   "metadata": {},
   "outputs": [],
   "source": [
    "n_flowers_flower_arc_with_field(\n",
    "    (0,0),\n",
    "    1,\n",
    "    1,\n",
    "    6,\n",
    "    0,\n",
    "    color=\"red\",\n",
    "    field_color=\"blue\",\n",
    "    width=2,\n",
    ")"
   ]
  },
  {
   "cell_type": "code",
   "execution_count": null,
   "id": "e98bc396",
   "metadata": {},
   "outputs": [],
   "source": [
    "one_flower_petal((0,0),1,1,6,0,\"red\",2,0.5)"
   ]
  },
  {
   "cell_type": "code",
   "execution_count": null,
   "id": "1d980bef",
   "metadata": {},
   "outputs": [],
   "source": [
    "one_flower_arc((0,0),1,1,6,0)"
   ]
  },
  {
   "cell_type": "code",
   "execution_count": null,
   "id": "4aa1067f",
   "metadata": {},
   "outputs": [],
   "source": [
    "one_flower_flower_arc_with_field(\n",
    "    (0,0),\n",
    "    1,\n",
    "    1,\n",
    "    6,\n",
    "    0,\n",
    "    color=\"red\",\n",
    "    field_color=\"blue\",\n",
    "    width=2,\n",
    "    opacity=0.5\n",
    ")"
   ]
  },
  {
   "cell_type": "code",
   "execution_count": null,
   "id": "4af6239e",
   "metadata": {},
   "outputs": [],
   "source": [
    "flowers_flower_by_petal(\n",
    "    (0,0),  # center\n",
    "    1,      # R\n",
    "    0.5,    # r\n",
    "    10,     # N\n",
    "    10,     # n\n",
    "    0,      # theta\n",
    "    color=\"blue\",\n",
    ")"
   ]
  },
  {
   "cell_type": "code",
   "execution_count": null,
   "id": "9f209f78",
   "metadata": {},
   "outputs": [],
   "source": [
    "flowers_flower_by_arc(\n",
    "    (0,0),  # center\n",
    "    1,      # R\n",
    "    0.5,    # r\n",
    "    10,     # N\n",
    "    10,     # n\n",
    "    0,      # theta\n",
    "    color=\"blue\",\n",
    ")"
   ]
  },
  {
   "cell_type": "code",
   "execution_count": null,
   "id": "ce381921",
   "metadata": {},
   "outputs": [],
   "source": [
    "flowers_flower_by_flower_arc_with_field(\n",
    "    center=[0, 0],\n",
    "    R=1,\n",
    "    r=0.5,\n",
    "    N=10,\n",
    "    n=10,\n",
    "    theta=0,\n",
    "    color=\"blue\",\n",
    "    field_color=\"#ff0\",\n",
    "    width=2,\n",
    "    opacity=0.5,\n",
    ")"
   ]
  },
  {
   "cell_type": "code",
   "execution_count": null,
   "id": "aeab450f",
   "metadata": {},
   "outputs": [],
   "source": [
    "flowers_flower_by_petal_multi(\n",
    "    (0,0),  # center\n",
    "    1,      # R\n",
    "    1,    # r\n",
    "    4,      # n\n",
    "    1.1,    # ratio\n",
    "    3,      # M\n",
    "    6,      # N\n",
    "    0,      # theta\n",
    "    \"red\",  # color\n",
    "    None,   # width\n",
    "    \n",
    ")"
   ]
  },
  {
   "cell_type": "code",
   "execution_count": null,
   "id": "a2e92d85",
   "metadata": {},
   "outputs": [],
   "source": [
    "flower_by_petal_fill(\n",
    "    [0, 0],\n",
    "    1, \n",
    "    3,\n",
    "    12, \n",
    "    11,\n",
    "    0, \n",
    "    fill_color=\"red\", \n",
    "    color=\"blue\"\n",
    ")"
   ]
  },
  {
   "cell_type": "code",
   "execution_count": null,
   "id": "a0c55b45",
   "metadata": {},
   "outputs": [],
   "source": []
  }
 ],
 "metadata": {
  "kernelspec": {
   "display_name": ".venv",
   "language": "python",
   "name": "python3"
  },
  "language_info": {
   "codemirror_mode": {
    "name": "ipython",
    "version": 3
   },
   "file_extension": ".py",
   "mimetype": "text/x-python",
   "name": "python",
   "nbconvert_exporter": "python",
   "pygments_lexer": "ipython3",
   "version": "3.13.2"
  }
 },
 "nbformat": 4,
 "nbformat_minor": 5
}
