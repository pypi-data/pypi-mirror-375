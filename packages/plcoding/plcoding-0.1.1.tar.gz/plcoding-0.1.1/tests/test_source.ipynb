{
 "cells": [
  {
   "cell_type": "markdown",
   "id": "f5a61eb4",
   "metadata": {},
   "source": [
    "单元测试：验证 `plcoding.source` 模块是否工作正常，以及能否实现对 `torch` 库的 `tensor` 数据的压缩"
   ]
  },
  {
   "cell_type": "code",
   "execution_count": 1,
   "id": "6faff5e0",
   "metadata": {},
   "outputs": [],
   "source": [
    "import numpy as np\n",
    "import torch\n",
    "from plcoding.source import *"
   ]
  },
  {
   "cell_type": "code",
   "execution_count": 2,
   "id": "78965706",
   "metadata": {},
   "outputs": [],
   "source": [
    "# 随机生成一个信源、并产生一批待压缩离散符号序列\n",
    "N, q = (1 << 14), 256\n",
    "src_prob = np.random.rand(q); src_prob /= np.sum(src_prob)\n",
    "entropy = (-np.log2(src_prob) * src_prob).sum()\n",
    "sym = np.random.choice(a=q, p=src_prob, size=(N,))"
   ]
  },
  {
   "cell_type": "code",
   "execution_count": 3,
   "id": "2a51636b",
   "metadata": {},
   "outputs": [
    {
     "name": "stdout",
     "output_type": "stream",
     "text": [
      "Shannon bound:   \t96.26%\n",
      "Compression rate:\t96.51%\n"
     ]
    }
   ],
   "source": [
    "# 使用这些符号的PMF来进行压缩\n",
    "pmf = np.tile(src_prob, (N, 1))\n",
    "data = encode_pmf(pmf, sym)\n",
    "sym_ = decode_pmf(pmf, data)\n",
    "# 对比当次压缩率与平均最优界\n",
    "assert (sym == sym_).all()\n",
    "print(f\"Shannon bound:   \\t{entropy / np.log2(q) * 100:.2f}%\")\n",
    "print(f\"Compression rate:\\t{len(data) * 8 / N / np.log2(q) * 100:.2f}%\")"
   ]
  },
  {
   "cell_type": "code",
   "execution_count": 4,
   "id": "100b59df",
   "metadata": {},
   "outputs": [
    {
     "name": "stdout",
     "output_type": "stream",
     "text": [
      "Shannon bound:   \t96.26%\n",
      "Compression rate:\t96.51%\n"
     ]
    }
   ],
   "source": [
    "# 使用这些符号的CDF来进行压缩\n",
    "src_cprob = np.concatenate([np.array([0]), np.round(np.cumsum(src_prob) * (1 << 16)).astype(np.int16)])\n",
    "cdf_troch = torch.from_numpy(np.tile(src_cprob, (N, 1)))\n",
    "sym_torch = torch.from_numpy(sym)\n",
    "data_cdf = encode_int16_cdf(cdf_troch, sym_torch)\n",
    "sym_torch_ = decode_int16_cdf(cdf_troch, data_cdf)\n",
    "# 对比当次压缩率与平均最优界\n",
    "assert (sym_torch == sym_torch_).all()\n",
    "print(f\"Shannon bound:   \\t{entropy / np.log2(q) * 100:.2f}%\")\n",
    "print(f\"Compression rate:\\t{len(data_cdf) * 8 / N / np.log2(q) * 100:.2f}%\")"
   ]
  }
 ],
 "metadata": {
  "kernelspec": {
   "display_name": "rzc_d2l",
   "language": "python",
   "name": "python3"
  },
  "language_info": {
   "codemirror_mode": {
    "name": "ipython",
    "version": 3
   },
   "file_extension": ".py",
   "mimetype": "text/x-python",
   "name": "python",
   "nbconvert_exporter": "python",
   "pygments_lexer": "ipython3",
   "version": "3.11.11"
  }
 },
 "nbformat": 4,
 "nbformat_minor": 5
}
