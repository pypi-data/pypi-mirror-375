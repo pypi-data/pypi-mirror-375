{
 "cells": [
  {
   "cell_type": "code",
   "execution_count": null,
   "metadata": {
    "colab": {
     "base_uri": "https://localhost:8080/"
    },
    "id": "A5s8qm0I9cCt",
    "outputId": "971e6baf-a1d6-48c4-ca19-17ee3c2d577f"
   },
   "outputs": [],
   "source": [
    "from google.colab import drive\n",
    "drive.mount('/content/drive')"
   ]
  },
  {
   "cell_type": "markdown",
   "metadata": {
    "id": "wtWyceRh9Ynb"
   },
   "source": [
    "Packages"
   ]
  },
  {
   "cell_type": "code",
   "execution_count": null,
   "metadata": {
    "id": "xffzPHEZ9Sb_"
   },
   "outputs": [],
   "source": [
    "import os\n",
    "import pandas as pd\n",
    "import numpy as np\n",
    "import matplotlib.pyplot as plt\n",
    "import tensorflow as tf\n",
    "from tensorflow.keras.preprocessing.image import load_img,img_to_array\n",
    "from tensorflow.keras.utils import to_categorical\n",
    "from sklearn.model_selection import train_test_split\n",
    "from sklearn.preprocessing import LabelEncoder\n",
    "from sklearn.metrics import classification_report,confusion_matrix\n",
    "from tensorflow.keras.models import Sequential\n",
    "from tensorflow.keras.layers import Dense"
   ]
  },
  {
   "cell_type": "code",
   "execution_count": null,
   "metadata": {
    "id": "CUbFegyj97_n"
   },
   "outputs": [],
   "source": [
    "dataset_path='/content/drive/MyDrive/sem 7/Lab/DL_Lab/Bean_Dataset'"
   ]
  },
  {
   "cell_type": "markdown",
   "metadata": {
    "id": "s4L5oajJD6i8"
   },
   "source": [
    "Load Images"
   ]
  },
  {
   "cell_type": "code",
   "execution_count": null,
   "metadata": {
    "id": "_ohgIAYk-LJ3"
   },
   "outputs": [],
   "source": [
    "def load_images(file_path,img_size):\n",
    "  images=[]\n",
    "  labels=[]\n",
    "\n",
    "  class_names=os.listdir(file_path)\n",
    "\n",
    "  valid_extensions = (\".jpg\", \".jpeg\", \".png\", \".bmp\")\n",
    "\n",
    "  for cls in class_names:\n",
    "\n",
    "    class_path=os.path.join(file_path,cls)\n",
    "\n",
    "    for file_name in os.listdir(class_path):\n",
    "\n",
    "      if file_name.lower().endswith(valid_extensions):\n",
    "\n",
    "        img=load_img(os.path.join(class_path,file_name),target_size=img_size)\n",
    "        img_array=img_to_array(img)/255.0\n",
    "        images.append(img_array)\n",
    "        labels.append(cls)\n",
    "\n",
    "\n",
    "  return np.array(images),np.array(labels),class_names\n",
    "\n",
    "\n",
    "images,labels,cls_names=load_images(dataset_path,(128,128))"
   ]
  },
  {
   "cell_type": "markdown",
   "metadata": {
    "id": "vvYLDhMzEeov"
   },
   "source": [
    "Train-Test Split"
   ]
  },
  {
   "cell_type": "code",
   "execution_count": null,
   "metadata": {
    "id": "UBgmh_LKEILm"
   },
   "outputs": [],
   "source": [
    "X=images.copy()\n",
    "y=labels.copy()\n",
    "\n",
    "X_train,X_test,y_train,y_test=train_test_split(X,y,test_size=0.2,random_state=42)"
   ]
  },
  {
   "cell_type": "markdown",
   "metadata": {
    "id": "nzq-NVEwFDvG"
   },
   "source": [
    "Flatten for DNN"
   ]
  },
  {
   "cell_type": "code",
   "execution_count": null,
   "metadata": {
    "id": "fSJCaaTUEhGA"
   },
   "outputs": [],
   "source": [
    "X_train_flat=X_train.reshape(X_train.shape[0],-1)\n",
    "X_test_flat=X_test.reshape(X_test.shape[0],-1)"
   ]
  },
  {
   "cell_type": "markdown",
   "metadata": {
    "id": "A-iDZOETIHF0"
   },
   "source": [
    "To Categorical"
   ]
  },
  {
   "cell_type": "code",
   "execution_count": null,
   "metadata": {
    "colab": {
     "base_uri": "https://localhost:8080/"
    },
    "id": "VVZE9l0EFFjR",
    "outputId": "7d35989f-b2d4-49e7-d270-4136abd1638a"
   },
   "outputs": [],
   "source": [
    "le=LabelEncoder()\n",
    "y_train=le.fit_transform(y_train)\n",
    "y_test=le.transform(y_test)\n",
    "\n",
    "enc_cls=le.classes_\n",
    "print(enc_cls)\n",
    "\n",
    "num_classes=len(enc_cls)\n",
    "y_train = to_categorical(y_train, num_classes)\n",
    "y_test  = to_categorical(y_test, num_classes)"
   ]
  },
  {
   "cell_type": "markdown",
   "metadata": {
    "id": "sAT1wR2QLpZB"
   },
   "source": [
    "Model Creation and Training"
   ]
  },
  {
   "cell_type": "code",
   "execution_count": null,
   "metadata": {
    "colab": {
     "base_uri": "https://localhost:8080/"
    },
    "id": "GS9BazKGIYtT",
    "outputId": "8418f7ae-9289-4666-f3a4-e66bc1c37bc0"
   },
   "outputs": [],
   "source": [
    "model=Sequential([\n",
    "    Dense(128,activation='relu',input_shape=(X_train_flat.shape[1],)),\n",
    "    Dense(64,activation='relu'),\n",
    "    Dense(len(enc_cls),activation='softmax')\n",
    "])"
   ]
  },
  {
   "cell_type": "code",
   "execution_count": null,
   "metadata": {
    "id": "qi8dPFoVI4Tz"
   },
   "outputs": [],
   "source": [
    "model.compile(optimizer='adam',loss='categorical_crossentropy',metrics=[\"accuracy\"])"
   ]
  },
  {
   "cell_type": "code",
   "execution_count": null,
   "metadata": {
    "colab": {
     "base_uri": "https://localhost:8080/"
    },
    "id": "yyz5A-KDJGna",
    "outputId": "aef382f4-3187-4b2f-9b13-65ac6fb164ea"
   },
   "outputs": [],
   "source": [
    "history=model.fit(X_train_flat,y_train,epochs=5,validation_split=0.2)"
   ]
  },
  {
   "cell_type": "code",
   "execution_count": null,
   "metadata": {
    "colab": {
     "base_uri": "https://localhost:8080/"
    },
    "id": "nBJX14X6J4tx",
    "outputId": "993101c1-e85e-4493-b104-b4961c38174a"
   },
   "outputs": [],
   "source": [
    "loss,acc=model.evaluate(X_test_flat,y_test)\n",
    "print(f'Test Accuracy : {acc*100:.2f}%')\n",
    "print(f'Test Loss : {loss:.2f}')"
   ]
  },
  {
   "cell_type": "code",
   "execution_count": null,
   "metadata": {
    "colab": {
     "base_uri": "https://localhost:8080/"
    },
    "id": "hwpZh90oKS0f",
    "outputId": "d51c180b-35d6-4a4a-9636-54a619186699"
   },
   "outputs": [],
   "source": [
    "y_pred=np.argmax(model.predict(X_test_flat),axis=-1)\n",
    "y_true=np.argmax(y_test,axis=-1)"
   ]
  },
  {
   "cell_type": "markdown",
   "metadata": {
    "id": "nmeo-X4MLl1u"
   },
   "source": [
    "Find Metrics"
   ]
  },
  {
   "cell_type": "code",
   "execution_count": null,
   "metadata": {
    "colab": {
     "base_uri": "https://localhost:8080/"
    },
    "id": "iB7LoayMKn_F",
    "outputId": "1004d40a-6c66-4efb-c328-aa66a309ebb9"
   },
   "outputs": [],
   "source": [
    "print('Classfication Report')\n",
    "print(classification_report(y_true,y_pred,target_names=enc_cls))"
   ]
  },
  {
   "cell_type": "code",
   "execution_count": null,
   "metadata": {
    "colab": {
     "base_uri": "https://localhost:8080/"
    },
    "id": "ZhDzJwIhK14X",
    "outputId": "4e86c8af-9bc4-4b70-a2cb-8ebead766c3e"
   },
   "outputs": [],
   "source": [
    "print('Confusion Matrix')\n",
    "print(confusion_matrix(y_true,y_pred))"
   ]
  },
  {
   "cell_type": "markdown",
   "metadata": {
    "id": "_6DvMr73Li4K"
   },
   "source": [
    "Plot Accuracy and Loss"
   ]
  },
  {
   "cell_type": "code",
   "execution_count": null,
   "metadata": {
    "colab": {
     "base_uri": "https://localhost:8080/",
     "height": 472
    },
    "id": "bKh8b3rPLCXA",
    "outputId": "77ee2360-71be-44d6-a572-e5678ffc68ea"
   },
   "outputs": [],
   "source": [
    "plt.plot(history.history['accuracy'],label='train_accuracy')\n",
    "plt.plot(history.history['val_accuracy'],label='val_accuracy')\n",
    "plt.title('Model Accuracy')\n",
    "plt.xlabel('Epochs')\n",
    "plt.ylabel('Accuracy')\n",
    "plt.legend()\n",
    "plt.show()"
   ]
  },
  {
   "cell_type": "code",
   "execution_count": null,
   "metadata": {
    "colab": {
     "base_uri": "https://localhost:8080/",
     "height": 472
    },
    "id": "EiWN8lzvLZek",
    "outputId": "89863716-ea8e-42a1-f07c-d37b58d33df0"
   },
   "outputs": [],
   "source": [
    "plt.plot(history.history['loss'],label='train_loss')\n",
    "plt.plot(history.history['val_loss'],label='val_loss')\n",
    "plt.title('Model loss')\n",
    "plt.xlabel('Epochs')\n",
    "plt.ylabel('loss')\n",
    "plt.legend()\n",
    "plt.show()"
   ]
  }
 ],
 "metadata": {
  "colab": {
   "provenance": []
  },
  "kernelspec": {
   "display_name": "Python 3 (ipykernel)",
   "language": "python",
   "name": "python3"
  },
  "language_info": {
   "codemirror_mode": {
    "name": "ipython",
    "version": 3
   },
   "file_extension": ".py",
   "mimetype": "text/x-python",
   "name": "python",
   "nbconvert_exporter": "python",
   "pygments_lexer": "ipython3",
   "version": "3.12.4"
  }
 },
 "nbformat": 4,
 "nbformat_minor": 4
}
