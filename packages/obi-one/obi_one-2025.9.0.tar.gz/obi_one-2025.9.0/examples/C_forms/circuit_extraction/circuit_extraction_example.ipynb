{
 "cells": [
  {
   "cell_type": "code",
   "execution_count": 1,
   "metadata": {},
   "outputs": [],
   "source": [
    "import obi_one as obi\n",
    "import os"
   ]
  },
  {
   "cell_type": "code",
   "execution_count": 2,
   "metadata": {},
   "outputs": [],
   "source": [
    "input_root = \"/Users/pokorny/Data/Circuits\"\n",
    "output_root = \"../../../obi-output/extracted_subcircuits\""
   ]
  },
  {
   "cell_type": "code",
   "execution_count": null,
   "metadata": {},
   "outputs": [],
   "source": [
    "circuit_extractions_form = obi.CircuitExtractions(\n",
    "                    initialize=obi.CircuitExtractions.Initialize(\n",
    "                        circuit=obi.Circuit(name=\"ToyCircuit-S1-6k\", path=os.path.join(input_root, \"ToyCircuit-S1-6k\", \"circuit_config.json\")),\n",
    "                        run_validation=False,\n",
    "                    ),\n",
    "                    neuron_set=obi.PredefinedNeuronSet(node_set=[\"Excitatory\", \"Inhibitory\"], sample_percentage=[50, 100]),\n",
    ")\n",
    "\n",
    "grid_scan = obi.GridScan(form=circuit_extractions_form, output_root='../../obi-output/circuit_extraction/grid_scan')"
   ]
  },
  {
   "cell_type": "code",
   "execution_count": 10,
   "metadata": {},
   "outputs": [
    {
     "name": "stdout",
     "output_type": "stream",
     "text": [
      "\n",
      "MULTIPLE VALUE PARAMETERS\n",
      "neuron_set.sample_percentage: [100, 500]\n",
      "neuron_set.node_set: ['Excitatory', 'Inhibitory']\n",
      "\n",
      "COORDINATE PARAMETERS\n",
      "neuron_set.sample_percentage: 100, neuron_set.node_set: Excitatory\n",
      "neuron_set.sample_percentage: 100, neuron_set.node_set: Inhibitory\n",
      "neuron_set.sample_percentage: 500, neuron_set.node_set: Excitatory\n",
      "neuron_set.sample_percentage: 500, neuron_set.node_set: Inhibitory\n",
      "\n",
      "COORDINATE INSTANCES\n",
      "CircuitExtraction(idx=0, scan_output_root=PosixPath('.'), coordinate_output_root=PosixPath('.'), coordinate_directory_option='NAME_EQUALS_VALUE', single_coordinate_scan_params=SingleCoordinateScanParams(type='SingleCoordinateScanParams', scan_params=[SingleValueScanParam(type='SingleValueScanParam', location_list=['neuron_set', 'sample_percentage'], value=100), SingleValueScanParam(type='SingleValueScanParam', location_list=['neuron_set', 'node_set'], value='Excitatory')], nested_coordinate_subpath_str=PosixPath('.')), type='CircuitExtraction', neuron_set=PredefinedNeuronSet(type='PredefinedNeuronSet', simulation_level_name='PredefinedNeuronSet', sample_percentage=100, sample_seed=0, node_set='Excitatory'), initialize=Initialize(type='CircuitExtractions.Initialize', circuit=Circuit(type='Circuit', name='ToyCircuit-S1-6k', path='/Users/pokorny/Data/Circuits/ToyCircuit-S1-6k/circuit_config.json'), run_validation=False))\n",
      "CircuitExtraction(idx=1, scan_output_root=PosixPath('.'), coordinate_output_root=PosixPath('.'), coordinate_directory_option='NAME_EQUALS_VALUE', single_coordinate_scan_params=SingleCoordinateScanParams(type='SingleCoordinateScanParams', scan_params=[SingleValueScanParam(type='SingleValueScanParam', location_list=['neuron_set', 'sample_percentage'], value=100), SingleValueScanParam(type='SingleValueScanParam', location_list=['neuron_set', 'node_set'], value='Inhibitory')], nested_coordinate_subpath_str=PosixPath('.')), type='CircuitExtraction', neuron_set=PredefinedNeuronSet(type='PredefinedNeuronSet', simulation_level_name='PredefinedNeuronSet', sample_percentage=100, sample_seed=0, node_set='Inhibitory'), initialize=Initialize(type='CircuitExtractions.Initialize', circuit=Circuit(type='Circuit', name='ToyCircuit-S1-6k', path='/Users/pokorny/Data/Circuits/ToyCircuit-S1-6k/circuit_config.json'), run_validation=False))\n",
      "CircuitExtraction(idx=2, scan_output_root=PosixPath('.'), coordinate_output_root=PosixPath('.'), coordinate_directory_option='NAME_EQUALS_VALUE', single_coordinate_scan_params=SingleCoordinateScanParams(type='SingleCoordinateScanParams', scan_params=[SingleValueScanParam(type='SingleValueScanParam', location_list=['neuron_set', 'sample_percentage'], value=500), SingleValueScanParam(type='SingleValueScanParam', location_list=['neuron_set', 'node_set'], value='Excitatory')], nested_coordinate_subpath_str=PosixPath('.')), type='CircuitExtraction', neuron_set=PredefinedNeuronSet(type='PredefinedNeuronSet', simulation_level_name='PredefinedNeuronSet', sample_percentage=500, sample_seed=0, node_set='Excitatory'), initialize=Initialize(type='CircuitExtractions.Initialize', circuit=Circuit(type='Circuit', name='ToyCircuit-S1-6k', path='/Users/pokorny/Data/Circuits/ToyCircuit-S1-6k/circuit_config.json'), run_validation=False))\n",
      "CircuitExtraction(idx=3, scan_output_root=PosixPath('.'), coordinate_output_root=PosixPath('.'), coordinate_directory_option='NAME_EQUALS_VALUE', single_coordinate_scan_params=SingleCoordinateScanParams(type='SingleCoordinateScanParams', scan_params=[SingleValueScanParam(type='SingleValueScanParam', location_list=['neuron_set', 'sample_percentage'], value=500), SingleValueScanParam(type='SingleValueScanParam', location_list=['neuron_set', 'node_set'], value='Inhibitory')], nested_coordinate_subpath_str=PosixPath('.')), type='CircuitExtraction', neuron_set=PredefinedNeuronSet(type='PredefinedNeuronSet', simulation_level_name='PredefinedNeuronSet', sample_percentage=500, sample_seed=0, node_set='Inhibitory'), initialize=Initialize(type='CircuitExtractions.Initialize', circuit=Circuit(type='Circuit', name='ToyCircuit-S1-6k', path='/Users/pokorny/Data/Circuits/ToyCircuit-S1-6k/circuit_config.json'), run_validation=False))\n"
     ]
    },
    {
     "data": {
      "text/plain": [
       "[CircuitExtraction(idx=0, scan_output_root=PosixPath('.'), coordinate_output_root=PosixPath('.'), coordinate_directory_option='NAME_EQUALS_VALUE', single_coordinate_scan_params=SingleCoordinateScanParams(type='SingleCoordinateScanParams', scan_params=[SingleValueScanParam(type='SingleValueScanParam', location_list=['neuron_set', 'sample_percentage'], value=100), SingleValueScanParam(type='SingleValueScanParam', location_list=['neuron_set', 'node_set'], value='Excitatory')], nested_coordinate_subpath_str=PosixPath('.')), type='CircuitExtraction', neuron_set=PredefinedNeuronSet(type='PredefinedNeuronSet', simulation_level_name='PredefinedNeuronSet', sample_percentage=100, sample_seed=0, node_set='Excitatory'), initialize=Initialize(type='CircuitExtractions.Initialize', circuit=Circuit(type='Circuit', name='ToyCircuit-S1-6k', path='/Users/pokorny/Data/Circuits/ToyCircuit-S1-6k/circuit_config.json'), run_validation=False)),\n",
       " CircuitExtraction(idx=1, scan_output_root=PosixPath('.'), coordinate_output_root=PosixPath('.'), coordinate_directory_option='NAME_EQUALS_VALUE', single_coordinate_scan_params=SingleCoordinateScanParams(type='SingleCoordinateScanParams', scan_params=[SingleValueScanParam(type='SingleValueScanParam', location_list=['neuron_set', 'sample_percentage'], value=100), SingleValueScanParam(type='SingleValueScanParam', location_list=['neuron_set', 'node_set'], value='Inhibitory')], nested_coordinate_subpath_str=PosixPath('.')), type='CircuitExtraction', neuron_set=PredefinedNeuronSet(type='PredefinedNeuronSet', simulation_level_name='PredefinedNeuronSet', sample_percentage=100, sample_seed=0, node_set='Inhibitory'), initialize=Initialize(type='CircuitExtractions.Initialize', circuit=Circuit(type='Circuit', name='ToyCircuit-S1-6k', path='/Users/pokorny/Data/Circuits/ToyCircuit-S1-6k/circuit_config.json'), run_validation=False)),\n",
       " CircuitExtraction(idx=2, scan_output_root=PosixPath('.'), coordinate_output_root=PosixPath('.'), coordinate_directory_option='NAME_EQUALS_VALUE', single_coordinate_scan_params=SingleCoordinateScanParams(type='SingleCoordinateScanParams', scan_params=[SingleValueScanParam(type='SingleValueScanParam', location_list=['neuron_set', 'sample_percentage'], value=500), SingleValueScanParam(type='SingleValueScanParam', location_list=['neuron_set', 'node_set'], value='Excitatory')], nested_coordinate_subpath_str=PosixPath('.')), type='CircuitExtraction', neuron_set=PredefinedNeuronSet(type='PredefinedNeuronSet', simulation_level_name='PredefinedNeuronSet', sample_percentage=500, sample_seed=0, node_set='Excitatory'), initialize=Initialize(type='CircuitExtractions.Initialize', circuit=Circuit(type='Circuit', name='ToyCircuit-S1-6k', path='/Users/pokorny/Data/Circuits/ToyCircuit-S1-6k/circuit_config.json'), run_validation=False)),\n",
       " CircuitExtraction(idx=3, scan_output_root=PosixPath('.'), coordinate_output_root=PosixPath('.'), coordinate_directory_option='NAME_EQUALS_VALUE', single_coordinate_scan_params=SingleCoordinateScanParams(type='SingleCoordinateScanParams', scan_params=[SingleValueScanParam(type='SingleValueScanParam', location_list=['neuron_set', 'sample_percentage'], value=500), SingleValueScanParam(type='SingleValueScanParam', location_list=['neuron_set', 'node_set'], value='Inhibitory')], nested_coordinate_subpath_str=PosixPath('.')), type='CircuitExtraction', neuron_set=PredefinedNeuronSet(type='PredefinedNeuronSet', simulation_level_name='PredefinedNeuronSet', sample_percentage=500, sample_seed=0, node_set='Inhibitory'), initialize=Initialize(type='CircuitExtractions.Initialize', circuit=Circuit(type='Circuit', name='ToyCircuit-S1-6k', path='/Users/pokorny/Data/Circuits/ToyCircuit-S1-6k/circuit_config.json'), run_validation=False))]"
      ]
     },
     "execution_count": 10,
     "metadata": {},
     "output_type": "execute_result"
    }
   ],
   "source": [
    "# Display the intermediary data\n",
    "grid_scan.multiple_value_parameters(display=True)\n",
    "grid_scan.coordinate_parameters(display=True)\n",
    "grid_scan.coordinate_instances(display=True)"
   ]
  },
  {
   "cell_type": "code",
   "execution_count": 11,
   "metadata": {},
   "outputs": [
    {
     "name": "stdout",
     "output_type": "stream",
     "text": [
      "Extracting subcircuit from 'ToyCircuit-S1-6k'\n",
      "Copying morphologies for population 'All' (100)\n"
     ]
    },
    {
     "name": "stderr",
     "output_type": "stream",
     "text": [
      "Copying .asc morphologies: 100%|████████████████████████████████████████████████████████████████████████████| 99/99 [00:00<00:00, 3580.86it/s]\n"
     ]
    },
    {
     "name": "stdout",
     "output_type": "stream",
     "text": [
      "Copying biophysical_neuron_models for population 'All' (100)\n",
      "Extraction DONE\n",
      "Extracting subcircuit from 'ToyCircuit-S1-6k'\n",
      "Copying morphologies for population 'All' (100)\n"
     ]
    },
    {
     "name": "stderr",
     "output_type": "stream",
     "text": [
      "Copying .asc morphologies: 100%|████████████████████████████████████████████████████████████████████████████| 99/99 [00:00<00:00, 2728.24it/s]"
     ]
    },
    {
     "name": "stdout",
     "output_type": "stream",
     "text": [
      "Copying biophysical_neuron_models for population 'All' (100)\n",
      "Extraction DONE\n",
      "Extracting subcircuit from 'ToyCircuit-S1-6k'\n"
     ]
    },
    {
     "name": "stderr",
     "output_type": "stream",
     "text": [
      "\n"
     ]
    },
    {
     "name": "stdout",
     "output_type": "stream",
     "text": [
      "Copying morphologies for population 'All' (500)\n"
     ]
    },
    {
     "name": "stderr",
     "output_type": "stream",
     "text": [
      "Copying .asc morphologies: 100%|██████████████████████████████████████████████████████████████████████████| 497/497 [00:00<00:00, 3843.36it/s]\n"
     ]
    },
    {
     "name": "stdout",
     "output_type": "stream",
     "text": [
      "Copying biophysical_neuron_models for population 'All' (500)\n",
      "Extraction DONE\n",
      "Extracting subcircuit from 'ToyCircuit-S1-6k'\n",
      "Copying morphologies for population 'All' (500)\n"
     ]
    },
    {
     "name": "stderr",
     "output_type": "stream",
     "text": [
      "Copying .asc morphologies: 100%|██████████████████████████████████████████████████████████████████████████| 471/471 [00:00<00:00, 3860.09it/s]\n"
     ]
    },
    {
     "name": "stdout",
     "output_type": "stream",
     "text": [
      "Copying biophysical_neuron_models for population 'All' (500)\n",
      "Extraction DONE\n",
      "create_bbp_workflow_campaign_config() not yet complete.\n"
     ]
    },
    {
     "data": {
      "text/plain": [
       "{0: None, 1: None, 2: None, 3: None}"
      ]
     },
     "execution_count": 11,
     "metadata": {},
     "output_type": "execute_result"
    }
   ],
   "source": [
    "grid_scan.execute(processing_method='run')"
   ]
  }
 ],
 "metadata": {
  "kernelspec": {
   "display_name": "obi-one",
   "language": "python",
   "name": "obi-one"
  },
  "language_info": {
   "codemirror_mode": {
    "name": "ipython",
    "version": 3
   },
   "file_extension": ".py",
   "mimetype": "text/x-python",
   "name": "python",
   "nbconvert_exporter": "python",
   "pygments_lexer": "ipython3",
   "version": "3.12.9"
  }
 },
 "nbformat": 4,
 "nbformat_minor": 4
}
