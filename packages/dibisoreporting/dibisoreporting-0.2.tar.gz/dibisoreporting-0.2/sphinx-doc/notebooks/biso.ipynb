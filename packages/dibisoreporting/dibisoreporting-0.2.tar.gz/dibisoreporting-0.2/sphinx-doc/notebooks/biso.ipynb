{
 "cells": [
  {
   "cell_type": "markdown",
   "id": "e12c69317906fc53",
   "metadata": {},
   "source": [
    "# BiSO\n",
    "\n",
    "Example to generate a BiSO report (Bilan de la Science Ouverte: Open-Science report).\n",
    "\n",
    "This generates the report for the Université Paris-Salcay, year 2024, and limits the number of works to\n",
    "the value set by `max_entities` (10) in the library `dibisoplot`."
   ]
  },
  {
   "cell_type": "code",
   "execution_count": 1,
   "id": "b213d3f7-399c-4ec1-a77f-f22ca0af7de9",
   "metadata": {},
   "outputs": [
    {
     "name": "stdout",
     "output_type": "stream",
     "text": [
      "Returning 10 dois (limit at 10)\n",
      "Downloading the metadata for 10 DOIs from OpenAlex...\n"
     ]
    },
    {
     "name": "stderr",
     "output_type": "stream",
     "text": [
      "100%|███████████████████████████████████████████████████████████████████████████████████████████████████████████████| 10/10 [00:00<00:00, 20.09it/s]\n"
     ]
    },
    {
     "name": "stdout",
     "output_type": "stream",
     "text": [
      "7 works retrieved successfully from OpenAlex out of 10\n",
      "29 unique institutions with which we collaborated on works\n"
     ]
    },
    {
     "name": "stderr",
     "output_type": "stream",
     "text": [
      "100%|███████████████████████████████████████████████████████████████████████████████████████████████████████████████| 29/29 [00:01<00:00, 24.98it/s]\n"
     ]
    },
    {
     "name": "stdout",
     "output_type": "stream",
     "text": [
      "14 unique institutions to plot\n",
      "Returning 10 dois (limit at 10)\n",
      "Downloading the metadata for 10 DOIs from OpenAlex...\n"
     ]
    },
    {
     "name": "stderr",
     "output_type": "stream",
     "text": [
      "100%|███████████████████████████████████████████████████████████████████████████████████████████████████████████████| 10/10 [00:00<00:00, 20.65it/s]\n"
     ]
    },
    {
     "name": "stdout",
     "output_type": "stream",
     "text": [
      "7 works retrieved successfully from OpenAlex out of 10\n",
      "29 unique institutions with which we collaborated on works\n"
     ]
    },
    {
     "name": "stderr",
     "output_type": "stream",
     "text": [
      "100%|███████████████████████████████████████████████████████████████████████████████████████████████████████████████| 29/29 [00:01<00:00, 23.59it/s]\n"
     ]
    },
    {
     "name": "stdout",
     "output_type": "stream",
     "text": [
      "14 unique institutions to plot\n",
      "Returning 10 dois (limit at 10)\n",
      "Downloading the metadata for 10 DOIs from OpenAlex...\n"
     ]
    },
    {
     "name": "stderr",
     "output_type": "stream",
     "text": [
      "100%|███████████████████████████████████████████████████████████████████████████████████████████████████████████████| 10/10 [00:00<00:00, 21.47it/s]\n"
     ]
    },
    {
     "name": "stdout",
     "output_type": "stream",
     "text": [
      "7 works retrieved successfully from OpenAlex out of 10\n",
      "29 unique institutions with which we collaborated on works\n"
     ]
    },
    {
     "name": "stderr",
     "output_type": "stream",
     "text": [
      "100%|███████████████████████████████████████████████████████████████████████████████████████████████████████████████| 29/29 [00:00<00:00, 42.01it/s]\n"
     ]
    },
    {
     "name": "stdout",
     "output_type": "stream",
     "text": [
      "29 unique institutions to plot\n",
      "Returning 10 dois (limit at 10)\n",
      "Downloading the metadata for 10 DOIs from OpenAlex...\n"
     ]
    },
    {
     "name": "stderr",
     "output_type": "stream",
     "text": [
      "100%|███████████████████████████████████████████████████████████████████████████████████████████████████████████████| 10/10 [00:00<00:00, 21.65it/s]\n"
     ]
    },
    {
     "name": "stdout",
     "output_type": "stream",
     "text": [
      "7 works retrieved successfully from OpenAlex out of 10\n",
      "29 unique institutions with which we collaborated on works\n"
     ]
    },
    {
     "name": "stderr",
     "output_type": "stream",
     "text": [
      "100%|███████████████████████████████████████████████████████████████████████████████████████████████████████████████| 29/29 [00:00<00:00, 43.68it/s]\n"
     ]
    },
    {
     "name": "stdout",
     "output_type": "stream",
     "text": [
      "29 unique institutions to plot\n"
     ]
    },
    {
     "name": "stderr",
     "output_type": "stream",
     "text": [
      "INFO:dibisoreporting.dibisoreporting:Downloading main_tex file from https://raw.githubusercontent.com/dibiso-upsaclay/dibiso-latex-templates/refs/heads/main/examples/biso/biso-main.tex...\n",
      "INFO:dibisoreporting.dibisoreporting:Successfully downloaded the main_tex file\n",
      "INFO:dibisoreporting.dibisoreporting:The latexmkrc file has been created with the default content.\n",
      "INFO:dibisoreporting.dibisoreporting:Using GitHub release URL: https://github.com/dibiso-upsaclay/dibiso-latex-templates/releases/latest\n",
      "INFO:dibisoreporting.dibisoreporting:Downloading LaTeX template from https://api.github.com/repos/dibiso-upsaclay/dibiso-latex-templates/releases/latest...\n",
      "INFO:dibisoreporting.dibisoreporting:Successfully downloaded and extracted the LaTeX template\n"
     ]
    }
   ],
   "source": [
    "from dibisoreporting import Biso\n",
    "\n",
    "biso_reporting = Biso(\n",
    "    \"UNIV-PARIS-SACLAY\",\n",
    "    2024,\n",
    "    lab_acronym = \"UPSaclay\",\n",
    "    lab_full_name = \"Université Paris-Saclay\",\n",
    "    latex_main_file_url = \"https://raw.githubusercontent.com/dibiso-upsaclay/dibiso-latex-templates/refs/heads/main/examples/biso/biso-main.tex\",\n",
    "    latex_template_url = \"https://github.com/dibiso-upsaclay/dibiso-latex-templates/releases/latest\",\n",
    "    max_entities = 10,\n",
    "    root_path = \"test_report\",\n",
    "    watermark_text = \"DUMMY DATA\",\n",
    ")\n",
    "\n",
    "biso_reporting.generate_report()"
   ]
  },
  {
   "cell_type": "markdown",
   "id": "24641189-dda2-48aa-8246-8454d7426c42",
   "metadata": {},
   "source": [
    "Romain THOMAS 2025  \n",
    "DiBISO - Université Paris-Saclay"
   ]
  }
 ],
 "metadata": {
  "kernelspec": {
   "display_name": "Python 3 (ipykernel)",
   "language": "python",
   "name": "python3"
  },
  "language_info": {
   "codemirror_mode": {
    "name": "ipython",
    "version": 3
   },
   "file_extension": ".py",
   "mimetype": "text/x-python",
   "name": "python",
   "nbconvert_exporter": "python",
   "pygments_lexer": "ipython3",
   "version": "3.12.3"
  }
 },
 "nbformat": 4,
 "nbformat_minor": 5
}
