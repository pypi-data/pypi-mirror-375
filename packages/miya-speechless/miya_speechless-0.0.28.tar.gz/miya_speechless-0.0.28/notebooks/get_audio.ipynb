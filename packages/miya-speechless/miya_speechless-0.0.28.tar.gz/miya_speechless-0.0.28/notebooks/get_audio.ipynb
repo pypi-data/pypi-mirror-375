{
 "cells": [
  {
   "cell_type": "code",
   "execution_count": null,
   "metadata": {},
   "outputs": [],
   "source": [
    "from miya_speechless.download_audio import download_and_extract_audio"
   ]
  },
  {
   "cell_type": "code",
   "execution_count": 5,
   "metadata": {},
   "outputs": [],
   "source": [
    "video_urls = [\n",
    "    \"https://www.youtube.com/watch?v=4ostqJD3Psc&t=24s\",\n",
    "    \"https://www.youtube.com/watch?v=Zy1h49_L8ME\",\n",
    "    \"https://www.youtube.com/watch?v=XgIKpKE_mzw\",\n",
    "    \"https://www.youtube.com/watch?v=3BP5fUxuoH8\",\n",
    "    \"https://www.youtube.com/watch?v=3G91yvYxFBI\",\n",
    "]"
   ]
  },
  {
   "cell_type": "code",
   "execution_count": 3,
   "metadata": {},
   "outputs": [],
   "source": [
    "path_to_save = \"../data/audio\""
   ]
  },
  {
   "cell_type": "code",
   "execution_count": null,
   "metadata": {},
   "outputs": [],
   "source": [
    "for video_url in video_urls:\n",
    "    download_and_extract_audio(video_url, path_to_save, overwrite=True)"
   ]
  }
 ],
 "metadata": {
  "kernelspec": {
   "display_name": "speechless-ncOQqsHn-py3.12",
   "language": "python",
   "name": "python3"
  },
  "language_info": {
   "codemirror_mode": {
    "name": "ipython",
    "version": 3
   },
   "file_extension": ".py",
   "mimetype": "text/x-python",
   "name": "python",
   "nbconvert_exporter": "python",
   "pygments_lexer": "ipython3",
   "version": "3.12.7"
  }
 },
 "nbformat": 4,
 "nbformat_minor": 2
}
