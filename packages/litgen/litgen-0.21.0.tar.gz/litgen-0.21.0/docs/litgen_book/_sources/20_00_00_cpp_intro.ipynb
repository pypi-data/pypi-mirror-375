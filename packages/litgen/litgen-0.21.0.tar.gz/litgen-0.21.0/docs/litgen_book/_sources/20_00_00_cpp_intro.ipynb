{
 "cells": [
  {
   "cell_type": "markdown",
   "metadata": {},
   "source": [
    "# srcmlcpp: C++ code parsing\n",
    "\n",
    "litgen provides three separate python packages, srcmlcpp is one of them:\n",
    "\n",
    "* [`codemanip`](https://github.com/pthom/litgen/tree/main/packages/codemanip): a python package to perform _textual_ manipulations on C++ and Python code. See [code_utils.py](https://github.com/pthom/litgen/tree/main/packages/codemanip/code_utils.py)\n",
    "* [`srcmlcpp`](https://github.com/pthom/litgen/tree/main/packages/srcmlcpp): a python package that build on top of srcML in order to interpret the XML tree produced by srcML as a tree of python object resembling a C++ AST.\n",
    "* [`litgen`](https://github.com/pthom/litgen/tree/main/packages/litgen): a python package that generates python bindings from C++ code.\n",
    "\n"
   ]
  },
  {
   "cell_type": "markdown",
   "metadata": {},
   "source": [
    "\n",
    "[`srcmlcpp`](https://github.com/pthom/litgen/tree/main/packages/srcmlcpp) will transform C++ source into a tree of Python objects (descendants of `CppElement`) that reflect the C++ AST.\n",
    "\n",
    "This tree is used by litgen to generate the python bindings. It may also be used to perform automatic C++ code transformations.\n",
    "\n",
    "## Transform C++ code into a CppElement tree\n",
    "Given the C++ code below: "
   ]
  },
  {
   "cell_type": "code",
   "execution_count": 1,
   "metadata": {},
   "outputs": [],
   "source": [
    "code = \"\"\"\n",
    "// A Demo struct\n",
    "struct Foo\n",
    "{\n",
    "    const int answer(int *v=nullptr); // Returns the answer\n",
    "};\n",
    "\"\"\""
   ]
  },
  {
   "cell_type": "markdown",
   "metadata": {},
   "source": [
    "srcmlcpp can produce a tree of `CppElement` with this call:"
   ]
  },
  {
   "cell_type": "code",
   "execution_count": 2,
   "metadata": {},
   "outputs": [],
   "source": [
    "import srcmlcpp\n",
    "\n",
    "options = srcmlcpp.SrcmlcppOptions()\n",
    "cpp_unit = srcmlcpp.code_to_cpp_unit(options, code)"
   ]
  },
  {
   "cell_type": "markdown",
   "metadata": {},
   "source": [
    "`cpp_unit` is then a tree of Python object (descendants of `CppElement`) that represents the source code.\n",
    "\n",
    "Here is what it looks like under a debugger:\n",
    "![tree](images/srcml_cpp_doc.png)\n"
   ]
  },
  {
   "cell_type": "markdown",
   "metadata": {},
   "source": [
    "## Transform a CppElement tree into C++ code"
   ]
  },
  {
   "cell_type": "markdown",
   "metadata": {},
   "source": [
    "### Transformation to source code from a tree of `CppElement`\n",
    "\n",
    "`CppElement` provides a method `str_code()` that can output the C++ code it contains. It is close to the original source code (including comments), but can differ a bit.\n",
    "\n",
    "```{note}\n",
    "Any modification applied to the AST tree by modifying the CppElements objects (CppUnit, CppStruct, etc.) will be visible using this method\n",
    "```"
   ]
  },
  {
   "cell_type": "code",
   "execution_count": 8,
   "metadata": {},
   "outputs": [
    {
     "data": {
      "text/html": [
       "\n",
       "<style>\n",
       ".collapsible_header {\n",
       "  background-color: #AAAAAA;\n",
       "  color: white;\n",
       "  cursor: pointer;\n",
       "  padding: 3px;\n",
       "  width: 100%;\n",
       "  border: none;\n",
       "  text-align: left;\n",
       "  outline: none;\n",
       "  font-style: italic;\n",
       "}\n",
       "\n",
       ".collapsible_header_opened {\n",
       "  background-color: #555;\n",
       "}\n",
       "\n",
       ".collapsible_header:hover {\n",
       "  background-color: #AAAAFF;\n",
       "}\n",
       "\n",
       ".collapsible_header:after {\n",
       "  content: '\\002B';\n",
       "  color: white;\n",
       "  font-weight: bold;\n",
       "  float: right;\n",
       "  margin-left: 5px;\n",
       "}\n",
       "\n",
       ".collapsible_header_opened:after {\n",
       "  content: \"\\2212\";\n",
       "}\n",
       "\n",
       ".collapsible_content {\n",
       "  padding: 0 18px;\n",
       "  max-height: 0;\n",
       "  overflow-x: scroll;\n",
       "  overflow-y: scroll;\n",
       "  min-width: 100%;\n",
       "  transition: max-height 0.2s ease-out;\n",
       "  background-color: #f1f1f1;\n",
       "}\n",
       "</style>\n",
       "\n",
       "    <script>\n",
       "       function copy_code_1706193036050_672() {\n",
       "            let code = `\n",
       "// A Demo struct\n",
       "struct Foo\n",
       "{\n",
       "public: // <default_access_type/>\n",
       "    const int answer(int * v = nullptr); // Returns the answer\n",
       "};\n",
       "\n",
       "`;\n",
       "            navigator.clipboard.writeText(code);\n",
       "       }\n",
       "    </script>\n",
       "    <button class=\"collapsible_header\" id=\"btn_1706193036050_672_3\" ></button>\n",
       "    <div class=\"collapsible_content\" id=\"content_1706193036050_672_3\">\n",
       "        <div>\n",
       "                <button onclick=\"copy_code_1706193036050_672()\" align=\"right\">copy &#x270d;</button>\n",
       "        </div>\n",
       "        <style>pre { line-height: 125%; }\n",
       "td.linenos .normal { color: inherit; background-color: transparent; padding-left: 5px; padding-right: 5px; }\n",
       "span.linenos { color: inherit; background-color: transparent; padding-left: 5px; padding-right: 5px; }\n",
       "td.linenos .special { color: #000000; background-color: #ffffc0; padding-left: 5px; padding-right: 5px; }\n",
       "span.linenos.special { color: #000000; background-color: #ffffc0; padding-left: 5px; padding-right: 5px; }\n",
       ".highlight .hll { background-color: #3c3836 }\n",
       ".highlight { background: #fbf1c7; }\n",
       ".highlight .c { color: #928374; font-style: italic } /* Comment */\n",
       ".highlight .err { color: #fbf1c7; background-color: #9d0006 } /* Error */\n",
       ".highlight .k { color: #9d0006 } /* Keyword */\n",
       ".highlight .ch { color: #928374; font-style: italic } /* Comment.Hashbang */\n",
       ".highlight .cm { color: #928374; font-style: italic } /* Comment.Multiline */\n",
       ".highlight .c-PreProc { color: #427b58; font-style: italic } /* Comment.PreProc */\n",
       ".highlight .cp { color: #928374; font-style: italic } /* Comment.Preproc */\n",
       ".highlight .cpf { color: #928374; font-style: italic } /* Comment.PreprocFile */\n",
       ".highlight .c1 { color: #928374; font-style: italic } /* Comment.Single */\n",
       ".highlight .cs { color: #3c3836; font-weight: bold; font-style: italic } /* Comment.Special */\n",
       ".highlight .gd { color: #fbf1c7; background-color: #9d0006 } /* Generic.Deleted */\n",
       ".highlight .ge { font-style: italic } /* Generic.Emph */\n",
       ".highlight .gr { color: #9d0006 } /* Generic.Error */\n",
       ".highlight .gh { color: #3c3836; font-weight: bold } /* Generic.Heading */\n",
       ".highlight .gi { color: #fbf1c7; background-color: #79740e } /* Generic.Inserted */\n",
       ".highlight .go { color: #32302f } /* Generic.Output */\n",
       ".highlight .gp { color: #7c6f64 } /* Generic.Prompt */\n",
       ".highlight .gs { font-weight: bold } /* Generic.Strong */\n",
       ".highlight .gu { color: #3c3836; text-decoration: underline } /* Generic.Subheading */\n",
       ".highlight .gt { color: #9d0006 } /* Generic.Traceback */\n",
       ".highlight .kc { color: #9d0006 } /* Keyword.Constant */\n",
       ".highlight .kd { color: #9d0006 } /* Keyword.Declaration */\n",
       ".highlight .kn { color: #9d0006 } /* Keyword.Namespace */\n",
       ".highlight .kp { color: #9d0006 } /* Keyword.Pseudo */\n",
       ".highlight .kr { color: #9d0006 } /* Keyword.Reserved */\n",
       ".highlight .kt { color: #9d0006 } /* Keyword.Type */\n",
       ".highlight .m { color: #8f3f71 } /* Literal.Number */\n",
       ".highlight .s { color: #79740e } /* Literal.String */\n",
       ".highlight .na { color: #b57614 } /* Name.Attribute */\n",
       ".highlight .nb { color: #af3a03 } /* Name.Builtin */\n",
       ".highlight .nc { color: #427b58 } /* Name.Class */\n",
       ".highlight .no { color: #8f3f71 } /* Name.Constant */\n",
       ".highlight .nd { color: #9d0006 } /* Name.Decorator */\n",
       ".highlight .ne { color: #9d0006 } /* Name.Exception */\n",
       ".highlight .nf { color: #427b58 } /* Name.Function */\n",
       ".highlight .nn { color: #427b58 } /* Name.Namespace */\n",
       ".highlight .nt { color: #427b58 } /* Name.Tag */\n",
       ".highlight .nv { color: #076678 } /* Name.Variable */\n",
       ".highlight .ow { color: #9d0006 } /* Operator.Word */\n",
       ".highlight .mb { color: #8f3f71 } /* Literal.Number.Bin */\n",
       ".highlight .mf { color: #8f3f71 } /* Literal.Number.Float */\n",
       ".highlight .mh { color: #8f3f71 } /* Literal.Number.Hex */\n",
       ".highlight .mi { color: #8f3f71 } /* Literal.Number.Integer */\n",
       ".highlight .mo { color: #8f3f71 } /* Literal.Number.Oct */\n",
       ".highlight .sa { color: #79740e } /* Literal.String.Affix */\n",
       ".highlight .sb { color: #79740e } /* Literal.String.Backtick */\n",
       ".highlight .sc { color: #79740e } /* Literal.String.Char */\n",
       ".highlight .dl { color: #79740e } /* Literal.String.Delimiter */\n",
       ".highlight .sd { color: #79740e } /* Literal.String.Doc */\n",
       ".highlight .s2 { color: #79740e } /* Literal.String.Double */\n",
       ".highlight .se { color: #af3a03 } /* Literal.String.Escape */\n",
       ".highlight .sh { color: #79740e } /* Literal.String.Heredoc */\n",
       ".highlight .si { color: #79740e } /* Literal.String.Interpol */\n",
       ".highlight .sx { color: #79740e } /* Literal.String.Other */\n",
       ".highlight .sr { color: #79740e } /* Literal.String.Regex */\n",
       ".highlight .s1 { color: #79740e } /* Literal.String.Single */\n",
       ".highlight .ss { color: #79740e } /* Literal.String.Symbol */\n",
       ".highlight .bp { color: #af3a03 } /* Name.Builtin.Pseudo */\n",
       ".highlight .fm { color: #427b58 } /* Name.Function.Magic */\n",
       ".highlight .vc { color: #076678 } /* Name.Variable.Class */\n",
       ".highlight .vg { color: #076678 } /* Name.Variable.Global */\n",
       ".highlight .vi { color: #076678 } /* Name.Variable.Instance */\n",
       ".highlight .vm { color: #076678 } /* Name.Variable.Magic */\n",
       ".highlight .il { color: #8f3f71 } /* Literal.Number.Integer.Long */</style> <div class=\"highlight\"><pre><span></span><span class=\"c1\">// A Demo struct</span>\n",
       "<span class=\"k\">struct</span><span class=\"w\"> </span><span class=\"nc\">Foo</span>\n",
       "<span class=\"p\">{</span>\n",
       "<span class=\"k\">public</span><span class=\"o\">:</span><span class=\"w\"> </span><span class=\"c1\">// &lt;default_access_type/&gt;</span>\n",
       "<span class=\"w\">    </span><span class=\"k\">const</span><span class=\"w\"> </span><span class=\"kt\">int</span><span class=\"w\"> </span><span class=\"n\">answer</span><span class=\"p\">(</span><span class=\"kt\">int</span><span class=\"w\"> </span><span class=\"o\">*</span><span class=\"w\"> </span><span class=\"n\">v</span><span class=\"w\"> </span><span class=\"o\">=</span><span class=\"w\"> </span><span class=\"k\">nullptr</span><span class=\"p\">);</span><span class=\"w\"> </span><span class=\"c1\">// Returns the answer</span>\n",
       "<span class=\"p\">};</span>\n",
       "</pre></div>\n",
       "\n",
       "    </div>\n",
       "    \n",
       "    <script>\n",
       "    var button = document.getElementById(\"btn_1706193036050_672_3\");\n",
       "    button.addEventListener(\"click\", function() {\n",
       "        this.classList.toggle(\"collapsible_header_opened\");\n",
       "        var content = document.getElementById(\"content_1706193036050_672_3\");\n",
       "        if (content.style.maxHeight){\n",
       "          content.style.maxHeight = null;\n",
       "        } else {\n",
       "          content.style.maxHeight = collapsible_content.scrollHeight + \"px\";\n",
       "        }\n",
       "    });\n",
       "    </script>\n",
       "    \n",
       "            <script>\n",
       "            var collapsible_header = document.getElementById(\"btn_1706193036050_672_3\");\n",
       "            collapsible_header.classList.toggle(\"collapsible_header_opened\");\n",
       "            var collapsible_content = document.getElementById(\"content_1706193036050_672_3\");\n",
       "            collapsible_content.style.maxHeight = collapsible_content.scrollHeight + \"px\";\n",
       "            </script>\n",
       "            "
      ],
      "text/plain": [
       "<IPython.core.display.HTML object>"
      ]
     },
     "metadata": {},
     "output_type": "display_data"
    }
   ],
   "source": [
    "from litgen.demo import litgen_demo\n",
    "\n",
    "litgen_demo.show_cpp_code(cpp_unit.str_code())"
   ]
  },
  {
   "cell_type": "markdown",
   "metadata": {},
   "source": [
    "### \"Verbatim\" transformation from tree to code\n",
    "\n",
    "You can obtain the verbatim source code (i.e. the exact same source code that generated the tree), with a call to `str_code_verbatim()`. \n",
    "\n",
    "```{note}\n",
    "* This will call the srcML executable using the srcml xml tree stored inside `cpp_unit.srcml_xml`, which guarantees to return the same source code\n",
    "* Any modification applied to the AST tree by modifying the `CppElement` python objects (CppUnit, CppStruct, etc.) will not be visible using this method\n",
    "```"
   ]
  },
  {
   "cell_type": "code",
   "execution_count": 11,
   "metadata": {},
   "outputs": [
    {
     "name": "stdout",
     "output_type": "stream",
     "text": [
      "\n",
      "// A Demo struct\n",
      "struct Foo\n",
      "{\n",
      "    const int answer(int *v=nullptr); // Returns the answer\n",
      "};\n",
      "\n"
     ]
    }
   ],
   "source": [
    "print(cpp_unit.str_code_verbatim())"
   ]
  },
  {
   "cell_type": "markdown",
   "metadata": {},
   "source": [
    "## CppElement types\n",
    "\n",
    "When parsing C++ code, it will be represented by many python objects, that represents differents C++ tokens.\n",
    "\n",
    "See the diagram below for more information:\n",
    "\n",
    "![srcmlcpp_diagram](images/srcmlcpp_diagram.png)"
   ]
  },
  {
   "cell_type": "markdown",
   "metadata": {},
   "source": [
    "## litgen and srcmlcpp\n",
    "\n",
    "For information, when litgen transform C++ code into python bindings, it will transform the `CppElement` tree into a tree of `AdaptedElement`. \n",
    "\n",
    "See diagram below:\n",
    "\n",
    "![litgen_diagram](images/litgen_diagram.png)"
   ]
  }
 ],
 "metadata": {
  "kernelspec": {
   "display_name": "venv",
   "language": "python",
   "name": "python3"
  },
  "language_info": {
   "codemirror_mode": {
    "name": "ipython",
    "version": 3
   },
   "file_extension": ".py",
   "mimetype": "text/x-python",
   "name": "python",
   "nbconvert_exporter": "python",
   "pygments_lexer": "ipython3",
   "version": "3.12.0"
  }
 },
 "nbformat": 4,
 "nbformat_minor": 2
}
