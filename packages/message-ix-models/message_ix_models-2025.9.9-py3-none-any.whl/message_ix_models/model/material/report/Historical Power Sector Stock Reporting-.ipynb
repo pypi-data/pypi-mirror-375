{
 "cells": [
  {
   "cell_type": "markdown",
   "id": "1b58b637",
   "metadata": {},
   "source": [
    "This notebook only includes stock reporting of the histroical years for power sector by using historical_new_capacity. The model periods can be integrated as well by using CAP variable."
   ]
  },
  {
   "cell_type": "code",
   "execution_count": 2,
   "id": "500df0af",
   "metadata": {},
   "outputs": [],
   "source": [
    "import ixmp\n",
    "\n",
    "# Load the platform\n",
    "\n",
    "mp = ixmp.Platform()"
   ]
  },
  {
   "cell_type": "code",
   "execution_count": 3,
   "id": "6b81bf6c",
   "metadata": {},
   "outputs": [],
   "source": [
    "import message_ix\n",
    "\n",
    "\n",
    "# Enter the relevant model and scenario name\n",
    "\"\"\n",
    "base_scen = '\"oPolicy_2206_macro'\"\n",
    "base_model = 'MESSAGEix-Materials'\n",
    "scen = message_ix.Scenario(mp, base_model, base_scen, cache=True)"
   ]
  },
  {
   "cell_type": "code",
   "execution_count": 4,
   "id": "67d06ae3",
   "metadata": {},
   "outputs": [],
   "source": [
    "import pandas as pd\n",
    "\n",
    "# Retreive output material intensities and relevant technology names\n",
    "\"output_cap_ret\"\n",
    "output_cap_ret = scen.par(\"output_cap_ret\")\n",
    "technologies = output_cap_ret[\"technology\"].unique()\n",
    "technologies = pd.Series(technologies)\n",
    "technologies = technologies.to_list()"
   ]
  },
  {
   "cell_type": "code",
   "execution_count": 5,
   "id": "64e4047f",
   "metadata": {},
   "outputs": [],
   "source": [
    "# Retreive duration_period, historical_new_capacity, technical_lifetime and create a\n",
    "# historical_total_capacity dataframe\n",
    "\n",
    "duration_period = scen.par(\"duration_period\")\n",
    "historical_new_capacity = scen.par(\n",
    "    \"historical_new_capacity\", filters={\"technology\": technologies}\n",
    ")\n",
    "technical_lifetime = scen.par(\n",
    "    \"technical_lifetime\", filters={\"technology\": technologies}\n",
    ")\n",
    "historical_total_capacity = pd.DataFrame(\n",
    "    columns=[\"node_loc\", \"technology\", \"year_vtg\", \"value\", \"unit\", \"year_act\"]\n",
    ")"
   ]
  },
  {
   "cell_type": "code",
   "execution_count": 6,
   "id": "bb0deae6",
   "metadata": {},
   "outputs": [],
   "source": [
    "import numpy as np\n",
    "\n",
    "# Create the historical_total_capacity dataframe based on the lifetime.\n",
    "# historical_total_capacity = historial_new_capacity * duration_period\n",
    "\n",
    "for y in historical_new_capacity[\"year_vtg\"].unique():\n",
    "    for n in historical_new_capacity[\"node_loc\"].unique():\n",
    "        for t in historical_new_capacity[\"technology\"].unique():\n",
    "            lifetime = technical_lifetime.loc[\n",
    "                (technical_lifetime[\"year_vtg\"] == y)\n",
    "                & (technical_lifetime[\"node_loc\"] == n)\n",
    "                & (technical_lifetime[\"technology\"] == t),\n",
    "                \"value\",\n",
    "            ].values\n",
    "            capacity = historical_new_capacity.loc[\n",
    "                (historical_new_capacity[\"year_vtg\"] == y)\n",
    "                & (historical_new_capacity[\"node_loc\"] == n)\n",
    "                & (historical_new_capacity[\"technology\"] == t),\n",
    "                \"value\",\n",
    "            ].values\n",
    "\n",
    "            if (lifetime.size != 0) & (capacity.size != 0):\n",
    "                lifetime = lifetime[0]\n",
    "                lifetime = lifetime.astype(np.int32)\n",
    "\n",
    "                capacity = capacity[0]\n",
    "                period = duration_period.loc[\n",
    "                    (duration_period[\"year\"] == y), \"value\"\n",
    "                ].values[0]\n",
    "                period = period.astype(np.int32)\n",
    "                val = capacity * period\n",
    "\n",
    "                until = y + lifetime\n",
    "                df_temp = pd.DataFrame(\n",
    "                    {\n",
    "                        \"node_loc\": n,\n",
    "                        \"technology\": t,\n",
    "                        \"year_vtg\": y,\n",
    "                        \"value\": val,\n",
    "                        \"unit\": \"GW\",\n",
    "                        \"year_act\": list(range(y, until, 5)),\n",
    "                    }\n",
    "                )\n",
    "\n",
    "                historical_total_capacity = pd.concat(\n",
    "                    [df_temp, historical_total_capacity], ignore_index=True\n",
    "                )\n",
    "            else:\n",
    "                continue"
   ]
  },
  {
   "cell_type": "code",
   "execution_count": 7,
   "id": "545f32f1",
   "metadata": {},
   "outputs": [],
   "source": [
    "# Filter the dataframe for historical years. For the model years CAP variable should be\n",
    "# used.\n",
    "\n",
    "first_year = 2020\n",
    "historical_total_capacity = historical_total_capacity[\n",
    "    historical_total_capacity[\"year_act\"] < first_year\n",
    "]"
   ]
  },
  {
   "cell_type": "code",
   "execution_count": 8,
   "id": "a57a133a",
   "metadata": {},
   "outputs": [],
   "source": [
    "# Modify the dataframes and merge to calculate the stocks\n",
    "\n",
    "historical_total_capacity.rename(columns={\"value\": \"capacity\"}, inplace=True)\n",
    "historical_total_capacity = historical_total_capacity.drop([\"unit\"], axis=1)\n",
    "\n",
    "output_cap_ret = output_cap_ret.drop([\"unit\"], axis=1)\n",
    "output_cap_ret.rename(columns={\"value\": \"material_intensity\"}, inplace=True)\n",
    "\n",
    "merged_df = pd.merge(historical_total_capacity, output_cap_ret, how=\"inner\")\n",
    "\n",
    "# This way we can consider different material intensities for differnet vintage years.\n",
    "# E.g. for year_vtg 2015 material intensities change\n",
    "\n",
    "merged_df[\"material_stock\"] = merged_df[\"material_intensity\"] * merged_df[\"capacity\"]"
   ]
  },
  {
   "cell_type": "code",
   "execution_count": 9,
   "id": "1fdffe3d",
   "metadata": {},
   "outputs": [],
   "source": [
    "name = base_model + \"_\" + base_scen + \"_detailed_output1.xlsx\"\n",
    "merged_df.to_excel(name)"
   ]
  },
  {
   "cell_type": "code",
   "execution_count": null,
   "id": "e98b4051",
   "metadata": {},
   "outputs": [],
   "source": [
    "merged_df.drop([\"time_dest\", \"material_intensity\"], axis=1, inplace=True)\n",
    "merged_df_sum = merged_df.groupby(\n",
    "    [\"year_act\", \"node_loc\", \"technology\", \"node_dest\", \"commodity\", \"level\"]\n",
    ")[\"capacity\", \"material_stock\"].sum()\n",
    "merged_df_sum.reset_index(inplace=True)"
   ]
  },
  {
   "cell_type": "code",
   "execution_count": 11,
   "id": "71300784",
   "metadata": {},
   "outputs": [],
   "source": [
    "name = base_model + \"_\" + base_scen + \"_detailed_output2.xlsx\"\n",
    "merged_df_sum.to_excel(name)"
   ]
  },
  {
   "cell_type": "code",
   "execution_count": 12,
   "id": "889b9a0e",
   "metadata": {},
   "outputs": [],
   "source": [
    "# Sum over the differnet power plants\n",
    "\n",
    "merged_df_sum.drop([\"node_dest\", \"level\", \"capacity\"], axis=1, inplace=True)\n",
    "\n",
    "merged_df_sum_material = merged_df_sum.groupby([\"year_act\", \"node_loc\", \"commodity\"])[\n",
    "    \"material_stock\"\n",
    "].sum()\n",
    "merged_df_sum_material = merged_df_sum_material.to_frame()\n",
    "merged_df_sum_material.reset_index(inplace=True)"
   ]
  },
  {
   "cell_type": "code",
   "execution_count": 13,
   "id": "4c03fa24",
   "metadata": {},
   "outputs": [],
   "source": [
    "name = base_model + \"_\" + base_scen + \"_detailed_output3.xlsx\"\n",
    "merged_df_sum_material.to_excel(name)"
   ]
  },
  {
   "cell_type": "code",
   "execution_count": 14,
   "id": "1973a911",
   "metadata": {},
   "outputs": [],
   "source": [
    "# Prepare data to be dumped out as IAMC excel format\n",
    "\n",
    "final_output = pd.pivot_table(\n",
    "    merged_df_sum,\n",
    "    values=\"material_stock\",\n",
    "    columns=[\"year_act\"],\n",
    "    index=[\"node_loc\", \"commodity\"],\n",
    ")\n",
    "final_output.reset_index(inplace=True)\n",
    "final_output.rename(columns={\"node_loc\": \"Region\"}, inplace=True)\n",
    "final_output = final_output.replace(\n",
    "    [\"aluminum\", \"cement\", \"steel\"],\n",
    "    [\"Non-Ferrous Metlals|Aluminum\", \"Non-Metallic Minerals|Cement\", \"Steel\"],\n",
    ")\n",
    "final_output = final_output.assign(\n",
    "    Variable=lambda x: \"Material Stock|Power Sector|\" + x[\"commodity\"]\n",
    ")\n",
    "final_output.drop([\"commodity\"], axis=1, inplace=True)\n",
    "final_output[\"Model\"] = base_model\n",
    "final_output[\"Scenario\"] = base_scen\n",
    "final_output[\"Unit\"] = \"Mt\"\n",
    "year_cols = final_output.select_dtypes([np.number]).columns.to_list()\n",
    "initial_columns = [\"Model\", \"Scenario\", \"Region\", \"Variable\", \"Unit\"]\n",
    "reorder = initial_columns + year_cols\n",
    "final_output = final_output[reorder]\n",
    "output_name = base_model + \"_\" + base_scen + \"_power_sector_material.xlsx\"\n",
    "final_output.to_excel(output_name, index=False)"
   ]
  },
  {
   "cell_type": "code",
   "execution_count": null,
   "id": "a6098abd",
   "metadata": {},
   "outputs": [],
   "source": [
    "mp.close_db()"
   ]
  }
 ],
 "metadata": {
  "kernelspec": {
   "display_name": "Python 3 (ipykernel)",
   "language": "python",
   "name": "python3"
  },
  "language_info": {
   "codemirror_mode": {
    "name": "ipython",
    "version": 3
   },
   "file_extension": ".py",
   "mimetype": "text/x-python",
   "name": "python",
   "nbconvert_exporter": "python",
   "pygments_lexer": "ipython3",
   "version": "3.9.12"
  }
 },
 "nbformat": 4,
 "nbformat_minor": 5
}
