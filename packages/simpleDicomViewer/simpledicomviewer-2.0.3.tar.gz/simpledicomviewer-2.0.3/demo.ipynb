{
 "cells": [
  {
   "cell_type": "markdown",
   "id": "00a8cdac-51f6-456e-b41d-f145a6537879",
   "metadata": {},
   "source": [
    "# Summary\n",
    "\n",
    "This is a **very** simplistic DICOM viewer for images and related segmentations (RTSTRUCT and SEG).  It was developed as a quick and dirty solution for performing spot checks on data downloaded from [The Cancer Imaging Archive](https://www.cancerimagingarchive.net/) using [tcia_utils](https://pypi.org/project/tcia-utils/).  It was later separated into a stand-alone PyPI package as many users of tcia_utils are not concerned with interactively viewing images and this capability introduced a lot of additional dependencies.  There are many other more advanced viewers out there (e.g. 3D Slicer or itkWidgets) that you should try if your data fails with this tool.\n",
    "\n",
    "This repository includes sample data from The Cancer Imaging Archive in the \"data\" folder which you can use for testing its features.  \n",
    "\n",
    "### Citations:\n",
    "\n",
    "1. Zhao, B., Schwartz, L. H., Kris, M. G., & Riely, G. J. (2015). Coffee-break lung CT collection with scan images reconstructed at multiple imaging parameters (Version 3) [Dataset]. The Cancer Imaging Archive. https://doi.org/10.7937/k9/tcia.2015.u1x8a5nr\n",
    "2. Wee, L., Aerts, H., Kalendralis, P., & Dekker, A. (2020). RIDER Lung CT Segmentation Labels from: Decoding tumour phenotype by noninvasive imaging using a quantitative radiomics approach [Data set]. The Cancer Imaging Archive. https://doi.org/10.7937/tcia.2020.jit9grk8\n",
    "\n",
    "# Setup\n",
    "\n",
    "We're installing a forked version of pydicom-seg because the PYPI package is using a very outdated version of jsonschema, which creates a lot of dependency conflicts even though the newer version appears to work without any issues."
   ]
  },
  {
   "cell_type": "code",
   "execution_count": 4,
   "id": "4d48d78f-789d-425b-9312-68cebc8e23ee",
   "metadata": {
    "tags": []
   },
   "outputs": [],
   "source": [
    "import sys\n",
    "\n",
    "# install forked pydicom-seg with updated jsonschema version\n",
    "!{sys.executable} -m pip install --upgrade -q git+https://github.com/kirbyju/pydicom-seg.git@master\n",
    "\n",
    "# install simpleDicomViewer\n",
    "!{sys.executable} -m pip install --upgrade -q simpleDicomViewer"
   ]
  },
  {
   "cell_type": "code",
   "execution_count": 5,
   "id": "cbc996b3-7321-4497-bff6-c07114abb066",
   "metadata": {
    "tags": []
   },
   "outputs": [],
   "source": [
    "from simpleDicomViewer import dicomViewer"
   ]
  },
  {
   "cell_type": "markdown",
   "id": "10aecf31-01f7-4988-9b26-fa73d5f34b69",
   "metadata": {},
   "source": [
    "# View a series using the Tkinter file selection GUI\n",
    "\n",
    "Navigate to any directory that contains a single DICOM series."
   ]
  },
  {
   "cell_type": "code",
   "execution_count": 6,
   "id": "f95a6160-3f2b-41f7-80fb-efbcfa0c1d33",
   "metadata": {
    "tags": []
   },
   "outputs": [
    {
     "data": {
      "application/vnd.jupyter.widget-view+json": {
       "model_id": "4534228fdc2c4af1ab2354219f2b83c6",
       "version_major": 2,
       "version_minor": 0
      },
      "text/plain": [
       "interactive(children=(IntSlider(value=74, description='x', max=149), Output()), _dom_classes=('widget-interact…"
      ]
     },
     "metadata": {},
     "output_type": "display_data"
    }
   ],
   "source": [
    "dicomViewer.viewSeries()"
   ]
  },
  {
   "cell_type": "markdown",
   "id": "38eee972-9778-4793-abb4-46c1c0d1dd23",
   "metadata": {
    "tags": []
   },
   "source": [
    "# View a series by specifying the file path"
   ]
  },
  {
   "cell_type": "code",
   "execution_count": 7,
   "id": "1931add1-d0b5-4d2b-a80f-43867c6bd3e1",
   "metadata": {
    "tags": []
   },
   "outputs": [
    {
     "data": {
      "application/vnd.jupyter.widget-view+json": {
       "model_id": "a8276d5c18704a7096218432dbcfdb80",
       "version_major": 2,
       "version_minor": 0
      },
      "text/plain": [
       "interactive(children=(IntSlider(value=117, description='x', max=235), Output()), _dom_classes=('widget-interac…"
      ]
     },
     "metadata": {},
     "output_type": "display_data"
    }
   ],
   "source": [
    "dicomViewer.viewSeries(\"data/1.3.6.1.4.1.9328.50.1.83304264089411327530730818890072724533\")"
   ]
  },
  {
   "cell_type": "markdown",
   "id": "e1a251c4-73b8-4dd3-83dd-bb1201dfb94c",
   "metadata": {
    "tags": []
   },
   "source": [
    "# View a series with a segmentation overlay using the Tkinter selection GUI\n",
    "\n",
    "You'll get two pop-ups. The first is to select the image series directory and the second is to select the SEG/RTSTRUCT file."
   ]
  },
  {
   "cell_type": "code",
   "execution_count": 8,
   "id": "3a9a72f9-d00e-4ae6-94b1-92dd1c12ec01",
   "metadata": {
    "tags": []
   },
   "outputs": [
    {
     "name": "stdout",
     "output_type": "stream",
     "text": [
      "Select your image series.\n",
      "Select your annotation file.\n"
     ]
    },
    {
     "data": {
      "application/vnd.jupyter.widget-view+json": {
       "model_id": "33b053841bc249af821f9b4680010acc",
       "version_major": 2,
       "version_minor": 0
      },
      "text/plain": [
       "interactive(children=(Checkbox(value=False, description='suppress_warnings'), IntSlider(value=117, description…"
      ]
     },
     "metadata": {},
     "output_type": "display_data"
    }
   ],
   "source": [
    "dicomViewer.viewSeriesAnnotation()"
   ]
  },
  {
   "cell_type": "markdown",
   "id": "7417d0a9-881e-4d1e-bc63-a34eb432f748",
   "metadata": {},
   "source": [
    "# View a series with a segmentation overlay by specifying paths\n",
    "\n",
    "Specify the image series first and the annotation file second."
   ]
  },
  {
   "cell_type": "code",
   "execution_count": 9,
   "id": "31364b9d-7832-4815-ac90-70b0ca9417d5",
   "metadata": {
    "tags": []
   },
   "outputs": [
    {
     "name": "stderr",
     "output_type": "stream",
     "text": [
      "DICOM-SEG does not specify \"(0062, 0013) SegmentsOverlap\", assuming UNDEFINED and checking pixels\n"
     ]
    },
    {
     "data": {
      "application/vnd.jupyter.widget-view+json": {
       "model_id": "b0eb0a5b93e24d829f70b0e4410f70c6",
       "version_major": 2,
       "version_minor": 0
      },
      "text/plain": [
       "interactive(children=(Checkbox(value=False, description='suppress_warnings'), IntSlider(value=117, description…"
      ]
     },
     "metadata": {},
     "output_type": "display_data"
    }
   ],
   "source": [
    "dicomViewer.viewSeriesAnnotation(\"data/1.3.6.1.4.1.9328.50.1.83304264089411327530730818890072724533\", \"data/1.2.276.0.7230010.3.1.3.8323329.2021.1554822307.24503/1-1.dcm\")"
   ]
  }
 ],
 "metadata": {
  "kernelspec": {
   "display_name": "Python 3 (ipykernel)",
   "language": "python",
   "name": "python3"
  },
  "language_info": {
   "codemirror_mode": {
    "name": "ipython",
    "version": 3
   },
   "file_extension": ".py",
   "mimetype": "text/x-python",
   "name": "python",
   "nbconvert_exporter": "python",
   "pygments_lexer": "ipython3",
   "version": "3.11.8"
  }
 },
 "nbformat": 4,
 "nbformat_minor": 5
}
