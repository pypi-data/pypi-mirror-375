{
 "cells": [
  {
   "cell_type": "markdown",
   "id": "553baa60",
   "metadata": {},
   "source": [
    "# 导入必要库与自定义函数\n",
    "\n",
    "本节将导入 numpy 和 matplotlib，并定义辅助函数，包括 arc_degree 和 draw_petal_any，用于花瓣的绘制。"
   ]
  },
  {
   "cell_type": "code",
   "execution_count": null,
   "id": "d391ad7a",
   "metadata": {},
   "outputs": [],
   "source": [
    "import numpy as np\n",
    "import matplotlib.pyplot as plt\n",
    "\n",
    "def arc_degree(center, r, theta_start, theta_end, color='b'):\n",
    "    \"\"\"绘制圆弧辅助函数\"\"\"\n",
    "    theta = np.linspace(theta_start, theta_end, 100)\n",
    "    x = center[0] + r * np.cos(theta)\n",
    "    y = center[1] + r * np.sin(theta)\n",
    "    plt.plot(x, y, color=color, linewidth=2)\n",
    "\n",
    "def draw_petal_any(center, r, d, rotate_theta=0, color='b'):\n",
    "    \"\"\"绘制单个花瓣，支持旋转\"\"\"\n",
    "    a = np.sqrt(r**2 - d**2 / 4)\n",
    "    theta = 2 * np.arctan(2 * a / d)\n",
    "    theta_b1 = np.pi + np.pi/2 - theta/2\n",
    "    theta_e1 = np.pi + np.pi/2 + theta/2\n",
    "    theta_b2 = np.pi/2 - theta/2\n",
    "    theta_e2 = np.pi/2 + theta/2\n",
    "    center1 = (a + center[0], d/2 + center[1])\n",
    "    center2 = (a + center[0], center[1] - d/2)\n",
    "    arc_degree(center1, r, theta_b1 + rotate_theta, theta_e1 + rotate_theta, color)\n",
    "    arc_degree(center2, r, theta_b2 + rotate_theta, theta_e2 + rotate_theta, color)"
   ]
  },
  {
   "cell_type": "markdown",
   "id": "f55fb411",
   "metadata": {},
   "source": [
    "# 实现单点旋转算法\n",
    "\n",
    "下面实现一个函数，输入点坐标和旋转角度，返回旋转后的新坐标。该算法可用于花瓣中心或关键点的旋转。"
   ]
  },
  {
   "cell_type": "code",
   "execution_count": null,
   "id": "22f280dc",
   "metadata": {},
   "outputs": [],
   "source": [
    "def rotate_point(point, theta, origin=(0, 0)):\n",
    "    \"\"\"\n",
    "    单点旋转算法：将point绕origin逆时针旋转theta角度\n",
    "    \"\"\"\n",
    "    x, y = point\n",
    "    ox, oy = origin\n",
    "    x_new = ox + (x - ox) * np.cos(theta) - (y - oy) * np.sin(theta)\n",
    "    y_new = oy + (x - ox) * np.sin(theta) + (y - oy) * np.cos(theta)\n",
    "    return (x_new, y_new)\n",
    "\n",
    "# 示例：将点(1, 0)绕原点旋转90度\n",
    "rotated = rotate_point((1, 0), np.pi/2)\n",
    "print(\"旋转后的坐标:\", rotated)"
   ]
  },
  {
   "cell_type": "markdown",
   "id": "398f02a8",
   "metadata": {},
   "source": [
    "# 绘制旋转后的花瓣\n",
    "\n",
    "本节演示如何结合单点旋转算法，对花瓣的中心或关键点进行旋转，并绘制旋转后的花瓣。"
   ]
  },
  {
   "cell_type": "code",
   "execution_count": null,
   "id": "d68a9b13",
   "metadata": {},
   "outputs": [],
   "source": [
    "plt.figure(figsize=(6, 6))\n",
    "center = (0, 0)\n",
    "r = 1\n",
    "d = 1.8\n",
    "rotate_theta = np.pi / 4  # 旋转45度\n",
    "\n",
    "# 旋转花瓣中心\n",
    "rotated_center = rotate_point(center, rotate_theta)\n",
    "draw_petal_any(rotated_center, r, d, rotate_theta=rotate_theta, color='r')\n",
    "\n",
    "plt.axis('equal')\n",
    "plt.axis('off')\n",
    "plt.show()"
   ]
  },
  {
   "cell_type": "markdown",
   "id": "beef6e95",
   "metadata": {},
   "source": [
    "# 批量旋转并绘制多个花瓣\n",
    "\n",
    "通过循环批量旋转花瓣，实现完整的花朵图案绘制。"
   ]
  },
  {
   "cell_type": "code",
   "execution_count": null,
   "id": "380f5ba9",
   "metadata": {},
   "outputs": [],
   "source": [
    "plt.figure(figsize=(6, 6))\n",
    "center = (0, 0)\n",
    "r = 1\n",
    "d = 1.8\n",
    "num_petals = 12\n",
    "\n",
    "for i in range(num_petals):\n",
    "    theta = i * 2 * np.pi / num_petals\n",
    "    rotated_center = rotate_point(center, theta)\n",
    "    draw_petal_any(rotated_center, r, d, rotate_theta=theta, color='b')\n",
    "\n",
    "plt.axis('equal')\n",
    "plt.axis('off')\n",
    "plt.show()"
   ]
  }
 ],
 "metadata": {
  "language_info": {
   "name": "python"
  }
 },
 "nbformat": 4,
 "nbformat_minor": 5
}
