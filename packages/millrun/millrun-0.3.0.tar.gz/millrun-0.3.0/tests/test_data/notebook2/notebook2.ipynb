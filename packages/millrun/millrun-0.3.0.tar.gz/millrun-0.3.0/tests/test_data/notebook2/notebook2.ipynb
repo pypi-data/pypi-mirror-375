{
 "cells": [
  {
   "cell_type": "code",
   "execution_count": 3,
   "id": "11f395cd-5eb8-4e8c-9529-0457da39a202",
   "metadata": {
    "editable": true,
    "slideshow": {
     "slide_type": ""
    },
    "tags": [
     "params",
     "parameters"
    ]
   },
   "outputs": [],
   "source": [
    "tester = \"TNB01\""
   ]
  },
  {
   "cell_type": "code",
   "execution_count": 4,
   "id": "9b71b15c-6c39-45a9-8400-e919bcf83cd4",
   "metadata": {
    "editable": true,
    "slideshow": {
     "slide_type": ""
    },
    "tags": []
   },
   "outputs": [
    {
     "name": "stdout",
     "output_type": "stream",
     "text": [
      "285.7142857142857\n"
     ]
    }
   ],
   "source": [
    "values = len(tester)\n",
    "calc = 4 * values * 100 / 7\n",
    "print(calc)"
   ]
  }
 ],
 "metadata": {
  "kernelspec": {
   "display_name": "Python 3 (Structural Python)",
   "language": "python",
   "name": "sp"
  },
  "language_info": {
   "codemirror_mode": {
    "name": "ipython",
    "version": 3
   },
   "file_extension": ".py",
   "mimetype": "text/x-python",
   "name": "python",
   "nbconvert_exporter": "python",
   "pygments_lexer": "ipython3",
   "version": "3.13.0"
  }
 },
 "nbformat": 4,
 "nbformat_minor": 5
}
