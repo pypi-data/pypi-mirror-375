{
 "cells": [
  {
   "cell_type": "code",
   "execution_count": 3,
   "metadata": {},
   "outputs": [
    {
     "name": "stdout",
     "output_type": "stream",
     "text": [
      "{'behavior1.csv': 'Similarity rating test results',\n",
      " 'behavior2.csv': 'Discrimination test results',\n",
      " 'intensity.csv': 'Intensity of mixtures used',\n",
      " 'main.rmd': 'Processing workflow',\n",
      " 'mixtures.csv': 'Mixtures used'}\n"
     ]
    }
   ],
   "source": [
    "import toml\n",
    "import pyrfume\n",
    "\n",
    "pyrfume.show_files(\"ravia_2020\")"
   ]
  },
  {
   "cell_type": "code",
   "execution_count": null,
   "metadata": {},
   "outputs": [],
   "source": []
  }
 ],
 "metadata": {
  "kernelspec": {
   "display_name": "Python 3",
   "language": "python",
   "name": "python3"
  },
  "language_info": {
   "codemirror_mode": {
    "name": "ipython",
    "version": 3
   },
   "file_extension": ".py",
   "mimetype": "text/x-python",
   "name": "python",
   "nbconvert_exporter": "python",
   "pygments_lexer": "ipython3",
   "version": "3.8.3"
  }
 },
 "nbformat": 4,
 "nbformat_minor": 4
}
