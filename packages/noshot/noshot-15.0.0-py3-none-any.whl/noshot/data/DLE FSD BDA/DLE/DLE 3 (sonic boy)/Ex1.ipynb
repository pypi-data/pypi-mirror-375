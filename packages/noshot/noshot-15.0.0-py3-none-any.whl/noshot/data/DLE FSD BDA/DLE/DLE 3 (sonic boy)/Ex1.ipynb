{
 "cells": [
  {
   "cell_type": "code",
   "execution_count": null,
   "id": "30bd2975-4815-46e4-ad37-d069fc8e336a",
   "metadata": {},
   "outputs": [],
   "source": [
    "import numpy as np\n",
    "import os\n",
    "from sklearn.model_selection import train_test_split\n",
    "from sklearn.metrics import classification_report, confusion_matrix, ConfusionMatrixDisplay\n",
    "from tensorflow.keras.preprocessing.image import load_img, img_to_array\n",
    "from tensorflow.keras.models import Sequential\n",
    "from tensorflow.keras.layers import Dense, Flatten, Dropout\n",
    "from tensorflow.keras.utils import to_categorical\n",
    "import matplotlib.pyplot as plt"
   ]
  },
  {
   "cell_type": "code",
   "execution_count": null,
   "id": "efeb27d9-4b7f-4cee-911a-7e6856bc40d6",
   "metadata": {},
   "outputs": [],
   "source": [
    "# Function to load images and their labels from the dataset folder\n",
    "def load_images_from_folder(folder_path, image_size=(128, 128)):\n",
    "    images = []\n",
    "    labels = []\n",
    "    class_names = os.listdir(folder_path)\n",
    "    for label, class_name in enumerate(class_names):\n",
    "        class_path = os.path.join(folder_path, class_name)\n",
    "        for filename in os.listdir(class_path):\n",
    "            img = load_img(os.path.join(class_path, filename), target_size=image_size)\n",
    "            img_array = img_to_array(img) / 255.0  # Normalize pixel values\n",
    "            images.append(img_array)\n",
    "            labels.append(label)\n",
    "\n",
    "    return np.array(images), np.array(labels), class_names"
   ]
  },
  {
   "cell_type": "code",
   "execution_count": null,
   "id": "fe120487-1b1d-4d64-bd9a-379ed51c81b3",
   "metadata": {},
   "outputs": [],
   "source": [
    "# Load the dataset\n",
    "dataset_path = r'D:\\Neeraj\\SEM 7\\DLE LAB\\Bean_Dataset\\Bean_Dataset'\n",
    "X, y, class_names = load_images_from_folder(dataset_path)\n",
    "print(f\"Loaded {X.shape[0]} images of size {X.shape[1:]}.\")"
   ]
  },
  {
   "cell_type": "code",
   "execution_count": null,
   "id": "b8e440f8-cb5b-405f-a2e3-765d0bb3710e",
   "metadata": {},
   "outputs": [],
   "source": [
    "# Train-test split\n",
    "X_train, X_test, y_train, y_test = train_test_split(X, y, test_size=0.2, random_state=42)"
   ]
  },
  {
   "cell_type": "code",
   "execution_count": null,
   "id": "e37f401f-e3b4-4e71-b9b4-bdcd4d94032b",
   "metadata": {},
   "outputs": [],
   "source": [
    "# Flatten the image data to feed into the DNN\n",
    "X_train_flat = X_train.reshape(X_train.shape[0], -1)\n",
    "X_test_flat = X_test.reshape(X_test.shape[0], -1)"
   ]
  },
  {
   "cell_type": "code",
   "execution_count": null,
   "id": "5f936ddd-44ac-42f5-8186-67ae6ffdab04",
   "metadata": {},
   "outputs": [],
   "source": [
    "# Convert labels to one-hot encoding\n",
    "num_classes = len(class_names)\n",
    "y_train = to_categorical(y_train, num_classes)\n",
    "y_test = to_categorical(y_test, num_classes)"
   ]
  },
  {
   "cell_type": "code",
   "execution_count": null,
   "id": "144a1359-24d2-4875-b52a-6ece383e64eb",
   "metadata": {},
   "outputs": [],
   "source": [
    "# Build the DNN model\n",
    "model = Sequential([\n",
    "    Dense(512, activation='relu', input_shape=(X_train_flat.shape[1],)),\n",
    "    Dense(256, activation='relu'),\n",
    "    Dense(num_classes, activation='softmax')\n",
    "])\n",
    "\n",
    "# Compile the model\n",
    "model.compile(optimizer='adam', loss='categorical_crossentropy', metrics=['accuracy'])\n",
    "\n",
    "# Train the model\n",
    "history = model.fit(X_train_flat, y_train, epochs=10, validation_split=0.2, batch_size=32)"
   ]
  },
  {
   "cell_type": "code",
   "execution_count": null,
   "id": "e44ac332-bdb6-4bfc-b1b1-1a302641dd73",
   "metadata": {},
   "outputs": [],
   "source": [
    "# Evaluate the model\n",
    "test_loss, test_accuracy = model.evaluate(X_test_flat, y_test)\n",
    "print(f\"Test Accuracy: {test_accuracy * 100:.2f}%\")"
   ]
  },
  {
   "cell_type": "code",
   "execution_count": null,
   "id": "c0ce93d7-edac-4d35-9748-cce1208403e3",
   "metadata": {},
   "outputs": [],
   "source": [
    "# Generate predictions and evaluate the model\n",
    "y_pred = np.argmax(model.predict(X_test_flat), axis=-1)\n",
    "y_true = np.argmax(y_test, axis=-1)"
   ]
  },
  {
   "cell_type": "code",
   "execution_count": null,
   "id": "f1fbfd69-b688-4b04-85c7-ca968da6e6a4",
   "metadata": {},
   "outputs": [],
   "source": [
    "# Display the classification report and confusion matrix\n",
    "print(\"Classification Report:\")\n",
    "print(classification_report(y_true, y_pred, target_names=class_names))\n",
    "\n",
    "cm = confusion_matrix(y_true, y_pred)\n",
    "disp = ConfusionMatrixDisplay(confusion_matrix=cm, display_labels=class_names)\n",
    "disp.plot()\n",
    "plt.title('Confusion Matrix')\n",
    "plt.show()"
   ]
  },
  {
   "cell_type": "code",
   "execution_count": null,
   "id": "6dde7e3e-1995-4c4b-b483-ccc6d4e1c06d",
   "metadata": {},
   "outputs": [],
   "source": [
    "plt.figure(figsize=(16,4))\n",
    "plt.plot(history.history['accuracy'], label='Train Accuracy')\n",
    "plt.plot(history.history['val_accuracy'], label='Val Accuracy')\n",
    "plt.title('Model Accuracy')\n",
    "plt.legend()\n",
    "plt.show()"
   ]
  },
  {
   "cell_type": "code",
   "execution_count": null,
   "id": "224407b5-9aca-4851-9282-d2452b8e907c",
   "metadata": {},
   "outputs": [],
   "source": [
    "plt.figure(figsize=(16,4))\n",
    "plt.plot(history.history['loss'], label='Train Loss')\n",
    "plt.plot(history.history['val_loss'], label='Val Loss')\n",
    "plt.title('Model Loss')\n",
    "plt.legend()\n",
    "plt.show()"
   ]
  },
  {
   "cell_type": "code",
   "execution_count": null,
   "id": "85d68741-9136-4430-8d7d-b235284e5093",
   "metadata": {},
   "outputs": [],
   "source": []
  }
 ],
 "metadata": {
  "kernelspec": {
   "display_name": "Python 3 (ipykernel)",
   "language": "python",
   "name": "python3"
  },
  "language_info": {
   "codemirror_mode": {
    "name": "ipython",
    "version": 3
   },
   "file_extension": ".py",
   "mimetype": "text/x-python",
   "name": "python",
   "nbconvert_exporter": "python",
   "pygments_lexer": "ipython3",
   "version": "3.12.4"
  }
 },
 "nbformat": 4,
 "nbformat_minor": 5
}
