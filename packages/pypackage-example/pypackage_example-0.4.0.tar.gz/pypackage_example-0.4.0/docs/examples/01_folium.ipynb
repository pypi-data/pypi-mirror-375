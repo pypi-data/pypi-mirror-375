{
 "cells": [
  {
   "cell_type": "markdown",
   "id": "0",
   "metadata": {},
   "source": [
    "### Testing Custom Folium and Ipyleaflet classes\n",
    "\n",
    "[![Open In Colab](https://colab.research.google.com/assets/colab-badge.svg)](https://colab.research.google.com/github/gthlor/pypackage_example/blob/main/docs/examples/01_folium.ipynb)\n"
   ]
  },
  {
   "cell_type": "code",
   "execution_count": null,
   "id": "1",
   "metadata": {},
   "outputs": [],
   "source": [
    "#!pip install pypackage_example"
   ]
  },
  {
   "cell_type": "code",
   "execution_count": null,
   "id": "2",
   "metadata": {},
   "outputs": [],
   "source": [
    "# import my custom package and modules\n",
    "\n",
    "import pypackage_example as pl\n",
    "import pypackage_example.foliumap as flp\n",
    "\n",
    "# import folium\n",
    "# import ipyleaflet\n",
    "# import geopandas as gpd"
   ]
  },
  {
   "cell_type": "markdown",
   "id": "3",
   "metadata": {},
   "source": [
    "#### Testing pypackage_example (built on ipyleaflet)"
   ]
  },
  {
   "cell_type": "code",
   "execution_count": null,
   "id": "4",
   "metadata": {},
   "outputs": [],
   "source": [
    "m = pl.LeafletMap()\n",
    "# m.add_basemap2(basemap=\"Esri.WorldImagery\")\n",
    "m.add_layer_control()\n",
    "m"
   ]
  },
  {
   "cell_type": "code",
   "execution_count": null,
   "id": "5",
   "metadata": {},
   "outputs": [],
   "source": [
    "# just a list of URLs to try\n",
    "\n",
    "# url = \"https://github.com/opengeos/datasets/releases/download/us/us_southeast.geojson\"\n",
    "# url = \"https://github.com/opengeos/datasets/releases/download/us/us_southeast.gpkg\"\n",
    "# url = 'https://github.com/opengeos/datasets/releases/download/us/us_regions.gpkg'\n",
    "# url = r\"C:\\Users\\loren\\Downloads\\us_counties\\us_counties.shp\"        # this won't work because it's in my local machine\n",
    "# url = r\"C:\\Users\\loren\\Desktop\\xf_paper\\area_bianca_background.gpkg\" # this won't work because it's in my local machine\n",
    "url = \"https://github.com/opengeos/datasets/releases/download/us/us_southeast.zip\""
   ]
  },
  {
   "cell_type": "markdown",
   "id": "6",
   "metadata": {},
   "source": [
    "##### add vector layer from URL"
   ]
  },
  {
   "cell_type": "code",
   "execution_count": null,
   "id": "7",
   "metadata": {},
   "outputs": [],
   "source": [
    "m = pl.LeafletMap()\n",
    "m.add_vector(\n",
    "    url,\n",
    "    name=\"Countries\",\n",
    "    zoom_to_layer=True,\n",
    "    style={\"color\": \"green\", \"fillOpacity\": 0.6},\n",
    ")\n",
    "m.add_layer_control()\n",
    "m"
   ]
  },
  {
   "cell_type": "markdown",
   "id": "8",
   "metadata": {},
   "source": [
    "##### add raster layers"
   ]
  },
  {
   "cell_type": "code",
   "execution_count": null,
   "id": "9",
   "metadata": {},
   "outputs": [],
   "source": [
    "raster = \"https://github.com/opengeos/datasets/releases/download/raster/LC09_039035_20240708_30m.tif\"\n",
    "raster = \"https://github.com/opengeos/datasets/releases/download/raster/landsat7.tif\"\n",
    "m_withR = pl.LeafletMap()\n",
    "m_withR.add_raster(raster)\n",
    "m_withR"
   ]
  },
  {
   "cell_type": "code",
   "execution_count": null,
   "id": "10",
   "metadata": {},
   "outputs": [],
   "source": [
    "static_image = \"https://th.bing.com/th/id/R.81a6e74c8adbf7f55406e8c4b80669d5?rik=HqvY9afbb1CD8g&pid=ImgRaw&r=0\"\n",
    "gif = \"https://i.gifer.com/4j.gif\"\n",
    "m_withR = pl.LeafletMap()\n",
    "m_withR.add_staticImage(gif, bounds=[[37, -123], [38, -121]], name=\"gif\")\n",
    "m_withR"
   ]
  },
  {
   "cell_type": "code",
   "execution_count": null,
   "id": "11",
   "metadata": {},
   "outputs": [],
   "source": [
    "map = pl.LeafletMap()\n",
    "map.add_video(\n",
    "    \"https://static-assets.mapbox.com/mapbox-gl-js/drone.mp4\",\n",
    "    bounds=[[37.56238816, -122.515963], [37.563391708, -122.5130939]],\n",
    ")\n",
    "map.center = [37.56238816, -122.5130939]\n",
    "map.zoom = 14\n",
    "map"
   ]
  },
  {
   "cell_type": "code",
   "execution_count": null,
   "id": "12",
   "metadata": {},
   "outputs": [],
   "source": [
    "map = pl.LeafletMap()\n",
    "map.add_webservice(\n",
    "    url=\"https://imagery.nationalmap.gov/arcgis/services/USGSNAIPPlus/ImageServer/WMSServer?\",\n",
    "    lyr_name=\"USGSNAIPPlus:NaturalColor\",\n",
    "    format=\"image/png\",\n",
    "    transparent=True,\n",
    ")\n",
    "map.add_layer_control()\n",
    "map"
   ]
  },
  {
   "cell_type": "code",
   "execution_count": null,
   "id": "13",
   "metadata": {},
   "outputs": [],
   "source": [
    "map = pl.LeafletMap()\n",
    "map.add_split_map(\n",
    "    left=\"Esri.WorldImagery\",\n",
    "    right=\"https://github.com/opengeos/datasets/releases/download/raster/landsat7.tif\",\n",
    ")\n",
    "map.add_layer_control()\n",
    "map"
   ]
  },
  {
   "cell_type": "code",
   "execution_count": null,
   "id": "14",
   "metadata": {},
   "outputs": [],
   "source": [
    "map = pl.LeafletMap()\n",
    "map.add_split_map()\n",
    "map.add_layer_control()\n",
    "map"
   ]
  },
  {
   "cell_type": "markdown",
   "id": "15",
   "metadata": {},
   "source": [
    "#### Testing pypackage_example.folium (built on folium)"
   ]
  },
  {
   "cell_type": "markdown",
   "id": "16",
   "metadata": {},
   "source": [
    "##### add vector and layer control panel"
   ]
  },
  {
   "cell_type": "code",
   "execution_count": null,
   "id": "17",
   "metadata": {},
   "outputs": [],
   "source": [
    "m2 = flp.FoliumMap()\n",
    "m2.add_vector(url)\n",
    "m2.add_layer_control()\n",
    "m2"
   ]
  },
  {
   "cell_type": "markdown",
   "id": "18",
   "metadata": {},
   "source": [
    "##### adding a split map "
   ]
  },
  {
   "cell_type": "code",
   "execution_count": null,
   "id": "19",
   "metadata": {},
   "outputs": [],
   "source": [
    "m3 = flp.FoliumMap()\n",
    "m3.add_vector(url)\n",
    "m3.add_split_map(left_layer=\"OpenStreetMap\", right_layer=\"ESRI.WorldImagery\")\n",
    "m3"
   ]
  },
  {
   "cell_type": "code",
   "execution_count": null,
   "id": "20",
   "metadata": {},
   "outputs": [],
   "source": []
  }
 ],
 "metadata": {
  "kernelspec": {
   "display_name": "geo",
   "language": "python",
   "name": "python3"
  },
  "language_info": {
   "codemirror_mode": {
    "name": "ipython",
    "version": 3
   },
   "file_extension": ".py",
   "mimetype": "text/x-python",
   "name": "python",
   "nbconvert_exporter": "python",
   "pygments_lexer": "ipython3",
   "version": "3.12.11"
  }
 },
 "nbformat": 4,
 "nbformat_minor": 5
}
