{
 "cells": [
  {
   "cell_type": "markdown",
   "metadata": {},
   "source": [
    "# 18 Singular vector transformation (SVT)\n",
    "The novel SVD-based interface reduction approach is embedded in `pyFBS`. For more details on the singular vector transformation, refer to the documentation."
   ]
  },
  {
   "cell_type": "code",
   "execution_count": null,
   "metadata": {},
   "outputs": [],
   "source": [
    "import pyFBS\n",
    "\n",
    "import pandas as pd\n",
    "import numpy as np\n",
    "import matplotlib.pyplot as plt\n",
    "%matplotlib inline"
   ]
  },
  {
   "cell_type": "markdown",
   "metadata": {},
   "source": [
    "## Numerical example\n",
    "First, load a predefined datasets from the example directory. "
   ]
  },
  {
   "cell_type": "code",
   "execution_count": null,
   "metadata": {},
   "outputs": [],
   "source": [
    "pyFBS.download_lab_testbench()"
   ]
  },
  {
   "cell_type": "code",
   "execution_count": null,
   "metadata": {},
   "outputs": [],
   "source": [
    "stl = r\"./lab_testbench/STL/B.stl\"\n",
    "xlsx_pos = r\"./lab_testbench/Measurements/ammeasurements.xlsx\"\n",
    "\n",
    "full_file = r\"./lab_testbench/FEM/B.full\"\n",
    "ress_file = r\"./lab_testbench/FEM/B.rst\""
   ]
  },
  {
   "cell_type": "markdown",
   "metadata": {},
   "source": [
    "#### MK model\n",
    "Prepare a MK model for the FRF synthetization. For more details check-out the *03_FRF_synthetization.ipynb* example. "
   ]
  },
  {
   "cell_type": "code",
   "execution_count": null,
   "metadata": {},
   "outputs": [],
   "source": [
    "MK = pyFBS.MK_model(ress_file,full_file,no_modes = 100,recalculate = False, scale=1000)"
   ]
  },
  {
   "cell_type": "markdown",
   "metadata": {},
   "source": [
    "Add the STL and the corresponding mesh from FEM to the 3D view:"
   ]
  },
  {
   "cell_type": "code",
   "execution_count": null,
   "metadata": {},
   "outputs": [],
   "source": [
    "view3D = pyFBS.view3D(show_origin= True)\n",
    "mesh = view3D.add_stl(stl,name = \"engine_mount\",color = \"#8FB1CC\",opacity = .1)\n",
    "view3D.plot.add_mesh(MK.mesh, scalars = np.zeros(MK.mesh.points.shape[0]),show_scalar_bar = False,name = \"mesh\",cmap = \"coolwarm\",show_edges = True);"
   ]
  },
  {
   "cell_type": "markdown",
   "metadata": {},
   "source": [
    "To evaluate the FEM model the mode shapes can be animated: "
   ]
  },
  {
   "cell_type": "code",
   "execution_count": null,
   "metadata": {},
   "outputs": [],
   "source": [
    "select_mode = 6\n",
    "_modeshape = MK.get_modeshape(select_mode)\n",
    "\n",
    "mode_dict = pyFBS.utility.dict_animation(_modeshape,\"modeshape\",pts = MK.pts.copy(),mesh = MK.mesh)\n",
    "view3D.add_modeshape(mode_dict,run_animation = True)"
   ]
  },
  {
   "cell_type": "markdown",
   "metadata": {},
   "source": [
    "The mode shape deformation can also be cleared from the display:"
   ]
  },
  {
   "cell_type": "code",
   "execution_count": null,
   "metadata": {},
   "outputs": [],
   "source": [
    "view3D.clear_modeshape()"
   ]
  },
  {
   "cell_type": "markdown",
   "metadata": {},
   "source": [
    "Load the channel and datasets."
   ]
  },
  {
   "cell_type": "code",
   "execution_count": null,
   "metadata": {},
   "outputs": [],
   "source": [
    "df_imp = pd.read_excel(xlsx_pos, sheet_name='Impacts_B')\n",
    "df_chn = pd.read_excel(xlsx_pos, sheet_name='Channels_B')\n",
    "\n",
    "#view3D.show_imp(df_imp)\n",
    "#view3D.show_chn(df_chn)"
   ]
  },
  {
   "cell_type": "markdown",
   "metadata": {},
   "source": [
    "Currently only \"snap-to-node\" FRF synthetization is supported. Therefore, the locations of the channels and impacts have to updated to snap to the nearest node from FEM model."
   ]
  },
  {
   "cell_type": "code",
   "execution_count": null,
   "metadata": {},
   "outputs": [],
   "source": [
    "df_chn_up = MK.update_locations_df(df_chn)\n",
    "df_imp_up = MK.update_locations_df(df_imp)\n",
    "\n",
    "#view3D.show_chn(df_chn_up, color = \"k\",overwrite = False)\n",
    "#view3D.show_imp(df_imp_up, color = \"k\",overwrite = False)"
   ]
  },
  {
   "cell_type": "markdown",
   "metadata": {},
   "source": [
    "#### FRF synthetization\n",
    "Finally, the FRFs synthetization at the channel/impact DoFs:"
   ]
  },
  {
   "cell_type": "code",
   "execution_count": null,
   "metadata": {},
   "outputs": [],
   "source": [
    "MK.FRF_synth(df_chn_up,df_imp_up,f_start = 0,modal_damping = 0.003,frf_type = \"accelerance\")"
   ]
  },
  {
   "cell_type": "markdown",
   "metadata": {},
   "source": [
    "## Singular vector transformation \n",
    "For the SVT to be applied, input ``df_imp_up`` and output channel ``df_chn_up`` informations must be selected. The grouping number ``grouping_no`` must be carefully assigned to the DoFs involved in the transformation process. This is pre-defined by the user when building the excel file for the design of experiments and successively imported in the channels (ref. channels) structure pandas.DataFrame under the label `` Grouping``. The SVT reduction matrices are then extracted by applying a truncated SVD on the chosen measured FRF datasets ``FRF``. Here, a number of 6 singular components (``no_svs``) is chosen along the whole frequency range of interest ``freq``. Take care of the requirements of the SVT when applied within a FBS decoupling application (see *FBS_decoupling_SVT.ipynb*). "
   ]
  },
  {
   "cell_type": "code",
   "execution_count": null,
   "metadata": {},
   "outputs": [],
   "source": [
    "k = 6\n",
    "svt = pyFBS.SVT(df_chn_up,df_imp_up, freq = MK.freq, FRF = MK.FRF, grouping_no = [1,10],no_svs = k)\n"
   ]
  },
  {
   "cell_type": "markdown",
   "metadata": {},
   "source": [
    "Show the CMIF plot and highlight the chosen singular values per frequency line"
   ]
  },
  {
   "cell_type": "code",
   "execution_count": null,
   "metadata": {},
   "outputs": [],
   "source": [
    "plt.figure(figsize = (3,2))\n",
    "\n",
    "plt.semilogy(svt.S[:,:k],color = \"tab:blue\")\n",
    "plt.semilogy(svt.S[:,k:],\"tab:blue\",alpha = 0.2)\n",
    "plt.xlim(0,2000)\n",
    "plt.ylim(1e-5,1e4)\n",
    "\n",
    "plt.xlabel(\"Frequency [Hz]\");\n",
    "plt.ylabel(r\"CMIF $\\Sigma$ [/]\");"
   ]
  },
  {
   "cell_type": "markdown",
   "metadata": {},
   "source": [
    "For the sake of the example, the transformation is applied here only on one subsystem ``FRF``. "
   ]
  },
  {
   "cell_type": "code",
   "execution_count": null,
   "metadata": {},
   "outputs": [],
   "source": [
    "_,_,FRF_sv= svt.apply_SVT(df_chn_up,df_imp_up, freq = MK.freq,FRF = MK.FRF)\n"
   ]
  },
  {
   "cell_type": "markdown",
   "metadata": {},
   "source": [
    "Display the transformed FRFs. Note that since we have transformed the FRF datasets that was used for the extraction of the reduced singular bases, the resulting FRF matrix will be the corresponding matrix of singular values. In the following, the first 2 diagonal element of the matrix are plotted along the frequency axis."
   ]
  },
  {
   "cell_type": "code",
   "execution_count": null,
   "metadata": {},
   "outputs": [],
   "source": [
    "select_out = 0\n",
    "select_in = 0\n",
    "\n",
    "plt.figure(figsize = (8,6))\n",
    "plt.semilogy(svt.freq,np.abs(FRF_sv[:,select_out,select_in]))\n",
    "plt.semilogy(svt.freq,np.abs(FRF_sv[:,select_out+1,select_in+1]))"
   ]
  },
  {
   "cell_type": "markdown",
   "metadata": {},
   "source": [
    "#### Consistency of the SVT\n",
    "\n",
    "Check comparison of the measured FRFs with the SVT-filtered (reduced and back-transformed) ones."
   ]
  },
  {
   "cell_type": "code",
   "execution_count": null,
   "metadata": {},
   "outputs": [],
   "source": [
    "select_out = 2\n",
    "select_in = 2\n",
    "\n",
    "FRF_filt=np.zeros_like(svt.FRF,dtype = complex)\n",
    "for i in np.arange(len(svt.freq)):\n",
    "    FRF_filt[i,:,:]=svt.Fu[i,:,:] @ svt.FRF[i,:,:]@ svt.Ff[i,:,:]\n",
    "        \n",
    "plt.figure(figsize = (8,6))\n",
    "plt.subplot(211)\n",
    "plt.semilogy(svt.freq,np.abs(svt.FRF[:,select_out,select_in]),label = \"measured\")\n",
    "plt.semilogy(svt.freq,np.abs(FRF_filt[:,select_out,select_in]),'--',label = \"filtered\")\n",
    "plt.legend()\n",
    "\n",
    "plt.subplot(413)\n",
    "plt.plot(svt.freq,np.angle(svt.FRF[:,select_out,select_in]),label = \"measured\")\n",
    "plt.plot(svt.freq,np.angle(FRF_filt[:,select_out,select_in]),'--',label = \"filtered\")"
   ]
  },
  {
   "cell_type": "code",
   "execution_count": null,
   "metadata": {},
   "outputs": [],
   "source": []
  }
 ],
 "metadata": {
  "kernelspec": {
   "display_name": "Python 3",
   "language": "python",
   "name": "python3"
  },
  "language_info": {
   "codemirror_mode": {
    "name": "ipython",
    "version": 3
   },
   "file_extension": ".py",
   "mimetype": "text/x-python",
   "name": "python",
   "nbconvert_exporter": "python",
   "pygments_lexer": "ipython3",
   "version": "3.8.5"
  }
 },
 "nbformat": 4,
 "nbformat_minor": 4
}
