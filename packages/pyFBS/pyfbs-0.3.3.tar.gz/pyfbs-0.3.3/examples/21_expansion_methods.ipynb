{
 "cells": [
  {
   "cell_type": "code",
   "execution_count": 1,
   "id": "brief-president",
   "metadata": {},
   "outputs": [],
   "source": [
    "import numpy as np\n",
    "import pandas as pd\n",
    "import matplotlib.pyplot as plt\n",
    "\n",
    "import pyFBS"
   ]
  },
  {
   "cell_type": "markdown",
   "id": "856b47d6",
   "metadata": {},
   "source": [
    "### Generate parent and overlay model"
   ]
  },
  {
   "cell_type": "code",
   "execution_count": 2,
   "id": "ec865be0",
   "metadata": {},
   "outputs": [
    {
     "name": "stderr",
     "output_type": "stream",
     "text": [
      "100%|██████████████████████████████████████████████████████████████████████████████████| 6/6 [00:00<00:00, 6046.57it/s]\n",
      "100%|██████████████████████████████████████████████████████████████████████████████████| 3/3 [00:00<00:00, 3011.71it/s]\n",
      "100%|██████████████████████████████████████████████████████████████████████████████████| 8/8 [00:00<00:00, 3926.33it/s]"
     ]
    },
    {
     "name": "stdout",
     "output_type": "stream",
     "text": [
      "Downloading FEM files\n",
      "Downloading STL files\n",
      "Downloading Measurements files\n"
     ]
    },
    {
     "name": "stderr",
     "output_type": "stream",
     "text": [
      "\n"
     ]
    }
   ],
   "source": [
    "pyFBS.download_lab_testbench()"
   ]
  },
  {
   "cell_type": "code",
   "execution_count": 3,
   "id": "5c66c6f7",
   "metadata": {},
   "outputs": [],
   "source": [
    "pos_xlsx = r\"./lab_testbench/Measurements/expansion_synt_example.xlsx\"\n",
    "\n",
    "df_chn_P = pd.read_excel(pos_xlsx,sheet_name = 'chn_parent')\n",
    "df_chn_O = pd.read_excel(pos_xlsx,sheet_name = 'chn_overlay')"
   ]
  },
  {
   "cell_type": "code",
   "execution_count": null,
   "id": "ea55db17",
   "metadata": {},
   "outputs": [
    {
     "name": "stdout",
     "output_type": "stream",
     "text": [
      "[100]\n",
      "[160]\n",
      "[3]\n",
      "[100]\n",
      "[160]\n",
      "[3]\n"
     ]
    }
   ],
   "source": [
    "folder = r'./lab_testbench/FEM//'\n",
    "\n",
    "MK_P = pyFBS.MK_model(folder+'AB_parent.rst', folder+'AB_parent.full', scale=1000, no_modes=30, read_rst=True)\n",
    "MK_O = pyFBS.MK_model(folder+'AB_overlay.rst', folder+'AB_overlay.full', scale=1000, no_modes=30, read_rst=True)"
   ]
  },
  {
   "cell_type": "markdown",
   "id": "238f6d4a",
   "metadata": {},
   "source": [
    "#### Display"
   ]
  },
  {
   "cell_type": "code",
   "execution_count": 5,
   "id": "bf1a7589",
   "metadata": {},
   "outputs": [],
   "source": [
    "view3D = pyFBS.view3D(show_origin = False, show_axes = False, shape =  (1,2), title = \"Overview\")\n",
    "\n",
    "view3D.plot.subplot(0,0)\n",
    "view3D.plot.isometric_view()\n",
    "view3D.plot.add_text(\"Parent model\", position='upper_left', font_size=12, color=\"k\", font=\"times\")\n",
    "view3D.plot.add_mesh(MK_P.mesh, scalars = np.ones(MK_P.mesh.points.shape[0]), cmap = \"Set2_r\", show_edges = False, opacity = 0.3);\n",
    "view3D.show_chn(df_chn_P, color='red', overwrite=False, size = 20)\n",
    "\n",
    "view3D.plot.subplot(0,1)\n",
    "view3D.plot.isometric_view()\n",
    "view3D.plot.add_text(\"Overlay model\", position='upper_left', font_size=12, color=\"k\", font=\"times\")\n",
    "view3D.plot.add_mesh(MK_O.mesh, scalars = np.ones(MK_O.mesh.points.shape[0]), cmap = \"Set2_r\", show_edges = False, opacity = 0.3);\n",
    "view3D.show_chn(df_chn_O, color='red', overwrite=False, size = 20)"
   ]
  },
  {
   "cell_type": "markdown",
   "id": "1f9ef001",
   "metadata": {},
   "source": [
    "## Perform expansion in modal domain"
   ]
  },
  {
   "cell_type": "markdown",
   "id": "98bef387",
   "metadata": {},
   "source": [
    "#### Acquire modal parameters"
   ]
  },
  {
   "cell_type": "code",
   "execution_count": 6,
   "id": "00a84a1d",
   "metadata": {},
   "outputs": [],
   "source": [
    "# number of modes\n",
    "# parent \n",
    "m_par_MSEMM = 25\n",
    "# limited by m_par <= n_b, where n_b = 10\n",
    "m_par_SEREP = 9 \n",
    "# overlay - 2 kHz limit\n",
    "m_ov = 15\n",
    "\n",
    "# frequency range\n",
    "freq_min = 1\n",
    "freq_max = 2000\n",
    "\n",
    "# damping\n",
    "dam_par = 0.003\n",
    "dam_ov = 0.006\n",
    "\n",
    "# reference - overlay model with higher spatial resolution \n",
    "eig_val_ref, xi_ref, eig_vec_ref = MK_O.transform_modal_parameters(df_chn_P, \n",
    "                                                                limit_modes = m_ov, \n",
    "                                                                modal_damping = dam_ov, \n",
    "                                                                return_channel_only = True)\n",
    "# parent\n",
    "eig_val_par_MSEMM, xi_par_MSEMM, eig_vec_par_MSEMM = MK_P.transform_modal_parameters(df_chn_P,\n",
    "                                                                   limit_modes = m_par_MSEMM, \n",
    "                                                                   modal_damping = dam_par, \n",
    "                                                                   return_channel_only = True)\n",
    "\n",
    "eig_val_par_SEREP, xi_par_SEREP, eig_vec_par_SEREP = MK_P.transform_modal_parameters(df_chn_P,\n",
    "                                                                   limit_modes = m_par_SEREP, \n",
    "                                                                   modal_damping = dam_par, \n",
    "                                                                   return_channel_only = True)\n",
    "\n",
    "# overlay\n",
    "eig_val_ov, xi_ov, eig_vec_ov = MK_O.transform_modal_parameters(df_chn_O, \n",
    "                                                                limit_modes = m_ov, \n",
    "                                                                modal_damping = dam_ov, \n",
    "                                                                return_channel_only = True)"
   ]
  },
  {
   "cell_type": "markdown",
   "id": "47e90292",
   "metadata": {},
   "source": [
    "### a) SEREP"
   ]
  },
  {
   "cell_type": "code",
   "execution_count": 7,
   "id": "17d71fac",
   "metadata": {},
   "outputs": [
    {
     "name": "stdout",
     "output_type": "stream",
     "text": [
      "Condition number:69.87\n"
     ]
    }
   ],
   "source": [
    "# Option 1: use SEREP to acquire expanded mode-shapes\n",
    "eig_vec_serep = pyFBS.SEREP(eig_vec_par_SEREP, eig_vec_ov, df_chn_P, df_chn_O)"
   ]
  },
  {
   "cell_type": "code",
   "execution_count": 8,
   "id": "57b6c007",
   "metadata": {
    "scrolled": false
   },
   "outputs": [
    {
     "ename": "AttributeError",
     "evalue": "module 'pyFBS' has no attribute 'M_SEMM'",
     "output_type": "error",
     "traceback": [
      "\u001b[1;31m---------------------------------------------------------------------------\u001b[0m",
      "\u001b[1;31mAttributeError\u001b[0m                            Traceback (most recent call last)",
      "\u001b[1;32m<ipython-input-8-0c7f1df157bf>\u001b[0m in \u001b[0;36m<module>\u001b[1;34m\u001b[0m\n\u001b[0;32m      1\u001b[0m \u001b[1;31m# Option 2: use M-SEMM and the expansion will be redirecteed to SEREP for m_par <= n_b\u001b[0m\u001b[1;33m\u001b[0m\u001b[1;33m\u001b[0m\u001b[1;33m\u001b[0m\u001b[0m\n\u001b[1;32m----> 2\u001b[1;33m eig_val_serep, xi_serep, eig_vec_serep = pyFBS.M_SEMM(eig_val_par_SEREP, xi_par_SEREP, eig_vec_par_SEREP, \n\u001b[0m\u001b[0;32m      3\u001b[0m                                                       \u001b[0meig_val_ov\u001b[0m\u001b[1;33m,\u001b[0m \u001b[0mxi_ov\u001b[0m\u001b[1;33m,\u001b[0m \u001b[0meig_vec_ov\u001b[0m\u001b[1;33m,\u001b[0m\u001b[1;33m\u001b[0m\u001b[1;33m\u001b[0m\u001b[0m\n\u001b[0;32m      4\u001b[0m                                                       df_chn_P, df_chn_O, SEMM_type = 'basic')\n",
      "\u001b[1;31mAttributeError\u001b[0m: module 'pyFBS' has no attribute 'M_SEMM'"
     ]
    }
   ],
   "source": [
    "# Option 2: use M-SEMM and the expansion will be redirecteed to SEREP for m_par <= n_b \n",
    "eig_val_serep, xi_serep, eig_vec_serep = pyFBS.M_SEMM(eig_val_par_SEREP, xi_par_SEREP, eig_vec_par_SEREP, \n",
    "                                                      eig_val_ov, xi_ov, eig_vec_ov, \n",
    "                                                      df_chn_P, df_chn_O, SEMM_type = 'basic')"
   ]
  },
  {
   "cell_type": "markdown",
   "id": "f7332d15",
   "metadata": {},
   "source": [
    "### b) Basic M-SEMM"
   ]
  },
  {
   "cell_type": "code",
   "execution_count": null,
   "id": "7b0f12d6",
   "metadata": {},
   "outputs": [],
   "source": [
    "# expand modal parameters\n",
    "eig_val_semm_bas, xi_semm_bas, eig_vec_semm_bas = pyFBS.M_SEMM(eig_val_par_MSEMM, xi_par_MSEMM, eig_vec_par_MSEMM, eig_val_ov, xi_ov, eig_vec_ov, \n",
    "                                                   df_chn_P, df_chn_O, SEMM_type = 'basic')\n",
    "\n",
    "# perform modal superposition for comparison with the frequency based method\n",
    "freq, Y_semm_CMS_bas = MK_P.custom_FRF_synth(eig_val_semm_bas**0.5, eig_vec_semm_bas, eig_vec_semm_bas,\n",
    "                                         f_start = freq_min, f_end = freq_max, modal_damping = xi_semm_bas, \n",
    "                                         frf_type = \"receptance\")"
   ]
  },
  {
   "cell_type": "markdown",
   "id": "84050781",
   "metadata": {},
   "source": [
    "### c) Extended M-SEMM"
   ]
  },
  {
   "cell_type": "code",
   "execution_count": null,
   "id": "f5c5207a",
   "metadata": {},
   "outputs": [],
   "source": [
    "# expand modal parameters\n",
    "eig_val_semm_ext, xi_semm_ext, eig_vec_semm_ext = pyFBS.M_SEMM(eig_val_par_MSEMM, xi_par_MSEMM, eig_vec_par_MSEMM, eig_val_ov, xi_ov, eig_vec_ov, \n",
    "                                                   df_chn_P, df_chn_O, SEMM_type = 'extended')\n",
    "\n",
    "# perform modal superposition for comparison with the frequency based method\n",
    "freq, Y_semm_CMS_ext = MK_P.custom_FRF_synth(eig_val_semm_ext**0.5, eig_vec_semm_ext, eig_vec_semm_ext,\n",
    "                                         f_start = freq_min, f_end = freq_max, modal_damping = xi_semm_ext, \n",
    "                                         frf_type = \"receptance\")"
   ]
  },
  {
   "cell_type": "markdown",
   "id": "add93053",
   "metadata": {},
   "source": [
    "### d) Results: M-SEMM vs SEREP"
   ]
  },
  {
   "cell_type": "code",
   "execution_count": null,
   "id": "51bc3833",
   "metadata": {},
   "outputs": [],
   "source": [
    "plt.figure(figsize=(16,4))\n",
    "\n",
    "# SEREP\n",
    "plt.subplot(131)\n",
    "MAC_mat = pyFBS.MAC(eig_vec_ref, eig_vec_serep)\n",
    "plt.imshow(MAC_mat, origin = 'lower', cmap = 'cividis', vmin = 0., vmax = 1)\n",
    "\n",
    "plt.title('SEREP \\n Avg. diag. value: '+ \"{:.2f}\".format(np.mean(np.diagonal(MAC_mat))), fontsize=12)\n",
    "plt.xlabel('Hybrid mode no.')\n",
    "plt.ylabel('Reference mode no.')\n",
    "\n",
    "plt.xticks(np.arange(m_ov)[::2],np.arange(1,m_ov+1)[::2])\n",
    "plt.yticks(np.arange(m_ov)[::2],np.arange(1,m_ov+1)[::2])\n",
    "\n",
    "cbar = plt.colorbar(orientation=\"vertical\")\n",
    "cbar.set_label('MAC [/]')\n",
    "\n",
    "# Basic M-SEMM\n",
    "plt.subplot(132)\n",
    "MAC_mat = pyFBS.MAC(eig_vec_ref, eig_vec_semm_bas)\n",
    "plt.imshow(MAC_mat, origin = 'lower', cmap = 'cividis', vmin = 0., vmax = 1)\n",
    "\n",
    "plt.title('Basic M-SEMM \\n Avg. diag. value: '+ \"{:.2f}\".format(np.mean(np.diagonal(MAC_mat))), fontsize=12)\n",
    "plt.xlabel('Hybrid mode no.')\n",
    "plt.ylabel('Reference mode no.')\n",
    "\n",
    "plt.xticks(np.arange(m_ov)[::2],np.arange(1,m_ov+1)[::2])\n",
    "plt.yticks(np.arange(m_ov)[::2],np.arange(1,m_ov+1)[::2])\n",
    "\n",
    "cbar = plt.colorbar(orientation=\"vertical\")\n",
    "cbar.set_label('MAC [/]')\n",
    "\n",
    "# Extended M-SEMM\n",
    "plt.subplot(133)\n",
    "MAC_mat = pyFBS.MAC(eig_vec_ref, eig_vec_semm_ext)\n",
    "plt.imshow(MAC_mat, origin = 'lower', cmap = 'cividis', vmin = 0., vmax = 1)\n",
    "\n",
    "plt.title('Extended M-SEMM \\n Avg. diag. value: '+ \"{:.2f}\".format(np.mean(np.diagonal(MAC_mat))), fontsize=12)\n",
    "plt.xlabel('Hybrid mode no.')\n",
    "plt.ylabel('Reference mode no.')\n",
    "\n",
    "plt.xticks(np.arange(m_ov)[::2],np.arange(1,m_ov+1)[::2])\n",
    "plt.yticks(np.arange(m_ov)[::2],np.arange(1,m_ov+1)[::2])\n",
    "\n",
    "cbar = plt.colorbar(orientation=\"vertical\")\n",
    "cbar.set_label('MAC [/]')"
   ]
  },
  {
   "cell_type": "markdown",
   "id": "e083402c",
   "metadata": {},
   "source": [
    "## Perform expansion in frequency domain"
   ]
  },
  {
   "cell_type": "markdown",
   "id": "a294223d",
   "metadata": {},
   "source": [
    "#### Acquire response models"
   ]
  },
  {
   "cell_type": "code",
   "execution_count": null,
   "id": "8523a67c",
   "metadata": {},
   "outputs": [],
   "source": [
    "# assume collocated inputs and outputs\n",
    "df_imp_P = df_chn_P\n",
    "df_imp_O = df_chn_O\n",
    "\n",
    "# reference - overlay model with higher spatial resolution\n",
    "MK_O.FRF_synth(df_chn_P, df_imp_P,\n",
    "             f_start = freq_min, f_end = freq_max, f_resolution = 1,\n",
    "             limit_modes = m_ov, modal_damping = dam_ov,\n",
    "             frf_type = \"receptance\")\n",
    "\n",
    "Y_ref = MK_O.FRF\n",
    "\n",
    "# parent\n",
    "MK_P.FRF_synth(df_chn_P, df_imp_P,\n",
    "                 f_start = freq_min, f_end = freq_max, f_resolution = 1,\n",
    "                 limit_modes = m_par_MSEMM, modal_damping = dam_par,\n",
    "                 frf_type = \"receptance\")\n",
    "\n",
    "Y_par = MK_P.FRF\n",
    "\n",
    "# overlay\n",
    "MK_O.FRF_synth(df_chn_O, df_imp_O,\n",
    "             f_start = freq_min, f_end = freq_max, f_resolution = 1,\n",
    "             limit_modes = m_ov, modal_damping = dam_ov,\n",
    "             frf_type = \"receptance\")\n",
    "\n",
    "Y_ov = MK_O.FRF"
   ]
  },
  {
   "cell_type": "markdown",
   "id": "fe53e664",
   "metadata": {},
   "source": [
    "### a) Basic SEMM"
   ]
  },
  {
   "cell_type": "code",
   "execution_count": null,
   "id": "aa06a2d7",
   "metadata": {},
   "outputs": [],
   "source": [
    "Y_semm_FBS_bas = pyFBS.SEMM(Y_par, Y_ov, df_chn_P, df_imp_P, df_chn_O, df_imp_O, SEMM_type = 'basic')"
   ]
  },
  {
   "cell_type": "markdown",
   "id": "5dc4901d",
   "metadata": {},
   "source": [
    "### b) Extended SEMM"
   ]
  },
  {
   "cell_type": "code",
   "execution_count": null,
   "id": "daba8db8",
   "metadata": {},
   "outputs": [],
   "source": [
    "Y_semm_FBS_ext = pyFBS.SEMM(Y_par, Y_ov, df_chn_P, df_imp_P, df_chn_O, df_imp_O, SEMM_type = 'extended')"
   ]
  },
  {
   "cell_type": "markdown",
   "id": "fcc2bfe7",
   "metadata": {},
   "source": [
    "### c) Results: SEMM vs M-SEMM"
   ]
  },
  {
   "cell_type": "code",
   "execution_count": null,
   "id": "f430fdad",
   "metadata": {},
   "outputs": [],
   "source": [
    "sel_dof = 17"
   ]
  },
  {
   "cell_type": "code",
   "execution_count": null,
   "id": "5b52085e",
   "metadata": {},
   "outputs": [],
   "source": [
    "coh_FBS = pyFBS.coh_frf(Y_ref[:,sel_dof,sel_dof],\n",
    "                        Y_semm_FBS_bas[:,sel_dof,sel_dof])\n",
    "\n",
    "coh_CMS = pyFBS.coh_frf(Y_ref[:,sel_dof,sel_dof],\n",
    "                        Y_semm_CMS_bas[:,sel_dof,sel_dof])\n",
    "\n",
    "SEMM_label = 'SEMM: coh = ' + str(coh_FBS.round(2))\n",
    "MSEMM_label = 'M-SEMM: coh = ' + str(coh_CMS.round(2))\n",
    "\n",
    "\n",
    "plt.figure(figsize=(10,4))\n",
    "plt.title('Basic SEMM and M-SEMM')\n",
    "plt.semilogy(np.abs(Y_ref[:,sel_dof,sel_dof]),'--',label = 'reference',c='k')\n",
    "plt.semilogy(np.abs(Y_semm_FBS_bas[:,sel_dof,sel_dof]),label = SEMM_label,c='C2')\n",
    "plt.semilogy(np.abs(Y_semm_CMS_bas[:,sel_dof,sel_dof]),label = MSEMM_label,c='C3')\n",
    "plt.xlabel('Frequency [Hz]')\n",
    "plt.ylabel('$|Y|\\,[\\mathrm{m/N}]$')\n",
    "plt.legend()\n",
    "plt.grid()"
   ]
  },
  {
   "cell_type": "code",
   "execution_count": null,
   "id": "e83f85f3",
   "metadata": {},
   "outputs": [],
   "source": [
    "coh_FBS = pyFBS.coh_frf(Y_ref[:,sel_dof,sel_dof],\n",
    "                        Y_semm_FBS_ext[:,sel_dof,sel_dof])\n",
    "\n",
    "coh_CMS = pyFBS.coh_frf(Y_ref[:,sel_dof,sel_dof],\n",
    "                        Y_semm_CMS_ext[:,sel_dof,sel_dof])\n",
    "\n",
    "SEMM_label = 'SEMM: coh = ' + str(coh_FBS.round(2))\n",
    "MSEMM_label = 'M-SEMM: coh = ' + str(coh_CMS.round(2))\n",
    "\n",
    "plt.figure(figsize=(10,4))\n",
    "plt.title('Extended SEMM and M-SEMM')\n",
    "plt.semilogy(np.abs(Y_ref[:,sel_dof,sel_dof]),'--',label = 'reference',c='k')\n",
    "plt.semilogy(np.abs(Y_semm_FBS_ext[:,sel_dof,sel_dof]),label = SEMM_label,c='C2')\n",
    "plt.semilogy(np.abs(Y_semm_CMS_ext[:,sel_dof,sel_dof]),label = MSEMM_label,c='C3')\n",
    "plt.xlabel('Frequency [Hz]')\n",
    "plt.ylabel('$|Y|\\,[\\mathrm{m/N}]$')\n",
    "plt.legend()\n",
    "plt.grid()"
   ]
  },
  {
   "cell_type": "code",
   "execution_count": null,
   "id": "a00a039d",
   "metadata": {},
   "outputs": [],
   "source": []
  }
 ],
 "metadata": {
  "kernelspec": {
   "display_name": "Python 3",
   "language": "python",
   "name": "python3"
  },
  "language_info": {
   "codemirror_mode": {
    "name": "ipython",
    "version": 3
   },
   "file_extension": ".py",
   "mimetype": "text/x-python",
   "name": "python",
   "nbconvert_exporter": "python",
   "pygments_lexer": "ipython3",
   "version": "3.7.11"
  }
 },
 "nbformat": 4,
 "nbformat_minor": 5
}
