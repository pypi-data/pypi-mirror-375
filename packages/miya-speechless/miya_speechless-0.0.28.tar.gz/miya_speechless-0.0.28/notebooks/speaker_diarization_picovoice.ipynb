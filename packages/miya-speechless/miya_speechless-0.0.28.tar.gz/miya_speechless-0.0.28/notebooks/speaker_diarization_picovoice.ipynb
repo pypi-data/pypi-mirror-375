{
 "cells": [
  {
   "cell_type": "code",
   "execution_count": 1,
   "metadata": {},
   "outputs": [],
   "source": [
    "import os\n",
    "from dotenv import load_dotenv\n",
    "from speechless.speaker_diarization import diarize_audio, merge_transcript\n",
    "from speechless.transcribe_audio import transcribe_audio"
   ]
  },
  {
   "cell_type": "code",
   "execution_count": 2,
   "metadata": {},
   "outputs": [],
   "source": [
    "AUDIO_PATH = \"../data/audio/sales_call_example_1.mp3\"\n",
    "FOLDER_TO_STORE = \"../data/diaized_and_transcribed\"\n",
    "OVERLAP = 0.1"
   ]
  },
  {
   "cell_type": "code",
   "execution_count": 3,
   "metadata": {},
   "outputs": [],
   "source": [
    "# load environment variables\n",
    "load_dotenv(\"../.env\")\n",
    "picovoice_api_key = os.getenv(\"PICOVOICE_API_KEY\")\n",
    "api_key = os.getenv(\"OPENAI_API_KEY\")"
   ]
  },
  {
   "cell_type": "code",
   "execution_count": 4,
   "metadata": {},
   "outputs": [],
   "source": [
    "diarized_audio = diarize_audio(\n",
    "    AUDIO_PATH,\n",
    "    picovoice_api_key\n",
    ")"
   ]
  },
  {
   "cell_type": "code",
   "execution_count": null,
   "metadata": {},
   "outputs": [],
   "source": [
    "transcript = transcribe_audio(\n",
    "    AUDIO_PATH\n",
    ")"
   ]
  },
  {
   "cell_type": "code",
   "execution_count": 6,
   "metadata": {},
   "outputs": [],
   "source": [
    "transcribed_and_diarized = merge_transcript(\n",
    "    transcript,\n",
    "    diarized_audio,\n",
    "    OVERLAP\n",
    ")"
   ]
  },
  {
   "cell_type": "code",
   "execution_count": 7,
   "metadata": {},
   "outputs": [],
   "source": [
    "def write_list_to_disk(data_list: list, folder_path: str, file_name: str):\n",
    "    \"\"\"\n",
    "    Write a list to disk as a text file.\n",
    "\n",
    "    Parameters\n",
    "    ----------\n",
    "    data_list : list\n",
    "        The list to write to disk.\n",
    "    folder_path : str\n",
    "        The folder path where the file should be saved.\n",
    "    \"\"\"\n",
    "    # Create the folder if it doesn't exist\n",
    "    os.makedirs(folder_path, exist_ok=True)\n",
    "    \n",
    "    # Define the file path\n",
    "    file_path = os.path.join(folder_path, file_name)\n",
    "    \n",
    "    # Write the list to the file\n",
    "    with open(file_path, \"w\", encoding=\"utf-8\") as file:\n",
    "        for item in data_list:\n",
    "            file.write(f\"{item}\\n\")\n",
    "    \n",
    "    print(f\"List written to {file_path}\")\n"
   ]
  },
  {
   "cell_type": "code",
   "execution_count": null,
   "metadata": {},
   "outputs": [],
   "source": [
    "write_list_to_disk(transcribed_and_diarized, FOLDER_TO_STORE, AUDIO_PATH.split(\"/\")[-1].replace(\".mp3\", \".txt\"))"
   ]
  }
 ],
 "metadata": {
  "kernelspec": {
   "display_name": "speechless-ncOQqsHn-py3.12",
   "language": "python",
   "name": "python3"
  },
  "language_info": {
   "codemirror_mode": {
    "name": "ipython",
    "version": 3
   },
   "file_extension": ".py",
   "mimetype": "text/x-python",
   "name": "python",
   "nbconvert_exporter": "python",
   "pygments_lexer": "ipython3",
   "version": "3.12.7"
  }
 },
 "nbformat": 4,
 "nbformat_minor": 2
}
