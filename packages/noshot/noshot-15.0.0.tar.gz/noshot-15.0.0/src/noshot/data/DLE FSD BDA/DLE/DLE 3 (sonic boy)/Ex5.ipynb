{
 "cells": [
  {
   "cell_type": "code",
   "execution_count": null,
   "metadata": {
    "id": "IQb02ekPErC1"
   },
   "outputs": [],
   "source": [
    "import numpy as np\n",
    "import pandas as pd\n",
    "import tensorflow as tf\n",
    "from tensorflow.keras.datasets import mnist\n",
    "from tensorflow.keras.models import Model\n",
    "from tensorflow.keras.layers import Input,Dense"
   ]
  },
  {
   "cell_type": "code",
   "execution_count": null,
   "metadata": {
    "id": "JKrxqZpvFW4X"
   },
   "outputs": [],
   "source": [
    "(X_train, _),(X_test, _)=mnist.load_data()"
   ]
  },
  {
   "cell_type": "code",
   "execution_count": null,
   "metadata": {
    "colab": {
     "base_uri": "https://localhost:8080/"
    },
    "id": "FmNHIehxFgna",
    "outputId": "d5a6d856-094b-436d-c63b-a4b318e2dddc"
   },
   "outputs": [],
   "source": [
    "print(X_train)"
   ]
  },
  {
   "cell_type": "code",
   "execution_count": null,
   "metadata": {
    "colab": {
     "base_uri": "https://localhost:8080/"
    },
    "id": "ue7nZ4rVHRm8",
    "outputId": "132813b9-4c0f-42ee-ceb2-e1108b87ba1a"
   },
   "outputs": [],
   "source": [
    "X_train=X_train.astype('float32')/255.0\n",
    "X_test=X_test.astype('float32')/255.0\n",
    "print(X_train)"
   ]
  },
  {
   "cell_type": "code",
   "execution_count": null,
   "metadata": {
    "id": "fje2VkFHHrPw"
   },
   "outputs": [],
   "source": [
    "X_train=X_train.reshape((len(X_train),np.prod((X_train.shape[1:]))))\n",
    "X_test=X_test.reshape((len(X_test),np.prod((X_test.shape[1:]))))"
   ]
  },
  {
   "cell_type": "code",
   "execution_count": null,
   "metadata": {
    "id": "HfKxKikFIaSR"
   },
   "outputs": [],
   "source": [
    "input_dims=X_train.shape[1]\n",
    "encoded_dims=32\n",
    "input_layer=Input(shape=(input_dims,))\n",
    "\n",
    "encoded=Dense(encoded_dims,activation='relu')(input_layer)\n",
    "\n",
    "decoded=Dense(input_dims,activation='sigmoid')(encoded)"
   ]
  },
  {
   "cell_type": "code",
   "execution_count": null,
   "metadata": {
    "id": "7rTRxX8kKsif"
   },
   "outputs": [],
   "source": [
    "encoder=Model(input_layer,encoded)\n",
    "autoencoder=Model(input_layer,decoded)"
   ]
  },
  {
   "cell_type": "code",
   "execution_count": null,
   "metadata": {
    "colab": {
     "base_uri": "https://localhost:8080/"
    },
    "id": "V4bP4-RDK7LH",
    "outputId": "769c12fc-49e4-4376-d501-4d4159138d17"
   },
   "outputs": [],
   "source": [
    "autoencoder.compile(optimizer='adam',loss='binary_crossentropy')\n",
    "\n",
    "autoencoder.fit(X_train,X_train,epochs=5,batch_size=32,validation_data=(X_test,X_test))\n"
   ]
  },
  {
   "cell_type": "code",
   "execution_count": null,
   "metadata": {
    "colab": {
     "base_uri": "https://localhost:8080/"
    },
    "id": "CrqJare2KONO",
    "outputId": "67104eb8-4143-4700-85d7-30c05490a74f"
   },
   "outputs": [],
   "source": [
    "encoded_img=encoder.predict(X_test)\n",
    "\n",
    "decoded_imgs=autoencoder.predict(X_test)"
   ]
  },
  {
   "cell_type": "code",
   "execution_count": null,
   "metadata": {
    "colab": {
     "base_uri": "https://localhost:8080/",
     "height": 1000
    },
    "id": "HScdtV42LYBH",
    "outputId": "81059a8f-f806-4f10-cfd3-666e87282085"
   },
   "outputs": [],
   "source": [
    "import matplotlib.pyplot as plt\n",
    "for i in range(10):\n",
    "  plt.imshow(X_test[i].reshape(28,28))\n",
    "  plt.title('Original Image')\n",
    "  plt.show()\n",
    "  plt.imshow(decoded_imgs[i].reshape(28,28))\n",
    "  plt.title('Reconstructed Image')\n",
    "  plt.show()\n",
    "  plt.imshow(encoded_img[i].reshape(4,8))\n",
    "  plt.title('Encoded Image')\n",
    "  plt.show()"
   ]
  }
 ],
 "metadata": {
  "accelerator": "GPU",
  "colab": {
   "gpuType": "T4",
   "provenance": []
  },
  "kernelspec": {
   "display_name": "Python 3 (ipykernel)",
   "language": "python",
   "name": "python3"
  },
  "language_info": {
   "codemirror_mode": {
    "name": "ipython",
    "version": 3
   },
   "file_extension": ".py",
   "mimetype": "text/x-python",
   "name": "python",
   "nbconvert_exporter": "python",
   "pygments_lexer": "ipython3",
   "version": "3.12.4"
  }
 },
 "nbformat": 4,
 "nbformat_minor": 4
}
