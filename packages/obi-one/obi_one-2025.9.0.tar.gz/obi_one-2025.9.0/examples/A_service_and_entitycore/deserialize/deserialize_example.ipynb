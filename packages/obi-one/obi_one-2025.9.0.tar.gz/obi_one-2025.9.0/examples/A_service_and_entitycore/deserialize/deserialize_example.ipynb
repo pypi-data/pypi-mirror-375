{
 "cells": [
  {
   "cell_type": "code",
   "execution_count": null,
   "metadata": {},
   "outputs": [
    {
     "name": "stdout",
     "output_type": "stream",
     "text": [
      "Initialize(type='SimulationsForm.Initialize', circuit=Circuit(type='Circuit', circuit_path='string', node_set='string'), simulation_length=100.0, sample_seed=1, extracellular_calcium_concentration=1.1, v_init=-80.0, sonata_version=1, target_simulator='CORENEURON', timestep=0.025)\n"
     ]
    }
   ],
   "source": [
    "import obi_one as obi\n",
    "\n",
    "grid_scan = obi.deserialize_obi_object_from_json_file(\"../../obi-output/circuit_simulations/grid_scan/generate_scan_config.json\")\n",
    "grid_scan_fastapi = obi.deserialize_obi_object_from_json_file(\"../../obi-output/fastapi_test/circuit_simulations/grid_scan/generate_scan_config.json\")\n",
    "simulation = obi.deserialize_obi_object_from_json_file(\"../../obi-output/circuit_simulations/grid_scan/5/generate_coordinate_instance.json\")"
   ]
  },
  {
   "cell_type": "code",
   "execution_count": null,
   "metadata": {},
   "outputs": [],
   "source": []
  }
 ],
 "metadata": {
  "kernelspec": {
   "display_name": ".venv",
   "language": "python",
   "name": "python3"
  },
  "language_info": {
   "codemirror_mode": {
    "name": "ipython",
    "version": 3
   },
   "file_extension": ".py",
   "mimetype": "text/x-python",
   "name": "python",
   "nbconvert_exporter": "python",
   "pygments_lexer": "ipython3",
   "version": "3.11.11"
  }
 },
 "nbformat": 4,
 "nbformat_minor": 2
}
