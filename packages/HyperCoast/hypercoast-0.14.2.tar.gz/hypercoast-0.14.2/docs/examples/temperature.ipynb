{
 "cells": [
  {
   "cell_type": "markdown",
   "metadata": {},
   "source": [
    "[![image](https://colab.research.google.com/assets/colab-badge.svg)](https://colab.research.google.com/github/opengeos/HyperCoast/blob/main/docs/examples/temperature.ipynb)\n",
    "\n",
    "# Visualizing ERA5 temperature data interactively with HyperCoast\n",
    "\n",
    "This notebook demonstrates how to visualize ERA5 temperature data interactively with HyperCoast."
   ]
  },
  {
   "cell_type": "code",
   "execution_count": null,
   "metadata": {},
   "outputs": [],
   "source": [
    "import hypercoast"
   ]
  },
  {
   "cell_type": "code",
   "execution_count": null,
   "metadata": {},
   "outputs": [],
   "source": [
    "url = \"https://github.com/opengeos/datasets/releases/download/hypercoast/ERA5_temperature_2023.nc\"\n",
    "filepath = \"data/ERA5_temperature_2023.nc\"\n",
    "hypercoast.download_file(url, filepath)"
   ]
  },
  {
   "cell_type": "code",
   "execution_count": null,
   "metadata": {},
   "outputs": [],
   "source": [
    "dataset = hypercoast.open_dataset(filepath)\n",
    "dataset"
   ]
  },
  {
   "cell_type": "code",
   "execution_count": null,
   "metadata": {},
   "outputs": [],
   "source": [
    "camera_position = [(-479.09, -82.89, -444.45), (89.5, 179.5, 16.5), (0.58, 0.14, -0.80)]"
   ]
  },
  {
   "cell_type": "code",
   "execution_count": null,
   "metadata": {},
   "outputs": [],
   "source": [
    "p = hypercoast.image_cube(\n",
    "    dataset,\n",
    "    variable=\"temperature_2m\",\n",
    "    clim=(270, 310),\n",
    "    title=\"Temperature\",\n",
    "    cmap=\"coolwarm\",\n",
    "    widget=\"plane\",\n",
    "    invert=False,\n",
    "    grid_spacing=(1, 1, 3),\n",
    ")\n",
    "p.camera_position = camera_position\n",
    "p.show()"
   ]
  },
  {
   "cell_type": "markdown",
   "metadata": {},
   "source": [
    "![](https://i.imgur.com/3o0BPnv.png)"
   ]
  },
  {
   "cell_type": "code",
   "execution_count": null,
   "metadata": {},
   "outputs": [],
   "source": [
    "p = hypercoast.image_cube(\n",
    "    dataset,\n",
    "    variable=\"temperature_2m\",\n",
    "    clim=(270, 310),\n",
    "    title=\"Temperature\",\n",
    "    cmap=\"coolwarm\",\n",
    "    widget=\"slice\",\n",
    "    grid_spacing=(1, 1, 3),\n",
    ")\n",
    "p.camera_position = camera_position\n",
    "p.show()"
   ]
  },
  {
   "cell_type": "code",
   "execution_count": null,
   "metadata": {},
   "outputs": [],
   "source": [
    "p = hypercoast.image_cube(\n",
    "    dataset,\n",
    "    variable=\"temperature_2m\",\n",
    "    clim=(270, 310),\n",
    "    title=\"Temperature\",\n",
    "    cmap=\"coolwarm\",\n",
    "    widget=\"threshold\",\n",
    ")\n",
    "p.camera_position = camera_position\n",
    "p.show()"
   ]
  },
  {
   "cell_type": "markdown",
   "metadata": {},
   "source": [
    "![](https://i.imgur.com/qaKkmKX.gif)"
   ]
  }
 ],
 "metadata": {
  "kernelspec": {
   "display_name": "Python 3 (ipykernel)",
   "language": "python",
   "name": "python3"
  },
  "language_info": {
   "codemirror_mode": {
    "name": "ipython",
    "version": 3
   },
   "file_extension": ".py",
   "mimetype": "text/x-python",
   "name": "python",
   "nbconvert_exporter": "python",
   "pygments_lexer": "ipython3",
   "version": "3.11.9"
  }
 },
 "nbformat": 4,
 "nbformat_minor": 4
}
