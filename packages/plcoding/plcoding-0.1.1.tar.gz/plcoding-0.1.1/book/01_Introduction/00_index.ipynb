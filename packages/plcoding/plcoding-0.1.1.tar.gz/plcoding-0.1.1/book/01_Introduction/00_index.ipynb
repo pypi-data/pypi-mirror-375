{
 "cells": [
  {
   "cell_type": "markdown",
   "id": "4bcde03c",
   "metadata": {},
   "source": [
    "# 第一章：极化码简介"
   ]
  },
  {
   "cell_type": "markdown",
   "id": "0973d3e2",
   "metadata": {},
   "source": [
    "本手册的第一章，将完全面向极化码初学者。我们会从极化编码技术的基本范式入手，先后介绍构造、编码和译码中一些最基础、最核心的概念和算法，帮助大家快速上手。\n",
    "\n",
    "看完这一章之后，即便你不继续阅读后续章节、暂时不希望深入了解极化理论，也能自己亲自实现一份比较完整的极化码编译码解决方案，用于你自己的实验中。"
   ]
  }
 ],
 "metadata": {
  "language_info": {
   "name": "python"
  }
 },
 "nbformat": 4,
 "nbformat_minor": 5
}
