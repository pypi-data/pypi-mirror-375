{
 "cells": [
  {
   "cell_type": "code",
   "execution_count": null,
   "id": "c57e10af-91c0-4283-aa0e-7418370eb5dc",
   "metadata": {
    "execution": {
     "iopub.execute_input": "2025-09-09T00:19:17.480890Z",
     "iopub.status.busy": "2025-09-09T00:19:17.480640Z"
    }
   },
   "outputs": [],
   "source": [
    "from openff.nagl import GNNModel"
   ]
  },
  {
   "cell_type": "code",
   "execution_count": null,
   "id": "2fc00ff6-0492-4dc9-a92b-dd40d3584e88",
   "metadata": {},
   "outputs": [],
   "source": [
    "model = GNNModel.load(\"openff-gnn-am1bcc-1.0.0.pt\")"
   ]
  },
  {
   "cell_type": "code",
   "execution_count": null,
   "id": "d42b1312-acda-4738-a466-cef49ae36dd9",
   "metadata": {},
   "outputs": [],
   "source": [
    "model"
   ]
  },
  {
   "cell_type": "code",
   "execution_count": null,
   "id": "c11282ec-ff4d-49ab-b9f5-69b8ce03eb69",
   "metadata": {},
   "outputs": [],
   "source": [
    "model"
   ]
  },
  {
   "cell_type": "code",
   "execution_count": null,
   "id": "52d9adde-b3b9-4307-bec7-a0f0db658e16",
   "metadata": {},
   "outputs": [],
   "source": []
  }
 ],
 "metadata": {
  "kernelspec": {
   "display_name": "Python (openff-nagl-test)",
   "language": "python",
   "name": "openff-nagl-test"
  },
  "language_info": {
   "codemirror_mode": {
    "name": "ipython",
    "version": 3
   },
   "file_extension": ".py",
   "mimetype": "text/x-python",
   "name": "python",
   "nbconvert_exporter": "python",
   "pygments_lexer": "ipython3",
   "version": "3.10.14"
  }
 },
 "nbformat": 4,
 "nbformat_minor": 5
}
