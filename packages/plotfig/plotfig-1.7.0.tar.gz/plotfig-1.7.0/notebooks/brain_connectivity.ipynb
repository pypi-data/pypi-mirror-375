{
 "cells": [
  {
   "cell_type": "markdown",
   "id": "a9e1d592",
   "metadata": {},
   "source": [
    "# 脑连接图"
   ]
  },
  {
   "cell_type": "markdown",
   "id": "a7ddf906",
   "metadata": {
    "vscode": {
     "languageId": "plaintext"
    }
   },
   "source": [
    "透明的大脑图，可以展示脑区间的连接关系。\n",
    "需要准备左右半脑的surface文件、脑区相关的nii.gz文件以及连接矩阵。"
   ]
  },
  {
   "cell_type": "code",
   "execution_count": null,
   "id": "d3aeca39",
   "metadata": {},
   "outputs": [],
   "source": [
    "import numpy as np\n",
    "from plotfig import *\n",
    "\n",
    "# 生成一个 31x31 的连接矩阵（对称加权矩阵，对角线为0）\n",
    "matrix = np.zeros((31, 31))\n",
    "matrix[0, 1] = 1\n",
    "matrix[0, 2] = 2\n",
    "matrix[0, 3] = 3\n",
    "matrix[4, 1] = -1\n",
    "matrix[4, 2] = -2\n",
    "matrix[4, 3] = -3\n",
    "matrix = (matrix + matrix.T) / 2  # 矩阵对称\n",
    "\n",
    "connectome = matrix\n",
    "\n",
    "output_file = \"./figures/brain_connection.html\"\n",
    "\n",
    "lh_surfgii_file = r\"e:\\6_Self\\plot_self_brain_connectivity\\103818.L.midthickness.32k_fs_LR.surf.gii\"\n",
    "rh_surfgii_file = r\"e:\\6_Self\\plot_self_brain_connectivity\\103818.R.midthickness.32k_fs_LR.surf.gii\"\n",
    "niigz_file = rf\"e:\\6_Self\\plot_self_brain_connectivity\\human_Self_processing_network.nii.gz\"\n",
    "\n",
    "fig = plot_brain_connection_figure(\n",
    "    connectome,\n",
    "    lh_surfgii_file=lh_surfgii_file,\n",
    "    rh_surfgii_file=rh_surfgii_file,\n",
    "    niigz_file=niigz_file,\n",
    "    output_file=output_file,\n",
    "    scale_method=\"width\",\n",
    "    line_width=10,\n",
    ")"
   ]
  },
  {
   "cell_type": "markdown",
   "id": "3ffe6519",
   "metadata": {},
   "source": [
    "html文件可以在浏览器中交互。可以手动截图，也可以使用以下命令来生成图片。"
   ]
  },
  {
   "cell_type": "code",
   "execution_count": null,
   "id": "f257283e",
   "metadata": {},
   "outputs": [],
   "source": [
    "from pathlib import Path\n",
    "\n",
    "\n",
    "Path(f\"./figures/brain_connection\").mkdir(parents=True, exist_ok=True)  # 新建文件夹保存帧图\n",
    "save_brain_connection_frames(fig, output_dir=rf\"./figures/brain_connection\", n_frames=36)"
   ]
  }
 ],
 "metadata": {
  "kernelspec": {
   "display_name": "plotfig (3.11.11)",
   "language": "python",
   "name": "python3"
  },
  "language_info": {
   "name": "python",
   "version": "3.11.11"
  }
 },
 "nbformat": 4,
 "nbformat_minor": 5
}
