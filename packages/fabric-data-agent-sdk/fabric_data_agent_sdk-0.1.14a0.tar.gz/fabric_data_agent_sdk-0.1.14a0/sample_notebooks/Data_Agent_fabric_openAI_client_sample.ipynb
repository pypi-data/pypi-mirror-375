{
 "cells": [
  {
   "cell_type": "markdown",
   "id": "4a372ba0-ba13-4c52-9c72-6d231ea5db31",
   "metadata": {
    "microsoft": {
     "language": "python",
     "language_group": "synapse_pyspark"
    },
    "nteract": {
     "transient": {
      "deleting": false
     }
    }
   },
   "source": [
    "### Fabric Data Agent Client Implementation"
   ]
  },
  {
   "cell_type": "markdown",
   "id": "f34836ad",
   "metadata": {
    "vscode": {
     "languageId": "markdown"
    }
   },
   "source": [
    "### Introduction\n",
    "This notebook demonstrates how to set up and manage a Fabric Data Agent to query and analyze data. Through step-by-step instructions and examples, you will learn how to install necessary packages, create or fetch an existing Data Agent, connect datasources, and run queries for insights. This will help you or your team quickly get started with data-driven decision-making in Fabric. "
   ]
  },
  {
   "cell_type": "markdown",
   "id": "055bfb82",
   "metadata": {
    "vscode": {
     "languageId": "markdown"
    }
   },
   "source": [
    "### Installation and Prerequisites\n",
    "- A Microsoft Fabric environment or subscription is required.\n",
    "- Fabric Capacity: F64 (or higher)  \n",
    "- Tenant Switches: Enable AI skill, Copilot, cross-geo processing, and cross-geo storage. \n",
    "- Data Sources: Warehouse, Lakehouse, Power BI semantic models, KQL databases.\n",
    "- Ensure the Python package \"fabric-data-agent-sdk\" is installed (as shown in the following cell).\n",
    "- You also need \"sempy\" and other dependencies from \"fabric\" to leverage Fabric Data Agent features. These can be preinstalled in your Fabric environment."
   ]
  },
  {
   "cell_type": "code",
   "execution_count": 1,
   "id": "a64bfce5-a877-401f-bbb0-3bebfc883674",
   "metadata": {},
   "outputs": [
    {
     "data": {
      "application/vnd.livy.statement-meta+json": {
       "execution_finish_time": "2025-06-30T22:00:16.0190315Z",
       "execution_start_time": "2025-06-30T21:59:53.3470508Z",
       "livy_statement_state": "available",
       "normalized_state": "finished",
       "parent_msg_id": "af14d28f-038d-4908-b087-984af3c701bc",
       "queued_time": "2025-06-30T21:59:43.437755Z",
       "session_id": "01f87db7-4ac6-475f-bc8b-241960aa9d6f",
       "session_start_time": "2025-06-30T21:59:43.4381208Z",
       "spark_pool": null,
       "state": "finished",
       "statement_id": 7,
       "statement_ids": [
        3,
        4,
        5,
        6,
        7
       ]
      },
      "text/plain": [
       "StatementMeta(, 01f87db7-4ac6-475f-bc8b-241960aa9d6f, 7, Finished, Available, Finished)"
      ]
     },
     "metadata": {},
     "output_type": "display_data"
    },
    {
     "name": "stdout",
     "output_type": "stream",
     "text": [
      "Collecting fabric-data-agent-sdk\n",
      "  Downloading fabric_data_agent_sdk-0.1.8a0-py3-none-any.whl.metadata (4.7 kB)\n",
      "Requirement already satisfied: semantic-link-sempy>=0.8.0 in /home/trusted-service-user/cluster-env/trident_env/lib/python3.11/site-packages (from fabric-data-agent-sdk) (0.10.2)\n",
      "Collecting openai>=1.57.0 (from fabric-data-agent-sdk)\n",
      "  Downloading openai-1.93.0-py3-none-any.whl.metadata (29 kB)\n",
      "Collecting httpx==0.27.2 (from fabric-data-agent-sdk)\n",
      "  Downloading httpx-0.27.2-py3-none-any.whl.metadata (7.1 kB)\n",
      "Collecting semantic-link-labs==0.9.10 (from fabric-data-agent-sdk)\n",
      "  Downloading semantic_link_labs-0.9.10-py3-none-any.whl.metadata (26 kB)\n",
      "Collecting azure-kusto-data>=4.5.0 (from fabric-data-agent-sdk)\n",
      "  Downloading azure_kusto_data-5.0.4-py2.py3-none-any.whl.metadata (4.2 kB)\n",
      "Collecting markdown2==2.5.3 (from fabric-data-agent-sdk)\n",
      "  Downloading markdown2-2.5.3-py3-none-any.whl.metadata (2.1 kB)\n",
      "Requirement already satisfied: anyio in /home/trusted-service-user/cluster-env/trident_env/lib/python3.11/site-packages (from httpx==0.27.2->fabric-data-agent-sdk) (4.2.0)\n",
      "Requirement already satisfied: certifi in /home/trusted-service-user/cluster-env/trident_env/lib/python3.11/site-packages (from httpx==0.27.2->fabric-data-agent-sdk) (2024.2.2)\n",
      "Collecting httpcore==1.* (from httpx==0.27.2->fabric-data-agent-sdk)\n",
      "  Downloading httpcore-1.0.9-py3-none-any.whl.metadata (21 kB)\n",
      "Requirement already satisfied: idna in /home/trusted-service-user/cluster-env/trident_env/lib/python3.11/site-packages (from httpx==0.27.2->fabric-data-agent-sdk) (3.4)\n",
      "Requirement already satisfied: sniffio in /home/trusted-service-user/cluster-env/trident_env/lib/python3.11/site-packages (from httpx==0.27.2->fabric-data-agent-sdk) (1.3.0)\n",
      "Collecting anytree (from semantic-link-labs==0.9.10->fabric-data-agent-sdk)\n",
      "  Downloading anytree-2.13.0-py3-none-any.whl.metadata (8.0 kB)\n",
      "Requirement already satisfied: powerbiclient in /home/trusted-service-user/cluster-env/trident_env/lib/python3.11/site-packages (from semantic-link-labs==0.9.10->fabric-data-agent-sdk) (3.1.1)\n",
      "Collecting polib (from semantic-link-labs==0.9.10->fabric-data-agent-sdk)\n",
      "  Downloading polib-1.2.0-py2.py3-none-any.whl.metadata (15 kB)\n",
      "Collecting jsonpath_ng (from semantic-link-labs==0.9.10->fabric-data-agent-sdk)\n",
      "  Downloading jsonpath_ng-1.7.0-py3-none-any.whl.metadata (18 kB)\n",
      "Collecting h11>=0.16 (from httpcore==1.*->httpx==0.27.2->fabric-data-agent-sdk)\n",
      "  Downloading h11-0.16.0-py3-none-any.whl.metadata (8.3 kB)\n",
      "Requirement already satisfied: python-dateutil>=2.8.0 in /home/trusted-service-user/cluster-env/trident_env/lib/python3.11/site-packages (from azure-kusto-data>=4.5.0->fabric-data-agent-sdk) (2.8.2)\n",
      "Collecting requests>=2.32.3 (from azure-kusto-data>=4.5.0->fabric-data-agent-sdk)\n",
      "  Downloading requests-2.32.4-py3-none-any.whl.metadata (4.9 kB)\n",
      "Collecting azure-identity<2,>=1.21.0 (from azure-kusto-data>=4.5.0->fabric-data-agent-sdk)\n",
      "  Downloading azure_identity-1.23.0-py3-none-any.whl.metadata (81 kB)\n",
      "\u001b[2K     \u001b[90m━━━━━━━━━━━━━━━━━━━━━━━━━━━━━━━━━━━━━━━━\u001b[0m \u001b[32m81.9/81.9 kB\u001b[0m \u001b[31m5.8 MB/s\u001b[0m eta \u001b[36m0:00:00\u001b[0m\n",
      "\u001b[?25hRequirement already satisfied: msal<2,>=1.9.0 in /home/trusted-service-user/cluster-env/trident_env/lib/python3.11/site-packages (from azure-kusto-data>=4.5.0->fabric-data-agent-sdk) (1.25.0)\n",
      "Collecting ijson~=3.1 (from azure-kusto-data>=4.5.0->fabric-data-agent-sdk)\n",
      "  Downloading ijson-3.4.0-cp311-cp311-manylinux_2_17_x86_64.manylinux2014_x86_64.whl.metadata (21 kB)\n",
      "Collecting azure-core<2,>=1.33.0 (from azure-kusto-data>=4.5.0->fabric-data-agent-sdk)\n",
      "  Downloading azure_core-1.34.0-py3-none-any.whl.metadata (42 kB)\n",
      "\u001b[2K     \u001b[90m━━━━━━━━━━━━━━━━━━━━━━━━━━━━━━━━━━━━━━━━\u001b[0m \u001b[32m42.9/42.9 kB\u001b[0m \u001b[31m10.0 MB/s\u001b[0m eta \u001b[36m0:00:00\u001b[0m\n",
      "\u001b[?25hRequirement already satisfied: distro<2,>=1.7.0 in /home/trusted-service-user/cluster-env/trident_env/lib/python3.11/site-packages (from openai>=1.57.0->fabric-data-agent-sdk) (1.8.0)\n",
      "Collecting jiter<1,>=0.4.0 (from openai>=1.57.0->fabric-data-agent-sdk)\n",
      "  Downloading jiter-0.10.0-cp311-cp311-manylinux_2_17_x86_64.manylinux2014_x86_64.whl.metadata (5.2 kB)\n",
      "Collecting pydantic<3,>=1.9.0 (from openai>=1.57.0->fabric-data-agent-sdk)\n",
      "  Downloading pydantic-2.11.7-py3-none-any.whl.metadata (67 kB)\n",
      "\u001b[2K     \u001b[90m━━━━━━━━━━━━━━━━━━━━━━━━━━━━━━━━━━━━━━━━\u001b[0m \u001b[32m68.0/68.0 kB\u001b[0m \u001b[31m9.2 MB/s\u001b[0m eta \u001b[36m0:00:00\u001b[0m\n",
      "\u001b[?25hRequirement already satisfied: tqdm>4 in /home/trusted-service-user/cluster-env/trident_env/lib/python3.11/site-packages (from openai>=1.57.0->fabric-data-agent-sdk) (4.65.0)\n",
      "Collecting typing-extensions<5,>=4.11 (from openai>=1.57.0->fabric-data-agent-sdk)\n",
      "  Downloading typing_extensions-4.14.0-py3-none-any.whl.metadata (3.0 kB)\n",
      "Requirement already satisfied: clr-loader>=0.2.5 in /home/trusted-service-user/cluster-env/trident_env/lib/python3.11/site-packages (from semantic-link-sempy>=0.8.0->fabric-data-agent-sdk) (0.2.5)\n",
      "Requirement already satisfied: graphviz>=0.20.1 in /home/trusted-service-user/cluster-env/trident_env/lib/python3.11/site-packages (from semantic-link-sempy>=0.8.0->fabric-data-agent-sdk) (0.20.1)\n",
      "Requirement already satisfied: pyarrow>=12.0.1 in /home/trusted-service-user/cluster-env/trident_env/lib/python3.11/site-packages (from semantic-link-sempy>=0.8.0->fabric-data-agent-sdk) (14.0.2)\n",
      "Requirement already satisfied: pythonnet>=3.0.1 in /home/trusted-service-user/cluster-env/trident_env/lib/python3.11/site-packages (from semantic-link-sempy>=0.8.0->fabric-data-agent-sdk) (3.0.1)\n",
      "Requirement already satisfied: scikit-learn>=1.2.2 in /home/trusted-service-user/cluster-env/trident_env/lib/python3.11/site-packages (from semantic-link-sempy>=0.8.0->fabric-data-agent-sdk) (1.2.2)\n",
      "Requirement already satisfied: setuptools>=68.2.2 in /home/trusted-service-user/cluster-env/trident_env/lib/python3.11/site-packages (from semantic-link-sempy>=0.8.0->fabric-data-agent-sdk) (68.2.2)\n",
      "Requirement already satisfied: rich>=13.3.5 in /home/trusted-service-user/cluster-env/trident_env/lib/python3.11/site-packages (from semantic-link-sempy>=0.8.0->fabric-data-agent-sdk) (13.3.5)\n",
      "Requirement already satisfied: regex>=2023.8.8 in /home/trusted-service-user/cluster-env/trident_env/lib/python3.11/site-packages (from semantic-link-sempy>=0.8.0->fabric-data-agent-sdk) (2023.10.3)\n",
      "Requirement already satisfied: pandas>=1.5.3 in /home/trusted-service-user/cluster-env/trident_env/lib/python3.11/site-packages (from semantic-link-sempy>=0.8.0->fabric-data-agent-sdk) (2.1.4)\n",
      "Requirement already satisfied: pyspark>=3.4.1 in /home/trusted-service-user/cluster-env/trident_env/lib/python3.11/site-packages (from semantic-link-sempy>=0.8.0->fabric-data-agent-sdk) (3.5.1.5.4.20240407)\n",
      "Requirement already satisfied: aiohttp>=3.8.6 in /home/trusted-service-user/cluster-env/trident_env/lib/python3.11/site-packages (from semantic-link-sempy>=0.8.0->fabric-data-agent-sdk) (3.9.3)\n",
      "Requirement already satisfied: IPython>=8.14.0 in /home/trusted-service-user/cluster-env/trident_env/lib/python3.11/site-packages (from semantic-link-sempy>=0.8.0->fabric-data-agent-sdk) (8.20.0)\n",
      "Requirement already satisfied: aiosignal>=1.1.2 in /home/trusted-service-user/cluster-env/trident_env/lib/python3.11/site-packages (from aiohttp>=3.8.6->semantic-link-sempy>=0.8.0->fabric-data-agent-sdk) (1.2.0)\n",
      "Requirement already satisfied: attrs>=17.3.0 in /home/trusted-service-user/cluster-env/trident_env/lib/python3.11/site-packages (from aiohttp>=3.8.6->semantic-link-sempy>=0.8.0->fabric-data-agent-sdk) (23.1.0)\n",
      "Requirement already satisfied: frozenlist>=1.1.1 in /home/trusted-service-user/cluster-env/trident_env/lib/python3.11/site-packages (from aiohttp>=3.8.6->semantic-link-sempy>=0.8.0->fabric-data-agent-sdk) (1.4.0)\n",
      "Requirement already satisfied: multidict<7.0,>=4.5 in /home/trusted-service-user/cluster-env/trident_env/lib/python3.11/site-packages (from aiohttp>=3.8.6->semantic-link-sempy>=0.8.0->fabric-data-agent-sdk) (6.0.4)\n",
      "Requirement already satisfied: yarl<2.0,>=1.0 in /home/trusted-service-user/cluster-env/trident_env/lib/python3.11/site-packages (from aiohttp>=3.8.6->semantic-link-sempy>=0.8.0->fabric-data-agent-sdk) (1.9.3)\n",
      "Requirement already satisfied: six>=1.11.0 in /home/trusted-service-user/cluster-env/trident_env/lib/python3.11/site-packages (from azure-core<2,>=1.33.0->azure-kusto-data>=4.5.0->fabric-data-agent-sdk) (1.16.0)\n",
      "Requirement already satisfied: cryptography>=2.5 in /home/trusted-service-user/cluster-env/trident_env/lib/python3.11/site-packages (from azure-identity<2,>=1.21.0->azure-kusto-data>=4.5.0->fabric-data-agent-sdk) (42.0.2)\n",
      "Collecting msal<2,>=1.9.0 (from azure-kusto-data>=4.5.0->fabric-data-agent-sdk)\n",
      "  Downloading msal-1.32.3-py3-none-any.whl.metadata (11 kB)\n",
      "Collecting msal-extensions>=1.2.0 (from azure-identity<2,>=1.21.0->azure-kusto-data>=4.5.0->fabric-data-agent-sdk)\n",
      "  Downloading msal_extensions-1.3.1-py3-none-any.whl.metadata (7.8 kB)\n",
      "Requirement already satisfied: cffi>=1.13 in /home/trusted-service-user/cluster-env/trident_env/lib/python3.11/site-packages (from clr-loader>=0.2.5->semantic-link-sempy>=0.8.0->fabric-data-agent-sdk) (1.16.0)\n",
      "Requirement already satisfied: decorator in /home/trusted-service-user/cluster-env/trident_env/lib/python3.11/site-packages (from IPython>=8.14.0->semantic-link-sempy>=0.8.0->fabric-data-agent-sdk) (5.1.1)\n",
      "Requirement already satisfied: jedi>=0.16 in /home/trusted-service-user/cluster-env/trident_env/lib/python3.11/site-packages (from IPython>=8.14.0->semantic-link-sempy>=0.8.0->fabric-data-agent-sdk) (0.18.1)\n",
      "Requirement already satisfied: matplotlib-inline in /home/trusted-service-user/cluster-env/trident_env/lib/python3.11/site-packages (from IPython>=8.14.0->semantic-link-sempy>=0.8.0->fabric-data-agent-sdk) (0.1.6)\n",
      "Requirement already satisfied: prompt-toolkit<3.1.0,>=3.0.41 in /home/trusted-service-user/cluster-env/trident_env/lib/python3.11/site-packages (from IPython>=8.14.0->semantic-link-sempy>=0.8.0->fabric-data-agent-sdk) (3.0.43)\n",
      "Requirement already satisfied: pygments>=2.4.0 in /home/trusted-service-user/cluster-env/trident_env/lib/python3.11/site-packages (from IPython>=8.14.0->semantic-link-sempy>=0.8.0->fabric-data-agent-sdk) (2.15.1)\n",
      "Requirement already satisfied: stack-data in /home/trusted-service-user/cluster-env/trident_env/lib/python3.11/site-packages (from IPython>=8.14.0->semantic-link-sempy>=0.8.0->fabric-data-agent-sdk) (0.2.0)\n",
      "Requirement already satisfied: traitlets>=5 in /home/trusted-service-user/cluster-env/trident_env/lib/python3.11/site-packages (from IPython>=8.14.0->semantic-link-sempy>=0.8.0->fabric-data-agent-sdk) (5.7.1)\n",
      "Requirement already satisfied: pexpect>4.3 in /home/trusted-service-user/cluster-env/trident_env/lib/python3.11/site-packages (from IPython>=8.14.0->semantic-link-sempy>=0.8.0->fabric-data-agent-sdk) (4.8.0)\n",
      "Requirement already satisfied: PyJWT<3,>=1.0.0 in /home/trusted-service-user/cluster-env/trident_env/lib/python3.11/site-packages (from PyJWT[crypto]<3,>=1.0.0->msal<2,>=1.9.0->azure-kusto-data>=4.5.0->fabric-data-agent-sdk) (2.4.0)\n",
      "Requirement already satisfied: numpy<2,>=1.23.2 in /home/trusted-service-user/cluster-env/trident_env/lib/python3.11/site-packages (from pandas>=1.5.3->semantic-link-sempy>=0.8.0->fabric-data-agent-sdk) (1.26.4)\n",
      "Requirement already satisfied: pytz>=2020.1 in /home/trusted-service-user/cluster-env/trident_env/lib/python3.11/site-packages (from pandas>=1.5.3->semantic-link-sempy>=0.8.0->fabric-data-agent-sdk) (2023.3.post1)\n",
      "Requirement already satisfied: tzdata>=2022.1 in /home/trusted-service-user/cluster-env/trident_env/lib/python3.11/site-packages (from pandas>=1.5.3->semantic-link-sempy>=0.8.0->fabric-data-agent-sdk) (2023.3)\n",
      "Collecting annotated-types>=0.6.0 (from pydantic<3,>=1.9.0->openai>=1.57.0->fabric-data-agent-sdk)\n",
      "  Downloading annotated_types-0.7.0-py3-none-any.whl.metadata (15 kB)\n",
      "Collecting pydantic-core==2.33.2 (from pydantic<3,>=1.9.0->openai>=1.57.0->fabric-data-agent-sdk)\n",
      "  Downloading pydantic_core-2.33.2-cp311-cp311-manylinux_2_17_x86_64.manylinux2014_x86_64.whl.metadata (6.8 kB)\n",
      "Collecting typing-inspection>=0.4.0 (from pydantic<3,>=1.9.0->openai>=1.57.0->fabric-data-agent-sdk)\n",
      "  Downloading typing_inspection-0.4.1-py3-none-any.whl.metadata (2.6 kB)\n",
      "Requirement already satisfied: py4j==0.10.9.7 in /home/trusted-service-user/cluster-env/trident_env/lib/python3.11/site-packages (from pyspark>=3.4.1->semantic-link-sempy>=0.8.0->fabric-data-agent-sdk) (0.10.9.7)\n",
      "Requirement already satisfied: charset_normalizer<4,>=2 in /home/trusted-service-user/cluster-env/trident_env/lib/python3.11/site-packages (from requests>=2.32.3->azure-kusto-data>=4.5.0->fabric-data-agent-sdk) (2.0.4)\n",
      "Requirement already satisfied: urllib3<3,>=1.21.1 in /home/trusted-service-user/cluster-env/trident_env/lib/python3.11/site-packages (from requests>=2.32.3->azure-kusto-data>=4.5.0->fabric-data-agent-sdk) (2.1.0)\n",
      "Requirement already satisfied: markdown-it-py<3.0.0,>=2.2.0 in /home/trusted-service-user/cluster-env/trident_env/lib/python3.11/site-packages (from rich>=13.3.5->semantic-link-sempy>=0.8.0->fabric-data-agent-sdk) (2.2.0)\n",
      "Requirement already satisfied: scipy>=1.3.2 in /home/trusted-service-user/cluster-env/trident_env/lib/python3.11/site-packages (from scikit-learn>=1.2.2->semantic-link-sempy>=0.8.0->fabric-data-agent-sdk) (1.11.4)\n",
      "Requirement already satisfied: joblib>=1.1.1 in /home/trusted-service-user/cluster-env/trident_env/lib/python3.11/site-packages (from scikit-learn>=1.2.2->semantic-link-sempy>=0.8.0->fabric-data-agent-sdk) (1.2.0)\n",
      "Requirement already satisfied: threadpoolctl>=2.0.0 in /home/trusted-service-user/cluster-env/trident_env/lib/python3.11/site-packages (from scikit-learn>=1.2.2->semantic-link-sempy>=0.8.0->fabric-data-agent-sdk) (2.2.0)\n",
      "Requirement already satisfied: ply in /home/trusted-service-user/cluster-env/trident_env/lib/python3.11/site-packages (from jsonpath_ng->semantic-link-labs==0.9.10->fabric-data-agent-sdk) (3.11)\n",
      "Requirement already satisfied: ipywidgets>=7.0.0 in /home/trusted-service-user/cluster-env/trident_env/lib/python3.11/site-packages (from powerbiclient->semantic-link-labs==0.9.10->fabric-data-agent-sdk) (8.1.2)\n",
      "Requirement already satisfied: jupyter-ui-poll>=0.1.2 in /home/trusted-service-user/cluster-env/trident_env/lib/python3.11/site-packages (from powerbiclient->semantic-link-labs==0.9.10->fabric-data-agent-sdk) (1.0.0)\n",
      "Requirement already satisfied: pycparser in /home/trusted-service-user/cluster-env/trident_env/lib/python3.11/site-packages (from cffi>=1.13->clr-loader>=0.2.5->semantic-link-sempy>=0.8.0->fabric-data-agent-sdk) (2.21)\n",
      "Requirement already satisfied: comm>=0.1.3 in /home/trusted-service-user/cluster-env/trident_env/lib/python3.11/site-packages (from ipywidgets>=7.0.0->powerbiclient->semantic-link-labs==0.9.10->fabric-data-agent-sdk) (0.2.1)\n",
      "Requirement already satisfied: widgetsnbextension~=4.0.10 in /home/trusted-service-user/cluster-env/trident_env/lib/python3.11/site-packages (from ipywidgets>=7.0.0->powerbiclient->semantic-link-labs==0.9.10->fabric-data-agent-sdk) (4.0.10)\n",
      "Requirement already satisfied: jupyterlab-widgets~=3.0.10 in /home/trusted-service-user/cluster-env/trident_env/lib/python3.11/site-packages (from ipywidgets>=7.0.0->powerbiclient->semantic-link-labs==0.9.10->fabric-data-agent-sdk) (3.0.10)\n",
      "Requirement already satisfied: parso<0.9.0,>=0.8.0 in /home/trusted-service-user/cluster-env/trident_env/lib/python3.11/site-packages (from jedi>=0.16->IPython>=8.14.0->semantic-link-sempy>=0.8.0->fabric-data-agent-sdk) (0.8.3)\n",
      "Requirement already satisfied: mdurl~=0.1 in /home/trusted-service-user/cluster-env/trident_env/lib/python3.11/site-packages (from markdown-it-py<3.0.0,>=2.2.0->rich>=13.3.5->semantic-link-sempy>=0.8.0->fabric-data-agent-sdk) (0.1.0)\n",
      "Requirement already satisfied: ptyprocess>=0.5 in /home/trusted-service-user/cluster-env/trident_env/lib/python3.11/site-packages (from pexpect>4.3->IPython>=8.14.0->semantic-link-sempy>=0.8.0->fabric-data-agent-sdk) (0.7.0)\n",
      "Requirement already satisfied: wcwidth in /home/trusted-service-user/cluster-env/trident_env/lib/python3.11/site-packages (from prompt-toolkit<3.1.0,>=3.0.41->IPython>=8.14.0->semantic-link-sempy>=0.8.0->fabric-data-agent-sdk) (0.2.5)\n",
      "Requirement already satisfied: executing in /home/trusted-service-user/cluster-env/trident_env/lib/python3.11/site-packages (from stack-data->IPython>=8.14.0->semantic-link-sempy>=0.8.0->fabric-data-agent-sdk) (0.8.3)\n",
      "Requirement already satisfied: asttokens in /home/trusted-service-user/cluster-env/trident_env/lib/python3.11/site-packages (from stack-data->IPython>=8.14.0->semantic-link-sempy>=0.8.0->fabric-data-agent-sdk) (2.0.5)\n",
      "Requirement already satisfied: pure-eval in /home/trusted-service-user/cluster-env/trident_env/lib/python3.11/site-packages (from stack-data->IPython>=8.14.0->semantic-link-sempy>=0.8.0->fabric-data-agent-sdk) (0.2.2)\n",
      "Downloading fabric_data_agent_sdk-0.1.8a0-py3-none-any.whl (35 kB)\n",
      "Downloading httpx-0.27.2-py3-none-any.whl (76 kB)\n",
      "\u001b[2K   \u001b[90m━━━━━━━━━━━━━━━━━━━━━━━━━━━━━━━━━━━━━━━━\u001b[0m \u001b[32m76.4/76.4 kB\u001b[0m \u001b[31m9.6 MB/s\u001b[0m eta \u001b[36m0:00:00\u001b[0m\n",
      "\u001b[?25hDownloading markdown2-2.5.3-py3-none-any.whl (48 kB)\n",
      "\u001b[2K   \u001b[90m━━━━━━━━━━━━━━━━━━━━━━━━━━━━━━━━━━━━━━━━\u001b[0m \u001b[32m48.5/48.5 kB\u001b[0m \u001b[31m12.6 MB/s\u001b[0m eta \u001b[36m0:00:00\u001b[0m\n",
      "\u001b[?25hDownloading semantic_link_labs-0.9.10-py3-none-any.whl (699 kB)\n",
      "\u001b[2K   \u001b[90m━━━━━━━━━━━━━━━━━━━━━━━━━━━━━━━━━━━━━━━━\u001b[0m \u001b[32m699.3/699.3 kB\u001b[0m \u001b[31m13.0 MB/s\u001b[0m eta \u001b[36m0:00:00\u001b[0ma \u001b[36m0:00:01\u001b[0m\n",
      "\u001b[?25hDownloading httpcore-1.0.9-py3-none-any.whl (78 kB)\n",
      "\u001b[2K   \u001b[90m━━━━━━━━━━━━━━━━━━━━━━━━━━━━━━━━━━━━━━━━\u001b[0m \u001b[32m78.8/78.8 kB\u001b[0m \u001b[31m26.3 MB/s\u001b[0m eta \u001b[36m0:00:00\u001b[0m\n",
      "\u001b[?25hDownloading azure_kusto_data-5.0.4-py2.py3-none-any.whl (52 kB)\n",
      "\u001b[2K   \u001b[90m━━━━━━━━━━━━━━━━━━━━━━━━━━━━━━━━━━━━━━━━\u001b[0m \u001b[32m52.4/52.4 kB\u001b[0m \u001b[31m17.6 MB/s\u001b[0m eta \u001b[36m0:00:00\u001b[0m\n",
      "\u001b[?25hDownloading openai-1.93.0-py3-none-any.whl (755 kB)\n",
      "\u001b[2K   \u001b[90m━━━━━━━━━━━━━━━━━━━━━━━━━━━━━━━━━━━━━━━━\u001b[0m \u001b[32m755.0/755.0 kB\u001b[0m \u001b[31m21.3 MB/s\u001b[0m eta \u001b[36m0:00:00\u001b[0m00:01\u001b[0m\n",
      "\u001b[?25hDownloading azure_core-1.34.0-py3-none-any.whl (207 kB)\n",
      "\u001b[2K   \u001b[90m━━━━━━━━━━━━━━━━━━━━━━━━━━━━━━━━━━━━━━━━\u001b[0m \u001b[32m207.4/207.4 kB\u001b[0m \u001b[31m17.1 MB/s\u001b[0m eta \u001b[36m0:00:00\u001b[0m\n",
      "\u001b[?25hDownloading azure_identity-1.23.0-py3-none-any.whl (186 kB)\n",
      "\u001b[2K   \u001b[90m━━━━━━━━━━━━━━━━━━━━━━━━━━━━━━━━━━━━━━━━\u001b[0m \u001b[32m186.1/186.1 kB\u001b[0m \u001b[31m25.0 MB/s\u001b[0m eta \u001b[36m0:00:00\u001b[0m\n",
      "\u001b[?25hDownloading ijson-3.4.0-cp311-cp311-manylinux_2_17_x86_64.manylinux2014_x86_64.whl (134 kB)\n",
      "\u001b[2K   \u001b[90m━━━━━━━━━━━━━━━━━━━━━━━━━━━━━━━━━━━━━━━━\u001b[0m \u001b[32m135.0/135.0 kB\u001b[0m \u001b[31m19.0 MB/s\u001b[0m eta \u001b[36m0:00:00\u001b[0m\n",
      "\u001b[?25hDownloading jiter-0.10.0-cp311-cp311-manylinux_2_17_x86_64.manylinux2014_x86_64.whl (352 kB)\n",
      "\u001b[2K   \u001b[90m━━━━━━━━━━━━━━━━━━━━━━━━━━━━━━━━━━━━━━━━\u001b[0m \u001b[32m352.2/352.2 kB\u001b[0m \u001b[31m27.2 MB/s\u001b[0m eta \u001b[36m0:00:00\u001b[0m\n",
      "\u001b[?25hDownloading msal-1.32.3-py3-none-any.whl (115 kB)\n",
      "\u001b[2K   \u001b[90m━━━━━━━━━━━━━━━━━━━━━━━━━━━━━━━━━━━━━━━━\u001b[0m \u001b[32m115.4/115.4 kB\u001b[0m \u001b[31m28.6 MB/s\u001b[0m eta \u001b[36m0:00:00\u001b[0m\n",
      "\u001b[?25hDownloading pydantic-2.11.7-py3-none-any.whl (444 kB)\n",
      "\u001b[2K   \u001b[90m━━━━━━━━━━━━━━━━━━━━━━━━━━━━━━━━━━━━━━━━\u001b[0m \u001b[32m444.8/444.8 kB\u001b[0m \u001b[31m33.2 MB/s\u001b[0m eta \u001b[36m0:00:00\u001b[0m\n",
      "\u001b[?25hDownloading pydantic_core-2.33.2-cp311-cp311-manylinux_2_17_x86_64.manylinux2014_x86_64.whl (2.0 MB)\n",
      "\u001b[2K   \u001b[90m━━━━━━━━━━━━━━━━━━━━━━━━━━━━━━━━━━━━━━━━\u001b[0m \u001b[32m2.0/2.0 MB\u001b[0m \u001b[31m42.1 MB/s\u001b[0m eta \u001b[36m0:00:00\u001b[0ma \u001b[36m0:00:01\u001b[0m\n",
      "\u001b[?25hDownloading requests-2.32.4-py3-none-any.whl (64 kB)\n",
      "\u001b[2K   \u001b[90m━━━━━━━━━━━━━━━━━━━━━━━━━━━━━━━━━━━━━━━━\u001b[0m \u001b[32m64.8/64.8 kB\u001b[0m \u001b[31m19.1 MB/s\u001b[0m eta \u001b[36m0:00:00\u001b[0m\n",
      "\u001b[?25hDownloading typing_extensions-4.14.0-py3-none-any.whl (43 kB)\n",
      "\u001b[2K   \u001b[90m━━━━━━━━━━━━━━━━━━━━━━━━━━━━━━━━━━━━━━━━\u001b[0m \u001b[32m43.8/43.8 kB\u001b[0m \u001b[31m12.1 MB/s\u001b[0m eta \u001b[36m0:00:00\u001b[0m\n",
      "\u001b[?25hDownloading anytree-2.13.0-py3-none-any.whl (45 kB)\n",
      "\u001b[2K   \u001b[90m━━━━━━━━━━━━━━━━━━━━━━━━━━━━━━━━━━━━━━━━\u001b[0m \u001b[32m45.1/45.1 kB\u001b[0m \u001b[31m13.7 MB/s\u001b[0m eta \u001b[36m0:00:00\u001b[0m\n",
      "\u001b[?25hDownloading jsonpath_ng-1.7.0-py3-none-any.whl (30 kB)\n",
      "Downloading polib-1.2.0-py2.py3-none-any.whl (20 kB)\n",
      "Downloading annotated_types-0.7.0-py3-none-any.whl (13 kB)\n",
      "Downloading h11-0.16.0-py3-none-any.whl (37 kB)\n",
      "Downloading msal_extensions-1.3.1-py3-none-any.whl (20 kB)\n",
      "Downloading typing_inspection-0.4.1-py3-none-any.whl (14 kB)\n",
      "Installing collected packages: polib, typing-extensions, requests, markdown2, jsonpath_ng, jiter, ijson, h11, anytree, annotated-types, typing-inspection, pydantic-core, httpcore, azure-core, pydantic, httpx, openai, msal, msal-extensions, semantic-link-labs, azure-identity, azure-kusto-data, fabric-data-agent-sdk\n",
      "  Attempting uninstall: typing-extensions\n",
      "    Found existing installation: typing_extensions 4.9.0\n",
      "    Not uninstalling typing-extensions at /home/trusted-service-user/cluster-env/trident_env/lib/python3.11/site-packages, outside environment /nfs4/pyenv-29f49aae-cdc0-4e92-885b-a0b1df14f1d9\n",
      "    Can't uninstall 'typing_extensions'. No files were found to uninstall.\n",
      "  Attempting uninstall: requests\n",
      "    Found existing installation: requests 2.31.0\n",
      "    Not uninstalling requests at /home/trusted-service-user/cluster-env/trident_env/lib/python3.11/site-packages, outside environment /nfs4/pyenv-29f49aae-cdc0-4e92-885b-a0b1df14f1d9\n",
      "    Can't uninstall 'requests'. No files were found to uninstall.\n",
      "  Attempting uninstall: azure-core\n",
      "    Found existing installation: azure-core 1.30.2\n",
      "    Not uninstalling azure-core at /home/trusted-service-user/cluster-env/trident_env/lib/python3.11/site-packages, outside environment /nfs4/pyenv-29f49aae-cdc0-4e92-885b-a0b1df14f1d9\n",
      "    Can't uninstall 'azure-core'. No files were found to uninstall.\n",
      "  Attempting uninstall: msal\n",
      "    Found existing installation: msal 1.25.0\n",
      "    Not uninstalling msal at /home/trusted-service-user/cluster-env/trident_env/lib/python3.11/site-packages, outside environment /nfs4/pyenv-29f49aae-cdc0-4e92-885b-a0b1df14f1d9\n",
      "    Can't uninstall 'msal'. No files were found to uninstall.\n",
      "  Attempting uninstall: msal-extensions\n",
      "    Found existing installation: msal-extensions 1.0.0\n",
      "    Not uninstalling msal-extensions at /home/trusted-service-user/cluster-env/trident_env/lib/python3.11/site-packages, outside environment /nfs4/pyenv-29f49aae-cdc0-4e92-885b-a0b1df14f1d9\n",
      "    Can't uninstall 'msal-extensions'. No files were found to uninstall.\n",
      "  Attempting uninstall: azure-identity\n",
      "    Found existing installation: azure-identity 1.15.0\n",
      "    Not uninstalling azure-identity at /home/trusted-service-user/cluster-env/trident_env/lib/python3.11/site-packages, outside environment /nfs4/pyenv-29f49aae-cdc0-4e92-885b-a0b1df14f1d9\n",
      "    Can't uninstall 'azure-identity'. No files were found to uninstall.\n",
      "\u001b[31mERROR: pip's dependency resolver does not currently take into account all the packages that are installed. This behaviour is the source of the following dependency conflicts.\n",
      "nni 3.0 requires filelock<3.12, but you have filelock 3.13.1 which is incompatible.\n",
      "datasets 2.19.1 requires fsspec[http]<=2024.3.1,>=2023.1.0, but you have fsspec 2024.6.1 which is incompatible.\u001b[0m\u001b[31m\n",
      "\u001b[0mSuccessfully installed annotated-types-0.7.0 anytree-2.13.0 azure-core-1.34.0 azure-identity-1.23.0 azure-kusto-data-5.0.4 fabric-data-agent-sdk-0.1.8a0 h11-0.16.0 httpcore-1.0.9 httpx-0.27.2 ijson-3.4.0 jiter-0.10.0 jsonpath_ng-1.7.0 markdown2-2.5.3 msal-1.32.3 msal-extensions-1.3.1 openai-1.93.0 polib-1.2.0 pydantic-2.11.7 pydantic-core-2.33.2 requests-2.32.4 semantic-link-labs-0.9.10 typing-extensions-4.14.0 typing-inspection-0.4.1\n",
      "\n",
      "\u001b[1m[\u001b[0m\u001b[34;49mnotice\u001b[0m\u001b[1;39;49m]\u001b[0m\u001b[39;49m A new release of pip is available: \u001b[0m\u001b[31;49m24.0\u001b[0m\u001b[39;49m -> \u001b[0m\u001b[32;49m25.1.1\u001b[0m\n",
      "\u001b[1m[\u001b[0m\u001b[34;49mnotice\u001b[0m\u001b[1;39;49m]\u001b[0m\u001b[39;49m To update, run: \u001b[0m\u001b[32;49mpython -m pip install --upgrade pip\u001b[0m\n",
      "Note: you may need to restart the kernel to use updated packages.\n",
      "Warning: PySpark kernel has been restarted to use updated packages.\n",
      "\n"
     ]
    }
   ],
   "source": [
    "%pip install fabric-data-agent-sdk"
   ]
  },
  {
   "cell_type": "markdown",
   "id": "29054244-29a9-40d3-8f7c-d3d8086ea329",
   "metadata": {
    "microsoft": {
     "language": "python",
     "language_group": "synapse_pyspark"
    },
    "nteract": {
     "transient": {
      "deleting": false
     }
    }
   },
   "source": [
    "### Import Data Agent methods and specify Data Agent name"
   ]
  },
  {
   "cell_type": "markdown",
   "id": "211e448a-ec78-4c17-9c91-9ed49d8667fd",
   "metadata": {
    "microsoft": {
     "language": "python",
     "language_group": "synapse_pyspark"
    },
    "nteract": {
     "transient": {
      "deleting": false
     }
    }
   },
   "source": [
    "Assign a fabric.dataagent name (previously Data Agent was called AI Skill, and method names will be updated to the same in near future). Import methods to manage, create and delete Data Agent."
   ]
  },
  {
   "cell_type": "code",
   "execution_count": 2,
   "id": "371785e1-bcac-4bff-9127-e179c0881431",
   "metadata": {},
   "outputs": [
    {
     "data": {
      "application/vnd.livy.statement-meta+json": {
       "execution_finish_time": "2025-06-30T22:01:21.871239Z",
       "execution_start_time": "2025-06-30T22:01:19.8992279Z",
       "livy_statement_state": "available",
       "normalized_state": "finished",
       "parent_msg_id": "3239176b-e6ac-4348-97ac-2140d28fdd9e",
       "queued_time": "2025-06-30T22:01:14.2417693Z",
       "session_id": "01f87db7-4ac6-475f-bc8b-241960aa9d6f",
       "session_start_time": null,
       "spark_pool": null,
       "state": "finished",
       "statement_id": 9,
       "statement_ids": [
        9
       ]
      },
      "text/plain": [
       "StatementMeta(, 01f87db7-4ac6-475f-bc8b-241960aa9d6f, 9, Finished, Available, Finished)"
      ]
     },
     "metadata": {},
     "output_type": "display_data"
    }
   ],
   "source": [
    "# Specify the DataAgent\n",
    "from fabric.dataagent.client import (\n",
    "    FabricDataAgentManagement,\n",
    "    create_data_agent,\n",
    "    delete_data_agent,\n",
    ")\n",
    "\n",
    "data_agent_name = \"agent_sample\""
   ]
  },
  {
   "cell_type": "markdown",
   "id": "1386d241-d27a-4b16-82bb-dbe84dd129d4",
   "metadata": {
    "microsoft": {
     "language": "python",
     "language_group": "synapse_pyspark"
    },
    "nteract": {
     "transient": {
      "deleting": false
     }
    }
   },
   "source": [
    "#### New vs Pre-existing Agent\n",
    "- Data Agent is either created or pointed to a preexisting one.\n",
    "- If you are creating a new Data Agent, use `create_data_agent`.\n",
    "- In case of existing agent already created, `create_data_agent` can lead to an error message mentioning conflict in name. In that case, you should use `FabricDataAgentManagement`.\n",
    "e.g. `data_agent = FabricDataAgentManagement(data_agent_name)`"
   ]
  },
  {
   "cell_type": "code",
   "execution_count": 3,
   "id": "1995e4dd-491c-41ad-97a0-a9684144cfbb",
   "metadata": {},
   "outputs": [
    {
     "data": {
      "application/vnd.livy.statement-meta+json": {
       "execution_finish_time": "2025-06-30T22:01:34.7623101Z",
       "execution_start_time": "2025-06-30T22:01:26.6386857Z",
       "livy_statement_state": "available",
       "normalized_state": "finished",
       "parent_msg_id": "ef37aa0e-4f80-4f3e-b074-f085a70c550a",
       "queued_time": "2025-06-30T22:01:26.6374542Z",
       "session_id": "01f87db7-4ac6-475f-bc8b-241960aa9d6f",
       "session_start_time": null,
       "spark_pool": null,
       "state": "finished",
       "statement_id": 10,
       "statement_ids": [
        10
       ]
      },
      "text/plain": [
       "StatementMeta(, 01f87db7-4ac6-475f-bc8b-241960aa9d6f, 10, Finished, Available, Finished)"
      ]
     },
     "metadata": {},
     "output_type": "display_data"
    },
    {
     "data": {
      "text/plain": [
       "DataAgentConfiguration(instructions=None, user_description=None)"
      ]
     },
     "execution_count": 10,
     "metadata": {},
     "output_type": "execute_result"
    }
   ],
   "source": [
    "# create or fetch DataAgent\n",
    "data_agent = create_data_agent(data_agent_name)\n",
    "# by default the instructions and description for the Data Agent will be empty, we will update them later in the notebook\n",
    "data_agent.get_configuration()"
   ]
  },
  {
   "cell_type": "markdown",
   "id": "9526c49f-fc94-42d1-aa04-33459e7ddd6e",
   "metadata": {
    "microsoft": {
     "language": "python",
     "language_group": "synapse_pyspark"
    },
    "nteract": {
     "transient": {
      "deleting": false
     }
    }
   },
   "source": [
    "Upon Data Agent creation, you will see a new Data Agent in your workspace. If you are using a pre-existing one, make sure to assign it as the `data_agent_name`."
   ]
  },
  {
   "cell_type": "markdown",
   "id": "e7390f62-b156-454a-a348-c2e217bc4915",
   "metadata": {
    "microsoft": {
     "language": "python",
     "language_group": "synapse_pyspark"
    },
    "nteract": {
     "transient": {
      "deleting": false
     }
    }
   },
   "source": [
    "#### Add User Instructions\n",
    "You can update configuration by adding instructions and user description. `user_instructions` are same as `model_notes` in UI. Note that these instructions are for Agent and not directly used by the tools the agent uses. In the next update, adding notes to tools will be facilitated. For now, you can specify instructions for the agent itself to use specific instructions for tools. "
   ]
  },
  {
   "cell_type": "code",
   "execution_count": 4,
   "id": "c3b645aa-2152-4e35-bd46-916ff775e496",
   "metadata": {},
   "outputs": [
    {
     "data": {
      "application/vnd.livy.statement-meta+json": {
       "execution_finish_time": "2025-06-30T22:02:31.623798Z",
       "execution_start_time": "2025-06-30T22:02:30.964352Z",
       "livy_statement_state": "available",
       "normalized_state": "finished",
       "parent_msg_id": "eccebfb4-3e04-46ad-bc6f-10a99d6f7e9f",
       "queued_time": "2025-06-30T22:02:30.9632149Z",
       "session_id": "01f87db7-4ac6-475f-bc8b-241960aa9d6f",
       "session_start_time": null,
       "spark_pool": null,
       "state": "finished",
       "statement_id": 11,
       "statement_ids": [
        11
       ]
      },
      "text/plain": [
       "StatementMeta(, 01f87db7-4ac6-475f-bc8b-241960aa9d6f, 11, Finished, Available, Finished)"
      ]
     },
     "metadata": {},
     "output_type": "display_data"
    }
   ],
   "source": [
    "user_instructions = \"\"\"You are an expert analyst. For *any* user question that requires you to query a database, instead of answering it directly,\n",
    "you should give the user a detailed response around the question, from the *available database added as a datasource*. You should do this by extending\n",
    "the user question into 3 distinct questions to independently query the database with. Here is an example that shows how to do it:\\n If the question is \n",
    "\"what is the top selling product in 2019?\". Expand these questions to gather more information, such as asking \"what is the top selling 3 products in 2019\"\n",
    "to learn not only the top one, but how it compares to the others following it. Then ask \"what was the top 3 products sold in 2018\" to learn about the\n",
    "previous year. Then ask \"what were the top 3 best-selling products across all years?\" to learn about the overall response. Then query the database for\n",
    "each question independently. \\nThis way we are learning not only the best selling product, but how it compares with top 3, learn about the previous year,\n",
    "and learn about all time. After getting the answer for each question, formulate your response to answer the original user question with these additional\n",
    "details. This will give the user a more comprehensive look at their original query. We gave an example with one sample question but you should follow these\n",
    "instructions for any user questions that requires a database look up.\"\"\""
   ]
  },
  {
   "cell_type": "markdown",
   "id": "e60195fa-0903-4b8a-af3b-e57234759384",
   "metadata": {
    "microsoft": {
     "language": "python",
     "language_group": "synapse_pyspark"
    },
    "nteract": {
     "transient": {
      "deleting": false
     }
    }
   },
   "source": [
    "#### Update and Verify\n",
    "`update_configuration` will update the AI instructions. You can verify this by calling `get_configuration`"
   ]
  },
  {
   "cell_type": "code",
   "execution_count": 5,
   "id": "b87ddf81-f195-4d08-93f4-74b39debe1c9",
   "metadata": {},
   "outputs": [
    {
     "data": {
      "application/vnd.livy.statement-meta+json": {
       "execution_finish_time": "2025-06-30T22:07:42.6652938Z",
       "execution_start_time": "2025-06-30T22:07:40.6920256Z",
       "livy_statement_state": "available",
       "normalized_state": "finished",
       "parent_msg_id": "aee918d8-32c3-46fa-8088-8762dee1e95a",
       "queued_time": "2025-06-30T22:07:40.6908642Z",
       "session_id": "01f87db7-4ac6-475f-bc8b-241960aa9d6f",
       "session_start_time": null,
       "spark_pool": null,
       "state": "finished",
       "statement_id": 12,
       "statement_ids": [
        12
       ]
      },
      "text/plain": [
       "StatementMeta(, 01f87db7-4ac6-475f-bc8b-241960aa9d6f, 12, Finished, Available, Finished)"
      ]
     },
     "metadata": {},
     "output_type": "display_data"
    },
    {
     "data": {
      "text/plain": [
       "DataAgentConfiguration(instructions='You are an expert analyst. For *any* user question that requires you to query a database, instead of answering it directly,\\nyou should give the user a detailed response around the question, from the *available database added as a datasource*. You should do this by extending\\nthe user question into 3 distinct questions to independently query the database with. Here is an example that shows how to do it:\\n If the question is \\n\"what is the top selling product in 2019?\". Expand these questions to gather more information, such as asking \"what is the top selling 3 products in 2019\"\\nto learn not only the top one, but how it compares to the others following it. Then ask \"what was the top 3 products sold in 2018\" to learn about the\\nprevious year. Then ask \"what were the top 3 best-selling products across all years?\" to learn about the overall response. Then query the database for\\neach question independently. \\nThis way we are learning not only the best selling product, but how it compares with top 3, learn about the previous year,\\nand learn about all time. After getting the answer for each question, formulate your response to answer the original user question with these additional\\ndetails. This will give the user a more comprehensive look at their original query. We gave an example with one sample question but you should follow these\\ninstructions for any user questions that requires a database look up.', user_description=None)"
      ]
     },
     "execution_count": 16,
     "metadata": {},
     "output_type": "execute_result"
    }
   ],
   "source": [
    "data_agent.update_configuration(\n",
    "    instructions=user_instructions,\n",
    ")\n",
    "data_agent.get_configuration()"
   ]
  },
  {
   "cell_type": "markdown",
   "id": "95c79dec-af36-42d1-bccc-c82c5385952e",
   "metadata": {
    "microsoft": {
     "language": "python",
     "language_group": "synapse_pyspark"
    },
    "nteract": {
     "transient": {
      "deleting": false
     }
    }
   },
   "source": [
    "#### Adding Datasources\n",
    "Use the `add_datasource` method to add relevant datasources to get insights from. In this sample, we are showing how to add a Lakehouse.\n",
    "Note that, if you already added the lakehouse, you don't need to do it again. We need to check if datasources is already connected."
   ]
  },
  {
   "cell_type": "code",
   "execution_count": 6,
   "id": "be5b0307-d9dd-442e-82a0-b93538057dfe",
   "metadata": {},
   "outputs": [
    {
     "data": {
      "application/vnd.livy.statement-meta+json": {
       "execution_finish_time": "2025-06-30T22:08:10.0321076Z",
       "execution_start_time": "2025-06-30T22:07:55.8957869Z",
       "livy_statement_state": "available",
       "normalized_state": "finished",
       "parent_msg_id": "d48c7b60-b998-4486-b517-e57b15b25739",
       "queued_time": "2025-06-30T22:07:55.8944957Z",
       "session_id": "01f87db7-4ac6-475f-bc8b-241960aa9d6f",
       "session_start_time": null,
       "spark_pool": null,
       "state": "finished",
       "statement_id": 13,
       "statement_ids": [
        13
       ]
      },
      "text/plain": [
       "StatementMeta(, 01f87db7-4ac6-475f-bc8b-241960aa9d6f, 13, Finished, Available, Finished)"
      ]
     },
     "metadata": {},
     "output_type": "display_data"
    },
    {
     "data": {
      "text/plain": [
       "Datasource(11564ef5-8f2a-4bc7-ad9e-004ab3c3c80b)"
      ]
     },
     "execution_count": 19,
     "metadata": {},
     "output_type": "execute_result"
    }
   ],
   "source": [
    "# add a lakehouse\n",
    "lakehouse_name = \"AdventureWorks\"\n",
    "data_agent.add_datasource(lakehouse_name, type=\"lakehouse\")"
   ]
  },
  {
   "cell_type": "markdown",
   "id": "dc9471e9-9965-47af-9e14-19ab27dd0c24",
   "metadata": {
    "microsoft": {
     "language": "python",
     "language_group": "synapse_pyspark"
    },
    "nteract": {
     "transient": {
      "deleting": false
     }
    }
   },
   "source": [
    "#### Exploring Data Within the Notebook\n",
    "- Assign lakehouse data or other datasources added to `datasource` and check for column fields."
   ]
  },
  {
   "cell_type": "code",
   "execution_count": 7,
   "id": "05752c43-0fe9-4fd4-a626-151c157a6010",
   "metadata": {},
   "outputs": [
    {
     "data": {
      "application/vnd.livy.statement-meta+json": {
       "execution_finish_time": "2025-06-30T22:08:23.8158054Z",
       "execution_start_time": "2025-06-30T22:08:21.9683688Z",
       "livy_statement_state": "available",
       "normalized_state": "finished",
       "parent_msg_id": "4242c6f8-aa2b-4773-8398-669b7502cc63",
       "queued_time": "2025-06-30T22:08:21.9671858Z",
       "session_id": "01f87db7-4ac6-475f-bc8b-241960aa9d6f",
       "session_start_time": null,
       "spark_pool": null,
       "state": "finished",
       "statement_id": 14,
       "statement_ids": [
        14
       ]
      },
      "text/plain": [
       "StatementMeta(, 01f87db7-4ac6-475f-bc8b-241960aa9d6f, 14, Finished, Available, Finished)"
      ]
     },
     "metadata": {},
     "output_type": "display_data"
    },
    {
     "data": {
      "text/plain": [
       "[Datasource(11564ef5-8f2a-4bc7-ad9e-004ab3c3c80b)]"
      ]
     },
     "execution_count": 22,
     "metadata": {},
     "output_type": "execute_result"
    }
   ],
   "source": [
    "# we can check which datasources are added to the Data Agent\n",
    "data_agent.get_datasources()"
   ]
  },
  {
   "cell_type": "markdown",
   "id": "f4ebf6e8",
   "metadata": {},
   "source": [
    "Publish the Data Source"
   ]
  },
  {
   "cell_type": "code",
   "execution_count": 8,
   "id": "d04eff24",
   "metadata": {},
   "outputs": [
    {
     "data": {
      "application/vnd.livy.statement-meta+json": {
       "execution_finish_time": "2025-06-30T22:08:29.8848922Z",
       "execution_start_time": "2025-06-30T22:08:26.1724917Z",
       "livy_statement_state": "available",
       "normalized_state": "finished",
       "parent_msg_id": "982a835e-19e1-4091-ae66-11e615bcf120",
       "queued_time": "2025-06-30T22:08:26.1712823Z",
       "session_id": "01f87db7-4ac6-475f-bc8b-241960aa9d6f",
       "session_start_time": null,
       "spark_pool": null,
       "state": "finished",
       "statement_id": 15,
       "statement_ids": [
        15
       ]
      },
      "text/plain": [
       "StatementMeta(, 01f87db7-4ac6-475f-bc8b-241960aa9d6f, 15, Finished, Available, Finished)"
      ]
     },
     "metadata": {},
     "output_type": "display_data"
    }
   ],
   "source": [
    "data_agent.publish()"
   ]
  },
  {
   "cell_type": "code",
   "execution_count": 9,
   "id": "c7ee6f54-1fe2-4413-b13f-b42f8a8f8f84",
   "metadata": {},
   "outputs": [
    {
     "data": {
      "application/vnd.livy.statement-meta+json": {
       "execution_finish_time": "2025-06-30T22:08:31.2056379Z",
       "execution_start_time": "2025-06-30T22:08:29.8871112Z",
       "livy_statement_state": "available",
       "normalized_state": "finished",
       "parent_msg_id": "9617d376-9099-41cb-bcf6-f7fafc2a1cd2",
       "queued_time": "2025-06-30T22:08:29.4407285Z",
       "session_id": "01f87db7-4ac6-475f-bc8b-241960aa9d6f",
       "session_start_time": null,
       "spark_pool": null,
       "state": "finished",
       "statement_id": 16,
       "statement_ids": [
        16
       ]
      },
      "text/plain": [
       "StatementMeta(, 01f87db7-4ac6-475f-bc8b-241960aa9d6f, 16, Finished, Available, Finished)"
      ]
     },
     "metadata": {},
     "output_type": "display_data"
    }
   ],
   "source": [
    "datasource = data_agent.get_datasources()[0]"
   ]
  },
  {
   "cell_type": "code",
   "execution_count": 10,
   "id": "225d5853-2c92-4c7c-be67-540de00683d1",
   "metadata": {},
   "outputs": [
    {
     "data": {
      "application/vnd.livy.statement-meta+json": {
       "execution_finish_time": "2025-06-30T22:08:47.6237091Z",
       "execution_start_time": "2025-06-30T22:08:47.0727893Z",
       "livy_statement_state": "available",
       "normalized_state": "finished",
       "parent_msg_id": "342d373f-eb13-4a7e-a32a-96b8426d3217",
       "queued_time": "2025-06-30T22:08:47.071603Z",
       "session_id": "01f87db7-4ac6-475f-bc8b-241960aa9d6f",
       "session_start_time": null,
       "spark_pool": null,
       "state": "finished",
       "statement_id": 17,
       "statement_ids": [
        17
       ]
      },
      "text/plain": [
       "StatementMeta(, 01f87db7-4ac6-475f-bc8b-241960aa9d6f, 17, Finished, Available, Finished)"
      ]
     },
     "metadata": {},
     "output_type": "display_data"
    },
    {
     "name": "stdout",
     "output_type": "stream",
     "text": [
      " dbo\n",
      "  | dimaccount\n",
      "  |  | AccountKey\n",
      "  |  | ParentAccountKey\n",
      "  |  | AccountCodeAlternateKey\n",
      "  |  | ParentAccountCodeAlternateKey\n",
      "  |  | AccountDescription\n",
      "  |  | AccountType\n",
      "  |  | Operator\n",
      "  |  | CustomMembers\n",
      "  |  | ValueType\n",
      "  | factinternetsales\n",
      "  |  | ProductKey\n",
      "  |  | OrderDateKey\n",
      "  |  | DueDateKey\n",
      "  |  | ShipDateKey\n",
      "  |  | CustomerKey\n",
      "  |  | PromotionKey\n",
      "  |  | CurrencyKey\n",
      "  |  | SalesTerritoryKey\n",
      "  |  | SalesOrderNumber\n",
      "  |  | SalesOrderLineNumber\n",
      "  |  | RevisionNumber\n",
      "  |  | OrderQuantity\n",
      "  |  | UnitPrice\n",
      "  |  | ExtendedAmount\n",
      "  |  | UnitPriceDiscountPct\n",
      "  |  | DiscountAmount\n",
      "  |  | ProductStandardCost\n",
      "  |  | TotalProductCost\n",
      "  |  | SalesAmount\n",
      "  |  | TaxAmt\n",
      "  |  | Freight\n",
      "  |  | OrderDate\n",
      "  |  | DueDate\n",
      "  |  | ShipDate\n",
      "  | dimemployee\n",
      "  |  | EmployeeKey\n",
      "  |  | ParentEmployeeKey\n",
      "  |  | EmployeeNationalIDAlternateKey\n",
      "  |  | SalesTerritoryKey\n",
      "  |  | FirstName\n",
      "  |  | LastName\n",
      "  |  | MiddleName\n",
      "  |  | NameStyle\n",
      "  |  | Title\n",
      "  |  | HireDate\n",
      "  |  | BirthDate\n",
      "  |  | LoginID\n",
      "  |  | EmailAddress\n",
      "  |  | Phone\n",
      "  |  | MaritalStatus\n",
      "  |  | EmergencyContactName\n",
      "  |  | EmergencyContactPhone\n",
      "  |  | SalariedFlag\n",
      "  |  | Gender\n",
      "  |  | PayFrequency\n",
      "  |  | BaseRate\n",
      "  |  | VacationHours\n",
      "  |  | SickLeaveHours\n",
      "  |  | CurrentFlag\n",
      "  |  | SalesPersonFlag\n",
      "  |  | DepartmentName\n",
      "  |  | StartDate\n",
      "  |  | EndDate\n",
      "  |  | Status\n",
      "  | dimsalesterritory\n",
      "  |  | SalesTerritoryKey\n",
      "  |  | SalesTerritoryAlternateKey\n",
      "  |  | SalesTerritoryRegion\n",
      "  |  | SalesTerritoryCountry\n",
      "  |  | SalesTerritoryGroup\n",
      "  | dimreseller\n",
      "  |  | ResellerKey\n",
      "  |  | GeographyKey\n",
      "  |  | ResellerAlternateKey\n",
      "  |  | Phone\n",
      "  |  | BusinessType\n",
      "  |  | ResellerName\n",
      "  |  | NumberEmployees\n",
      "  |  | OrderFrequency\n",
      "  |  | OrderMonth\n",
      "  |  | FirstOrderYear\n",
      "  |  | LastOrderYear\n",
      "  |  | ProductLine\n",
      "  |  | AddressLine1\n",
      "  |  | AddressLine2\n",
      "  |  | AnnualSales\n",
      "  |  | BankName\n",
      "  |  | MinPaymentType\n",
      "  |  | MinPaymentAmount\n",
      "  |  | AnnualRevenue\n",
      "  |  | YearOpened\n",
      "  | factinternetsalesreason\n",
      "  |  | SalesOrderNumber\n",
      "  |  | SalesOrderLineNumber\n",
      "  |  | SalesReasonKey\n",
      "  | newfactcurrencyrate\n",
      "  |  | AverageRate\n",
      "  |  | CurrencyID\n",
      "  |  | CurrencyDate\n",
      "  |  | EndOfDayRate\n",
      "  |  | CurrencyKey\n",
      "  |  | DateKey\n",
      "  | dimproductcategory\n",
      "  |  | ProductCategoryKey\n",
      "  |  | ProductCategoryAlternateKey\n",
      "  |  | EnglishProductCategoryName\n",
      "  |  | SpanishProductCategoryName\n",
      "  |  | FrenchProductCategoryName\n",
      "  | factsurveyresponse\n",
      "  |  | SurveyResponseKey\n",
      "  |  | DateKey\n",
      "  |  | CustomerKey\n",
      "  |  | ProductCategoryKey\n",
      "  |  | EnglishProductCategoryName\n",
      "  |  | ProductSubcategoryKey\n",
      "  |  | EnglishProductSubcategoryName\n",
      "  |  | Date\n",
      "  | factcurrencyrate\n",
      "  |  | CurrencyKey\n",
      "  |  | DateKey\n",
      "  |  | AverageRate\n",
      "  |  | EndOfDayRate\n",
      "  |  | Date\n",
      "  | dimgeography\n",
      "  |  | GeographyKey\n",
      "  |  | City\n",
      "  |  | StateProvinceCode\n",
      "  |  | StateProvinceName\n",
      "  |  | CountryRegionCode\n",
      "  |  | EnglishCountryRegionName\n",
      "  |  | SpanishCountryRegionName\n",
      "  |  | FrenchCountryRegionName\n",
      "  |  | PostalCode\n",
      "  |  | SalesTerritoryKey\n",
      "  |  | IpAddressLocator\n",
      "  | dimscenario\n",
      "  |  | ScenarioKey\n",
      "  |  | ScenarioName\n",
      "  | dimsalesreason\n",
      "  |  | SalesReasonKey\n",
      "  |  | SalesReasonAlternateKey\n",
      "  |  | SalesReasonName\n",
      "  |  | SalesReasonReasonType\n",
      "  | dimcurrency\n",
      "  |  | CurrencyKey\n",
      "  |  | CurrencyAlternateKey\n",
      "  |  | CurrencyName\n",
      "  | factresellersales\n",
      "  |  | ProductKey\n",
      "  |  | OrderDateKey\n",
      "  |  | DueDateKey\n",
      "  |  | ShipDateKey\n",
      "  |  | ResellerKey\n",
      "  |  | EmployeeKey\n",
      "  |  | PromotionKey\n",
      "  |  | CurrencyKey\n",
      "  |  | SalesTerritoryKey\n",
      "  |  | SalesOrderNumber\n",
      "  |  | SalesOrderLineNumber\n",
      "  |  | RevisionNumber\n",
      "  |  | OrderQuantity\n",
      "  |  | UnitPrice\n",
      "  |  | ExtendedAmount\n",
      "  |  | UnitPriceDiscountPct\n",
      "  |  | DiscountAmount\n",
      "  |  | ProductStandardCost\n",
      "  |  | TotalProductCost\n",
      "  |  | SalesAmount\n",
      "  |  | TaxAmt\n",
      "  |  | Freight\n",
      "  |  | CarrierTrackingNumber\n",
      "  |  | CustomerPONumber\n",
      "  |  | OrderDate\n",
      "  |  | DueDate\n",
      "  |  | ShipDate\n",
      "  | dimorganization\n",
      "  |  | OrganizationKey\n",
      "  |  | ParentOrganizationKey\n",
      "  |  | PercentageOfOwnership\n",
      "  |  | OrganizationName\n",
      "  |  | CurrencyKey\n",
      "  | factproductinventory\n",
      "  |  | ProductKey\n",
      "  |  | DateKey\n",
      "  |  | MovementDate\n",
      "  |  | UnitCost\n",
      "  |  | UnitsIn\n",
      "  |  | UnitsOut\n",
      "  |  | UnitsBalance\n",
      "  | factcallcenter\n",
      "  |  | FactCallCenterID\n",
      "  |  | DateKey\n",
      "  |  | WageType\n",
      "  |  | Shift\n",
      "  |  | LevelOneOperators\n",
      "  |  | LevelTwoOperators\n",
      "  |  | TotalOperators\n",
      "  |  | Calls\n",
      "  |  | AutomaticResponses\n",
      "  |  | Orders\n",
      "  |  | IssuesRaised\n",
      "  |  | AverageTimePerIssue\n",
      "  |  | ServiceGrade\n",
      "  |  | Date\n",
      "  | dimdate\n",
      "  |  | DateKey\n",
      "  |  | FullDateAlternateKey\n",
      "  |  | DayNumberOfWeek\n",
      "  |  | EnglishDayNameOfWeek\n",
      "  |  | SpanishDayNameOfWeek\n",
      "  |  | FrenchDayNameOfWeek\n",
      "  |  | DayNumberOfMonth\n",
      "  |  | DayNumberOfYear\n",
      "  |  | WeekNumberOfYear\n",
      "  |  | EnglishMonthName\n",
      "  |  | SpanishMonthName\n",
      "  |  | FrenchMonthName\n",
      "  |  | MonthNumberOfYear\n",
      "  |  | CalendarQuarter\n",
      "  |  | CalendarYear\n",
      "  |  | CalendarSemester\n",
      "  |  | FiscalQuarter\n",
      "  |  | FiscalYear\n",
      "  |  | FiscalSemester\n",
      "  | prospectivebuyer\n",
      "  |  | ProspectiveBuyerKey\n",
      "  |  | ProspectAlternateKey\n",
      "  |  | FirstName\n",
      "  |  | MiddleName\n",
      "  |  | LastName\n",
      "  |  | BirthDate\n",
      "  |  | MaritalStatus\n",
      "  |  | Gender\n",
      "  |  | EmailAddress\n",
      "  |  | YearlyIncome\n",
      "  |  | TotalChildren\n",
      "  |  | NumberChildrenAtHome\n",
      "  |  | Education\n",
      "  |  | Occupation\n",
      "  |  | HouseOwnerFlag\n",
      "  |  | NumberCarsOwned\n",
      "  |  | AddressLine1\n",
      "  |  | AddressLine2\n",
      "  |  | City\n",
      "  |  | StateProvinceCode\n",
      "  |  | PostalCode\n",
      "  |  | Phone\n",
      "  |  | Salutation\n",
      "  |  | Unknown\n",
      "  | dimcustomer\n",
      "  |  | CustomerKey\n",
      "  |  | GeographyKey\n",
      "  |  | CustomerAlternateKey\n",
      "  |  | Title\n",
      "  |  | FirstName\n",
      "  |  | MiddleName\n",
      "  |  | LastName\n",
      "  |  | NameStyle\n",
      "  |  | BirthDate\n",
      "  |  | MaritalStatus\n",
      "  |  | Suffix\n",
      "  |  | Gender\n",
      "  |  | EmailAddress\n",
      "  |  | YearlyIncome\n",
      "  |  | TotalChildren\n",
      "  |  | NumberChildrenAtHome\n",
      "  |  | EnglishEducation\n",
      "  |  | SpanishEducation\n",
      "  |  | FrenchEducation\n",
      "  |  | EnglishOccupation\n",
      "  |  | SpanishOccupation\n",
      "  |  | FrenchOccupation\n",
      "  |  | HouseOwnerFlag\n",
      "  |  | NumberCarsOwned\n",
      "  |  | AddressLine1\n",
      "  |  | AddressLine2\n",
      "  |  | Phone\n",
      "  |  | DateFirstPurchase\n",
      "  |  | CommuteDistance\n",
      "  | dimproduct\n",
      "  |  | ProductKey\n",
      "  |  | ProductAlternateKey\n",
      "  |  | ProductSubcategoryKey\n",
      "  |  | WeightUnitMeasureCode\n",
      "  |  | SizeUnitMeasureCode\n",
      "  |  | EnglishProductName\n",
      "  |  | SpanishProductName\n",
      "  |  | FrenchProductName\n",
      "  |  | StandardCost\n",
      "  |  | FinishedGoodsFlag\n",
      "  |  | Color\n",
      "  |  | SafetyStockLevel\n",
      "  |  | ReorderPoint\n",
      "  |  | ListPrice\n",
      "  |  | Size\n",
      "  |  | SizeRange\n",
      "  |  | Weight\n",
      "  |  | DaysToManufacture\n",
      "  |  | ProductLine\n",
      "  |  | DealerPrice\n",
      "  |  | Class\n",
      "  |  | Style\n",
      "  |  | ModelName\n",
      "  |  | EnglishDescription\n",
      "  |  | FrenchDescription\n",
      "  |  | ChineseDescription\n",
      "  |  | ArabicDescription\n",
      "  |  | HebrewDescription\n",
      "  |  | ThaiDescription\n",
      "  |  | GermanDescription\n",
      "  |  | JapaneseDescription\n",
      "  |  | TurkishDescription\n",
      "  |  | StartDate\n",
      "  |  | EndDate\n",
      "  |  | Status\n",
      "  | factadditionalinternationalproductdescription\n",
      "  |  | ProductKey\n",
      "  |  | CultureName\n",
      "  |  | ProductDescription\n",
      "  | factfinance\n",
      "  |  | FinanceKey\n",
      "  |  | DateKey\n",
      "  |  | OrganizationKey\n",
      "  |  | DepartmentGroupKey\n",
      "  |  | ScenarioKey\n",
      "  |  | AccountKey\n",
      "  |  | Amount\n",
      "  |  | Date\n",
      "  | factsalesquota\n",
      "  |  | SalesQuotaKey\n",
      "  |  | EmployeeKey\n",
      "  |  | DateKey\n",
      "  |  | CalendarYear\n",
      "  |  | CalendarQuarter\n",
      "  |  | SalesAmountQuota\n",
      "  |  | Date\n",
      "  | dimproductsubcategory\n",
      "  |  | ProductSubcategoryKey\n",
      "  |  | ProductSubcategoryAlternateKey\n",
      "  |  | EnglishProductSubcategoryName\n",
      "  |  | SpanishProductSubcategoryName\n",
      "  |  | FrenchProductSubcategoryName\n",
      "  |  | ProductCategoryKey\n",
      "  | dimdepartmentgroup\n",
      "  |  | DepartmentGroupKey\n",
      "  |  | ParentDepartmentGroupKey\n",
      "  |  | DepartmentGroupName\n",
      "  | dimpromotion\n",
      "  |  | PromotionKey\n",
      "  |  | PromotionAlternateKey\n",
      "  |  | EnglishPromotionName\n",
      "  |  | SpanishPromotionName\n",
      "  |  | FrenchPromotionName\n",
      "  |  | DiscountPct\n",
      "  |  | EnglishPromotionType\n",
      "  |  | SpanishPromotionType\n",
      "  |  | FrenchPromotionType\n",
      "  |  | EnglishPromotionCategory\n",
      "  |  | SpanishPromotionCategory\n",
      "  |  | FrenchPromotionCategory\n",
      "  |  | StartDate\n",
      "  |  | EndDate\n",
      "  |  | MinQty\n",
      "  |  | MaxQty\n"
     ]
    },
    {
     "data": {
      "text/plain": [
       "'AdventureWorks'"
      ]
     },
     "execution_count": 31,
     "metadata": {},
     "output_type": "execute_result"
    }
   ],
   "source": [
    "datasource.pretty_print()"
   ]
  },
  {
   "cell_type": "markdown",
   "id": "c64b66cf-ff8e-45e1-bcdb-808ece3075e6",
   "metadata": {
    "microsoft": {
     "language": "python",
     "language_group": "synapse_pyspark"
    },
    "nteract": {
     "transient": {
      "deleting": false
     }
    }
   },
   "source": [
    "#### Select particular tables that you need to ask questions about.\n",
    "- Note that by default, no table is selected. A `*` in front of table indicates selected table.\n",
    "- You can select the tables using `datasource.select` to pick the tables applicable to the context of the question.\n",
    "- Calling `datasource.select` without any arguments will enable all data sources for the data agent.\n",
    "- Selecting a table will also select all columns in the table."
   ]
  },
  {
   "cell_type": "code",
   "execution_count": 11,
   "id": "1222c233-fa67-4dba-b667-ba847022ecb3",
   "metadata": {},
   "outputs": [
    {
     "data": {
      "application/vnd.livy.statement-meta+json": {
       "execution_finish_time": "2025-06-30T22:09:05.9979734Z",
       "execution_start_time": "2025-06-30T22:09:02.1972108Z",
       "livy_statement_state": "available",
       "normalized_state": "finished",
       "parent_msg_id": "883bd24c-ba5f-4c20-ba13-1b1c91bd737f",
       "queued_time": "2025-06-30T22:09:02.1960762Z",
       "session_id": "01f87db7-4ac6-475f-bc8b-241960aa9d6f",
       "session_start_time": null,
       "spark_pool": null,
       "state": "finished",
       "statement_id": 18,
       "statement_ids": [
        18
       ]
      },
      "text/plain": [
       "StatementMeta(, 01f87db7-4ac6-475f-bc8b-241960aa9d6f, 18, Finished, Available, Finished)"
      ]
     },
     "metadata": {},
     "output_type": "display_data"
    },
    {
     "name": "stdout",
     "output_type": "stream",
     "text": [
      " dbo\n",
      "  | dimaccount\n",
      "  |  | AccountKey\n",
      "  |  | ParentAccountKey\n",
      "  |  | AccountCodeAlternateKey\n",
      "  |  | ParentAccountCodeAlternateKey\n",
      "  |  | AccountDescription\n",
      "  |  | AccountType\n",
      "  |  | Operator\n",
      "  |  | CustomMembers\n",
      "  |  | ValueType\n",
      "  | factinternetsales *\n",
      "  |  | ProductKey\n",
      "  |  | OrderDateKey\n",
      "  |  | DueDateKey\n",
      "  |  | ShipDateKey\n",
      "  |  | CustomerKey\n",
      "  |  | PromotionKey\n",
      "  |  | CurrencyKey\n",
      "  |  | SalesTerritoryKey\n",
      "  |  | SalesOrderNumber\n",
      "  |  | SalesOrderLineNumber\n",
      "  |  | RevisionNumber\n",
      "  |  | OrderQuantity\n",
      "  |  | UnitPrice\n",
      "  |  | ExtendedAmount\n",
      "  |  | UnitPriceDiscountPct\n",
      "  |  | DiscountAmount\n",
      "  |  | ProductStandardCost\n",
      "  |  | TotalProductCost\n",
      "  |  | SalesAmount\n",
      "  |  | TaxAmt\n",
      "  |  | Freight\n",
      "  |  | OrderDate\n",
      "  |  | DueDate\n",
      "  |  | ShipDate\n",
      "  | dimemployee\n",
      "  |  | EmployeeKey\n",
      "  |  | ParentEmployeeKey\n",
      "  |  | EmployeeNationalIDAlternateKey\n",
      "  |  | SalesTerritoryKey\n",
      "  |  | FirstName\n",
      "  |  | LastName\n",
      "  |  | MiddleName\n",
      "  |  | NameStyle\n",
      "  |  | Title\n",
      "  |  | HireDate\n",
      "  |  | BirthDate\n",
      "  |  | LoginID\n",
      "  |  | EmailAddress\n",
      "  |  | Phone\n",
      "  |  | MaritalStatus\n",
      "  |  | EmergencyContactName\n",
      "  |  | EmergencyContactPhone\n",
      "  |  | SalariedFlag\n",
      "  |  | Gender\n",
      "  |  | PayFrequency\n",
      "  |  | BaseRate\n",
      "  |  | VacationHours\n",
      "  |  | SickLeaveHours\n",
      "  |  | CurrentFlag\n",
      "  |  | SalesPersonFlag\n",
      "  |  | DepartmentName\n",
      "  |  | StartDate\n",
      "  |  | EndDate\n",
      "  |  | Status\n",
      "  | dimsalesterritory\n",
      "  |  | SalesTerritoryKey\n",
      "  |  | SalesTerritoryAlternateKey\n",
      "  |  | SalesTerritoryRegion\n",
      "  |  | SalesTerritoryCountry\n",
      "  |  | SalesTerritoryGroup\n",
      "  | dimreseller\n",
      "  |  | ResellerKey\n",
      "  |  | GeographyKey\n",
      "  |  | ResellerAlternateKey\n",
      "  |  | Phone\n",
      "  |  | BusinessType\n",
      "  |  | ResellerName\n",
      "  |  | NumberEmployees\n",
      "  |  | OrderFrequency\n",
      "  |  | OrderMonth\n",
      "  |  | FirstOrderYear\n",
      "  |  | LastOrderYear\n",
      "  |  | ProductLine\n",
      "  |  | AddressLine1\n",
      "  |  | AddressLine2\n",
      "  |  | AnnualSales\n",
      "  |  | BankName\n",
      "  |  | MinPaymentType\n",
      "  |  | MinPaymentAmount\n",
      "  |  | AnnualRevenue\n",
      "  |  | YearOpened\n",
      "  | factinternetsalesreason\n",
      "  |  | SalesOrderNumber\n",
      "  |  | SalesOrderLineNumber\n",
      "  |  | SalesReasonKey\n",
      "  | newfactcurrencyrate\n",
      "  |  | AverageRate\n",
      "  |  | CurrencyID\n",
      "  |  | CurrencyDate\n",
      "  |  | EndOfDayRate\n",
      "  |  | CurrencyKey\n",
      "  |  | DateKey\n",
      "  | dimproductcategory\n",
      "  |  | ProductCategoryKey\n",
      "  |  | ProductCategoryAlternateKey\n",
      "  |  | EnglishProductCategoryName\n",
      "  |  | SpanishProductCategoryName\n",
      "  |  | FrenchProductCategoryName\n",
      "  | factsurveyresponse\n",
      "  |  | SurveyResponseKey\n",
      "  |  | DateKey\n",
      "  |  | CustomerKey\n",
      "  |  | ProductCategoryKey\n",
      "  |  | EnglishProductCategoryName\n",
      "  |  | ProductSubcategoryKey\n",
      "  |  | EnglishProductSubcategoryName\n",
      "  |  | Date\n",
      "  | factcurrencyrate\n",
      "  |  | CurrencyKey\n",
      "  |  | DateKey\n",
      "  |  | AverageRate\n",
      "  |  | EndOfDayRate\n",
      "  |  | Date\n",
      "  | dimgeography\n",
      "  |  | GeographyKey\n",
      "  |  | City\n",
      "  |  | StateProvinceCode\n",
      "  |  | StateProvinceName\n",
      "  |  | CountryRegionCode\n",
      "  |  | EnglishCountryRegionName\n",
      "  |  | SpanishCountryRegionName\n",
      "  |  | FrenchCountryRegionName\n",
      "  |  | PostalCode\n",
      "  |  | SalesTerritoryKey\n",
      "  |  | IpAddressLocator\n",
      "  | dimscenario\n",
      "  |  | ScenarioKey\n",
      "  |  | ScenarioName\n",
      "  | dimsalesreason\n",
      "  |  | SalesReasonKey\n",
      "  |  | SalesReasonAlternateKey\n",
      "  |  | SalesReasonName\n",
      "  |  | SalesReasonReasonType\n",
      "  | dimcurrency\n",
      "  |  | CurrencyKey\n",
      "  |  | CurrencyAlternateKey\n",
      "  |  | CurrencyName\n",
      "  | factresellersales\n",
      "  |  | ProductKey\n",
      "  |  | OrderDateKey\n",
      "  |  | DueDateKey\n",
      "  |  | ShipDateKey\n",
      "  |  | ResellerKey\n",
      "  |  | EmployeeKey\n",
      "  |  | PromotionKey\n",
      "  |  | CurrencyKey\n",
      "  |  | SalesTerritoryKey\n",
      "  |  | SalesOrderNumber\n",
      "  |  | SalesOrderLineNumber\n",
      "  |  | RevisionNumber\n",
      "  |  | OrderQuantity\n",
      "  |  | UnitPrice\n",
      "  |  | ExtendedAmount\n",
      "  |  | UnitPriceDiscountPct\n",
      "  |  | DiscountAmount\n",
      "  |  | ProductStandardCost\n",
      "  |  | TotalProductCost\n",
      "  |  | SalesAmount\n",
      "  |  | TaxAmt\n",
      "  |  | Freight\n",
      "  |  | CarrierTrackingNumber\n",
      "  |  | CustomerPONumber\n",
      "  |  | OrderDate\n",
      "  |  | DueDate\n",
      "  |  | ShipDate\n",
      "  | dimorganization\n",
      "  |  | OrganizationKey\n",
      "  |  | ParentOrganizationKey\n",
      "  |  | PercentageOfOwnership\n",
      "  |  | OrganizationName\n",
      "  |  | CurrencyKey\n",
      "  | factproductinventory\n",
      "  |  | ProductKey\n",
      "  |  | DateKey\n",
      "  |  | MovementDate\n",
      "  |  | UnitCost\n",
      "  |  | UnitsIn\n",
      "  |  | UnitsOut\n",
      "  |  | UnitsBalance\n",
      "  | factcallcenter\n",
      "  |  | FactCallCenterID\n",
      "  |  | DateKey\n",
      "  |  | WageType\n",
      "  |  | Shift\n",
      "  |  | LevelOneOperators\n",
      "  |  | LevelTwoOperators\n",
      "  |  | TotalOperators\n",
      "  |  | Calls\n",
      "  |  | AutomaticResponses\n",
      "  |  | Orders\n",
      "  |  | IssuesRaised\n",
      "  |  | AverageTimePerIssue\n",
      "  |  | ServiceGrade\n",
      "  |  | Date\n",
      "  | dimdate\n",
      "  |  | DateKey\n",
      "  |  | FullDateAlternateKey\n",
      "  |  | DayNumberOfWeek\n",
      "  |  | EnglishDayNameOfWeek\n",
      "  |  | SpanishDayNameOfWeek\n",
      "  |  | FrenchDayNameOfWeek\n",
      "  |  | DayNumberOfMonth\n",
      "  |  | DayNumberOfYear\n",
      "  |  | WeekNumberOfYear\n",
      "  |  | EnglishMonthName\n",
      "  |  | SpanishMonthName\n",
      "  |  | FrenchMonthName\n",
      "  |  | MonthNumberOfYear\n",
      "  |  | CalendarQuarter\n",
      "  |  | CalendarYear\n",
      "  |  | CalendarSemester\n",
      "  |  | FiscalQuarter\n",
      "  |  | FiscalYear\n",
      "  |  | FiscalSemester\n",
      "  | prospectivebuyer\n",
      "  |  | ProspectiveBuyerKey\n",
      "  |  | ProspectAlternateKey\n",
      "  |  | FirstName\n",
      "  |  | MiddleName\n",
      "  |  | LastName\n",
      "  |  | BirthDate\n",
      "  |  | MaritalStatus\n",
      "  |  | Gender\n",
      "  |  | EmailAddress\n",
      "  |  | YearlyIncome\n",
      "  |  | TotalChildren\n",
      "  |  | NumberChildrenAtHome\n",
      "  |  | Education\n",
      "  |  | Occupation\n",
      "  |  | HouseOwnerFlag\n",
      "  |  | NumberCarsOwned\n",
      "  |  | AddressLine1\n",
      "  |  | AddressLine2\n",
      "  |  | City\n",
      "  |  | StateProvinceCode\n",
      "  |  | PostalCode\n",
      "  |  | Phone\n",
      "  |  | Salutation\n",
      "  |  | Unknown\n",
      "  | dimcustomer *\n",
      "  |  | CustomerKey\n",
      "  |  | GeographyKey\n",
      "  |  | CustomerAlternateKey\n",
      "  |  | Title\n",
      "  |  | FirstName\n",
      "  |  | MiddleName\n",
      "  |  | LastName\n",
      "  |  | NameStyle\n",
      "  |  | BirthDate\n",
      "  |  | MaritalStatus\n",
      "  |  | Suffix\n",
      "  |  | Gender\n",
      "  |  | EmailAddress\n",
      "  |  | YearlyIncome\n",
      "  |  | TotalChildren\n",
      "  |  | NumberChildrenAtHome\n",
      "  |  | EnglishEducation\n",
      "  |  | SpanishEducation\n",
      "  |  | FrenchEducation\n",
      "  |  | EnglishOccupation\n",
      "  |  | SpanishOccupation\n",
      "  |  | FrenchOccupation\n",
      "  |  | HouseOwnerFlag\n",
      "  |  | NumberCarsOwned\n",
      "  |  | AddressLine1\n",
      "  |  | AddressLine2\n",
      "  |  | Phone\n",
      "  |  | DateFirstPurchase\n",
      "  |  | CommuteDistance\n",
      "  | dimproduct *\n",
      "  |  | ProductKey\n",
      "  |  | ProductAlternateKey\n",
      "  |  | ProductSubcategoryKey\n",
      "  |  | WeightUnitMeasureCode\n",
      "  |  | SizeUnitMeasureCode\n",
      "  |  | EnglishProductName\n",
      "  |  | SpanishProductName\n",
      "  |  | FrenchProductName\n",
      "  |  | StandardCost\n",
      "  |  | FinishedGoodsFlag\n",
      "  |  | Color\n",
      "  |  | SafetyStockLevel\n",
      "  |  | ReorderPoint\n",
      "  |  | ListPrice\n",
      "  |  | Size\n",
      "  |  | SizeRange\n",
      "  |  | Weight\n",
      "  |  | DaysToManufacture\n",
      "  |  | ProductLine\n",
      "  |  | DealerPrice\n",
      "  |  | Class\n",
      "  |  | Style\n",
      "  |  | ModelName\n",
      "  |  | EnglishDescription\n",
      "  |  | FrenchDescription\n",
      "  |  | ChineseDescription\n",
      "  |  | ArabicDescription\n",
      "  |  | HebrewDescription\n",
      "  |  | ThaiDescription\n",
      "  |  | GermanDescription\n",
      "  |  | JapaneseDescription\n",
      "  |  | TurkishDescription\n",
      "  |  | StartDate\n",
      "  |  | EndDate\n",
      "  |  | Status\n",
      "  | factadditionalinternationalproductdescription\n",
      "  |  | ProductKey\n",
      "  |  | CultureName\n",
      "  |  | ProductDescription\n",
      "  | factfinance\n",
      "  |  | FinanceKey\n",
      "  |  | DateKey\n",
      "  |  | OrganizationKey\n",
      "  |  | DepartmentGroupKey\n",
      "  |  | ScenarioKey\n",
      "  |  | AccountKey\n",
      "  |  | Amount\n",
      "  |  | Date\n",
      "  | factsalesquota\n",
      "  |  | SalesQuotaKey\n",
      "  |  | EmployeeKey\n",
      "  |  | DateKey\n",
      "  |  | CalendarYear\n",
      "  |  | CalendarQuarter\n",
      "  |  | SalesAmountQuota\n",
      "  |  | Date\n",
      "  | dimproductsubcategory\n",
      "  |  | ProductSubcategoryKey\n",
      "  |  | ProductSubcategoryAlternateKey\n",
      "  |  | EnglishProductSubcategoryName\n",
      "  |  | SpanishProductSubcategoryName\n",
      "  |  | FrenchProductSubcategoryName\n",
      "  |  | ProductCategoryKey\n",
      "  | dimdepartmentgroup\n",
      "  |  | DepartmentGroupKey\n",
      "  |  | ParentDepartmentGroupKey\n",
      "  |  | DepartmentGroupName\n",
      "  | dimpromotion\n",
      "  |  | PromotionKey\n",
      "  |  | PromotionAlternateKey\n",
      "  |  | EnglishPromotionName\n",
      "  |  | SpanishPromotionName\n",
      "  |  | FrenchPromotionName\n",
      "  |  | DiscountPct\n",
      "  |  | EnglishPromotionType\n",
      "  |  | SpanishPromotionType\n",
      "  |  | FrenchPromotionType\n",
      "  |  | EnglishPromotionCategory\n",
      "  |  | SpanishPromotionCategory\n",
      "  |  | FrenchPromotionCategory\n",
      "  |  | StartDate\n",
      "  |  | EndDate\n",
      "  |  | MinQty\n",
      "  |  | MaxQty\n"
     ]
    },
    {
     "data": {
      "text/plain": [
       "'AdventureWorks'"
      ]
     },
     "execution_count": 34,
     "metadata": {},
     "output_type": "execute_result"
    }
   ],
   "source": [
    "datasource.select(\"dbo\", \"dimcustomer\")\n",
    "datasource.select(\"dbo\", \"dimproduct\")\n",
    "datasource.select(\"dbo\", \"factinternetsales\")\n",
    "datasource.pretty_print()"
   ]
  },
  {
   "cell_type": "markdown",
   "id": "aed90831-16b5-4d1b-a1fb-56666d52f36f",
   "metadata": {
    "nteract": {
     "transient": {
      "deleting": false
     }
    }
   },
   "source": [
    "#### Add Data Source Instructions\n",
    "We will call `update_configuration` on the data source to update data source instructions."
   ]
  },
  {
   "cell_type": "code",
   "execution_count": 13,
   "id": "4777c9c2-778c-41e0-84a8-6bf291b55b61",
   "metadata": {},
   "outputs": [
    {
     "data": {
      "application/vnd.livy.statement-meta+json": {
       "execution_finish_time": "2025-06-30T22:16:56.9601828Z",
       "execution_start_time": "2025-06-30T22:16:54.0080698Z",
       "livy_statement_state": "available",
       "normalized_state": "finished",
       "parent_msg_id": "3c53918e-1f73-43be-a584-a792bb41b51d",
       "queued_time": "2025-06-30T22:16:54.0068068Z",
       "session_id": "01f87db7-4ac6-475f-bc8b-241960aa9d6f",
       "session_start_time": null,
       "spark_pool": null,
       "state": "finished",
       "statement_id": 20,
       "statement_ids": [
        20
       ]
      },
      "text/plain": [
       "StatementMeta(, 01f87db7-4ac6-475f-bc8b-241960aa9d6f, 20, Finished, Available, Finished)"
      ]
     },
     "metadata": {},
     "output_type": "display_data"
    },
    {
     "data": {
      "text/plain": [
       "' When answering about a product, make sure to include the Product Name in dimproduct in the answer. \\nBest selling product should be determined by sales volume, not sales amount. \\nIf you answer questions about quantities, make sure to include the quantity. \\n'"
      ]
     },
     "execution_count": 40,
     "metadata": {},
     "output_type": "execute_result"
    }
   ],
   "source": [
    "ds_notes = \"\"\" \\\n",
    "When answering about a product, make sure to include the Product Name in dimproduct in the answer. \n",
    "Best selling product should be determined by sales volume, not sales amount. \n",
    "If you answer questions about quantities, make sure to include the quantity. \n",
    "\"\"\"\n",
    "datasource.update_configuration(instructions=ds_notes)\n",
    "datasource.get_configuration()[\"additional_instructions\"]"
   ]
  },
  {
   "cell_type": "markdown",
   "id": "86f39c60-0654-4d88-9bf3-3e4613f9f795",
   "metadata": {
    "microsoft": {
     "language": "python",
     "language_group": "synapse_pyspark"
    },
    "nteract": {
     "transient": {
      "deleting": false
     }
    }
   },
   "source": [
    "#### Add IDs to Fabric Client"
   ]
  },
  {
   "cell_type": "markdown",
   "id": "de79e63d-e777-4515-9216-a2120acf6b69",
   "metadata": {
    "microsoft": {
     "language": "python",
     "language_group": "synapse_pyspark"
    },
    "nteract": {
     "transient": {
      "deleting": false
     }
    }
   },
   "source": [
    "Now that the Data Agent is created and relevant datasources and tables are selected. We can start with adding the fabric client. Pass the `data_agent_name` to the `FabricOpenAI` class imported and create the `fabric_client` instance."
   ]
  },
  {
   "cell_type": "code",
   "execution_count": 14,
   "id": "d683a9d1-07b0-44fa-9dfb-7504346b49e6",
   "metadata": {},
   "outputs": [
    {
     "data": {
      "application/vnd.livy.statement-meta+json": {
       "execution_finish_time": "2025-06-30T22:17:07.2958479Z",
       "execution_start_time": "2025-06-30T22:17:04.283896Z",
       "livy_statement_state": "available",
       "normalized_state": "finished",
       "parent_msg_id": "4087956d-8631-4e21-9a66-534f9d76c9ac",
       "queued_time": "2025-06-30T22:17:04.2828453Z",
       "session_id": "01f87db7-4ac6-475f-bc8b-241960aa9d6f",
       "session_start_time": null,
       "spark_pool": null,
       "state": "finished",
       "statement_id": 21,
       "statement_ids": [
        21
       ]
      },
      "text/plain": [
       "StatementMeta(, 01f87db7-4ac6-475f-bc8b-241960aa9d6f, 21, Finished, Available, Finished)"
      ]
     },
     "metadata": {},
     "output_type": "display_data"
    },
    {
     "name": "stdout",
     "output_type": "stream",
     "text": [
      "asst_JvNQ3k50sAcAcTRz8FQYc9Yn\n",
      "thread_6xqBDTYEqH94uJsAOPYzDoTV\n"
     ]
    }
   ],
   "source": [
    "import sempy.fabric as fabric\n",
    "from fabric.dataagent.client import FabricOpenAI\n",
    "\n",
    "\n",
    "fabric_client = FabricOpenAI(artifact_name=data_agent_name)\n",
    "assistant = fabric_client.beta.assistants.create(model=\"gpt-4o\")\n",
    "thread = fabric_client.beta.threads.create()\n",
    "\n",
    "print(assistant.id)\n",
    "print(thread.id)"
   ]
  },
  {
   "cell_type": "markdown",
   "id": "862f1cca-b461-4c22-b97b-3f67abb1cfec",
   "metadata": {
    "microsoft": {
     "language": "python",
     "language_group": "synapse_pyspark"
    },
    "nteract": {
     "transient": {
      "deleting": false
     }
    }
   },
   "source": [
    "#### Example Showing Message Submission and Query to Response Steps\n",
    "- Message appended to a thread, run creation, checking the status and final response\n",
    "- Submit message using the create method in messages, pass an example question in content.\n",
    "- Then, create a run for the particular `thread.id`."
   ]
  },
  {
   "cell_type": "code",
   "execution_count": 15,
   "id": "fe93e864-5646-4886-9710-99d091a28d3d",
   "metadata": {},
   "outputs": [
    {
     "data": {
      "application/vnd.livy.statement-meta+json": {
       "execution_finish_time": "2025-06-30T22:17:13.3081453Z",
       "execution_start_time": "2025-06-30T22:17:11.3072444Z",
       "livy_statement_state": "available",
       "normalized_state": "finished",
       "parent_msg_id": "2d47a0eb-da86-4d24-b8b5-39ea2f89fa2c",
       "queued_time": "2025-06-30T22:17:11.3059707Z",
       "session_id": "01f87db7-4ac6-475f-bc8b-241960aa9d6f",
       "session_start_time": null,
       "spark_pool": null,
       "state": "finished",
       "statement_id": 22,
       "statement_ids": [
        22
       ]
      },
      "text/plain": [
       "StatementMeta(, 01f87db7-4ac6-475f-bc8b-241960aa9d6f, 22, Finished, Available, Finished)"
      ]
     },
     "metadata": {},
     "output_type": "display_data"
    },
    {
     "name": "stderr",
     "output_type": "stream",
     "text": [
      "/tmp/ipykernel_8626/280656584.py:2: DeprecationWarning: The Assistants API is deprecated in favor of the Responses API\n",
      "  fabric_client.beta.threads.messages.create(\n",
      "/tmp/ipykernel_8626/280656584.py:7: DeprecationWarning: The Assistants API is deprecated in favor of the Responses API\n",
      "  run = fabric_client.beta.threads.runs.create(\n"
     ]
    }
   ],
   "source": [
    "# Create a message to append to our thread\n",
    "fabric_client.beta.threads.messages.create(\n",
    "    thread_id=thread.id,\n",
    "    role=\"user\",\n",
    "    content=\"What was the best selling product by volume in 2013?\",\n",
    ")\n",
    "run = fabric_client.beta.threads.runs.create(\n",
    "    thread_id=thread.id, assistant_id=assistant.id\n",
    ")"
   ]
  },
  {
   "cell_type": "markdown",
   "id": "1cfe8c1b-c124-43f5-bce1-da00d933a904",
   "metadata": {
    "microsoft": {
     "language": "python",
     "language_group": "synapse_pyspark"
    },
    "nteract": {
     "transient": {
      "deleting": false
     }
    }
   },
   "source": [
    "#### Checking Status\n",
    "Below cell is to show you how we can check the status of the run. Note that if multiple questions are asked, you will use this to check status of various questions in the interim, as they are in a queue. You can always only have 1x run active per thread."
   ]
  },
  {
   "cell_type": "code",
   "execution_count": 16,
   "id": "16424163-7c94-470e-81a8-a34ded269ac2",
   "metadata": {},
   "outputs": [
    {
     "data": {
      "application/vnd.livy.statement-meta+json": {
       "execution_finish_time": "2025-06-30T22:17:37.2404485Z",
       "execution_start_time": "2025-06-30T22:17:27.2988067Z",
       "livy_statement_state": "available",
       "normalized_state": "finished",
       "parent_msg_id": "e76e5bb2-3d70-4472-8b38-2392d0fb5e27",
       "queued_time": "2025-06-30T22:17:27.2975889Z",
       "session_id": "01f87db7-4ac6-475f-bc8b-241960aa9d6f",
       "session_start_time": null,
       "spark_pool": null,
       "state": "finished",
       "statement_id": 23,
       "statement_ids": [
        23
       ]
      },
      "text/plain": [
       "StatementMeta(, 01f87db7-4ac6-475f-bc8b-241960aa9d6f, 23, Finished, Available, Finished)"
      ]
     },
     "metadata": {},
     "output_type": "display_data"
    },
    {
     "name": "stderr",
     "output_type": "stream",
     "text": [
      "/tmp/ipykernel_8626/1747715816.py:5: DeprecationWarning: The Assistants API is deprecated in favor of the Responses API\n",
      "  run = fabric_client.beta.threads.runs.retrieve(\n"
     ]
    },
    {
     "name": "stdout",
     "output_type": "stream",
     "text": [
      "completed\n"
     ]
    }
   ],
   "source": [
    "import time\n",
    "\n",
    "# Wait for completion\n",
    "while run.status == \"queued\" or run.status == \"in_progress\":\n",
    "    run = fabric_client.beta.threads.runs.retrieve(\n",
    "        thread_id=thread.id,\n",
    "        run_id=run.id,\n",
    "    )\n",
    "    time.sleep(2)\n",
    "print(run.status)"
   ]
  },
  {
   "cell_type": "markdown",
   "id": "f023e173",
   "metadata": {
    "vscode": {
     "languageId": "markdown"
    }
   },
   "source": [
    "#### Retrieving and Displaying Results\n",
    "Once the run is completed, we can retrieve and display the results generated by the Data Agent. The following steps demonstrate how to access and present the response data."
   ]
  },
  {
   "cell_type": "markdown",
   "id": "a99c9949-6b28-4dd3-9882-45c23a5d13bf",
   "metadata": {
    "microsoft": {
     "language": "python",
     "language_group": "synapse_pyspark"
    },
    "nteract": {
     "transient": {
      "deleting": false
     }
    }
   },
   "source": [
    "\n",
    "- Response from the agent can be read from the messages list for particular thread id.\n",
    "- In order to improve readability, we can use a pretty_print function for all the messages."
   ]
  },
  {
   "cell_type": "code",
   "execution_count": 17,
   "id": "a452e2eb-c699-401e-bf65-8a32b7a8a65a",
   "metadata": {},
   "outputs": [
    {
     "data": {
      "application/vnd.livy.statement-meta+json": {
       "execution_finish_time": "2025-06-30T22:17:48.1094999Z",
       "execution_start_time": "2025-06-30T22:17:46.9285341Z",
       "livy_statement_state": "available",
       "normalized_state": "finished",
       "parent_msg_id": "a302e35e-bd62-44d2-b129-a4fd87b00b21",
       "queued_time": "2025-06-30T22:17:46.9272985Z",
       "session_id": "01f87db7-4ac6-475f-bc8b-241960aa9d6f",
       "session_start_time": null,
       "spark_pool": null,
       "state": "finished",
       "statement_id": 24,
       "statement_ids": [
        24
       ]
      },
      "text/plain": [
       "StatementMeta(, 01f87db7-4ac6-475f-bc8b-241960aa9d6f, 24, Finished, Available, Finished)"
      ]
     },
     "metadata": {},
     "output_type": "display_data"
    },
    {
     "name": "stderr",
     "output_type": "stream",
     "text": [
      "/tmp/ipykernel_8626/3424851361.py:2: DeprecationWarning: The Assistants API is deprecated in favor of the Responses API\n",
      "  response = fabric_client.beta.threads.messages.list(thread_id=thread.id, order=\"asc\")\n"
     ]
    }
   ],
   "source": [
    "# Retrieve all the messages added after our last user message\n",
    "response = fabric_client.beta.threads.messages.list(thread_id=thread.id, order=\"asc\")"
   ]
  },
  {
   "cell_type": "code",
   "execution_count": 18,
   "id": "2441f4c0-5e0c-4976-94f8-bd63c8226001",
   "metadata": {},
   "outputs": [
    {
     "data": {
      "application/vnd.livy.statement-meta+json": {
       "execution_finish_time": "2025-06-30T22:17:58.7416635Z",
       "execution_start_time": "2025-06-30T22:17:58.1979489Z",
       "livy_statement_state": "available",
       "normalized_state": "finished",
       "parent_msg_id": "c0297e76-d600-4f22-843c-30c8ebfd61c1",
       "queued_time": "2025-06-30T22:17:58.1967642Z",
       "session_id": "01f87db7-4ac6-475f-bc8b-241960aa9d6f",
       "session_start_time": null,
       "spark_pool": null,
       "state": "finished",
       "statement_id": 25,
       "statement_ids": [
        25
       ]
      },
      "text/plain": [
       "StatementMeta(, 01f87db7-4ac6-475f-bc8b-241960aa9d6f, 25, Finished, Available, Finished)"
      ]
     },
     "metadata": {},
     "output_type": "display_data"
    }
   ],
   "source": [
    "# Pretty printing helper\n",
    "def pretty_print(messages):\n",
    "    print(\"# Messages\")\n",
    "    for m in messages:\n",
    "        print(f\"{m.role}: {m.content[0].text.value}\")\n",
    "    print()"
   ]
  },
  {
   "cell_type": "code",
   "execution_count": 19,
   "id": "39408436-20a9-4c11-8d79-7c59abf3dcd0",
   "metadata": {},
   "outputs": [
    {
     "data": {
      "application/vnd.livy.statement-meta+json": {
       "execution_finish_time": "2025-06-30T22:18:10.3131781Z",
       "execution_start_time": "2025-06-30T22:18:09.731157Z",
       "livy_statement_state": "available",
       "normalized_state": "finished",
       "parent_msg_id": "5f08ac4f-48b0-4c82-b949-98b02f0680ef",
       "queued_time": "2025-06-30T22:18:09.7299589Z",
       "session_id": "01f87db7-4ac6-475f-bc8b-241960aa9d6f",
       "session_start_time": null,
       "spark_pool": null,
       "state": "finished",
       "statement_id": 26,
       "statement_ids": [
        26
       ]
      },
      "text/plain": [
       "StatementMeta(, 01f87db7-4ac6-475f-bc8b-241960aa9d6f, 26, Finished, Available, Finished)"
      ]
     },
     "metadata": {},
     "output_type": "display_data"
    },
    {
     "name": "stdout",
     "output_type": "stream",
     "text": [
      "# Messages\n",
      "user: What was the best selling product by volume in 2013?\n",
      "assistant: To determine the best selling product by volume in 2013, we need to gather some more information. I will break down the question into three distinct queries to get a comprehensive understanding:\n",
      "\n",
      "1. What were the top 3 best selling products by volume in 2013?\n",
      "2. What were the top 3 best selling products by volume in 2012 (to compare with 2013)?\n",
      "3. What are the top 3 best selling products by volume across all years?\n",
      "\n",
      "I will query the database with these questions now.\n",
      "assistant: ### Best Selling Products by Volume in 2013\n",
      "1. **Water Bottle - 30 oz.**: 4080 units sold\n",
      "2. **Patch Kit/8 Patches**: 3026 units sold\n",
      "3. **Mountain Tire Tube**: 2926 units sold\n",
      "\n",
      "### Best Selling Products by Volume in 2012\n",
      "1. **Mountain-200 Black, 46**: 206 units sold\n",
      "2. **Mountain-200 Black, 42**: 191 units sold\n",
      "3. **Mountain-200 Silver, 46**: 182 units sold\n",
      "\n",
      "### Best Selling Products by Volume Across All Years\n",
      "1. **Water Bottle - 30 oz.**: 4244 units sold\n",
      "2. **Patch Kit/8 Patches**: 3191 units sold\n",
      "3. **Mountain Tire Tube**: 3095 units sold\n",
      "\n",
      "## Conclusion\n",
      "The best selling product by volume in 2013 was the **Water Bottle - 30 oz.**, with 4080 units sold. This product is also consistently among the top selling products across all years, reinforcing its popularity.\n",
      "\n"
     ]
    }
   ],
   "source": [
    "pretty_print(response)"
   ]
  },
  {
   "cell_type": "markdown",
   "id": "5aab492d-5414-4baa-a303-89b7484e5923",
   "metadata": {
    "microsoft": {
     "language": "python",
     "language_group": "synapse_pyspark"
    },
    "nteract": {
     "transient": {
      "deleting": false
     }
    }
   },
   "source": [
    "#### Some debugging and verification tools: `run_steps`\n",
    "We can use `run_steps` to check the data from the run. It can be parsed to separate out specifics such as generation of SQL query or some intermediate answers.\n"
   ]
  },
  {
   "cell_type": "code",
   "execution_count": 20,
   "id": "9bbf6bfd-c052-4d0e-914f-1c468dfad013",
   "metadata": {},
   "outputs": [
    {
     "data": {
      "application/vnd.livy.statement-meta+json": {
       "execution_finish_time": "2025-06-30T22:18:20.929336Z",
       "execution_start_time": "2025-06-30T22:18:19.656639Z",
       "livy_statement_state": "available",
       "normalized_state": "finished",
       "parent_msg_id": "7803fd90-c48c-405d-8011-7976b18f3747",
       "queued_time": "2025-06-30T22:18:19.6554114Z",
       "session_id": "01f87db7-4ac6-475f-bc8b-241960aa9d6f",
       "session_start_time": null,
       "spark_pool": null,
       "state": "finished",
       "statement_id": 27,
       "statement_ids": [
        27
       ]
      },
      "text/plain": [
       "StatementMeta(, 01f87db7-4ac6-475f-bc8b-241960aa9d6f, 27, Finished, Available, Finished)"
      ]
     },
     "metadata": {},
     "output_type": "display_data"
    },
    {
     "name": "stderr",
     "output_type": "stream",
     "text": [
      "/tmp/ipykernel_8626/904762079.py:1: DeprecationWarning: The Assistants API is deprecated in favor of the Responses API\n",
      "  run_steps = fabric_client.beta.threads.runs.steps.list(\n"
     ]
    }
   ],
   "source": [
    "run_steps = fabric_client.beta.threads.runs.steps.list(\n",
    "    thread_id=thread.id,\n",
    "    run_id=run.id,\n",
    ")"
   ]
  },
  {
   "cell_type": "code",
   "execution_count": null,
   "id": "0a775aed-3b54-41d8-b4d8-6acc4d43e1dc",
   "metadata": {},
   "outputs": [
    {
     "data": {
      "application/vnd.livy.statement-meta+json": {
       "execution_finish_time": "2025-06-30T22:18:24.4786335Z",
       "execution_start_time": "2025-06-30T22:18:23.9181276Z",
       "livy_statement_state": "available",
       "normalized_state": "finished",
       "parent_msg_id": "870dd6e8-e688-4c3b-8866-b4270abd5d05",
       "queued_time": "2025-06-30T22:18:23.9170572Z",
       "session_id": "01f87db7-4ac6-475f-bc8b-241960aa9d6f",
       "session_start_time": null,
       "spark_pool": null,
       "state": "finished",
       "statement_id": 28,
       "statement_ids": [
        28
       ]
      },
      "text/plain": [
       "StatementMeta(, 01f87db7-4ac6-475f-bc8b-241960aa9d6f, 28, Finished, Available, Finished)"
      ]
     },
     "metadata": {},
     "output_type": "display_data"
    },
    {
     "data": {
      "text/plain": [
       "[RunStep(id='step_fabcszJg43mz8x0QN5WSv9OfJhuM', assistant_id='asst_JvNQ3k50sAcAcTRz8FQYc9Yn', cancelled_at=None, completed_at=1751321848, created_at=1751321840, expired_at=None, failed_at=None, last_error=None, metadata=None, object='thread.run.step', run_id='run_fab9dJacMm34B9RJoV0dBnTHXrpY', status='completed', step_details=ToolCallsStepDetails(tool_calls=[FunctionToolCall(id='call_LIPrkfBX27gUQfjEoB5Pz4yg', function=Function(arguments='{\"datasource_name\":\"AdventureWorks\",\"datasource_type\":\"LakehouseTables\",\"datasource_artifact_id\":\"11564ef5-8f2a-4bc7-ad9e-004ab3c3c80b\",\"datasource_workspace_id\":\"67422a4f-c3fa-484a-9a48-9a120894e9fc\",\"natural_language_query\":\"What are the top 3 best selling products by volume across all years?\",\"code\":\"\\\\u0060\\\\u0060\\\\u0060sql\\\\nSELECT TOP 3 \\\\n    p.EnglishProductName, \\\\n    SUM(f.OrderQuantity) AS TotalOrderQuantity\\\\nFROM \\\\n    dbo.factinternetsales f\\\\nJOIN \\\\n    dbo.dimproduct p ON f.ProductKey = p.ProductKey\\\\nGROUP BY \\\\n    p.EnglishProductName\\\\nORDER BY \\\\n    TotalOrderQuantity DESC;\\\\n\\\\u0060\\\\u0060\\\\u0060\"}', name='analyze.database.execute', output='| EnglishProductName    | TotalOrderQuantity |\\r\\n|:----------------------|-------------------:|\\r\\n| Water Bottle - 30 oz. |               4244 |\\r\\n| Patch Kit/8 Patches   |               3191 |\\r\\n| Mountain Tire Tube    |               3095 |'), type='function')], type='tool_calls'), thread_id='thread_6xqBDTYEqH94uJsAOPYzDoTV', type='tool_calls', usage=None, expires_at=1751322440),\n",
       " RunStep(id='step_fabZAb3FOURcT0WE4z2RDQnXmNJv', assistant_id='asst_JvNQ3k50sAcAcTRz8FQYc9Yn', cancelled_at=None, completed_at=1751321848, created_at=1751321840, expired_at=None, failed_at=None, last_error=None, metadata=None, object='thread.run.step', run_id='run_fab9dJacMm34B9RJoV0dBnTHXrpY', status='completed', step_details=ToolCallsStepDetails(tool_calls=[FunctionToolCall(id='call_6GiZaSmvsgbml67amrxmLCSC', function=Function(arguments='{\"datasource_name\":\"AdventureWorks\",\"datasource_type\":\"LakehouseTables\",\"datasource_artifact_id\":\"11564ef5-8f2a-4bc7-ad9e-004ab3c3c80b\",\"datasource_workspace_id\":\"67422a4f-c3fa-484a-9a48-9a120894e9fc\",\"natural_language_query\":\"What were the top 3 best selling products by volume in 2012?\",\"code\":\"\\\\u0060\\\\u0060\\\\u0060sql\\\\nSELECT TOP 3 dp.EnglishProductName, SUM(fis.OrderQuantity) AS TotalOrderQuantity\\\\nFROM dbo.factinternetsales fis\\\\nJOIN dbo.dimproduct dp ON fis.ProductKey = dp.ProductKey\\\\nWHERE YEAR(fis.OrderDate) = 2012\\\\nGROUP BY dp.EnglishProductName\\\\nORDER BY TotalOrderQuantity DESC;\\\\n\\\\u0060\\\\u0060\\\\u0060\"}', name='analyze.database.execute', output='| EnglishProductName      | TotalOrderQuantity |\\r\\n|:------------------------|-------------------:|\\r\\n| Mountain-200 Black, 46  |                206 |\\r\\n| Mountain-200 Black, 42  |                191 |\\r\\n| Mountain-200 Silver, 46 |                182 |'), type='function')], type='tool_calls'), thread_id='thread_6xqBDTYEqH94uJsAOPYzDoTV', type='tool_calls', usage=None, expires_at=1751322440),\n",
       " RunStep(id='step_fabn5TbynN8HLBPZuULTRYQ6xMLY', assistant_id='asst_JvNQ3k50sAcAcTRz8FQYc9Yn', cancelled_at=None, completed_at=1751321848, created_at=1751321839, expired_at=None, failed_at=None, last_error=None, metadata=None, object='thread.run.step', run_id='run_fab9dJacMm34B9RJoV0dBnTHXrpY', status='completed', step_details=ToolCallsStepDetails(tool_calls=[FunctionToolCall(id='call_NIKl7tKYbVh0grafOnIU4QEA', function=Function(arguments='{\"datasource_name\":\"AdventureWorks\",\"datasource_type\":\"LakehouseTables\",\"datasource_artifact_id\":\"11564ef5-8f2a-4bc7-ad9e-004ab3c3c80b\",\"datasource_workspace_id\":\"67422a4f-c3fa-484a-9a48-9a120894e9fc\",\"natural_language_query\":\"What were the top 3 best selling products by volume in 2013?\",\"code\":\"\\\\u0060\\\\u0060\\\\u0060sql\\\\nSELECT TOP 3 dp.EnglishProductName, SUM(fis.OrderQuantity) AS TotalQuantity\\\\nFROM dbo.factinternetsales fis\\\\nJOIN dbo.dimproduct dp ON fis.ProductKey = dp.ProductKey\\\\nWHERE YEAR(fis.OrderDate) = 2013\\\\nGROUP BY dp.EnglishProductName\\\\nORDER BY TotalQuantity DESC;\\\\n\\\\u0060\\\\u0060\\\\u0060\"}', name='analyze.database.execute', output='| EnglishProductName    | TotalQuantity |\\r\\n|:----------------------|--------------:|\\r\\n| Water Bottle - 30 oz. |          4080 |\\r\\n| Patch Kit/8 Patches   |          3026 |\\r\\n| Mountain Tire Tube    |          2926 |'), type='function')], type='tool_calls'), thread_id='thread_6xqBDTYEqH94uJsAOPYzDoTV', type='tool_calls', usage=None, expires_at=1751322439),\n",
       " RunStep(id='step_fabRk5Z5ehL3JE9yLD71xATt6MU1', assistant_id='asst_JvNQ3k50sAcAcTRz8FQYc9Yn', cancelled_at=None, completed_at=1751321848, created_at=1751321836, expired_at=None, failed_at=None, last_error=None, metadata=None, object='thread.run.step', run_id='run_fab9dJacMm34B9RJoV0dBnTHXrpY', status='completed', step_details=ToolCallsStepDetails(tool_calls=[FunctionToolCall(id='call_NIKl7tKYbVh0grafOnIU4QEA', function=Function(arguments='\"{\\\\u0022query\\\\u0022: \\\\u0022What were the top 3 best selling products by volume in 2013?\\\\u0022}\"', name='trace.analyze_lakehouse', output='| EnglishProductName    | TotalQuantity |\\r\\n|:----------------------|--------------:|\\r\\n| Water Bottle - 30 oz. |          4080 |\\r\\n| Patch Kit/8 Patches   |          3026 |\\r\\n| Mountain Tire Tube    |          2926 |'), type='function')], type='tool_calls'), thread_id='thread_6xqBDTYEqH94uJsAOPYzDoTV', type='tool_calls', usage=None, expires_at=1751322436),\n",
       " RunStep(id='step_fabmgmMgK2vwABSuEmwbEhzByDSI', assistant_id='asst_JvNQ3k50sAcAcTRz8FQYc9Yn', cancelled_at=None, completed_at=1751321839, created_at=1751321836, expired_at=None, failed_at=None, last_error=None, metadata=None, object='thread.run.step', run_id='run_fab9dJacMm34B9RJoV0dBnTHXrpY', status='completed', step_details=ToolCallsStepDetails(tool_calls=[FunctionToolCall(id='call_NIKl7tKYbVh0grafOnIU4QEA', function=Function(arguments='{\"datasource_name\":\"AdventureWorks\",\"datasource_type\":\"LakehouseTables\",\"datasource_artifact_id\":\"11564ef5-8f2a-4bc7-ad9e-004ab3c3c80b\",\"datasource_workspace_id\":\"67422a4f-c3fa-484a-9a48-9a120894e9fc\",\"natural_language_query\":\"What were the top 3 best selling products by volume in 2013?\"}', name='analyze.database.nl2code', output='# Variation 1\\n\\n```sql\\nSELECT TOP 3 dp.EnglishProductName, SUM(fis.OrderQuantity) AS TotalQuantity\\nFROM dbo.factinternetsales fis\\nJOIN dbo.dimproduct dp ON fis.ProductKey = dp.ProductKey\\nWHERE YEAR(fis.OrderDate) = 2013\\nGROUP BY dp.EnglishProductName\\nORDER BY TotalQuantity DESC;\\n```\\n\\n# Variation 2\\n\\n```sql\\nSELECT TOP 3 dp.EnglishProductName, SUM(fis.OrderQuantity) AS TotalOrderQuantity\\nFROM dbo.factinternetsales fis\\nJOIN dbo.dimproduct dp ON fis.ProductKey = dp.ProductKey\\nWHERE YEAR(fis.OrderDate) = 2013\\nGROUP BY dp.EnglishProductName\\nORDER BY TotalOrderQuantity DESC;\\n```\\n\\n# Variation 3\\n\\n```sql\\nSELECT TOP 3 p.EnglishProductName, SUM(f.OrderQuantity) AS TotalQuantity\\nFROM dbo.factinternetsales f\\nJOIN dbo.dimproduct p ON f.ProductKey = p.ProductKey\\nWHERE YEAR(f.OrderDate) = 2013\\nGROUP BY p.EnglishProductName\\nORDER BY TotalQuantity DESC;\\n```'), type='function')], type='tool_calls'), thread_id='thread_6xqBDTYEqH94uJsAOPYzDoTV', type='tool_calls', usage=None, expires_at=1751322436),\n",
       " RunStep(id='step_fabOUH5JooFCzxxVPgiKLTb78fRS', assistant_id='asst_JvNQ3k50sAcAcTRz8FQYc9Yn', cancelled_at=None, completed_at=1751321848, created_at=1751321836, expired_at=None, failed_at=None, last_error=None, metadata=None, object='thread.run.step', run_id='run_fab9dJacMm34B9RJoV0dBnTHXrpY', status='completed', step_details=ToolCallsStepDetails(tool_calls=[FunctionToolCall(id='call_6GiZaSmvsgbml67amrxmLCSC', function=Function(arguments='\"{\\\\u0022query\\\\u0022: \\\\u0022What were the top 3 best selling products by volume in 2012?\\\\u0022}\"', name='trace.analyze_lakehouse', output='| EnglishProductName      | TotalOrderQuantity |\\r\\n|:------------------------|-------------------:|\\r\\n| Mountain-200 Black, 46  |                206 |\\r\\n| Mountain-200 Black, 42  |                191 |\\r\\n| Mountain-200 Silver, 46 |                182 |'), type='function')], type='tool_calls'), thread_id='thread_6xqBDTYEqH94uJsAOPYzDoTV', type='tool_calls', usage=None, expires_at=1751322436),\n",
       " RunStep(id='step_fabNoqNL3v6dUOJUYKs4ZsWrUyzD', assistant_id='asst_JvNQ3k50sAcAcTRz8FQYc9Yn', cancelled_at=None, completed_at=1751321840, created_at=1751321836, expired_at=None, failed_at=None, last_error=None, metadata=None, object='thread.run.step', run_id='run_fab9dJacMm34B9RJoV0dBnTHXrpY', status='completed', step_details=ToolCallsStepDetails(tool_calls=[FunctionToolCall(id='call_6GiZaSmvsgbml67amrxmLCSC', function=Function(arguments='{\"datasource_name\":\"AdventureWorks\",\"datasource_type\":\"LakehouseTables\",\"datasource_artifact_id\":\"11564ef5-8f2a-4bc7-ad9e-004ab3c3c80b\",\"datasource_workspace_id\":\"67422a4f-c3fa-484a-9a48-9a120894e9fc\",\"natural_language_query\":\"What were the top 3 best selling products by volume in 2012?\"}', name='analyze.database.nl2code', output='# Variation 1\\n\\n```sql\\nSELECT TOP 3 dp.EnglishProductName, SUM(fis.OrderQuantity) AS TotalOrderQuantity\\nFROM dbo.factinternetsales fis\\nJOIN dbo.dimproduct dp ON fis.ProductKey = dp.ProductKey\\nWHERE YEAR(fis.OrderDate) = 2012\\nGROUP BY dp.EnglishProductName\\nORDER BY TotalOrderQuantity DESC;\\n```\\n\\n# Variation 2\\n\\n```sql\\nSELECT TOP 3 dp.EnglishProductName, SUM(fis.OrderQuantity) AS TotalQuantity\\nFROM dbo.factinternetsales fis\\nJOIN dbo.dimproduct dp ON fis.ProductKey = dp.ProductKey\\nWHERE YEAR(fis.OrderDate) = 2012\\nGROUP BY dp.EnglishProductName\\nORDER BY TotalQuantity DESC;\\n```\\n\\n# Variation 3\\n\\n```sql\\nSELECT TOP 3 dp.EnglishProductName, SUM(fis.OrderQuantity) AS TotalVolume\\nFROM dbo.factinternetsales fis\\nJOIN dbo.dimproduct dp ON fis.ProductKey = dp.ProductKey\\nWHERE YEAR(fis.OrderDate) = 2012\\nGROUP BY dp.EnglishProductName\\nORDER BY TotalVolume DESC;\\n```'), type='function')], type='tool_calls'), thread_id='thread_6xqBDTYEqH94uJsAOPYzDoTV', type='tool_calls', usage=None, expires_at=1751322436),\n",
       " RunStep(id='step_fabMeKGGyhKrPGQTf9gOOOYyyMHm', assistant_id='asst_JvNQ3k50sAcAcTRz8FQYc9Yn', cancelled_at=None, completed_at=1751321848, created_at=1751321836, expired_at=None, failed_at=None, last_error=None, metadata=None, object='thread.run.step', run_id='run_fab9dJacMm34B9RJoV0dBnTHXrpY', status='completed', step_details=ToolCallsStepDetails(tool_calls=[FunctionToolCall(id='call_LIPrkfBX27gUQfjEoB5Pz4yg', function=Function(arguments='\"{\\\\u0022query\\\\u0022: \\\\u0022What are the top 3 best selling products by volume across all years?\\\\u0022}\"', name='trace.analyze_lakehouse', output='| EnglishProductName    | TotalOrderQuantity |\\r\\n|:----------------------|-------------------:|\\r\\n| Water Bottle - 30 oz. |               4244 |\\r\\n| Patch Kit/8 Patches   |               3191 |\\r\\n| Mountain Tire Tube    |               3095 |'), type='function')], type='tool_calls'), thread_id='thread_6xqBDTYEqH94uJsAOPYzDoTV', type='tool_calls', usage=None, expires_at=1751322436),\n",
       " RunStep(id='step_fabycOmHDQxy7b1HqoOJxUaUOIP5', assistant_id='asst_JvNQ3k50sAcAcTRz8FQYc9Yn', cancelled_at=None, completed_at=1751321840, created_at=1751321836, expired_at=None, failed_at=None, last_error=None, metadata=None, object='thread.run.step', run_id='run_fab9dJacMm34B9RJoV0dBnTHXrpY', status='completed', step_details=ToolCallsStepDetails(tool_calls=[FunctionToolCall(id='call_LIPrkfBX27gUQfjEoB5Pz4yg', function=Function(arguments='{\"datasource_name\":\"AdventureWorks\",\"datasource_type\":\"LakehouseTables\",\"datasource_artifact_id\":\"11564ef5-8f2a-4bc7-ad9e-004ab3c3c80b\",\"datasource_workspace_id\":\"67422a4f-c3fa-484a-9a48-9a120894e9fc\",\"natural_language_query\":\"What are the top 3 best selling products by volume across all years?\"}', name='analyze.database.nl2code', output='# Variation 1\\n\\n```sql\\nSELECT TOP 3 \\n    p.EnglishProductName, \\n    SUM(f.OrderQuantity) AS TotalOrderQuantity\\nFROM \\n    dbo.factinternetsales f\\nJOIN \\n    dbo.dimproduct p ON f.ProductKey = p.ProductKey\\nGROUP BY \\n    p.EnglishProductName\\nORDER BY \\n    TotalOrderQuantity DESC;\\n```\\n\\n# Variation 2\\n\\n```sql\\nSELECT TOP 3 dp.EnglishProductName, SUM(fis.OrderQuantity) AS TotalOrderQuantity\\nFROM dbo.factinternetsales fis\\nJOIN dbo.dimproduct dp ON fis.ProductKey = dp.ProductKey\\nGROUP BY dp.EnglishProductName\\nORDER BY TotalOrderQuantity DESC;\\n```\\n\\n# Variation 3\\n\\n```sql\\nSELECT TOP 3 p.EnglishProductName, SUM(f.OrderQuantity) AS TotalQuantity\\nFROM dbo.factinternetsales f\\nJOIN dbo.dimproduct p ON f.ProductKey = p.ProductKey\\nGROUP BY p.EnglishProductName\\nORDER BY TotalQuantity DESC;\\n```'), type='function')], type='tool_calls'), thread_id='thread_6xqBDTYEqH94uJsAOPYzDoTV', type='tool_calls', usage=None, expires_at=1751322436),\n",
       " RunStep(id='step_fabR0jRdOua93hJ6A1gSdjVnoIMd', assistant_id='asst_JvNQ3k50sAcAcTRz8FQYc9Yn', cancelled_at=None, completed_at=1751321832, created_at=1751321832, expired_at=None, failed_at=None, last_error=None, metadata=None, object='thread.run.step', run_id='run_fab9dJacMm34B9RJoV0dBnTHXrpY', status='completed', step_details=ToolCallsStepDetails(tool_calls=[FunctionToolCall(id='call_fabfJvUuQ3rN1bZtsUc7AkMw1B1N', function=Function(arguments='{\"datasource_name\":\"AdventureWorks\",\"datasource_type\":\"LakehouseTables\",\"datasource_artifact_id\":\"11564ef5-8f2a-4bc7-ad9e-004ab3c3c80b\",\"datasource_workspace_id\":\"67422a4f-c3fa-484a-9a48-9a120894e9fc\"}', name='analyze.database.fewshots.loading', output='Loaded 0 fewshots'), type='function')], type='tool_calls'), thread_id='thread_6xqBDTYEqH94uJsAOPYzDoTV', type='tool_calls', usage=None, expires_at=1751322432)]"
      ]
     },
     "execution_count": 64,
     "metadata": {},
     "output_type": "execute_result"
    }
   ],
   "source": [
    "run_steps.data"
   ]
  },
  {
   "cell_type": "markdown",
   "id": "718cf715-301d-4e0e-ad8b-c77307171d76",
   "metadata": {
    "microsoft": {
     "language": "python",
     "language_group": "synapse_pyspark"
    },
    "nteract": {
     "transient": {
      "deleting": false
     }
    }
   },
   "source": [
    "#### Clean Up\n",
    "- After all required tasks with the run are over, you can delete the thread. If you want to retain the previous information, you can skip this step.\n",
    "- If you don't need the Data Agent anymore, you can delete it entirely also."
   ]
  },
  {
   "cell_type": "code",
   "execution_count": 22,
   "id": "4fc5c0df-4f60-4a63-8b38-8930f7dbcbf6",
   "metadata": {},
   "outputs": [
    {
     "data": {
      "application/vnd.livy.statement-meta+json": {
       "execution_finish_time": "2025-06-30T22:18:39.5077251Z",
       "execution_start_time": "2025-06-30T22:18:38.2677834Z",
       "livy_statement_state": "available",
       "normalized_state": "finished",
       "parent_msg_id": "bdd3fb7d-7e88-4434-955d-73f34a556891",
       "queued_time": "2025-06-30T22:18:38.2666416Z",
       "session_id": "01f87db7-4ac6-475f-bc8b-241960aa9d6f",
       "session_start_time": null,
       "spark_pool": null,
       "state": "finished",
       "statement_id": 29,
       "statement_ids": [
        29
       ]
      },
      "text/plain": [
       "StatementMeta(, 01f87db7-4ac6-475f-bc8b-241960aa9d6f, 29, Finished, Available, Finished)"
      ]
     },
     "metadata": {},
     "output_type": "display_data"
    },
    {
     "name": "stderr",
     "output_type": "stream",
     "text": [
      "/tmp/ipykernel_8626/1294501285.py:1: DeprecationWarning: The Assistants API is deprecated in favor of the Responses API\n",
      "  fabric_client.beta.threads.delete(thread.id)\n"
     ]
    },
    {
     "data": {
      "text/plain": [
       "ThreadDeleted(id='thread_6xqBDTYEqH94uJsAOPYzDoTV', deleted=None, object=None, messages=None, metadata=None)"
      ]
     },
     "execution_count": 67,
     "metadata": {},
     "output_type": "execute_result"
    }
   ],
   "source": [
    "fabric_client.beta.threads.delete(thread.id)"
   ]
  },
  {
   "cell_type": "code",
   "execution_count": 23,
   "id": "3597bcca-6dcf-491f-8993-91e719c428a8",
   "metadata": {},
   "outputs": [
    {
     "data": {
      "application/vnd.livy.statement-meta+json": {
       "execution_finish_time": "2025-06-30T22:18:42.1471183Z",
       "execution_start_time": "2025-06-30T22:18:40.9437203Z",
       "livy_statement_state": "available",
       "normalized_state": "finished",
       "parent_msg_id": "89eff042-ac9c-4e5b-a118-efb4e5ebee02",
       "queued_time": "2025-06-30T22:18:40.9425815Z",
       "session_id": "01f87db7-4ac6-475f-bc8b-241960aa9d6f",
       "session_start_time": null,
       "spark_pool": null,
       "state": "finished",
       "statement_id": 30,
       "statement_ids": [
        30
       ]
      },
      "text/plain": [
       "StatementMeta(, 01f87db7-4ac6-475f-bc8b-241960aa9d6f, 30, Finished, Available, Finished)"
      ]
     },
     "metadata": {},
     "output_type": "display_data"
    }
   ],
   "source": [
    "delete_data_agent(data_agent_name)"
   ]
  }
 ],
 "metadata": {
  "language_info": {
   "name": "python"
  }
 },
 "nbformat": 4,
 "nbformat_minor": 5
}
