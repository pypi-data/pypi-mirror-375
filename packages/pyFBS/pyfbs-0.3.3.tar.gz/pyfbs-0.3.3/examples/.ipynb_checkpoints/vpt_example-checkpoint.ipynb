{
 "cells": [
  {
   "cell_type": "code",
   "execution_count": 12,
   "metadata": {},
   "outputs": [
    {
     "name": "stdout",
     "output_type": "stream",
     "text": [
      "The autoreload extension is already loaded. To reload it, use:\n",
      "  %reload_ext autoreload\n"
     ]
    },
    {
     "data": {
      "text/plain": [
       "'C:/Users/tomaz.bregar/Desktop/PhD/pyFBS/data/test_geometry.xlsx'"
      ]
     },
     "execution_count": 12,
     "metadata": {},
     "output_type": "execute_result"
    }
   ],
   "source": [
    "%load_ext autoreload\n",
    "%autoreload 2\n",
    "\n",
    "import matplotlib.pyplot as plt\n",
    "\n",
    "import sys\n",
    "sys.path.insert(1, r'C:\\Users\\tomaz.bregar\\Desktop\\PhD\\pyFBS')\n",
    "\n",
    "import numpy as np\n",
    "\n",
    "from pyfbs.io import Impacts,Channels,Sensors\n",
    "from pyfbs.vpt import VPT\n",
    "import os\n",
    "\n",
    "\n",
    "path_list = os.path.abspath('__file__').split(os.sep)\n",
    "script_directory = path_list[0:len(path_list)-2]\n",
    "\n",
    "example_xlsx = \"/\".join(script_directory) + \"/\" + \"data/test_geometry.xlsx\"\n",
    "example_xlsx"
   ]
  },
  {
   "cell_type": "code",
   "execution_count": null,
   "metadata": {},
   "outputs": [],
   "source": [
    "def R_matrix(pos,lr):\n",
    "    \"\"\"\n",
    "    Return the R matrix according to the position.\n",
    "    \"\"\"\n",
    "    rx,ry,rz = pos[0],pos[1],pos[2]\n",
    "    \n",
    "    # Translation accelerometer\n",
    "    if lr == 0:\n",
    "        return np.asarray([1,0,0,0,rz,-ry])\n",
    "    elif lr == 1:\n",
    "        return np.asarray([0,1,0,-rz,0,rx])\n",
    "    elif lr == 2:\n",
    "        return np.asarray([0,0,1,ry,-rx,0])\n",
    "        \n",
    "    # Rotational accelerometer\n",
    "    elif lr == 3:\n",
    "        return np.asarray([0,0,0,1,0,0])\n",
    "    elif lr == 4:\n",
    "        return np.asarray([0,0,0,0,1,0])\n",
    "    elif lr == 5:\n",
    "        return np.asarray([0,0,0,0,0,1])"
   ]
  },
  {
   "cell_type": "code",
   "execution_count": 47,
   "metadata": {},
   "outputs": [
    {
     "name": "stdout",
     "output_type": "stream",
     "text": [
      "33 30\n",
      "18 18\n"
     ]
    },
    {
     "data": {
      "text/plain": [
       "(33, 18)"
      ]
     },
     "execution_count": 47,
     "metadata": {},
     "output_type": "execute_result"
    }
   ],
   "source": [
    "gg = VPT(example_xlsx)\n",
    "\n",
    "print(len(gg.Channels),len(gg.RefChannels))\n",
    "print(len(gg.Virtual_Channels),len(gg.Virtual_RefChannels))\n",
    "\n",
    "Ru = np.zeros((len(gg.Channels),len(gg.Virtual_Channels)))\n",
    "\n",
    "Ru.shape"
   ]
  },
  {
   "cell_type": "code",
   "execution_count": 53,
   "metadata": {},
   "outputs": [
    {
     "data": {
      "text/plain": [
       "{1: '-X', 2: '-Y', 3: '-Z'}"
      ]
     },
     "execution_count": 53,
     "metadata": {},
     "output_type": "execute_result"
    }
   ],
   "source": [
    "Directions"
   ]
  },
  {
   "cell_type": "code",
   "execution_count": 57,
   "metadata": {},
   "outputs": [
    {
     "data": {
      "text/plain": [
       "'+Y'"
      ]
     },
     "execution_count": 57,
     "metadata": {},
     "output_type": "execute_result"
    }
   ],
   "source": [
    "Directions[2]"
   ]
  },
  {
   "cell_type": "code",
   "execution_count": 59,
   "metadata": {},
   "outputs": [
    {
     "name": "stdout",
     "output_type": "stream",
     "text": [
      "[0.00731328 0.01356214 0.03845501] [ 0. -1.  0.] 1\n",
      "[0.00731328 0.01356214 0.03845501] [1. 0. 0.] 0\n",
      "[0.00731328 0.01356214 0.03845501] [0. 0. 1.] 2\n",
      "[ 0.02573065  0.04521294 -0.01040068] [0. 0. 1.] 2\n",
      "[ 0.02573065  0.04521294 -0.01040068] [3.03333319e-04 9.99999954e-01 0.00000000e+00] 1\n",
      "[ 0.02573065  0.04521294 -0.01040068] [-9.99999954e-01  3.03333319e-04  0.00000000e+00] 0\n",
      "[ 0.04620339 -0.04517664  0.0251525 ] [0. 0. 1.] 2\n",
      "[ 0.04620339 -0.04517664  0.0251525 ] [-3.02631565e-04 -9.99999954e-01  0.00000000e+00] 1\n",
      "[ 0.04620339 -0.04517664  0.0251525 ] [ 9.99999954e-01 -3.02631565e-04  0.00000000e+00] 0\n"
     ]
    }
   ],
   "source": [
    "\n",
    "\n",
    "_posVP = np.asarray(gg.Virtual_Channels[0].Position)\n",
    "chk_dir = {\"+X\": 0,\"-X\": 0,\"+Y\": 1,\"-Y\": 1,\"+Z\": 2,\"-Z\": 2}\n",
    "\n",
    "for i in range(9):\n",
    "    _pos = np.asarray(gg.Channels[i].Position)\n",
    "    _dir = np.asarray(gg.Channels[i].Direction)\n",
    "    _group = gg.Channels[i].Grouping\n",
    "    \n",
    "    _l = chk_dir[gg.Channels[i].Direction_Label]\n",
    "    #print(_pos - _posVP,_dir,_l)"
   ]
  },
  {
   "cell_type": "code",
   "execution_count": 49,
   "metadata": {},
   "outputs": [
    {
     "data": {
      "text/plain": [
       "{'Name': 'Sensor 1',\n",
       " 'Description': 'On TM adapter source',\n",
       " 'Quantity': <pyfbs.io.Quantity at 0x18c6f7ea208>,\n",
       " 'Position': [0.09312327951192856, 0.4173721373081207, 0.2879000067710876],\n",
       " 'Direction': [0.0, -1.0, 0],\n",
       " 'Grouping': 1,\n",
       " 'Node_Number': 1,\n",
       " 'Direction_Label': '-Y'}"
      ]
     },
     "execution_count": 49,
     "metadata": {},
     "output_type": "execute_result"
    }
   ],
   "source": [
    "vars(gg.Channels[0])"
   ]
  },
  {
   "cell_type": "code",
   "execution_count": 51,
   "metadata": {},
   "outputs": [
    {
     "data": {
      "text/plain": [
       "{'Name': 'VP1_ux',\n",
       " 'Description': nan,\n",
       " 'Quantity': <pyfbs.io.Quantity at 0x18c6f79b940>,\n",
       " 'Position': [0.08581, 0.40381, 0.249445],\n",
       " 'Direction': [1, 0, 0],\n",
       " 'Grouping': 1,\n",
       " 'Node_Number': 1}"
      ]
     },
     "execution_count": 51,
     "metadata": {},
     "output_type": "execute_result"
    }
   ],
   "source": [
    "vars(gg.Virtual_Channels[0])"
   ]
  },
  {
   "cell_type": "code",
   "execution_count": 14,
   "metadata": {},
   "outputs": [
    {
     "data": {
      "text/plain": [
       "<matplotlib.image.AxesImage at 0x18c6fef3828>"
      ]
     },
     "execution_count": 14,
     "metadata": {},
     "output_type": "execute_result"
    },
    {
     "data": {
      "image/png": "[encoded data removed]",
      "text/plain": [
       "<Figure size 432x288 with 1 Axes>"
      ]
     },
     "metadata": {
      "needs_background": "light"
     },
     "output_type": "display_data"
    }
   ],
   "source": [
    "\n",
    "\n",
    "plt.imshow(Ru)"
   ]
  },
  {
   "cell_type": "code",
   "execution_count": null,
   "metadata": {},
   "outputs": [],
   "source": []
  }
 ],
 "metadata": {
  "kernelspec": {
   "display_name": "Python 3",
   "language": "python",
   "name": "python3"
  },
  "language_info": {
   "codemirror_mode": {
    "name": "ipython",
    "version": 3
   },
   "file_extension": ".py",
   "mimetype": "text/x-python",
   "name": "python",
   "nbconvert_exporter": "python",
   "pygments_lexer": "ipython3",
   "version": "3.7.3"
  }
 },
 "nbformat": 4,
 "nbformat_minor": 4
}
