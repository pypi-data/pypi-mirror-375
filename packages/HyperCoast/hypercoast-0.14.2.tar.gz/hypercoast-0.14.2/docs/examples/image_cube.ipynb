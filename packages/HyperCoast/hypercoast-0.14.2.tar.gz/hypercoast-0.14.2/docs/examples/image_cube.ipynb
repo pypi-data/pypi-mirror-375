{
 "cells": [
  {
   "cell_type": "markdown",
   "metadata": {},
   "source": [
    "[![image](https://colab.research.google.com/assets/colab-badge.svg)](https://colab.research.google.com/github/opengeos/HyperCoast/blob/main/docs/examples/image_cube.ipynb)\n",
    "\n",
    "# Visualizing Hyperspectral Data in 3D\n",
    "\n",
    "This notebook demonstrates how to visualize hyperspectral data in 3D using the [PyVista](https://pyvista.org) plotting backend."
   ]
  },
  {
   "cell_type": "code",
   "execution_count": null,
   "metadata": {},
   "outputs": [],
   "source": [
    "# %pip install \"hypercoast[extra]\""
   ]
  },
  {
   "cell_type": "code",
   "execution_count": null,
   "metadata": {},
   "outputs": [],
   "source": [
    "import hypercoast"
   ]
  },
  {
   "cell_type": "markdown",
   "metadata": {},
   "source": [
    "## Visualize NEON AOP Hyperspectral Data\n",
    "\n",
    "Download a sample NEON AOP hyperspectral data."
   ]
  },
  {
   "cell_type": "code",
   "execution_count": null,
   "metadata": {},
   "outputs": [],
   "source": [
    "url = \"https://github.com/opengeos/datasets/releases/download/hypercoast/NEON_D02_SERC_DP3_368000_4306000_reflectance.h5\"\n",
    "filepath = \"data/neon.h5\"\n",
    "hypercoast.download_file(url, filepath)"
   ]
  },
  {
   "cell_type": "markdown",
   "metadata": {},
   "source": [
    "Load the dataset as a `xarray.Dataset` object."
   ]
  },
  {
   "cell_type": "code",
   "execution_count": null,
   "metadata": {},
   "outputs": [],
   "source": [
    "dataset = hypercoast.read_neon(filepath)\n",
    "dataset"
   ]
  },
  {
   "cell_type": "markdown",
   "metadata": {},
   "source": [
    "Visualize the NEON AOP hyperspectral data in 3D with a selected band overlaid on top of the 3D plot."
   ]
  },
  {
   "cell_type": "code",
   "execution_count": null,
   "metadata": {},
   "outputs": [],
   "source": [
    "cube = hypercoast.image_cube(\n",
    "    dataset,\n",
    "    variable=\"reflectance\",\n",
    "    cmap=\"jet\",\n",
    "    clim=(0, 0.5),\n",
    "    rgb_wavelengths=[700],\n",
    "    title=\"Reflectance\",\n",
    ")\n",
    "cube.show()"
   ]
  },
  {
   "cell_type": "markdown",
   "metadata": {},
   "source": [
    "Visualize the NEON AOP hyperspectral data in 3D with an RGB image overlaid on top of the 3D plot."
   ]
  },
  {
   "cell_type": "code",
   "execution_count": null,
   "metadata": {},
   "outputs": [],
   "source": [
    "cube2 = hypercoast.image_cube(\n",
    "    dataset,\n",
    "    variable=\"reflectance\",\n",
    "    cmap=\"jet\",\n",
    "    clim=(0, 0.5),\n",
    "    rgb_wavelengths=[1000, 700, 500],\n",
    "    rgb_gamma=2,\n",
    "    title=\"Reflectance\",\n",
    ")\n",
    "cube2.show()"
   ]
  },
  {
   "cell_type": "markdown",
   "metadata": {},
   "source": [
    "![](https://i.imgur.com/NNId1Zz.gif)"
   ]
  },
  {
   "cell_type": "markdown",
   "metadata": {},
   "source": [
    "## Visualize NASA EMIT Hyperspectral Data\n",
    "\n",
    "Download a sample EMIT data file from [here](https://github.com/opengeos/datasets/releases/tag/netcdf)."
   ]
  },
  {
   "cell_type": "code",
   "execution_count": null,
   "metadata": {},
   "outputs": [],
   "source": [
    "url = \"https://github.com/opengeos/datasets/releases/download/netcdf/EMIT_L2A_RFL_001_20240404T161230_2409511_009.nc\"\n",
    "filepath = \"EMIT_L2A_RFL_001_20240404T161230_2409511_009.nc\"\n",
    "hypercoast.download_file(url)"
   ]
  },
  {
   "cell_type": "code",
   "execution_count": null,
   "metadata": {},
   "outputs": [],
   "source": [
    "dataset = hypercoast.read_emit(filepath)\n",
    "dataset"
   ]
  },
  {
   "cell_type": "markdown",
   "metadata": {},
   "source": [
    "Select a subset of the data to avoid nodata areas."
   ]
  },
  {
   "cell_type": "code",
   "execution_count": null,
   "metadata": {},
   "outputs": [],
   "source": [
    "ds = dataset.sel(longitude=slice(-90.1482, -89.7321), latitude=slice(30.0225, 29.7451))\n",
    "ds"
   ]
  },
  {
   "cell_type": "markdown",
   "metadata": {},
   "source": [
    "Visualize the EMIT data in 3D with an RGB image overlaid on top of the 3D plot."
   ]
  },
  {
   "cell_type": "code",
   "execution_count": null,
   "metadata": {},
   "outputs": [],
   "source": [
    "cube = hypercoast.image_cube(\n",
    "    ds,\n",
    "    variable=\"reflectance\",\n",
    "    cmap=\"jet\",\n",
    "    clim=(0, 0.4),\n",
    "    rgb_wavelengths=[1000, 700, 500],\n",
    "    rgb_gamma=2,\n",
    "    title=\"EMIT Reflectance\",\n",
    ")\n",
    "cube.show()"
   ]
  },
  {
   "cell_type": "markdown",
   "metadata": {},
   "source": [
    "![](https://i.imgur.com/CvE9PN9.gif)"
   ]
  }
 ],
 "metadata": {
  "kernelspec": {
   "display_name": "hyper",
   "language": "python",
   "name": "python3"
  },
  "language_info": {
   "codemirror_mode": {
    "name": "ipython",
    "version": 3
   },
   "file_extension": ".py",
   "mimetype": "text/x-python",
   "name": "python",
   "nbconvert_exporter": "python",
   "pygments_lexer": "ipython3",
   "version": "3.10.14"
  }
 },
 "nbformat": 4,
 "nbformat_minor": 2
}
