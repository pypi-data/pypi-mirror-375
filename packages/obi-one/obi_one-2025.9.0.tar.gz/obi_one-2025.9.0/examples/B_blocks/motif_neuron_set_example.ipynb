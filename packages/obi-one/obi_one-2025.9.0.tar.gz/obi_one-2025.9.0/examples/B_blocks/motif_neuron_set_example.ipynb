{
 "cells": [
  {
   "cell_type": "markdown",
   "metadata": {},
   "source": [
    "# Motif neuron set examples"
   ]
  },
  {
   "cell_type": "code",
   "execution_count": 1,
   "metadata": {},
   "outputs": [],
   "source": [
    "import os\n",
    "\n",
    "import obi_one as obi"
   ]
  },
  {
   "cell_type": "markdown",
   "metadata": {},
   "source": [
    "### __Initialization:__ Loading a circuit *with* connectivity matrix"
   ]
  },
  {
   "cell_type": "code",
   "execution_count": 2,
   "metadata": {},
   "outputs": [
    {
     "name": "stdout",
     "output_type": "stream",
     "text": [
      "Circuit 'ToyCircuit-S1-6k' with 5924 neurons and 568717 synapses\n",
      "Default node population: 'All'\n"
     ]
    }
   ],
   "source": [
    "circuit_path_prefix = \"/Users/pokorny/Data/\"\n",
    "circ_path = circuit_path_prefix + \"Circuits/ToyCircuit-S1-6k/circuit_config.json\"\n",
    "mat_path = circuit_path_prefix + \"ConnectivityMatrices/ToyCircuit-S1-6k/connectivity_matrix.h5\"\n",
    "circuit = obi.Circuit(name=\"ToyCircuit-S1-6k\", path=circ_path, matrix_path=mat_path)\n",
    "print(f\"Circuit '{circuit}' with {circuit.sonata_circuit.nodes.size} neurons and {circuit.sonata_circuit.edges.size} synapses\")\n",
    "print(f\"Default node population: '{circuit.default_population_name}'\")"
   ]
  },
  {
   "cell_type": "markdown",
   "metadata": {},
   "source": [
    "### __Example 1:__ Neuron set with all reciprocal E-I neuron pairs between two layers"
   ]
  },
  {
   "cell_type": "code",
   "execution_count": 3,
   "metadata": {},
   "outputs": [],
   "source": [
    "neuron1_filter = {\"synapse_class\": \"EXC\", \"layer\": 2}  # First neuron A in pair\n",
    "neuron2_filter = {\"synapse_class\": \"INH\", \"layer\": 3}  # Second neuron B in pair\n",
    "\n",
    "conn_ff_filter = {\"nsyn\": {\"gt\": 0}}  # Feedforward connectivity from A->B\n",
    "conn_fb_filter = {\"nsyn\": {\"gt\": 0}}  # Feedback connectivity from B->A\n",
    "\n",
    "pair_selection = {}  # Select all pairs\n",
    "\n",
    "neuron_set = obi.PairMotifNeuronSet(neuron1_filter=neuron1_filter, neuron2_filter=neuron2_filter, conn_ff_filter=conn_ff_filter, conn_fb_filter=conn_fb_filter, pair_selection=pair_selection)\n"
   ]
  },
  {
   "cell_type": "code",
   "execution_count": 4,
   "metadata": {},
   "outputs": [
    {
     "data": {
      "text/html": [
       "<div>\n",
       "<style scoped>\n",
       "    .dataframe tbody tr th:only-of-type {\n",
       "        vertical-align: middle;\n",
       "    }\n",
       "\n",
       "    .dataframe tbody tr th {\n",
       "        vertical-align: top;\n",
       "    }\n",
       "\n",
       "    .dataframe thead th {\n",
       "        text-align: right;\n",
       "    }\n",
       "</style>\n",
       "<table border=\"1\" class=\"dataframe\">\n",
       "  <thead>\n",
       "    <tr style=\"text-align: right;\">\n",
       "      <th></th>\n",
       "      <th>nrn1</th>\n",
       "      <th>nrn2</th>\n",
       "      <th>nsyn_ff</th>\n",
       "      <th>nsyn_fb</th>\n",
       "      <th>nsyn_all</th>\n",
       "      <th>is_rc</th>\n",
       "    </tr>\n",
       "  </thead>\n",
       "  <tbody>\n",
       "    <tr>\n",
       "      <th>0</th>\n",
       "      <td>393</td>\n",
       "      <td>794</td>\n",
       "      <td>7</td>\n",
       "      <td>14</td>\n",
       "      <td>21</td>\n",
       "      <td>True</td>\n",
       "    </tr>\n",
       "    <tr>\n",
       "      <th>1</th>\n",
       "      <td>457</td>\n",
       "      <td>817</td>\n",
       "      <td>17</td>\n",
       "      <td>25</td>\n",
       "      <td>42</td>\n",
       "      <td>True</td>\n",
       "    </tr>\n",
       "    <tr>\n",
       "      <th>2</th>\n",
       "      <td>366</td>\n",
       "      <td>842</td>\n",
       "      <td>13</td>\n",
       "      <td>17</td>\n",
       "      <td>30</td>\n",
       "      <td>True</td>\n",
       "    </tr>\n",
       "    <tr>\n",
       "      <th>3</th>\n",
       "      <td>683</td>\n",
       "      <td>845</td>\n",
       "      <td>7</td>\n",
       "      <td>14</td>\n",
       "      <td>21</td>\n",
       "      <td>True</td>\n",
       "    </tr>\n",
       "    <tr>\n",
       "      <th>4</th>\n",
       "      <td>325</td>\n",
       "      <td>850</td>\n",
       "      <td>4</td>\n",
       "      <td>29</td>\n",
       "      <td>33</td>\n",
       "      <td>True</td>\n",
       "    </tr>\n",
       "  </tbody>\n",
       "</table>\n",
       "</div>"
      ],
      "text/plain": [
       "   nrn1  nrn2  nsyn_ff  nsyn_fb  nsyn_all  is_rc\n",
       "0   393   794        7       14        21   True\n",
       "1   457   817       17       25        42   True\n",
       "2   366   842       13       17        30   True\n",
       "3   683   845        7       14        21   True\n",
       "4   325   850        4       29        33   True"
      ]
     },
     "execution_count": 4,
     "metadata": {},
     "output_type": "execute_result"
    }
   ],
   "source": [
    "# List of selected pairs\n",
    "neuron_set.get_pair_table(circuit, circuit.default_population_name)"
   ]
  },
  {
   "cell_type": "code",
   "execution_count": 5,
   "metadata": {},
   "outputs": [
    {
     "name": "stdout",
     "output_type": "stream",
     "text": [
      "PairMotifNeuronSet resolved in population 'All' of circuit 'ToyCircuit-S1-6k':\n",
      "> Neuron IDs (10): [325 366 393 457 683 794 817 842 845 850]\n",
      "> Node set dict: {'population': 'All', 'node_id': [325, 366, 393, 457, 683, 794, 817, 842, 845, 850]}\n"
     ]
    }
   ],
   "source": [
    "# Neuron set expression\n",
    "neuron_ids = neuron_set.get_neuron_ids(circuit, circuit.default_population_name)\n",
    "print(f\"{neuron_set.__class__.__name__} resolved in population '{circuit.default_population_name}' of circuit '{circuit}':\")\n",
    "print(f\"> Neuron IDs ({len(neuron_ids)}): {neuron_ids}\")\n",
    "print(f\"> Node set dict: {neuron_set.get_node_set_definition(circuit, circuit.default_population_name)}\")"
   ]
  },
  {
   "cell_type": "markdown",
   "metadata": {},
   "source": [
    "### __Example 2:__ Strongest connected E-I neuron pair within a layer"
   ]
  },
  {
   "cell_type": "code",
   "execution_count": 6,
   "metadata": {},
   "outputs": [],
   "source": [
    "neuron1_filter = {\"node_set\": \"Excitatory\", \"layer\": 2}\n",
    "neuron2_filter = {\"node_set\": \"Inhibitory\",  \"layer\": 2}\n",
    "\n",
    "conn_ff_filter = {\"nsyn\": {\"gt\": 0}}\n",
    "conn_fb_filter = {\"nsyn\": 0}  # No feedback connection\n",
    "\n",
    "pair_selection = {\"count\": 1, \"method\": \"max_nsyn_ff\"}  # Selection based on max. number of synapses\n",
    "\n",
    "neuron_set = obi.PairMotifNeuronSet(neuron1_filter=neuron1_filter, neuron2_filter=neuron2_filter, conn_ff_filter=conn_ff_filter, conn_fb_filter=conn_fb_filter, pair_selection=pair_selection)\n"
   ]
  },
  {
   "cell_type": "code",
   "execution_count": 7,
   "metadata": {},
   "outputs": [
    {
     "data": {
      "text/html": [
       "<div>\n",
       "<style scoped>\n",
       "    .dataframe tbody tr th:only-of-type {\n",
       "        vertical-align: middle;\n",
       "    }\n",
       "\n",
       "    .dataframe tbody tr th {\n",
       "        vertical-align: top;\n",
       "    }\n",
       "\n",
       "    .dataframe thead th {\n",
       "        text-align: right;\n",
       "    }\n",
       "</style>\n",
       "<table border=\"1\" class=\"dataframe\">\n",
       "  <thead>\n",
       "    <tr style=\"text-align: right;\">\n",
       "      <th></th>\n",
       "      <th>nrn1</th>\n",
       "      <th>nrn2</th>\n",
       "      <th>nsyn_ff</th>\n",
       "      <th>nsyn_fb</th>\n",
       "      <th>nsyn_all</th>\n",
       "      <th>is_rc</th>\n",
       "    </tr>\n",
       "  </thead>\n",
       "  <tbody>\n",
       "    <tr>\n",
       "      <th>67</th>\n",
       "      <td>648</td>\n",
       "      <td>130</td>\n",
       "      <td>28</td>\n",
       "      <td>0</td>\n",
       "      <td>28</td>\n",
       "      <td>False</td>\n",
       "    </tr>\n",
       "  </tbody>\n",
       "</table>\n",
       "</div>"
      ],
      "text/plain": [
       "    nrn1  nrn2  nsyn_ff  nsyn_fb  nsyn_all  is_rc\n",
       "67   648   130       28        0        28  False"
      ]
     },
     "execution_count": 7,
     "metadata": {},
     "output_type": "execute_result"
    }
   ],
   "source": [
    "# List of selected pairs\n",
    "neuron_set.get_pair_table(circuit, circuit.default_population_name)"
   ]
  },
  {
   "cell_type": "code",
   "execution_count": 8,
   "metadata": {},
   "outputs": [
    {
     "name": "stdout",
     "output_type": "stream",
     "text": [
      "PairMotifNeuronSet resolved in population 'All' of circuit 'ToyCircuit-S1-6k':\n",
      "> Neuron IDs (2): [130 648]\n",
      "> Node set dict: {'population': 'All', 'node_id': [130, 648]}\n"
     ]
    }
   ],
   "source": [
    "# Neuron set expression\n",
    "neuron_ids = neuron_set.get_neuron_ids(circuit, circuit.default_population_name)\n",
    "print(f\"{neuron_set.__class__.__name__} resolved in population '{circuit.default_population_name}' of circuit '{circuit}':\")\n",
    "print(f\"> Neuron IDs ({len(neuron_ids)}): {neuron_ids}\")\n",
    "print(f\"> Node set dict: {neuron_set.get_node_set_definition(circuit, circuit.default_population_name)}\")"
   ]
  }
 ],
 "metadata": {
  "kernelspec": {
   "display_name": "obi-one",
   "language": "python",
   "name": "obi-one"
  },
  "language_info": {
   "codemirror_mode": {
    "name": "ipython",
    "version": 3
   },
   "file_extension": ".py",
   "mimetype": "text/x-python",
   "name": "python",
   "nbconvert_exporter": "python",
   "pygments_lexer": "ipython3",
   "version": "3.12.9"
  }
 },
 "nbformat": 4,
 "nbformat_minor": 4
}
