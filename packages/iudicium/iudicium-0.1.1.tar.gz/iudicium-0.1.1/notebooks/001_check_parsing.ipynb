{
 "cells": [
  {
   "cell_type": "markdown",
   "id": "b4d9db59",
   "metadata": {},
   "source": [
    "# Swiss Constitution Parsing Comparison\n",
    "\n",
    "This notebook compares the parsing results of the Swiss Constitution in English and Romansh versions to identify differences in article and paragraph counts."
   ]
  },
  {
   "cell_type": "code",
   "execution_count": 3,
   "id": "965kkehdjsj",
   "metadata": {},
   "outputs": [
    {
     "name": "stdout",
     "output_type": "stream",
     "text": [
      "Data loaded successfully\n",
      "English: 231 articles\n",
      "Romansh: 231 articles\n"
     ]
    }
   ],
   "source": [
    "# Load the pickle files\n",
    "from iudicium.parser import parse_constitution\n",
    "\n",
    "en_data = parse_constitution(\"../data/sources/SR-101-03032024-EN.xml\")\n",
    "rm_data = parse_constitution(\"../data/sources/SR-101-03032024-RM.xml\")\n",
    "\n",
    "print(\"Data loaded successfully\")\n",
    "print(f\"English: {len(en_data)} articles\")\n",
    "print(f\"Romansh: {len(rm_data)} articles\")"
   ]
  },
  {
   "cell_type": "code",
   "execution_count": 4,
   "id": "dn8kjnf7okn",
   "metadata": {},
   "outputs": [
    {
     "name": "stdout",
     "output_type": "stream",
     "text": [
      "=== Total Paragraph Count ===\n",
      "English: 657 paragraphs\n",
      "Romansh: 660 paragraphs\n",
      "Difference: 3 paragraphs\n",
      "\n",
      "=== Articles with Different Paragraph Counts ===\n",
      "Found 4 articles with different paragraph counts:\n",
      "  Article 83: EN=1, RM=2, diff=-1\n",
      "  Article 175: EN=4, RM=2, diff=2\n",
      "  Article 189: EN=4, RM=5, diff=-1\n",
      "  Article 197: EN=26, RM=29, diff=-3\n"
     ]
    }
   ],
   "source": [
    "# Count total paragraphs for each version\n",
    "def count_paragraphs(data: dict) -> int:\n",
    "    \"\"\"Count total paragraphs in the given data dictionary.\"\"\"\n",
    "    total_paragraphs = 0\n",
    "    for paragraphs in data.values():\n",
    "        if isinstance(paragraphs, list):\n",
    "            total_paragraphs += len(paragraphs)\n",
    "    return total_paragraphs\n",
    "\n",
    "\n",
    "en_paragraph_count = count_paragraphs(en_data)\n",
    "rm_paragraph_count = count_paragraphs(rm_data)\n",
    "\n",
    "print(\"=== Total Paragraph Count ===\")\n",
    "print(f\"English: {en_paragraph_count} paragraphs\")\n",
    "print(f\"Romansh: {rm_paragraph_count} paragraphs\")\n",
    "print(f\"Difference: {abs(en_paragraph_count - rm_paragraph_count)} paragraphs\")\n",
    "\n",
    "# Find articles with different paragraph counts\n",
    "print(\"\\n=== Articles with Different Paragraph Counts ===\")\n",
    "differences = []\n",
    "for key in en_data.keys():\n",
    "    en_count = len(en_data[key]) if isinstance(en_data[key], list) else 0\n",
    "    rm_count = len(rm_data[key]) if isinstance(rm_data[key], list) else 0\n",
    "    if en_count != rm_count:\n",
    "        differences.append((key, en_count, rm_count))\n",
    "\n",
    "if differences:\n",
    "    print(f\"Found {len(differences)} articles with different paragraph counts:\")\n",
    "    for article, en_count, rm_count in differences[:10]:  # Show first 10\n",
    "        print(\n",
    "            f\"  Article {article}: EN={en_count}, RM={rm_count}, diff={en_count - rm_count}\"\n",
    "        )\n",
    "else:\n",
    "    print(\"All articles have the same number of paragraphs\")"
   ]
  },
  {
   "cell_type": "code",
   "execution_count": 5,
   "id": "hihtai4zz6t",
   "metadata": {},
   "outputs": [
    {
     "name": "stdout",
     "output_type": "stream",
     "text": [
      "=== SUMMARY OF DIFFERENCES ===\n",
      "\n",
      "1. OVERALL STATISTICS:\n",
      "   - Total articles in both versions: 231\n",
      "   - English total paragraphs: 657\n",
      "   - Romansh total paragraphs: 660\n",
      "   - Difference: Romansh has 3 MORE paragraphs\n",
      "\n",
      "2. ARTICLES WITH DIFFERENCES:\n",
      "   - Article 83: EN=1 vs RM=2 (+1 in Romansh)\n",
      "   - Article 175: EN=4 vs RM=2 (-2 in Romansh)\n",
      "   - Article 189: EN=4 vs RM=5 (+1 in Romansh)\n",
      "   - Article 197: EN=26 vs RM=29 (+3 in Romansh)\n",
      "\n",
      "3. LIKELY CAUSES OF DIFFERENCES:\n",
      "   - Article 83: Romansh version splits content into 2 paragraphs vs 1 in English\n",
      "   - Article 175: Romansh combines paragraphs 2-4 into a single paragraph\n",
      "   - Article 189: Romansh has an extra paragraph with voting/acceptance details\n",
      "   - Article 197: Romansh has 3 additional transitional provision paragraphs\n",
      "\n",
      "4. PARSING IMPLICATIONS:\n",
      "   - The XML parsing correctly identifies paragraph boundaries\n",
      "   - Different language versions may structure the same content differently\n",
      "   - Some versions include additional procedural/voting information as separate paragraphs\n"
     ]
    }
   ],
   "source": [
    "# Generate comprehensive summary\n",
    "def count_paragraphs(data):\n",
    "    total_paragraphs = 0\n",
    "    for article_key, paragraphs in data.items():\n",
    "        if isinstance(paragraphs, list):\n",
    "            total_paragraphs += len(paragraphs)\n",
    "    return total_paragraphs\n",
    "\n",
    "\n",
    "# Count paragraphs\n",
    "en_paragraph_count = count_paragraphs(en_data)\n",
    "rm_paragraph_count = count_paragraphs(rm_data)\n",
    "\n",
    "# Find articles with different paragraph counts\n",
    "differences = []\n",
    "for key in en_data.keys():\n",
    "    en_count = len(en_data[key]) if isinstance(en_data[key], list) else 0\n",
    "    rm_count = len(rm_data[key]) if isinstance(rm_data[key], list) else 0\n",
    "    if en_count != rm_count:\n",
    "        differences.append((key, en_count, rm_count))\n",
    "\n",
    "print(\"=== SUMMARY OF DIFFERENCES ===\\n\")\n",
    "\n",
    "print(\"1. OVERALL STATISTICS:\")\n",
    "print(f\"   - Total articles in both versions: 231\")\n",
    "print(f\"   - English total paragraphs: {en_paragraph_count}\")\n",
    "print(f\"   - Romansh total paragraphs: {rm_paragraph_count}\")\n",
    "print(\n",
    "    f\"   - Difference: Romansh has {rm_paragraph_count - en_paragraph_count} MORE paragraphs\\n\"\n",
    ")\n",
    "\n",
    "print(\"2. ARTICLES WITH DIFFERENCES:\")\n",
    "for article, en_count, rm_count in differences:\n",
    "    diff = rm_count - en_count\n",
    "    sign = \"+\" if diff > 0 else \"\"\n",
    "    print(\n",
    "        f\"   - Article {article}: EN={en_count} vs RM={rm_count} ({sign}{diff} in Romansh)\"\n",
    "    )\n",
    "\n",
    "print(\"\\n3. LIKELY CAUSES OF DIFFERENCES:\")\n",
    "print(\n",
    "    \"   - Article 83: Romansh version splits content into 2 paragraphs vs 1 in English\"\n",
    ")\n",
    "print(\"   - Article 175: Romansh combines paragraphs 2-4 into a single paragraph\")\n",
    "print(\"   - Article 189: Romansh has an extra paragraph with voting/acceptance details\")\n",
    "print(\"   - Article 197: Romansh has 3 additional transitional provision paragraphs\")\n",
    "\n",
    "print(\"\\n4. PARSING IMPLICATIONS:\")\n",
    "print(\"   - The XML parsing correctly identifies paragraph boundaries\")\n",
    "print(\"   - Different language versions may structure the same content differently\")\n",
    "print(\n",
    "    \"   - Some versions include additional procedural/voting information as separate paragraphs\"\n",
    ")"
   ]
  }
 ],
 "metadata": {
  "kernelspec": {
   "display_name": ".venv",
   "language": "python",
   "name": "python3"
  },
  "language_info": {
   "codemirror_mode": {
    "name": "ipython",
    "version": 3
   },
   "file_extension": ".py",
   "mimetype": "text/x-python",
   "name": "python",
   "nbconvert_exporter": "python",
   "pygments_lexer": "ipython3",
   "version": "3.12.4"
  }
 },
 "nbformat": 4,
 "nbformat_minor": 5
}
