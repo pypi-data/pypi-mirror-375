{
 "cells": [
  {
   "cell_type": "code",
   "execution_count": null,
   "id": "702746d8",
   "metadata": {},
   "outputs": [],
   "source": [
    "from circle import *\n"
   ]
  },
  {
   "cell_type": "code",
   "execution_count": null,
   "id": "decb6620",
   "metadata": {},
   "outputs": [],
   "source": [
    "ConcentricCircles((0,0), 5, 1, 1, \"red\")"
   ]
  },
  {
   "cell_type": "code",
   "execution_count": null,
   "id": "cd0dd919",
   "metadata": {},
   "outputs": [],
   "source": [
    "from circle_config import *\n",
    "import numpy as np"
   ]
  },
  {
   "cell_type": "code",
   "execution_count": null,
   "id": "46cc37b0",
   "metadata": {},
   "outputs": [],
   "source": [
    "concentric_circles([0,0],6,2,1,)"
   ]
  },
  {
   "cell_type": "code",
   "execution_count": null,
   "id": "4038a9c8",
   "metadata": {},
   "outputs": [],
   "source": [
    "concentric_circles((0,0),6,0.1,1,\"both\",color='red',width=9,opacity=0.3)"
   ]
  },
  {
   "cell_type": "code",
   "execution_count": null,
   "id": "5f7a3821",
   "metadata": {},
   "outputs": [],
   "source": [
    "\n",
    "concentric_circles_geometric([0,0],8,np.sqrt(2),1,\"both\",color='blue',opacity=0.5,width=0.9)"
   ]
  },
  {
   "cell_type": "code",
   "execution_count": null,
   "id": "2d533664",
   "metadata": {},
   "outputs": [],
   "source": []
  }
 ],
 "metadata": {
  "kernelspec": {
   "display_name": ".venv",
   "language": "python",
   "name": "python3"
  },
  "language_info": {
   "codemirror_mode": {
    "name": "ipython",
    "version": 3
   },
   "file_extension": ".py",
   "mimetype": "text/x-python",
   "name": "python",
   "nbconvert_exporter": "python",
   "pygments_lexer": "ipython3",
   "version": "3.13.2"
  }
 },
 "nbformat": 4,
 "nbformat_minor": 5
}
