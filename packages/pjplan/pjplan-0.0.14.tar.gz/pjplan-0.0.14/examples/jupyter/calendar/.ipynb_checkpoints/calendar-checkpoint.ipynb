{
 "cells": [
  {
   "cell_type": "code",
   "execution_count": 1,
   "metadata": {
    "ExecuteTime": {
     "end_time": "2023-04-02T15:30:29.581726Z",
     "start_time": "2023-04-02T15:30:29.258346Z"
    },
    "collapsed": true
   },
   "outputs": [],
   "source": [
    "import sys\n",
    "from datetime import datetime\n",
    "sys.path.append('../../src')\n",
    "from pjplan import WeeklyCalendar"
   ]
  },
  {
   "cell_type": "code",
   "execution_count": 2,
   "metadata": {
    "ExecuteTime": {
     "end_time": "2023-04-02T15:30:29.597261Z",
     "start_time": "2023-04-02T15:30:29.583728Z"
    }
   },
   "outputs": [
    {
     "data": {
      "text/plain": [
       "|\u001b[92m Mon  \u001b[0m|\u001b[92m Tue  \u001b[0m|\u001b[92m Wed \u001b[0m|\u001b[92m Thu  \u001b[0m|\u001b[92m Fri  \u001b[0m|\u001b[92m Sat \u001b[0m|\u001b[92m Sun \u001b[0m|\n",
       "| 16.0 | 16.0 |\u001b[97m 0.0 \u001b[0m| 16.0 | 16.0 |\u001b[97m 0.0 \u001b[0m|\u001b[97m 0.0 \u001b[0m|"
      ]
     },
     "execution_count": 2,
     "metadata": {},
     "output_type": "execute_result"
    }
   ],
   "source": [
    "WeeklyCalendar(working_week_days=[0,1,3,4], week_day_hours=16)"
   ]
  },
  {
   "cell_type": "code",
   "execution_count": 3,
   "metadata": {
    "ExecuteTime": {
     "end_time": "2023-04-02T15:30:29.642416Z",
     "start_time": "2023-04-02T15:30:29.599256Z"
    }
   },
   "outputs": [
    {
     "data": {
      "text/plain": [
       "|\u001b[92m Mon \u001b[0m|\u001b[92m Tue \u001b[0m|\u001b[92m Wed \u001b[0m|\u001b[92m Thu \u001b[0m|\u001b[92m Fri \u001b[0m|\u001b[92m Sat \u001b[0m|\u001b[92m Sun \u001b[0m|\n",
       "| 8.0 | 8.0 | 5.0 |\u001b[97m 0.0 \u001b[0m|\u001b[97m 0.0 \u001b[0m|\u001b[97m 0.0 \u001b[0m|\u001b[97m 0.0 \u001b[0m|"
      ]
     },
     "execution_count": 3,
     "metadata": {},
     "output_type": "execute_result"
    }
   ],
   "source": [
    "WeeklyCalendar(week_day_hours={0:8, 1:8, 2:5})"
   ]
  }
 ],
 "metadata": {
  "kernelspec": {
   "display_name": "Python 3 (ipykernel)",
   "language": "python",
   "name": "python3"
  },
  "language_info": {
   "codemirror_mode": {
    "name": "ipython",
    "version": 3
   },
   "file_extension": ".py",
   "mimetype": "text/x-python",
   "name": "python",
   "nbconvert_exporter": "python",
   "pygments_lexer": "ipython3",
   "version": "3.10.6"
  }
 },
 "nbformat": 4,
 "nbformat_minor": 1
}
