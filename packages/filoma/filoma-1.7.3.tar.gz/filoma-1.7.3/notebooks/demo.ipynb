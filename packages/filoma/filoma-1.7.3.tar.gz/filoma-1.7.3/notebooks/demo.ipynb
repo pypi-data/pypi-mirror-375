{
 "cells": [
  {
   "cell_type": "markdown",
   "id": "da1ba4ff",
   "metadata": {},
   "source": [
    "# 🚀 filoma demo\n",
    "\n",
    "Fast, multi-backend file analysis with a tiny API surface"
   ]
  },
  {
   "cell_type": "code",
   "execution_count": 3,
   "id": "3c9cfc6f",
   "metadata": {},
   "outputs": [
    {
     "name": "stdout",
     "output_type": "stream",
     "text": [
      "filoma version: 1.7.2\n"
     ]
    }
   ],
   "source": [
    "import filoma\n",
    "\n",
    "print(f\"filoma version: {filoma.__version__}\")"
   ]
  },
  {
   "cell_type": "markdown",
   "id": "cc9779c9",
   "metadata": {},
   "source": [
    "# 🔍📁 Directory Analysis"
   ]
  },
  {
   "cell_type": "code",
   "execution_count": null,
   "id": "0b115872",
   "metadata": {},
   "outputs": [
    {
     "name": "stderr",
     "output_type": "stream",
     "text": [
      "\u001b[32m2025-09-09 08:30:25.950\u001b[0m | \u001b[34m\u001b[1mDEBUG   \u001b[0m | \u001b[36mfiloma.directories.directory_profiler\u001b[0m:\u001b[36m__init__\u001b[0m:\u001b[36m318\u001b[0m - \u001b[34m\u001b[1mInteractive environment detected, disabling progress bars to avoid conflicts\u001b[0m\n",
      "\u001b[32m2025-09-09 08:30:25.950\u001b[0m | \u001b[1mINFO    \u001b[0m | \u001b[36mfiloma.directories.directory_profiler\u001b[0m:\u001b[36mprobe\u001b[0m:\u001b[36m433\u001b[0m - \u001b[1mStarting directory analysis of '../' using 🦀 Rust (Parallel) implementation\u001b[0m\n",
      "\u001b[32m2025-09-09 08:30:26.496\u001b[0m | \u001b[32m\u001b[1mSUCCESS \u001b[0m | \u001b[36mfiloma.directories.directory_profiler\u001b[0m:\u001b[36mprobe\u001b[0m:\u001b[36m449\u001b[0m - \u001b[32m\u001b[1mDirectory analysis completed in 0.55s - Found 54,402 items (51,224 files, 3,178 folders) using 🦀 Rust (Parallel)\u001b[0m\n"
     ]
    },
    {
     "data": {
      "text/html": [
       "<pre style=\"white-space:pre;overflow-x:auto;line-height:normal;font-family:Menlo,'DejaVu Sans Mono',consolas,'Courier New',monospace\"><span style=\"font-style: italic\"> Directory Analysis: /home/kalfasy/repos/filoma (🦀  </span>\n",
       "<span style=\"font-style: italic\">              Rust (Parallel)) - 0.55s               </span>\n",
       "┏━━━━━━━━━━━━━━━━━━━━━━━━━━┳━━━━━━━━━━━━━━━━━━━━━━━━┓\n",
       "┃<span style=\"font-weight: bold\"> Metric                   </span>┃<span style=\"font-weight: bold\"> Value                  </span>┃\n",
       "┡━━━━━━━━━━━━━━━━━━━━━━━━━━╇━━━━━━━━━━━━━━━━━━━━━━━━┩\n",
       "│<span style=\"color: #008080; text-decoration-color: #008080; font-weight: bold\"> Total Files              </span>│<span style=\"color: #c0c0c0; text-decoration-color: #c0c0c0\"> 51,224                 </span>│\n",
       "│<span style=\"color: #008080; text-decoration-color: #008080; font-weight: bold\"> Total Folders            </span>│<span style=\"color: #c0c0c0; text-decoration-color: #c0c0c0\"> 3,178                  </span>│\n",
       "│<span style=\"color: #008080; text-decoration-color: #008080; font-weight: bold\"> Total Size               </span>│<span style=\"color: #c0c0c0; text-decoration-color: #c0c0c0\"> 1,548.1499452590942 MB </span>│\n",
       "│<span style=\"color: #008080; text-decoration-color: #008080; font-weight: bold\"> Average Files per Folder </span>│<span style=\"color: #c0c0c0; text-decoration-color: #c0c0c0\"> 16.118313404657016     </span>│\n",
       "│<span style=\"color: #008080; text-decoration-color: #008080; font-weight: bold\"> Maximum Depth            </span>│<span style=\"color: #c0c0c0; text-decoration-color: #c0c0c0\"> 14                     </span>│\n",
       "│<span style=\"color: #008080; text-decoration-color: #008080; font-weight: bold\"> Empty Folders            </span>│<span style=\"color: #c0c0c0; text-decoration-color: #c0c0c0\"> 53                     </span>│\n",
       "│<span style=\"color: #008080; text-decoration-color: #008080; font-weight: bold\"> Analysis Time            </span>│<span style=\"color: #c0c0c0; text-decoration-color: #c0c0c0\"> 0.55s                  </span>│\n",
       "│<span style=\"color: #008080; text-decoration-color: #008080; font-weight: bold\"> Processing Speed         </span>│<span style=\"color: #c0c0c0; text-decoration-color: #c0c0c0\"> 99,662 items/sec       </span>│\n",
       "└──────────────────────────┴────────────────────────┘\n",
       "</pre>\n"
      ],
      "text/plain": [
       "\u001b[3m Directory Analysis: /home/kalfasy/repos/filoma (🦀  \u001b[0m\n",
       "\u001b[3m              Rust (Parallel)) - 0.55s               \u001b[0m\n",
       "┏━━━━━━━━━━━━━━━━━━━━━━━━━━┳━━━━━━━━━━━━━━━━━━━━━━━━┓\n",
       "┃\u001b[1m \u001b[0m\u001b[1mMetric                  \u001b[0m\u001b[1m \u001b[0m┃\u001b[1m \u001b[0m\u001b[1mValue                 \u001b[0m\u001b[1m \u001b[0m┃\n",
       "┡━━━━━━━━━━━━━━━━━━━━━━━━━━╇━━━━━━━━━━━━━━━━━━━━━━━━┩\n",
       "│\u001b[1;36m \u001b[0m\u001b[1;36mTotal Files             \u001b[0m\u001b[1;36m \u001b[0m│\u001b[37m \u001b[0m\u001b[37m51,224                \u001b[0m\u001b[37m \u001b[0m│\n",
       "│\u001b[1;36m \u001b[0m\u001b[1;36mTotal Folders           \u001b[0m\u001b[1;36m \u001b[0m│\u001b[37m \u001b[0m\u001b[37m3,178                 \u001b[0m\u001b[37m \u001b[0m│\n",
       "│\u001b[1;36m \u001b[0m\u001b[1;36mTotal Size              \u001b[0m\u001b[1;36m \u001b[0m│\u001b[37m \u001b[0m\u001b[37m1,548.1499452590942 MB\u001b[0m\u001b[37m \u001b[0m│\n",
       "│\u001b[1;36m \u001b[0m\u001b[1;36mAverage Files per Folder\u001b[0m\u001b[1;36m \u001b[0m│\u001b[37m \u001b[0m\u001b[37m16.118313404657016    \u001b[0m\u001b[37m \u001b[0m│\n",
       "│\u001b[1;36m \u001b[0m\u001b[1;36mMaximum Depth           \u001b[0m\u001b[1;36m \u001b[0m│\u001b[37m \u001b[0m\u001b[37m14                    \u001b[0m\u001b[37m \u001b[0m│\n",
       "│\u001b[1;36m \u001b[0m\u001b[1;36mEmpty Folders           \u001b[0m\u001b[1;36m \u001b[0m│\u001b[37m \u001b[0m\u001b[37m53                    \u001b[0m\u001b[37m \u001b[0m│\n",
       "│\u001b[1;36m \u001b[0m\u001b[1;36mAnalysis Time           \u001b[0m\u001b[1;36m \u001b[0m│\u001b[37m \u001b[0m\u001b[37m0.55s                 \u001b[0m\u001b[37m \u001b[0m│\n",
       "│\u001b[1;36m \u001b[0m\u001b[1;36mProcessing Speed        \u001b[0m\u001b[1;36m \u001b[0m│\u001b[37m \u001b[0m\u001b[37m99,662 items/sec      \u001b[0m\u001b[37m \u001b[0m│\n",
       "└──────────────────────────┴────────────────────────┘\n"
      ]
     },
     "metadata": {},
     "output_type": "display_data"
    },
    {
     "data": {
      "text/html": [
       "<pre style=\"white-space:pre;overflow-x:auto;line-height:normal;font-family:Menlo,'DejaVu Sans Mono',consolas,'Courier New',monospace\">\n",
       "</pre>\n"
      ],
      "text/plain": [
       "\n"
      ]
     },
     "metadata": {},
     "output_type": "display_data"
    }
   ],
   "source": [
    "from filoma.directories import DirectoryProfiler, DirectoryProfilerConfig\n",
    "\n",
    "# Create a profiler using the typed config dataclass\n",
    "config = DirectoryProfilerConfig(use_rust=True)\n",
    "dp1 = DirectoryProfiler(config)\n",
    "\n",
    "analysis = dp1.probe(\"../\")\n",
    "dp1.print_summary(analysis)"
   ]
  },
  {
   "cell_type": "code",
   "execution_count": 5,
   "id": "fb2f3a50",
   "metadata": {},
   "outputs": [
    {
     "data": {
      "text/html": [
       "<pre style=\"white-space:pre;overflow-x:auto;line-height:normal;font-family:Menlo,'DejaVu Sans Mono',consolas,'Courier New',monospace\"><span style=\"font-style: italic\"> Directory Analysis: /home/kalfasy/repos/filoma (🦀  </span>\n",
       "<span style=\"font-style: italic\">              Rust (Parallel)) - 0.55s               </span>\n",
       "┏━━━━━━━━━━━━━━━━━━━━━━━━━━┳━━━━━━━━━━━━━━━━━━━━━━━━┓\n",
       "┃<span style=\"font-weight: bold\"> Metric                   </span>┃<span style=\"font-weight: bold\"> Value                  </span>┃\n",
       "┡━━━━━━━━━━━━━━━━━━━━━━━━━━╇━━━━━━━━━━━━━━━━━━━━━━━━┩\n",
       "│<span style=\"color: #008080; text-decoration-color: #008080; font-weight: bold\"> Total Files              </span>│<span style=\"color: #c0c0c0; text-decoration-color: #c0c0c0\"> 51,224                 </span>│\n",
       "│<span style=\"color: #008080; text-decoration-color: #008080; font-weight: bold\"> Total Folders            </span>│<span style=\"color: #c0c0c0; text-decoration-color: #c0c0c0\"> 3,178                  </span>│\n",
       "│<span style=\"color: #008080; text-decoration-color: #008080; font-weight: bold\"> Total Size               </span>│<span style=\"color: #c0c0c0; text-decoration-color: #c0c0c0\"> 1,548.1499452590942 MB </span>│\n",
       "│<span style=\"color: #008080; text-decoration-color: #008080; font-weight: bold\"> Average Files per Folder </span>│<span style=\"color: #c0c0c0; text-decoration-color: #c0c0c0\"> 16.118313404657016     </span>│\n",
       "│<span style=\"color: #008080; text-decoration-color: #008080; font-weight: bold\"> Maximum Depth            </span>│<span style=\"color: #c0c0c0; text-decoration-color: #c0c0c0\"> 14                     </span>│\n",
       "│<span style=\"color: #008080; text-decoration-color: #008080; font-weight: bold\"> Empty Folders            </span>│<span style=\"color: #c0c0c0; text-decoration-color: #c0c0c0\"> 53                     </span>│\n",
       "│<span style=\"color: #008080; text-decoration-color: #008080; font-weight: bold\"> Analysis Time            </span>│<span style=\"color: #c0c0c0; text-decoration-color: #c0c0c0\"> 0.55s                  </span>│\n",
       "│<span style=\"color: #008080; text-decoration-color: #008080; font-weight: bold\"> Processing Speed         </span>│<span style=\"color: #c0c0c0; text-decoration-color: #c0c0c0\"> 99,662 items/sec       </span>│\n",
       "└──────────────────────────┴────────────────────────┘\n",
       "</pre>\n"
      ],
      "text/plain": [
       "\u001b[3m Directory Analysis: /home/kalfasy/repos/filoma (🦀  \u001b[0m\n",
       "\u001b[3m              Rust (Parallel)) - 0.55s               \u001b[0m\n",
       "┏━━━━━━━━━━━━━━━━━━━━━━━━━━┳━━━━━━━━━━━━━━━━━━━━━━━━┓\n",
       "┃\u001b[1m \u001b[0m\u001b[1mMetric                  \u001b[0m\u001b[1m \u001b[0m┃\u001b[1m \u001b[0m\u001b[1mValue                 \u001b[0m\u001b[1m \u001b[0m┃\n",
       "┡━━━━━━━━━━━━━━━━━━━━━━━━━━╇━━━━━━━━━━━━━━━━━━━━━━━━┩\n",
       "│\u001b[1;36m \u001b[0m\u001b[1;36mTotal Files             \u001b[0m\u001b[1;36m \u001b[0m│\u001b[37m \u001b[0m\u001b[37m51,224                \u001b[0m\u001b[37m \u001b[0m│\n",
       "│\u001b[1;36m \u001b[0m\u001b[1;36mTotal Folders           \u001b[0m\u001b[1;36m \u001b[0m│\u001b[37m \u001b[0m\u001b[37m3,178                 \u001b[0m\u001b[37m \u001b[0m│\n",
       "│\u001b[1;36m \u001b[0m\u001b[1;36mTotal Size              \u001b[0m\u001b[1;36m \u001b[0m│\u001b[37m \u001b[0m\u001b[37m1,548.1499452590942 MB\u001b[0m\u001b[37m \u001b[0m│\n",
       "│\u001b[1;36m \u001b[0m\u001b[1;36mAverage Files per Folder\u001b[0m\u001b[1;36m \u001b[0m│\u001b[37m \u001b[0m\u001b[37m16.118313404657016    \u001b[0m\u001b[37m \u001b[0m│\n",
       "│\u001b[1;36m \u001b[0m\u001b[1;36mMaximum Depth           \u001b[0m\u001b[1;36m \u001b[0m│\u001b[37m \u001b[0m\u001b[37m14                    \u001b[0m\u001b[37m \u001b[0m│\n",
       "│\u001b[1;36m \u001b[0m\u001b[1;36mEmpty Folders           \u001b[0m\u001b[1;36m \u001b[0m│\u001b[37m \u001b[0m\u001b[37m53                    \u001b[0m\u001b[37m \u001b[0m│\n",
       "│\u001b[1;36m \u001b[0m\u001b[1;36mAnalysis Time           \u001b[0m\u001b[1;36m \u001b[0m│\u001b[37m \u001b[0m\u001b[37m0.55s                 \u001b[0m\u001b[37m \u001b[0m│\n",
       "│\u001b[1;36m \u001b[0m\u001b[1;36mProcessing Speed        \u001b[0m\u001b[1;36m \u001b[0m│\u001b[37m \u001b[0m\u001b[37m99,662 items/sec      \u001b[0m\u001b[37m \u001b[0m│\n",
       "└──────────────────────────┴────────────────────────┘\n"
      ]
     },
     "metadata": {},
     "output_type": "display_data"
    },
    {
     "data": {
      "text/html": [
       "<pre style=\"white-space:pre;overflow-x:auto;line-height:normal;font-family:Menlo,'DejaVu Sans Mono',consolas,'Courier New',monospace\">\n",
       "</pre>\n"
      ],
      "text/plain": [
       "\n"
      ]
     },
     "metadata": {},
     "output_type": "display_data"
    },
    {
     "data": {
      "text/html": [
       "<pre style=\"white-space:pre;overflow-x:auto;line-height:normal;font-family:Menlo,'DejaVu Sans Mono',consolas,'Courier New',monospace\"><span style=\"font-style: italic\">           File Extensions           </span>\n",
       "┏━━━━━━━━━━━━━━┳━━━━━━━┳━━━━━━━━━━━━┓\n",
       "┃<span style=\"font-weight: bold\"> Extension    </span>┃<span style=\"font-weight: bold\"> Count </span>┃<span style=\"font-weight: bold\"> Percentage </span>┃\n",
       "┡━━━━━━━━━━━━━━╇━━━━━━━╇━━━━━━━━━━━━┩\n",
       "│<span style=\"color: #800080; text-decoration-color: #800080; font-weight: bold\"> .js          </span>│<span style=\"color: #c0c0c0; text-decoration-color: #c0c0c0\"> 160   </span>│<span style=\"color: #008000; text-decoration-color: #008000\"> 0.3%       </span>│\n",
       "│<span style=\"color: #800080; text-decoration-color: #800080; font-weight: bold\"> .c           </span>│<span style=\"color: #c0c0c0; text-decoration-color: #c0c0c0\"> 116   </span>│<span style=\"color: #008000; text-decoration-color: #008000\"> 0.2%       </span>│\n",
       "│<span style=\"color: #800080; text-decoration-color: #800080; font-weight: bold\"> .hpp         </span>│<span style=\"color: #c0c0c0; text-decoration-color: #c0c0c0\"> 20    </span>│<span style=\"color: #008000; text-decoration-color: #008000\"> 0.0%       </span>│\n",
       "│<span style=\"color: #800080; text-decoration-color: #800080; font-weight: bold\"> .markdown-it </span>│<span style=\"color: #c0c0c0; text-decoration-color: #c0c0c0\"> 2     </span>│<span style=\"color: #008000; text-decoration-color: #008000\"> 0.0%       </span>│\n",
       "│<span style=\"color: #800080; text-decoration-color: #800080; font-weight: bold\"> .cmd         </span>│<span style=\"color: #c0c0c0; text-decoration-color: #c0c0c0\"> 2     </span>│<span style=\"color: #008000; text-decoration-color: #008000\"> 0.0%       </span>│\n",
       "│<span style=\"color: #800080; text-decoration-color: #800080; font-weight: bold\"> .pyi         </span>│<span style=\"color: #c0c0c0; text-decoration-color: #c0c0c0\"> 4,200 </span>│<span style=\"color: #008000; text-decoration-color: #008000\"> 8.2%       </span>│\n",
       "│<span style=\"color: #800080; text-decoration-color: #800080; font-weight: bold\"> .fits        </span>│<span style=\"color: #c0c0c0; text-decoration-color: #c0c0c0\"> 2     </span>│<span style=\"color: #008000; text-decoration-color: #008000\"> 0.0%       </span>│\n",
       "│<span style=\"color: #800080; text-decoration-color: #800080; font-weight: bold\"> .typed       </span>│<span style=\"color: #c0c0c0; text-decoration-color: #c0c0c0\"> 116   </span>│<span style=\"color: #008000; text-decoration-color: #008000\"> 0.2%       </span>│\n",
       "│<span style=\"color: #800080; text-decoration-color: #800080; font-weight: bold\"> .pack        </span>│<span style=\"color: #c0c0c0; text-decoration-color: #c0c0c0\"> 2     </span>│<span style=\"color: #008000; text-decoration-color: #008000\"> 0.0%       </span>│\n",
       "│<span style=\"color: #800080; text-decoration-color: #800080; font-weight: bold\"> .woff2       </span>│<span style=\"color: #c0c0c0; text-decoration-color: #c0c0c0\"> 22    </span>│<span style=\"color: #008000; text-decoration-color: #008000\"> 0.0%       </span>│\n",
       "└──────────────┴───────┴────────────┘\n",
       "</pre>\n"
      ],
      "text/plain": [
       "\u001b[3m           File Extensions           \u001b[0m\n",
       "┏━━━━━━━━━━━━━━┳━━━━━━━┳━━━━━━━━━━━━┓\n",
       "┃\u001b[1m \u001b[0m\u001b[1mExtension   \u001b[0m\u001b[1m \u001b[0m┃\u001b[1m \u001b[0m\u001b[1mCount\u001b[0m\u001b[1m \u001b[0m┃\u001b[1m \u001b[0m\u001b[1mPercentage\u001b[0m\u001b[1m \u001b[0m┃\n",
       "┡━━━━━━━━━━━━━━╇━━━━━━━╇━━━━━━━━━━━━┩\n",
       "│\u001b[1;35m \u001b[0m\u001b[1;35m.js         \u001b[0m\u001b[1;35m \u001b[0m│\u001b[37m \u001b[0m\u001b[37m160  \u001b[0m\u001b[37m \u001b[0m│\u001b[32m \u001b[0m\u001b[32m0.3%      \u001b[0m\u001b[32m \u001b[0m│\n",
       "│\u001b[1;35m \u001b[0m\u001b[1;35m.c          \u001b[0m\u001b[1;35m \u001b[0m│\u001b[37m \u001b[0m\u001b[37m116  \u001b[0m\u001b[37m \u001b[0m│\u001b[32m \u001b[0m\u001b[32m0.2%      \u001b[0m\u001b[32m \u001b[0m│\n",
       "│\u001b[1;35m \u001b[0m\u001b[1;35m.hpp        \u001b[0m\u001b[1;35m \u001b[0m│\u001b[37m \u001b[0m\u001b[37m20   \u001b[0m\u001b[37m \u001b[0m│\u001b[32m \u001b[0m\u001b[32m0.0%      \u001b[0m\u001b[32m \u001b[0m│\n",
       "│\u001b[1;35m \u001b[0m\u001b[1;35m.markdown-it\u001b[0m\u001b[1;35m \u001b[0m│\u001b[37m \u001b[0m\u001b[37m2    \u001b[0m\u001b[37m \u001b[0m│\u001b[32m \u001b[0m\u001b[32m0.0%      \u001b[0m\u001b[32m \u001b[0m│\n",
       "│\u001b[1;35m \u001b[0m\u001b[1;35m.cmd        \u001b[0m\u001b[1;35m \u001b[0m│\u001b[37m \u001b[0m\u001b[37m2    \u001b[0m\u001b[37m \u001b[0m│\u001b[32m \u001b[0m\u001b[32m0.0%      \u001b[0m\u001b[32m \u001b[0m│\n",
       "│\u001b[1;35m \u001b[0m\u001b[1;35m.pyi        \u001b[0m\u001b[1;35m \u001b[0m│\u001b[37m \u001b[0m\u001b[37m4,200\u001b[0m\u001b[37m \u001b[0m│\u001b[32m \u001b[0m\u001b[32m8.2%      \u001b[0m\u001b[32m \u001b[0m│\n",
       "│\u001b[1;35m \u001b[0m\u001b[1;35m.fits       \u001b[0m\u001b[1;35m \u001b[0m│\u001b[37m \u001b[0m\u001b[37m2    \u001b[0m\u001b[37m \u001b[0m│\u001b[32m \u001b[0m\u001b[32m0.0%      \u001b[0m\u001b[32m \u001b[0m│\n",
       "│\u001b[1;35m \u001b[0m\u001b[1;35m.typed      \u001b[0m\u001b[1;35m \u001b[0m│\u001b[37m \u001b[0m\u001b[37m116  \u001b[0m\u001b[37m \u001b[0m│\u001b[32m \u001b[0m\u001b[32m0.2%      \u001b[0m\u001b[32m \u001b[0m│\n",
       "│\u001b[1;35m \u001b[0m\u001b[1;35m.pack       \u001b[0m\u001b[1;35m \u001b[0m│\u001b[37m \u001b[0m\u001b[37m2    \u001b[0m\u001b[37m \u001b[0m│\u001b[32m \u001b[0m\u001b[32m0.0%      \u001b[0m\u001b[32m \u001b[0m│\n",
       "│\u001b[1;35m \u001b[0m\u001b[1;35m.woff2      \u001b[0m\u001b[1;35m \u001b[0m│\u001b[37m \u001b[0m\u001b[37m22   \u001b[0m\u001b[37m \u001b[0m│\u001b[32m \u001b[0m\u001b[32m0.0%      \u001b[0m\u001b[32m \u001b[0m│\n",
       "└──────────────┴───────┴────────────┘\n"
      ]
     },
     "metadata": {},
     "output_type": "display_data"
    },
    {
     "data": {
      "text/html": [
       "<pre style=\"white-space:pre;overflow-x:auto;line-height:normal;font-family:Menlo,'DejaVu Sans Mono',consolas,'Courier New',monospace\">\n",
       "</pre>\n"
      ],
      "text/plain": [
       "\n"
      ]
     },
     "metadata": {},
     "output_type": "display_data"
    },
    {
     "data": {
      "text/html": [
       "<pre style=\"white-space:pre;overflow-x:auto;line-height:normal;font-family:Menlo,'DejaVu Sans Mono',consolas,'Courier New',monospace\"><span style=\"font-style: italic\">                 Common Folder Names                  </span>\n",
       "┏━━━━━━━━━━━━━━━━━━━━━━━━━━━━━━━━━━━━━━┳━━━━━━━━━━━━━┓\n",
       "┃<span style=\"font-weight: bold\"> Folder Name                          </span>┃<span style=\"font-weight: bold\"> Occurrences </span>┃\n",
       "┡━━━━━━━━━━━━━━━━━━━━━━━━━━━━━━━━━━━━━━╇━━━━━━━━━━━━━┩\n",
       "│<span style=\"color: #000080; text-decoration-color: #000080; font-weight: bold\"> f0                                   </span>│<span style=\"color: #c0c0c0; text-decoration-color: #c0c0c0\"> 1           </span>│\n",
       "│<span style=\"color: #000080; text-decoration-color: #000080; font-weight: bold\"> matplotlib_inline-0.1.7.dist-info    </span>│<span style=\"color: #c0c0c0; text-decoration-color: #c0c0c0\"> 2           </span>│\n",
       "│<span style=\"color: #000080; text-decoration-color: #000080; font-weight: bold\"> crossbeam-queue-44f25d3ef7ee62d8     </span>│<span style=\"color: #c0c0c0; text-decoration-color: #c0c0c0\"> 1           </span>│\n",
       "│<span style=\"color: #000080; text-decoration-color: #000080; font-weight: bold\"> requests-2.32.4.dist-info            </span>│<span style=\"color: #c0c0c0; text-decoration-color: #c0c0c0\"> 2           </span>│\n",
       "│<span style=\"color: #000080; text-decoration-color: #000080; font-weight: bold\"> pyo3-macros-backend-82c6bb1e4bc1c251 </span>│<span style=\"color: #c0c0c0; text-decoration-color: #c0c0c0\"> 1           </span>│\n",
       "│<span style=\"color: #000080; text-decoration-color: #000080; font-weight: bold\"> utilities                            </span>│<span style=\"color: #c0c0c0; text-decoration-color: #c0c0c0\"> 2           </span>│\n",
       "│<span style=\"color: #000080; text-decoration-color: #000080; font-weight: bold\"> assets                               </span>│<span style=\"color: #c0c0c0; text-decoration-color: #c0c0c0\"> 2           </span>│\n",
       "│<span style=\"color: #000080; text-decoration-color: #000080; font-weight: bold\"> portable-atomic-34e9849e7e976190     </span>│<span style=\"color: #c0c0c0; text-decoration-color: #c0c0c0\"> 2           </span>│\n",
       "│<span style=\"color: #000080; text-decoration-color: #000080; font-weight: bold\"> primitives                           </span>│<span style=\"color: #c0c0c0; text-decoration-color: #c0c0c0\"> 4           </span>│\n",
       "│<span style=\"color: #000080; text-decoration-color: #000080; font-weight: bold\"> cffi-1.17.1.dist-info                </span>│<span style=\"color: #c0c0c0; text-decoration-color: #c0c0c0\"> 2           </span>│\n",
       "└──────────────────────────────────────┴─────────────┘\n",
       "</pre>\n"
      ],
      "text/plain": [
       "\u001b[3m                 Common Folder Names                  \u001b[0m\n",
       "┏━━━━━━━━━━━━━━━━━━━━━━━━━━━━━━━━━━━━━━┳━━━━━━━━━━━━━┓\n",
       "┃\u001b[1m \u001b[0m\u001b[1mFolder Name                         \u001b[0m\u001b[1m \u001b[0m┃\u001b[1m \u001b[0m\u001b[1mOccurrences\u001b[0m\u001b[1m \u001b[0m┃\n",
       "┡━━━━━━━━━━━━━━━━━━━━━━━━━━━━━━━━━━━━━━╇━━━━━━━━━━━━━┩\n",
       "│\u001b[1;34m \u001b[0m\u001b[1;34mf0                                  \u001b[0m\u001b[1;34m \u001b[0m│\u001b[37m \u001b[0m\u001b[37m1          \u001b[0m\u001b[37m \u001b[0m│\n",
       "│\u001b[1;34m \u001b[0m\u001b[1;34mmatplotlib_inline-0.1.7.dist-info   \u001b[0m\u001b[1;34m \u001b[0m│\u001b[37m \u001b[0m\u001b[37m2          \u001b[0m\u001b[37m \u001b[0m│\n",
       "│\u001b[1;34m \u001b[0m\u001b[1;34mcrossbeam-queue-44f25d3ef7ee62d8    \u001b[0m\u001b[1;34m \u001b[0m│\u001b[37m \u001b[0m\u001b[37m1          \u001b[0m\u001b[37m \u001b[0m│\n",
       "│\u001b[1;34m \u001b[0m\u001b[1;34mrequests-2.32.4.dist-info           \u001b[0m\u001b[1;34m \u001b[0m│\u001b[37m \u001b[0m\u001b[37m2          \u001b[0m\u001b[37m \u001b[0m│\n",
       "│\u001b[1;34m \u001b[0m\u001b[1;34mpyo3-macros-backend-82c6bb1e4bc1c251\u001b[0m\u001b[1;34m \u001b[0m│\u001b[37m \u001b[0m\u001b[37m1          \u001b[0m\u001b[37m \u001b[0m│\n",
       "│\u001b[1;34m \u001b[0m\u001b[1;34mutilities                           \u001b[0m\u001b[1;34m \u001b[0m│\u001b[37m \u001b[0m\u001b[37m2          \u001b[0m\u001b[37m \u001b[0m│\n",
       "│\u001b[1;34m \u001b[0m\u001b[1;34massets                              \u001b[0m\u001b[1;34m \u001b[0m│\u001b[37m \u001b[0m\u001b[37m2          \u001b[0m\u001b[37m \u001b[0m│\n",
       "│\u001b[1;34m \u001b[0m\u001b[1;34mportable-atomic-34e9849e7e976190    \u001b[0m\u001b[1;34m \u001b[0m│\u001b[37m \u001b[0m\u001b[37m2          \u001b[0m\u001b[37m \u001b[0m│\n",
       "│\u001b[1;34m \u001b[0m\u001b[1;34mprimitives                          \u001b[0m\u001b[1;34m \u001b[0m│\u001b[37m \u001b[0m\u001b[37m4          \u001b[0m\u001b[37m \u001b[0m│\n",
       "│\u001b[1;34m \u001b[0m\u001b[1;34mcffi-1.17.1.dist-info               \u001b[0m\u001b[1;34m \u001b[0m│\u001b[37m \u001b[0m\u001b[37m2          \u001b[0m\u001b[37m \u001b[0m│\n",
       "└──────────────────────────────────────┴─────────────┘\n"
      ]
     },
     "metadata": {},
     "output_type": "display_data"
    },
    {
     "data": {
      "text/html": [
       "<pre style=\"white-space:pre;overflow-x:auto;line-height:normal;font-family:Menlo,'DejaVu Sans Mono',consolas,'Courier New',monospace\">\n",
       "</pre>\n"
      ],
      "text/plain": [
       "\n"
      ]
     },
     "metadata": {},
     "output_type": "display_data"
    },
    {
     "data": {
      "text/html": [
       "<pre style=\"white-space:pre;overflow-x:auto;line-height:normal;font-family:Menlo,'DejaVu Sans Mono',consolas,'Courier New',monospace\"><span style=\"font-style: italic\">                             Empty Folders (showing 20 of 53)                             </span>\n",
       "┏━━━━━━━━━━━━━━━━━━━━━━━━━━━━━━━━━━━━━━━━━━━━━━━━━━━━━━━━━━━━━━━━━━━━━━━━━━━━━━━━━━━━━━━━┓\n",
       "┃<span style=\"font-weight: bold\"> Path                                                                                   </span>┃\n",
       "┡━━━━━━━━━━━━━━━━━━━━━━━━━━━━━━━━━━━━━━━━━━━━━━━━━━━━━━━━━━━━━━━━━━━━━━━━━━━━━━━━━━━━━━━━┩\n",
       "│<span style=\"color: #808000; text-decoration-color: #808000\"> /home/kalfasy/repos/filoma/notebooks/tests                                             </span>│\n",
       "│<span style=\"color: #808000; text-decoration-color: #808000\"> /home/kalfasy/repos/filoma/target/debug/build/proc-macro2-fdcb222da4373f07/out         </span>│\n",
       "│<span style=\"color: #808000; text-decoration-color: #808000\"> /home/kalfasy/repos/filoma/target/debug/build/pyo3-17c1b0b456a0c7e4/out                </span>│\n",
       "│<span style=\"color: #808000; text-decoration-color: #808000\"> /home/kalfasy/repos/filoma/target/debug/build/crossbeam-utils-7b9bd07d9fad49b5/out     </span>│\n",
       "│<span style=\"color: #808000; text-decoration-color: #808000\"> /home/kalfasy/repos/filoma/target/debug/build/serde_json-85cdf3d882972d5c/out          </span>│\n",
       "│<span style=\"color: #808000; text-decoration-color: #808000\"> /home/kalfasy/repos/filoma/target/debug/build/pyo3-8813d706ead48d90/out                </span>│\n",
       "│<span style=\"color: #808000; text-decoration-color: #808000\"> /home/kalfasy/repos/filoma/target/debug/build/pyo3-macros-backend-6807c5cda8b1462a/out </span>│\n",
       "│<span style=\"color: #808000; text-decoration-color: #808000\"> /home/kalfasy/repos/filoma/target/debug/build/memoffset-f4a6c90d4e3f18eb/out           </span>│\n",
       "│<span style=\"color: #808000; text-decoration-color: #808000\"> /home/kalfasy/repos/filoma/target/debug/build/rayon-core-03a79c366c595edc/out          </span>│\n",
       "│<span style=\"color: #808000; text-decoration-color: #808000\"> /home/kalfasy/repos/filoma/target/debug/build/pyo3-macros-backend-3864f2b2dbf9644d/out </span>│\n",
       "│<span style=\"color: #808000; text-decoration-color: #808000\"> /home/kalfasy/repos/filoma/target/debug/build/pyo3-264b9b4aa4d6a2b5/out                </span>│\n",
       "│<span style=\"color: #808000; text-decoration-color: #808000\"> /home/kalfasy/repos/filoma/target/debug/build/portable-atomic-f4353affba5b92e8/out     </span>│\n",
       "│<span style=\"color: #808000; text-decoration-color: #808000\"> /home/kalfasy/repos/filoma/target/debug/build/pyo3-ffi-747a9d93a69eb79b/out            </span>│\n",
       "│<span style=\"color: #808000; text-decoration-color: #808000\"> /home/kalfasy/repos/filoma/target/debug/build/proc-macro2-4d577003447afa24/out         </span>│\n",
       "│<span style=\"color: #808000; text-decoration-color: #808000\"> /home/kalfasy/repos/filoma/target/debug/build/pyo3-ffi-8e536f56d2d22bd8/out            </span>│\n",
       "│<span style=\"color: #808000; text-decoration-color: #808000\"> /home/kalfasy/repos/filoma/target/debug/build/libc-9d68f4abca27c9af/out                </span>│\n",
       "│<span style=\"color: #808000; text-decoration-color: #808000\"> /home/kalfasy/repos/filoma/target/debug/build/lock_api-96adb08174198570/out            </span>│\n",
       "│<span style=\"color: #808000; text-decoration-color: #808000\"> /home/kalfasy/repos/filoma/target/debug/build/serde-6690732fba37d144/out               </span>│\n",
       "│<span style=\"color: #808000; text-decoration-color: #808000\"> /home/kalfasy/repos/filoma/target/debug/build/parking_lot_core-d5ba795b49a036a8/out    </span>│\n",
       "│<span style=\"color: #808000; text-decoration-color: #808000\"> /home/kalfasy/repos/filoma/target/debug/build/pyo3-ffi-0b1b893f015622ee/out            </span>│\n",
       "│<span style=\"color: #808000; text-decoration-color: #808000\"> ... and 33 more                                                                        </span>│\n",
       "└────────────────────────────────────────────────────────────────────────────────────────┘\n",
       "</pre>\n"
      ],
      "text/plain": [
       "\u001b[3m                             Empty Folders (showing 20 of 53)                             \u001b[0m\n",
       "┏━━━━━━━━━━━━━━━━━━━━━━━━━━━━━━━━━━━━━━━━━━━━━━━━━━━━━━━━━━━━━━━━━━━━━━━━━━━━━━━━━━━━━━━━┓\n",
       "┃\u001b[1m \u001b[0m\u001b[1mPath                                                                                  \u001b[0m\u001b[1m \u001b[0m┃\n",
       "┡━━━━━━━━━━━━━━━━━━━━━━━━━━━━━━━━━━━━━━━━━━━━━━━━━━━━━━━━━━━━━━━━━━━━━━━━━━━━━━━━━━━━━━━━┩\n",
       "│\u001b[33m \u001b[0m\u001b[33m/home/kalfasy/repos/filoma/notebooks/tests                                            \u001b[0m\u001b[33m \u001b[0m│\n",
       "│\u001b[33m \u001b[0m\u001b[33m/home/kalfasy/repos/filoma/target/debug/build/proc-macro2-fdcb222da4373f07/out        \u001b[0m\u001b[33m \u001b[0m│\n",
       "│\u001b[33m \u001b[0m\u001b[33m/home/kalfasy/repos/filoma/target/debug/build/pyo3-17c1b0b456a0c7e4/out               \u001b[0m\u001b[33m \u001b[0m│\n",
       "│\u001b[33m \u001b[0m\u001b[33m/home/kalfasy/repos/filoma/target/debug/build/crossbeam-utils-7b9bd07d9fad49b5/out    \u001b[0m\u001b[33m \u001b[0m│\n",
       "│\u001b[33m \u001b[0m\u001b[33m/home/kalfasy/repos/filoma/target/debug/build/serde_json-85cdf3d882972d5c/out         \u001b[0m\u001b[33m \u001b[0m│\n",
       "│\u001b[33m \u001b[0m\u001b[33m/home/kalfasy/repos/filoma/target/debug/build/pyo3-8813d706ead48d90/out               \u001b[0m\u001b[33m \u001b[0m│\n",
       "│\u001b[33m \u001b[0m\u001b[33m/home/kalfasy/repos/filoma/target/debug/build/pyo3-macros-backend-6807c5cda8b1462a/out\u001b[0m\u001b[33m \u001b[0m│\n",
       "│\u001b[33m \u001b[0m\u001b[33m/home/kalfasy/repos/filoma/target/debug/build/memoffset-f4a6c90d4e3f18eb/out          \u001b[0m\u001b[33m \u001b[0m│\n",
       "│\u001b[33m \u001b[0m\u001b[33m/home/kalfasy/repos/filoma/target/debug/build/rayon-core-03a79c366c595edc/out         \u001b[0m\u001b[33m \u001b[0m│\n",
       "│\u001b[33m \u001b[0m\u001b[33m/home/kalfasy/repos/filoma/target/debug/build/pyo3-macros-backend-3864f2b2dbf9644d/out\u001b[0m\u001b[33m \u001b[0m│\n",
       "│\u001b[33m \u001b[0m\u001b[33m/home/kalfasy/repos/filoma/target/debug/build/pyo3-264b9b4aa4d6a2b5/out               \u001b[0m\u001b[33m \u001b[0m│\n",
       "│\u001b[33m \u001b[0m\u001b[33m/home/kalfasy/repos/filoma/target/debug/build/portable-atomic-f4353affba5b92e8/out    \u001b[0m\u001b[33m \u001b[0m│\n",
       "│\u001b[33m \u001b[0m\u001b[33m/home/kalfasy/repos/filoma/target/debug/build/pyo3-ffi-747a9d93a69eb79b/out           \u001b[0m\u001b[33m \u001b[0m│\n",
       "│\u001b[33m \u001b[0m\u001b[33m/home/kalfasy/repos/filoma/target/debug/build/proc-macro2-4d577003447afa24/out        \u001b[0m\u001b[33m \u001b[0m│\n",
       "│\u001b[33m \u001b[0m\u001b[33m/home/kalfasy/repos/filoma/target/debug/build/pyo3-ffi-8e536f56d2d22bd8/out           \u001b[0m\u001b[33m \u001b[0m│\n",
       "│\u001b[33m \u001b[0m\u001b[33m/home/kalfasy/repos/filoma/target/debug/build/libc-9d68f4abca27c9af/out               \u001b[0m\u001b[33m \u001b[0m│\n",
       "│\u001b[33m \u001b[0m\u001b[33m/home/kalfasy/repos/filoma/target/debug/build/lock_api-96adb08174198570/out           \u001b[0m\u001b[33m \u001b[0m│\n",
       "│\u001b[33m \u001b[0m\u001b[33m/home/kalfasy/repos/filoma/target/debug/build/serde-6690732fba37d144/out              \u001b[0m\u001b[33m \u001b[0m│\n",
       "│\u001b[33m \u001b[0m\u001b[33m/home/kalfasy/repos/filoma/target/debug/build/parking_lot_core-d5ba795b49a036a8/out   \u001b[0m\u001b[33m \u001b[0m│\n",
       "│\u001b[33m \u001b[0m\u001b[33m/home/kalfasy/repos/filoma/target/debug/build/pyo3-ffi-0b1b893f015622ee/out           \u001b[0m\u001b[33m \u001b[0m│\n",
       "│\u001b[33m \u001b[0m\u001b[33m... and 33 more                                                                       \u001b[0m\u001b[33m \u001b[0m│\n",
       "└────────────────────────────────────────────────────────────────────────────────────────┘\n"
      ]
     },
     "metadata": {},
     "output_type": "display_data"
    },
    {
     "data": {
      "text/html": [
       "<pre style=\"white-space:pre;overflow-x:auto;line-height:normal;font-family:Menlo,'DejaVu Sans Mono',consolas,'Courier New',monospace\">\n",
       "</pre>\n"
      ],
      "text/plain": [
       "\n"
      ]
     },
     "metadata": {},
     "output_type": "display_data"
    }
   ],
   "source": [
    "dp1.print_report(analysis)"
   ]
  },
  {
   "cell_type": "markdown",
   "id": "448bc8d6",
   "metadata": {},
   "source": [
    "## 📁 Directory to DataFrame"
   ]
  },
  {
   "cell_type": "code",
   "execution_count": 6,
   "id": "9006315c",
   "metadata": {},
   "outputs": [
    {
     "name": "stderr",
     "output_type": "stream",
     "text": [
      "\u001b[32m2025-09-09 08:30:26.514\u001b[0m | \u001b[34m\u001b[1mDEBUG   \u001b[0m | \u001b[36mfiloma.directories.directory_profiler\u001b[0m:\u001b[36m__init__\u001b[0m:\u001b[36m318\u001b[0m - \u001b[34m\u001b[1mInteractive environment detected, disabling progress bars to avoid conflicts\u001b[0m\n",
      "\u001b[32m2025-09-09 08:30:26.514\u001b[0m | \u001b[1mINFO    \u001b[0m | \u001b[36mfiloma.directories.directory_profiler\u001b[0m:\u001b[36mprobe\u001b[0m:\u001b[36m433\u001b[0m - \u001b[1mStarting directory analysis of '../' using 🦀 Rust (Parallel) implementation\u001b[0m\n",
      "\u001b[32m2025-09-09 08:30:26.675\u001b[0m | \u001b[32m\u001b[1mSUCCESS \u001b[0m | \u001b[36mfiloma.directories.directory_profiler\u001b[0m:\u001b[36mprobe\u001b[0m:\u001b[36m449\u001b[0m - \u001b[32m\u001b[1mDirectory analysis completed in 0.16s - Found 320 items (274 files, 46 folders) using 🦀 Rust (Parallel)\u001b[0m\n"
     ]
    },
    {
     "name": "stdout",
     "output_type": "stream",
     "text": [
      "Found 153 files\n"
     ]
    },
    {
     "data": {
      "text/html": [
       "<div><style>\n",
       ".dataframe > thead > tr,\n",
       ".dataframe > tbody > tr {\n",
       "  text-align: right;\n",
       "  white-space: pre-wrap;\n",
       "}\n",
       "</style>\n",
       "<small>shape: (5, 18)</small><table border=\"1\" class=\"dataframe\"><thead><tr><th>path</th><th>depth</th><th>parent</th><th>name</th><th>stem</th><th>suffix</th><th>size_bytes</th><th>modified_time</th><th>created_time</th><th>is_file</th><th>is_dir</th><th>owner</th><th>group</th><th>mode_str</th><th>inode</th><th>nlink</th><th>sha256</th><th>xattrs</th></tr><tr><td>str</td><td>i64</td><td>str</td><td>str</td><td>str</td><td>str</td><td>i64</td><td>str</td><td>str</td><td>bool</td><td>bool</td><td>str</td><td>str</td><td>str</td><td>i64</td><td>i64</td><td>str</td><td>str</td></tr></thead><tbody><tr><td>&quot;../pyproject.toml&quot;</td><td>1</td><td>&quot;..&quot;</td><td>&quot;pyproject.toml&quot;</td><td>&quot;pyproject&quot;</td><td>&quot;.toml&quot;</td><td>1791</td><td>&quot;2025-09-07 22:46:06&quot;</td><td>&quot;2025-09-07 22:46:06&quot;</td><td>true</td><td>false</td><td>&quot;kalfasy&quot;</td><td>&quot;kalfasy&quot;</td><td>&quot;-rw-rw-r--&quot;</td><td>7579961</td><td>1</td><td>null</td><td>&quot;{}&quot;</td></tr><tr><td>&quot;../scripts&quot;</td><td>1</td><td>&quot;..&quot;</td><td>&quot;scripts&quot;</td><td>&quot;scripts&quot;</td><td>&quot;&quot;</td><td>4096</td><td>&quot;2025-09-05 20:26:25&quot;</td><td>&quot;2025-09-05 20:26:25&quot;</td><td>false</td><td>true</td><td>&quot;kalfasy&quot;</td><td>&quot;kalfasy&quot;</td><td>&quot;drwxrwxr-x&quot;</td><td>7603122</td><td>2</td><td>null</td><td>&quot;{}&quot;</td></tr><tr><td>&quot;../.pytest_cache&quot;</td><td>1</td><td>&quot;..&quot;</td><td>&quot;.pytest_cache&quot;</td><td>&quot;.pytest_cache&quot;</td><td>&quot;&quot;</td><td>4096</td><td>&quot;2025-07-05 22:28:03&quot;</td><td>&quot;2025-07-05 22:28:03&quot;</td><td>false</td><td>true</td><td>&quot;kalfasy&quot;</td><td>&quot;kalfasy&quot;</td><td>&quot;drwxrwxr-x&quot;</td><td>7604845</td><td>3</td><td>null</td><td>&quot;{}&quot;</td></tr><tr><td>&quot;../.vscode&quot;</td><td>1</td><td>&quot;..&quot;</td><td>&quot;.vscode&quot;</td><td>&quot;.vscode&quot;</td><td>&quot;&quot;</td><td>4096</td><td>&quot;2025-07-06 11:11:18&quot;</td><td>&quot;2025-07-06 11:11:18&quot;</td><td>false</td><td>true</td><td>&quot;kalfasy&quot;</td><td>&quot;kalfasy&quot;</td><td>&quot;drwxrwxr-x&quot;</td><td>7591635</td><td>2</td><td>null</td><td>&quot;{}&quot;</td></tr><tr><td>&quot;../Makefile&quot;</td><td>1</td><td>&quot;..&quot;</td><td>&quot;Makefile&quot;</td><td>&quot;Makefile&quot;</td><td>&quot;&quot;</td><td>2827</td><td>&quot;2025-09-07 22:29:37&quot;</td><td>&quot;2025-09-07 22:29:37&quot;</td><td>true</td><td>false</td><td>&quot;kalfasy&quot;</td><td>&quot;kalfasy&quot;</td><td>&quot;-rw-rw-r--&quot;</td><td>7603119</td><td>1</td><td>null</td><td>&quot;{}&quot;</td></tr></tbody></table></div>"
      ],
      "text/plain": [
       "shape: (5, 18)\n",
       "┌───────────────────┬───────┬────────┬────────────────┬───┬─────────┬───────┬────────┬────────┐\n",
       "│ path              ┆ depth ┆ parent ┆ name           ┆ … ┆ inode   ┆ nlink ┆ sha256 ┆ xattrs │\n",
       "│ ---               ┆ ---   ┆ ---    ┆ ---            ┆   ┆ ---     ┆ ---   ┆ ---    ┆ ---    │\n",
       "│ str               ┆ i64   ┆ str    ┆ str            ┆   ┆ i64     ┆ i64   ┆ str    ┆ str    │\n",
       "╞═══════════════════╪═══════╪════════╪════════════════╪═══╪═════════╪═══════╪════════╪════════╡\n",
       "│ ../pyproject.toml ┆ 1     ┆ ..     ┆ pyproject.toml ┆ … ┆ 7579961 ┆ 1     ┆ null   ┆ {}     │\n",
       "│ ../scripts        ┆ 1     ┆ ..     ┆ scripts        ┆ … ┆ 7603122 ┆ 2     ┆ null   ┆ {}     │\n",
       "│ ../.pytest_cache  ┆ 1     ┆ ..     ┆ .pytest_cache  ┆ … ┆ 7604845 ┆ 3     ┆ null   ┆ {}     │\n",
       "│ ../.vscode        ┆ 1     ┆ ..     ┆ .vscode        ┆ … ┆ 7591635 ┆ 2     ┆ null   ┆ {}     │\n",
       "│ ../Makefile       ┆ 1     ┆ ..     ┆ Makefile       ┆ … ┆ 7603119 ┆ 1     ┆ null   ┆ {}     │\n",
       "└───────────────────┴───────┴────────┴────────────────┴───┴─────────┴───────┴────────┴────────┘"
      ]
     },
     "execution_count": 6,
     "metadata": {},
     "output_type": "execute_result"
    }
   ],
   "source": [
    "from filoma import probe_to_df\n",
    "\n",
    "df = probe_to_df(\"../\", max_depth=2, enrich=True)\n",
    "print(f\"Found {len(df)} files\")\n",
    "df.head()"
   ]
  },
  {
   "cell_type": "markdown",
   "id": "6e28af33",
   "metadata": {},
   "source": [
    "## ⚡ DataFrame enrichment"
   ]
  },
  {
   "cell_type": "code",
   "execution_count": null,
   "id": "a611ca15",
   "metadata": {},
   "outputs": [
    {
     "name": "stderr",
     "output_type": "stream",
     "text": [
      "\u001b[32m2025-09-09 08:34:29.771\u001b[0m | \u001b[34m\u001b[1mDEBUG   \u001b[0m | \u001b[36mfiloma.directories.directory_profiler\u001b[0m:\u001b[36m__init__\u001b[0m:\u001b[36m318\u001b[0m - \u001b[34m\u001b[1mInteractive environment detected, disabling progress bars to avoid conflicts\u001b[0m\n",
      "\u001b[32m2025-09-09 08:34:29.771\u001b[0m | \u001b[1mINFO    \u001b[0m | \u001b[36mfiloma.directories.directory_profiler\u001b[0m:\u001b[36mprobe\u001b[0m:\u001b[36m433\u001b[0m - \u001b[1mStarting directory analysis of '../' using 🦀 Rust (Parallel) implementation\u001b[0m\n",
      "\u001b[32m2025-09-09 08:34:30.471\u001b[0m | \u001b[32m\u001b[1mSUCCESS \u001b[0m | \u001b[36mfiloma.directories.directory_profiler\u001b[0m:\u001b[36mprobe\u001b[0m:\u001b[36m449\u001b[0m - \u001b[32m\u001b[1mDirectory analysis completed in 0.70s - Found 54,402 items (51,224 files, 3,178 folders) using 🦀 Rust (Parallel)\u001b[0m\n"
     ]
    }
   ],
   "source": [
    "from filoma.directories import DirectoryProfiler, DirectoryProfilerConfig\n",
    "\n",
    "cfg = DirectoryProfilerConfig(build_dataframe=True, use_fd=False, return_absolute_paths=True, threads=8)\n",
    "dprof = DirectoryProfiler(cfg)\n",
    "res = dprof.probe(\"../\")\n",
    "df = res.dataframe.enrich()"
   ]
  },
  {
   "cell_type": "code",
   "execution_count": 11,
   "id": "f50189a4",
   "metadata": {},
   "outputs": [
    {
     "data": {
      "text/html": [
       "<div><style>\n",
       ".dataframe > thead > tr,\n",
       ".dataframe > tbody > tr {\n",
       "  text-align: right;\n",
       "  white-space: pre-wrap;\n",
       "}\n",
       "</style>\n",
       "<small>shape: (29_131, 18)</small><table border=\"1\" class=\"dataframe\"><thead><tr><th>path</th><th>parent</th><th>name</th><th>stem</th><th>suffix</th><th>size_bytes</th><th>modified_time</th><th>created_time</th><th>is_file</th><th>is_dir</th><th>owner</th><th>group</th><th>mode_str</th><th>inode</th><th>nlink</th><th>sha256</th><th>xattrs</th><th>depth</th></tr><tr><td>str</td><td>str</td><td>str</td><td>str</td><td>str</td><td>i64</td><td>str</td><td>str</td><td>bool</td><td>bool</td><td>str</td><td>str</td><td>str</td><td>i64</td><td>i64</td><td>str</td><td>str</td><td>i64</td></tr></thead><tbody><tr><td>&quot;../pyproject.toml&quot;</td><td>&quot;..&quot;</td><td>&quot;pyproject.toml&quot;</td><td>&quot;pyproject&quot;</td><td>&quot;.toml&quot;</td><td>1791</td><td>&quot;2025-09-07 22:46:06&quot;</td><td>&quot;2025-09-07 22:46:06&quot;</td><td>true</td><td>false</td><td>&quot;kalfasy&quot;</td><td>&quot;kalfasy&quot;</td><td>&quot;-rw-rw-r--&quot;</td><td>7579961</td><td>1</td><td>null</td><td>&quot;{}&quot;</td><td>1</td></tr><tr><td>&quot;../scripts&quot;</td><td>&quot;..&quot;</td><td>&quot;scripts&quot;</td><td>&quot;scripts&quot;</td><td>&quot;&quot;</td><td>4096</td><td>&quot;2025-09-05 20:26:25&quot;</td><td>&quot;2025-09-05 20:26:25&quot;</td><td>false</td><td>true</td><td>&quot;kalfasy&quot;</td><td>&quot;kalfasy&quot;</td><td>&quot;drwxrwxr-x&quot;</td><td>7603122</td><td>2</td><td>null</td><td>&quot;{}&quot;</td><td>1</td></tr><tr><td>&quot;../.pytest_cache&quot;</td><td>&quot;..&quot;</td><td>&quot;.pytest_cache&quot;</td><td>&quot;.pytest_cache&quot;</td><td>&quot;&quot;</td><td>4096</td><td>&quot;2025-07-05 22:28:03&quot;</td><td>&quot;2025-07-05 22:28:03&quot;</td><td>false</td><td>true</td><td>&quot;kalfasy&quot;</td><td>&quot;kalfasy&quot;</td><td>&quot;drwxrwxr-x&quot;</td><td>7604845</td><td>3</td><td>null</td><td>&quot;{}&quot;</td><td>1</td></tr><tr><td>&quot;../.vscode&quot;</td><td>&quot;..&quot;</td><td>&quot;.vscode&quot;</td><td>&quot;.vscode&quot;</td><td>&quot;&quot;</td><td>4096</td><td>&quot;2025-07-06 11:11:18&quot;</td><td>&quot;2025-07-06 11:11:18&quot;</td><td>false</td><td>true</td><td>&quot;kalfasy&quot;</td><td>&quot;kalfasy&quot;</td><td>&quot;drwxrwxr-x&quot;</td><td>7591635</td><td>2</td><td>null</td><td>&quot;{}&quot;</td><td>1</td></tr><tr><td>&quot;../Makefile&quot;</td><td>&quot;..&quot;</td><td>&quot;Makefile&quot;</td><td>&quot;Makefile&quot;</td><td>&quot;&quot;</td><td>2827</td><td>&quot;2025-09-07 22:29:37&quot;</td><td>&quot;2025-09-07 22:29:37&quot;</td><td>true</td><td>false</td><td>&quot;kalfasy&quot;</td><td>&quot;kalfasy&quot;</td><td>&quot;-rw-rw-r--&quot;</td><td>7603119</td><td>1</td><td>null</td><td>&quot;{}&quot;</td><td>1</td></tr><tr><td>&hellip;</td><td>&hellip;</td><td>&hellip;</td><td>&hellip;</td><td>&hellip;</td><td>&hellip;</td><td>&hellip;</td><td>&hellip;</td><td>&hellip;</td><td>&hellip;</td><td>&hellip;</td><td>&hellip;</td><td>&hellip;</td><td>&hellip;</td><td>&hellip;</td><td>&hellip;</td><td>&hellip;</td><td>&hellip;</td></tr><tr><td>&quot;../.ruff_cache/0.11.2/73586650…</td><td>&quot;../.ruff_cache/0.11.2&quot;</td><td>&quot;7358665038973574044&quot;</td><td>&quot;7358665038973574044&quot;</td><td>&quot;&quot;</td><td>163</td><td>&quot;2025-09-07 22:09:03&quot;</td><td>&quot;2025-09-07 22:09:03&quot;</td><td>true</td><td>false</td><td>&quot;kalfasy&quot;</td><td>&quot;kalfasy&quot;</td><td>&quot;-rw-------&quot;</td><td>7600957</td><td>1</td><td>null</td><td>&quot;{}&quot;</td><td>3</td></tr><tr><td>&quot;../.ruff_cache/0.11.2/17256147…</td><td>&quot;../.ruff_cache/0.11.2&quot;</td><td>&quot;17256147029910247496&quot;</td><td>&quot;17256147029910247496&quot;</td><td>&quot;&quot;</td><td>183</td><td>&quot;2025-09-07 22:09:03&quot;</td><td>&quot;2025-09-07 22:09:03&quot;</td><td>true</td><td>false</td><td>&quot;kalfasy&quot;</td><td>&quot;kalfasy&quot;</td><td>&quot;-rw-------&quot;</td><td>7600948</td><td>1</td><td>null</td><td>&quot;{}&quot;</td><td>3</td></tr><tr><td>&quot;../.ruff_cache/0.11.2/18404585…</td><td>&quot;../.ruff_cache/0.11.2&quot;</td><td>&quot;18404585368784669101&quot;</td><td>&quot;18404585368784669101&quot;</td><td>&quot;&quot;</td><td>1233</td><td>&quot;2025-09-07 22:13:49&quot;</td><td>&quot;2025-09-07 22:13:49&quot;</td><td>true</td><td>false</td><td>&quot;kalfasy&quot;</td><td>&quot;kalfasy&quot;</td><td>&quot;-rw-------&quot;</td><td>7601093</td><td>1</td><td>null</td><td>&quot;{}&quot;</td><td>3</td></tr><tr><td>&quot;../__pycache__/debug_test.cpyt…</td><td>&quot;../__pycache__&quot;</td><td>&quot;debug_test.cpython-311-pytest-…</td><td>&quot;debug_test.cpython-311-pytest-…</td><td>&quot;.pyc&quot;</td><td>3689</td><td>&quot;2025-07-05 23:01:37&quot;</td><td>&quot;2025-07-05 23:01:37&quot;</td><td>true</td><td>false</td><td>&quot;kalfasy&quot;</td><td>&quot;kalfasy&quot;</td><td>&quot;-rw-rw-r--&quot;</td><td>7602074</td><td>1</td><td>null</td><td>&quot;{}&quot;</td><td>2</td></tr><tr><td>&quot;../__pycache__/test_analyzer.c…</td><td>&quot;../__pycache__&quot;</td><td>&quot;test_analyzer.cpython-311-pyte…</td><td>&quot;test_analyzer.cpython-311-pyte…</td><td>&quot;.pyc&quot;</td><td>4940</td><td>&quot;2025-07-06 10:56:45&quot;</td><td>&quot;2025-07-06 10:56:45&quot;</td><td>true</td><td>false</td><td>&quot;kalfasy&quot;</td><td>&quot;kalfasy&quot;</td><td>&quot;-rw-rw-r--&quot;</td><td>7608138</td><td>1</td><td>null</td><td>&quot;{}&quot;</td><td>2</td></tr></tbody></table></div>"
      ],
      "text/plain": [
       "filoma.DataFrame with 29131 rows\n",
       "shape: (29_131, 18)\n",
       "┌───────────────┬──────────────┬──────────────┬──────────────┬───┬───────┬────────┬────────┬───────┐\n",
       "│ path          ┆ parent       ┆ name         ┆ stem         ┆ … ┆ nlink ┆ sha256 ┆ xattrs ┆ depth │\n",
       "│ ---           ┆ ---          ┆ ---          ┆ ---          ┆   ┆ ---   ┆ ---    ┆ ---    ┆ ---   │\n",
       "│ str           ┆ str          ┆ str          ┆ str          ┆   ┆ i64   ┆ str    ┆ str    ┆ i64   │\n",
       "╞═══════════════╪══════════════╪══════════════╪══════════════╪═══╪═══════╪════════╪════════╪═══════╡\n",
       "│ ../pyproject. ┆ ..           ┆ pyproject.to ┆ pyproject    ┆ … ┆ 1     ┆ null   ┆ {}     ┆ 1     │\n",
       "│ toml          ┆              ┆ ml           ┆              ┆   ┆       ┆        ┆        ┆       │\n",
       "│ ../scripts    ┆ ..           ┆ scripts      ┆ scripts      ┆ … ┆ 2     ┆ null   ┆ {}     ┆ 1     │\n",
       "│ ../.pytest_ca ┆ ..           ┆ .pytest_cach ┆ .pytest_cach ┆ … ┆ 3     ┆ null   ┆ {}     ┆ 1     │\n",
       "│ che           ┆              ┆ e            ┆ e            ┆   ┆       ┆        ┆        ┆       │\n",
       "│ ../.vscode    ┆ ..           ┆ .vscode      ┆ .vscode      ┆ … ┆ 2     ┆ null   ┆ {}     ┆ 1     │\n",
       "│ ../Makefile   ┆ ..           ┆ Makefile     ┆ Makefile     ┆ … ┆ 1     ┆ null   ┆ {}     ┆ 1     │\n",
       "│ …             ┆ …            ┆ …            ┆ …            ┆ … ┆ …     ┆ …      ┆ …      ┆ …     │\n",
       "│ ../.ruff_cach ┆ ../.ruff_cac ┆ 735866503897 ┆ 735866503897 ┆ … ┆ 1     ┆ null   ┆ {}     ┆ 3     │\n",
       "│ e/0.11.2/7358 ┆ he/0.11.2    ┆ 3574044      ┆ 3574044      ┆   ┆       ┆        ┆        ┆       │\n",
       "│ 6650…         ┆              ┆              ┆              ┆   ┆       ┆        ┆        ┆       │\n",
       "│ ../.ruff_cach ┆ ../.ruff_cac ┆ 172561470299 ┆ 172561470299 ┆ … ┆ 1     ┆ null   ┆ {}     ┆ 3     │\n",
       "│ e/0.11.2/1725 ┆ he/0.11.2    ┆ 10247496     ┆ 10247496     ┆   ┆       ┆        ┆        ┆       │\n",
       "│ 6147…         ┆              ┆              ┆              ┆   ┆       ┆        ┆        ┆       │\n",
       "│ ../.ruff_cach ┆ ../.ruff_cac ┆ 184045853687 ┆ 184045853687 ┆ … ┆ 1     ┆ null   ┆ {}     ┆ 3     │\n",
       "│ e/0.11.2/1840 ┆ he/0.11.2    ┆ 84669101     ┆ 84669101     ┆   ┆       ┆        ┆        ┆       │\n",
       "│ 4585…         ┆              ┆              ┆              ┆   ┆       ┆        ┆        ┆       │\n",
       "│ ../__pycache_ ┆ ../__pycache ┆ debug_test.c ┆ debug_test.c ┆ … ┆ 1     ┆ null   ┆ {}     ┆ 2     │\n",
       "│ _/debug_test. ┆ __           ┆ python-311-p ┆ python-311-p ┆   ┆       ┆        ┆        ┆       │\n",
       "│ cpyt…         ┆              ┆ ytest-…      ┆ ytest-…      ┆   ┆       ┆        ┆        ┆       │\n",
       "│ ../__pycache_ ┆ ../__pycache ┆ test_analyze ┆ test_analyze ┆ … ┆ 1     ┆ null   ┆ {}     ┆ 2     │\n",
       "│ _/test_analyz ┆ __           ┆ r.cpython-31 ┆ r.cpython-31 ┆   ┆       ┆        ┆        ┆       │\n",
       "│ er.c…         ┆              ┆ 1-pyte…      ┆ 1-pyte…      ┆   ┆       ┆        ┆        ┆       │\n",
       "└───────────────┴──────────────┴──────────────┴──────────────┴───┴───────┴────────┴────────┴───────┘"
      ]
     },
     "execution_count": 11,
     "metadata": {},
     "output_type": "execute_result"
    }
   ],
   "source": [
    "df"
   ]
  },
  {
   "cell_type": "code",
   "execution_count": null,
   "id": "336e7ef4",
   "metadata": {},
   "outputs": [
    {
     "data": {
      "text/plain": [
       "'/home/kalfasy/repos/filoma/docs'"
      ]
     },
     "execution_count": 9,
     "metadata": {},
     "output_type": "execute_result"
    }
   ],
   "source": [
    "df.to_polars()[\"parent\"][0]"
   ]
  },
  {
   "cell_type": "code",
   "execution_count": 10,
   "id": "934aaa40",
   "metadata": {},
   "outputs": [
    {
     "ename": "ValueError",
     "evalue": "data must be a Polars DataFrame, list of paths, or None",
     "output_type": "error",
     "traceback": [
      "\u001b[31m---------------------------------------------------------------------------\u001b[39m",
      "\u001b[31mValueError\u001b[39m                                Traceback (most recent call last)",
      "\u001b[36mCell\u001b[39m\u001b[36m \u001b[39m\u001b[32mIn[10]\u001b[39m\u001b[32m, line 3\u001b[39m\n\u001b[32m      1\u001b[39m \u001b[38;5;28;01mfrom\u001b[39;00m\u001b[38;5;250m \u001b[39m\u001b[34;01mfiloma\u001b[39;00m\u001b[38;5;250m \u001b[39m\u001b[38;5;28;01mimport\u001b[39;00m DataFrame\n\u001b[32m----> \u001b[39m\u001b[32m3\u001b[39m wrapper = \u001b[43mDataFrame\u001b[49m\u001b[43m(\u001b[49m\u001b[43mdf\u001b[49m\u001b[43m)\u001b[49m\n\u001b[32m      4\u001b[39m wrapper.df.head()\n",
      "\u001b[36mFile \u001b[39m\u001b[32m~/repos/filoma/src/filoma/dataframe.py:81\u001b[39m, in \u001b[36mDataFrame.__init__\u001b[39m\u001b[34m(self, data)\u001b[39m\n\u001b[32m     79\u001b[39m     \u001b[38;5;28mself\u001b[39m._df = pl.DataFrame({\u001b[33m\"\u001b[39m\u001b[33mpath\u001b[39m\u001b[33m\"\u001b[39m: paths})\n\u001b[32m     80\u001b[39m \u001b[38;5;28;01melse\u001b[39;00m:\n\u001b[32m---> \u001b[39m\u001b[32m81\u001b[39m     \u001b[38;5;28;01mraise\u001b[39;00m \u001b[38;5;167;01mValueError\u001b[39;00m(\u001b[33m\"\u001b[39m\u001b[33mdata must be a Polars DataFrame, list of paths, or None\u001b[39m\u001b[33m\"\u001b[39m)\n\u001b[32m     82\u001b[39m \u001b[38;5;66;03m# Cache for an optional pandas conversion to avoid repeated conversion cost\u001b[39;00m\n\u001b[32m     83\u001b[39m \u001b[38;5;28mself\u001b[39m._pd_cache = \u001b[38;5;28;01mNone\u001b[39;00m\n",
      "\u001b[31mValueError\u001b[39m: data must be a Polars DataFrame, list of paths, or None"
     ]
    }
   ],
   "source": [
    "from filoma import DataFrame\n",
    "\n",
    "wrapper = DataFrame(df)\n",
    "wrapper.df.head()"
   ]
  },
  {
   "cell_type": "markdown",
   "id": "85423605",
   "metadata": {},
   "source": [
    "## 🤖 ML-ready splits"
   ]
  },
  {
   "cell_type": "code",
   "execution_count": null,
   "id": "d27f6239",
   "metadata": {},
   "outputs": [],
   "source": [
    "from filoma import ml\n",
    "\n",
    "# Split into train/val/test sets with 70% train, 15% val, 15% test\n",
    "train, val, test = ml.auto_split(df, train_val_test=(70, 15, 15), seed=42, include_all_parts=True)\n",
    "print(f\"Split sizes: {len(train)}, {len(val)}, {len(test)}\")\n",
    "train.head(3)"
   ]
  },
  {
   "cell_type": "markdown",
   "id": "0765315b",
   "metadata": {},
   "source": [
    "## 📄 Single file probe"
   ]
  },
  {
   "cell_type": "code",
   "execution_count": null,
   "id": "d34c8f36",
   "metadata": {},
   "outputs": [],
   "source": [
    "from filoma import probe_file\n",
    "\n",
    "file_info = probe_file(\"../README.md\")\n",
    "print(f\"Path: {file_info.path}\")\n",
    "print(f\"Size: {file_info.size}\")\n",
    "print(f\"Modified: {file_info.modified}\")"
   ]
  },
  {
   "cell_type": "markdown",
   "id": "acdb71a7",
   "metadata": {},
   "source": [
    "## 🖼️ Image analysis"
   ]
  },
  {
   "cell_type": "code",
   "execution_count": null,
   "id": "494c733c",
   "metadata": {},
   "outputs": [],
   "source": [
    "from filoma import probe_image\n",
    "\n",
    "img = probe_image(\"../images/logo.png\")\n",
    "print(f\"Type: {img.file_type}\")\n",
    "print(f\"Shape: {img.shape}\")\n",
    "print(f\"Data range: {img.min} - {img.max}\")"
   ]
  }
 ],
 "metadata": {
  "kernelspec": {
   "display_name": "filoma (3.11.11)",
   "language": "python",
   "name": "python3"
  },
  "language_info": {
   "codemirror_mode": {
    "name": "ipython",
    "version": 3
   },
   "file_extension": ".py",
   "mimetype": "text/x-python",
   "name": "python",
   "nbconvert_exporter": "python",
   "pygments_lexer": "ipython3",
   "version": "3.11.11"
  }
 },
 "nbformat": 4,
 "nbformat_minor": 5
}
