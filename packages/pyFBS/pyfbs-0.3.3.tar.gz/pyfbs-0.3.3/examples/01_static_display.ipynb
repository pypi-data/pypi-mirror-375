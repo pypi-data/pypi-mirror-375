{
 "cells": [
  {
   "cell_type": "markdown",
   "metadata": {},
   "source": [
    "# 01 Static display\n",
    "The positions and orientations of sensors, impacts, channels and virtual points can be simply visualized with the pyFBS. Additionaly, arbitrary structures can be added to display. For the 3D visualization a python package [PyVista](https://docs.pyvista.org/index.html) is used."
   ]
  },
  {
   "cell_type": "code",
   "execution_count": null,
   "metadata": {},
   "outputs": [],
   "source": [
    "import pyFBS"
   ]
  },
  {
   "cell_type": "markdown",
   "metadata": {},
   "source": [
    "## 3D View\n",
    "First open 3Dviewer in the background, by default a CSYS is placed in the origin and an orientation box is placed in the bottom left corner."
   ]
  },
  {
   "cell_type": "code",
   "execution_count": null,
   "metadata": {},
   "outputs": [],
   "source": [
    "view3D = pyFBS.view3D()"
   ]
  },
  {
   "cell_type": "markdown",
   "metadata": {},
   "source": [
    "#### Example datasets\n",
    "In the `pyFBS` two example datasets are available for download, so you can try out the basic working examples directly after installing the package. "
   ]
  },
  {
   "cell_type": "code",
   "execution_count": null,
   "metadata": {},
   "outputs": [],
   "source": [
    "pyFBS.download_lab_testbench()"
   ]
  },
  {
   "cell_type": "markdown",
   "metadata": {},
   "source": [
    "#### Adding structures\n",
    "Add a structure to the 3D view (currently only STL files are supported)."
   ]
  },
  {
   "cell_type": "code",
   "execution_count": null,
   "metadata": {},
   "outputs": [],
   "source": [
    "stl_dir_A = r\"./lab_testbench/STL/A.stl\"\n",
    "view3D.add_stl(stl_dir_A,color = \"#FB6D4C\",name = \"A\");\n",
    "\n",
    "stl_dir_B = r\"./lab_testbench/STL/B.stl\"\n",
    "view3D.add_stl(stl_dir_B,color = \"#83afd2\",name = \"B\");"
   ]
  },
  {
   "cell_type": "markdown",
   "metadata": {},
   "source": [
    "### Integration with pandas\n",
    "The positional and orientation information on degrees of freedom in `pyFBS` is obtained from the `pd.DataFrame`. "
   ]
  },
  {
   "cell_type": "code",
   "execution_count": null,
   "metadata": {},
   "outputs": [],
   "source": [
    "import pandas as pd"
   ]
  },
  {
   "cell_type": "markdown",
   "metadata": {},
   "source": [
    "#### Accelerometers\n",
    "The `pd.DataFrame` can be created directly within `pyFBS` (see the example *02_interactive_display.ipynb*) or can be loaded from an Excel file."
   ]
  },
  {
   "cell_type": "code",
   "execution_count": null,
   "metadata": {},
   "outputs": [],
   "source": [
    "pos_xlsx = r\"./lab_testbench/Measurements/ammeasurements.xlsx\"\n",
    "df_acc = pd.read_excel(pos_xlsx, sheet_name='Sensors_AB')\n",
    "df_acc"
   ]
  },
  {
   "cell_type": "markdown",
   "metadata": {},
   "source": [
    "Accelerometers can be simply added to the 3D view from the predefined `pd.DataFrame` file together with labels:"
   ]
  },
  {
   "cell_type": "code",
   "execution_count": null,
   "metadata": {},
   "outputs": [],
   "source": [
    "view3D.show_acc(df_acc)\n",
    "view3D.label_acc(df_acc,font_size = 20)"
   ]
  },
  {
   "cell_type": "markdown",
   "metadata": {},
   "source": [
    "#### Channels\n",
    "Channels can simply be added to the 3D view from the predefined `pd.DataFrame` file together with labels:"
   ]
  },
  {
   "cell_type": "code",
   "execution_count": null,
   "metadata": {},
   "outputs": [],
   "source": [
    "df = pd.read_excel(pos_xlsx, sheet_name='Channels_AB')\n",
    "\n",
    "view3D.show_chn(df)\n",
    "#view3D.label_chn(df)"
   ]
  },
  {
   "cell_type": "markdown",
   "metadata": {},
   "source": [
    "#### Impacts\n",
    "Impacts can simply be added to the 3D view from the predefined `pd.DataFrame` file together with labels:"
   ]
  },
  {
   "cell_type": "code",
   "execution_count": null,
   "metadata": {},
   "outputs": [],
   "source": [
    "df = pd.read_excel(pos_xlsx, sheet_name='Impacts_AB')\n",
    "\n",
    "view3D.show_imp(df)\n",
    "#view3D.label_imp(df)"
   ]
  },
  {
   "cell_type": "markdown",
   "metadata": {},
   "source": [
    "#### Virtual Points\n",
    "Virtual points can simply be added to the 3D view from the predefined `pd.DataFrame` file together with labels (for more information on the *virtual point*, refer to the example *04_VPT.ipynb* or check the documentation): "
   ]
  },
  {
   "cell_type": "code",
   "execution_count": null,
   "metadata": {},
   "outputs": [],
   "source": [
    "df = pd.read_excel(pos_xlsx, sheet_name='VP_Channels')\n",
    "\n",
    "view3D.show_vp(df)\n",
    "view3D.label_vp(df)"
   ]
  },
  {
   "cell_type": "markdown",
   "metadata": {},
   "source": [
    "#### Additional commands\n",
    "\n",
    "The 3D viewer can be cleared by a simple command."
   ]
  },
  {
   "cell_type": "code",
   "execution_count": null,
   "metadata": {},
   "outputs": [],
   "source": [
    "# view3D.plot.clear()"
   ]
  }
 ],
 "metadata": {
  "kernelspec": {
   "display_name": "Python 3",
   "language": "python",
   "name": "python3"
  },
  "language_info": {
   "codemirror_mode": {
    "name": "ipython",
    "version": 3
   },
   "file_extension": ".py",
   "mimetype": "text/x-python",
   "name": "python",
   "nbconvert_exporter": "python",
   "pygments_lexer": "ipython3",
   "version": "3.8.5"
  }
 },
 "nbformat": 4,
 "nbformat_minor": 4
}
