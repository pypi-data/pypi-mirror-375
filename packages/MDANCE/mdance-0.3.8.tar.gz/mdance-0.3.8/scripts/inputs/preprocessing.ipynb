{
 "cells": [
  {
   "cell_type": "markdown",
   "metadata": {},
   "source": [
    "# Preprocessing of the Molecular Dynamics Trajectories"
   ]
  },
  {
   "cell_type": "markdown",
   "metadata": {},
   "source": [
    "#### Imports\n",
    "* [numpy](https://numpy.org/) for manipulating and saving arrays.\n",
    "* `gen_traj_numpy` for using the [MDAnalysis](https://www.mdanalysis.org/) library to read the trajectories and save them as numpy arrays."
   ]
  },
  {
   "cell_type": "code",
   "execution_count": 1,
   "metadata": {},
   "outputs": [
    {
     "name": "stderr",
     "output_type": "stream",
     "text": [
      "c:\\Users\\aestr\\AppData\\Local\\Programs\\Python\\Python312\\Lib\\site-packages\\tqdm\\auto.py:21: TqdmWarning: IProgress not found. Please update jupyter and ipywidgets. See https://ipywidgets.readthedocs.io/en/stable/user_install.html\n",
      "  from .autonotebook import tqdm as notebook_tqdm\n"
     ]
    }
   ],
   "source": [
    "import numpy as np\n",
    "\n",
    "from mdance.inputs.preprocess import gen_traj_numpy\n",
    "from mdance import data"
   ]
  },
  {
   "cell_type": "markdown",
   "metadata": {},
   "source": [
    "#### Inputs\n",
    "* `input_top` is the path to the topology file. Check [here](https://userguide.mdanalysis.org/1.0.0/formats/index.html) for all accepted formats.\n",
    "* `input_traj` is the path to the trajectory file. Check [here](https://userguide.mdanalysis.org/1.0.0/formats/index.html) for all accepted formats.\n",
    "    * **The trajectory file should be aligned and centered beforehand if needed!**\n",
    "* `output_name` is the name of the output file. The output file will be saved as `{output_name}.npy` for faster loading in the future.\n",
    "* `atomSelection` is the atom selection used for clustering that must be compatible with the [MDAnalysis Atom Selections Language](https://userguide.mdanalysis.org/stable/selections.html).\n",
    "\n",
    "`gen_traj_numpy` will convert the trajectory to a numpy array with the shape (n_frames, n_atoms $\\times$ 3) for comparison purposes."
   ]
  },
  {
   "cell_type": "code",
   "execution_count": 2,
   "metadata": {},
   "outputs": [
    {
     "name": "stderr",
     "output_type": "stream",
     "text": [
      "c:\\Users\\aestr\\AppData\\Local\\Programs\\Python\\Python312\\Lib\\site-packages\\MDAnalysis\\topology\\PDBParser.py:331: UserWarning: Element information is missing, elements attribute will not be populated. If needed these can be guessed using MDAnalysis.topology.guessers.\n",
      "  warnings.warn(\"Element information is missing, elements attribute \"\n",
      "c:\\Users\\aestr\\AppData\\Local\\Programs\\Python\\Python312\\Lib\\site-packages\\MDAnalysis\\coordinates\\DCD.py:165: DeprecationWarning: DCDReader currently makes independent timesteps by copying self.ts while other readers update self.ts inplace. This behavior will be changed in 3.0 to be the same as other readers. Read more at https://github.com/MDAnalysis/mdanalysis/issues/3889 to learn if this change in behavior might affect you.\n",
      "  warnings.warn(\"DCDReader currently makes independent timesteps\"\n"
     ]
    },
    {
     "name": "stdout",
     "output_type": "stream",
     "text": [
      "Number of atoms in trajectory: 217\n",
      "Number of frames in trajectory: 6001\n",
      "Number of atoms in selection: 50\n"
     ]
    }
   ],
   "source": [
    "input_top = data.top\n",
    "input_traj = data.traj\n",
    "output_base_name = 'backbone'\n",
    "atomSelection = 'resid 3 to 12 and name N CA C O H'\n",
    "\n",
    "traj_numpy = gen_traj_numpy(input_top, input_traj, atomSelection)"
   ]
  },
  {
   "cell_type": "markdown",
   "metadata": {},
   "source": [
    "#### Outputs\n",
    "The output is a numpy array of shape (n_frames, n_atoms $\\times$ 3)."
   ]
  },
  {
   "cell_type": "code",
   "execution_count": 3,
   "metadata": {},
   "outputs": [],
   "source": [
    "output_name = output_base_name + '.npy'\n",
    "np.save(output_name, traj_numpy)"
   ]
  }
 ],
 "metadata": {
  "kernelspec": {
   "display_name": "westpa-2022.02",
   "language": "python",
   "name": "python3"
  },
  "language_info": {
   "codemirror_mode": {
    "name": "ipython",
    "version": 3
   },
   "file_extension": ".py",
   "mimetype": "text/x-python",
   "name": "python",
   "nbconvert_exporter": "python",
   "pygments_lexer": "ipython3",
   "version": "3.12.4"
  },
  "orig_nbformat": 4
 },
 "nbformat": 4,
 "nbformat_minor": 2
}
