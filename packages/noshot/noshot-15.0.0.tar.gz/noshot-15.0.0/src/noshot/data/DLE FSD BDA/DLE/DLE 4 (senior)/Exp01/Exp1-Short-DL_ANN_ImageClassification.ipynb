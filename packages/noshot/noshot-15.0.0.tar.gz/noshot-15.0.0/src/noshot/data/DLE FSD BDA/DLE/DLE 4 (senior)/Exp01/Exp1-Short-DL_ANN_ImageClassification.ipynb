{
 "cells": [
  {
   "cell_type": "markdown",
   "id": "07db0828",
   "metadata": {},
   "source": [
    "# Train a deep neural network for an Image classification task using Bean leaf dataset\n",
    "\n",
    "**Dataset**: <https://www.kaggle.com/datasets/prakharrastogi534/bean-leaf-dataset>"
   ]
  },
  {
   "cell_type": "code",
   "execution_count": null,
   "id": "08d18c5b-917f-44eb-8051-d23126b7770a",
   "metadata": {
    "id": "08d18c5b-917f-44eb-8051-d23126b7770a",
    "outputId": "808529f3-3488-433d-95e4-a53dd0229de7"
   },
   "outputs": [],
   "source": [
    "import tensorflow as tf\n",
    "import tensorflow as tf\n",
    "from tensorflow.keras import layers, models\n",
    "from tensorflow.keras.preprocessing.image import ImageDataGenerator\n",
    "import matplotlib.pyplot as plt\n",
    "import seaborn as sns\n",
    "import numpy as np\n",
    "from sklearn.metrics import classification_report, confusion_matrix"
   ]
  },
  {
   "cell_type": "code",
   "execution_count": null,
   "id": "d0f0c066-4d98-43f4-9ece-f12da6c4ff94",
   "metadata": {
    "id": "d0f0c066-4d98-43f4-9ece-f12da6c4ff94"
   },
   "outputs": [],
   "source": [
    "train_dir=r'C:\\Users\\User\\Documents\\Jupyternotebookprgs\\bean-leaf-dataset\\train\\train'\n",
    "validation_dir=r'C:\\Users\\User\\Documents\\Jupyternotebookprgs\\bean-leaf-dataset\\validation\\validation'\n",
    "test_dir=r'C:\\Users\\User\\Documents\\Jupyternotebookprgs\\bean-leaf-dataset\\test\\test'"
   ]
  },
  {
   "cell_type": "code",
   "execution_count": null,
   "id": "be68a49f-7284-4481-a776-742218a276a7",
   "metadata": {
    "id": "be68a49f-7284-4481-a776-742218a276a7"
   },
   "outputs": [],
   "source": [
    "train_datagen = ImageDataGenerator(\n",
    "    rescale=1./255,\n",
    "    rotation_range=40,\n",
    "    width_shift_range=0.2,\n",
    "    height_shift_range=0.2,\n",
    "    shear_range=0.2,\n",
    "    zoom_range=0.2,\n",
    "    horizontal_flip=True,\n",
    "    fill_mode='nearest'\n",
    ")"
   ]
  },
  {
   "cell_type": "code",
   "execution_count": null,
   "id": "25f04809-f073-4748-a87c-0771b6b89f9a",
   "metadata": {
    "id": "25f04809-f073-4748-a87c-0771b6b89f9a"
   },
   "outputs": [],
   "source": [
    "validation_datagen = ImageDataGenerator(rescale=1./255)\n",
    "test_datagen = ImageDataGenerator(rescale=1./255)"
   ]
  },
  {
   "cell_type": "code",
   "execution_count": null,
   "id": "36a6ed4a-e961-47e8-9225-292e7298cb8d",
   "metadata": {
    "id": "36a6ed4a-e961-47e8-9225-292e7298cb8d",
    "outputId": "e7c04f32-2a1e-4b1a-9607-2ca02d1173c4"
   },
   "outputs": [],
   "source": [
    "train_generator = train_datagen.flow_from_directory(\n",
    "    train_dir, target_size=(150, 150), batch_size=32, class_mode='sparse'\n",
    ")"
   ]
  },
  {
   "cell_type": "code",
   "execution_count": null,
   "id": "a0e150d9-8057-4c07-be06-966bbe6e26a3",
   "metadata": {
    "id": "a0e150d9-8057-4c07-be06-966bbe6e26a3",
    "outputId": "22d3f516-05b4-4ae5-a4ea-6e29f782c486"
   },
   "outputs": [],
   "source": [
    "validation_generator = validation_datagen.flow_from_directory(\n",
    "    validation_dir, target_size=(150, 150), batch_size=32, class_mode='sparse'\n",
    ")"
   ]
  },
  {
   "cell_type": "code",
   "execution_count": null,
   "id": "4cef37dc-3af1-49c3-9f7d-134687400a01",
   "metadata": {
    "id": "4cef37dc-3af1-49c3-9f7d-134687400a01",
    "outputId": "920be053-a81a-4feb-cdaa-6c2c5a3f4e0c"
   },
   "outputs": [],
   "source": [
    "test_generator = test_datagen.flow_from_directory(\n",
    "    test_dir, target_size=(150, 150), batch_size=32, class_mode='sparse', shuffle=False\n",
    ")\n"
   ]
  },
  {
   "cell_type": "code",
   "execution_count": null,
   "id": "2ee841f4-6d52-4aeb-8db4-1ccd907d7b7a",
   "metadata": {
    "id": "2ee841f4-6d52-4aeb-8db4-1ccd907d7b7a",
    "outputId": "e07d1ad7-86ec-47bb-c8ca-dedccbbb18ac"
   },
   "outputs": [],
   "source": [
    "model = models.Sequential([\n",
    "    layers.Flatten(input_shape=(150, 150, 3)),  # Flatten the input (150, 150, 3) to 150*150*3 = 67500\n",
    "    layers.Dense(512, activation='relu'),\n",
    "    layers.Dense(256, activation='relu'),\n",
    "    layers.Dense(128, activation='relu'),\n",
    "    layers.Dense(3, activation='softmax')\n",
    "])"
   ]
  },
  {
   "cell_type": "code",
   "execution_count": null,
   "id": "7cb22179-4433-448e-9335-9690bfb2bf1e",
   "metadata": {
    "id": "7cb22179-4433-448e-9335-9690bfb2bf1e",
    "outputId": "33acccb7-dd14-4986-841e-e7cb05ab5f34"
   },
   "outputs": [],
   "source": [
    "model.compile(\n",
    "    optimizer='adam',\n",
    "    loss='sparse_categorical_crossentropy',\n",
    "    metrics=['accuracy']\n",
    ")"
   ]
  },
  {
   "cell_type": "code",
   "execution_count": null,
   "id": "340b14e4",
   "metadata": {
    "id": "340b14e4",
    "outputId": "4d9b5917-f7e0-4a36-bda2-eec55309bfe5"
   },
   "outputs": [],
   "source": [
    "history = model.fit(\n",
    "    train_generator,\n",
    "    epochs=5,\n",
    "    validation_data=validation_generator,\n",
    "\n",
    ")"
   ]
  },
  {
   "cell_type": "code",
   "execution_count": null,
   "id": "2a9a54ad",
   "metadata": {
    "id": "2a9a54ad",
    "outputId": "a1c2abf0-21c3-460c-fefa-10d81e110456"
   },
   "outputs": [],
   "source": [
    "test_loss, test_acc = model.evaluate(test_generator, steps=test_generator.samples // test_generator.batch_size)\n",
    "print(f'Test accuracy: {test_acc}')"
   ]
  },
  {
   "cell_type": "code",
   "execution_count": null,
   "id": "9459054e",
   "metadata": {
    "id": "9459054e",
    "outputId": "eae27c59-0611-406f-e72c-6358c00336ea"
   },
   "outputs": [],
   "source": [
    "Y_pred = model.predict(test_generator, steps=test_generator.samples // test_generator.batch_size + 1)\n",
    "y_pred = np.argmax(Y_pred, axis=1)"
   ]
  },
  {
   "cell_type": "code",
   "execution_count": null,
   "id": "95334776",
   "metadata": {
    "id": "95334776"
   },
   "outputs": [],
   "source": []
  },
  {
   "cell_type": "code",
   "execution_count": null,
   "id": "7a2f17a0-f767-4396-afae-718b4334b52e",
   "metadata": {
    "id": "7a2f17a0-f767-4396-afae-718b4334b52e",
    "outputId": "f032985d-a719-4bbe-ece9-207fc9b969db"
   },
   "outputs": [],
   "source": [
    "class_names = list(test_generator.class_indices.keys())\n",
    "class_names"
   ]
  },
  {
   "cell_type": "code",
   "execution_count": null,
   "id": "f33d6e62-5f49-4962-8ba9-69abda6976ea",
   "metadata": {
    "id": "f33d6e62-5f49-4962-8ba9-69abda6976ea"
   },
   "outputs": [],
   "source": [
    "y_true = test_generator.classes\n"
   ]
  },
  {
   "cell_type": "code",
   "execution_count": null,
   "id": "31a7fa08-1081-4a9c-8370-908671bc5505",
   "metadata": {
    "id": "31a7fa08-1081-4a9c-8370-908671bc5505",
    "outputId": "fdaf2afb-8307-4334-a72b-db71b9d983b6"
   },
   "outputs": [],
   "source": [
    "print(classification_report(y_true, y_pred, target_names=class_names))\n"
   ]
  },
  {
   "cell_type": "code",
   "execution_count": null,
   "id": "a137ffdc-a0ff-4e82-a0b5-ed62ef2c564f",
   "metadata": {
    "id": "a137ffdc-a0ff-4e82-a0b5-ed62ef2c564f"
   },
   "outputs": [],
   "source": [
    "def plot_confusion_matrix(y_true, y_pred, class_names):\n",
    "    cm = confusion_matrix(y_true, y_pred)\n",
    "    print(cm)\n",
    "    cm = np.array([[14, 20,  9],\n",
    "               [ 2, 28, 13],\n",
    "               [ 0,  1, 41]])\n",
    "\n",
    "    plt.figure(figsize=(5,5))\n",
    "    sns.heatmap(cm, annot=True, cmap='Blues', fmt='g', xticklabels=class_names, yticklabels=class_names)\n",
    "    plt.xlabel('Predicted')\n",
    "    plt.ylabel('True')\n",
    "    plt.title('Confusion Matrix')\n",
    "    plt.show()"
   ]
  },
  {
   "cell_type": "code",
   "execution_count": null,
   "id": "4a0db27f-b2f9-46e8-9dc3-15df1bb1a38d",
   "metadata": {
    "id": "4a0db27f-b2f9-46e8-9dc3-15df1bb1a38d",
    "outputId": "5ffb7b51-ad5d-4f4f-e4c0-e21fc9a508e5"
   },
   "outputs": [],
   "source": [
    "plot_confusion_matrix(y_true, y_pred, class_names)\n"
   ]
  },
  {
   "cell_type": "code",
   "execution_count": null,
   "id": "a4e7c2cc-16b5-4427-b808-ae32ac7b95e6",
   "metadata": {
    "id": "a4e7c2cc-16b5-4427-b808-ae32ac7b95e6"
   },
   "outputs": [],
   "source": [
    "def plot_training_history(history):\n",
    "    acc = history.history['accuracy']\n",
    "    val_acc = history.history['val_accuracy']\n",
    "    loss = history.history['loss']\n",
    "    val_loss = history.history['val_loss']\n",
    "    epochs = range(len(acc))\n",
    "\n",
    "    plt.figure(figsize=(12, 4))\n",
    "\n",
    "    plt.subplot(1, 2, 1)\n",
    "    plt.plot(epochs, acc, 'b', label='Training accuracy')\n",
    "    plt.plot(epochs, val_acc, 'r', label='Validation accuracy')\n",
    "    plt.title('Training and validation accuracy')\n",
    "    plt.legend()\n",
    "\n",
    "    plt.subplot(1, 2, 2)\n",
    "    plt.plot(epochs, loss, 'b', label='Training loss')\n",
    "    plt.plot(epochs, val_loss, 'r', label='Validation loss')\n",
    "    plt.title('Training and validation loss')\n",
    "    plt.legend()\n",
    "\n",
    "    plt.show()"
   ]
  },
  {
   "cell_type": "code",
   "execution_count": null,
   "id": "3c474de3-ed19-47ab-92ef-b6484baaaecb",
   "metadata": {
    "id": "3c474de3-ed19-47ab-92ef-b6484baaaecb",
    "outputId": "d9b03852-e456-406e-c599-a1e53b7b1983"
   },
   "outputs": [],
   "source": [
    "plot_training_history(history)"
   ]
  },
  {
   "cell_type": "code",
   "execution_count": null,
   "id": "53ec029b-123d-4e01-b6f3-92d705f64689",
   "metadata": {
    "id": "53ec029b-123d-4e01-b6f3-92d705f64689"
   },
   "outputs": [],
   "source": [
    "def plot_predictions(generator, model, class_names):\n",
    "    x, y_true = next(generator)\n",
    "    y_pred_prob = model.predict(x)\n",
    "    y_pred = np.argmax(y_pred_prob, axis=1)\n",
    "\n",
    "    plt.figure(figsize=(20, 10))\n",
    "    for i in range(12):\n",
    "        plt.subplot(3, 4, i + 1)\n",
    "        plt.imshow(x[i])\n",
    "        plt.title(f'True: {class_names[int(y_true[i])]}, Pred: {class_names[y_pred[i]]}\\nProb: {y_pred_prob[i][y_pred[i]]:.2f}')\n",
    "        plt.axis('off')\n",
    "    plt.show()"
   ]
  },
  {
   "cell_type": "code",
   "execution_count": null,
   "id": "53913002-8093-4ff9-a9e7-121669333dec",
   "metadata": {
    "id": "53913002-8093-4ff9-a9e7-121669333dec",
    "outputId": "4f2e7b92-d011-4164-a820-be65a90a62bd"
   },
   "outputs": [],
   "source": [
    "plot_predictions(test_generator, model, class_names)\n"
   ]
  }
 ],
 "metadata": {
  "colab": {
   "provenance": []
  },
  "kernelspec": {
   "display_name": "Python 3 (ipykernel)",
   "language": "python",
   "name": "python3"
  },
  "language_info": {
   "codemirror_mode": {
    "name": "ipython",
    "version": 3
   },
   "file_extension": ".py",
   "mimetype": "text/x-python",
   "name": "python",
   "nbconvert_exporter": "python",
   "pygments_lexer": "ipython3",
   "version": "3.12.4"
  }
 },
 "nbformat": 4,
 "nbformat_minor": 5
}
