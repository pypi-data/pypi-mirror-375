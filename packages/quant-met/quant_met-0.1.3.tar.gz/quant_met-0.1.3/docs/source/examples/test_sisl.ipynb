{
 "cells": [
  {
   "cell_type": "code",
   "execution_count": 1,
   "id": "initial_id",
   "metadata": {
    "ExecuteTime": {
     "end_time": "2025-07-12T16:19:17.917237Z",
     "start_time": "2025-07-12T16:19:15.989062Z"
    },
    "collapsed": true
   },
   "outputs": [],
   "source": [
    "import numpy as np\n",
    "import sisl\n",
    "\n",
    "from quant_met.routines import self_consistency_loop"
   ]
  },
  {
   "cell_type": "code",
   "execution_count": null,
   "id": "9bcbcb8c6a356ed8",
   "metadata": {
    "ExecuteTime": {
     "end_time": "2025-07-12T16:20:03.943316Z",
     "start_time": "2025-07-12T16:20:03.934647Z"
    }
   },
   "outputs": [
    {
     "name": "stdout",
     "output_type": "stream",
     "text": [
      "[[6.28318531 0.         0.        ]\n",
      " [0.         6.28318531 0.        ]\n",
      " [0.         0.         0.62831853]]\n",
      "[6.28318531 0.         0.        ]\n"
     ]
    }
   ],
   "source": [
    "a = 1.0  # Lattice constant\n",
    "t = -1.0  # Nearest-neighbor hopping\n",
    "bond = a  # Bond length\n",
    "\n",
    "# Create an atom object with appropriate cutoff range\n",
    "atom = sisl.Atom(1, R=bond + 0.01)\n",
    "\n",
    "# Generate 2D square lattice geometry\n",
    "geom = sisl.Geometry(\n",
    "    [[0.0, 0.0, 0.0], [0.0, 0.0, 0.0]],\n",
    "    [atom, atom],\n",
    "    [[a, 0.0, 0.0], [0.0, a, 0.0], [0.0, 0.0, 10.0]],  # Unit cell (2D in 3D space)\n",
    ")\n",
    "\n",
    "hamiltonian = sisl.Hamiltonian(geom)\n",
    "search_radius = [0.1 * bond, bond + 0.01]  # Search radius for neighbors\n",
    "\n",
    "for ia in geom:\n",
    "    idx_a = geom.close(ia, R=search_radius)\n",
    "    hamiltonian[ia, idx_a[0]] = 0.0  # On-site energy\n",
    "    for i in idx_a[1:]:\n",
    "        hamiltonian[ia, i] = t  # Nearest-neighbor hopping\n",
    "\n",
    "hamiltonian.finalize()\n",
    "\n",
    "hamiltonian.write(\"hamiltonian.HSX\")"
   ]
  },
  {
   "cell_type": "code",
   "execution_count": null,
   "id": "6bdaecdbdae22bc2",
   "metadata": {
    "ExecuteTime": {
     "end_time": "2025-07-08T17:29:15.922624Z",
     "start_time": "2025-07-08T17:29:14.473387Z"
    }
   },
   "outputs": [
    {
     "name": "stdout",
     "output_type": "stream",
     "text": [
      "[0.3552019 +0.000000e+00j 0.35520021-8.992404e-21j]\n"
     ]
    }
   ],
   "source": [
    "# n_k is the number of k-points along each reciprocal direction\n",
    "n_k = 10\n",
    "k_grid_obj = sisl.MonkhorstPack(hamiltonian.geometry, [n_k, n_k, 1])  # 2D grid\n",
    "\n",
    "# Extract the k-points as a NumPy array\n",
    "k_grid = k_grid_obj.k\n",
    "\n",
    "beta = 1.0 / 0.2  # inverse temperature (T = 0.01)\n",
    "hubbard_int = 1.0  # On-site interaction strength (Hubbard U)\n",
    "epsilon = 1e-5  # convergence threshold\n",
    "\n",
    "hubbard_int_orbital_basis = np.array(\n",
    "    [hubbard_int] * hamiltonian.no,\n",
    "    dtype=np.float64,\n",
    ")  # no = number of orbitals\n",
    "\n",
    "final_gap = self_consistency_loop(\n",
    "    hamiltonian=hamiltonian,\n",
    "    kgrid=k_grid_obj,\n",
    "    beta=beta,\n",
    "    hubbard_int_orbital_basis=hubbard_int_orbital_basis,\n",
    "    epsilon=epsilon,\n",
    ")"
   ]
  }
 ],
 "metadata": {
  "kernelspec": {
   "display_name": "Python 3",
   "language": "python",
   "name": "python3"
  },
  "language_info": {
   "codemirror_mode": {
    "name": "ipython",
    "version": 2
   },
   "file_extension": ".py",
   "mimetype": "text/x-python",
   "name": "python",
   "nbconvert_exporter": "python",
   "pygments_lexer": "ipython2",
   "version": "2.7.6"
  }
 },
 "nbformat": 4,
 "nbformat_minor": 5
}
