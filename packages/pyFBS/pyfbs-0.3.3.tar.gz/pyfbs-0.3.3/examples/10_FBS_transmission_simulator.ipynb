{
 "cells": [
  {
   "cell_type": "markdown",
   "metadata": {},
   "source": [
    "# 10 Transmission simulator in FBS\n",
    "The method of transmission simulator is primarly used direclty in the modal domain. Nevertheless, the concept of attaching a transmission simulator at the interface can be used also in the frequency domain. In this example a frequency based subtructuring is performed on a complex structure. First a transmission simulator is decoupled from the receiver structure and aftewards a source structure is coupled to the receiver structure. At the interface the VPT is used to obtain collocated interface DoFs."
   ]
  },
  {
   "cell_type": "code",
   "execution_count": null,
   "metadata": {},
   "outputs": [],
   "source": [
    "import pyFBS\n",
    "\n",
    "import numpy as np\n",
    "import matplotlib.pyplot as plt\n",
    "%matplotlib inline\n",
    "import pandas as pd"
   ]
  },
  {
   "cell_type": "markdown",
   "metadata": {},
   "source": [
    "#### Example Datasests\n",
    "Load the required predefined datasets:"
   ]
  },
  {
   "cell_type": "code",
   "execution_count": null,
   "metadata": {},
   "outputs": [],
   "source": [
    "pyFBS.download_automotive_testbench()"
   ]
  },
  {
   "cell_type": "code",
   "execution_count": null,
   "metadata": {},
   "outputs": [],
   "source": [
    "stl_rec = r\"./automotive_testbench/STL/receiver.stl\"\n",
    "stl_tm = r\"./automotive_testbench/STL/transmission_mount.stl\"\n",
    "stl_rm = r\"./automotive_testbench/STL/roll_mount.stl\"\n",
    "stl_em = r\"./automotive_testbench/STL/engine_mount.stl\"\n",
    "stl_ts = r\"./automotive_testbench/STL/ts.stl\"\n",
    "stl_shaker = r\"./automotive_testbench/STL/shaker_only.stl\"\n",
    "\n",
    "xlsx_BTS =  r\"./automotive_testbench/Measurements/BTS.xlsx\"\n",
    "xlsx_TS = r\"./automotive_testbench/Measurements/TS.xlsx\"\n",
    "xlsx_A = r\"./automotive_testbench/Measurements/A.xlsx\"\n",
    "xlsx_AB_ref = r\"./automotive_testbench/Measurements/AB_ref.xlsx\"\n",
    "\n",
    "file_Y_BTS = r\"./automotive_testbench/Measurements/BTS.p\"\n",
    "file_Y_TS = r\"./automotive_testbench/Measurements/TS.p\"\n",
    "file_Y_A = r\"./automotive_testbench/Measurements/A.p\"\n",
    "file_Y_AB_ref = r\"./automotive_testbench/Measurements/AB_ref.p\""
   ]
  },
  {
   "cell_type": "markdown",
   "metadata": {},
   "source": [
    "Load the sensor, channel and impact data:"
   ]
  },
  {
   "cell_type": "code",
   "execution_count": null,
   "metadata": {},
   "outputs": [],
   "source": [
    "df_acc_TS = pd.read_excel(xlsx_TS, sheet_name='Sensors')\n",
    "df_imp_TS = pd.read_excel(xlsx_TS, sheet_name='Impacts')\n",
    "df_chn_TS = pyFBS.generate_channels_from_sensors(df_acc_TS)\n",
    "\n",
    "df_acc_BTS = pd.read_excel(xlsx_BTS, sheet_name='Sensors')\n",
    "df_imp_BTS = pd.read_excel(xlsx_BTS, sheet_name='Impacts')\n",
    "df_chn_BTS = pyFBS.generate_channels_from_sensors(df_acc_BTS)\n",
    "\n",
    "df_acc_A = pd.read_excel(xlsx_A, sheet_name='Sensors')\n",
    "df_imp_A = pd.read_excel(xlsx_A, sheet_name='Impacts')\n",
    "df_chn_A = pyFBS.generate_channels_from_sensors(df_acc_A)\n",
    "\n",
    "df_acc_AB_ref = pd.read_excel(xlsx_AB_ref, sheet_name='Sensors')\n",
    "df_imp_AB_ref = pd.read_excel(xlsx_AB_ref, sheet_name='Impacts')\n",
    "df_chn_AB_ref = pyFBS.generate_channels_from_sensors(df_acc_AB_ref)"
   ]
  },
  {
   "cell_type": "markdown",
   "metadata": {},
   "source": [
    "Load experimental measurements:"
   ]
  },
  {
   "cell_type": "code",
   "execution_count": null,
   "metadata": {},
   "outputs": [],
   "source": [
    "freq, Y_BTS = np.load(file_Y_BTS,allow_pickle = True)\n",
    "freq, Y_TS = np.load(file_Y_TS,allow_pickle = True)\n",
    "freq, Y_A = np.load(file_Y_A,allow_pickle = True)\n",
    "freq, Y_AB_ref = np.load(file_Y_AB_ref,allow_pickle = True)"
   ]
  },
  {
   "cell_type": "markdown",
   "metadata": {},
   "source": [
    "#### Display\n",
    "Open 3D viewer in the background."
   ]
  },
  {
   "cell_type": "code",
   "execution_count": null,
   "metadata": {},
   "outputs": [],
   "source": [
    "view3D = pyFBS.view3D(show_origin = False, show_axes = False,shape =  (2,2),title = \"Overview\")"
   ]
  },
  {
   "cell_type": "markdown",
   "metadata": {},
   "source": [
    "Add the STL file of structure B+TS to the 1-1 subplot and show the corresponding accelerometer, channels and impacts."
   ]
  },
  {
   "cell_type": "code",
   "execution_count": null,
   "metadata": {},
   "outputs": [],
   "source": [
    "view3D.plot.subplot(0,0)\n",
    "view3D.plot.isometric_view()\n",
    "\n",
    "view3D.add_stl(stl_rec,name = \"receiver_0\",color = \"#e0e0e0\",opacity = 1)\n",
    "view3D.add_stl(stl_tm,name = \"transmission_mount_0\",color = \"#83afd2\",opacity = 1)\n",
    "view3D.add_stl(stl_rm,name = \"roll_mount_0\",color = \"#83afd2\",opacity = 1)\n",
    "view3D.add_stl(stl_em,name = \"engine_mount_0\",color = \"#83afd2\",opacity = 1)\n",
    "view3D.add_stl(stl_ts,name = \"ts_0\",color = \"#FB6D4C\",opacity = 1)\n",
    "\n",
    "view3D.plot.add_text(\"B+TS\", position='upper_left', font_size=10, color=\"k\", font=\"times\", name=\"B_structure\")\n",
    "\n",
    "view3D.show_acc(df_acc_BTS,scale = 1000,overwrite = False)\n",
    "view3D.show_imp(df_imp_BTS,scale = 1000,overwrite = False)\n",
    "view3D.show_chn(df_chn_BTS,scale = 1000,overwrite = False)"
   ]
  },
  {
   "cell_type": "markdown",
   "metadata": {},
   "source": [
    "Add the STL file of structure TS to the 1-2 subplot and show the corresponding accelerometer, channels and impacts."
   ]
  },
  {
   "cell_type": "code",
   "execution_count": null,
   "metadata": {},
   "outputs": [],
   "source": [
    "view3D.plot.subplot(0,1)\n",
    "view3D.plot.isometric_view()\n",
    "\n",
    "view3D.add_stl(stl_ts,name = \"ts_1\",color = \"#FB6D4C\",opacity = 1)\n",
    "\n",
    "view3D.plot.add_text(\"TS\", position='upper_left', font_size=10, color=\"k\", font=\"times\", name=\"B_structure\")\n",
    "\n",
    "view3D.show_acc(df_acc_TS,scale = 1000,overwrite = False)\n",
    "view3D.show_imp(df_imp_TS,scale = 1000,overwrite = False)\n",
    "view3D.show_chn(df_chn_TS,scale = 1000,overwrite = False)"
   ]
  },
  {
   "cell_type": "markdown",
   "metadata": {},
   "source": [
    "Add the STL file of structure A to the 2-1 subplot and show the corresponding accelerometer, channels and impacts."
   ]
  },
  {
   "cell_type": "code",
   "execution_count": null,
   "metadata": {},
   "outputs": [],
   "source": [
    "view3D.plot.subplot(1,0)\n",
    "view3D.plot.isometric_view()\n",
    "\n",
    "view3D.add_stl(stl_ts,name = \"ts_2\",color = \"#FB6D4C\",opacity = 1)\n",
    "view3D.add_stl(stl_shaker,name = \"shaker_only_2\",color = \"#FB6D4C\",opacity = 1);\n",
    "\n",
    "view3D.plot.add_text(\"A\", position='upper_left', font_size=10, color=\"k\", font=\"times\", name=\"B_structure\")\n",
    "\n",
    "view3D.show_acc(df_acc_A,scale = 1000,overwrite = False)\n",
    "view3D.show_imp(df_imp_A,scale = 1000,overwrite = False)\n",
    "view3D.show_chn(df_chn_A,scale = 1000,overwrite = False)"
   ]
  },
  {
   "cell_type": "markdown",
   "metadata": {},
   "source": [
    "Add the STL file of structure A+B to the 2-2 subplot and show the corresponding accelerometer, channels and impacts."
   ]
  },
  {
   "cell_type": "code",
   "execution_count": null,
   "metadata": {},
   "outputs": [],
   "source": [
    "view3D.plot.subplot(1,1)\n",
    "view3D.plot.isometric_view()\n",
    "\n",
    "view3D.add_stl(stl_rec,name = \"receiver_3\",color = \"#e0e0e0\",opacity = 1)\n",
    "view3D.add_stl(stl_tm,name = \"transmission_mount_3\",color = \"#83afd2\",opacity = 1)\n",
    "view3D.add_stl(stl_rm,name = \"roll_mount_3\",color = \"#83afd2\",opacity = 1)\n",
    "view3D.add_stl(stl_em,name = \"engine_mount_3\",color = \"#83afd2\",opacity = 1)\n",
    "view3D.add_stl(stl_ts,name = \"ts_3\",color = \"#FB6D4C\",opacity = 1)\n",
    "view3D.add_stl(stl_shaker,name = \"shaker_only_3\",color = \"#FB6D4C\",opacity = 1);\n",
    "\n",
    "view3D.plot.add_text(\"A+B\", position='upper_left', font_size=10, color=\"k\", font=\"times\", name=\"B_structure\")\n",
    "\n",
    "view3D.show_acc(df_acc_AB_ref,scale = 1000,overwrite = False)\n",
    "view3D.show_imp(df_imp_AB_ref,scale = 1000,overwrite = False)\n",
    "view3D.show_chn(df_chn_AB_ref,scale = 1000,overwrite = False)"
   ]
  },
  {
   "cell_type": "markdown",
   "metadata": {},
   "source": [
    "#### Virtual point transformation\n",
    "The VPT can be performed also on the experimental data. See the *04_VPT.ipynb* example for more options and details."
   ]
  },
  {
   "cell_type": "code",
   "execution_count": null,
   "metadata": {},
   "outputs": [],
   "source": [
    "df_vp = pd.read_excel(xlsx_A, sheet_name='VP Channels')\n",
    "df_vpref = pd.read_excel(xlsx_A, sheet_name='VP RefChannels')\n",
    "\n",
    "vpt_TS = pyFBS.VPT(df_chn_TS,df_imp_TS,df_vp,df_vpref,sort_matrix = False)\n",
    "vpt_BTS = pyFBS.VPT(df_chn_BTS,df_imp_BTS,df_vp,df_vpref,sort_matrix = False)\n",
    "vpt_A = pyFBS.VPT(df_chn_A,df_imp_A,df_vp,df_vpref,sort_matrix = False)\n",
    "\n",
    "vpt_TS.apply_VPT(freq,Y_TS)\n",
    "vpt_BTS.apply_VPT(freq,Y_BTS)\n",
    "vpt_A.apply_VPT(freq,Y_A)\n",
    "\n",
    "Y_TS_tran = vpt_TS.vptData\n",
    "Y_BTS_tran = vpt_BTS.vptData\n",
    "Y_A_tran = vpt_A.vptData"
   ]
  },
  {
   "cell_type": "markdown",
   "metadata": {},
   "source": [
    "## LM-FBS coupling and decoupling\n",
    "First the compatibility and the equiliubrium condition has to be defined through the signed Boolean matrices. For this example the 6 VP DoFs at the interface are coupled."
   ]
  },
  {
   "cell_type": "code",
   "execution_count": null,
   "metadata": {},
   "outputs": [],
   "source": [
    "Y_AnB = np.zeros((800,30+36+18,30+36+18),dtype = complex)\n",
    "\n",
    "Y_AnB[:,0:36,0:36] = Y_BTS_tran\n",
    "Y_AnB[:,36:36+30,36:36+30] = -1*Y_TS_tran\n",
    "Y_AnB[:,30+36:,30+36:] = Y_A_tran\n",
    "\n",
    "k = 18\n",
    "Bu = np.zeros((2*k,36+30+18))\n",
    "Bu[:k,0:k] = 1*np.eye(k)\n",
    "Bu[:k,36:36+k] = -1*np.eye(k)\n",
    "\n",
    "Bu[k:,0:k] = 1*np.eye(k)\n",
    "Bu[k:,36+30:36+30+k] = -1*np.eye(k)\n",
    "\n",
    "Bf = np.zeros((2*k,36+30+18))\n",
    "Bf[:k,0:k] = 1*np.eye(k)\n",
    "Bf[:k,36:36+k] = -1*np.eye(k)\n",
    "\n",
    "Bf[k:,0:k] = 1*np.eye(k)\n",
    "Bf[k:,36+30:36+30+k] = -1*np.eye(k)\n",
    "\n",
    "plt.figure()\n",
    "plt.imshow(Bu)\n",
    "plt.figure()\n",
    "plt.imshow(Bf);"
   ]
  },
  {
   "cell_type": "markdown",
   "metadata": {},
   "source": [
    "Apply the LM-FBS based on the defined coompatibility and equilibrium conditions."
   ]
  },
  {
   "cell_type": "code",
   "execution_count": null,
   "metadata": {},
   "outputs": [],
   "source": [
    "Y_ABn = np.zeros_like(Y_AnB,dtype = complex)\n",
    "\n",
    "Y_int = Bu@Y_AnB@Bf.T\n",
    "Y_ABn = Y_AnB - Y_AnB@Bf.T@np.linalg.pinv(pyFBS.TSVD(Y_int,reduction = 22))@Bu@Y_AnB"
   ]
  },
  {
   "cell_type": "markdown",
   "metadata": {},
   "source": [
    "First extract the FRFs at the reference DoFs:"
   ]
  },
  {
   "cell_type": "code",
   "execution_count": null,
   "metadata": {},
   "outputs": [],
   "source": [
    "arr_out = [30,31,32,33,34,35]\n",
    "arr_in = [30,31,32,33,34,35]\n",
    "\n",
    "\n",
    "Y_AB_coupled = Y_ABn[:,arr_out,:][:,:,arr_in]\n",
    "Y_AB_ref = Y_AB_ref[:,:,:]"
   ]
  },
  {
   "cell_type": "markdown",
   "metadata": {},
   "source": [
    "Finnaly, the coupled and the reference results can be compared:"
   ]
  },
  {
   "cell_type": "code",
   "execution_count": null,
   "metadata": {},
   "outputs": [],
   "source": [
    "s1 = 3\n",
    "s2 = 3\n",
    "\n",
    "plt.figure(figsize = (10,6))\n",
    "plt.subplot(211)\n",
    "plt.semilogy(freq,np.abs(Y_AB_ref[:,s1,s2]))\n",
    "plt.semilogy(freq,np.abs(Y_AB_coupled[:,s1,s2]))\n",
    "plt.xlim(0,2000)\n",
    "\n",
    "\n",
    "plt.subplot(413)\n",
    "plt.plot(freq,np.angle(Y_AB_ref[:,s1,s2]))\n",
    "plt.plot(freq,np.angle(Y_AB_coupled[:,s1,s2]))\n",
    "\n",
    "\n",
    "plt.xlim(0,2000)"
   ]
  }
 ],
 "metadata": {
  "kernelspec": {
   "display_name": "Python 3",
   "language": "python",
   "name": "python3"
  },
  "language_info": {
   "codemirror_mode": {
    "name": "ipython",
    "version": 3
   },
   "file_extension": ".py",
   "mimetype": "text/x-python",
   "name": "python",
   "nbconvert_exporter": "python",
   "pygments_lexer": "ipython3",
   "version": "3.8.5"
  }
 },
 "nbformat": 4,
 "nbformat_minor": 4
}
