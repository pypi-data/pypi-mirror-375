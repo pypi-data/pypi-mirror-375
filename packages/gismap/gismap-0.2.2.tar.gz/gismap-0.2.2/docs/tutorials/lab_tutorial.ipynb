{
 "cells": [
  {
   "cell_type": "markdown",
   "id": "0",
   "metadata": {},
   "source": [
    "# LabMaps"
   ]
  },
  {
   "cell_type": "markdown",
   "id": "1",
   "metadata": {},
   "source": [
    "## Lab authors"
   ]
  },
  {
   "cell_type": "markdown",
   "id": "2",
   "metadata": {},
   "source": [
    "Lab authors are the main ingredient to analyse a single lab (i.e. a group of researchers). You can create one just with a name and then automatically ask to retrieve the DB endpoints for this author."
   ]
  },
  {
   "cell_type": "code",
   "execution_count": null,
   "id": "3",
   "metadata": {},
   "outputs": [],
   "source": [
    "from gismap.lab import LabAuthor\n",
    "\n",
    "maria = LabAuthor(\"Maria Potop\")\n",
    "maria.auto_sources()"
   ]
  },
  {
   "cell_type": "markdown",
   "id": "4",
   "metadata": {},
   "source": [
    "We see a warning here. Let's look at the sources:"
   ]
  },
  {
   "cell_type": "code",
   "execution_count": null,
   "id": "5",
   "metadata": {},
   "outputs": [],
   "source": [
    "maria.sources"
   ]
  },
  {
   "cell_type": "markdown",
   "id": "6",
   "metadata": {},
   "source": [
    "This is actually: Maria has multiple identities in Hal. The warning is there to tell there is a possibility of homonyms but that is not the case here. Note that an author can have many names."
   ]
  },
  {
   "cell_type": "code",
   "execution_count": null,
   "id": "7",
   "metadata": {},
   "outputs": [],
   "source": [
    "maria.aliases"
   ]
  },
  {
   "cell_type": "markdown",
   "id": "8",
   "metadata": {},
   "source": [
    "When using `auto_source`, you can tell which DBs should be uses (only online DBLP and HAL are available right now)."
   ]
  },
  {
   "cell_type": "code",
   "execution_count": null,
   "id": "9",
   "metadata": {},
   "outputs": [],
   "source": [
    "from gismap.sources.hal import HAL\n",
    "\n",
    "celine = LabAuthor(\"Céline Comte\")\n",
    "celine.auto_sources(dbs=[HAL])\n",
    "celine.sources"
   ]
  },
  {
   "cell_type": "markdown",
   "id": "10",
   "metadata": {},
   "source": [
    "When the sources of an author are set one can retrieve her publications."
   ]
  },
  {
   "cell_type": "code",
   "execution_count": null,
   "id": "11",
   "metadata": {},
   "outputs": [],
   "source": [
    "[p for p in celine.get_publications().values() if p.year == 2021]"
   ]
  },
  {
   "cell_type": "markdown",
   "id": "12",
   "metadata": {},
   "source": [
    "Lab authors can have metadata that can be used for display and further analysis but we will not cover that in this tutorial."
   ]
  },
  {
   "cell_type": "markdown",
   "id": "13",
   "metadata": {},
   "source": [
    "## Your first lab"
   ]
  },
  {
   "cell_type": "markdown",
   "id": "14",
   "metadata": {},
   "source": [
    "In GISMAP, a LabMap is a class whose instances have three methods:\n",
    "\n",
    "- `update_authors` automatically refresh the members of the lab. It is useful at creation or when a lab evolves.\n",
    "- `update_publications` makes a full refresh of the publications of a lab. All publications from lab members are considered (temporal filtering may be enabled later).\n",
    "- `expand` adds *moons*, i.e. additional researchers that gravitate around the lab.\n",
    "\n",
    "The simplest usable subclass of Lab is `ListMap`, which uses a list of names. For example, consider the executive committee of the LINCS."
   ]
  },
  {
   "cell_type": "code",
   "execution_count": null,
   "id": "15",
   "metadata": {},
   "outputs": [],
   "source": [
    "from gismap.lab import ListMap\n",
    "\n",
    "lab = ListMap(\n",
    "    author_list=[\n",
    "        \"Tixeuil Sébastien\",\n",
    "        \"Kofman Daniel\",\n",
    "        \"Baccelli François\",\n",
    "        \"Noirie Ludovic\",\n",
    "        \"Bassi Francesca\",\n",
    "    ],\n",
    "    name=\"toy_example\",\n",
    ")\n",
    "lab.update_authors()\n",
    "lab.authors"
   ]
  },
  {
   "cell_type": "code",
   "execution_count": null,
   "id": "16",
   "metadata": {},
   "outputs": [],
   "source": [
    "lab.update_publis()\n",
    "len(lab.publications)"
   ]
  },
  {
   "cell_type": "markdown",
   "id": "17",
   "metadata": {},
   "source": [
    "Maps can be saved to you don't have to re-update them all the time."
   ]
  },
  {
   "cell_type": "code",
   "execution_count": null,
   "id": "18",
   "metadata": {},
   "outputs": [],
   "source": [
    "lab.dump(lab.name, overwrite=True)"
   ]
  },
  {
   "cell_type": "markdown",
   "id": "19",
   "metadata": {},
   "source": [
    "When you have a populated lab, you can produce a standalone HTML of the collaboration graph with `save_html`. That graph is a standalone HTML that can be displayed in a notebook or saved for inclusion in a web page (e.g. with `iframe`).\n",
    "\n",
    "You can also display it directly inside a notebook:"
   ]
  },
  {
   "cell_type": "code",
   "execution_count": null,
   "id": "20",
   "metadata": {},
   "outputs": [],
   "source": [
    "lab.show_html()"
   ]
  },
  {
   "cell_type": "markdown",
   "id": "21",
   "metadata": {},
   "source": [
    "It's a bit empty... Let's add one moon."
   ]
  },
  {
   "cell_type": "code",
   "execution_count": null,
   "id": "22",
   "metadata": {},
   "outputs": [],
   "source": [
    "lab.expand(target=1)"
   ]
  },
  {
   "cell_type": "code",
   "execution_count": null,
   "id": "23",
   "metadata": {},
   "outputs": [],
   "source": [
    "lab.show_html()"
   ]
  },
  {
   "cell_type": "markdown",
   "id": "24",
   "metadata": {},
   "source": [
    "Few things about the generated graph:\n",
    "\n",
    "- Singletons (authors with no co-publications with the other nodes) are kept by default.\n",
    "- Authors are represented with their initials unless some picture url is provided (implicitly or explictly).\n",
    "- You can hover an author to get her name. If you click, you have a modal with the list of publications.\n",
    "- The width and length of an edge depend on the number of co-publications. If you click you have a modal with the list of co-publications."
   ]
  },
  {
   "cell_type": "markdown",
   "id": "25",
   "metadata": {},
   "source": [
    "## Make your own LabMap"
   ]
  },
  {
   "cell_type": "markdown",
   "id": "26",
   "metadata": {},
   "source": [
    "Gismap is intended to make easy the creation of LabMaps in many contexts.\n",
    "\n",
    "The easiest way to manage a lab, apart from using ListMaps as shown above, is to specify an internal method `_author_iterator` that returns Lab authors. When it's done, you can create/refresh LabMaps as you see fit.\n",
    "\n",
    "How the iterator works is 100% up to you. Most of the time, this is done by scrapping some Web page(s) (see the references for examples), but many other options exist, e.g. read authors from a file, from a LDAP..."
   ]
  },
  {
   "cell_type": "markdown",
   "id": "27",
   "metadata": {},
   "source": [
    "## Example"
   ]
  },
  {
   "cell_type": "markdown",
   "id": "28",
   "metadata": {},
   "source": [
    "The `Solace` class automatically builds a LabMap based on https://solace.cnrs.fr/people.html"
   ]
  },
  {
   "cell_type": "code",
   "execution_count": null,
   "id": "29",
   "metadata": {},
   "outputs": [],
   "source": [
    "from gismap.lab import Solace\n",
    "\n",
    "solace = Solace()\n",
    "solace.update_authors()\n",
    "solace.update_publis()\n",
    "solace.expand()"
   ]
  },
  {
   "cell_type": "code",
   "execution_count": null,
   "id": "30",
   "metadata": {},
   "outputs": [],
   "source": [
    "solace.show_html()"
   ]
  }
 ],
 "metadata": {
  "kernelspec": {
   "display_name": "Python 3 (ipykernel)",
   "language": "python",
   "name": "python3"
  },
  "language_info": {
   "codemirror_mode": {
    "name": "ipython",
    "version": 3
   },
   "file_extension": ".py",
   "mimetype": "text/x-python",
   "name": "python",
   "nbconvert_exporter": "python",
   "pygments_lexer": "ipython3",
   "version": "3.12.8"
  }
 },
 "nbformat": 4,
 "nbformat_minor": 5
}
