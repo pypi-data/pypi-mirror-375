{
 "cells": [
  {
   "cell_type": "markdown",
   "id": "0",
   "metadata": {},
   "source": [
    "# illustrate content of the SWH from sea state coloc"
   ]
  },
  {
   "cell_type": "code",
   "execution_count": null,
   "id": "1",
   "metadata": {},
   "outputs": [],
   "source": [
    "import xarray as xr\n",
    "import os\n",
    "import glob"
   ]
  },
  {
   "cell_type": "markdown",
   "id": "2",
   "metadata": {},
   "source": [
    "## read a sea state coloc file"
   ]
  },
  {
   "cell_type": "code",
   "execution_count": null,
   "id": "3",
   "metadata": {},
   "outputs": [],
   "source": [
    "from s1swotcolocs.utils import get_conf_content\n",
    "import s1swotcolocs\n",
    "potential_config_file_1 = os.path.join(os.path.dirname(s1swotcolocs.__file__), \"localconfig.yml\")\n",
    "potential_config_file_2 = os.path.join(os.path.dirname(s1swotcolocs.__file__), \"config.yml\")\n",
    "if not os.path.exists(potential_config_file_1):\n",
    "    confpath = potential_config_file_2\n",
    "else:\n",
    "    confpath = potential_config_file_1\n",
    "print(confpath)\n",
    "conf = get_conf_content(confpath)\n",
    "\n",
    "assets_dir = os.path.join(os.path.dirname(s1swotcolocs.__file__),\"assets\")\n",
    "conf"
   ]
  },
  {
   "cell_type": "code",
   "execution_count": null,
   "id": "4",
   "metadata": {},
   "outputs": [],
   "source": [
    "file_seastate_coloc = os.path.join(assets_dir,'seastate_coloc_S1A_IW_SLC__1SDV_20240729T172527_20240729T172557_054978_06B28F_CEF7-iw3_SWOT_L3_Sentinel-1_IW_20240729T172147.nc')\n",
    "assert os.path.exists(file_seastate_coloc)\n",
    "files = glob.glob(os.path.join(assets_dir,'seastate_coloc_S*nc'))\n",
    "files"
   ]
  },
  {
   "cell_type": "code",
   "execution_count": null,
   "id": "5",
   "metadata": {},
   "outputs": [],
   "source": [
    "dscoloc = xr.open_dataset(file_seastate_coloc).load()\n",
    "dscoloc"
   ]
  },
  {
   "cell_type": "markdown",
   "id": "6",
   "metadata": {},
   "source": [
    "## get SWH data in DataFrame"
   ]
  },
  {
   "cell_type": "code",
   "execution_count": null,
   "id": "7",
   "metadata": {},
   "outputs": [],
   "source": [
    "from importlib import reload\n",
    "import s1swotcolocs.illustrate_coloc_swh_file_pyplot\n",
    "reload(s1swotcolocs.illustrate_coloc_swh_file_pyplot)\n",
    "# from s1swotcolocs.illustrate_coloc_swh_file import create_combined_gdf\n",
    "# from s1swotcolocs.illustrate_coloc_swh_file_pyplot import create_combined_gdf\n",
    "combined_gdf, combined_gdf_filtered, footprints_subswath_sar = s1swotcolocs.illustrate_coloc_swh_file_pyplot.create_combined_gdf([file_seastate_coloc])\n",
    "combined_gdf"
   ]
  },
  {
   "cell_type": "markdown",
   "id": "8",
   "metadata": {},
   "source": [
    "## generate a set of maps (panel tabs) and a scatter plot "
   ]
  },
  {
   "cell_type": "code",
   "execution_count": null,
   "id": "9",
   "metadata": {},
   "outputs": [],
   "source": [
    "from importlib import reload\n",
    "import s1swotcolocs.illustrate_coloc_swh_file_pyplot\n",
    "reload(s1swotcolocs.illustrate_coloc_swh_file_pyplot)\n",
    "fig = s1swotcolocs.illustrate_coloc_swh_file_pyplot.create_static_dashboard(files,output_filename=None)"
   ]
  }
 ],
 "metadata": {
  "language_info": {
   "codemirror_mode": {
    "name": "ipython",
    "version": 3
   },
   "file_extension": ".py",
   "mimetype": "text/x-python",
   "name": "python",
   "nbconvert_exporter": "python",
   "pygments_lexer": "ipython3"
  }
 },
 "nbformat": 4,
 "nbformat_minor": 5
}
