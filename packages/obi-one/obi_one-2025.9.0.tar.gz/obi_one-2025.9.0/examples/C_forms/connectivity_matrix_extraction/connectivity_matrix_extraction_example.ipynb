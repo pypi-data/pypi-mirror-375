{
 "cells": [
  {
   "cell_type": "code",
   "execution_count": null,
   "metadata": {},
   "outputs": [],
   "source": [
    "import obi_one as obi\n",
    "\n",
    "connectivity_matrix_extractions_form = obi.ConnectivityMatrixExtractions(\n",
    "                    initialize=obi.ConnectivityMatrixExtractions.Initialize(\n",
    "                        circuit_path=[obi.NamedPath(name=\"ToyCircuit-S1-6k\", path=\"/Users/pokorny/Data/ToyCircuit-S1-6k/circuit_config.json\"),\n",
    "                                      obi.NamedPath(name=\"ToyCircuit-S1-6k-Duplicate\", path=\"/Users/pokorny/Data/ToyCircuit-S1-6k/circuit_config.json\")],\n",
    "                        # edge_population=None,\n",
    "                        # node_attributes=None,\n",
    "                        node_attributes=(\"synapse_class\", \"layer\", \"mtype\", \"etype\", \"x\", \"y\", \"z\"),\n",
    "                    )\n",
    ")\n",
    "\n",
    "# grid_scan = obi.GridScan(form=connectivity_matrix_extractions_form, output_root='../../obi-output/connectivity_matrix_extraction/grid_scan')\n",
    "# grid_scan = obi.GridScan(form=connectivity_matrix_extractions_form, output_root='../../obi-output/connectivity_matrix_extraction/grid_scan', coordinate_directory_option=\"ZERO_INDEX\")\n",
    "grid_scan = obi.GridScan(form=connectivity_matrix_extractions_form, output_root=\"../../obi-output/connectivity_matrix_extraction/grid_scan\", coordinate_directory_option=\"VALUE\")\n"
   ]
  },
  {
   "cell_type": "code",
   "execution_count": 2,
   "metadata": {},
   "outputs": [
    {
     "name": "stdout",
     "output_type": "stream",
     "text": [
      "Info: Running idx 0\n",
      "Info: Loading circuit 'ToyCircuit-S1-6k'\n",
      "Info: Node properties to extract: ('synapse_class', 'layer', 'mtype', 'etype', 'x', 'y', 'z')\n",
      "Info: Extracting connectivity from edge population 'default'\n"
     ]
    },
    {
     "name": "stderr",
     "output_type": "stream",
     "text": [
      "100%|███████████████████████████████████████████████████████████████████████████████████████████████████████████████████| 5924/5924 [00:02<00:00, 2301.08it/s]\n"
     ]
    },
    {
     "name": "stdout",
     "output_type": "stream",
     "text": [
      "Info: Connectivity matrix successfully written to './obi-output/connectivity_matrix_extraction/grid_scan/ToyCircuit-S1-6k/connectivity_matrix.h5'\n",
      "Info: Running idx 1\n",
      "Info: Loading circuit 'ToyCircuit-S1-6k-Duplicate'\n",
      "Info: Node properties to extract: ('synapse_class', 'layer', 'mtype', 'etype', 'x', 'y', 'z')\n",
      "Info: Extracting connectivity from edge population 'default'\n"
     ]
    },
    {
     "name": "stderr",
     "output_type": "stream",
     "text": [
      "100%|███████████████████████████████████████████████████████████████████████████████████████████████████████████████████| 5924/5924 [00:02<00:00, 2328.87it/s]"
     ]
    },
    {
     "name": "stdout",
     "output_type": "stream",
     "text": [
      "Info: Connectivity matrix successfully written to './obi-output/connectivity_matrix_extraction/grid_scan/ToyCircuit-S1-6k-Duplicate/connectivity_matrix.h5'\n"
     ]
    },
    {
     "name": "stderr",
     "output_type": "stream",
     "text": [
      "\n"
     ]
    }
   ],
   "source": [
    "grid_scan.execute(processing_method=\"run\")"
   ]
  },
  {
   "cell_type": "code",
   "execution_count": 3,
   "metadata": {},
   "outputs": [
    {
     "name": "stdout",
     "output_type": "stream",
     "text": [
      "\n",
      "MULTIPLE VALUE PARAMETERS\n",
      "initialize.circuit_path: [ToyCircuit-S1-6k, ToyCircuit-S1-6k-Duplicate]\n",
      "\n",
      "COORDINATE PARAMETERS (Reimplement)\n",
      "initialize.circuit_path: ToyCircuit-S1-6k\n",
      "initialize.circuit_path: ToyCircuit-S1-6k-Duplicate\n",
      "\n",
      "COORDINATE INSTANCES\n",
      "ConnectivityMatrixExtraction(idx=0, scan_output_root='', coordinate_directory_option='NAME_EQUALS_VALUE', single_coordinate_scan_params=SingleCoordinateScanParams(type='SingleCoordinateScanParams', scan_params=[SingleValueScanParam(type='SingleValueScanParam', location_list=['initialize', 'circuit_path'], location_str='initialize.circuit_path', value=ToyCircuit-S1-6k)], nested_coordinate_subpath_str=''), type='ConnectivityMatrixExtractions', initialize=Initialize(type='ConnectivityMatrixExtractions.Initialize', circuit_path=ToyCircuit-S1-6k, edge_population=None, node_attributes=('synapse_class', 'layer', 'mtype', 'etype', 'x', 'y', 'z')))\n",
      "ConnectivityMatrixExtraction(idx=1, scan_output_root='', coordinate_directory_option='NAME_EQUALS_VALUE', single_coordinate_scan_params=SingleCoordinateScanParams(type='SingleCoordinateScanParams', scan_params=[SingleValueScanParam(type='SingleValueScanParam', location_list=['initialize', 'circuit_path'], location_str='initialize.circuit_path', value=ToyCircuit-S1-6k-Duplicate)], nested_coordinate_subpath_str=''), type='ConnectivityMatrixExtractions', initialize=Initialize(type='ConnectivityMatrixExtractions.Initialize', circuit_path=ToyCircuit-S1-6k-Duplicate, edge_population=None, node_attributes=('synapse_class', 'layer', 'mtype', 'etype', 'x', 'y', 'z')))\n"
     ]
    },
    {
     "data": {
      "text/plain": [
       "[ConnectivityMatrixExtraction(idx=0, scan_output_root='', coordinate_directory_option='NAME_EQUALS_VALUE', single_coordinate_scan_params=SingleCoordinateScanParams(type='SingleCoordinateScanParams', scan_params=[SingleValueScanParam(type='SingleValueScanParam', location_list=['initialize', 'circuit_path'], location_str='initialize.circuit_path', value=ToyCircuit-S1-6k)], nested_coordinate_subpath_str=''), type='ConnectivityMatrixExtractions', initialize=Initialize(type='ConnectivityMatrixExtractions.Initialize', circuit_path=ToyCircuit-S1-6k, edge_population=None, node_attributes=('synapse_class', 'layer', 'mtype', 'etype', 'x', 'y', 'z'))),\n",
       " ConnectivityMatrixExtraction(idx=1, scan_output_root='', coordinate_directory_option='NAME_EQUALS_VALUE', single_coordinate_scan_params=SingleCoordinateScanParams(type='SingleCoordinateScanParams', scan_params=[SingleValueScanParam(type='SingleValueScanParam', location_list=['initialize', 'circuit_path'], location_str='initialize.circuit_path', value=ToyCircuit-S1-6k-Duplicate)], nested_coordinate_subpath_str=''), type='ConnectivityMatrixExtractions', initialize=Initialize(type='ConnectivityMatrixExtractions.Initialize', circuit_path=ToyCircuit-S1-6k-Duplicate, edge_population=None, node_attributes=('synapse_class', 'layer', 'mtype', 'etype', 'x', 'y', 'z')))]"
      ]
     },
     "execution_count": 3,
     "metadata": {},
     "output_type": "execute_result"
    }
   ],
   "source": [
    "# Display the intermediary data\n",
    "grid_scan.multiple_value_parameters(display=True)\n",
    "grid_scan.coordinate_parameters(display=True)\n",
    "grid_scan.coordinate_instances(display=True)"
   ]
  },
  {
   "cell_type": "code",
   "execution_count": 4,
   "metadata": {},
   "outputs": [],
   "source": [
    "# Deserialize\n",
    "grid_scan_ds = obi.deserialize_obi_object_from_json_file(\"./obi-output/connectivity_matrix_extraction/grid_scan/run_scan_config.json\")"
   ]
  },
  {
   "cell_type": "code",
   "execution_count": 5,
   "metadata": {},
   "outputs": [],
   "source": [
    "grid_coord_ds_single = obi.deserialize_obi_object_from_json_file(\"./obi-output/connectivity_matrix_extraction/grid_scan/ToyCircuit-S1-6k/run_coordinate_instance.json\")"
   ]
  },
  {
   "cell_type": "code",
   "execution_count": null,
   "metadata": {},
   "outputs": [],
   "source": []
  }
 ],
 "metadata": {
  "kernelspec": {
   "display_name": ".venv",
   "language": "python",
   "name": "python3"
  },
  "language_info": {
   "codemirror_mode": {
    "name": "ipython",
    "version": 3
   },
   "file_extension": ".py",
   "mimetype": "text/x-python",
   "name": "python",
   "nbconvert_exporter": "python",
   "pygments_lexer": "ipython3",
   "version": "3.12.9"
  }
 },
 "nbformat": 4,
 "nbformat_minor": 4
}
