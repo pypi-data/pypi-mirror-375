{
 "cells": [
  {
   "cell_type": "markdown",
   "id": "6ee8aad4",
   "metadata": {},
   "source": [
    "# Linking Filter Validation"
   ]
  },
  {
   "cell_type": "code",
   "execution_count": 1,
   "id": "60e6375c",
   "metadata": {},
   "outputs": [],
   "source": [
    "import pandas as pd\n",
    "import numpy as np\n",
    "from sorcha.modules.PPLinkingFilter import PPLinkingFilter"
   ]
  },
  {
   "cell_type": "markdown",
   "id": "4ec07708",
   "metadata": {},
   "source": [
    "This function aims to mimic the effects of the Solar System Processing pipeline in linking objects. More information can be found [here](http://lsst-sssc.github.io/software.html). If we use the SSP defaults, for an object to be linked, it must have:\n",
    "* At least **2** observations in a night to constitute a valid tracklet.\n",
    "* These observations must have an angular separation of at least **0.5 arcseconds** in order to be recognised as separate.\n",
    "* However, subsequent observations in a tracklet must occur within 90 minutes or **0.0625 days**.\n",
    "* At least **3** tracklets must be observed to form a valid track.\n",
    "* These tracklets must be observed in less than **15** days.\n",
    "\n",
    "We also expect **95%** of objects to be linked. For now, we will set this parameter to 100% in order to test the others.\n",
    "\n",
    "These six parameters can be changed in the config file and are found in the [LINKINGFILTER] section."
   ]
  },
  {
   "cell_type": "code",
   "execution_count": 2,
   "id": "63717ec9",
   "metadata": {},
   "outputs": [],
   "source": [
    "min_observations = 2\n",
    "min_angular_separation = 0.5\n",
    "max_time_separation = 0.0625\n",
    "min_tracklets = 3\n",
    "min_tracklet_window = 15\n",
    "detection_efficiency = 1\n",
    "night_start_utc = 17.0"
   ]
  },
  {
   "cell_type": "markdown",
   "id": "71da27b5",
   "metadata": {},
   "source": [
    "Let's create an object that should definitely be linked according to these parameters."
   ]
  },
  {
   "cell_type": "code",
   "execution_count": 3,
   "id": "6e11d0a6",
   "metadata": {},
   "outputs": [],
   "source": [
    "obj_id = [\"pretend_object\"] * 6\n",
    "field_id = np.arange(1, 7)\n",
    "times = [60000.03, 60000.06, 60005.03, 60005.06, 60008.03, 60008.06]\n",
    "ra = [142, 142.1, 143, 143.1, 144, 144.1]\n",
    "dec = [8, 8.1, 9, 9.1, 10, 10.1]"
   ]
  },
  {
   "cell_type": "code",
   "execution_count": 4,
   "id": "e86569f3",
   "metadata": {},
   "outputs": [],
   "source": [
    "observations = pd.DataFrame(\n",
    "    {\n",
    "        \"ObjID\": obj_id,\n",
    "        \"FieldID\": field_id,\n",
    "        \"fieldMJD_TAI\": times,\n",
    "        \"RA_deg\": ra,\n",
    "        \"Dec_deg\": dec\n",
    "    }\n",
    ")"
   ]
  },
  {
   "cell_type": "code",
   "execution_count": 5,
   "id": "ad52ef60",
   "metadata": {},
   "outputs": [
    {
     "data": {
      "text/html": [
       "<div>\n",
       "<style scoped>\n",
       "    .dataframe tbody tr th:only-of-type {\n",
       "        vertical-align: middle;\n",
       "    }\n",
       "\n",
       "    .dataframe tbody tr th {\n",
       "        vertical-align: top;\n",
       "    }\n",
       "\n",
       "    .dataframe thead th {\n",
       "        text-align: right;\n",
       "    }\n",
       "</style>\n",
       "<table border=\"1\" class=\"dataframe\">\n",
       "  <thead>\n",
       "    <tr style=\"text-align: right;\">\n",
       "      <th></th>\n",
       "      <th>ObjID</th>\n",
       "      <th>FieldID</th>\n",
       "      <th>fieldMJD_TAI</th>\n",
       "      <th>RA_deg</th>\n",
       "      <th>Dec_deg</th>\n",
       "    </tr>\n",
       "  </thead>\n",
       "  <tbody>\n",
       "    <tr>\n",
       "      <th>0</th>\n",
       "      <td>pretend_object</td>\n",
       "      <td>1</td>\n",
       "      <td>60000.03</td>\n",
       "      <td>142.0</td>\n",
       "      <td>8.0</td>\n",
       "    </tr>\n",
       "    <tr>\n",
       "      <th>1</th>\n",
       "      <td>pretend_object</td>\n",
       "      <td>2</td>\n",
       "      <td>60000.06</td>\n",
       "      <td>142.1</td>\n",
       "      <td>8.1</td>\n",
       "    </tr>\n",
       "    <tr>\n",
       "      <th>2</th>\n",
       "      <td>pretend_object</td>\n",
       "      <td>3</td>\n",
       "      <td>60005.03</td>\n",
       "      <td>143.0</td>\n",
       "      <td>9.0</td>\n",
       "    </tr>\n",
       "    <tr>\n",
       "      <th>3</th>\n",
       "      <td>pretend_object</td>\n",
       "      <td>4</td>\n",
       "      <td>60005.06</td>\n",
       "      <td>143.1</td>\n",
       "      <td>9.1</td>\n",
       "    </tr>\n",
       "    <tr>\n",
       "      <th>4</th>\n",
       "      <td>pretend_object</td>\n",
       "      <td>5</td>\n",
       "      <td>60008.03</td>\n",
       "      <td>144.0</td>\n",
       "      <td>10.0</td>\n",
       "    </tr>\n",
       "    <tr>\n",
       "      <th>5</th>\n",
       "      <td>pretend_object</td>\n",
       "      <td>6</td>\n",
       "      <td>60008.06</td>\n",
       "      <td>144.1</td>\n",
       "      <td>10.1</td>\n",
       "    </tr>\n",
       "  </tbody>\n",
       "</table>\n",
       "</div>"
      ],
      "text/plain": [
       "            ObjID  FieldID  fieldMJD_TAI  RA_deg  Dec_deg\n",
       "0  pretend_object        1      60000.03   142.0      8.0\n",
       "1  pretend_object        2      60000.06   142.1      8.1\n",
       "2  pretend_object        3      60005.03   143.0      9.0\n",
       "3  pretend_object        4      60005.06   143.1      9.1\n",
       "4  pretend_object        5      60008.03   144.0     10.0\n",
       "5  pretend_object        6      60008.06   144.1     10.1"
      ]
     },
     "execution_count": 5,
     "metadata": {},
     "output_type": "execute_result"
    }
   ],
   "source": [
    "observations"
   ]
  },
  {
   "cell_type": "markdown",
   "id": "1f072739",
   "metadata": {},
   "source": [
    "Now let's run the linking filter. As this object should be linked, we should receive the same dataframe back."
   ]
  },
  {
   "cell_type": "code",
   "execution_count": 6,
   "id": "5a53919a",
   "metadata": {},
   "outputs": [],
   "source": [
    "linked_observations = PPLinkingFilter(observations, detection_efficiency, min_observations, min_tracklets, min_tracklet_window, min_angular_separation, max_time_separation, night_start_utc)"
   ]
  },
  {
   "cell_type": "code",
   "execution_count": 7,
   "id": "4eba5dbd",
   "metadata": {},
   "outputs": [
    {
     "data": {
      "text/html": [
       "<div>\n",
       "<style scoped>\n",
       "    .dataframe tbody tr th:only-of-type {\n",
       "        vertical-align: middle;\n",
       "    }\n",
       "\n",
       "    .dataframe tbody tr th {\n",
       "        vertical-align: top;\n",
       "    }\n",
       "\n",
       "    .dataframe thead th {\n",
       "        text-align: right;\n",
       "    }\n",
       "</style>\n",
       "<table border=\"1\" class=\"dataframe\">\n",
       "  <thead>\n",
       "    <tr style=\"text-align: right;\">\n",
       "      <th></th>\n",
       "      <th>ObjID</th>\n",
       "      <th>FieldID</th>\n",
       "      <th>fieldMJD_TAI</th>\n",
       "      <th>RA_deg</th>\n",
       "      <th>Dec_deg</th>\n",
       "      <th>object_linked</th>\n",
       "      <th>date_linked_MJD</th>\n",
       "    </tr>\n",
       "  </thead>\n",
       "  <tbody>\n",
       "    <tr>\n",
       "      <th>0</th>\n",
       "      <td>pretend_object</td>\n",
       "      <td>1</td>\n",
       "      <td>60000.03</td>\n",
       "      <td>142.0</td>\n",
       "      <td>8.0</td>\n",
       "      <td>True</td>\n",
       "      <td>60007.0</td>\n",
       "    </tr>\n",
       "    <tr>\n",
       "      <th>1</th>\n",
       "      <td>pretend_object</td>\n",
       "      <td>2</td>\n",
       "      <td>60000.06</td>\n",
       "      <td>142.1</td>\n",
       "      <td>8.1</td>\n",
       "      <td>True</td>\n",
       "      <td>60007.0</td>\n",
       "    </tr>\n",
       "    <tr>\n",
       "      <th>2</th>\n",
       "      <td>pretend_object</td>\n",
       "      <td>3</td>\n",
       "      <td>60005.03</td>\n",
       "      <td>143.0</td>\n",
       "      <td>9.0</td>\n",
       "      <td>True</td>\n",
       "      <td>60007.0</td>\n",
       "    </tr>\n",
       "    <tr>\n",
       "      <th>3</th>\n",
       "      <td>pretend_object</td>\n",
       "      <td>4</td>\n",
       "      <td>60005.06</td>\n",
       "      <td>143.1</td>\n",
       "      <td>9.1</td>\n",
       "      <td>True</td>\n",
       "      <td>60007.0</td>\n",
       "    </tr>\n",
       "    <tr>\n",
       "      <th>4</th>\n",
       "      <td>pretend_object</td>\n",
       "      <td>5</td>\n",
       "      <td>60008.03</td>\n",
       "      <td>144.0</td>\n",
       "      <td>10.0</td>\n",
       "      <td>True</td>\n",
       "      <td>60007.0</td>\n",
       "    </tr>\n",
       "    <tr>\n",
       "      <th>5</th>\n",
       "      <td>pretend_object</td>\n",
       "      <td>6</td>\n",
       "      <td>60008.06</td>\n",
       "      <td>144.1</td>\n",
       "      <td>10.1</td>\n",
       "      <td>True</td>\n",
       "      <td>60007.0</td>\n",
       "    </tr>\n",
       "  </tbody>\n",
       "</table>\n",
       "</div>"
      ],
      "text/plain": [
       "            ObjID  FieldID  fieldMJD_TAI  RA_deg  Dec_deg  object_linked  \\\n",
       "0  pretend_object        1      60000.03   142.0      8.0           True   \n",
       "1  pretend_object        2      60000.06   142.1      8.1           True   \n",
       "2  pretend_object        3      60005.03   143.0      9.0           True   \n",
       "3  pretend_object        4      60005.06   143.1      9.1           True   \n",
       "4  pretend_object        5      60008.03   144.0     10.0           True   \n",
       "5  pretend_object        6      60008.06   144.1     10.1           True   \n",
       "\n",
       "   date_linked_MJD  \n",
       "0          60007.0  \n",
       "1          60007.0  \n",
       "2          60007.0  \n",
       "3          60007.0  \n",
       "4          60007.0  \n",
       "5          60007.0  "
      ]
     },
     "execution_count": 7,
     "metadata": {},
     "output_type": "execute_result"
    }
   ],
   "source": [
    "linked_observations"
   ]
  },
  {
   "cell_type": "markdown",
   "id": "0a22d57f",
   "metadata": {},
   "source": [
    "Success! The object was successfully linked. Now let's play with this dataframe a little. First, let's remove the first observation, so that we only have two complete tracklets."
   ]
  },
  {
   "cell_type": "code",
   "execution_count": 8,
   "id": "e12bc6cb",
   "metadata": {},
   "outputs": [],
   "source": [
    "observations_two_tracklets = observations.iloc[1:].copy()"
   ]
  },
  {
   "cell_type": "code",
   "execution_count": 9,
   "id": "d55e811b",
   "metadata": {},
   "outputs": [
    {
     "data": {
      "text/html": [
       "<div>\n",
       "<style scoped>\n",
       "    .dataframe tbody tr th:only-of-type {\n",
       "        vertical-align: middle;\n",
       "    }\n",
       "\n",
       "    .dataframe tbody tr th {\n",
       "        vertical-align: top;\n",
       "    }\n",
       "\n",
       "    .dataframe thead th {\n",
       "        text-align: right;\n",
       "    }\n",
       "</style>\n",
       "<table border=\"1\" class=\"dataframe\">\n",
       "  <thead>\n",
       "    <tr style=\"text-align: right;\">\n",
       "      <th></th>\n",
       "      <th>ObjID</th>\n",
       "      <th>FieldID</th>\n",
       "      <th>fieldMJD_TAI</th>\n",
       "      <th>RA_deg</th>\n",
       "      <th>Dec_deg</th>\n",
       "      <th>object_linked</th>\n",
       "    </tr>\n",
       "  </thead>\n",
       "  <tbody>\n",
       "    <tr>\n",
       "      <th>1</th>\n",
       "      <td>pretend_object</td>\n",
       "      <td>2</td>\n",
       "      <td>60000.06</td>\n",
       "      <td>142.1</td>\n",
       "      <td>8.1</td>\n",
       "      <td>True</td>\n",
       "    </tr>\n",
       "    <tr>\n",
       "      <th>2</th>\n",
       "      <td>pretend_object</td>\n",
       "      <td>3</td>\n",
       "      <td>60005.03</td>\n",
       "      <td>143.0</td>\n",
       "      <td>9.0</td>\n",
       "      <td>True</td>\n",
       "    </tr>\n",
       "    <tr>\n",
       "      <th>3</th>\n",
       "      <td>pretend_object</td>\n",
       "      <td>4</td>\n",
       "      <td>60005.06</td>\n",
       "      <td>143.1</td>\n",
       "      <td>9.1</td>\n",
       "      <td>True</td>\n",
       "    </tr>\n",
       "    <tr>\n",
       "      <th>4</th>\n",
       "      <td>pretend_object</td>\n",
       "      <td>5</td>\n",
       "      <td>60008.03</td>\n",
       "      <td>144.0</td>\n",
       "      <td>10.0</td>\n",
       "      <td>True</td>\n",
       "    </tr>\n",
       "    <tr>\n",
       "      <th>5</th>\n",
       "      <td>pretend_object</td>\n",
       "      <td>6</td>\n",
       "      <td>60008.06</td>\n",
       "      <td>144.1</td>\n",
       "      <td>10.1</td>\n",
       "      <td>True</td>\n",
       "    </tr>\n",
       "  </tbody>\n",
       "</table>\n",
       "</div>"
      ],
      "text/plain": [
       "            ObjID  FieldID  fieldMJD_TAI  RA_deg  Dec_deg  object_linked\n",
       "1  pretend_object        2      60000.06   142.1      8.1           True\n",
       "2  pretend_object        3      60005.03   143.0      9.0           True\n",
       "3  pretend_object        4      60005.06   143.1      9.1           True\n",
       "4  pretend_object        5      60008.03   144.0     10.0           True\n",
       "5  pretend_object        6      60008.06   144.1     10.1           True"
      ]
     },
     "execution_count": 9,
     "metadata": {},
     "output_type": "execute_result"
    }
   ],
   "source": [
    "observations_two_tracklets"
   ]
  },
  {
   "cell_type": "code",
   "execution_count": 10,
   "id": "ad62595d",
   "metadata": {},
   "outputs": [],
   "source": [
    "unlinked_observations = PPLinkingFilter(observations_two_tracklets, detection_efficiency, min_observations, min_tracklets, min_tracklet_window, min_angular_separation, max_time_separation, night_start_utc)"
   ]
  },
  {
   "cell_type": "code",
   "execution_count": 11,
   "id": "244674ae",
   "metadata": {},
   "outputs": [
    {
     "data": {
      "text/html": [
       "<div>\n",
       "<style scoped>\n",
       "    .dataframe tbody tr th:only-of-type {\n",
       "        vertical-align: middle;\n",
       "    }\n",
       "\n",
       "    .dataframe tbody tr th {\n",
       "        vertical-align: top;\n",
       "    }\n",
       "\n",
       "    .dataframe thead th {\n",
       "        text-align: right;\n",
       "    }\n",
       "</style>\n",
       "<table border=\"1\" class=\"dataframe\">\n",
       "  <thead>\n",
       "    <tr style=\"text-align: right;\">\n",
       "      <th></th>\n",
       "      <th>ObjID</th>\n",
       "      <th>FieldID</th>\n",
       "      <th>fieldMJD_TAI</th>\n",
       "      <th>RA_deg</th>\n",
       "      <th>Dec_deg</th>\n",
       "      <th>object_linked</th>\n",
       "      <th>date_linked_MJD</th>\n",
       "    </tr>\n",
       "  </thead>\n",
       "  <tbody>\n",
       "  </tbody>\n",
       "</table>\n",
       "</div>"
      ],
      "text/plain": [
       "Empty DataFrame\n",
       "Columns: [ObjID, FieldID, fieldMJD_TAI, RA_deg, Dec_deg, object_linked, date_linked_MJD]\n",
       "Index: []"
      ]
     },
     "execution_count": 11,
     "metadata": {},
     "output_type": "execute_result"
    }
   ],
   "source": [
    "unlinked_observations"
   ]
  },
  {
   "cell_type": "markdown",
   "id": "d3c674db",
   "metadata": {},
   "source": [
    "As expected, we no longer link the object. Now let's try putting the last two observations outside of the 15-day window."
   ]
  },
  {
   "cell_type": "code",
   "execution_count": 12,
   "id": "b255874d",
   "metadata": {},
   "outputs": [],
   "source": [
    "observations_large_window = observations.copy()\n",
    "observations_large_window['fieldMJD_TAI'] = [60000.03, 60000.06, 60005.03, 60005.06, 60016.03, 60016.06]"
   ]
  },
  {
   "cell_type": "code",
   "execution_count": 13,
   "id": "30793769",
   "metadata": {},
   "outputs": [],
   "source": [
    "unlinked_observations = PPLinkingFilter(observations_large_window, detection_efficiency, min_observations, min_tracklets, min_tracklet_window, min_angular_separation, max_time_separation, night_start_utc)"
   ]
  },
  {
   "cell_type": "code",
   "execution_count": 14,
   "id": "b5d76bc4",
   "metadata": {},
   "outputs": [
    {
     "data": {
      "text/html": [
       "<div>\n",
       "<style scoped>\n",
       "    .dataframe tbody tr th:only-of-type {\n",
       "        vertical-align: middle;\n",
       "    }\n",
       "\n",
       "    .dataframe tbody tr th {\n",
       "        vertical-align: top;\n",
       "    }\n",
       "\n",
       "    .dataframe thead th {\n",
       "        text-align: right;\n",
       "    }\n",
       "</style>\n",
       "<table border=\"1\" class=\"dataframe\">\n",
       "  <thead>\n",
       "    <tr style=\"text-align: right;\">\n",
       "      <th></th>\n",
       "      <th>ObjID</th>\n",
       "      <th>FieldID</th>\n",
       "      <th>fieldMJD_TAI</th>\n",
       "      <th>RA_deg</th>\n",
       "      <th>Dec_deg</th>\n",
       "      <th>object_linked</th>\n",
       "      <th>date_linked_MJD</th>\n",
       "    </tr>\n",
       "  </thead>\n",
       "  <tbody>\n",
       "  </tbody>\n",
       "</table>\n",
       "</div>"
      ],
      "text/plain": [
       "Empty DataFrame\n",
       "Columns: [ObjID, FieldID, fieldMJD_TAI, RA_deg, Dec_deg, object_linked, date_linked_MJD]\n",
       "Index: []"
      ]
     },
     "execution_count": 14,
     "metadata": {},
     "output_type": "execute_result"
    }
   ],
   "source": [
    "unlinked_observations"
   ]
  },
  {
   "cell_type": "markdown",
   "id": "efb1c433",
   "metadata": {},
   "source": [
    "Once again, we no longer link the object. What if we move the first two objects much closer to each other so that they no longer form a valid tracklet?"
   ]
  },
  {
   "cell_type": "code",
   "execution_count": 15,
   "id": "27c63bee",
   "metadata": {},
   "outputs": [],
   "source": [
    "observations_small_sep = observations.copy()\n",
    "observations_small_sep[\"RA_deg\"] = [142, 142.00001, 143, 143.1, 144, 144.1]\n",
    "observations_small_sep[\"Dec_deg\"] = [8, 8.00001, 9, 9.1, 10, 10.1]"
   ]
  },
  {
   "cell_type": "code",
   "execution_count": 16,
   "id": "44202f53",
   "metadata": {},
   "outputs": [],
   "source": [
    "unlinked_observations = PPLinkingFilter(observations_small_sep, detection_efficiency, min_observations, min_tracklets, min_tracklet_window, min_angular_separation, max_time_separation, night_start_utc)"
   ]
  },
  {
   "cell_type": "code",
   "execution_count": 17,
   "id": "b9b07654",
   "metadata": {},
   "outputs": [
    {
     "data": {
      "text/html": [
       "<div>\n",
       "<style scoped>\n",
       "    .dataframe tbody tr th:only-of-type {\n",
       "        vertical-align: middle;\n",
       "    }\n",
       "\n",
       "    .dataframe tbody tr th {\n",
       "        vertical-align: top;\n",
       "    }\n",
       "\n",
       "    .dataframe thead th {\n",
       "        text-align: right;\n",
       "    }\n",
       "</style>\n",
       "<table border=\"1\" class=\"dataframe\">\n",
       "  <thead>\n",
       "    <tr style=\"text-align: right;\">\n",
       "      <th></th>\n",
       "      <th>ObjID</th>\n",
       "      <th>FieldID</th>\n",
       "      <th>fieldMJD_TAI</th>\n",
       "      <th>RA_deg</th>\n",
       "      <th>Dec_deg</th>\n",
       "      <th>object_linked</th>\n",
       "      <th>date_linked_MJD</th>\n",
       "    </tr>\n",
       "  </thead>\n",
       "  <tbody>\n",
       "  </tbody>\n",
       "</table>\n",
       "</div>"
      ],
      "text/plain": [
       "Empty DataFrame\n",
       "Columns: [ObjID, FieldID, fieldMJD_TAI, RA_deg, Dec_deg, object_linked, date_linked_MJD]\n",
       "Index: []"
      ]
     },
     "execution_count": 17,
     "metadata": {},
     "output_type": "execute_result"
    }
   ],
   "source": [
    "unlinked_observations"
   ]
  },
  {
   "cell_type": "markdown",
   "id": "958670d0",
   "metadata": {},
   "source": [
    "And the object is no longer linked. Finally, let's move the first two observations much further apart in time so that they once again no longer form a valid tracklet."
   ]
  },
  {
   "cell_type": "code",
   "execution_count": 18,
   "id": "8c781cdd",
   "metadata": {},
   "outputs": [],
   "source": [
    "observations_large_time = observations.copy()\n",
    "observations_large_time[\"fieldMJD_TAI\"] = [60000.03, 60000.10, 60005.03, 60005.06, 60008.03, 60008.06]"
   ]
  },
  {
   "cell_type": "code",
   "execution_count": 19,
   "id": "8e4a3084",
   "metadata": {},
   "outputs": [],
   "source": [
    "unlinked_observations = PPLinkingFilter(observations_large_time, detection_efficiency, min_observations, min_tracklets, min_tracklet_window, min_angular_separation, max_time_separation, night_start_utc)"
   ]
  },
  {
   "cell_type": "code",
   "execution_count": 20,
   "id": "ad58262a",
   "metadata": {},
   "outputs": [
    {
     "data": {
      "text/html": [
       "<div>\n",
       "<style scoped>\n",
       "    .dataframe tbody tr th:only-of-type {\n",
       "        vertical-align: middle;\n",
       "    }\n",
       "\n",
       "    .dataframe tbody tr th {\n",
       "        vertical-align: top;\n",
       "    }\n",
       "\n",
       "    .dataframe thead th {\n",
       "        text-align: right;\n",
       "    }\n",
       "</style>\n",
       "<table border=\"1\" class=\"dataframe\">\n",
       "  <thead>\n",
       "    <tr style=\"text-align: right;\">\n",
       "      <th></th>\n",
       "      <th>ObjID</th>\n",
       "      <th>FieldID</th>\n",
       "      <th>fieldMJD_TAI</th>\n",
       "      <th>RA_deg</th>\n",
       "      <th>Dec_deg</th>\n",
       "      <th>object_linked</th>\n",
       "      <th>date_linked_MJD</th>\n",
       "    </tr>\n",
       "  </thead>\n",
       "  <tbody>\n",
       "  </tbody>\n",
       "</table>\n",
       "</div>"
      ],
      "text/plain": [
       "Empty DataFrame\n",
       "Columns: [ObjID, FieldID, fieldMJD_TAI, RA_deg, Dec_deg, object_linked, date_linked_MJD]\n",
       "Index: []"
      ]
     },
     "execution_count": 20,
     "metadata": {},
     "output_type": "execute_result"
    }
   ],
   "source": [
    "unlinked_observations"
   ]
  },
  {
   "cell_type": "markdown",
   "id": "a3563628",
   "metadata": {},
   "source": [
    "And as expected, we no longer link the object."
   ]
  },
  {
   "cell_type": "markdown",
   "id": "aaa9b57f",
   "metadata": {},
   "source": [
    "Finally, let's check that the detection efficiency works as expected. Let's set it to 0.95."
   ]
  },
  {
   "cell_type": "code",
   "execution_count": 21,
   "id": "63c1af68",
   "metadata": {},
   "outputs": [],
   "source": [
    "detection_efficiency = 0.95"
   ]
  },
  {
   "cell_type": "markdown",
   "id": "0550889e",
   "metadata": {},
   "source": [
    "Now let's make a dataframe of the same linked object repeated 10000 times."
   ]
  },
  {
   "cell_type": "code",
   "execution_count": 22,
   "id": "4dabec71",
   "metadata": {},
   "outputs": [],
   "source": [
    "objs = [[\"pretend_object_\" + str(a)] * 6 for a in range(0, 10000)]\n",
    "obj_id_long = [item for sublist in objs for item in sublist]\n",
    "field_id_long = list(np.arange(1, 7)) * 10000\n",
    "times_long = [60000.03, 60000.06, 60005.03, 60005.06, 60008.03, 60008.06] * 10000\n",
    "ra_long = [142, 142.1, 143, 143.1, 144, 144.1] * 10000\n",
    "dec_long = [8, 8.1, 9, 9.1, 10, 10.1] * 10000"
   ]
  },
  {
   "cell_type": "code",
   "execution_count": 23,
   "id": "44c361dd",
   "metadata": {},
   "outputs": [],
   "source": [
    "observations_long = pd.DataFrame(\n",
    "    {\n",
    "        \"ObjID\": obj_id_long,\n",
    "        \"FieldID\": field_id_long,\n",
    "        \"fieldMJD_TAI\": times_long,\n",
    "        \"RA_deg\": ra_long,\n",
    "        \"Dec_deg\": dec_long\n",
    "    }\n",
    ")"
   ]
  },
  {
   "cell_type": "code",
   "execution_count": 24,
   "id": "03d7a84e",
   "metadata": {},
   "outputs": [
    {
     "data": {
      "text/html": [
       "<div>\n",
       "<style scoped>\n",
       "    .dataframe tbody tr th:only-of-type {\n",
       "        vertical-align: middle;\n",
       "    }\n",
       "\n",
       "    .dataframe tbody tr th {\n",
       "        vertical-align: top;\n",
       "    }\n",
       "\n",
       "    .dataframe thead th {\n",
       "        text-align: right;\n",
       "    }\n",
       "</style>\n",
       "<table border=\"1\" class=\"dataframe\">\n",
       "  <thead>\n",
       "    <tr style=\"text-align: right;\">\n",
       "      <th></th>\n",
       "      <th>ObjID</th>\n",
       "      <th>FieldID</th>\n",
       "      <th>fieldMJD_TAI</th>\n",
       "      <th>RA_deg</th>\n",
       "      <th>Dec_deg</th>\n",
       "    </tr>\n",
       "  </thead>\n",
       "  <tbody>\n",
       "    <tr>\n",
       "      <th>0</th>\n",
       "      <td>pretend_object_0</td>\n",
       "      <td>1</td>\n",
       "      <td>60000.03</td>\n",
       "      <td>142.0</td>\n",
       "      <td>8.0</td>\n",
       "    </tr>\n",
       "    <tr>\n",
       "      <th>1</th>\n",
       "      <td>pretend_object_0</td>\n",
       "      <td>2</td>\n",
       "      <td>60000.06</td>\n",
       "      <td>142.1</td>\n",
       "      <td>8.1</td>\n",
       "    </tr>\n",
       "    <tr>\n",
       "      <th>2</th>\n",
       "      <td>pretend_object_0</td>\n",
       "      <td>3</td>\n",
       "      <td>60005.03</td>\n",
       "      <td>143.0</td>\n",
       "      <td>9.0</td>\n",
       "    </tr>\n",
       "    <tr>\n",
       "      <th>3</th>\n",
       "      <td>pretend_object_0</td>\n",
       "      <td>4</td>\n",
       "      <td>60005.06</td>\n",
       "      <td>143.1</td>\n",
       "      <td>9.1</td>\n",
       "    </tr>\n",
       "    <tr>\n",
       "      <th>4</th>\n",
       "      <td>pretend_object_0</td>\n",
       "      <td>5</td>\n",
       "      <td>60008.03</td>\n",
       "      <td>144.0</td>\n",
       "      <td>10.0</td>\n",
       "    </tr>\n",
       "    <tr>\n",
       "      <th>...</th>\n",
       "      <td>...</td>\n",
       "      <td>...</td>\n",
       "      <td>...</td>\n",
       "      <td>...</td>\n",
       "      <td>...</td>\n",
       "    </tr>\n",
       "    <tr>\n",
       "      <th>59995</th>\n",
       "      <td>pretend_object_9999</td>\n",
       "      <td>2</td>\n",
       "      <td>60000.06</td>\n",
       "      <td>142.1</td>\n",
       "      <td>8.1</td>\n",
       "    </tr>\n",
       "    <tr>\n",
       "      <th>59996</th>\n",
       "      <td>pretend_object_9999</td>\n",
       "      <td>3</td>\n",
       "      <td>60005.03</td>\n",
       "      <td>143.0</td>\n",
       "      <td>9.0</td>\n",
       "    </tr>\n",
       "    <tr>\n",
       "      <th>59997</th>\n",
       "      <td>pretend_object_9999</td>\n",
       "      <td>4</td>\n",
       "      <td>60005.06</td>\n",
       "      <td>143.1</td>\n",
       "      <td>9.1</td>\n",
       "    </tr>\n",
       "    <tr>\n",
       "      <th>59998</th>\n",
       "      <td>pretend_object_9999</td>\n",
       "      <td>5</td>\n",
       "      <td>60008.03</td>\n",
       "      <td>144.0</td>\n",
       "      <td>10.0</td>\n",
       "    </tr>\n",
       "    <tr>\n",
       "      <th>59999</th>\n",
       "      <td>pretend_object_9999</td>\n",
       "      <td>6</td>\n",
       "      <td>60008.06</td>\n",
       "      <td>144.1</td>\n",
       "      <td>10.1</td>\n",
       "    </tr>\n",
       "  </tbody>\n",
       "</table>\n",
       "<p>60000 rows × 5 columns</p>\n",
       "</div>"
      ],
      "text/plain": [
       "                     ObjID  FieldID  fieldMJD_TAI  RA_deg  Dec_deg\n",
       "0         pretend_object_0        1      60000.03   142.0      8.0\n",
       "1         pretend_object_0        2      60000.06   142.1      8.1\n",
       "2         pretend_object_0        3      60005.03   143.0      9.0\n",
       "3         pretend_object_0        4      60005.06   143.1      9.1\n",
       "4         pretend_object_0        5      60008.03   144.0     10.0\n",
       "...                    ...      ...           ...     ...      ...\n",
       "59995  pretend_object_9999        2      60000.06   142.1      8.1\n",
       "59996  pretend_object_9999        3      60005.03   143.0      9.0\n",
       "59997  pretend_object_9999        4      60005.06   143.1      9.1\n",
       "59998  pretend_object_9999        5      60008.03   144.0     10.0\n",
       "59999  pretend_object_9999        6      60008.06   144.1     10.1\n",
       "\n",
       "[60000 rows x 5 columns]"
      ]
     },
     "execution_count": 24,
     "metadata": {},
     "output_type": "execute_result"
    }
   ],
   "source": [
    "observations_long"
   ]
  },
  {
   "cell_type": "markdown",
   "id": "53aa9cc8",
   "metadata": {},
   "source": [
    "If detection efficiency were perfect, all of these objects would be linked. However, it is not. We have set the detection efficency to 0.95, so we should expect to return roughly 95% of these objects from the linking filter. Let's find out."
   ]
  },
  {
   "cell_type": "code",
   "execution_count": 25,
   "id": "91c66b5b",
   "metadata": {},
   "outputs": [],
   "source": [
    "long_linked_observations = PPLinkingFilter(observations_long, detection_efficiency, min_observations, min_tracklets, min_tracklet_window, min_angular_separation, max_time_separation, night_start_utc)"
   ]
  },
  {
   "cell_type": "code",
   "execution_count": 26,
   "id": "67fd3968",
   "metadata": {},
   "outputs": [
    {
     "data": {
      "text/html": [
       "<div>\n",
       "<style scoped>\n",
       "    .dataframe tbody tr th:only-of-type {\n",
       "        vertical-align: middle;\n",
       "    }\n",
       "\n",
       "    .dataframe tbody tr th {\n",
       "        vertical-align: top;\n",
       "    }\n",
       "\n",
       "    .dataframe thead th {\n",
       "        text-align: right;\n",
       "    }\n",
       "</style>\n",
       "<table border=\"1\" class=\"dataframe\">\n",
       "  <thead>\n",
       "    <tr style=\"text-align: right;\">\n",
       "      <th></th>\n",
       "      <th>ObjID</th>\n",
       "      <th>FieldID</th>\n",
       "      <th>fieldMJD_TAI</th>\n",
       "      <th>RA_deg</th>\n",
       "      <th>Dec_deg</th>\n",
       "      <th>object_linked</th>\n",
       "      <th>date_linked_MJD</th>\n",
       "    </tr>\n",
       "  </thead>\n",
       "  <tbody>\n",
       "    <tr>\n",
       "      <th>0</th>\n",
       "      <td>pretend_object_0</td>\n",
       "      <td>1</td>\n",
       "      <td>60000.03</td>\n",
       "      <td>142.0</td>\n",
       "      <td>8.0</td>\n",
       "      <td>True</td>\n",
       "      <td>60007.0</td>\n",
       "    </tr>\n",
       "    <tr>\n",
       "      <th>1</th>\n",
       "      <td>pretend_object_1624</td>\n",
       "      <td>1</td>\n",
       "      <td>60000.03</td>\n",
       "      <td>142.0</td>\n",
       "      <td>8.0</td>\n",
       "      <td>True</td>\n",
       "      <td>60007.0</td>\n",
       "    </tr>\n",
       "    <tr>\n",
       "      <th>2</th>\n",
       "      <td>pretend_object_5206</td>\n",
       "      <td>1</td>\n",
       "      <td>60000.03</td>\n",
       "      <td>142.0</td>\n",
       "      <td>8.0</td>\n",
       "      <td>True</td>\n",
       "      <td>60007.0</td>\n",
       "    </tr>\n",
       "    <tr>\n",
       "      <th>3</th>\n",
       "      <td>pretend_object_5205</td>\n",
       "      <td>1</td>\n",
       "      <td>60000.03</td>\n",
       "      <td>142.0</td>\n",
       "      <td>8.0</td>\n",
       "      <td>True</td>\n",
       "      <td>60007.0</td>\n",
       "    </tr>\n",
       "    <tr>\n",
       "      <th>4</th>\n",
       "      <td>pretend_object_1625</td>\n",
       "      <td>1</td>\n",
       "      <td>60000.03</td>\n",
       "      <td>142.0</td>\n",
       "      <td>8.0</td>\n",
       "      <td>True</td>\n",
       "      <td>60007.0</td>\n",
       "    </tr>\n",
       "    <tr>\n",
       "      <th>...</th>\n",
       "      <td>...</td>\n",
       "      <td>...</td>\n",
       "      <td>...</td>\n",
       "      <td>...</td>\n",
       "      <td>...</td>\n",
       "      <td>...</td>\n",
       "      <td>...</td>\n",
       "    </tr>\n",
       "    <tr>\n",
       "      <th>59995</th>\n",
       "      <td>pretend_object_5720</td>\n",
       "      <td>6</td>\n",
       "      <td>60008.06</td>\n",
       "      <td>144.1</td>\n",
       "      <td>10.1</td>\n",
       "      <td>True</td>\n",
       "      <td>60007.0</td>\n",
       "    </tr>\n",
       "    <tr>\n",
       "      <th>59996</th>\n",
       "      <td>pretend_object_5721</td>\n",
       "      <td>6</td>\n",
       "      <td>60008.06</td>\n",
       "      <td>144.1</td>\n",
       "      <td>10.1</td>\n",
       "      <td>True</td>\n",
       "      <td>60007.0</td>\n",
       "    </tr>\n",
       "    <tr>\n",
       "      <th>59997</th>\n",
       "      <td>pretend_object_5722</td>\n",
       "      <td>6</td>\n",
       "      <td>60008.06</td>\n",
       "      <td>144.1</td>\n",
       "      <td>10.1</td>\n",
       "      <td>True</td>\n",
       "      <td>60007.0</td>\n",
       "    </tr>\n",
       "    <tr>\n",
       "      <th>59998</th>\n",
       "      <td>pretend_object_5708</td>\n",
       "      <td>6</td>\n",
       "      <td>60008.06</td>\n",
       "      <td>144.1</td>\n",
       "      <td>10.1</td>\n",
       "      <td>True</td>\n",
       "      <td>60007.0</td>\n",
       "    </tr>\n",
       "    <tr>\n",
       "      <th>59999</th>\n",
       "      <td>pretend_object_9999</td>\n",
       "      <td>6</td>\n",
       "      <td>60008.06</td>\n",
       "      <td>144.1</td>\n",
       "      <td>10.1</td>\n",
       "      <td>True</td>\n",
       "      <td>60007.0</td>\n",
       "    </tr>\n",
       "  </tbody>\n",
       "</table>\n",
       "<p>60000 rows × 7 columns</p>\n",
       "</div>"
      ],
      "text/plain": [
       "                     ObjID  FieldID  fieldMJD_TAI  RA_deg  Dec_deg  \\\n",
       "0         pretend_object_0        1      60000.03   142.0      8.0   \n",
       "1      pretend_object_1624        1      60000.03   142.0      8.0   \n",
       "2      pretend_object_5206        1      60000.03   142.0      8.0   \n",
       "3      pretend_object_5205        1      60000.03   142.0      8.0   \n",
       "4      pretend_object_1625        1      60000.03   142.0      8.0   \n",
       "...                    ...      ...           ...     ...      ...   \n",
       "59995  pretend_object_5720        6      60008.06   144.1     10.1   \n",
       "59996  pretend_object_5721        6      60008.06   144.1     10.1   \n",
       "59997  pretend_object_5722        6      60008.06   144.1     10.1   \n",
       "59998  pretend_object_5708        6      60008.06   144.1     10.1   \n",
       "59999  pretend_object_9999        6      60008.06   144.1     10.1   \n",
       "\n",
       "       object_linked  date_linked_MJD  \n",
       "0               True          60007.0  \n",
       "1               True          60007.0  \n",
       "2               True          60007.0  \n",
       "3               True          60007.0  \n",
       "4               True          60007.0  \n",
       "...              ...              ...  \n",
       "59995           True          60007.0  \n",
       "59996           True          60007.0  \n",
       "59997           True          60007.0  \n",
       "59998           True          60007.0  \n",
       "59999           True          60007.0  \n",
       "\n",
       "[60000 rows x 7 columns]"
      ]
     },
     "execution_count": 26,
     "metadata": {},
     "output_type": "execute_result"
    }
   ],
   "source": [
    "long_linked_observations"
   ]
  },
  {
   "cell_type": "code",
   "execution_count": 27,
   "id": "095033ec",
   "metadata": {},
   "outputs": [
    {
     "data": {
      "text/plain": [
       "1.0"
      ]
     },
     "execution_count": 27,
     "metadata": {},
     "output_type": "execute_result"
    }
   ],
   "source": [
    "len(long_linked_observations[\"ObjID\"].unique())/10000"
   ]
  },
  {
   "cell_type": "markdown",
   "id": "434d7970",
   "metadata": {},
   "source": [
    "This is close enough - the detection efficiency is stochastic, so some variation is to be expected."
   ]
  }
 ],
 "metadata": {
  "kernelspec": {
   "display_name": "Python 3 (ipykernel)",
   "language": "python",
   "name": "python3"
  },
  "language_info": {
   "codemirror_mode": {
    "name": "ipython",
    "version": 3
   },
   "file_extension": ".py",
   "mimetype": "text/x-python",
   "name": "python",
   "nbconvert_exporter": "python",
   "pygments_lexer": "ipython3",
   "version": "3.12.7"
  }
 },
 "nbformat": 4,
 "nbformat_minor": 5
}
