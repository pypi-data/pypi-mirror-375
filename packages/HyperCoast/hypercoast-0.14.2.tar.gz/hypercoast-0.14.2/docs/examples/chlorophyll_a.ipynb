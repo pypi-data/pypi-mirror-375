{
 "cells": [
  {
   "cell_type": "markdown",
   "metadata": {},
   "source": [
    "[![image](https://colab.research.google.com/assets/colab-badge.svg)](https://colab.research.google.com/github/opengeos/HyperCoast/blob/main/docs/examples/chlorophyll_a.ipynb)\n",
    "\n",
    "# Visualizing PACE chlorophyll-a data interactively with HyperCoast\n",
    "\n",
    "This notebook demonstrates how to visualize [Plankton, Aerosol, Cloud, ocean Ecosystem (PACE)](https://pace.gsfc.nasa.gov) data interactively with HyperCoast."
   ]
  },
  {
   "cell_type": "code",
   "execution_count": null,
   "metadata": {},
   "outputs": [],
   "source": [
    "# %pip install \"hypercoast[extra]\""
   ]
  },
  {
   "cell_type": "code",
   "execution_count": null,
   "metadata": {},
   "outputs": [],
   "source": [
    "import hypercoast"
   ]
  },
  {
   "cell_type": "markdown",
   "metadata": {},
   "source": [
    "To download PACE data, you will need to create an Earthdata login. You can register for an account at [urs.earthdata.nasa.gov](https://urs.earthdata.nasa.gov). Once you have an account, you can uncomment the code below to search and download the data."
   ]
  },
  {
   "cell_type": "code",
   "execution_count": null,
   "metadata": {},
   "outputs": [],
   "source": [
    "# hypercoast.nasa_earth_login()\n",
    "# temporal = (\"2024-06-01\", \"2024-07-01\")\n",
    "# results= hypercoast.search_pace_chla(temporal=temporal)\n",
    "# hypercoast.download_nasa_data(results, \"chla\")"
   ]
  },
  {
   "cell_type": "markdown",
   "metadata": {},
   "source": [
    "Alternatively, you can download some sample data from [here](https://github.com/opengeos/datasets/releases/tag/hypercoast)."
   ]
  },
  {
   "cell_type": "code",
   "execution_count": null,
   "metadata": {},
   "outputs": [],
   "source": [
    "url = \"https://github.com/opengeos/datasets/releases/download/hypercoast/pace_chla.zip\"\n",
    "hypercoast.download_file(url)"
   ]
  },
  {
   "cell_type": "markdown",
   "metadata": {},
   "source": [
    "The downloaded zip file is automatically extracted and saved in the `chla` directory, which contains 17 daily files of chlorophyll-a concentration data in the netCDF format. The date range of the data is from 2024-06-01 to 2024-06-17."
   ]
  },
  {
   "cell_type": "code",
   "execution_count": null,
   "metadata": {},
   "outputs": [],
   "source": [
    "files = \"chla/*nc\""
   ]
  },
  {
   "cell_type": "markdown",
   "metadata": {},
   "source": [
    "Load all the data files in the `chla` directory as an xarray DataArray"
   ]
  },
  {
   "cell_type": "code",
   "execution_count": null,
   "metadata": {},
   "outputs": [],
   "source": [
    "array = hypercoast.read_pace_chla(files)\n",
    "array"
   ]
  },
  {
   "cell_type": "markdown",
   "metadata": {},
   "source": [
    "Select a date and visualize the chlorophyll-a concentration data with Matplotlib."
   ]
  },
  {
   "cell_type": "code",
   "execution_count": null,
   "metadata": {},
   "outputs": [],
   "source": [
    "hypercoast.viz_pace_chla(array, date=\"2024-06-01\", cmap=\"jet\", size=6)"
   ]
  },
  {
   "cell_type": "markdown",
   "metadata": {},
   "source": [
    "If the date is not specified, the data are averaged over the entire time range."
   ]
  },
  {
   "cell_type": "code",
   "execution_count": null,
   "metadata": {},
   "outputs": [],
   "source": [
    "hypercoast.viz_pace_chla(array, cmap=\"jet\", size=6)"
   ]
  },
  {
   "cell_type": "markdown",
   "metadata": {},
   "source": [
    "To visualize the data interactively, we can select either a single date or aggregate the data over a time range. \n",
    "\n",
    "First, let's select a single date from the data array:"
   ]
  },
  {
   "cell_type": "code",
   "execution_count": null,
   "metadata": {},
   "outputs": [],
   "source": [
    "single_array = array.sel(date=\"2024-06-01\")\n",
    "single_array"
   ]
  },
  {
   "cell_type": "markdown",
   "metadata": {},
   "source": [
    "Convert the data array to an image that can be displayed on an interactive map."
   ]
  },
  {
   "cell_type": "code",
   "execution_count": null,
   "metadata": {},
   "outputs": [],
   "source": [
    "single_image = hypercoast.pace_chla_to_image(single_array)"
   ]
  },
  {
   "cell_type": "markdown",
   "metadata": {},
   "source": [
    "Create an interactive map and display the image on the map."
   ]
  },
  {
   "cell_type": "code",
   "execution_count": null,
   "metadata": {},
   "outputs": [],
   "source": [
    "m = hypercoast.Map(center=[40, -100], zoom=4)\n",
    "m.add_basemap(\"Hybrid\")\n",
    "m.add_raster(\n",
    "    single_image,\n",
    "    cmap=\"jet\",\n",
    "    vmin=-1,\n",
    "    vmax=2,\n",
    "    layer_name=\"Chlorophyll a\",\n",
    "    zoom_to_layer=False,\n",
    ")\n",
    "label = \"Chlorophyll Concentration [lg(lg(mg m^-3))]\"\n",
    "m.add_colormap(cmap=\"jet\", vmin=-1, vmax=2, label=label)\n",
    "m"
   ]
  },
  {
   "cell_type": "markdown",
   "metadata": {},
   "source": [
    "![](https://i.imgur.com/AQr9wUP.png)"
   ]
  },
  {
   "cell_type": "markdown",
   "metadata": {},
   "source": [
    "The daily image does not have a global coverage. To visualize the data globally, we can aggregate the data over a time range."
   ]
  },
  {
   "cell_type": "code",
   "execution_count": null,
   "metadata": {},
   "outputs": [],
   "source": [
    "mean_array = array.mean(dim=\"date\")"
   ]
  },
  {
   "cell_type": "markdown",
   "metadata": {},
   "source": [
    "Convert the aggregated data array to an image that can be displayed on an interactive map."
   ]
  },
  {
   "cell_type": "code",
   "execution_count": null,
   "metadata": {},
   "outputs": [],
   "source": [
    "image = hypercoast.pace_chla_to_image(mean_array)"
   ]
  },
  {
   "cell_type": "markdown",
   "metadata": {},
   "source": [
    "Create an interactive map and display the image on the map."
   ]
  },
  {
   "cell_type": "code",
   "execution_count": null,
   "metadata": {},
   "outputs": [],
   "source": [
    "m = hypercoast.Map(center=[40, -100], zoom=4)\n",
    "m.add_basemap(\"Hybrid\")\n",
    "m.add_raster(\n",
    "    image, cmap=\"jet\", vmin=-1, vmax=2, layer_name=\"Chlorophyll a\", zoom_to_layer=False\n",
    ")\n",
    "label = \"Chlorophyll Concentration [lg(lg(mg m^-3))]\"\n",
    "m.add_colormap(cmap=\"jet\", vmin=-1, vmax=2, label=label)\n",
    "m"
   ]
  },
  {
   "cell_type": "markdown",
   "metadata": {},
   "source": [
    "![](https://i.imgur.com/6hP6OFD.png)"
   ]
  }
 ],
 "metadata": {
  "kernelspec": {
   "display_name": "Python 3 (ipykernel)",
   "language": "python",
   "name": "python3"
  },
  "language_info": {
   "codemirror_mode": {
    "name": "ipython",
    "version": 3
   },
   "file_extension": ".py",
   "mimetype": "text/x-python",
   "name": "python",
   "nbconvert_exporter": "python",
   "pygments_lexer": "ipython3",
   "version": "3.10.14"
  }
 },
 "nbformat": 4,
 "nbformat_minor": 4
}
