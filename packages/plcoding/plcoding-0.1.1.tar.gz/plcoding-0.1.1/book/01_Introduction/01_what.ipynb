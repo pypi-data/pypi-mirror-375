{
 "cells": [
  {
   "cell_type": "markdown",
   "id": "6453f4e2",
   "metadata": {},
   "source": [
    "# 一、什么是极化码？"
   ]
  },
  {
   "cell_type": "markdown",
   "id": "02111e35",
   "metadata": {},
   "source": [
    "极化码（Polar Codes）是由土耳其教授 Erdal Arikan：  \n",
    "![Arikan教授](./figures/arikan.png)\n",
    "\n",
    "于2008年首次在国际信息论会议 IEEE International Symposium on Information Theory 上提出的一种信道纠错码技术，是该领域近年来出现的一个划时代意义的发现，挑战了自Turbo码以来，只有为编码结构引入随机性才能接近Shannon界的固有认知，极大地激发了学术界的研究热情，\n",
    "\n",
    "---"
   ]
  },
  {
   "cell_type": "markdown",
   "id": "d3fbb1d7",
   "metadata": {},
   "source": [
    "## 1. 技术亮点\n",
    "\n",
    "在理论上已严格证明，可以达到对称二进制输入无记忆信道（Symmetric Binary-Input Memoryless Channels）的信道容量。\n",
    "\n",
    "> 尽管仅上述一项特点就已经足以称得上是划时代的发现，极化码在随后研究中被发现在很多经典问题下都是最优的。\n",
    "\n",
    "极化码具有亚线性的编译码复杂度：$\\mathcal{O}(N \\log N)$。\n",
    "\n",
    "> 自从Shannon证明了随机编码大概率就是最优的这一特点之后，人们就已经发现了各种最优编码，但它们最少都是多项式复杂度的。像低到亚线性这种程度是绝无仅有的，因为这意味着这类码具有了实际应用的价值。\n",
    "\n",
    "---"
   ]
  },
  {
   "cell_type": "markdown",
   "id": "77b31dfc",
   "metadata": {},
   "source": [
    "## 2. 纠错编码技术的发展历程\n",
    "\n",
    "1. Hamming 码阶段，最初的尝试；\n",
    "2. 通过线性代数、高等代数等，设计确定性的数学结构对抗随机干扰（如Golay码、BCH码、RS码等）；\n",
    "3. 为编码结构引入一定随机性，尝试实现实用化的随机编码（如LDGM码）；\n",
    "4. 抛弃块结构，转而面向半无限长码长的序列编译码（卷积码）；\n",
    "5. 第一个足够接近Shannon界的纠错码，序列编译码+随机性（Turbo码）；\n",
    "6. 低密度奇偶校验码（LDPC）的重新发现，传统编码结构+超大码长+随机性；\n",
    "7. 极化码（Polar Codes），基于全新的、确定性的数学体系而发展出来的低复杂度纠错码技术；\n",
    "8. to be continued...\n",
    "\n",
    "---"
   ]
  },
  {
   "cell_type": "markdown",
   "id": "aeb49d35",
   "metadata": {},
   "source": [
    "## 3. 极化码研究内容\n",
    "\n",
    "**理论问题**\n",
    "\n",
    "- 有损信源压缩、Slepian–Wolf问题等经典信息论问题\n",
    "- 有限码长等新时代信息论问题\n",
    "- 多址接入、广播信道等半实用化半理论化问题\n",
    "- 基于极化理论的广义极化码\n",
    "- 基于经典极化编码技术的进一步改进，如基于半冻结集的极化码\n",
    "\n",
    "**实用问题**\n",
    "\n",
    "- 非$2^n$码长极化码的构造与最优性论证\n",
    "- 码率匹配、自适应码率调整\n",
    "- 编译码算法的并行化、早停机制、高吞吐量设计\n",
    "- 与其他码的级联\n",
    "\n",
    "---"
   ]
  },
  {
   "cell_type": "markdown",
   "id": "ce691ce7",
   "metadata": {},
   "source": [
    "## 4. 极化码的经典范式\n",
    "\n",
    "1. 明确应用场景，执行**构造**算法，获得一个极化码；\n",
    "2. 根据构造结果，执行**编码**过程，在冻结位输入比特$0$，在信息位输入待传输比特，\n",
    "4. 根据信道输出信息和其他已有的先验知识，对接收码字进行**译码**。"
   ]
  }
 ],
 "metadata": {
  "kernelspec": {
   "display_name": "rzc_d2l",
   "language": "python",
   "name": "rzc_d2l"
  },
  "language_info": {
   "codemirror_mode": {
    "name": "ipython",
    "version": 3
   },
   "file_extension": ".py",
   "mimetype": "text/x-python",
   "name": "python",
   "nbconvert_exporter": "python",
   "pygments_lexer": "ipython3",
   "version": "3.11.11"
  }
 },
 "nbformat": 4,
 "nbformat_minor": 5
}
