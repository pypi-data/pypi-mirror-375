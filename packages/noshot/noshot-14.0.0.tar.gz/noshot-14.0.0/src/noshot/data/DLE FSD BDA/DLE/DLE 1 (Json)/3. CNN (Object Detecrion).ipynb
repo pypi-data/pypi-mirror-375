{
 "cells": [
  {
   "cell_type": "code",
   "execution_count": null,
   "metadata": {
    "colab": {
     "base_uri": "https://localhost:8080/"
    },
    "id": "jYBOYvgJS3Gn",
    "outputId": "0876b799-d18a-4968-88e8-7e6b4ce3dcf2"
   },
   "outputs": [],
   "source": [
    "from google.colab import drive\n",
    "drive.mount('/content/drive')"
   ]
  },
  {
   "cell_type": "code",
   "execution_count": null,
   "metadata": {
    "colab": {
     "base_uri": "https://localhost:8080/"
    },
    "id": "rAQLygx6XQSM",
    "outputId": "22d76daf-4617-4801-beda-3a41aa19849b"
   },
   "outputs": [],
   "source": [
    "import tensorflow as tf\n",
    "gpus = tf.config.list_physical_devices('GPU')\n",
    "if gpus:\n",
    "    try:\n",
    "        tf.config.set_visible_devices(gpus[0], 'GPU')\n",
    "        tf.config.experimental.set_memory_growth(gpus[0], True)\n",
    "        print(\"Connected to GPU:\", gpus[0])\n",
    "    except RuntimeError as e:\n",
    "        print(e)\n",
    "else:\n",
    "    print(\"No GPU detected\")"
   ]
  },
  {
   "cell_type": "code",
   "execution_count": null,
   "metadata": {
    "id": "Fg35-trEUVVO"
   },
   "outputs": [],
   "source": [
    "import tensorflow as tf\n",
    "import numpy as np\n",
    "import matplotlib.pyplot as plt\n",
    "from tensorflow.keras.preprocessing import image_dataset_from_directory\n",
    "from tensorflow.keras.applications import VGG16\n",
    "from tensorflow.keras.layers import Dense, Flatten, Input\n",
    "from tensorflow.keras.models import Model"
   ]
  },
  {
   "cell_type": "code",
   "execution_count": null,
   "metadata": {
    "colab": {
     "base_uri": "https://localhost:8080/"
    },
    "id": "_ktocPHlXiYf",
    "outputId": "80949b79-40b2-47b5-e06c-5e3df88be80b"
   },
   "outputs": [],
   "source": [
    "train_ds=image_dataset_from_directory(\n",
    "    '/content/drive/MyDrive/sem 7/Lab/DL_Lab/Bean_Dataset',\n",
    "    subset='training',\n",
    "    validation_split=0.2,\n",
    "    seed=123,\n",
    "    image_size=(224,224),\n",
    "    batch_size=32\n",
    ")\n",
    "\n",
    "val_ds=image_dataset_from_directory(\n",
    "    '/content/drive/MyDrive/sem 7/Lab/DL_Lab/Bean_Dataset',\n",
    "    subset='validation',\n",
    "    validation_split=0.2,\n",
    "    seed=123,\n",
    "    image_size=(224,224),\n",
    "    batch_size=32\n",
    ")"
   ]
  },
  {
   "cell_type": "code",
   "execution_count": null,
   "metadata": {
    "id": "GNxlh9pKYj_e"
   },
   "outputs": [],
   "source": [
    "def preprocess(image, label):\n",
    "    image = tf.cast(image, tf.float32) / 255.0\n",
    "    bbox = tf.constant([0.0, 0.0, 1.0, 1.0], dtype=tf.float32)\n",
    "\n",
    "    return image, {\n",
    "        \"class_output\": tf.one_hot(label, depth=3),\n",
    "        \"bbox_output\": bbox\n",
    "    }\n",
    "\n",
    "train_ds = train_ds.map(preprocess).prefetch(tf.data.AUTOTUNE)\n",
    "val_ds   = val_ds.map(preprocess).prefetch(tf.data.AUTOTUNE)\n"
   ]
  },
  {
   "cell_type": "code",
   "execution_count": null,
   "metadata": {
    "id": "bdOD-gfYZ-v_"
   },
   "outputs": [],
   "source": [
    "base_model=VGG16(\n",
    "    weights='imagenet',\n",
    "    include_top=False,\n",
    "    input_tensor=Input(shape=(224,224,3))\n",
    ")\n",
    "\n",
    "for layer in base_model.layers:\n",
    "  layer.trainable=False"
   ]
  },
  {
   "cell_type": "code",
   "execution_count": null,
   "metadata": {
    "id": "yvLkjlSWbT_G"
   },
   "outputs": [],
   "source": [
    "x=Flatten()(base_model.output)\n",
    "\n",
    "class_output=Dense(3,activation='softmax',name='class_output')(x)\n",
    "\n",
    "bbox_output=Dense(4,activation='linear',name='bbox_output')(x)"
   ]
  },
  {
   "cell_type": "code",
   "execution_count": null,
   "metadata": {
    "colab": {
     "base_uri": "https://localhost:8080/",
     "height": 1000
    },
    "id": "lt3a7yFkb6oL",
    "outputId": "671b98a2-0cbd-464b-c64d-f5d26b6afb74"
   },
   "outputs": [],
   "source": [
    "model=Model(inputs=base_model.input,outputs=[class_output,bbox_output])\n",
    "model.compile(\n",
    "    optimizer=\"adam\",\n",
    "    loss={\"class_output\": \"categorical_crossentropy\", \"bbox_output\": \"mse\"},\n",
    "    metrics={\"class_output\": \"accuracy\", \"bbox_output\": \"mse\"}\n",
    ")\n",
    "model.summary()"
   ]
  },
  {
   "cell_type": "code",
   "execution_count": null,
   "metadata": {
    "colab": {
     "base_uri": "https://localhost:8080/"
    },
    "id": "j62lCsGaTLbj",
    "outputId": "88c8b743-1013-456a-ccbb-75a80f1ec034"
   },
   "outputs": [],
   "source": [
    "history = model.fit(\n",
    "    train_ds,\n",
    "    validation_data=val_ds,\n",
    "    epochs=5\n",
    ")"
   ]
  },
  {
   "cell_type": "code",
   "execution_count": null,
   "metadata": {
    "colab": {
     "base_uri": "https://localhost:8080/",
     "height": 423
    },
    "id": "hWUAuWX0TN_5",
    "outputId": "272c9521-23a6-4e92-e623-cc1355c8df8f"
   },
   "outputs": [],
   "source": [
    "import cv2\n",
    "\n",
    "def show_prediction(img_path):\n",
    "    img = tf.keras.utils.load_img(img_path, target_size=(224, 224))\n",
    "    img_array = tf.keras.utils.img_to_array(img) / 255.0\n",
    "    img_input = np.expand_dims(img_array, axis=0)\n",
    "\n",
    "    pred_class, pred_bbox = model.predict(img_input)\n",
    "\n",
    "    # Get predicted class\n",
    "    class_idx = np.argmax(pred_class[0])\n",
    "    class_names = [\"class1\", \"class2\", \"class3\"]\n",
    "    label = class_names[class_idx]\n",
    "    score = np.max(pred_class[0])\n",
    "\n",
    "    # Scale bbox back to image size\n",
    "    xmin, ymin, xmax, ymax = pred_bbox[0]\n",
    "    xmin, xmax = int(xmin*224), int(xmax*224)\n",
    "    ymin, ymax = int(ymin*224), int(ymax*224)\n",
    "\n",
    "    img_disp = np.array(img_array*255, dtype=np.uint8)\n",
    "    img_disp = cv2.rectangle(img_disp, (xmin, ymin), (xmax, ymax), (255,0,0), 2)\n",
    "    cv2.putText(img_disp, f\"{label} ({score:.2f})\", (xmin, ymin-10),\n",
    "                cv2.FONT_HERSHEY_SIMPLEX, 0.6, (255,0,0), 2)\n",
    "\n",
    "    plt.imshow(img_disp.astype(\"uint8\"))\n",
    "    plt.axis(\"off\")\n",
    "    plt.show()\n",
    "\n",
    "show_prediction(\"/content/drive/MyDrive/sem 7/Lab/DL_Lab/Bean_Dataset/angular_leaf_spot/angular_leaf_spot_06.jpg\")\n"
   ]
  }
 ],
 "metadata": {
  "accelerator": "GPU",
  "colab": {
   "gpuType": "T4",
   "provenance": []
  },
  "kernelspec": {
   "display_name": "Python 3 (ipykernel)",
   "language": "python",
   "name": "python3"
  },
  "language_info": {
   "codemirror_mode": {
    "name": "ipython",
    "version": 3
   },
   "file_extension": ".py",
   "mimetype": "text/x-python",
   "name": "python",
   "nbconvert_exporter": "python",
   "pygments_lexer": "ipython3",
   "version": "3.12.4"
  }
 },
 "nbformat": 4,
 "nbformat_minor": 4
}
