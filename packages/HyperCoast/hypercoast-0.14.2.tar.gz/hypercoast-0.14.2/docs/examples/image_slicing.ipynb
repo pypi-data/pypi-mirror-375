{
 "cells": [
  {
   "cell_type": "markdown",
   "metadata": {},
   "source": [
    "[![image](https://colab.research.google.com/assets/colab-badge.svg)](https://colab.research.google.com/github/opengeos/HyperCoast/blob/main/docs/examples/image_slicing.ipynb)\n",
    "\n",
    "# Interactive slicing and thresholding of hyperspectral data with HyperCoast\n",
    "\n",
    "This notebook demonstrates how to perform interactive slicing and thresholding of hyperspectral data with HyperCoast using the [PyVista](https://pyvista.org) plotting backend."
   ]
  },
  {
   "cell_type": "code",
   "execution_count": null,
   "metadata": {},
   "outputs": [],
   "source": [
    "# %pip install \"hypercoast[extra]\""
   ]
  },
  {
   "cell_type": "code",
   "execution_count": null,
   "metadata": {},
   "outputs": [],
   "source": [
    "import hypercoast"
   ]
  },
  {
   "cell_type": "markdown",
   "metadata": {},
   "source": [
    "## NEON AOP\n",
    "\n",
    "Download a sample NEON AOP hyperspectral dataset."
   ]
  },
  {
   "cell_type": "code",
   "execution_count": null,
   "metadata": {},
   "outputs": [],
   "source": [
    "url = \"https://github.com/opengeos/datasets/releases/download/hypercoast/NEON_D02_SERC_DP3_368000_4306000_reflectance.h5\"\n",
    "filepath = \"data/neon.h5\"\n",
    "hypercoast.download_file(url, filepath)"
   ]
  },
  {
   "cell_type": "markdown",
   "metadata": {},
   "source": [
    "Load the dataset as a `xarray.Dataset` object."
   ]
  },
  {
   "cell_type": "code",
   "execution_count": null,
   "metadata": {},
   "outputs": [],
   "source": [
    "dataset = hypercoast.read_neon(filepath)\n",
    "dataset"
   ]
  },
  {
   "cell_type": "markdown",
   "metadata": {},
   "source": [
    "Extract a small subset of the dataset for demonstration purposes."
   ]
  },
  {
   "cell_type": "code",
   "execution_count": null,
   "metadata": {},
   "outputs": [],
   "source": [
    "ds = dataset.isel(x=slice(100, 200), y=slice(100, 200))\n",
    "ds"
   ]
  },
  {
   "cell_type": "markdown",
   "metadata": {},
   "source": [
    "Interactive slicing along the z-axis (band)"
   ]
  },
  {
   "cell_type": "code",
   "execution_count": null,
   "metadata": {},
   "outputs": [],
   "source": [
    "p = hypercoast.image_cube(\n",
    "    ds,\n",
    "    variable=\"reflectance\",\n",
    "    cmap=\"jet\",\n",
    "    clim=(0, 0.5),\n",
    "    rgb_wavelengths=[1000, 700, 500],\n",
    "    rgb_gamma=2,\n",
    "    widget=\"slice\",\n",
    ")\n",
    "p.add_text(\"Band slicing \", position=\"upper_right\", font_size=14)\n",
    "p.show()"
   ]
  },
  {
   "cell_type": "markdown",
   "metadata": {},
   "source": [
    "![](https://i.imgur.com/NCw1ZJI.gif)"
   ]
  },
  {
   "cell_type": "markdown",
   "metadata": {},
   "source": [
    "Interactive slicing along the x-axis (longitude)."
   ]
  },
  {
   "cell_type": "code",
   "execution_count": null,
   "metadata": {},
   "outputs": [],
   "source": [
    "p = hypercoast.image_cube(\n",
    "    ds,\n",
    "    variable=\"reflectance\",\n",
    "    cmap=\"jet\",\n",
    "    clim=(0, 0.5),\n",
    "    rgb_wavelengths=[1000, 700, 500],\n",
    "    rgb_gamma=2,\n",
    "    widget=\"slice\",\n",
    "    normal=\"x\",\n",
    ")\n",
    "p.add_text(\"X-axis slicing \", position=\"upper_right\", font_size=14)\n",
    "p.show()"
   ]
  },
  {
   "cell_type": "markdown",
   "metadata": {},
   "source": [
    "![](https://i.imgur.com/cufeKsy.gif)"
   ]
  },
  {
   "cell_type": "markdown",
   "metadata": {},
   "source": [
    "Orthogonal slicing."
   ]
  },
  {
   "cell_type": "code",
   "execution_count": null,
   "metadata": {},
   "outputs": [],
   "source": [
    "p = hypercoast.image_cube(\n",
    "    ds,\n",
    "    variable=\"reflectance\",\n",
    "    cmap=\"jet\",\n",
    "    clim=(0, 0.5),\n",
    "    rgb_wavelengths=[1000, 700, 500],\n",
    "    rgb_gamma=2,\n",
    "    widget=\"orthogonal\",\n",
    ")\n",
    "p.add_text(\"Orthogonal slicing\", position=\"upper_right\", font_size=14)\n",
    "p.show()"
   ]
  },
  {
   "cell_type": "markdown",
   "metadata": {},
   "source": [
    "![](https://i.imgur.com/IymKqSu.gif)"
   ]
  },
  {
   "cell_type": "markdown",
   "metadata": {},
   "source": [
    "Clip the image cube with a plane (band slicing)."
   ]
  },
  {
   "cell_type": "code",
   "execution_count": null,
   "metadata": {},
   "outputs": [],
   "source": [
    "p = hypercoast.image_cube(\n",
    "    ds,\n",
    "    variable=\"reflectance\",\n",
    "    cmap=\"jet\",\n",
    "    clim=(0, 0.5),\n",
    "    rgb_wavelengths=[1000, 700, 500],\n",
    "    rgb_gamma=2,\n",
    "    widget=\"plane\",\n",
    ")\n",
    "p.add_text(\"Band slicing\", position=\"upper_right\", font_size=14)\n",
    "p.show()"
   ]
  },
  {
   "cell_type": "markdown",
   "metadata": {},
   "source": [
    "![](https://i.imgur.com/OSBu0Hc.gif)"
   ]
  },
  {
   "cell_type": "markdown",
   "metadata": {},
   "source": [
    "Interactive thresholding."
   ]
  },
  {
   "cell_type": "code",
   "execution_count": null,
   "metadata": {},
   "outputs": [],
   "source": [
    "p = hypercoast.image_cube(\n",
    "    ds,\n",
    "    variable=\"reflectance\",\n",
    "    cmap=\"jet\",\n",
    "    clim=(0, 0.5),\n",
    "    rgb_wavelengths=[1000, 700, 500],\n",
    "    rgb_gamma=2,\n",
    "    widget=\"threshold\",\n",
    ")\n",
    "p.add_text(\"Thresholding\", position=\"upper_right\", font_size=14)\n",
    "p.show()"
   ]
  },
  {
   "cell_type": "markdown",
   "metadata": {},
   "source": [
    "![](https://i.imgur.com/2WZrADi.gif)"
   ]
  },
  {
   "cell_type": "markdown",
   "metadata": {},
   "source": [
    "## NASA EMIT\n",
    "\n",
    "Download a sample NASA EMIT hyperspectral dataset from [here](https://github.com/opengeos/datasets/releases/tag/netcdf)."
   ]
  },
  {
   "cell_type": "code",
   "execution_count": null,
   "metadata": {},
   "outputs": [],
   "source": [
    "url = \"https://github.com/opengeos/datasets/releases/download/netcdf/EMIT_L2A_RFL_001_20240404T161230_2409511_009.nc\"\n",
    "filepath = \"data/EMIT_L2A_RFL_001_20240404T161230_2409511_009.nc\"\n",
    "hypercoast.download_file(url, filepath)"
   ]
  },
  {
   "cell_type": "markdown",
   "metadata": {},
   "source": [
    "Load the dataset as a `xarray.Dataset` object."
   ]
  },
  {
   "cell_type": "code",
   "execution_count": null,
   "metadata": {},
   "outputs": [],
   "source": [
    "dataset = hypercoast.read_emit(filepath)\n",
    "dataset"
   ]
  },
  {
   "cell_type": "markdown",
   "metadata": {},
   "source": [
    "Select a subset of the data for demonstration purposes."
   ]
  },
  {
   "cell_type": "code",
   "execution_count": null,
   "metadata": {},
   "outputs": [],
   "source": [
    "ds = dataset.sel(longitude=slice(-90.05, -89.99), latitude=slice(30.00, 29.93))\n",
    "ds"
   ]
  },
  {
   "cell_type": "markdown",
   "metadata": {},
   "source": [
    "Interactive slicing along the z-axis (band)."
   ]
  },
  {
   "cell_type": "code",
   "execution_count": null,
   "metadata": {},
   "outputs": [],
   "source": [
    "p = hypercoast.image_cube(\n",
    "    ds,\n",
    "    variable=\"reflectance\",\n",
    "    cmap=\"jet\",\n",
    "    clim=(0, 0.5),\n",
    "    rgb_wavelengths=[1000, 700, 500],\n",
    "    rgb_gamma=2,\n",
    "    title=\"EMIT Reflectance\",\n",
    "    widget=\"plane\",\n",
    ")\n",
    "p.add_text(\"Band slicing\", position=\"upper_right\", font_size=14)\n",
    "p.show()"
   ]
  },
  {
   "cell_type": "markdown",
   "metadata": {},
   "source": [
    "![](https://i.imgur.com/msK1liO.gif)"
   ]
  },
  {
   "cell_type": "markdown",
   "metadata": {},
   "source": [
    "Interactive thresholding."
   ]
  },
  {
   "cell_type": "code",
   "execution_count": null,
   "metadata": {},
   "outputs": [],
   "source": [
    "p = hypercoast.image_cube(\n",
    "    ds,\n",
    "    variable=\"reflectance\",\n",
    "    cmap=\"jet\",\n",
    "    clim=(0, 0.5),\n",
    "    rgb_wavelengths=[1000, 700, 500],\n",
    "    rgb_gamma=2,\n",
    "    title=\"EMIT Reflectance\",\n",
    "    widget=\"threshold\",\n",
    ")\n",
    "p.add_text(\"Thresholding\", position=\"upper_right\", font_size=14)\n",
    "p.show()"
   ]
  },
  {
   "cell_type": "markdown",
   "metadata": {},
   "source": [
    "![](https://i.imgur.com/TPd20Tn.gif)"
   ]
  }
 ],
 "metadata": {
  "kernelspec": {
   "display_name": "hyper",
   "language": "python",
   "name": "python3"
  },
  "language_info": {
   "codemirror_mode": {
    "name": "ipython",
    "version": 3
   },
   "file_extension": ".py",
   "mimetype": "text/x-python",
   "name": "python",
   "nbconvert_exporter": "python",
   "pygments_lexer": "ipython3",
   "version": "3.10.14"
  }
 },
 "nbformat": 4,
 "nbformat_minor": 2
}
