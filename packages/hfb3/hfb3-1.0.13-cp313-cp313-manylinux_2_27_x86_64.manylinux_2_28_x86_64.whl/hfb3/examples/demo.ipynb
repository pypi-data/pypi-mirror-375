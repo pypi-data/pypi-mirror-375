{
 "cells": [
  {
   "cell_type": "markdown",
   "id": "59991653",
   "metadata": {
    "editable": true,
    "slideshow": {
     "slide_type": "slide"
    },
    "tags": []
   },
   "source": [
    "![imgs/hfb3.png](hfb3.png)\n",
    "# HFB3 notebook demo\n",
    "\n",
    "**Authors:** N. Dubray, J.-P. Ebran, P. Carpentier, M. Frosini, A. Zdeb, N. Pillet, J. Newsome, M. Verrière, G. Accorto, D. Regnier.  \n",
    "\n",
    "This notebook presents some ways to use `HFB3` through its `Python` interface."
   ]
  },
  {
   "cell_type": "markdown",
   "id": "8886f1aa",
   "metadata": {
    "editable": true,
    "slideshow": {
     "slide_type": "slide"
    },
    "tags": []
   },
   "source": [
    "## Module initialization"
   ]
  },
  {
   "cell_type": "code",
   "execution_count": null,
   "id": "54c84792",
   "metadata": {
    "editable": true,
    "slideshow": {
     "slide_type": "-"
    },
    "tags": []
   },
   "outputs": [],
   "source": [
    "# disable OpenMP (HFB3 is meant to be used as a single-thread instance)\n",
    "%env OMP_NUM_THREADS=1\n",
    "\n",
    "# import the module\n",
    "from hfb3 import *"
   ]
  },
  {
   "cell_type": "markdown",
   "id": "6de12d55",
   "metadata": {
    "slideshow": {
     "slide_type": "slide"
    }
   },
   "source": [
    "## Load a previous result file\n",
    "\n",
    "We start by loading a file containing the result of a previous run. This can be done with the class `DataTree`."
   ]
  },
  {
   "cell_type": "code",
   "execution_count": null,
   "id": "937959e8",
   "metadata": {
    "scrolled": true,
    "slideshow": {
     "slide_type": "-"
    },
    "tags": []
   },
   "outputs": [],
   "source": [
    "filename = \"42Ca_deformed_1x11.msg.gz\"\n",
    "dataTree = DataTree(filename)\n",
    "print(dataTree)"
   ]
  },
  {
   "cell_type": "markdown",
   "id": "258972bb-41da-45c0-8f0e-5af3b9c6d9f9",
   "metadata": {},
   "source": [
    "Using a `DataTree` instance is the main way for `HFB3` to load and save information.  \n",
    "Such an instance is similar to a Python `dict` object, as it stores data as a list of (key, value) couples.  \n",
    "For example, the number of protons of the nuclear system described in this file can be obtained in the following way:"
   ]
  },
  {
   "cell_type": "code",
   "execution_count": null,
   "id": "a3fdaadc-eaef-437c-bc5a-e3630428a4b7",
   "metadata": {},
   "outputs": [],
   "source": [
    " # get the Integer value associated with the key \"system/nProt\".\n",
    "print(f'number of protons: {dataTree.getI(\"system/nProt\")}')"
   ]
  },
  {
   "cell_type": "markdown",
   "id": "352d43e2",
   "metadata": {
    "slideshow": {
     "slide_type": "slide"
    }
   },
   "source": [
    "## Construct a `State` instance\n",
    "\n",
    "We construct a `State` instance from the previous `DataTree` instance. A `State` object represent a nuclear state. This can be done directly from the filename:"
   ]
  },
  {
   "cell_type": "code",
   "execution_count": null,
   "id": "8aedb131",
   "metadata": {
    "slideshow": {
     "slide_type": "-"
    }
   },
   "outputs": [],
   "source": [
    "state = State(filename) # alternative: state = State(DataTree(filename))\n",
    "print(state)"
   ]
  },
  {
   "attachments": {},
   "cell_type": "markdown",
   "id": "01ccc550-b4b4-4623-bbf7-8e3e5341e879",
   "metadata": {},
   "source": [
    "One can see that this nuclear state correspond to 42Ca, and contains 364x364 rho and kappa matrices.\n",
    "Such matrices are automatically converted to `numpy.array` instances:"
   ]
  },
  {
   "cell_type": "code",
   "execution_count": null,
   "id": "95957fe5",
   "metadata": {
    "slideshow": {
     "slide_type": "-"
    }
   },
   "outputs": [],
   "source": [
    "import numpy as np\n",
    "print(f\"norm of rho(NEUTRON): {np.linalg.norm(state.rho(NEUTRON), ord = 2)}\")"
   ]
  },
  {
   "cell_type": "markdown",
   "id": "3818bedd",
   "metadata": {
    "slideshow": {
     "slide_type": "slide"
    }
   },
   "source": [
    "## Calculate (num. int.) the multipole moments of the state\n",
    "\n",
    "We can use the `Geometry` class to numerically calculate the mean value of the usual multipole moments for the previous nuclear state:"
   ]
  },
  {
   "cell_type": "code",
   "execution_count": null,
   "id": "e0ea4df8",
   "metadata": {
    "scrolled": true,
    "slideshow": {
     "slide_type": "-"
    }
   },
   "outputs": [],
   "source": [
    "print(Geometry(state))"
   ]
  },
  {
   "cell_type": "markdown",
   "id": "f37c069f",
   "metadata": {
    "slideshow": {
     "slide_type": "slide"
    }
   },
   "source": [
    "## Calculate (ana. int.) the multipole moments of the state\n",
    "\n",
    "The same can be done analytically by using a `MultipoleOperators` instance:"
   ]
  },
  {
   "cell_type": "code",
   "execution_count": null,
   "id": "043d932f",
   "metadata": {
    "slideshow": {
     "slide_type": "-"
    }
   },
   "outputs": [],
   "source": [
    "print(MultipoleOperators(state))"
   ]
  },
  {
   "cell_type": "markdown",
   "id": "e519c195",
   "metadata": {
    "slideshow": {
     "slide_type": "slide"
    }
   },
   "source": [
    "## Calculate energy contributions\n",
    "\n",
    "We calculate and print the energy contribution associated with each part of the effective nucleon-nucleon interaction D1S for the previous nuclear state:"
   ]
  },
  {
   "cell_type": "code",
   "execution_count": null,
   "id": "0993ce73",
   "metadata": {
    "slideshow": {
     "slide_type": "-"
    }
   },
   "outputs": [],
   "source": [
    "interaction = Interaction(\"D1S\", state)\n",
    "interaction.calcEnergies()\n",
    "print(interaction)"
   ]
  },
  {
   "cell_type": "markdown",
   "id": "c9295f87",
   "metadata": {
    "slideshow": {
     "slide_type": "slide"
    }
   },
   "source": [
    "One can also use an alternate display for such energy contributions:"
   ]
  },
  {
   "cell_type": "code",
   "execution_count": null,
   "id": "179c8297",
   "metadata": {
    "slideshow": {
     "slide_type": "-"
    }
   },
   "outputs": [],
   "source": [
    "print(interaction.getNiceInfo())"
   ]
  },
  {
   "cell_type": "markdown",
   "id": "bbeca815",
   "metadata": {
    "slideshow": {
     "slide_type": "slide"
    }
   },
   "source": [
    "## Calculate and plot local the local 1-body density (using `matplotlib`)\n",
    "\n",
    "We calculate and plot the local one-body density in the $(r_\\perp, z)$ plane. This is done using an instance of the `Discrete` class."
   ]
  },
  {
   "cell_type": "code",
   "execution_count": null,
   "id": "aba1615e",
   "metadata": {
    "slideshow": {
     "slide_type": "-"
    }
   },
   "outputs": [],
   "source": [
    "def plot_matplotlib(_state, zmin, zmax, xmin, xmax):\n",
    "    discrete = Discrete(_state.basis, Mesh.regular(xmin, 0, zmin, xmax, 0, zmax, 101, 1, 201))\n",
    "    denst = discrete.getLocalXZ(_state.rho(NEUTRON) + _state.rho(PROTON), True)\n",
    "  \n",
    "    import numpy as np\n",
    "    from matplotlib.pyplot import cm\n",
    "    import matplotlib.pyplot as plt\n",
    "    from mpl_toolkits.axes_grid1 import make_axes_locatable\n",
    "\n",
    "    fig = plt.figure(1, figsize=(12, 12))\n",
    "    ax = plt.gca()\n",
    "    im = ax.imshow(np.flip(denst, axis = 0), cmap = cm.inferno, extent = [zmin, zmax, xmin, xmax])\n",
    "    plt.xlabel(r'$z$ [fm]')\n",
    "    plt.ylabel(r'$r$ [fm]')\n",
    "    divider = make_axes_locatable(ax)\n",
    "    cax = divider.append_axes(\"right\", size=\"5%\", pad=0.1)\n",
    "    plt.colorbar(im, cax=cax)\n",
    "    plt.ylabel(r'$\\rho_{tot}$ [fm$^{-3}$]')\n",
    "    plt.show()\n",
    "    \n",
    "plot_matplotlib(state, -10, 10, 0, 6)"
   ]
  },
  {
   "cell_type": "markdown",
   "id": "764810e6",
   "metadata": {
    "slideshow": {
     "slide_type": "slide"
    }
   },
   "source": [
    "## Calculate and plot local the local 1-body density (using `bokeh`)\n",
    "\n",
    "We can do the same plot with the `bokeh` Python module:"
   ]
  },
  {
   "cell_type": "code",
   "execution_count": null,
   "id": "c94b6b68",
   "metadata": {
    "slideshow": {
     "slide_type": "-"
    }
   },
   "outputs": [],
   "source": [
    "def plot_bokeh(_state, zmin, zmax, xmin, xmax):\n",
    "    discrete = Discrete(_state.basis, Mesh.regular(xmin, 0, zmin, xmax, 0, zmax, 101, 1, 201))\n",
    "    denst = discrete.getLocalXZ(_state.rho(NEUTRON) + _state.rho(PROTON), True)\n",
    "  \n",
    "    from bokeh.io import output_notebook\n",
    "    output_notebook()\n",
    "    from bokeh.plotting import figure, show\n",
    "    from bokeh.models import ColorBar, LinearColorMapper\n",
    "    p = figure(tools = \"pan, reset, save, wheel_zoom\", height = 300, width = 800,\n",
    "               active_drag = \"pan\", active_scroll = \"wheel_zoom\", match_aspect = True,\n",
    "               x_axis_label = 'z [fm]', y_axis_label = 'r [fm]')\n",
    "    color = LinearColorMapper(palette = \"Inferno256\")\n",
    "    p.image(image = [denst], x = zmin, y = xmin, dw = zmax - zmin, dh = xmax - xmin, color_mapper = color)\n",
    "    color_bar = ColorBar(color_mapper = color, label_standoff = 10, location = (0,0), width = 10)\n",
    "    p.add_layout(color_bar, 'right')\n",
    "    show(p)\n",
    "\n",
    "plot_bokeh(state, -10, 10, 0, 6)"
   ]
  },
  {
   "cell_type": "markdown",
   "id": "dfd618cc",
   "metadata": {
    "slideshow": {
     "slide_type": "slide"
    }
   },
   "source": [
    "## Perform a 1ct Constrained HFB calculation\n",
    "\n",
    "Here, we calculate the HFB nuclear state minimizing the total binding energy under the action of a constraint on the quadrupole mass moment, using a fixed 1-center HO basis. The solver uses the Broyden mixing method. The basis parameters and the initial HFB state are taken from a previous result stored in file (`42Ca_deformed_1x11.msg.gz`). A constraint on the center of mass of the system (`q10t`) is automatically set with the value 0.0."
   ]
  },
  {
   "cell_type": "code",
   "execution_count": null,
   "id": "1bd81ccf",
   "metadata": {
    "scrolled": true,
    "slideshow": {
     "slide_type": "-"
    },
    "tags": []
   },
   "outputs": [],
   "source": [
    "%env OMP_NUM_THREADS=1\n",
    "dataTree = DataTree(\"42Ca_deformed_1x11.msg.gz\")\n",
    "dataTree.setD(\"constraints/q20t\", 15.0)\n",
    "solverHFB = SolverHFBBroyden(dataTree)\n",
    "solverHFB.lambdaMax = 1e-03\n",
    "solverHFB.init()\n",
    "while(solverHFB.nextIter()): pass\n",
    "print(solverHFB.interaction.getNiceInfo())\n",
    "print(MultipoleOperators(solverHFB.state).getNiceInfo())"
   ]
  },
  {
   "cell_type": "markdown",
   "id": "a9350561-2d70-4f16-a7fe-e3868af5468a",
   "metadata": {},
   "source": [
    "The final total HFB energy should be -361.695 MeV. In the \"Deformations\" table, the constrained values are printed in blue."
   ]
  },
  {
   "cell_type": "markdown",
   "id": "a786029d",
   "metadata": {
    "slideshow": {
     "slide_type": "slide"
    }
   },
   "source": [
    "## Perform a 2ct Constrained HFB calculation (with live visualization using `bokeh`)\n",
    "\n",
    "We now calculate a similar HFB nuclear state, using a 2-center HO basis. A separate bokeh server can be launched to generate a live visualization of the nuclear state during HFB convergence."
   ]
  },
  {
   "cell_type": "code",
   "execution_count": null,
   "id": "5af7ae25",
   "metadata": {
    "scrolled": true,
    "slideshow": {
     "slide_type": "-"
    },
    "tags": []
   },
   "outputs": [],
   "source": [
    "%env OMP_NUM_THREADS=1\n",
    "\n",
    "# launch a bokeh server before this (`bin/bokehserver.py`), and open the proposed page in your browser.\n",
    "cvar.useBokeh = True\n",
    "Plot.clear()\n",
    "\n",
    "dataTree = DataTree(\"42Ca_deformed_2x9.msg.gz\")\n",
    "#print(MultipoleOperators(BogoliubovState(dataTree)))\n",
    "dataTree.setD(\"constraints/q20t\", 12.0)\n",
    "solverHFBBroyden = SolverHFBBroyden(dataTree)\n",
    "solverHFBBroyden.plotDensities = True\n",
    "solverHFBBroyden.init()\n",
    "print(solverHFBBroyden)\n",
    "while(solverHFBBroyden.nextIter()): pass\n",
    "print(solverHFBBroyden.interaction.getNiceInfo())\n",
    "print(MultipoleOperators(solverHFBBroyden.state).getNiceInfo())\n",
    "\n",
    "cvar.useBokeh = False"
   ]
  },
  {
   "cell_type": "markdown",
   "id": "d4cc1475-89d0-4fab-b3a8-91ad64c976ac",
   "metadata": {},
   "source": [
    "The final total HFB energy should be -362.181 MeV."
   ]
  },
  {
   "cell_type": "markdown",
   "id": "ab108dc7-c124-4f1e-83ed-4426524a8471",
   "metadata": {
    "slideshow": {
     "slide_type": "slide"
    }
   },
   "source": [
    "## Perform a 2ct Constrained HFB calculation (with `SolverHFBGrad`)\n",
    "\n",
    "For this HFB calculation, we use a solver implementing the Gradiend method."
   ]
  },
  {
   "cell_type": "code",
   "execution_count": null,
   "id": "b27d08c7-9d95-4940-8645-484917080ea5",
   "metadata": {
    "scrolled": true,
    "slideshow": {
     "slide_type": "-"
    },
    "tags": []
   },
   "outputs": [],
   "source": [
    "%env OMP_NUM_THREADS=1\n",
    "dataTree = DataTree(\"42Ca_deformed_2x9.msg.gz\")\n",
    "dataTree.setD(\"constraints/q20t\", 12.0)\n",
    "dataTree.setI(\"solver/gradient/maxIter\", 100)\n",
    "dataTree.setD(\"solver/gradient/cvgTarget\", 1e-6)\n",
    "solverHFBGradient = SolverHFBGradient(dataTree)\n",
    "solverHFBGradient.init()\n",
    "print(solverHFBGradient)\n",
    "while(solverHFBGradient.nextIter()): pass\n",
    "print(solverHFBGradient.interaction.getNiceInfo())\n",
    "print(MultipoleOperators(solverHFBGradient.state).getNiceInfo())"
   ]
  },
  {
   "cell_type": "markdown",
   "id": "8a2dfa2a-110b-4b04-b541-715932da18c6",
   "metadata": {},
   "source": [
    "The final total HFB energy should be -362.181 MeV, and the multipole moments should be close from the ones found with the Broyden-mixing solver."
   ]
  },
  {
   "cell_type": "markdown",
   "id": "d2ebd1eb",
   "metadata": {
    "slideshow": {
     "slide_type": "slide"
    }
   },
   "source": [
    "## Compare the multipole moments between solvers\n",
    "\n",
    "One can compare the total multipole moments for both solvers with a numerical integration:"
   ]
  },
  {
   "cell_type": "code",
   "execution_count": null,
   "id": "dbe2e538",
   "metadata": {
    "slideshow": {
     "slide_type": "-"
    }
   },
   "outputs": [],
   "source": [
    "print(Geometry(solverHFBGradient.state))\n",
    "print(Geometry(solverHFBBroyden.state))"
   ]
  },
  {
   "cell_type": "markdown",
   "id": "d7fe2b1b",
   "metadata": {
    "slideshow": {
     "slide_type": "fragment"
    }
   },
   "source": [
    "## Plot the local 1-body densities\n",
    "\n",
    "We can plot the local 1-body nuclear densities for each solver:"
   ]
  },
  {
   "cell_type": "code",
   "execution_count": null,
   "id": "9b003e3d",
   "metadata": {
    "slideshow": {
     "slide_type": "-"
    }
   },
   "outputs": [],
   "source": [
    "plot_bokeh(solverHFBGradient.state, -10, 10, -6, 6)\n",
    "plot_bokeh(solverHFBBroyden.state, -10, 10, -6, 6)"
   ]
  },
  {
   "cell_type": "code",
   "execution_count": null,
   "id": "ee27975f-9a11-40c9-9d1a-f99ddfd7f23b",
   "metadata": {},
   "outputs": [],
   "source": []
  }
 ],
 "metadata": {
  "celltoolbar": "Slideshow",
  "kernelspec": {
   "display_name": "Python 3 (ipykernel)",
   "language": "python",
   "name": "python3"
  },
  "language_info": {
   "codemirror_mode": {
    "name": "ipython",
    "version": 3
   },
   "file_extension": ".py",
   "mimetype": "text/x-python",
   "name": "python",
   "nbconvert_exporter": "python",
   "pygments_lexer": "ipython3",
   "version": "3.9.21"
  },
  "varInspector": {
   "cols": {
    "lenName": 16,
    "lenType": 16,
    "lenVar": 40
   },
   "kernels_config": {
    "python": {
     "delete_cmd_postfix": "",
     "delete_cmd_prefix": "del ",
     "library": "var_list.py",
     "varRefreshCmd": "print(var_dic_list())"
    },
    "r": {
     "delete_cmd_postfix": ") ",
     "delete_cmd_prefix": "rm(",
     "library": "var_list.r",
     "varRefreshCmd": "cat(var_dic_list()) "
    }
   },
   "types_to_exclude": [
    "module",
    "function",
    "builtin_function_or_method",
    "instance",
    "_Feature"
   ],
   "window_display": false
  }
 },
 "nbformat": 4,
 "nbformat_minor": 5
}
