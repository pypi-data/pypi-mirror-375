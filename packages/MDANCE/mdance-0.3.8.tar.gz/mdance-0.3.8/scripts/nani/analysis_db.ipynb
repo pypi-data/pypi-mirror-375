{
 "cells": [
  {
   "cell_type": "markdown",
   "metadata": {},
   "source": [
    "## Clustering  Analysis: Davies-Bouldin Index (DBI)"
   ]
  },
  {
   "cell_type": "code",
   "execution_count": null,
   "metadata": {},
   "outputs": [],
   "source": [
    "import matplotlib.pyplot as plt\n",
    "import numpy as np"
   ]
  },
  {
   "cell_type": "markdown",
   "metadata": {},
   "source": [
    "`scores_csvs` is the list of screening csv that were outputted from `screen_nani.py`. <br>\n",
    "The output of this notebook will also be the same directory as the input csvs."
   ]
  },
  {
   "cell_type": "code",
   "execution_count": null,
   "metadata": {},
   "outputs": [],
   "source": [
    "scores_csvs = ['outputs/10comp_sim_summary.csv']"
   ]
  },
  {
   "cell_type": "markdown",
   "metadata": {},
   "source": [
    "#### Graph the scoring metrics for a range of `n_clusters` values\n",
    "**remember to remove the row with `None,None`**<br>\n",
    "The clustering metrics (Davies-Bouldin Index) is an effective way to identify the number of clusters for a system. \n",
    "We will graph the scores for a range of cluster number values. "
   ]
  },
  {
   "cell_type": "code",
   "execution_count": null,
   "metadata": {},
   "outputs": [],
   "source": [
    "plt.rcParams['font.size'] = 14\n",
    "plt.rcParams['font.weight'] = 'bold'\n",
    "font_size = 14\n",
    "\n",
    "def plot_scores(scores_csv):\n",
    "    base_name = scores_csv.split('\\\\')[-1].split('.csv')[0]\n",
    "    n_clus, db = np.loadtxt(scores_csv, unpack=True, delimiter=',', usecols=(0, 3))\n",
    "\n",
    "    # Plot the Davies-Bouldin index and the optimal number of clusters\n",
    "    all_indices = np.argsort(db)\n",
    "    min_db_index = all_indices[0]\n",
    "    min_db = n_clus[min_db_index]\n",
    "    all_indices = np.delete(all_indices, 0)\n",
    "    second_min_index = all_indices[0]\n",
    "    second_min_db = n_clus[second_min_index]\n",
    "    \n",
    "    fig, ax = plt.subplots()\n",
    "    ax.plot(n_clus, db, color='#005cde', label='DBI', linewidth=3.5)\n",
    "    ax.set_xlabel('Cluster Number', fontsize=font_size, fontweight='bold')\n",
    "    ax.set_ylabel('Davies-Bouldin Index', fontsize=font_size, fontweight='bold')\n",
    "    ax.axvline(x=min_db, color='#de005c', linestyle='--', label=f'Optimal Cluster Number: {int(min_db)}', linewidth=2.5)\n",
    "    ax.axvline(x=second_min_db, color='#00ab64', linestyle='--', label=f'Second Optimal Cluster Number: {int(second_min_db)}', linewidth=2.5)\n",
    "\n",
    "    # Calculate the second derivative (before + after - 2*current)\n",
    "    arr = db\n",
    "    x = n_clus[1:-1]\n",
    "    result = []\n",
    "    for start_index, n_clusters in zip(range(1, len(arr) - 1), x):\n",
    "        temp = arr[start_index + 1] + arr[start_index - 1] - (2 * arr[start_index])\n",
    "        if arr[start_index] <= arr[start_index - 1] and arr[start_index] <= arr[start_index + 1]:\n",
    "            result.append((n_clusters, temp))\n",
    "    result = np.array(result)\n",
    "    if len(result) == 0:\n",
    "        print('No maxima found')\n",
    "    elif len(result) >= 1:\n",
    "        sorted_indices = np.argsort(result[:, 1])[::-1]\n",
    "        sorted_result = result[sorted_indices]\n",
    "        min_x = sorted_result[0][0]\n",
    "        ax.axvline(x=min_x, color='#de8200', linestyle='--', label=f'Optimal 2nd deriv Cluster Number: {int(min_x)}', linewidth=2.5)\n",
    "        if len(sorted_result) >= 2:\n",
    "            sec_min_x = sorted_result[1][0]\n",
    "            ax.axvline(x=sec_min_x, color='#6400ab', linestyle='--', label=f'Second Optimal 2nd deriv Cluster Number: {int(sec_min_x)}', linewidth=2.5)\n",
    "    \n",
    "    ax.legend(fontsize=10)\n",
    "    for axis in ['top','bottom','left','right']:\n",
    "        plt.gca().spines[axis].set_linewidth(1.25)\n",
    "    plt.savefig(f'{base_name}_db.png', dpi=500, bbox_inches='tight', pad_inches=0.1, transparent=True)\n",
    "    plt.close()\n",
    "    \n",
    "if __name__ == '__main__':\n",
    "    for scores_csv in scores_csvs:\n",
    "        plot_scores(scores_csv)"
   ]
  }
 ],
 "metadata": {
  "kernelspec": {
   "display_name": "Python 3",
   "language": "python",
   "name": "python3"
  },
  "language_info": {
   "codemirror_mode": {
    "name": "ipython",
    "version": 3
   },
   "file_extension": ".py",
   "mimetype": "text/x-python",
   "name": "python",
   "nbconvert_exporter": "python",
   "pygments_lexer": "ipython3",
   "version": "3.10.11"
  },
  "orig_nbformat": 4
 },
 "nbformat": 4,
 "nbformat_minor": 2
}
