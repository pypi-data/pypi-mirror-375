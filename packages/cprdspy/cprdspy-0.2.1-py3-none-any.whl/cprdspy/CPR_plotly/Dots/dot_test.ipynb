{
 "cells": [
  {
   "cell_type": "code",
   "execution_count": null,
   "id": "aef79936",
   "metadata": {},
   "outputs": [],
   "source": [
    "from dot_config import *\n",
    "import numpy as np"
   ]
  },
  {
   "cell_type": "code",
   "execution_count": null,
   "id": "06289b6e",
   "metadata": {},
   "outputs": [],
   "source": [
    "\n",
    "# 生成点阵\n",
    "points = n_points_array(\n",
    "    n=6,  # 每圈点的数量\n",
    "    m=4,  # 圈数\n",
    "    direction=\"both\",  # 方向：both/in/out\n",
    "    theta=0.1,  # 旋转角度\n",
    ")\n",
    "\n",
    "# 生成旋转点阵\n",
    "points = n_points_array_rotate(\n",
    "    n=6,\n",
    "    m=4,\n",
    "    direction=\"out\",  # 方向：both/in/out\n",
    "    alpha=np.pi / 4,  # 整体旋转角度\n",
    "    theta=0.1,  # 每圈额外旋转角度\n",
    ")\n",
    "\n",
    "draw_points(points, color=\"red\", size=10, opacity=0.5, symbol=\"circle\").show()\n",
    "# 绘制点阵\n",
    "fig = draw_n_points_array(\n",
    "    n=6,\n",
    "    m=4,\n",
    "    direction=\"in\",  # 方向：both/in/out\n",
    "    theta=0.1,\n",
    "    color=\"blue\",\n",
    "    size=8,\n",
    "    opacity=0.8,\n",
    "    symbol=\"circle\",\n",
    ").show()"
   ]
  },
  {
   "cell_type": "code",
   "execution_count": null,
   "id": "f7221bd0",
   "metadata": {},
   "outputs": [],
   "source": [
    "colorful_dots(\n",
    "    n_points_array(6, 3, direction=\"both\", theta=np.pi/4),\n",
    "    [\"red\", \"green\", \"blue\"]*12,\n",
    "    size=10,\n",
    "    opacity=0.5,\n",
    "    symbol=\"circle\",\n",
    ")"
   ]
  },
  {
   "cell_type": "code",
   "execution_count": null,
   "id": "617f52e1",
   "metadata": {},
   "outputs": [],
   "source": [
    "draw_points(\n",
    "    n_points_array_rotate(\n",
    "        n=4,\n",
    "        m=8,\n",
    "        direction=\"out\",\n",
    "        alpha=np.pi / 4,\n",
    "        theta=np.pi/3,\n",
    "    ),\n",
    "    color=\"red\",\n",
    "    size=10,\n",
    "    opacity=0.5,\n",
    "    symbol=\"circle\",\n",
    "    name=\"test\",\n",
    ")"
   ]
  },
  {
   "cell_type": "code",
   "execution_count": null,
   "id": "5c925884",
   "metadata": {},
   "outputs": [],
   "source": []
  }
 ],
 "metadata": {
  "kernelspec": {
   "display_name": ".venv",
   "language": "python",
   "name": "python3"
  },
  "language_info": {
   "codemirror_mode": {
    "name": "ipython",
    "version": 3
   },
   "file_extension": ".py",
   "mimetype": "text/x-python",
   "name": "python",
   "nbconvert_exporter": "python",
   "pygments_lexer": "ipython3",
   "version": "3.13.2"
  }
 },
 "nbformat": 4,
 "nbformat_minor": 5
}
