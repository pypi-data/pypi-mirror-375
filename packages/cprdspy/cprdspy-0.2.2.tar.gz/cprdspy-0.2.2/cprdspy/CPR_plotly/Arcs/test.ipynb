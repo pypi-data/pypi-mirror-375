{
 "cells": [
  {
   "cell_type": "code",
   "execution_count": 26,
   "id": "a4cb981d",
   "metadata": {},
   "outputs": [],
   "source": [
    "from arc_config import *"
   ]
  },
  {
   "cell_type": "code",
   "execution_count": null,
   "id": "05f3a685",
   "metadata": {},
   "outputs": [],
   "source": [
    "from arc_config import arc, config\n",
    "# import plotly.io as pio\n",
    "\n",
    "# # 使用内置主题\n",
    "# pio.templates.default = \"plotly_dark\"\n",
    "# 设置暗色主题\n",
    "config.theme = \"sunset\"\n",
    "\n",
    "# 绘制带标注的红色弧线\n",
    "fig = arc(\n",
    "    center=[0, 0],\n",
    "    point1=[1, 0],\n",
    "    point2=[0, 1],\n",
    "    color=\"red\",\n",
    "    width=3,\n",
    "    dash=\"dot\",  # 虚线样式\n",
    "    opacity=0.8,\n",
    "    label=\"测试弧线\",\n",
    ")\n",
    "fig.show()"
   ]
  },
  {
   "cell_type": "code",
   "execution_count": null,
   "id": "af98b0cd",
   "metadata": {},
   "outputs": [],
   "source": [
    "from arc_config import arc, config\n",
    "\n",
    "# 设置主题\n",
    "config.set_theme(\n",
    "    \"cyberpunk\"\n",
    ")  # 可选主题：plotly_dark, deep_sea, cyberpunk, aurora, sunset, forest\n",
    "\n",
    "# 绘制带动画的弧线\n",
    "fig = arc(\n",
    "    center=[0, 0],\n",
    "    point1=[1, 0],\n",
    "    point2=[0, 1],\n",
    "    color=\"red\",\n",
    "    width=3,\n",
    "    label=\"Test Arc\",\n",
    "    animate=True,  # 启用动画\n",
    ")\n",
    "fig.show()"
   ]
  },
  {
   "cell_type": "code",
   "execution_count": null,
   "id": "9c7919ef",
   "metadata": {},
   "outputs": [],
   "source": [
    "from arc_config import arc, config\n",
    "\n",
    "# 设置主题\n",
    "config.set_theme(\n",
    "    \"plotly_dark\"\n",
    ")  # 可选主题：plotly_dark, deep_sea, cyberpunk, aurora, sunset, forest\n",
    "\n",
    "# 绘制带动画的弧线\n",
    "fig = arc(\n",
    "    center=[0, 0],\n",
    "    point1=[1, 0],\n",
    "    point2=[0, 1],\n",
    "    color=\"purple\",\n",
    "    width=3,\n",
    "    dash=\"dash\",  # 可选值：\"solid\", \"dot\", \"dash\", \"longdash\", \"dashdot\", \"longdashdot\"\n",
    "    label=\"Test Arc\",\n",
    "    # animate=True,  # 启用动画\n",
    ")\n",
    "fig.show()"
   ]
  },
  {
   "cell_type": "code",
   "execution_count": null,
   "id": "d1f771e9",
   "metadata": {},
   "outputs": [],
   "source": []
  }
 ],
 "metadata": {
  "kernelspec": {
   "display_name": ".venv",
   "language": "python",
   "name": "python3"
  },
  "language_info": {
   "codemirror_mode": {
    "name": "ipython",
    "version": 3
   },
   "file_extension": ".py",
   "mimetype": "text/x-python",
   "name": "python",
   "nbconvert_exporter": "python",
   "pygments_lexer": "ipython3",
   "version": "3.13.2"
  }
 },
 "nbformat": 4,
 "nbformat_minor": 5
}
