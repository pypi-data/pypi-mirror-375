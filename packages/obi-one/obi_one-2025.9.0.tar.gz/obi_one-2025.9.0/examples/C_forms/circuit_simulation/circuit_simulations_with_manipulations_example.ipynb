{
 "cells": [
  {
   "cell_type": "markdown",
   "metadata": {},
   "source": [
    "# Circuit simulation examples (with synaptic manipulations)"
   ]
  },
  {
   "cell_type": "code",
   "execution_count": 1,
   "metadata": {},
   "outputs": [],
   "source": [
    "import obi_one as obi"
   ]
  },
  {
   "cell_type": "code",
   "execution_count": 2,
   "metadata": {},
   "outputs": [],
   "source": [
    "# circuit_path_prefix = \"/Users/james/Documents/obi/additional_data/O1_data/O1_data/\"\n",
    "# circuit_path_prefix = \"/Users/mwr/Documents/artefacts/SONATA/O1_data/\"\n",
    "circuit_path_prefix = \"/Users/pokorny/Data/Circuits/\""
   ]
  },
  {
   "cell_type": "markdown",
   "metadata": {},
   "source": [
    "### Loading two circuits"
   ]
  },
  {
   "cell_type": "code",
   "execution_count": 5,
   "metadata": {},
   "outputs": [
    {
     "name": "stdout",
     "output_type": "stream",
     "text": [
      "Circuit 'ToyCircuit-S1-6k' with 5924 neurons and 568717 synapses\n"
     ]
    }
   ],
   "source": [
    "circuit = obi.Circuit(name=\"ToyCircuit-S1-6k\", path=circuit_path_prefix + \"ToyCircuit-S1-6k/circuit_config.json\")\n",
    "# circuit = obi.Circuit(name=\"O1\", path=circuit_path_prefix + \"circuit_config_postfix.json\")\n",
    "print(f\"Circuit '{circuit}' with {circuit.sonata_circuit.nodes.size} neurons and {circuit.sonata_circuit.edges.size} synapses\")"
   ]
  },
  {
   "cell_type": "markdown",
   "metadata": {},
   "source": [
    "### Set up simulation campaign"
   ]
  },
  {
   "cell_type": "code",
   "execution_count": null,
   "metadata": {},
   "outputs": [],
   "source": [
    "# Sim duration\n",
    "sim_duration = 3000.0\n",
    "\n",
    "# Empty Simulation Configuration\n",
    "sim_conf = obi.SimulationsForm.empty_config()\n",
    "\n",
    "# Info\n",
    "info = obi.Info(campaign_name=\"O1 Simulation\", campaign_description=\"Simulation of O1 circuit with predefined neuron set and constant current stimulus\")\n",
    "sim_conf.set(info, name=\"info\")\n",
    "\n",
    "# Neuron Sets\n",
    "sim_neuron_set = obi.IDNeuronSet(neuron_ids=obi.NamedTuple(name=\"IDNeuronSet1\", elements=range(10)))\n",
    "sim_conf.add(sim_neuron_set, name='L1All')\n",
    "\n",
    "sync_neuron_set = obi.IDNeuronSet(neuron_ids=obi.NamedTuple(name=\"IDNeuronSet2\", elements=range(3)))\n",
    "sim_conf.add(sync_neuron_set, name='ID3')\n",
    "\n",
    "# Regular Timesteps\n",
    "regular_timestamps = obi.RegularTimestamps(start_time=0.0, number_of_repetitions=3, interval=sim_duration)\n",
    "sim_conf.add(regular_timestamps, name='RegularTimestamps')\n",
    "\n",
    "# Stimulus\n",
    "poisson_input = obi.PoissonSpikeStimulus(duration=800.0, timestamps=regular_timestamps.ref, frequency=20, source_neuron_set=sim_neuron_set.ref, targeted_neuron_set=sim_neuron_set.ref)\n",
    "sim_conf.add(poisson_input, name='PoissonInputStimulus')\n",
    "\n",
    "sync_input = obi.FullySynchronousSpikeStimulus(timestamps=regular_timestamps.ref, source_neuron_set=sync_neuron_set.ref, targeted_neuron_set=sim_neuron_set.ref)\n",
    "sim_conf.add(sync_input, name='SynchronousInputStimulus')\n",
    "\n",
    "# Recordings\n",
    "voltage_recording = obi.SomaVoltageRecording(neuron_set=sim_neuron_set.ref, start_time=0.0, end_time=sim_duration)\n",
    "sim_conf.add(voltage_recording, name='VoltageRecording')\n",
    "\n",
    "# Synaptic manipulations (executed in order!!)\n",
    "syn_manip_mg = obi.SynapticMgManipulation(magnesium_value=[2.0, 2.4])\n",
    "syn_manip_use = obi.ScaleAcetylcholineUSESynapticManipulation(use_scaling=0.7050728631217412)\n",
    "sim_conf.add(syn_manip_mg, name='SynapticMgManipulation')\n",
    "sim_conf.add(syn_manip_use, name='ScaleAcetylcholineUSESynapticManipulation')\n",
    "\n",
    "# Initialization\n",
    "simulations_initialize = obi.SimulationsForm.Initialize(circuit=circuit, \n",
    "                                                        node_set=sim_neuron_set.ref, \n",
    "                                                        simulation_length=sim_duration)\n",
    "sim_conf.set(simulations_initialize, name='initialize')\n",
    "\n",
    "# Validated Config\n",
    "validated_sim_conf = sim_conf.validated_config()"
   ]
  },
  {
   "cell_type": "code",
   "execution_count": 9,
   "metadata": {},
   "outputs": [],
   "source": [
    "# sim_conf.model_dump(mode=\"json\")"
   ]
  },
  {
   "cell_type": "code",
   "execution_count": 10,
   "metadata": {},
   "outputs": [
    {
     "name": "stdout",
     "output_type": "stream",
     "text": [
      "[2025-06-27 12:00:36,746] INFO: \n",
      "MULTIPLE VALUE PARAMETERS\n",
      "[2025-06-27 12:00:36,747] INFO: manipulations.SynapticMgManipulation.magnesium_value: [2.0, 2.4]\n",
      "[2025-06-27 12:00:36,747] INFO: \n",
      "COORDINATE PARAMETERS\n",
      "[2025-06-27 12:00:36,748] INFO: manipulations.SynapticMgManipulation.magnesium_value: 2.0\n",
      "[2025-06-27 12:00:36,748] INFO: manipulations.SynapticMgManipulation.magnesium_value: 2.4\n",
      "[2025-06-27 12:00:36,748] INFO: None\n",
      "[2025-06-27 12:00:36,750] INFO: create_bbp_workflow_campaign_config() not yet complete.\n",
      "[2025-06-27 12:00:36,753] INFO: initialize.circuit is a Circuit instance.\n",
      "[2025-06-27 12:00:36,770] INFO: initialize.circuit is a Circuit instance.\n"
     ]
    }
   ],
   "source": [
    "grid_scan = obi.GridScan(form=validated_sim_conf, output_root='../../obi-output/circuit_simulations_with_manipulations/grid_scan')\n",
    "grid_scan.multiple_value_parameters(display=True)\n",
    "grid_scan.coordinate_parameters(display=True)\n",
    "grid_scan.execute(processing_method='generate')"
   ]
  },
  {
   "cell_type": "code",
   "execution_count": 11,
   "metadata": {},
   "outputs": [],
   "source": [
    "# Deserialization\n",
    "grid_scan_ds = obi.deserialize_obi_object_from_json_file(\"../../obi-output/circuit_simulations_with_manipulations/grid_scan/run_scan_config.json\")"
   ]
  },
  {
   "cell_type": "code",
   "execution_count": 12,
   "metadata": {},
   "outputs": [
    {
     "data": {
      "text/plain": [
       "GridScan(type='GridScan', form=SimulationsForm(type='SimulationsForm', timestamps={'RegularTimestamps': RegularTimestamps(type='RegularTimestamps', start_time=0.0, number_of_repetitions=3, interval=3000.0)}, stimuli={'PoissonInputStimulus': PoissonSpikeStimulus(type='PoissonSpikeStimulus', timestamp_offset=0.0, timestamps=TimestampsReference(type='TimestampsReference', block_dict_name='timestamps', block_name='RegularTimestamps'), source_neuron_set=NeuronSetReference(type='NeuronSetReference', block_dict_name='neuron_sets', block_name='L1All'), targeted_neuron_set=NeuronSetReference(type='NeuronSetReference', block_dict_name='neuron_sets', block_name='L1All'), duration=800.0, random_seed=0, frequency=20.0), 'SynchronousInputStimulus': FullySynchronousSpikeStimulus(type='FullySynchronousSpikeStimulus', timestamp_offset=0.0, timestamps=TimestampsReference(type='TimestampsReference', block_dict_name='timestamps', block_name='RegularTimestamps'), source_neuron_set=NeuronSetReference(type='NeuronSetReference', block_dict_name='neuron_sets', block_name='ID3'), targeted_neuron_set=NeuronSetReference(type='NeuronSetReference', block_dict_name='neuron_sets', block_name='L1All'))}, recordings={'VoltageRecording': SomaVoltageRecording(type='SomaVoltageRecording', start_time=0.0, end_time=3000.0, dt=0.1, neuron_set=NeuronSetReference(type='NeuronSetReference', block_dict_name='neuron_sets', block_name='L1All'))}, neuron_sets={'L1All': IDNeuronSet(type='IDNeuronSet', random_sample=None, random_seed=0, neuron_ids=IDNeuronSet1), 'ID3': IDNeuronSet(type='IDNeuronSet', random_sample=None, random_seed=0, neuron_ids=IDNeuronSet2)}, manipulations={'SynapticMgManipulation': SynapticMgManipulation(type='SynapticMgManipulation', magnesium_value=[2.0, 2.4]), 'AcetylcholineScalingOfReleaseProbabilitySynapticManiupulation': AcetylcholineScalingOfReleaseProbabilitySynapticManiupulation(type='AcetylcholineScalingOfReleaseProbabilitySynapticManiupulation', use_scaling=0.7050728631217412)}, initialize=Initialize(type='SimulationsForm.Initialize', circuit=Circuit(type='Circuit', name='ToyCircuit-S1-6k', path='/Users/pokorny/Data/Circuits/ToyCircuit-S1-6k/circuit_config.json', matrix_path=None), simulation_length=3000.0, node_set=NeuronSetReference(type='NeuronSetReference', block_dict_name='neuron_sets', block_name='L1All'), random_seed=1, extracellular_calcium_concentration=1.1, v_init=-80.0), info=Info(type='Info', campaign_name='No name provided', campaign_description='No description provided')), output_root=PosixPath('../../obi-output/circuit_simulations_with_manipulations/grid_scan'), coordinate_directory_option='NAME_EQUALS_VALUE')"
      ]
     },
     "execution_count": 12,
     "metadata": {},
     "output_type": "execute_result"
    }
   ],
   "source": [
    "grid_scan_ds"
   ]
  },
  {
   "cell_type": "code",
   "execution_count": null,
   "metadata": {},
   "outputs": [],
   "source": []
  }
 ],
 "metadata": {
  "kernelspec": {
   "display_name": "obi-one",
   "language": "python",
   "name": "obi-one"
  },
  "language_info": {
   "codemirror_mode": {
    "name": "ipython",
    "version": 3
   },
   "file_extension": ".py",
   "mimetype": "text/x-python",
   "name": "python",
   "nbconvert_exporter": "python",
   "pygments_lexer": "ipython3",
   "version": "3.12.9"
  }
 },
 "nbformat": 4,
 "nbformat_minor": 4
}
