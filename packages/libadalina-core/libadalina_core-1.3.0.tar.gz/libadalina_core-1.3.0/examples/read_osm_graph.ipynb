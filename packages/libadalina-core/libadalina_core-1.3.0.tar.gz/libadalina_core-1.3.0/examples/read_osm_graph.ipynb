{
 "cells": [
  {
   "metadata": {},
   "cell_type": "markdown",
   "source": "# Graph building and enrichment tools",
   "id": "c720e01bd0c567a0"
  },
  {
   "metadata": {},
   "cell_type": "markdown",
   "source": "Set the base path where the samples dataset are",
   "id": "260da809cd5cb53b"
  },
  {
   "metadata": {
    "ExecuteTime": {
     "end_time": "2025-08-31T14:10:11.881817Z",
     "start_time": "2025-08-31T14:10:11.879797Z"
    }
   },
   "cell_type": "code",
   "source": [
    "import pathlib\n",
    "import os\n",
    "\n",
    "base_path = pathlib.Path(os.environ.get(\"SAMPLES_DIR\", \"\"))"
   ],
   "id": "8e012d74b645a1f7",
   "outputs": [],
   "execution_count": 5
  },
  {
   "metadata": {},
   "cell_type": "markdown",
   "source": [
    "Read and parse OpenStreetMap dataset with roads of Milano.\n",
    "Road dataset is filtered, removing minor and pedestrian only roads."
   ],
   "id": "5d44652697aa0282"
  },
  {
   "metadata": {
    "ExecuteTime": {
     "end_time": "2025-08-31T14:12:18.120543Z",
     "start_time": "2025-08-31T14:12:17.455023Z"
    }
   },
   "cell_type": "code",
   "source": [
    "from libadalina_core.graph_extraction.readers import OpenStreetMapReader, RoadTypes\n",
    "\n",
    "osm_df = OpenStreetMapReader(RoadTypes.CAR_ONLY).read(str(base_path / 'road_maps' / 'Milano.gpkg'))\n",
    "osm_df.head()"
   ],
   "id": "f9ca81ea9d37ae6c",
   "outputs": [
    {
     "name": "stderr",
     "output_type": "stream",
     "text": [
      "/home/marco/Workspace/miniconda/v3/envs/adalina-analytics/lib/python3.10/site-packages/geopandas/geodataframe.py:1819: SettingWithCopyWarning: \n",
      "A value is trying to be set on a copy of a slice from a DataFrame.\n",
      "Try using .loc[row_indexer,col_indexer] = value instead\n",
      "\n",
      "See the caveats in the documentation: https://pandas.pydata.org/pandas-docs/stable/user_guide/indexing.html#returning-a-view-versus-a-copy\n",
      "  super().__setitem__(key, value)\n"
     ]
    },
    {
     "data": {
      "text/plain": [
       "                                            geometry       id  \\\n",
       "0  LINESTRING (9.16836 45.47604, 9.16827 45.47595...  4011790   \n",
       "1  LINESTRING (9.15073 45.45995, 9.15066 45.45993...  4011792   \n",
       "2  LINESTRING (9.1711 45.47085, 9.17106 45.47089,...  4011793   \n",
       "3  LINESTRING (9.15084 45.46181, 9.15076 45.46187...  4011799   \n",
       "4  LINESTRING (9.14642 45.47797, 9.14631 45.47805...  4011800   \n",
       "\n",
       "                         name   oneway  \n",
       "0          Via Antonio Canova  forward  \n",
       "1                Via Costanza  forward  \n",
       "2  Viale Pietro e Maria Curie  forward  \n",
       "3     Via Marchesi de' Taddei  forward  \n",
       "4            Via Monte Bianco  forward  "
      ],
      "text/html": [
       "<div>\n",
       "<style scoped>\n",
       "    .dataframe tbody tr th:only-of-type {\n",
       "        vertical-align: middle;\n",
       "    }\n",
       "\n",
       "    .dataframe tbody tr th {\n",
       "        vertical-align: top;\n",
       "    }\n",
       "\n",
       "    .dataframe thead th {\n",
       "        text-align: right;\n",
       "    }\n",
       "</style>\n",
       "<table border=\"1\" class=\"dataframe\">\n",
       "  <thead>\n",
       "    <tr style=\"text-align: right;\">\n",
       "      <th></th>\n",
       "      <th>geometry</th>\n",
       "      <th>id</th>\n",
       "      <th>name</th>\n",
       "      <th>oneway</th>\n",
       "    </tr>\n",
       "  </thead>\n",
       "  <tbody>\n",
       "    <tr>\n",
       "      <th>0</th>\n",
       "      <td>LINESTRING (9.16836 45.47604, 9.16827 45.47595...</td>\n",
       "      <td>4011790</td>\n",
       "      <td>Via Antonio Canova</td>\n",
       "      <td>forward</td>\n",
       "    </tr>\n",
       "    <tr>\n",
       "      <th>1</th>\n",
       "      <td>LINESTRING (9.15073 45.45995, 9.15066 45.45993...</td>\n",
       "      <td>4011792</td>\n",
       "      <td>Via Costanza</td>\n",
       "      <td>forward</td>\n",
       "    </tr>\n",
       "    <tr>\n",
       "      <th>2</th>\n",
       "      <td>LINESTRING (9.1711 45.47085, 9.17106 45.47089,...</td>\n",
       "      <td>4011793</td>\n",
       "      <td>Viale Pietro e Maria Curie</td>\n",
       "      <td>forward</td>\n",
       "    </tr>\n",
       "    <tr>\n",
       "      <th>3</th>\n",
       "      <td>LINESTRING (9.15084 45.46181, 9.15076 45.46187...</td>\n",
       "      <td>4011799</td>\n",
       "      <td>Via Marchesi de' Taddei</td>\n",
       "      <td>forward</td>\n",
       "    </tr>\n",
       "    <tr>\n",
       "      <th>4</th>\n",
       "      <td>LINESTRING (9.14642 45.47797, 9.14631 45.47805...</td>\n",
       "      <td>4011800</td>\n",
       "      <td>Via Monte Bianco</td>\n",
       "      <td>forward</td>\n",
       "    </tr>\n",
       "  </tbody>\n",
       "</table>\n",
       "</div>"
      ]
     },
     "execution_count": 11,
     "metadata": {},
     "output_type": "execute_result"
    }
   ],
   "execution_count": 11
  },
  {
   "metadata": {},
   "cell_type": "markdown",
   "source": "A `networkx` `DiGraph` is built from the geometries in the OpenStreetMap dataset.",
   "id": "6930e9924d8a53de"
  },
  {
   "metadata": {
    "ExecuteTime": {
     "end_time": "2025-08-31T14:10:23.904819Z",
     "start_time": "2025-08-31T14:10:12.641587Z"
    }
   },
   "cell_type": "code",
   "source": [
    "from libadalina_core.graph_extraction.builders import build_graph\n",
    "\n",
    "graph = build_graph(osm_df, name='milan_road')\n",
    "graph.number_of_nodes(), graph.number_of_edges() # number of nodes and edges"
   ],
   "id": "a3febffa73c89bd4",
   "outputs": [
    {
     "name": "stderr",
     "output_type": "stream",
     "text": [
      "                                                                                \r"
     ]
    },
    {
     "data": {
      "text/plain": [
       "(146883, 220423)"
      ]
     },
     "execution_count": 7,
     "metadata": {},
     "output_type": "execute_result"
    }
   ],
   "execution_count": 7
  },
  {
   "metadata": {},
   "cell_type": "markdown",
   "source": [
    "Edge data includes information from to OpenStreetMap dataset, including the id of the geometry, and the name of the road.\n",
    "Also, graph edges are enriched with the geometry of the corresponding line on the map and its distance in meters."
   ],
   "id": "2ec0bc0dffbc9ff1"
  },
  {
   "metadata": {
    "ExecuteTime": {
     "end_time": "2025-08-31T14:10:23.979240Z",
     "start_time": "2025-08-31T14:10:23.976382Z"
    }
   },
   "cell_type": "code",
   "source": "graph.edges(0, data=True) # show data of the first edge",
   "id": "a40e0fc9c8c4b47d",
   "outputs": [
    {
     "data": {
      "text/plain": [
       "OutEdgeDataView([(0, 223338299393, {'geometry': <LINESTRING (9.151 45.462, 9.151 45.462)>, 'id': '4011799', 'name': \"Via Marchesi de' Taddei\", 'distance': 13.853932347639198})])"
      ]
     },
     "execution_count": 8,
     "metadata": {},
     "output_type": "execute_result"
    }
   ],
   "execution_count": 8
  },
  {
   "metadata": {},
   "cell_type": "markdown",
   "source": "Graphs can be further enriched with external datasets to enhance their attributes. This example demonstrates how to incorporate population data from a grid dataset, where each cell contains information about the number of residents.\n",
   "id": "3635e5d6bc9d6330"
  },
  {
   "metadata": {
    "ExecuteTime": {
     "end_time": "2025-08-31T14:12:35.440747Z",
     "start_time": "2025-08-31T14:12:35.426489Z"
    }
   },
   "cell_type": "code",
   "source": [
    "from libadalina_core.readers import geopackage_to_dataframe\n",
    "population = geopackage_to_dataframe(\n",
    "    str(base_path / \"population-north-italy\" / \"Milano.gpkg\"),\n",
    "    \"dataframe\"\n",
    ")[['T', 'geometry']]\n",
    "population.head()"
   ],
   "id": "870db2cc463fb93",
   "outputs": [
    {
     "data": {
      "text/plain": [
       "    T                                           geometry\n",
       "0  85  POLYGON ((9.03109 45.3828, 9.04383 45.38292, 9...\n",
       "1  10  POLYGON ((9.04383 45.38292, 9.05658 45.38303, ...\n",
       "2   0  POLYGON ((9.05658 45.38303, 9.06933 45.38315, ...\n",
       "3   4  POLYGON ((9.06933 45.38315, 9.08208 45.38326, ...\n",
       "4  46  POLYGON ((9.08208 45.38326, 9.09483 45.38337, ..."
      ],
      "text/html": [
       "<div>\n",
       "<style scoped>\n",
       "    .dataframe tbody tr th:only-of-type {\n",
       "        vertical-align: middle;\n",
       "    }\n",
       "\n",
       "    .dataframe tbody tr th {\n",
       "        vertical-align: top;\n",
       "    }\n",
       "\n",
       "    .dataframe thead th {\n",
       "        text-align: right;\n",
       "    }\n",
       "</style>\n",
       "<table border=\"1\" class=\"dataframe\">\n",
       "  <thead>\n",
       "    <tr style=\"text-align: right;\">\n",
       "      <th></th>\n",
       "      <th>T</th>\n",
       "      <th>geometry</th>\n",
       "    </tr>\n",
       "  </thead>\n",
       "  <tbody>\n",
       "    <tr>\n",
       "      <th>0</th>\n",
       "      <td>85</td>\n",
       "      <td>POLYGON ((9.03109 45.3828, 9.04383 45.38292, 9...</td>\n",
       "    </tr>\n",
       "    <tr>\n",
       "      <th>1</th>\n",
       "      <td>10</td>\n",
       "      <td>POLYGON ((9.04383 45.38292, 9.05658 45.38303, ...</td>\n",
       "    </tr>\n",
       "    <tr>\n",
       "      <th>2</th>\n",
       "      <td>0</td>\n",
       "      <td>POLYGON ((9.05658 45.38303, 9.06933 45.38315, ...</td>\n",
       "    </tr>\n",
       "    <tr>\n",
       "      <th>3</th>\n",
       "      <td>4</td>\n",
       "      <td>POLYGON ((9.06933 45.38315, 9.08208 45.38326, ...</td>\n",
       "    </tr>\n",
       "    <tr>\n",
       "      <th>4</th>\n",
       "      <td>46</td>\n",
       "      <td>POLYGON ((9.08208 45.38326, 9.09483 45.38337, ...</td>\n",
       "    </tr>\n",
       "  </tbody>\n",
       "</table>\n",
       "</div>"
      ]
     },
     "execution_count": 12,
     "metadata": {},
     "output_type": "execute_result"
    }
   ],
   "execution_count": 12
  },
  {
   "metadata": {},
   "cell_type": "markdown",
   "source": "The population data will be joined with the road network graph during the building phase to enrich each edge with population data. Specifically, it calculates the estimated population living within a 1km radius of each road segment\n",
   "id": "f531199f00c5c40"
  },
  {
   "metadata": {
    "ExecuteTime": {
     "end_time": "2025-08-31T14:14:36.673736Z",
     "start_time": "2025-08-31T14:14:01.026244Z"
    }
   },
   "cell_type": "code",
   "source": [
    "from libadalina_core.spatial_operators import AggregationFunction, AggregationType\n",
    "\n",
    "graph = build_graph(osm_df,\n",
    "                        name='milan_road_with_population',\n",
    "                        joined_df=population,\n",
    "                        buffer_radius_meters=1000, # 1km\n",
    "                        aggregate_functions=[\n",
    "                            AggregationFunction(\"T\", AggregationType.SUM, 'population', proportional='geometry_right')\n",
    "                        ]\n",
    "                        )"
   ],
   "id": "95886d68f9603136",
   "outputs": [
    {
     "name": "stderr",
     "output_type": "stream",
     "text": [
      "                                                                                \r"
     ]
    },
    {
     "name": "stdout",
     "output_type": "stream",
     "text": [
      "25/08/31 16:14:08 WARN JoinQuery: UseIndex is true, but no index exists. Will build index on the fly.\n"
     ]
    },
    {
     "name": "stderr",
     "output_type": "stream",
     "text": [
      "                                                                                \r"
     ]
    }
   ],
   "execution_count": 13
  },
  {
   "metadata": {},
   "cell_type": "markdown",
   "source": "Edges data now include the amount of population nearby.",
   "id": "6e08497027507173"
  },
  {
   "metadata": {
    "ExecuteTime": {
     "end_time": "2025-08-31T14:15:41.995766Z",
     "start_time": "2025-08-31T14:15:41.992431Z"
    }
   },
   "cell_type": "code",
   "source": "graph.edges(0, data=True) # show data of the first edge",
   "id": "34d316375cf6f63a",
   "outputs": [
    {
     "data": {
      "text/plain": [
       "OutEdgeDataView([(0, 17179869283, {'geometry': <LINESTRING (9.151 45.462, 9.151 45.462)>, 'id': '4011799', 'name': \"Via Marchesi de' Taddei\", 'distance': 13.853932347639198, 'population': 447.0405512516792})])"
      ]
     },
     "execution_count": 14,
     "metadata": {},
     "output_type": "execute_result"
    }
   ],
   "execution_count": 14
  }
 ],
 "metadata": {
  "kernelspec": {
   "display_name": "Python 3",
   "language": "python",
   "name": "python3"
  },
  "language_info": {
   "codemirror_mode": {
    "name": "ipython",
    "version": 2
   },
   "file_extension": ".py",
   "mimetype": "text/x-python",
   "name": "python",
   "nbconvert_exporter": "python",
   "pygments_lexer": "ipython2",
   "version": "2.7.6"
  }
 },
 "nbformat": 4,
 "nbformat_minor": 5
}
