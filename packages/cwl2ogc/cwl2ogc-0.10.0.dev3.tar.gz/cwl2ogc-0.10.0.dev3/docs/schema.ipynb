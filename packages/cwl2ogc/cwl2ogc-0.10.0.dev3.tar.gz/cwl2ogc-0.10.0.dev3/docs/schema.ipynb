{
 "cells": [
  {
   "cell_type": "markdown",
   "id": "8358e29c",
   "metadata": {},
   "source": [
    "# JSON Schema generation\n",
    "\n",
    "A simple usage of the library that, given generates a JSON Schema for inputs and outputs."
   ]
  },
  {
   "cell_type": "code",
   "execution_count": 22,
   "id": "c4f20774",
   "metadata": {},
   "outputs": [
    {
     "name": "stdout",
     "output_type": "stream",
     "text": [
      "Requirement already satisfied: cwl_loader in /home/stripodi/Documents/workspace/cwl2ogc/.venv/lib/python3.13/site-packages (0.4.0)\n",
      "Requirement already satisfied: jsonschema in /home/stripodi/Documents/workspace/cwl2ogc/.venv/lib/python3.13/site-packages (4.25.1)\n",
      "Requirement already satisfied: cwl-utils>=0.39 in /home/stripodi/Documents/workspace/cwl2ogc/.venv/lib/python3.13/site-packages (from cwl_loader) (0.39)\n",
      "Requirement already satisfied: cwltool>=3.1.20250110105449 in /home/stripodi/Documents/workspace/cwl2ogc/.venv/lib/python3.13/site-packages (from cwl_loader) (3.1.20250715140722)\n",
      "Requirement already satisfied: loguru in /home/stripodi/Documents/workspace/cwl2ogc/.venv/lib/python3.13/site-packages (from cwl_loader) (0.7.3)\n",
      "Requirement already satisfied: ruamel-yaml>=0.18.15 in /home/stripodi/Documents/workspace/cwl2ogc/.venv/lib/python3.13/site-packages (from cwl_loader) (0.18.15)\n",
      "Requirement already satisfied: attrs>=22.2.0 in /home/stripodi/Documents/workspace/cwl2ogc/.venv/lib/python3.13/site-packages (from jsonschema) (25.3.0)\n",
      "Requirement already satisfied: jsonschema-specifications>=2023.03.6 in /home/stripodi/Documents/workspace/cwl2ogc/.venv/lib/python3.13/site-packages (from jsonschema) (2025.9.1)\n",
      "Requirement already satisfied: referencing>=0.28.4 in /home/stripodi/Documents/workspace/cwl2ogc/.venv/lib/python3.13/site-packages (from jsonschema) (0.36.2)\n",
      "Requirement already satisfied: rpds-py>=0.7.1 in /home/stripodi/Documents/workspace/cwl2ogc/.venv/lib/python3.13/site-packages (from jsonschema) (0.27.1)\n",
      "Requirement already satisfied: cwl-upgrader>=1.2.3 in /home/stripodi/Documents/workspace/cwl2ogc/.venv/lib/python3.13/site-packages (from cwl-utils>=0.39->cwl_loader) (1.2.12)\n",
      "Requirement already satisfied: packaging in /home/stripodi/Documents/workspace/cwl2ogc/.venv/lib/python3.13/site-packages (from cwl-utils>=0.39->cwl_loader) (25.0)\n",
      "Requirement already satisfied: rdflib in /home/stripodi/Documents/workspace/cwl2ogc/.venv/lib/python3.13/site-packages (from cwl-utils>=0.39->cwl_loader) (7.1.4)\n",
      "Requirement already satisfied: requests in /home/stripodi/Documents/workspace/cwl2ogc/.venv/lib/python3.13/site-packages (from cwl-utils>=0.39->cwl_loader) (2.32.5)\n",
      "Requirement already satisfied: schema-salad<9,>=8.8.20250205075315 in /home/stripodi/Documents/workspace/cwl2ogc/.venv/lib/python3.13/site-packages (from cwl-utils>=0.39->cwl_loader) (8.9.20250723145140)\n",
      "Requirement already satisfied: ruamel.yaml.clib>=0.2.7 in /home/stripodi/Documents/workspace/cwl2ogc/.venv/lib/python3.13/site-packages (from ruamel-yaml>=0.18.15->cwl_loader) (0.2.12)\n",
      "Requirement already satisfied: mistune<3.1,>=3 in /home/stripodi/Documents/workspace/cwl2ogc/.venv/lib/python3.13/site-packages (from schema-salad<9,>=8.8.20250205075315->cwl-utils>=0.39->cwl_loader) (3.0.2)\n",
      "Requirement already satisfied: CacheControl<0.15,>=0.13.1 in /home/stripodi/Documents/workspace/cwl2ogc/.venv/lib/python3.13/site-packages (from CacheControl[filecache]<0.15,>=0.13.1->schema-salad<9,>=8.8.20250205075315->cwl-utils>=0.39->cwl_loader) (0.14.3)\n",
      "Requirement already satisfied: mypy_extensions in /home/stripodi/Documents/workspace/cwl2ogc/.venv/lib/python3.13/site-packages (from schema-salad<9,>=8.8.20250205075315->cwl-utils>=0.39->cwl_loader) (1.1.0)\n",
      "Requirement already satisfied: msgpack<2.0.0,>=0.5.2 in /home/stripodi/Documents/workspace/cwl2ogc/.venv/lib/python3.13/site-packages (from CacheControl<0.15,>=0.13.1->CacheControl[filecache]<0.15,>=0.13.1->schema-salad<9,>=8.8.20250205075315->cwl-utils>=0.39->cwl_loader) (1.1.1)\n",
      "Requirement already satisfied: filelock>=3.8.0 in /home/stripodi/Documents/workspace/cwl2ogc/.venv/lib/python3.13/site-packages (from CacheControl[filecache]<0.15,>=0.13.1->schema-salad<9,>=8.8.20250205075315->cwl-utils>=0.39->cwl_loader) (3.19.1)\n",
      "Requirement already satisfied: pyparsing<4,>=2.1.0 in /home/stripodi/Documents/workspace/cwl2ogc/.venv/lib/python3.13/site-packages (from rdflib->cwl-utils>=0.39->cwl_loader) (3.2.3)\n",
      "Requirement already satisfied: setuptools in /home/stripodi/Documents/workspace/cwl2ogc/.venv/lib/python3.13/site-packages (from cwl-upgrader>=1.2.3->cwl-utils>=0.39->cwl_loader) (80.9.0)\n",
      "Requirement already satisfied: prov==1.5.1 in /home/stripodi/Documents/workspace/cwl2ogc/.venv/lib/python3.13/site-packages (from cwltool>=3.1.20250110105449->cwl_loader) (1.5.1)\n",
      "Requirement already satisfied: psutil>=5.6.6 in /home/stripodi/Documents/workspace/cwl2ogc/.venv/lib/python3.13/site-packages (from cwltool>=3.1.20250110105449->cwl_loader) (7.0.0)\n",
      "Requirement already satisfied: coloredlogs in /home/stripodi/Documents/workspace/cwl2ogc/.venv/lib/python3.13/site-packages (from cwltool>=3.1.20250110105449->cwl_loader) (15.0.1)\n",
      "Requirement already satisfied: pydot>=1.4.1 in /home/stripodi/Documents/workspace/cwl2ogc/.venv/lib/python3.13/site-packages (from cwltool>=3.1.20250110105449->cwl_loader) (4.0.1)\n",
      "Requirement already satisfied: argcomplete>=1.12.0 in /home/stripodi/Documents/workspace/cwl2ogc/.venv/lib/python3.13/site-packages (from cwltool>=3.1.20250110105449->cwl_loader) (3.6.2)\n",
      "Requirement already satisfied: spython>=0.3.0 in /home/stripodi/Documents/workspace/cwl2ogc/.venv/lib/python3.13/site-packages (from cwltool>=3.1.20250110105449->cwl_loader) (0.3.14)\n",
      "Requirement already satisfied: rich-argparse in /home/stripodi/Documents/workspace/cwl2ogc/.venv/lib/python3.13/site-packages (from cwltool>=3.1.20250110105449->cwl_loader) (1.7.1)\n",
      "Requirement already satisfied: lxml in /home/stripodi/Documents/workspace/cwl2ogc/.venv/lib/python3.13/site-packages (from prov==1.5.1->cwltool>=3.1.20250110105449->cwl_loader) (6.0.1)\n",
      "Requirement already satisfied: networkx in /home/stripodi/Documents/workspace/cwl2ogc/.venv/lib/python3.13/site-packages (from prov==1.5.1->cwltool>=3.1.20250110105449->cwl_loader) (3.5)\n",
      "Requirement already satisfied: python-dateutil in /home/stripodi/Documents/workspace/cwl2ogc/.venv/lib/python3.13/site-packages (from prov==1.5.1->cwltool>=3.1.20250110105449->cwl_loader) (2.9.0.post0)\n",
      "Requirement already satisfied: six>=1.9.0 in /home/stripodi/Documents/workspace/cwl2ogc/.venv/lib/python3.13/site-packages (from prov==1.5.1->cwltool>=3.1.20250110105449->cwl_loader) (1.17.0)\n",
      "Requirement already satisfied: charset_normalizer<4,>=2 in /home/stripodi/Documents/workspace/cwl2ogc/.venv/lib/python3.13/site-packages (from requests->cwl-utils>=0.39->cwl_loader) (3.4.3)\n",
      "Requirement already satisfied: idna<4,>=2.5 in /home/stripodi/Documents/workspace/cwl2ogc/.venv/lib/python3.13/site-packages (from requests->cwl-utils>=0.39->cwl_loader) (3.10)\n",
      "Requirement already satisfied: urllib3<3,>=1.21.1 in /home/stripodi/Documents/workspace/cwl2ogc/.venv/lib/python3.13/site-packages (from requests->cwl-utils>=0.39->cwl_loader) (2.5.0)\n",
      "Requirement already satisfied: certifi>=2017.4.17 in /home/stripodi/Documents/workspace/cwl2ogc/.venv/lib/python3.13/site-packages (from requests->cwl-utils>=0.39->cwl_loader) (2025.8.3)\n",
      "Requirement already satisfied: humanfriendly>=9.1 in /home/stripodi/Documents/workspace/cwl2ogc/.venv/lib/python3.13/site-packages (from coloredlogs->cwltool>=3.1.20250110105449->cwl_loader) (10.0)\n",
      "Requirement already satisfied: rich>=11.0.0 in /home/stripodi/Documents/workspace/cwl2ogc/.venv/lib/python3.13/site-packages (from rich-argparse->cwltool>=3.1.20250110105449->cwl_loader) (14.1.0)\n",
      "Requirement already satisfied: markdown-it-py>=2.2.0 in /home/stripodi/Documents/workspace/cwl2ogc/.venv/lib/python3.13/site-packages (from rich>=11.0.0->rich-argparse->cwltool>=3.1.20250110105449->cwl_loader) (4.0.0)\n",
      "Requirement already satisfied: pygments<3.0.0,>=2.13.0 in /home/stripodi/Documents/workspace/cwl2ogc/.venv/lib/python3.13/site-packages (from rich>=11.0.0->rich-argparse->cwltool>=3.1.20250110105449->cwl_loader) (2.19.2)\n",
      "Requirement already satisfied: mdurl~=0.1 in /home/stripodi/Documents/workspace/cwl2ogc/.venv/lib/python3.13/site-packages (from markdown-it-py>=2.2.0->rich>=11.0.0->rich-argparse->cwltool>=3.1.20250110105449->cwl_loader) (0.1.2)\n",
      "Note: you may need to restart the kernel to use updated packages.\n"
     ]
    }
   ],
   "source": [
    "pip install cwl_loader jsonschema"
   ]
  },
  {
   "cell_type": "markdown",
   "id": "49492847",
   "metadata": {},
   "source": [
    "## 1. Parsing\n",
    "\n",
    "In this sample we'll show the access from a remote public URL."
   ]
  },
  {
   "cell_type": "code",
   "execution_count": 23,
   "id": "f5976049",
   "metadata": {},
   "outputs": [
    {
     "name": "stderr",
     "output_type": "stream",
     "text": [
      "\u001b[32m2025-09-08 11:27:55.919\u001b[0m | \u001b[34m\u001b[1mDEBUG   \u001b[0m | \u001b[36mcwl_loader\u001b[0m:\u001b[36mload_cwl_from_location\u001b[0m:\u001b[36m196\u001b[0m - \u001b[34m\u001b[1mLoading CWL document from https://raw.githubusercontent.com/eoap/application-package-patterns/refs/heads/main/cwl-workflow/pattern-12.cwl...\u001b[0m\n",
      "\u001b[32m2025-09-08 11:27:56.266\u001b[0m | \u001b[34m\u001b[1mDEBUG   \u001b[0m | \u001b[36mcwl_loader\u001b[0m:\u001b[36m_load_cwl_from_stream\u001b[0m:\u001b[36m199\u001b[0m - \u001b[34m\u001b[1mReading stream from https://raw.githubusercontent.com/eoap/application-package-patterns/refs/heads/main/cwl-workflow/pattern-12.cwl...\u001b[0m\n",
      "\u001b[32m2025-09-08 11:27:56.280\u001b[0m | \u001b[34m\u001b[1mDEBUG   \u001b[0m | \u001b[36mcwl_loader\u001b[0m:\u001b[36mload_cwl_from_stream\u001b[0m:\u001b[36m173\u001b[0m - \u001b[34m\u001b[1mCWL data of type <class 'ruamel.yaml.comments.CommentedMap'> successfully loaded from stream\u001b[0m\n",
      "\u001b[32m2025-09-08 11:27:56.281\u001b[0m | \u001b[34m\u001b[1mDEBUG   \u001b[0m | \u001b[36mcwl_loader\u001b[0m:\u001b[36mload_cwl_from_yaml\u001b[0m:\u001b[36m124\u001b[0m - \u001b[34m\u001b[1mUpdating the model of type 'CommentedMap' to version 'v1.2'...\u001b[0m\n",
      "\u001b[32m2025-09-08 11:27:56.281\u001b[0m | \u001b[34m\u001b[1mDEBUG   \u001b[0m | \u001b[36mcwl_loader\u001b[0m:\u001b[36mload_cwl_from_yaml\u001b[0m:\u001b[36m135\u001b[0m - \u001b[34m\u001b[1mRaw CWL document successfully updated to v1.2! Now converting to the CWL model...\u001b[0m\n",
      "\u001b[32m2025-09-08 11:28:06.150\u001b[0m | \u001b[34m\u001b[1mDEBUG   \u001b[0m | \u001b[36mcwl_loader\u001b[0m:\u001b[36mload_cwl_from_yaml\u001b[0m:\u001b[36m143\u001b[0m - \u001b[34m\u001b[1mRaw CWL document successfully updated to v1.2! Now dereferencing the FQNs...\u001b[0m\n",
      "\u001b[32m2025-09-08 11:28:06.151\u001b[0m | \u001b[34m\u001b[1mDEBUG   \u001b[0m | \u001b[36mcwl_loader\u001b[0m:\u001b[36m_clean_process\u001b[0m:\u001b[36m66\u001b[0m - \u001b[34m\u001b[1m  Cleaning Workflow pattern-12...\u001b[0m\n",
      "\u001b[32m2025-09-08 11:28:06.152\u001b[0m | \u001b[34m\u001b[1mDEBUG   \u001b[0m | \u001b[36mcwl_loader\u001b[0m:\u001b[36m_clean_process\u001b[0m:\u001b[36m66\u001b[0m - \u001b[34m\u001b[1m  Cleaning CommandLineTool crop...\u001b[0m\n",
      "\u001b[32m2025-09-08 11:28:06.152\u001b[0m | \u001b[34m\u001b[1mDEBUG   \u001b[0m | \u001b[36mcwl_loader\u001b[0m:\u001b[36m_clean_process\u001b[0m:\u001b[36m66\u001b[0m - \u001b[34m\u001b[1m  Cleaning CommandLineTool norm_diff...\u001b[0m\n",
      "\u001b[32m2025-09-08 11:28:06.152\u001b[0m | \u001b[34m\u001b[1mDEBUG   \u001b[0m | \u001b[36mcwl_loader\u001b[0m:\u001b[36m_clean_process\u001b[0m:\u001b[36m66\u001b[0m - \u001b[34m\u001b[1m  Cleaning CommandLineTool otsu...\u001b[0m\n",
      "\u001b[32m2025-09-08 11:28:06.153\u001b[0m | \u001b[34m\u001b[1mDEBUG   \u001b[0m | \u001b[36mcwl_loader\u001b[0m:\u001b[36mload_cwl_from_yaml\u001b[0m:\u001b[36m151\u001b[0m - \u001b[34m\u001b[1mCWL document successfully dereferenced!\u001b[0m\n",
      "\u001b[32m2025-09-08 11:28:06.153\u001b[0m | \u001b[34m\u001b[1mDEBUG   \u001b[0m | \u001b[36mcwl_loader\u001b[0m:\u001b[36m_load_cwl_from_stream\u001b[0m:\u001b[36m207\u001b[0m - \u001b[34m\u001b[1mStream from https://raw.githubusercontent.com/eoap/application-package-patterns/refs/heads/main/cwl-workflow/pattern-12.cwl successfully load!\u001b[0m\n"
     ]
    }
   ],
   "source": [
    "from cwl_loader import load_cwl_from_location\n",
    "from cwl2ogc import BaseCWLtypes2OGCConverter\n",
    "\n",
    "workflow_id = 'pattern-12'\n",
    "cwl_document = load_cwl_from_location('https://raw.githubusercontent.com/eoap/application-package-patterns/refs/heads/main/cwl-workflow/pattern-12.cwl')\n",
    "\n",
    "workflow = None\n",
    "for wf in cwl_document:\n",
    "    if workflow_id == wf.id.split('#')[-1]:\n",
    "        workflow = wf\n",
    "        break\n",
    "\n",
    "if workflow is not None:\n",
    "    cwl_converter = BaseCWLtypes2OGCConverter(workflow)\n",
    "else:\n",
    "    raise ValueError(f\"'#{workflow_id}' not found in input $graph\")"
   ]
  },
  {
   "cell_type": "markdown",
   "id": "a127e3f7",
   "metadata": {},
   "source": [
    "## 2. Inputs JSON Schema generation\n",
    "\n",
    "Once the document is parsed, invoke the `cwl2ogc` APIs to convert the CWL inputs to the JSON schema:"
   ]
  },
  {
   "cell_type": "code",
   "execution_count": 24,
   "id": "fba17ea4",
   "metadata": {},
   "outputs": [
    {
     "name": "stdout",
     "output_type": "stream",
     "text": [
      "{\n",
      "  \"$schema\": \"https://json-schema.org/draft/2020-12/schema\",\n",
      "  \"$id\": \"https://eoap.github.io/cwl2ogc/pattern-12/inputs.yaml\",\n",
      "  \"description\": \"The schema to represent a pattern-12 inputs definition\",\n",
      "  \"type\": \"object\",\n",
      "  \"required\": [\n",
      "    \"aoi\",\n",
      "    \"bands\",\n",
      "    \"item\",\n",
      "    \"cropped-collection\",\n",
      "    \"ndwi-collection\",\n",
      "    \"water-bodies-collection\"\n",
      "  ],\n",
      "  \"properties\": {\n",
      "    \"aoi\": {\n",
      "      \"$ref\": \"#/$defs/aoi\"\n",
      "    },\n",
      "    \"bands\": {\n",
      "      \"$ref\": \"#/$defs/bands\"\n",
      "    },\n",
      "    \"item\": {\n",
      "      \"$ref\": \"#/$defs/item\"\n",
      "    },\n",
      "    \"cropped-collection\": {\n",
      "      \"$ref\": \"#/$defs/cropped-collection\"\n",
      "    },\n",
      "    \"ndwi-collection\": {\n",
      "      \"$ref\": \"#/$defs/ndwi-collection\"\n",
      "    },\n",
      "    \"water-bodies-collection\": {\n",
      "      \"$ref\": \"#/$defs/water-bodies-collection\"\n",
      "    }\n",
      "  },\n",
      "  \"additionalProperties\": false,\n",
      "  \"$defs\": {\n",
      "    \"aoi\": {\n",
      "      \"type\": \"object\",\n",
      "      \"properties\": {\n",
      "        \"bbox\": {\n",
      "          \"type\": \"array\",\n",
      "          \"items\": {\n",
      "            \"type\": \"number\",\n",
      "            \"format\": \"double\"\n",
      "          }\n",
      "        },\n",
      "        \"crs\": {\n",
      "          \"type\": \"string\",\n",
      "          \"enum\": [\n",
      "            \"CRS84\",\n",
      "            \"CRS84h\"\n",
      "          ]\n",
      "        }\n",
      "      },\n",
      "      \"required\": [\n",
      "        \"bbox\",\n",
      "        \"crs\"\n",
      "      ]\n",
      "    },\n",
      "    \"bands\": {\n",
      "      \"type\": \"array\",\n",
      "      \"items\": {\n",
      "        \"type\": \"string\"\n",
      "      },\n",
      "      \"default\": [\n",
      "        \"green\",\n",
      "        \"nir\"\n",
      "      ]\n",
      "    },\n",
      "    \"item\": {\n",
      "      \"oneOf\": [\n",
      "        {\n",
      "          \"type\": \"string\",\n",
      "          \"format\": \"uri\"\n",
      "        },\n",
      "        {\n",
      "          \"$ref\": \"https://raw.githubusercontent.com/radiantearth/stac-api-spec/refs/tags/v1.0.0/stac-spec/item-spec/json-schema/item.json\"\n",
      "        }\n",
      "      ]\n",
      "    },\n",
      "    \"cropped-collection\": {\n",
      "      \"type\": \"string\",\n",
      "      \"format\": \"uri\"\n",
      "    },\n",
      "    \"ndwi-collection\": {\n",
      "      \"type\": \"string\",\n",
      "      \"format\": \"uri\"\n",
      "    },\n",
      "    \"water-bodies-collection\": {\n",
      "      \"type\": \"string\",\n",
      "      \"format\": \"uri\"\n",
      "    }\n",
      "  }\n",
      "}"
     ]
    }
   ],
   "source": [
    "import sys\n",
    "\n",
    "cwl_converter.dump_inputs_json_schema(stream=sys.stdout, pretty_print=True)"
   ]
  },
  {
   "cell_type": "markdown",
   "id": "dd36ab4d",
   "metadata": {},
   "source": [
    "### 2.1 Inputs validation\n",
    "\n",
    "Schema can be used to fully validate an inputs dictionary (expecting JSON Schema validation errors in the example below):"
   ]
  },
  {
   "cell_type": "code",
   "execution_count": null,
   "id": "f6aaf3ed",
   "metadata": {},
   "outputs": [
    {
     "name": "stdout",
     "output_type": "stream",
     "text": [
      "[required] - #/: 'cropped-collection' is a required property\n",
      "[required] - #/: 'ndwi-collection' is a required property\n",
      "[required] - #/: 'water-bodies-collection' is a required property\n",
      "[properties.aoi.type] - #/aoi: '-118.985,38.432,-118.183,38.938' is not of type 'object'\n",
      "[additionalProperties] - #/: Additional properties are not allowed ('filesB' was unexpected)\n"
     ]
    }
   ],
   "source": [
    "from jsonschema import Draft202012Validator\n",
    "from jsonschema.exceptions import SchemaError\n",
    "\n",
    "def validate(schema: dict, data: dict):\n",
    "    try:\n",
    "        validator = Draft202012Validator(schema)\n",
    "        errors = validator.iter_errors(data) if validator is not None else []\n",
    "\n",
    "        if errors:\n",
    "            for error in errors:\n",
    "                print(f\"[{'.'.join(error.schema_path)}] - #/{'/'.join(error.path)}: {error.message}\")\n",
    "        else:\n",
    "            print('No JSON Schema violations detected!')\n",
    "    except SchemaError as schema_error:\n",
    "        print(f\"An error occurred while instantiating {Draft202012Validator.__class__.__name__}: {schema_error.message}\")\n"
   ]
  },
  {
   "cell_type": "markdown",
   "id": "c859e432",
   "metadata": {},
   "source": [
    "Define the inputs to be validate"
   ]
  },
  {
   "cell_type": "code",
   "execution_count": null,
   "id": "991d690a",
   "metadata": {},
   "outputs": [],
   "source": [
    "inputs = {\n",
    "    \"aoi\": \"-118.985,38.432,-118.183,38.938\",\n",
    "    \"filesB\": \"EPSG:4326\",\n",
    "    \"bands\": [ \"green\", \"nir08\" ],\n",
    "    \"item\": \"https://planetarycomputer.microsoft.com/api/stac/v1/collections/landsat-c2-l2/items/LC08_L2SP_042033_20231007_02_T1\"\n",
    "}\n",
    "\n",
    "validate(cwl_converter.get_inputs_json_schema(), inputs)"
   ]
  },
  {
   "cell_type": "markdown",
   "id": "6dc27b83",
   "metadata": {},
   "source": [
    "## 3. Outputs JSON Schema generation\n",
    "\n",
    "Users can reuse the `BaseCWLtypes2OGCConverter` instance to convert the CWL outputs to the JSON Schema:"
   ]
  },
  {
   "cell_type": "code",
   "execution_count": 35,
   "id": "6b0d3d11",
   "metadata": {},
   "outputs": [
    {
     "name": "stdout",
     "output_type": "stream",
     "text": [
      "{\n",
      "  \"$schema\": \"https://json-schema.org/draft/2020-12/schema\",\n",
      "  \"$id\": \"https://eoap.github.io/cwl2ogc/pattern-12/outputs.yaml\",\n",
      "  \"description\": \"The schema to represent a pattern-12 outputs definition\",\n",
      "  \"type\": \"object\",\n",
      "  \"required\": [\n",
      "    \"cropped\",\n",
      "    \"ndwi\",\n",
      "    \"water_bodies\"\n",
      "  ],\n",
      "  \"properties\": {\n",
      "    \"cropped\": {\n",
      "      \"$ref\": \"#/$defs/cropped\"\n",
      "    },\n",
      "    \"ndwi\": {\n",
      "      \"$ref\": \"#/$defs/ndwi\"\n",
      "    },\n",
      "    \"water_bodies\": {\n",
      "      \"$ref\": \"#/$defs/water_bodies\"\n",
      "    }\n",
      "  },\n",
      "  \"additionalProperties\": false,\n",
      "  \"$defs\": {\n",
      "    \"cropped\": {\n",
      "      \"type\": \"array\",\n",
      "      \"items\": {\n",
      "        \"oneOf\": [\n",
      "          {\n",
      "            \"type\": \"string\",\n",
      "            \"format\": \"uri\"\n",
      "          },\n",
      "          {\n",
      "            \"$ref\": \"https://raw.githubusercontent.com/radiantearth/stac-api-spec/refs/tags/v1.0.0/stac-spec/item-spec/json-schema/item.json\"\n",
      "          }\n",
      "        ]\n",
      "      }\n",
      "    },\n",
      "    \"ndwi\": {\n",
      "      \"oneOf\": [\n",
      "        {\n",
      "          \"type\": \"string\",\n",
      "          \"format\": \"uri\"\n",
      "        },\n",
      "        {\n",
      "          \"$ref\": \"https://raw.githubusercontent.com/radiantearth/stac-api-spec/refs/tags/v1.0.0/stac-spec/item-spec/json-schema/item.json\"\n",
      "        }\n",
      "      ]\n",
      "    },\n",
      "    \"water_bodies\": {\n",
      "      \"oneOf\": [\n",
      "        {\n",
      "          \"type\": \"string\",\n",
      "          \"format\": \"uri\"\n",
      "        },\n",
      "        {\n",
      "          \"$ref\": \"https://raw.githubusercontent.com/radiantearth/stac-api-spec/refs/tags/v1.0.0/stac-spec/item-spec/json-schema/item.json\"\n",
      "        }\n",
      "      ]\n",
      "    }\n",
      "  }\n",
      "}"
     ]
    }
   ],
   "source": [
    "cwl_converter.dump_outputs_json_schema(stream=sys.stdout, pretty_print=True)"
   ]
  },
  {
   "cell_type": "markdown",
   "id": "8788ec20",
   "metadata": {},
   "source": [
    "### 2.1 Outputs validation\n",
    "\n",
    "Schema can be used to fully validate an outputs dictionary (JSON Schema validation expected to pass):"
   ]
  },
  {
   "cell_type": "code",
   "execution_count": null,
   "id": "ca71d7c1",
   "metadata": {},
   "outputs": [],
   "source": [
    "outputs = {\n",
    "    \"example_out\": \"In girum imus nocte et consumimur igni\"\n",
    "}\n",
    "\n",
    "validate(cwl_converter.get_outputs_json_schema(), outputs)"
   ]
  }
 ],
 "metadata": {
  "kernelspec": {
   "display_name": ".venv",
   "language": "python",
   "name": "python3"
  },
  "language_info": {
   "codemirror_mode": {
    "name": "ipython",
    "version": 3
   },
   "file_extension": ".py",
   "mimetype": "text/x-python",
   "name": "python",
   "nbconvert_exporter": "python",
   "pygments_lexer": "ipython3",
   "version": "3.13.7"
  }
 },
 "nbformat": 4,
 "nbformat_minor": 5
}
