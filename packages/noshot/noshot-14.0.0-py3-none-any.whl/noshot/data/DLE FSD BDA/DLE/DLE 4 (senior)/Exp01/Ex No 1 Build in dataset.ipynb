{
 "cells": [
  {
   "cell_type": "markdown",
   "id": "dc31ef3a",
   "metadata": {},
   "source": [
    "# Train a deep neural network for an Image classification task using Built-In Dataset (CIFAR)"
   ]
  },
  {
   "cell_type": "code",
   "execution_count": null,
   "id": "9d77e897",
   "metadata": {},
   "outputs": [],
   "source": [
    "# Import packages\n",
    "import tensorflow as tf\n",
    "import numpy as np\n",
    "import matplotlib.pyplot as plt"
   ]
  },
  {
   "cell_type": "code",
   "execution_count": null,
   "id": "377c2e70",
   "metadata": {},
   "outputs": [],
   "source": [
    "print(\"Tensorflow version:\",tf.__version__)\n",
    "print(\"Numpy version:\", np.__version__)"
   ]
  },
  {
   "cell_type": "code",
   "execution_count": null,
   "id": "ebbbc66e",
   "metadata": {},
   "outputs": [],
   "source": [
    "# Import dataset\n",
    "cifar = tf.keras.datasets.cifar10\n",
    "(training_images,training_labels),(testing_images,testing_labels)=cifar.load_data()"
   ]
  },
  {
   "cell_type": "code",
   "execution_count": null,
   "id": "de6093f2",
   "metadata": {},
   "outputs": [],
   "source": [
    "names=['airplane','automobile','bird','cat','deer','dog','frog','horse','ship','truck']"
   ]
  },
  {
   "cell_type": "code",
   "execution_count": null,
   "id": "e19c33d1",
   "metadata": {},
   "outputs": [],
   "source": [
    "import numpy as np \n",
    "\n",
    "# The labels are an array of integers, in the range [0, 9]. \n",
    "# These correspond to the class of clothing item the image represents:\n",
    "labels = np.unique(testing_labels)\n",
    "print(labels)"
   ]
  },
  {
   "cell_type": "code",
   "execution_count": null,
   "id": "47365ac5",
   "metadata": {},
   "outputs": [],
   "source": [
    "# Dividing image pixel by 255 so that pixel comes in range 0 to 1...\n",
    "training_images=training_images/255.0\n",
    "testing_images=testing_images/255.0"
   ]
  },
  {
   "cell_type": "code",
   "execution_count": null,
   "id": "93b3540d",
   "metadata": {},
   "outputs": [],
   "source": [
    "model=tf.keras.Sequential([\n",
    "    tf.keras.layers.Flatten(input_shape=(32,32,3)),\n",
    "    tf.keras.layers.Dense(128,activation='relu'),\n",
    "    tf.keras.layers.Dense(128,activation='relu'),\n",
    "    tf.keras.layers.Dense(10,activation='softmax')\n",
    "])"
   ]
  },
  {
   "cell_type": "code",
   "execution_count": null,
   "id": "2738a63f",
   "metadata": {},
   "outputs": [],
   "source": [
    "model.summary()"
   ]
  },
  {
   "cell_type": "code",
   "execution_count": null,
   "id": "225ac217",
   "metadata": {},
   "outputs": [],
   "source": [
    "model.compile(optimizer='adam',loss='sparse_categorical_crossentropy',metrics=['accuracy'])\n"
   ]
  },
  {
   "cell_type": "code",
   "execution_count": null,
   "id": "047892dd",
   "metadata": {},
   "outputs": [],
   "source": [
    "model.fit(training_images,training_labels,epochs=10)\n"
   ]
  },
  {
   "cell_type": "code",
   "execution_count": null,
   "id": "fd8f87b5",
   "metadata": {},
   "outputs": [],
   "source": [
    "test_loss,test_acc=model.evaluate(testing_images,testing_labels)\n"
   ]
  },
  {
   "cell_type": "code",
   "execution_count": null,
   "id": "eb87cce8",
   "metadata": {},
   "outputs": [],
   "source": [
    "print(\"Test accuracy:\",test_acc)"
   ]
  }
 ],
 "metadata": {
  "kernelspec": {
   "display_name": "Python 3 (ipykernel)",
   "language": "python",
   "name": "python3"
  },
  "language_info": {
   "codemirror_mode": {
    "name": "ipython",
    "version": 3
   },
   "file_extension": ".py",
   "mimetype": "text/x-python",
   "name": "python",
   "nbconvert_exporter": "python",
   "pygments_lexer": "ipython3",
   "version": "3.12.4"
  }
 },
 "nbformat": 4,
 "nbformat_minor": 5
}
