{
 "cells": [
  {
   "cell_type": "markdown",
   "metadata": {},
   "source": [
    "# 02 Interactive display\n",
    "Sensors, impacts and virtual points can be added and moved in the 3D view interactively. The objects can then be moved around in the 3D view. The `pyFBS` supports also snapping of the objects to the surface of a predefined mesh (ussualy obtained from a STL file). When object snaps to the surface, not only the position of the object changes, but also the orientation of the object alligns with the normal of the mesh at the intersection (this feature can also be disabled). "
   ]
  },
  {
   "cell_type": "code",
   "execution_count": null,
   "metadata": {},
   "outputs": [],
   "source": [
    "import pyFBS\n",
    "\n",
    "import pandas as pd"
   ]
  },
  {
   "cell_type": "markdown",
   "metadata": {},
   "source": [
    "## 3D View\n",
    "Open 3Dviewer in the background."
   ]
  },
  {
   "cell_type": "code",
   "execution_count": null,
   "metadata": {},
   "outputs": [],
   "source": [
    "view3D = pyFBS.view3D()"
   ]
  },
  {
   "cell_type": "markdown",
   "metadata": {},
   "source": [
    "#### Download example files"
   ]
  },
  {
   "cell_type": "code",
   "execution_count": null,
   "metadata": {},
   "outputs": [],
   "source": [
    "pyFBS.download_lab_testbench()"
   ]
  },
  {
   "cell_type": "markdown",
   "metadata": {},
   "source": [
    "#### Add a structure\n",
    "Load an example laboratory testbench and add a mesh to the 3D view."
   ]
  },
  {
   "cell_type": "code",
   "execution_count": null,
   "metadata": {},
   "outputs": [],
   "source": [
    "stl = r\"./lab_testbench/STL/A.stl\"\n",
    "mesh = view3D.add_stl(stl,name = \"ts\",color = \"#83afd2\")"
   ]
  },
  {
   "cell_type": "markdown",
   "metadata": {},
   "source": [
    "#### Datasets\n",
    "Load a predefined datasets from an example. "
   ]
  },
  {
   "cell_type": "code",
   "execution_count": null,
   "metadata": {},
   "outputs": [],
   "source": [
    "pos_xlsx = r\"./lab_testbench/Measurements/ammeasurements.xlsx\"\n",
    "\n",
    "df_sensors = pd.read_excel(pos_xlsx, sheet_name='Sensors_A')\n",
    "df_impacts = pd.read_excel(pos_xlsx, sheet_name='Impacts_A')\n",
    "df_vp = pd.read_excel(pos_xlsx, sheet_name='VP_Channels')"
   ]
  },
  {
   "cell_type": "markdown",
   "metadata": {},
   "source": [
    "## Sensors\n",
    "To enable interaction of sensors in the 3D view, just simply call a function `view3D.add_acc_dynamic(mesh,predefined = df_sensors)`. This will place the predefined sensors in the display and enable interaction with them and will allow you to add additional sensors. If you are starting a completely new analysis, you don't need the predefined data you can simply start with an empty dataset (i.e. `predefined = None`).\n",
    "\n",
    "The object can be moved around by moving a black sphere in the 3D view. Arbitrary rotation around each local axis can be obtained my moving colored spheres (red - rotation around *X*, green - rotation around *Y*, blue - rotation around *Z*)"
   ]
  },
  {
   "cell_type": "code",
   "execution_count": null,
   "metadata": {},
   "outputs": [],
   "source": [
    "view3D.add_acc_dynamic(mesh,predefined = df_sensors)"
   ]
  },
  {
   "cell_type": "markdown",
   "metadata": {},
   "source": [
    "Additonaly, fixed rotation angle can be defined by passing `fixed_rotation` variable when adding dynamic sensors in the display. After clicking on the sphere widget the sensor will rotate for the predetermined angle, based on the sign (clock or counterclockwise). "
   ]
  },
  {
   "cell_type": "code",
   "execution_count": null,
   "metadata": {},
   "outputs": [],
   "source": [
    "view3D.add_acc_dynamic(mesh,predefined = df_sensors,fixed_rotation = 10)"
   ]
  },
  {
   "cell_type": "markdown",
   "metadata": {},
   "source": [
    "The position and orientation data can be obtained by simply calling a function `view3D.get_acc_data()`:  "
   ]
  },
  {
   "cell_type": "code",
   "execution_count": null,
   "metadata": {},
   "outputs": [],
   "source": [
    "df_acc_updated = view3D.get_acc_data()\n",
    "df_acc_updated"
   ]
  },
  {
   "cell_type": "markdown",
   "metadata": {},
   "source": [
    "From the new positions and orientations of sensors a channel dataset can be generated (currently all the accelerometers are considered as tri-axial). If you have uni-axial accelerometers, redundant channels can be discarded afterwards."
   ]
  },
  {
   "cell_type": "code",
   "execution_count": null,
   "metadata": {},
   "outputs": [],
   "source": [
    "df_chn_updated = pyFBS.utility.generate_channels_from_sensors(df_acc_updated)\n",
    "df_chn_updated"
   ]
  },
  {
   "cell_type": "markdown",
   "metadata": {},
   "source": [
    "If you have the channel dataset (tri-axial) you can generate the sensor dataset. This transformation is not unique and gimbal lock problem can arise. In this case third angle (rotation around Z axis) is set to zero and a warning is raised (see [scipy.spatial.transform.Rotation.as_euler](https://docs.scipy.org/doc/scipy/reference/generated/scipy.spatial.transform.Rotation.as_euler.html) for more details). Nevertheless, the obtained rotation angles still represent the correct rotation."
   ]
  },
  {
   "cell_type": "code",
   "execution_count": null,
   "metadata": {},
   "outputs": [],
   "source": [
    "df_acc_from_chn = pyFBS.utility.generate_sensors_from_channels(df_chn_updated)\n",
    "df_acc_from_chn"
   ]
  },
  {
   "cell_type": "markdown",
   "metadata": {},
   "source": [
    "## Impacts"
   ]
  },
  {
   "cell_type": "markdown",
   "metadata": {},
   "source": [
    "Adding impacts interactively to the 3D view is the same, only the object display is different."
   ]
  },
  {
   "cell_type": "code",
   "execution_count": null,
   "metadata": {},
   "outputs": [],
   "source": [
    "view3D.add_imp_dynamic(mesh,predefined = df_impacts)"
   ]
  },
  {
   "cell_type": "markdown",
   "metadata": {},
   "source": [
    "The updated positions and orientation of the virtual points can be obtained directly:"
   ]
  },
  {
   "cell_type": "code",
   "execution_count": null,
   "metadata": {},
   "outputs": [],
   "source": [
    "df_imp_updated = view3D.get_imp_data()\n",
    "df_imp_updated"
   ]
  },
  {
   "cell_type": "markdown",
   "metadata": {},
   "source": [
    "## Virtual points"
   ]
  },
  {
   "cell_type": "markdown",
   "metadata": {},
   "source": [
    "Adding virtual points interactively to the 3D view is the same, only the object display is different."
   ]
  },
  {
   "cell_type": "code",
   "execution_count": null,
   "metadata": {},
   "outputs": [],
   "source": [
    "view3D.add_vp_dynamic(mesh,predefined = df_vp)"
   ]
  },
  {
   "cell_type": "markdown",
   "metadata": {},
   "source": [
    "The updated positions and orientation of the virtual points can be obtained directly:"
   ]
  },
  {
   "cell_type": "code",
   "execution_count": null,
   "metadata": {},
   "outputs": [],
   "source": [
    "df_vp_updated = view3D.get_vp_data()\n",
    "df_vp_updated"
   ]
  },
  {
   "cell_type": "markdown",
   "metadata": {},
   "source": [
    "## Output\n",
    "You can save the new positions and orientations of the objects in Excel file in a simple manner:  "
   ]
  },
  {
   "cell_type": "code",
   "execution_count": null,
   "metadata": {},
   "outputs": [],
   "source": [
    "# with pd.ExcelWriter('./output_file.xlsx') as writer:  \n",
    "#     df_acc_updated.to_excel(writer, sheet_name='Sensors',index = False)\n",
    "#     df_imp_updated.to_excel(writer, sheet_name='Impacts',index = False)\n",
    "#     df_chn_updated.to_excel(writer, sheet_name='Channels',index = False)"
   ]
  },
  {
   "cell_type": "code",
   "execution_count": null,
   "metadata": {},
   "outputs": [],
   "source": []
  }
 ],
 "metadata": {
  "kernelspec": {
   "display_name": "Python 3",
   "language": "python",
   "name": "python3"
  },
  "language_info": {
   "codemirror_mode": {
    "name": "ipython",
    "version": 3
   },
   "file_extension": ".py",
   "mimetype": "text/x-python",
   "name": "python",
   "nbconvert_exporter": "python",
   "pygments_lexer": "ipython3",
   "version": "3.8.5"
  }
 },
 "nbformat": 4,
 "nbformat_minor": 4
}
