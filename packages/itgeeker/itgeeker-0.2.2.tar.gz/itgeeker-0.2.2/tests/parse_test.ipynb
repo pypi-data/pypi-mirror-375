{
 "cells": [
  {
   "cell_type": "code",
   "id": "initial_id",
   "metadata": {
    "collapsed": true,
    "ExecuteTime": {
     "end_time": "2025-09-11T03:29:01.679226Z",
     "start_time": "2025-09-11T03:29:01.672897Z"
    }
   },
   "source": [
    "from itgeeker.geekermaster_parse import parse_company_name\n",
    "\n",
    "ban_company_list = ['上海奇客罗方智能科技有限公司', '奇客罗方智能科技']\n",
    "print(parse_company_name('来自 上海奇客罗方智能科技有限公司 的计技术奇客', ban_company_list))\n",
    "\n",
    "\n",
    "from itgeeker import geekermaster_parse\n",
    "ban_company_list = ['奇客罗方智能科技']\n",
    "print(geekermaster_parse.parse_company_name('来自 上海奇客罗方智能科技有限公司 的计技术奇客', ban_company_list))"
   ],
   "outputs": [
    {
     "name": "stdout",
     "output_type": "stream",
     "text": [
      "extract_res_list: [('上海奇客罗方智能科技有限', '公司', ' ')]\n",
      "found_company_list: ['上海奇客罗方智能科技有限公司 ']\n",
      "will return final_list: %s []\n",
      "False\n",
      "extract_res_list: [('上海奇客罗方智能科技有限', '公司', ' ')]\n",
      "found_company_list: ['上海奇客罗方智能科技有限公司 ']\n",
      "will return final_list: %s ['上海奇客罗方智能科技有限公司']\n",
      "上海奇客罗方智能科技有限公司\n"
     ]
    }
   ],
   "execution_count": 10
  },
  {
   "metadata": {
    "ExecuteTime": {
     "end_time": "2025-09-11T03:28:59.913258Z",
     "start_time": "2025-09-11T03:28:59.908216Z"
    }
   },
   "cell_type": "code",
   "source": [
    "from itgeeker.geekermaster_parse import parse_company_name, parse_school_name, parse_gender_name\n",
    "\n",
    "# code to test parse_school_name\n",
    "print(parse_school_name('上海交通大学'))"
   ],
   "id": "cdb6a03c0db89f7b",
   "outputs": [
    {
     "name": "stdout",
     "output_type": "stream",
     "text": [
      "extract_res_list: [('上海交通', '大学')]\n",
      "found_school_list: ['上海交通大学']\n",
      "will return final_list: %s ['上海交通大学']\n",
      "上海交通大学\n"
     ]
    }
   ],
   "execution_count": 9
  },
  {
   "metadata": {
    "ExecuteTime": {
     "end_time": "2025-09-11T03:32:48.662894Z",
     "start_time": "2025-09-11T03:32:48.657843Z"
    }
   },
   "cell_type": "code",
   "source": [
    "\n",
    "from itgeeker.geekermaster_parse import parse_gender_name\n",
    "\n",
    "# code to test parse_gender_name\n",
    "print(parse_gender_name('男生'))\n",
    "print(parse_gender_name(' 男 '))"
   ],
   "id": "36c956a666da54b4",
   "outputs": [
    {
     "name": "stdout",
     "output_type": "stream",
     "text": [
      "extract_res_list: []\n",
      "False\n",
      "extract_res_list: [(' ', '男', ' ')]\n",
      "found_gender_list: [' 男 ']\n",
      "will return final_list: %s ['男']\n",
      "男\n"
     ]
    }
   ],
   "execution_count": 12
  }
 ],
 "metadata": {
  "kernelspec": {
   "display_name": "Python 3",
   "language": "python",
   "name": "python3"
  },
  "language_info": {
   "codemirror_mode": {
    "name": "ipython",
    "version": 2
   },
   "file_extension": ".py",
   "mimetype": "text/x-python",
   "name": "python",
   "nbconvert_exporter": "python",
   "pygments_lexer": "ipython2",
   "version": "2.7.6"
  }
 },
 "nbformat": 4,
 "nbformat_minor": 5
}
