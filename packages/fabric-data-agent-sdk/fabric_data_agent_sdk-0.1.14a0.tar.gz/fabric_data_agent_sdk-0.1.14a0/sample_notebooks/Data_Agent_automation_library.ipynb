{
 "cells": [
  {
   "cell_type": "markdown",
   "id": "ac01cfd8-1481-46b5-b79b-836fc989b02d",
   "metadata": {
    "nteract": {
     "transient": {
      "deleting": false
     }
    }
   },
   "source": [
    "##### Introduction\n",
    "This notebook demonstrates how to automate Fabric data agent functionalities such as creating a data agent; adding a datasource (e.g. Lakehouse) or adding instructions to a data agent programmatically using our library. More information on data agent can be found [here](https://learn.microsoft.com/en-us/fabric/data-science/concept-ai-skill)."
   ]
  },
  {
   "cell_type": "code",
   "execution_count": 1,
   "id": "0855b56a-c70f-4bc7-930d-3a90211303fa",
   "metadata": {},
   "outputs": [
    {
     "data": {
      "application/vnd.livy.statement-meta+json": {
       "execution_finish_time": "2025-06-30T21:13:04.3189919Z",
       "execution_start_time": "2025-06-30T21:12:42.7239948Z",
       "livy_statement_state": "available",
       "normalized_state": "finished",
       "parent_msg_id": "6a0fe416-e4f1-4136-ad23-b4cd2e25566d",
       "queued_time": "2025-06-30T21:12:32.6864413Z",
       "session_id": "07ef0fc8-ad82-4442-8d95-1e2d6fc49627",
       "session_start_time": "2025-06-30T21:12:32.6868412Z",
       "spark_pool": null,
       "state": "finished",
       "statement_id": 7,
       "statement_ids": [
        3,
        4,
        5,
        6,
        7
       ]
      },
      "text/plain": [
       "StatementMeta(, 07ef0fc8-ad82-4442-8d95-1e2d6fc49627, 7, Finished, Available, Finished)"
      ]
     },
     "metadata": {},
     "output_type": "display_data"
    },
    {
     "name": "stdout",
     "output_type": "stream",
     "text": [
      "Collecting fabric-data-agent-sdk\n",
      "  Downloading fabric_data_agent_sdk-0.1.8a0-py3-none-any.whl.metadata (4.7 kB)\n",
      "Requirement already satisfied: semantic-link-sempy>=0.8.0 in /home/trusted-service-user/cluster-env/trident_env/lib/python3.11/site-packages (from fabric-data-agent-sdk) (0.10.2)\n",
      "Collecting openai>=1.57.0 (from fabric-data-agent-sdk)\n",
      "  Downloading openai-1.93.0-py3-none-any.whl.metadata (29 kB)\n",
      "Collecting httpx==0.27.2 (from fabric-data-agent-sdk)\n",
      "  Downloading httpx-0.27.2-py3-none-any.whl.metadata (7.1 kB)\n",
      "Collecting semantic-link-labs==0.9.10 (from fabric-data-agent-sdk)\n",
      "  Downloading semantic_link_labs-0.9.10-py3-none-any.whl.metadata (26 kB)\n",
      "Collecting azure-kusto-data>=4.5.0 (from fabric-data-agent-sdk)\n",
      "  Downloading azure_kusto_data-5.0.4-py2.py3-none-any.whl.metadata (4.2 kB)\n",
      "Collecting markdown2==2.5.3 (from fabric-data-agent-sdk)\n",
      "  Downloading markdown2-2.5.3-py3-none-any.whl.metadata (2.1 kB)\n",
      "Requirement already satisfied: anyio in /home/trusted-service-user/cluster-env/trident_env/lib/python3.11/site-packages (from httpx==0.27.2->fabric-data-agent-sdk) (4.2.0)\n",
      "Requirement already satisfied: certifi in /home/trusted-service-user/cluster-env/trident_env/lib/python3.11/site-packages (from httpx==0.27.2->fabric-data-agent-sdk) (2024.2.2)\n",
      "Collecting httpcore==1.* (from httpx==0.27.2->fabric-data-agent-sdk)\n",
      "  Downloading httpcore-1.0.9-py3-none-any.whl.metadata (21 kB)\n",
      "Requirement already satisfied: idna in /home/trusted-service-user/cluster-env/trident_env/lib/python3.11/site-packages (from httpx==0.27.2->fabric-data-agent-sdk) (3.4)\n",
      "Requirement already satisfied: sniffio in /home/trusted-service-user/cluster-env/trident_env/lib/python3.11/site-packages (from httpx==0.27.2->fabric-data-agent-sdk) (1.3.0)\n",
      "Collecting anytree (from semantic-link-labs==0.9.10->fabric-data-agent-sdk)\n",
      "  Downloading anytree-2.13.0-py3-none-any.whl.metadata (8.0 kB)\n",
      "Requirement already satisfied: powerbiclient in /home/trusted-service-user/cluster-env/trident_env/lib/python3.11/site-packages (from semantic-link-labs==0.9.10->fabric-data-agent-sdk) (3.1.1)\n",
      "Collecting polib (from semantic-link-labs==0.9.10->fabric-data-agent-sdk)\n",
      "  Downloading polib-1.2.0-py2.py3-none-any.whl.metadata (15 kB)\n",
      "Collecting jsonpath_ng (from semantic-link-labs==0.9.10->fabric-data-agent-sdk)\n",
      "  Downloading jsonpath_ng-1.7.0-py3-none-any.whl.metadata (18 kB)\n",
      "Collecting h11>=0.16 (from httpcore==1.*->httpx==0.27.2->fabric-data-agent-sdk)\n",
      "  Downloading h11-0.16.0-py3-none-any.whl.metadata (8.3 kB)\n",
      "Requirement already satisfied: python-dateutil>=2.8.0 in /home/trusted-service-user/cluster-env/trident_env/lib/python3.11/site-packages (from azure-kusto-data>=4.5.0->fabric-data-agent-sdk) (2.8.2)\n",
      "Collecting requests>=2.32.3 (from azure-kusto-data>=4.5.0->fabric-data-agent-sdk)\n",
      "  Downloading requests-2.32.4-py3-none-any.whl.metadata (4.9 kB)\n",
      "Collecting azure-identity<2,>=1.21.0 (from azure-kusto-data>=4.5.0->fabric-data-agent-sdk)\n",
      "  Downloading azure_identity-1.23.0-py3-none-any.whl.metadata (81 kB)\n",
      "\u001b[2K     \u001b[90m━━━━━━━━━━━━━━━━━━━━━━━━━━━━━━━━━━━━━━━━\u001b[0m \u001b[32m81.9/81.9 kB\u001b[0m \u001b[31m5.8 MB/s\u001b[0m eta \u001b[36m0:00:00\u001b[0m\n",
      "\u001b[?25hRequirement already satisfied: msal<2,>=1.9.0 in /home/trusted-service-user/cluster-env/trident_env/lib/python3.11/site-packages (from azure-kusto-data>=4.5.0->fabric-data-agent-sdk) (1.25.0)\n",
      "Collecting ijson~=3.1 (from azure-kusto-data>=4.5.0->fabric-data-agent-sdk)\n",
      "  Downloading ijson-3.4.0-cp311-cp311-manylinux_2_17_x86_64.manylinux2014_x86_64.whl.metadata (21 kB)\n",
      "Collecting azure-core<2,>=1.33.0 (from azure-kusto-data>=4.5.0->fabric-data-agent-sdk)\n",
      "  Downloading azure_core-1.34.0-py3-none-any.whl.metadata (42 kB)\n",
      "\u001b[2K     \u001b[90m━━━━━━━━━━━━━━━━━━━━━━━━━━━━━━━━━━━━━━━━\u001b[0m \u001b[32m42.9/42.9 kB\u001b[0m \u001b[31m9.9 MB/s\u001b[0m eta \u001b[36m0:00:00\u001b[0m\n",
      "\u001b[?25hRequirement already satisfied: distro<2,>=1.7.0 in /home/trusted-service-user/cluster-env/trident_env/lib/python3.11/site-packages (from openai>=1.57.0->fabric-data-agent-sdk) (1.8.0)\n",
      "Collecting jiter<1,>=0.4.0 (from openai>=1.57.0->fabric-data-agent-sdk)\n",
      "  Downloading jiter-0.10.0-cp311-cp311-manylinux_2_17_x86_64.manylinux2014_x86_64.whl.metadata (5.2 kB)\n",
      "Collecting pydantic<3,>=1.9.0 (from openai>=1.57.0->fabric-data-agent-sdk)\n",
      "  Downloading pydantic-2.11.7-py3-none-any.whl.metadata (67 kB)\n",
      "\u001b[2K     \u001b[90m━━━━━━━━━━━━━━━━━━━━━━━━━━━━━━━━━━━━━━━━\u001b[0m \u001b[32m68.0/68.0 kB\u001b[0m \u001b[31m8.0 MB/s\u001b[0m eta \u001b[36m0:00:00\u001b[0m\n",
      "\u001b[?25hRequirement already satisfied: tqdm>4 in /home/trusted-service-user/cluster-env/trident_env/lib/python3.11/site-packages (from openai>=1.57.0->fabric-data-agent-sdk) (4.65.0)\n",
      "Collecting typing-extensions<5,>=4.11 (from openai>=1.57.0->fabric-data-agent-sdk)\n",
      "  Downloading typing_extensions-4.14.0-py3-none-any.whl.metadata (3.0 kB)\n",
      "Requirement already satisfied: clr-loader>=0.2.5 in /home/trusted-service-user/cluster-env/trident_env/lib/python3.11/site-packages (from semantic-link-sempy>=0.8.0->fabric-data-agent-sdk) (0.2.5)\n",
      "Requirement already satisfied: graphviz>=0.20.1 in /home/trusted-service-user/cluster-env/trident_env/lib/python3.11/site-packages (from semantic-link-sempy>=0.8.0->fabric-data-agent-sdk) (0.20.1)\n",
      "Requirement already satisfied: pyarrow>=12.0.1 in /home/trusted-service-user/cluster-env/trident_env/lib/python3.11/site-packages (from semantic-link-sempy>=0.8.0->fabric-data-agent-sdk) (14.0.2)\n",
      "Requirement already satisfied: pythonnet>=3.0.1 in /home/trusted-service-user/cluster-env/trident_env/lib/python3.11/site-packages (from semantic-link-sempy>=0.8.0->fabric-data-agent-sdk) (3.0.1)\n",
      "Requirement already satisfied: scikit-learn>=1.2.2 in /home/trusted-service-user/cluster-env/trident_env/lib/python3.11/site-packages (from semantic-link-sempy>=0.8.0->fabric-data-agent-sdk) (1.2.2)\n",
      "Requirement already satisfied: setuptools>=68.2.2 in /home/trusted-service-user/cluster-env/trident_env/lib/python3.11/site-packages (from semantic-link-sempy>=0.8.0->fabric-data-agent-sdk) (68.2.2)\n",
      "Requirement already satisfied: rich>=13.3.5 in /home/trusted-service-user/cluster-env/trident_env/lib/python3.11/site-packages (from semantic-link-sempy>=0.8.0->fabric-data-agent-sdk) (13.3.5)\n",
      "Requirement already satisfied: regex>=2023.8.8 in /home/trusted-service-user/cluster-env/trident_env/lib/python3.11/site-packages (from semantic-link-sempy>=0.8.0->fabric-data-agent-sdk) (2023.10.3)\n",
      "Requirement already satisfied: pandas>=1.5.3 in /home/trusted-service-user/cluster-env/trident_env/lib/python3.11/site-packages (from semantic-link-sempy>=0.8.0->fabric-data-agent-sdk) (2.1.4)\n",
      "Requirement already satisfied: pyspark>=3.4.1 in /home/trusted-service-user/cluster-env/trident_env/lib/python3.11/site-packages (from semantic-link-sempy>=0.8.0->fabric-data-agent-sdk) (3.5.1.5.4.20240407)\n",
      "Requirement already satisfied: aiohttp>=3.8.6 in /home/trusted-service-user/cluster-env/trident_env/lib/python3.11/site-packages (from semantic-link-sempy>=0.8.0->fabric-data-agent-sdk) (3.9.3)\n",
      "Requirement already satisfied: IPython>=8.14.0 in /home/trusted-service-user/cluster-env/trident_env/lib/python3.11/site-packages (from semantic-link-sempy>=0.8.0->fabric-data-agent-sdk) (8.20.0)\n",
      "Requirement already satisfied: aiosignal>=1.1.2 in /home/trusted-service-user/cluster-env/trident_env/lib/python3.11/site-packages (from aiohttp>=3.8.6->semantic-link-sempy>=0.8.0->fabric-data-agent-sdk) (1.2.0)\n",
      "Requirement already satisfied: attrs>=17.3.0 in /home/trusted-service-user/cluster-env/trident_env/lib/python3.11/site-packages (from aiohttp>=3.8.6->semantic-link-sempy>=0.8.0->fabric-data-agent-sdk) (23.1.0)\n",
      "Requirement already satisfied: frozenlist>=1.1.1 in /home/trusted-service-user/cluster-env/trident_env/lib/python3.11/site-packages (from aiohttp>=3.8.6->semantic-link-sempy>=0.8.0->fabric-data-agent-sdk) (1.4.0)\n",
      "Requirement already satisfied: multidict<7.0,>=4.5 in /home/trusted-service-user/cluster-env/trident_env/lib/python3.11/site-packages (from aiohttp>=3.8.6->semantic-link-sempy>=0.8.0->fabric-data-agent-sdk) (6.0.4)\n",
      "Requirement already satisfied: yarl<2.0,>=1.0 in /home/trusted-service-user/cluster-env/trident_env/lib/python3.11/site-packages (from aiohttp>=3.8.6->semantic-link-sempy>=0.8.0->fabric-data-agent-sdk) (1.9.3)\n",
      "Requirement already satisfied: six>=1.11.0 in /home/trusted-service-user/cluster-env/trident_env/lib/python3.11/site-packages (from azure-core<2,>=1.33.0->azure-kusto-data>=4.5.0->fabric-data-agent-sdk) (1.16.0)\n",
      "Requirement already satisfied: cryptography>=2.5 in /home/trusted-service-user/cluster-env/trident_env/lib/python3.11/site-packages (from azure-identity<2,>=1.21.0->azure-kusto-data>=4.5.0->fabric-data-agent-sdk) (42.0.2)\n",
      "Collecting msal<2,>=1.9.0 (from azure-kusto-data>=4.5.0->fabric-data-agent-sdk)\n",
      "  Downloading msal-1.32.3-py3-none-any.whl.metadata (11 kB)\n",
      "Collecting msal-extensions>=1.2.0 (from azure-identity<2,>=1.21.0->azure-kusto-data>=4.5.0->fabric-data-agent-sdk)\n",
      "  Downloading msal_extensions-1.3.1-py3-none-any.whl.metadata (7.8 kB)\n",
      "Requirement already satisfied: cffi>=1.13 in /home/trusted-service-user/cluster-env/trident_env/lib/python3.11/site-packages (from clr-loader>=0.2.5->semantic-link-sempy>=0.8.0->fabric-data-agent-sdk) (1.16.0)\n",
      "Requirement already satisfied: decorator in /home/trusted-service-user/cluster-env/trident_env/lib/python3.11/site-packages (from IPython>=8.14.0->semantic-link-sempy>=0.8.0->fabric-data-agent-sdk) (5.1.1)\n",
      "Requirement already satisfied: jedi>=0.16 in /home/trusted-service-user/cluster-env/trident_env/lib/python3.11/site-packages (from IPython>=8.14.0->semantic-link-sempy>=0.8.0->fabric-data-agent-sdk) (0.18.1)\n",
      "Requirement already satisfied: matplotlib-inline in /home/trusted-service-user/cluster-env/trident_env/lib/python3.11/site-packages (from IPython>=8.14.0->semantic-link-sempy>=0.8.0->fabric-data-agent-sdk) (0.1.6)\n",
      "Requirement already satisfied: prompt-toolkit<3.1.0,>=3.0.41 in /home/trusted-service-user/cluster-env/trident_env/lib/python3.11/site-packages (from IPython>=8.14.0->semantic-link-sempy>=0.8.0->fabric-data-agent-sdk) (3.0.43)\n",
      "Requirement already satisfied: pygments>=2.4.0 in /home/trusted-service-user/cluster-env/trident_env/lib/python3.11/site-packages (from IPython>=8.14.0->semantic-link-sempy>=0.8.0->fabric-data-agent-sdk) (2.15.1)\n",
      "Requirement already satisfied: stack-data in /home/trusted-service-user/cluster-env/trident_env/lib/python3.11/site-packages (from IPython>=8.14.0->semantic-link-sempy>=0.8.0->fabric-data-agent-sdk) (0.2.0)\n",
      "Requirement already satisfied: traitlets>=5 in /home/trusted-service-user/cluster-env/trident_env/lib/python3.11/site-packages (from IPython>=8.14.0->semantic-link-sempy>=0.8.0->fabric-data-agent-sdk) (5.7.1)\n",
      "Requirement already satisfied: pexpect>4.3 in /home/trusted-service-user/cluster-env/trident_env/lib/python3.11/site-packages (from IPython>=8.14.0->semantic-link-sempy>=0.8.0->fabric-data-agent-sdk) (4.8.0)\n",
      "Requirement already satisfied: PyJWT<3,>=1.0.0 in /home/trusted-service-user/cluster-env/trident_env/lib/python3.11/site-packages (from PyJWT[crypto]<3,>=1.0.0->msal<2,>=1.9.0->azure-kusto-data>=4.5.0->fabric-data-agent-sdk) (2.4.0)\n",
      "Requirement already satisfied: numpy<2,>=1.23.2 in /home/trusted-service-user/cluster-env/trident_env/lib/python3.11/site-packages (from pandas>=1.5.3->semantic-link-sempy>=0.8.0->fabric-data-agent-sdk) (1.26.4)\n",
      "Requirement already satisfied: pytz>=2020.1 in /home/trusted-service-user/cluster-env/trident_env/lib/python3.11/site-packages (from pandas>=1.5.3->semantic-link-sempy>=0.8.0->fabric-data-agent-sdk) (2023.3.post1)\n",
      "Requirement already satisfied: tzdata>=2022.1 in /home/trusted-service-user/cluster-env/trident_env/lib/python3.11/site-packages (from pandas>=1.5.3->semantic-link-sempy>=0.8.0->fabric-data-agent-sdk) (2023.3)\n",
      "Collecting annotated-types>=0.6.0 (from pydantic<3,>=1.9.0->openai>=1.57.0->fabric-data-agent-sdk)\n",
      "  Downloading annotated_types-0.7.0-py3-none-any.whl.metadata (15 kB)\n",
      "Collecting pydantic-core==2.33.2 (from pydantic<3,>=1.9.0->openai>=1.57.0->fabric-data-agent-sdk)\n",
      "  Downloading pydantic_core-2.33.2-cp311-cp311-manylinux_2_17_x86_64.manylinux2014_x86_64.whl.metadata (6.8 kB)\n",
      "Collecting typing-inspection>=0.4.0 (from pydantic<3,>=1.9.0->openai>=1.57.0->fabric-data-agent-sdk)\n",
      "  Downloading typing_inspection-0.4.1-py3-none-any.whl.metadata (2.6 kB)\n",
      "Requirement already satisfied: py4j==0.10.9.7 in /home/trusted-service-user/cluster-env/trident_env/lib/python3.11/site-packages (from pyspark>=3.4.1->semantic-link-sempy>=0.8.0->fabric-data-agent-sdk) (0.10.9.7)\n",
      "Requirement already satisfied: charset_normalizer<4,>=2 in /home/trusted-service-user/cluster-env/trident_env/lib/python3.11/site-packages (from requests>=2.32.3->azure-kusto-data>=4.5.0->fabric-data-agent-sdk) (2.0.4)\n",
      "Requirement already satisfied: urllib3<3,>=1.21.1 in /home/trusted-service-user/cluster-env/trident_env/lib/python3.11/site-packages (from requests>=2.32.3->azure-kusto-data>=4.5.0->fabric-data-agent-sdk) (2.1.0)\n",
      "Requirement already satisfied: markdown-it-py<3.0.0,>=2.2.0 in /home/trusted-service-user/cluster-env/trident_env/lib/python3.11/site-packages (from rich>=13.3.5->semantic-link-sempy>=0.8.0->fabric-data-agent-sdk) (2.2.0)\n",
      "Requirement already satisfied: scipy>=1.3.2 in /home/trusted-service-user/cluster-env/trident_env/lib/python3.11/site-packages (from scikit-learn>=1.2.2->semantic-link-sempy>=0.8.0->fabric-data-agent-sdk) (1.11.4)\n",
      "Requirement already satisfied: joblib>=1.1.1 in /home/trusted-service-user/cluster-env/trident_env/lib/python3.11/site-packages (from scikit-learn>=1.2.2->semantic-link-sempy>=0.8.0->fabric-data-agent-sdk) (1.2.0)\n",
      "Requirement already satisfied: threadpoolctl>=2.0.0 in /home/trusted-service-user/cluster-env/trident_env/lib/python3.11/site-packages (from scikit-learn>=1.2.2->semantic-link-sempy>=0.8.0->fabric-data-agent-sdk) (2.2.0)\n",
      "Requirement already satisfied: ply in /home/trusted-service-user/cluster-env/trident_env/lib/python3.11/site-packages (from jsonpath_ng->semantic-link-labs==0.9.10->fabric-data-agent-sdk) (3.11)\n",
      "Requirement already satisfied: ipywidgets>=7.0.0 in /home/trusted-service-user/cluster-env/trident_env/lib/python3.11/site-packages (from powerbiclient->semantic-link-labs==0.9.10->fabric-data-agent-sdk) (8.1.2)\n",
      "Requirement already satisfied: jupyter-ui-poll>=0.1.2 in /home/trusted-service-user/cluster-env/trident_env/lib/python3.11/site-packages (from powerbiclient->semantic-link-labs==0.9.10->fabric-data-agent-sdk) (1.0.0)\n",
      "Requirement already satisfied: pycparser in /home/trusted-service-user/cluster-env/trident_env/lib/python3.11/site-packages (from cffi>=1.13->clr-loader>=0.2.5->semantic-link-sempy>=0.8.0->fabric-data-agent-sdk) (2.21)\n",
      "Requirement already satisfied: comm>=0.1.3 in /home/trusted-service-user/cluster-env/trident_env/lib/python3.11/site-packages (from ipywidgets>=7.0.0->powerbiclient->semantic-link-labs==0.9.10->fabric-data-agent-sdk) (0.2.1)\n",
      "Requirement already satisfied: widgetsnbextension~=4.0.10 in /home/trusted-service-user/cluster-env/trident_env/lib/python3.11/site-packages (from ipywidgets>=7.0.0->powerbiclient->semantic-link-labs==0.9.10->fabric-data-agent-sdk) (4.0.10)\n",
      "Requirement already satisfied: jupyterlab-widgets~=3.0.10 in /home/trusted-service-user/cluster-env/trident_env/lib/python3.11/site-packages (from ipywidgets>=7.0.0->powerbiclient->semantic-link-labs==0.9.10->fabric-data-agent-sdk) (3.0.10)\n",
      "Requirement already satisfied: parso<0.9.0,>=0.8.0 in /home/trusted-service-user/cluster-env/trident_env/lib/python3.11/site-packages (from jedi>=0.16->IPython>=8.14.0->semantic-link-sempy>=0.8.0->fabric-data-agent-sdk) (0.8.3)\n",
      "Requirement already satisfied: mdurl~=0.1 in /home/trusted-service-user/cluster-env/trident_env/lib/python3.11/site-packages (from markdown-it-py<3.0.0,>=2.2.0->rich>=13.3.5->semantic-link-sempy>=0.8.0->fabric-data-agent-sdk) (0.1.0)\n",
      "Requirement already satisfied: ptyprocess>=0.5 in /home/trusted-service-user/cluster-env/trident_env/lib/python3.11/site-packages (from pexpect>4.3->IPython>=8.14.0->semantic-link-sempy>=0.8.0->fabric-data-agent-sdk) (0.7.0)\n",
      "Requirement already satisfied: wcwidth in /home/trusted-service-user/cluster-env/trident_env/lib/python3.11/site-packages (from prompt-toolkit<3.1.0,>=3.0.41->IPython>=8.14.0->semantic-link-sempy>=0.8.0->fabric-data-agent-sdk) (0.2.5)\n",
      "Requirement already satisfied: executing in /home/trusted-service-user/cluster-env/trident_env/lib/python3.11/site-packages (from stack-data->IPython>=8.14.0->semantic-link-sempy>=0.8.0->fabric-data-agent-sdk) (0.8.3)\n",
      "Requirement already satisfied: asttokens in /home/trusted-service-user/cluster-env/trident_env/lib/python3.11/site-packages (from stack-data->IPython>=8.14.0->semantic-link-sempy>=0.8.0->fabric-data-agent-sdk) (2.0.5)\n",
      "Requirement already satisfied: pure-eval in /home/trusted-service-user/cluster-env/trident_env/lib/python3.11/site-packages (from stack-data->IPython>=8.14.0->semantic-link-sempy>=0.8.0->fabric-data-agent-sdk) (0.2.2)\n",
      "Downloading fabric_data_agent_sdk-0.1.8a0-py3-none-any.whl (35 kB)\n",
      "Downloading httpx-0.27.2-py3-none-any.whl (76 kB)\n",
      "\u001b[2K   \u001b[90m━━━━━━━━━━━━━━━━━━━━━━━━━━━━━━━━━━━━━━━━\u001b[0m \u001b[32m76.4/76.4 kB\u001b[0m \u001b[31m8.5 MB/s\u001b[0m eta \u001b[36m0:00:00\u001b[0m\n",
      "\u001b[?25hDownloading markdown2-2.5.3-py3-none-any.whl (48 kB)\n",
      "\u001b[2K   \u001b[90m━━━━━━━━━━━━━━━━━━━━━━━━━━━━━━━━━━━━━━━━\u001b[0m \u001b[32m48.5/48.5 kB\u001b[0m \u001b[31m11.8 MB/s\u001b[0m eta \u001b[36m0:00:00\u001b[0m\n",
      "\u001b[?25hDownloading semantic_link_labs-0.9.10-py3-none-any.whl (699 kB)\n",
      "\u001b[2K   \u001b[90m━━━━━━━━━━━━━━━━━━━━━━━━━━━━━━━━━━━━━━━━\u001b[0m \u001b[32m699.3/699.3 kB\u001b[0m \u001b[31m14.9 MB/s\u001b[0m eta \u001b[36m0:00:00\u001b[0ma \u001b[36m0:00:01\u001b[0m\n",
      "\u001b[?25hDownloading httpcore-1.0.9-py3-none-any.whl (78 kB)\n",
      "\u001b[2K   \u001b[90m━━━━━━━━━━━━━━━━━━━━━━━━━━━━━━━━━━━━━━━━\u001b[0m \u001b[32m78.8/78.8 kB\u001b[0m \u001b[31m26.2 MB/s\u001b[0m eta \u001b[36m0:00:00\u001b[0m\n",
      "\u001b[?25hDownloading azure_kusto_data-5.0.4-py2.py3-none-any.whl (52 kB)\n",
      "\u001b[2K   \u001b[90m━━━━━━━━━━━━━━━━━━━━━━━━━━━━━━━━━━━━━━━━\u001b[0m \u001b[32m52.4/52.4 kB\u001b[0m \u001b[31m19.1 MB/s\u001b[0m eta \u001b[36m0:00:00\u001b[0m\n",
      "\u001b[?25hDownloading openai-1.93.0-py3-none-any.whl (755 kB)\n",
      "\u001b[2K   \u001b[90m━━━━━━━━━━━━━━━━━━━━━━━━━━━━━━━━━━━━━━━━\u001b[0m \u001b[32m755.0/755.0 kB\u001b[0m \u001b[31m22.7 MB/s\u001b[0m eta \u001b[36m0:00:00\u001b[0m\n",
      "\u001b[?25hDownloading azure_core-1.34.0-py3-none-any.whl (207 kB)\n",
      "\u001b[2K   \u001b[90m━━━━━━━━━━━━━━━━━━━━━━━━━━━━━━━━━━━━━━━━\u001b[0m \u001b[32m207.4/207.4 kB\u001b[0m \u001b[31m25.4 MB/s\u001b[0m eta \u001b[36m0:00:00\u001b[0m\n",
      "\u001b[?25hDownloading azure_identity-1.23.0-py3-none-any.whl (186 kB)\n",
      "\u001b[2K   \u001b[90m━━━━━━━━━━━━━━━━━━━━━━━━━━━━━━━━━━━━━━━━\u001b[0m \u001b[32m186.1/186.1 kB\u001b[0m \u001b[31m26.0 MB/s\u001b[0m eta \u001b[36m0:00:00\u001b[0m\n",
      "\u001b[?25hDownloading ijson-3.4.0-cp311-cp311-manylinux_2_17_x86_64.manylinux2014_x86_64.whl (134 kB)\n",
      "\u001b[2K   \u001b[90m━━━━━━━━━━━━━━━━━━━━━━━━━━━━━━━━━━━━━━━━\u001b[0m \u001b[32m135.0/135.0 kB\u001b[0m \u001b[31m30.0 MB/s\u001b[0m eta \u001b[36m0:00:00\u001b[0m\n",
      "\u001b[?25hDownloading jiter-0.10.0-cp311-cp311-manylinux_2_17_x86_64.manylinux2014_x86_64.whl (352 kB)\n",
      "\u001b[2K   \u001b[90m━━━━━━━━━━━━━━━━━━━━━━━━━━━━━━━━━━━━━━━━\u001b[0m \u001b[32m352.2/352.2 kB\u001b[0m \u001b[31m28.7 MB/s\u001b[0m eta \u001b[36m0:00:00\u001b[0m\n",
      "\u001b[?25hDownloading msal-1.32.3-py3-none-any.whl (115 kB)\n",
      "\u001b[2K   \u001b[90m━━━━━━━━━━━━━━━━━━━━━━━━━━━━━━━━━━━━━━━━\u001b[0m \u001b[32m115.4/115.4 kB\u001b[0m \u001b[31m36.3 MB/s\u001b[0m eta \u001b[36m0:00:00\u001b[0m\n",
      "\u001b[?25hDownloading pydantic-2.11.7-py3-none-any.whl (444 kB)\n",
      "\u001b[2K   \u001b[90m━━━━━━━━━━━━━━━━━━━━━━━━━━━━━━━━━━━━━━━━\u001b[0m \u001b[32m444.8/444.8 kB\u001b[0m \u001b[31m32.6 MB/s\u001b[0m eta \u001b[36m0:00:00\u001b[0m\n",
      "\u001b[?25hDownloading pydantic_core-2.33.2-cp311-cp311-manylinux_2_17_x86_64.manylinux2014_x86_64.whl (2.0 MB)\n",
      "\u001b[2K   \u001b[90m━━━━━━━━━━━━━━━━━━━━━━━━━━━━━━━━━━━━━━━━\u001b[0m \u001b[32m2.0/2.0 MB\u001b[0m \u001b[31m43.4 MB/s\u001b[0m eta \u001b[36m0:00:00\u001b[0ma \u001b[36m0:00:01\u001b[0m\n",
      "\u001b[?25hDownloading requests-2.32.4-py3-none-any.whl (64 kB)\n",
      "\u001b[2K   \u001b[90m━━━━━━━━━━━━━━━━━━━━━━━━━━━━━━━━━━━━━━━━\u001b[0m \u001b[32m64.8/64.8 kB\u001b[0m \u001b[31m22.7 MB/s\u001b[0m eta \u001b[36m0:00:00\u001b[0m\n",
      "\u001b[?25hDownloading typing_extensions-4.14.0-py3-none-any.whl (43 kB)\n",
      "\u001b[2K   \u001b[90m━━━━━━━━━━━━━━━━━━━━━━━━━━━━━━━━━━━━━━━━\u001b[0m \u001b[32m43.8/43.8 kB\u001b[0m \u001b[31m9.1 MB/s\u001b[0m eta \u001b[36m0:00:00\u001b[0m\n",
      "\u001b[?25hDownloading anytree-2.13.0-py3-none-any.whl (45 kB)\n",
      "\u001b[2K   \u001b[90m━━━━━━━━━━━━━━━━━━━━━━━━━━━━━━━━━━━━━━━━\u001b[0m \u001b[32m45.1/45.1 kB\u001b[0m \u001b[31m14.7 MB/s\u001b[0m eta \u001b[36m0:00:00\u001b[0m\n",
      "\u001b[?25hDownloading jsonpath_ng-1.7.0-py3-none-any.whl (30 kB)\n",
      "Downloading polib-1.2.0-py2.py3-none-any.whl (20 kB)\n",
      "Downloading annotated_types-0.7.0-py3-none-any.whl (13 kB)\n",
      "Downloading h11-0.16.0-py3-none-any.whl (37 kB)\n",
      "Downloading msal_extensions-1.3.1-py3-none-any.whl (20 kB)\n",
      "Downloading typing_inspection-0.4.1-py3-none-any.whl (14 kB)\n",
      "Installing collected packages: polib, typing-extensions, requests, markdown2, jsonpath_ng, jiter, ijson, h11, anytree, annotated-types, typing-inspection, pydantic-core, httpcore, azure-core, pydantic, httpx, openai, msal, msal-extensions, semantic-link-labs, azure-identity, azure-kusto-data, fabric-data-agent-sdk\n",
      "  Attempting uninstall: typing-extensions\n",
      "    Found existing installation: typing_extensions 4.9.0\n",
      "    Not uninstalling typing-extensions at /home/trusted-service-user/cluster-env/trident_env/lib/python3.11/site-packages, outside environment /nfs4/pyenv-55862462-1fdb-4fc2-8294-b86a461e27c9\n",
      "    Can't uninstall 'typing_extensions'. No files were found to uninstall.\n",
      "  Attempting uninstall: requests\n",
      "    Found existing installation: requests 2.31.0\n",
      "    Not uninstalling requests at /home/trusted-service-user/cluster-env/trident_env/lib/python3.11/site-packages, outside environment /nfs4/pyenv-55862462-1fdb-4fc2-8294-b86a461e27c9\n",
      "    Can't uninstall 'requests'. No files were found to uninstall.\n",
      "  Attempting uninstall: azure-core\n",
      "    Found existing installation: azure-core 1.30.2\n",
      "    Not uninstalling azure-core at /home/trusted-service-user/cluster-env/trident_env/lib/python3.11/site-packages, outside environment /nfs4/pyenv-55862462-1fdb-4fc2-8294-b86a461e27c9\n",
      "    Can't uninstall 'azure-core'. No files were found to uninstall.\n",
      "  Attempting uninstall: msal\n",
      "    Found existing installation: msal 1.25.0\n",
      "    Not uninstalling msal at /home/trusted-service-user/cluster-env/trident_env/lib/python3.11/site-packages, outside environment /nfs4/pyenv-55862462-1fdb-4fc2-8294-b86a461e27c9\n",
      "    Can't uninstall 'msal'. No files were found to uninstall.\n",
      "  Attempting uninstall: msal-extensions\n",
      "    Found existing installation: msal-extensions 1.0.0\n",
      "    Not uninstalling msal-extensions at /home/trusted-service-user/cluster-env/trident_env/lib/python3.11/site-packages, outside environment /nfs4/pyenv-55862462-1fdb-4fc2-8294-b86a461e27c9\n",
      "    Can't uninstall 'msal-extensions'. No files were found to uninstall.\n",
      "  Attempting uninstall: azure-identity\n",
      "    Found existing installation: azure-identity 1.15.0\n",
      "    Not uninstalling azure-identity at /home/trusted-service-user/cluster-env/trident_env/lib/python3.11/site-packages, outside environment /nfs4/pyenv-55862462-1fdb-4fc2-8294-b86a461e27c9\n",
      "    Can't uninstall 'azure-identity'. No files were found to uninstall.\n",
      "\u001b[31mERROR: pip's dependency resolver does not currently take into account all the packages that are installed. This behaviour is the source of the following dependency conflicts.\n",
      "nni 3.0 requires filelock<3.12, but you have filelock 3.13.1 which is incompatible.\n",
      "datasets 2.19.1 requires fsspec[http]<=2024.3.1,>=2023.1.0, but you have fsspec 2024.6.1 which is incompatible.\u001b[0m\u001b[31m\n",
      "\u001b[0mSuccessfully installed annotated-types-0.7.0 anytree-2.13.0 azure-core-1.34.0 azure-identity-1.23.0 azure-kusto-data-5.0.4 fabric-data-agent-sdk-0.1.8a0 h11-0.16.0 httpcore-1.0.9 httpx-0.27.2 ijson-3.4.0 jiter-0.10.0 jsonpath_ng-1.7.0 markdown2-2.5.3 msal-1.32.3 msal-extensions-1.3.1 openai-1.93.0 polib-1.2.0 pydantic-2.11.7 pydantic-core-2.33.2 requests-2.32.4 semantic-link-labs-0.9.10 typing-extensions-4.14.0 typing-inspection-0.4.1\n",
      "\n",
      "\u001b[1m[\u001b[0m\u001b[34;49mnotice\u001b[0m\u001b[1;39;49m]\u001b[0m\u001b[39;49m A new release of pip is available: \u001b[0m\u001b[31;49m24.0\u001b[0m\u001b[39;49m -> \u001b[0m\u001b[32;49m25.1.1\u001b[0m\n",
      "\u001b[1m[\u001b[0m\u001b[34;49mnotice\u001b[0m\u001b[1;39;49m]\u001b[0m\u001b[39;49m To update, run: \u001b[0m\u001b[32;49mpython -m pip install --upgrade pip\u001b[0m\n",
      "Note: you may need to restart the kernel to use updated packages.\n",
      "Warning: PySpark kernel has been restarted to use updated packages.\n",
      "\n"
     ]
    }
   ],
   "source": [
    "%pip install fabric-data-agent-sdk"
   ]
  },
  {
   "cell_type": "code",
   "execution_count": 2,
   "id": "3b0c59e1-6a82-4073-878e-787c1fdea526",
   "metadata": {},
   "outputs": [
    {
     "data": {
      "application/vnd.livy.statement-meta+json": {
       "execution_finish_time": "2025-06-30T21:13:15.7316127Z",
       "execution_start_time": "2025-06-30T21:13:13.7863077Z",
       "livy_statement_state": "available",
       "normalized_state": "finished",
       "parent_msg_id": "8883172e-e05e-4f83-81b0-56818c1b832c",
       "queued_time": "2025-06-30T21:13:08.1391199Z",
       "session_id": "07ef0fc8-ad82-4442-8d95-1e2d6fc49627",
       "session_start_time": null,
       "spark_pool": null,
       "state": "finished",
       "statement_id": 9,
       "statement_ids": [
        9
       ]
      },
      "text/plain": [
       "StatementMeta(, 07ef0fc8-ad82-4442-8d95-1e2d6fc49627, 9, Finished, Available, Finished)"
      ]
     },
     "metadata": {},
     "output_type": "display_data"
    }
   ],
   "source": [
    "from fabric.dataagent.client import (\n",
    "    FabricDataAgentManagement,\n",
    "    create_data_agent,\n",
    "    delete_data_agent,\n",
    ")"
   ]
  },
  {
   "cell_type": "markdown",
   "id": "6b84bbca-d90e-42b9-976f-beac3f7c051e",
   "metadata": {
    "microsoft": {
     "language": "python",
     "language_group": "synapse_pyspark"
    },
    "nteract": {
     "transient": {
      "deleting": false
     }
    }
   },
   "source": [
    "First, let's create a data agent"
   ]
  },
  {
   "cell_type": "code",
   "execution_count": 3,
   "id": "943dcea4-fe25-44f3-9adf-6f073dfbc8cd",
   "metadata": {},
   "outputs": [
    {
     "data": {
      "application/vnd.livy.statement-meta+json": {
       "execution_finish_time": "2025-06-30T21:13:52.5982178Z",
       "execution_start_time": "2025-06-30T21:13:51.9683367Z",
       "livy_statement_state": "available",
       "normalized_state": "finished",
       "parent_msg_id": "bb6f2d15-bd71-400a-9ac4-da90bfe425ec",
       "queued_time": "2025-06-30T21:13:51.9668091Z",
       "session_id": "07ef0fc8-ad82-4442-8d95-1e2d6fc49627",
       "session_start_time": null,
       "spark_pool": null,
       "state": "finished",
       "statement_id": 10,
       "statement_ids": [
        10
       ]
      },
      "text/plain": [
       "StatementMeta(, 07ef0fc8-ad82-4442-8d95-1e2d6fc49627, 10, Finished, Available, Finished)"
      ]
     },
     "metadata": {},
     "output_type": "display_data"
    }
   ],
   "source": [
    "data_agent_name = \"data_agent_automation_sample\""
   ]
  },
  {
   "cell_type": "code",
   "execution_count": 4,
   "id": "3bc3376e-3ae1-4e14-870f-c8c72092b5cf",
   "metadata": {},
   "outputs": [
    {
     "data": {
      "application/vnd.livy.statement-meta+json": {
       "execution_finish_time": "2025-06-30T21:14:34.1739627Z",
       "execution_start_time": "2025-06-30T21:14:07.6136767Z",
       "livy_statement_state": "available",
       "normalized_state": "finished",
       "parent_msg_id": "1b6ec206-648b-4050-bfa3-2d98c97c621a",
       "queued_time": "2025-06-30T21:14:07.6123842Z",
       "session_id": "07ef0fc8-ad82-4442-8d95-1e2d6fc49627",
       "session_start_time": null,
       "spark_pool": null,
       "state": "finished",
       "statement_id": 11,
       "statement_ids": [
        11
       ]
      },
      "text/plain": [
       "StatementMeta(, 07ef0fc8-ad82-4442-8d95-1e2d6fc49627, 11, Finished, Available, Finished)"
      ]
     },
     "metadata": {},
     "output_type": "display_data"
    }
   ],
   "source": [
    "# create DataAgent\n",
    "data_agent = create_data_agent(data_agent_name)"
   ]
  },
  {
   "cell_type": "markdown",
   "id": "63f77435-3eb9-4269-9468-9b473d184830",
   "metadata": {
    "nteract": {
     "transient": {
      "deleting": false
     }
    }
   },
   "source": [
    "We can check the configuration of a data agent as shown below"
   ]
  },
  {
   "cell_type": "code",
   "execution_count": 5,
   "id": "8aff896e-2f89-4256-bc42-6e68a09c25f3",
   "metadata": {},
   "outputs": [
    {
     "data": {
      "application/vnd.livy.statement-meta+json": {
       "execution_finish_time": "2025-06-30T21:14:39.9697075Z",
       "execution_start_time": "2025-06-30T21:14:38.6610837Z",
       "livy_statement_state": "available",
       "normalized_state": "finished",
       "parent_msg_id": "40e2b9f8-f7b4-4595-91ea-31dcceb9009c",
       "queued_time": "2025-06-30T21:14:38.6598755Z",
       "session_id": "07ef0fc8-ad82-4442-8d95-1e2d6fc49627",
       "session_start_time": null,
       "spark_pool": null,
       "state": "finished",
       "statement_id": 12,
       "statement_ids": [
        12
       ]
      },
      "text/plain": [
       "StatementMeta(, 07ef0fc8-ad82-4442-8d95-1e2d6fc49627, 12, Finished, Available, Finished)"
      ]
     },
     "metadata": {},
     "output_type": "display_data"
    },
    {
     "data": {
      "text/plain": [
       "DataAgentConfiguration(instructions=None, user_description=None)"
      ]
     },
     "execution_count": 16,
     "metadata": {},
     "output_type": "execute_result"
    }
   ],
   "source": [
    "# by default the instructions and description for the data agent will be empty, we will update them later in the notebook\n",
    "data_agent.get_configuration()"
   ]
  },
  {
   "cell_type": "markdown",
   "id": "d2104235-fd0f-49f5-a924-c573f164969a",
   "metadata": {
    "microsoft": {
     "language": "python",
     "language_group": "synapse_pyspark"
    },
    "nteract": {
     "transient": {
      "deleting": false
     }
    }
   },
   "source": [
    "We can also initialize a client for an existing data agent"
   ]
  },
  {
   "cell_type": "code",
   "execution_count": 6,
   "id": "c99404c3-4d9c-43ac-bfea-d4e1c7232c7c",
   "metadata": {},
   "outputs": [
    {
     "data": {
      "application/vnd.livy.statement-meta+json": {
       "execution_finish_time": "2025-06-30T21:14:46.5880178Z",
       "execution_start_time": "2025-06-30T21:14:45.3691808Z",
       "livy_statement_state": "available",
       "normalized_state": "finished",
       "parent_msg_id": "8ca970e0-a9fc-4e4d-a1f1-b8d7642a38ba",
       "queued_time": "2025-06-30T21:14:45.3677954Z",
       "session_id": "07ef0fc8-ad82-4442-8d95-1e2d6fc49627",
       "session_start_time": null,
       "spark_pool": null,
       "state": "finished",
       "statement_id": 13,
       "statement_ids": [
        13
       ]
      },
      "text/plain": [
       "StatementMeta(, 07ef0fc8-ad82-4442-8d95-1e2d6fc49627, 13, Finished, Available, Finished)"
      ]
     },
     "metadata": {},
     "output_type": "display_data"
    }
   ],
   "source": [
    "data_agent = FabricDataAgentManagement(data_agent_name)"
   ]
  },
  {
   "cell_type": "markdown",
   "id": "ae13a68f-298f-4d83-b0b0-afaa7608cc0d",
   "metadata": {
    "microsoft": {
     "language": "python",
     "language_group": "synapse_pyspark"
    },
    "nteract": {
     "transient": {
      "deleting": false
     }
    }
   },
   "source": [
    "Update data agent by adding AI instructions"
   ]
  },
  {
   "cell_type": "code",
   "execution_count": null,
   "id": "fab27f57-aae1-47f4-93af-331cacee50ef",
   "metadata": {},
   "outputs": [
    {
     "data": {
      "application/vnd.livy.statement-meta+json": {
       "execution_finish_time": "2025-06-30T21:14:52.3745306Z",
       "execution_start_time": "2025-06-30T21:14:50.3942423Z",
       "livy_statement_state": "available",
       "normalized_state": "finished",
       "parent_msg_id": "d760b4d2-071e-4842-bb99-bcae6306c955",
       "queued_time": "2025-06-30T21:14:50.3928342Z",
       "session_id": "07ef0fc8-ad82-4442-8d95-1e2d6fc49627",
       "session_start_time": null,
       "spark_pool": null,
       "state": "finished",
       "statement_id": 14,
       "statement_ids": [
        14
       ]
      },
      "text/plain": [
       "StatementMeta(, 07ef0fc8-ad82-4442-8d95-1e2d6fc49627, 14, Finished, Available, Finished)"
      ]
     },
     "metadata": {},
     "output_type": "display_data"
    },
    {
     "data": {
      "text/plain": [
       "DataAgentConfiguration(instructions='You are a helpful assistant, help users with their questions', user_description=None)"
      ]
     },
     "execution_count": 22,
     "metadata": {},
     "output_type": "execute_result"
    }
   ],
   "source": [
    "data_agent.update_configuration(\n",
    "    instructions=\"You are a helpful assistant, help users with their questions\",\n",
    ")\n",
    "data_agent.get_configuration()"
   ]
  },
  {
   "cell_type": "markdown",
   "id": "e5e429ff-7eb7-42ca-850b-cf104620a810",
   "metadata": {
    "nteract": {
     "transient": {
      "deleting": false
     }
    }
   },
   "source": [
    "We will now add a datasource to our data agent. In this sample we will add a Lakehouse as a datasource, however we can also add Semantic Model or Kusto\n",
    "\n",
    "We will work with a sample Lakehouse called AdventureWorks for the remainder of the notebook, you can also create the same Lakehouse by following the instructions here: https://learn.microsoft.com/en-us/fabric/data-science/ai-skill-scenario#create-a-lakehouse-with-adventureworksdw\n",
    "\n",
    "If you name your Lakehouse `AdventureWorks` the rest of the notebook should run without requiring any changes. If you would like to use your own Lakehouse, make sure to change the `lakehouse_name` and other relevant variables throughout the notebook."
   ]
  },
  {
   "cell_type": "code",
   "execution_count": null,
   "id": "20d2323d-11c2-467d-bb04-c9d55c5c7ad5",
   "metadata": {},
   "outputs": [
    {
     "data": {
      "application/vnd.livy.statement-meta+json": {
       "execution_finish_time": "2025-06-30T21:15:32.1911795Z",
       "execution_start_time": "2025-06-30T21:15:17.9786626Z",
       "livy_statement_state": "available",
       "normalized_state": "finished",
       "parent_msg_id": "5fecad5f-e206-4525-8c94-e9a27542a629",
       "queued_time": "2025-06-30T21:15:17.9774605Z",
       "session_id": "07ef0fc8-ad82-4442-8d95-1e2d6fc49627",
       "session_start_time": null,
       "spark_pool": null,
       "state": "finished",
       "statement_id": 16,
       "statement_ids": [
        16
       ]
      },
      "text/plain": [
       "StatementMeta(, 07ef0fc8-ad82-4442-8d95-1e2d6fc49627, 16, Finished, Available, Finished)"
      ]
     },
     "metadata": {},
     "output_type": "display_data"
    },
    {
     "data": {
      "text/plain": [
       "Datasource(11564ef5-8f2a-4bc7-ad9e-004ab3c3c80b)"
      ]
     },
     "execution_count": 28,
     "metadata": {},
     "output_type": "execute_result"
    }
   ],
   "source": [
    "# add a lakehouse\n",
    "lakehouse_name = \"AdventureWorks\"\n",
    "# datasource type could be: lakehouse, kqldatabase, warehouse or semanticmodel\n",
    "data_agent.add_datasource(lakehouse_name, type=\"lakehouse\")"
   ]
  },
  {
   "cell_type": "code",
   "execution_count": 10,
   "id": "0cdc9aa6-c2c5-431d-8d69-c722621b6d13",
   "metadata": {},
   "outputs": [
    {
     "data": {
      "application/vnd.livy.statement-meta+json": {
       "execution_finish_time": "2025-06-30T21:15:41.2226624Z",
       "execution_start_time": "2025-06-30T21:15:40.0557552Z",
       "livy_statement_state": "available",
       "normalized_state": "finished",
       "parent_msg_id": "1b0372ce-c161-4673-b2d4-7421712cd717",
       "queued_time": "2025-06-30T21:15:40.0545271Z",
       "session_id": "07ef0fc8-ad82-4442-8d95-1e2d6fc49627",
       "session_start_time": null,
       "spark_pool": null,
       "state": "finished",
       "statement_id": 17,
       "statement_ids": [
        17
       ]
      },
      "text/plain": [
       "StatementMeta(, 07ef0fc8-ad82-4442-8d95-1e2d6fc49627, 17, Finished, Available, Finished)"
      ]
     },
     "metadata": {},
     "output_type": "display_data"
    },
    {
     "data": {
      "text/plain": [
       "[Datasource(11564ef5-8f2a-4bc7-ad9e-004ab3c3c80b)]"
      ]
     },
     "execution_count": 31,
     "metadata": {},
     "output_type": "execute_result"
    }
   ],
   "source": [
    "# we can check which datasources are added to the data agent\n",
    "data_agent.get_datasources()"
   ]
  },
  {
   "cell_type": "markdown",
   "id": "6ac14c28-ef06-472d-a48e-c2a60a85b71c",
   "metadata": {
    "nteract": {
     "transient": {
      "deleting": false
     }
    }
   },
   "source": [
    "We can publish the data agent"
   ]
  },
  {
   "cell_type": "code",
   "execution_count": null,
   "id": "1de6f8d8-ce42-43f7-89c3-c5aae8fba4d6",
   "metadata": {},
   "outputs": [
    {
     "data": {
      "application/vnd.livy.statement-meta+json": {
       "execution_finish_time": "2025-06-30T21:15:48.4159282Z",
       "execution_start_time": "2025-06-30T21:15:45.7529581Z",
       "livy_statement_state": "available",
       "normalized_state": "finished",
       "parent_msg_id": "fe586742-58ba-4cee-a434-b44888c0e279",
       "queued_time": "2025-06-30T21:15:45.7517161Z",
       "session_id": "07ef0fc8-ad82-4442-8d95-1e2d6fc49627",
       "session_start_time": null,
       "spark_pool": null,
       "state": "finished",
       "statement_id": 18,
       "statement_ids": [
        18
       ]
      },
      "text/plain": [
       "StatementMeta(, 07ef0fc8-ad82-4442-8d95-1e2d6fc49627, 18, Finished, Available, Finished)"
      ]
     },
     "metadata": {},
     "output_type": "display_data"
    }
   ],
   "source": [
    "publish_description = \"Adventure Works sales and product data for business analysis and reporting.\"\n",
    "data_agent.publish(publish_description)"
   ]
  },
  {
   "cell_type": "markdown",
   "id": "b94cdf57-0ee1-4cb7-99ac-96e32ea79561",
   "metadata": {
    "nteract": {
     "transient": {
      "deleting": false
     }
    }
   },
   "source": [
    "Now we will work with the datasource we just added"
   ]
  },
  {
   "cell_type": "code",
   "execution_count": 12,
   "id": "db1adc20-b465-4f1e-b55a-905cf75a8c67",
   "metadata": {},
   "outputs": [
    {
     "data": {
      "application/vnd.livy.statement-meta+json": {
       "execution_finish_time": "2025-06-30T21:15:54.14737Z",
       "execution_start_time": "2025-06-30T21:15:52.9731413Z",
       "livy_statement_state": "available",
       "normalized_state": "finished",
       "parent_msg_id": "58487f64-252e-476c-916a-570a05dac23a",
       "queued_time": "2025-06-30T21:15:52.9719276Z",
       "session_id": "07ef0fc8-ad82-4442-8d95-1e2d6fc49627",
       "session_start_time": null,
       "spark_pool": null,
       "state": "finished",
       "statement_id": 19,
       "statement_ids": [
        19
       ]
      },
      "text/plain": [
       "StatementMeta(, 07ef0fc8-ad82-4442-8d95-1e2d6fc49627, 19, Finished, Available, Finished)"
      ]
     },
     "metadata": {},
     "output_type": "display_data"
    }
   ],
   "source": [
    "datasource = data_agent.get_datasources()[0]"
   ]
  },
  {
   "cell_type": "markdown",
   "id": "f45bdba7-10f4-49da-8431-32665824c306",
   "metadata": {
    "nteract": {
     "transient": {
      "deleting": false
     }
    }
   },
   "source": [
    "We can take a look at the tables and the columns in the datasource. \n",
    "\n",
    "- Note that by default, the datasource is initialized with no table selected. A `*` next to the table indicates selected table.\n",
    "- You can select tables using `datasource.select` to pick the right tables or all tables related to the context of the question.\n",
    "- Selecting a table will also select all columns in the table."
   ]
  },
  {
   "cell_type": "code",
   "execution_count": 13,
   "id": "0e00a06b-8aef-46e2-965d-167308bf3a5d",
   "metadata": {},
   "outputs": [
    {
     "data": {
      "application/vnd.livy.statement-meta+json": {
       "execution_finish_time": "2025-06-30T21:16:03.4545445Z",
       "execution_start_time": "2025-06-30T21:16:02.8663713Z",
       "livy_statement_state": "available",
       "normalized_state": "finished",
       "parent_msg_id": "8c298697-8410-41a7-941f-66c53db73c0e",
       "queued_time": "2025-06-30T21:16:02.8647479Z",
       "session_id": "07ef0fc8-ad82-4442-8d95-1e2d6fc49627",
       "session_start_time": null,
       "spark_pool": null,
       "state": "finished",
       "statement_id": 20,
       "statement_ids": [
        20
       ]
      },
      "text/plain": [
       "StatementMeta(, 07ef0fc8-ad82-4442-8d95-1e2d6fc49627, 20, Finished, Available, Finished)"
      ]
     },
     "metadata": {},
     "output_type": "display_data"
    },
    {
     "name": "stdout",
     "output_type": "stream",
     "text": [
      " dbo\n",
      "  | dimaccount\n",
      "  |  | AccountKey\n",
      "  |  | ParentAccountKey\n",
      "  |  | AccountCodeAlternateKey\n",
      "  |  | ParentAccountCodeAlternateKey\n",
      "  |  | AccountDescription\n",
      "  |  | AccountType\n",
      "  |  | Operator\n",
      "  |  | CustomMembers\n",
      "  |  | ValueType\n",
      "  | factinternetsales\n",
      "  |  | ProductKey\n",
      "  |  | OrderDateKey\n",
      "  |  | DueDateKey\n",
      "  |  | ShipDateKey\n",
      "  |  | CustomerKey\n",
      "  |  | PromotionKey\n",
      "  |  | CurrencyKey\n",
      "  |  | SalesTerritoryKey\n",
      "  |  | SalesOrderNumber\n",
      "  |  | SalesOrderLineNumber\n",
      "  |  | RevisionNumber\n",
      "  |  | OrderQuantity\n",
      "  |  | UnitPrice\n",
      "  |  | ExtendedAmount\n",
      "  |  | UnitPriceDiscountPct\n",
      "  |  | DiscountAmount\n",
      "  |  | ProductStandardCost\n",
      "  |  | TotalProductCost\n",
      "  |  | SalesAmount\n",
      "  |  | TaxAmt\n",
      "  |  | Freight\n",
      "  |  | OrderDate\n",
      "  |  | DueDate\n",
      "  |  | ShipDate\n",
      "  | dimemployee\n",
      "  |  | EmployeeKey\n",
      "  |  | ParentEmployeeKey\n",
      "  |  | EmployeeNationalIDAlternateKey\n",
      "  |  | SalesTerritoryKey\n",
      "  |  | FirstName\n",
      "  |  | LastName\n",
      "  |  | MiddleName\n",
      "  |  | NameStyle\n",
      "  |  | Title\n",
      "  |  | HireDate\n",
      "  |  | BirthDate\n",
      "  |  | LoginID\n",
      "  |  | EmailAddress\n",
      "  |  | Phone\n",
      "  |  | MaritalStatus\n",
      "  |  | EmergencyContactName\n",
      "  |  | EmergencyContactPhone\n",
      "  |  | SalariedFlag\n",
      "  |  | Gender\n",
      "  |  | PayFrequency\n",
      "  |  | BaseRate\n",
      "  |  | VacationHours\n",
      "  |  | SickLeaveHours\n",
      "  |  | CurrentFlag\n",
      "  |  | SalesPersonFlag\n",
      "  |  | DepartmentName\n",
      "  |  | StartDate\n",
      "  |  | EndDate\n",
      "  |  | Status\n",
      "  | dimsalesterritory\n",
      "  |  | SalesTerritoryKey\n",
      "  |  | SalesTerritoryAlternateKey\n",
      "  |  | SalesTerritoryRegion\n",
      "  |  | SalesTerritoryCountry\n",
      "  |  | SalesTerritoryGroup\n",
      "  | dimreseller\n",
      "  |  | ResellerKey\n",
      "  |  | GeographyKey\n",
      "  |  | ResellerAlternateKey\n",
      "  |  | Phone\n",
      "  |  | BusinessType\n",
      "  |  | ResellerName\n",
      "  |  | NumberEmployees\n",
      "  |  | OrderFrequency\n",
      "  |  | OrderMonth\n",
      "  |  | FirstOrderYear\n",
      "  |  | LastOrderYear\n",
      "  |  | ProductLine\n",
      "  |  | AddressLine1\n",
      "  |  | AddressLine2\n",
      "  |  | AnnualSales\n",
      "  |  | BankName\n",
      "  |  | MinPaymentType\n",
      "  |  | MinPaymentAmount\n",
      "  |  | AnnualRevenue\n",
      "  |  | YearOpened\n",
      "  | factinternetsalesreason\n",
      "  |  | SalesOrderNumber\n",
      "  |  | SalesOrderLineNumber\n",
      "  |  | SalesReasonKey\n",
      "  | newfactcurrencyrate\n",
      "  |  | AverageRate\n",
      "  |  | CurrencyID\n",
      "  |  | CurrencyDate\n",
      "  |  | EndOfDayRate\n",
      "  |  | CurrencyKey\n",
      "  |  | DateKey\n",
      "  | dimproductcategory\n",
      "  |  | ProductCategoryKey\n",
      "  |  | ProductCategoryAlternateKey\n",
      "  |  | EnglishProductCategoryName\n",
      "  |  | SpanishProductCategoryName\n",
      "  |  | FrenchProductCategoryName\n",
      "  | factsurveyresponse\n",
      "  |  | SurveyResponseKey\n",
      "  |  | DateKey\n",
      "  |  | CustomerKey\n",
      "  |  | ProductCategoryKey\n",
      "  |  | EnglishProductCategoryName\n",
      "  |  | ProductSubcategoryKey\n",
      "  |  | EnglishProductSubcategoryName\n",
      "  |  | Date\n",
      "  | factcurrencyrate\n",
      "  |  | CurrencyKey\n",
      "  |  | DateKey\n",
      "  |  | AverageRate\n",
      "  |  | EndOfDayRate\n",
      "  |  | Date\n",
      "  | dimgeography\n",
      "  |  | GeographyKey\n",
      "  |  | City\n",
      "  |  | StateProvinceCode\n",
      "  |  | StateProvinceName\n",
      "  |  | CountryRegionCode\n",
      "  |  | EnglishCountryRegionName\n",
      "  |  | SpanishCountryRegionName\n",
      "  |  | FrenchCountryRegionName\n",
      "  |  | PostalCode\n",
      "  |  | SalesTerritoryKey\n",
      "  |  | IpAddressLocator\n",
      "  | dimscenario\n",
      "  |  | ScenarioKey\n",
      "  |  | ScenarioName\n",
      "  | dimsalesreason\n",
      "  |  | SalesReasonKey\n",
      "  |  | SalesReasonAlternateKey\n",
      "  |  | SalesReasonName\n",
      "  |  | SalesReasonReasonType\n",
      "  | dimcurrency\n",
      "  |  | CurrencyKey\n",
      "  |  | CurrencyAlternateKey\n",
      "  |  | CurrencyName\n",
      "  | factresellersales\n",
      "  |  | ProductKey\n",
      "  |  | OrderDateKey\n",
      "  |  | DueDateKey\n",
      "  |  | ShipDateKey\n",
      "  |  | ResellerKey\n",
      "  |  | EmployeeKey\n",
      "  |  | PromotionKey\n",
      "  |  | CurrencyKey\n",
      "  |  | SalesTerritoryKey\n",
      "  |  | SalesOrderNumber\n",
      "  |  | SalesOrderLineNumber\n",
      "  |  | RevisionNumber\n",
      "  |  | OrderQuantity\n",
      "  |  | UnitPrice\n",
      "  |  | ExtendedAmount\n",
      "  |  | UnitPriceDiscountPct\n",
      "  |  | DiscountAmount\n",
      "  |  | ProductStandardCost\n",
      "  |  | TotalProductCost\n",
      "  |  | SalesAmount\n",
      "  |  | TaxAmt\n",
      "  |  | Freight\n",
      "  |  | CarrierTrackingNumber\n",
      "  |  | CustomerPONumber\n",
      "  |  | OrderDate\n",
      "  |  | DueDate\n",
      "  |  | ShipDate\n",
      "  | dimorganization\n",
      "  |  | OrganizationKey\n",
      "  |  | ParentOrganizationKey\n",
      "  |  | PercentageOfOwnership\n",
      "  |  | OrganizationName\n",
      "  |  | CurrencyKey\n",
      "  | factproductinventory\n",
      "  |  | ProductKey\n",
      "  |  | DateKey\n",
      "  |  | MovementDate\n",
      "  |  | UnitCost\n",
      "  |  | UnitsIn\n",
      "  |  | UnitsOut\n",
      "  |  | UnitsBalance\n",
      "  | factcallcenter\n",
      "  |  | FactCallCenterID\n",
      "  |  | DateKey\n",
      "  |  | WageType\n",
      "  |  | Shift\n",
      "  |  | LevelOneOperators\n",
      "  |  | LevelTwoOperators\n",
      "  |  | TotalOperators\n",
      "  |  | Calls\n",
      "  |  | AutomaticResponses\n",
      "  |  | Orders\n",
      "  |  | IssuesRaised\n",
      "  |  | AverageTimePerIssue\n",
      "  |  | ServiceGrade\n",
      "  |  | Date\n",
      "  | dimdate\n",
      "  |  | DateKey\n",
      "  |  | FullDateAlternateKey\n",
      "  |  | DayNumberOfWeek\n",
      "  |  | EnglishDayNameOfWeek\n",
      "  |  | SpanishDayNameOfWeek\n",
      "  |  | FrenchDayNameOfWeek\n",
      "  |  | DayNumberOfMonth\n",
      "  |  | DayNumberOfYear\n",
      "  |  | WeekNumberOfYear\n",
      "  |  | EnglishMonthName\n",
      "  |  | SpanishMonthName\n",
      "  |  | FrenchMonthName\n",
      "  |  | MonthNumberOfYear\n",
      "  |  | CalendarQuarter\n",
      "  |  | CalendarYear\n",
      "  |  | CalendarSemester\n",
      "  |  | FiscalQuarter\n",
      "  |  | FiscalYear\n",
      "  |  | FiscalSemester\n",
      "  | prospectivebuyer\n",
      "  |  | ProspectiveBuyerKey\n",
      "  |  | ProspectAlternateKey\n",
      "  |  | FirstName\n",
      "  |  | MiddleName\n",
      "  |  | LastName\n",
      "  |  | BirthDate\n",
      "  |  | MaritalStatus\n",
      "  |  | Gender\n",
      "  |  | EmailAddress\n",
      "  |  | YearlyIncome\n",
      "  |  | TotalChildren\n",
      "  |  | NumberChildrenAtHome\n",
      "  |  | Education\n",
      "  |  | Occupation\n",
      "  |  | HouseOwnerFlag\n",
      "  |  | NumberCarsOwned\n",
      "  |  | AddressLine1\n",
      "  |  | AddressLine2\n",
      "  |  | City\n",
      "  |  | StateProvinceCode\n",
      "  |  | PostalCode\n",
      "  |  | Phone\n",
      "  |  | Salutation\n",
      "  |  | Unknown\n",
      "  | dimcustomer\n",
      "  |  | CustomerKey\n",
      "  |  | GeographyKey\n",
      "  |  | CustomerAlternateKey\n",
      "  |  | Title\n",
      "  |  | FirstName\n",
      "  |  | MiddleName\n",
      "  |  | LastName\n",
      "  |  | NameStyle\n",
      "  |  | BirthDate\n",
      "  |  | MaritalStatus\n",
      "  |  | Suffix\n",
      "  |  | Gender\n",
      "  |  | EmailAddress\n",
      "  |  | YearlyIncome\n",
      "  |  | TotalChildren\n",
      "  |  | NumberChildrenAtHome\n",
      "  |  | EnglishEducation\n",
      "  |  | SpanishEducation\n",
      "  |  | FrenchEducation\n",
      "  |  | EnglishOccupation\n",
      "  |  | SpanishOccupation\n",
      "  |  | FrenchOccupation\n",
      "  |  | HouseOwnerFlag\n",
      "  |  | NumberCarsOwned\n",
      "  |  | AddressLine1\n",
      "  |  | AddressLine2\n",
      "  |  | Phone\n",
      "  |  | DateFirstPurchase\n",
      "  |  | CommuteDistance\n",
      "  | dimproduct\n",
      "  |  | ProductKey\n",
      "  |  | ProductAlternateKey\n",
      "  |  | ProductSubcategoryKey\n",
      "  |  | WeightUnitMeasureCode\n",
      "  |  | SizeUnitMeasureCode\n",
      "  |  | EnglishProductName\n",
      "  |  | SpanishProductName\n",
      "  |  | FrenchProductName\n",
      "  |  | StandardCost\n",
      "  |  | FinishedGoodsFlag\n",
      "  |  | Color\n",
      "  |  | SafetyStockLevel\n",
      "  |  | ReorderPoint\n",
      "  |  | ListPrice\n",
      "  |  | Size\n",
      "  |  | SizeRange\n",
      "  |  | Weight\n",
      "  |  | DaysToManufacture\n",
      "  |  | ProductLine\n",
      "  |  | DealerPrice\n",
      "  |  | Class\n",
      "  |  | Style\n",
      "  |  | ModelName\n",
      "  |  | EnglishDescription\n",
      "  |  | FrenchDescription\n",
      "  |  | ChineseDescription\n",
      "  |  | ArabicDescription\n",
      "  |  | HebrewDescription\n",
      "  |  | ThaiDescription\n",
      "  |  | GermanDescription\n",
      "  |  | JapaneseDescription\n",
      "  |  | TurkishDescription\n",
      "  |  | StartDate\n",
      "  |  | EndDate\n",
      "  |  | Status\n",
      "  | factadditionalinternationalproductdescription\n",
      "  |  | ProductKey\n",
      "  |  | CultureName\n",
      "  |  | ProductDescription\n",
      "  | factfinance\n",
      "  |  | FinanceKey\n",
      "  |  | DateKey\n",
      "  |  | OrganizationKey\n",
      "  |  | DepartmentGroupKey\n",
      "  |  | ScenarioKey\n",
      "  |  | AccountKey\n",
      "  |  | Amount\n",
      "  |  | Date\n",
      "  | factsalesquota\n",
      "  |  | SalesQuotaKey\n",
      "  |  | EmployeeKey\n",
      "  |  | DateKey\n",
      "  |  | CalendarYear\n",
      "  |  | CalendarQuarter\n",
      "  |  | SalesAmountQuota\n",
      "  |  | Date\n",
      "  | dimproductsubcategory\n",
      "  |  | ProductSubcategoryKey\n",
      "  |  | ProductSubcategoryAlternateKey\n",
      "  |  | EnglishProductSubcategoryName\n",
      "  |  | SpanishProductSubcategoryName\n",
      "  |  | FrenchProductSubcategoryName\n",
      "  |  | ProductCategoryKey\n",
      "  | dimdepartmentgroup\n",
      "  |  | DepartmentGroupKey\n",
      "  |  | ParentDepartmentGroupKey\n",
      "  |  | DepartmentGroupName\n",
      "  | dimpromotion\n",
      "  |  | PromotionKey\n",
      "  |  | PromotionAlternateKey\n",
      "  |  | EnglishPromotionName\n",
      "  |  | SpanishPromotionName\n",
      "  |  | FrenchPromotionName\n",
      "  |  | DiscountPct\n",
      "  |  | EnglishPromotionType\n",
      "  |  | SpanishPromotionType\n",
      "  |  | FrenchPromotionType\n",
      "  |  | EnglishPromotionCategory\n",
      "  |  | SpanishPromotionCategory\n",
      "  |  | FrenchPromotionCategory\n",
      "  |  | StartDate\n",
      "  |  | EndDate\n",
      "  |  | MinQty\n",
      "  |  | MaxQty\n"
     ]
    },
    {
     "data": {
      "text/plain": [
       "'AdventureWorks'"
      ]
     },
     "execution_count": 40,
     "metadata": {},
     "output_type": "execute_result"
    }
   ],
   "source": [
    "datasource.pretty_print()"
   ]
  },
  {
   "cell_type": "markdown",
   "id": "d9747eee-fffe-44cf-a851-604be94d35a2",
   "metadata": {
    "nteract": {
     "transient": {
      "deleting": false
     }
    }
   },
   "source": [
    "We can add/remove table to consider/not consider them in query generation"
   ]
  },
  {
   "cell_type": "code",
   "execution_count": 14,
   "id": "6887c2f3-a217-4e54-9ded-e5c1e5a4117e",
   "metadata": {},
   "outputs": [
    {
     "data": {
      "application/vnd.livy.statement-meta+json": {
       "execution_finish_time": "2025-06-30T21:16:20.3221929Z",
       "execution_start_time": "2025-06-30T21:16:17.5756382Z",
       "livy_statement_state": "available",
       "normalized_state": "finished",
       "parent_msg_id": "f3e32e7f-ad9d-4a5f-8bbf-9f7e31febf44",
       "queued_time": "2025-06-30T21:16:17.5744301Z",
       "session_id": "07ef0fc8-ad82-4442-8d95-1e2d6fc49627",
       "session_start_time": null,
       "spark_pool": null,
       "state": "finished",
       "statement_id": 21,
       "statement_ids": [
        21
       ]
      },
      "text/plain": [
       "StatementMeta(, 07ef0fc8-ad82-4442-8d95-1e2d6fc49627, 21, Finished, Available, Finished)"
      ]
     },
     "metadata": {},
     "output_type": "display_data"
    }
   ],
   "source": [
    "datasource.select(\"dbo\", \"dimcurrency\")\n",
    "datasource.select(\"dbo\", \"dimemployee\")"
   ]
  },
  {
   "cell_type": "markdown",
   "id": "d31f5faa-c497-4e64-b1e8-b51d564cc454",
   "metadata": {
    "nteract": {
     "transient": {
      "deleting": false
     }
    }
   },
   "source": [
    "You will see that the `*` will appear next to the `dimcurrency` and `dimemployee` tables, as they are now selected."
   ]
  },
  {
   "cell_type": "code",
   "execution_count": 15,
   "id": "6028c91f-f659-49ed-b0b9-ca330a5a2d69",
   "metadata": {},
   "outputs": [
    {
     "data": {
      "application/vnd.livy.statement-meta+json": {
       "execution_finish_time": "2025-06-30T21:16:26.2881785Z",
       "execution_start_time": "2025-06-30T21:16:25.6037179Z",
       "livy_statement_state": "available",
       "normalized_state": "finished",
       "parent_msg_id": "4cd0f6ab-932f-4c51-9949-3b5892cfc1e2",
       "queued_time": "2025-06-30T21:16:25.6024824Z",
       "session_id": "07ef0fc8-ad82-4442-8d95-1e2d6fc49627",
       "session_start_time": null,
       "spark_pool": null,
       "state": "finished",
       "statement_id": 22,
       "statement_ids": [
        22
       ]
      },
      "text/plain": [
       "StatementMeta(, 07ef0fc8-ad82-4442-8d95-1e2d6fc49627, 22, Finished, Available, Finished)"
      ]
     },
     "metadata": {},
     "output_type": "display_data"
    },
    {
     "name": "stdout",
     "output_type": "stream",
     "text": [
      " dbo\n",
      "  | dimaccount\n",
      "  |  | AccountKey\n",
      "  |  | ParentAccountKey\n",
      "  |  | AccountCodeAlternateKey\n",
      "  |  | ParentAccountCodeAlternateKey\n",
      "  |  | AccountDescription\n",
      "  |  | AccountType\n",
      "  |  | Operator\n",
      "  |  | CustomMembers\n",
      "  |  | ValueType\n",
      "  | factinternetsales\n",
      "  |  | ProductKey\n",
      "  |  | OrderDateKey\n",
      "  |  | DueDateKey\n",
      "  |  | ShipDateKey\n",
      "  |  | CustomerKey\n",
      "  |  | PromotionKey\n",
      "  |  | CurrencyKey\n",
      "  |  | SalesTerritoryKey\n",
      "  |  | SalesOrderNumber\n",
      "  |  | SalesOrderLineNumber\n",
      "  |  | RevisionNumber\n",
      "  |  | OrderQuantity\n",
      "  |  | UnitPrice\n",
      "  |  | ExtendedAmount\n",
      "  |  | UnitPriceDiscountPct\n",
      "  |  | DiscountAmount\n",
      "  |  | ProductStandardCost\n",
      "  |  | TotalProductCost\n",
      "  |  | SalesAmount\n",
      "  |  | TaxAmt\n",
      "  |  | Freight\n",
      "  |  | OrderDate\n",
      "  |  | DueDate\n",
      "  |  | ShipDate\n",
      "  | dimemployee *\n",
      "  |  | EmployeeKey\n",
      "  |  | ParentEmployeeKey\n",
      "  |  | EmployeeNationalIDAlternateKey\n",
      "  |  | SalesTerritoryKey\n",
      "  |  | FirstName\n",
      "  |  | LastName\n",
      "  |  | MiddleName\n",
      "  |  | NameStyle\n",
      "  |  | Title\n",
      "  |  | HireDate\n",
      "  |  | BirthDate\n",
      "  |  | LoginID\n",
      "  |  | EmailAddress\n",
      "  |  | Phone\n",
      "  |  | MaritalStatus\n",
      "  |  | EmergencyContactName\n",
      "  |  | EmergencyContactPhone\n",
      "  |  | SalariedFlag\n",
      "  |  | Gender\n",
      "  |  | PayFrequency\n",
      "  |  | BaseRate\n",
      "  |  | VacationHours\n",
      "  |  | SickLeaveHours\n",
      "  |  | CurrentFlag\n",
      "  |  | SalesPersonFlag\n",
      "  |  | DepartmentName\n",
      "  |  | StartDate\n",
      "  |  | EndDate\n",
      "  |  | Status\n",
      "  | dimsalesterritory\n",
      "  |  | SalesTerritoryKey\n",
      "  |  | SalesTerritoryAlternateKey\n",
      "  |  | SalesTerritoryRegion\n",
      "  |  | SalesTerritoryCountry\n",
      "  |  | SalesTerritoryGroup\n",
      "  | dimreseller\n",
      "  |  | ResellerKey\n",
      "  |  | GeographyKey\n",
      "  |  | ResellerAlternateKey\n",
      "  |  | Phone\n",
      "  |  | BusinessType\n",
      "  |  | ResellerName\n",
      "  |  | NumberEmployees\n",
      "  |  | OrderFrequency\n",
      "  |  | OrderMonth\n",
      "  |  | FirstOrderYear\n",
      "  |  | LastOrderYear\n",
      "  |  | ProductLine\n",
      "  |  | AddressLine1\n",
      "  |  | AddressLine2\n",
      "  |  | AnnualSales\n",
      "  |  | BankName\n",
      "  |  | MinPaymentType\n",
      "  |  | MinPaymentAmount\n",
      "  |  | AnnualRevenue\n",
      "  |  | YearOpened\n",
      "  | factinternetsalesreason\n",
      "  |  | SalesOrderNumber\n",
      "  |  | SalesOrderLineNumber\n",
      "  |  | SalesReasonKey\n",
      "  | newfactcurrencyrate\n",
      "  |  | AverageRate\n",
      "  |  | CurrencyID\n",
      "  |  | CurrencyDate\n",
      "  |  | EndOfDayRate\n",
      "  |  | CurrencyKey\n",
      "  |  | DateKey\n",
      "  | dimproductcategory\n",
      "  |  | ProductCategoryKey\n",
      "  |  | ProductCategoryAlternateKey\n",
      "  |  | EnglishProductCategoryName\n",
      "  |  | SpanishProductCategoryName\n",
      "  |  | FrenchProductCategoryName\n",
      "  | factsurveyresponse\n",
      "  |  | SurveyResponseKey\n",
      "  |  | DateKey\n",
      "  |  | CustomerKey\n",
      "  |  | ProductCategoryKey\n",
      "  |  | EnglishProductCategoryName\n",
      "  |  | ProductSubcategoryKey\n",
      "  |  | EnglishProductSubcategoryName\n",
      "  |  | Date\n",
      "  | factcurrencyrate\n",
      "  |  | CurrencyKey\n",
      "  |  | DateKey\n",
      "  |  | AverageRate\n",
      "  |  | EndOfDayRate\n",
      "  |  | Date\n",
      "  | dimgeography\n",
      "  |  | GeographyKey\n",
      "  |  | City\n",
      "  |  | StateProvinceCode\n",
      "  |  | StateProvinceName\n",
      "  |  | CountryRegionCode\n",
      "  |  | EnglishCountryRegionName\n",
      "  |  | SpanishCountryRegionName\n",
      "  |  | FrenchCountryRegionName\n",
      "  |  | PostalCode\n",
      "  |  | SalesTerritoryKey\n",
      "  |  | IpAddressLocator\n",
      "  | dimscenario\n",
      "  |  | ScenarioKey\n",
      "  |  | ScenarioName\n",
      "  | dimsalesreason\n",
      "  |  | SalesReasonKey\n",
      "  |  | SalesReasonAlternateKey\n",
      "  |  | SalesReasonName\n",
      "  |  | SalesReasonReasonType\n",
      "  | dimcurrency *\n",
      "  |  | CurrencyKey\n",
      "  |  | CurrencyAlternateKey\n",
      "  |  | CurrencyName\n",
      "  | factresellersales\n",
      "  |  | ProductKey\n",
      "  |  | OrderDateKey\n",
      "  |  | DueDateKey\n",
      "  |  | ShipDateKey\n",
      "  |  | ResellerKey\n",
      "  |  | EmployeeKey\n",
      "  |  | PromotionKey\n",
      "  |  | CurrencyKey\n",
      "  |  | SalesTerritoryKey\n",
      "  |  | SalesOrderNumber\n",
      "  |  | SalesOrderLineNumber\n",
      "  |  | RevisionNumber\n",
      "  |  | OrderQuantity\n",
      "  |  | UnitPrice\n",
      "  |  | ExtendedAmount\n",
      "  |  | UnitPriceDiscountPct\n",
      "  |  | DiscountAmount\n",
      "  |  | ProductStandardCost\n",
      "  |  | TotalProductCost\n",
      "  |  | SalesAmount\n",
      "  |  | TaxAmt\n",
      "  |  | Freight\n",
      "  |  | CarrierTrackingNumber\n",
      "  |  | CustomerPONumber\n",
      "  |  | OrderDate\n",
      "  |  | DueDate\n",
      "  |  | ShipDate\n",
      "  | dimorganization\n",
      "  |  | OrganizationKey\n",
      "  |  | ParentOrganizationKey\n",
      "  |  | PercentageOfOwnership\n",
      "  |  | OrganizationName\n",
      "  |  | CurrencyKey\n",
      "  | factproductinventory\n",
      "  |  | ProductKey\n",
      "  |  | DateKey\n",
      "  |  | MovementDate\n",
      "  |  | UnitCost\n",
      "  |  | UnitsIn\n",
      "  |  | UnitsOut\n",
      "  |  | UnitsBalance\n",
      "  | factcallcenter\n",
      "  |  | FactCallCenterID\n",
      "  |  | DateKey\n",
      "  |  | WageType\n",
      "  |  | Shift\n",
      "  |  | LevelOneOperators\n",
      "  |  | LevelTwoOperators\n",
      "  |  | TotalOperators\n",
      "  |  | Calls\n",
      "  |  | AutomaticResponses\n",
      "  |  | Orders\n",
      "  |  | IssuesRaised\n",
      "  |  | AverageTimePerIssue\n",
      "  |  | ServiceGrade\n",
      "  |  | Date\n",
      "  | dimdate\n",
      "  |  | DateKey\n",
      "  |  | FullDateAlternateKey\n",
      "  |  | DayNumberOfWeek\n",
      "  |  | EnglishDayNameOfWeek\n",
      "  |  | SpanishDayNameOfWeek\n",
      "  |  | FrenchDayNameOfWeek\n",
      "  |  | DayNumberOfMonth\n",
      "  |  | DayNumberOfYear\n",
      "  |  | WeekNumberOfYear\n",
      "  |  | EnglishMonthName\n",
      "  |  | SpanishMonthName\n",
      "  |  | FrenchMonthName\n",
      "  |  | MonthNumberOfYear\n",
      "  |  | CalendarQuarter\n",
      "  |  | CalendarYear\n",
      "  |  | CalendarSemester\n",
      "  |  | FiscalQuarter\n",
      "  |  | FiscalYear\n",
      "  |  | FiscalSemester\n",
      "  | prospectivebuyer\n",
      "  |  | ProspectiveBuyerKey\n",
      "  |  | ProspectAlternateKey\n",
      "  |  | FirstName\n",
      "  |  | MiddleName\n",
      "  |  | LastName\n",
      "  |  | BirthDate\n",
      "  |  | MaritalStatus\n",
      "  |  | Gender\n",
      "  |  | EmailAddress\n",
      "  |  | YearlyIncome\n",
      "  |  | TotalChildren\n",
      "  |  | NumberChildrenAtHome\n",
      "  |  | Education\n",
      "  |  | Occupation\n",
      "  |  | HouseOwnerFlag\n",
      "  |  | NumberCarsOwned\n",
      "  |  | AddressLine1\n",
      "  |  | AddressLine2\n",
      "  |  | City\n",
      "  |  | StateProvinceCode\n",
      "  |  | PostalCode\n",
      "  |  | Phone\n",
      "  |  | Salutation\n",
      "  |  | Unknown\n",
      "  | dimcustomer\n",
      "  |  | CustomerKey\n",
      "  |  | GeographyKey\n",
      "  |  | CustomerAlternateKey\n",
      "  |  | Title\n",
      "  |  | FirstName\n",
      "  |  | MiddleName\n",
      "  |  | LastName\n",
      "  |  | NameStyle\n",
      "  |  | BirthDate\n",
      "  |  | MaritalStatus\n",
      "  |  | Suffix\n",
      "  |  | Gender\n",
      "  |  | EmailAddress\n",
      "  |  | YearlyIncome\n",
      "  |  | TotalChildren\n",
      "  |  | NumberChildrenAtHome\n",
      "  |  | EnglishEducation\n",
      "  |  | SpanishEducation\n",
      "  |  | FrenchEducation\n",
      "  |  | EnglishOccupation\n",
      "  |  | SpanishOccupation\n",
      "  |  | FrenchOccupation\n",
      "  |  | HouseOwnerFlag\n",
      "  |  | NumberCarsOwned\n",
      "  |  | AddressLine1\n",
      "  |  | AddressLine2\n",
      "  |  | Phone\n",
      "  |  | DateFirstPurchase\n",
      "  |  | CommuteDistance\n",
      "  | dimproduct\n",
      "  |  | ProductKey\n",
      "  |  | ProductAlternateKey\n",
      "  |  | ProductSubcategoryKey\n",
      "  |  | WeightUnitMeasureCode\n",
      "  |  | SizeUnitMeasureCode\n",
      "  |  | EnglishProductName\n",
      "  |  | SpanishProductName\n",
      "  |  | FrenchProductName\n",
      "  |  | StandardCost\n",
      "  |  | FinishedGoodsFlag\n",
      "  |  | Color\n",
      "  |  | SafetyStockLevel\n",
      "  |  | ReorderPoint\n",
      "  |  | ListPrice\n",
      "  |  | Size\n",
      "  |  | SizeRange\n",
      "  |  | Weight\n",
      "  |  | DaysToManufacture\n",
      "  |  | ProductLine\n",
      "  |  | DealerPrice\n",
      "  |  | Class\n",
      "  |  | Style\n",
      "  |  | ModelName\n",
      "  |  | EnglishDescription\n",
      "  |  | FrenchDescription\n",
      "  |  | ChineseDescription\n",
      "  |  | ArabicDescription\n",
      "  |  | HebrewDescription\n",
      "  |  | ThaiDescription\n",
      "  |  | GermanDescription\n",
      "  |  | JapaneseDescription\n",
      "  |  | TurkishDescription\n",
      "  |  | StartDate\n",
      "  |  | EndDate\n",
      "  |  | Status\n",
      "  | factadditionalinternationalproductdescription\n",
      "  |  | ProductKey\n",
      "  |  | CultureName\n",
      "  |  | ProductDescription\n",
      "  | factfinance\n",
      "  |  | FinanceKey\n",
      "  |  | DateKey\n",
      "  |  | OrganizationKey\n",
      "  |  | DepartmentGroupKey\n",
      "  |  | ScenarioKey\n",
      "  |  | AccountKey\n",
      "  |  | Amount\n",
      "  |  | Date\n",
      "  | factsalesquota\n",
      "  |  | SalesQuotaKey\n",
      "  |  | EmployeeKey\n",
      "  |  | DateKey\n",
      "  |  | CalendarYear\n",
      "  |  | CalendarQuarter\n",
      "  |  | SalesAmountQuota\n",
      "  |  | Date\n",
      "  | dimproductsubcategory\n",
      "  |  | ProductSubcategoryKey\n",
      "  |  | ProductSubcategoryAlternateKey\n",
      "  |  | EnglishProductSubcategoryName\n",
      "  |  | SpanishProductSubcategoryName\n",
      "  |  | FrenchProductSubcategoryName\n",
      "  |  | ProductCategoryKey\n",
      "  | dimdepartmentgroup\n",
      "  |  | DepartmentGroupKey\n",
      "  |  | ParentDepartmentGroupKey\n",
      "  |  | DepartmentGroupName\n",
      "  | dimpromotion\n",
      "  |  | PromotionKey\n",
      "  |  | PromotionAlternateKey\n",
      "  |  | EnglishPromotionName\n",
      "  |  | SpanishPromotionName\n",
      "  |  | FrenchPromotionName\n",
      "  |  | DiscountPct\n",
      "  |  | EnglishPromotionType\n",
      "  |  | SpanishPromotionType\n",
      "  |  | FrenchPromotionType\n",
      "  |  | EnglishPromotionCategory\n",
      "  |  | SpanishPromotionCategory\n",
      "  |  | FrenchPromotionCategory\n",
      "  |  | StartDate\n",
      "  |  | EndDate\n",
      "  |  | MinQty\n",
      "  |  | MaxQty\n"
     ]
    },
    {
     "data": {
      "text/plain": [
       "'AdventureWorks'"
      ]
     },
     "execution_count": 46,
     "metadata": {},
     "output_type": "execute_result"
    }
   ],
   "source": [
    "datasource.pretty_print()"
   ]
  },
  {
   "cell_type": "markdown",
   "id": "5f9bdad7-461e-4b3f-b6f3-6df2c09519cc",
   "metadata": {
    "nteract": {
     "transient": {
      "deleting": false
     }
    }
   },
   "source": [
    "Now let's unselect the `dimcurrency` table."
   ]
  },
  {
   "cell_type": "code",
   "execution_count": 16,
   "id": "4785680c-baed-4a28-ad2f-3d542da0b840",
   "metadata": {},
   "outputs": [
    {
     "data": {
      "application/vnd.livy.statement-meta+json": {
       "execution_finish_time": "2025-06-30T21:17:06.2439841Z",
       "execution_start_time": "2025-06-30T21:17:04.397831Z",
       "livy_statement_state": "available",
       "normalized_state": "finished",
       "parent_msg_id": "01b2f630-6766-4b8f-be08-b942a416ee40",
       "queued_time": "2025-06-30T21:17:04.396578Z",
       "session_id": "07ef0fc8-ad82-4442-8d95-1e2d6fc49627",
       "session_start_time": null,
       "spark_pool": null,
       "state": "finished",
       "statement_id": 23,
       "statement_ids": [
        23
       ]
      },
      "text/plain": [
       "StatementMeta(, 07ef0fc8-ad82-4442-8d95-1e2d6fc49627, 23, Finished, Available, Finished)"
      ]
     },
     "metadata": {},
     "output_type": "display_data"
    }
   ],
   "source": [
    "datasource.unselect(\"dbo\", \"dimcurrency\")"
   ]
  },
  {
   "cell_type": "markdown",
   "id": "b944f961-86c5-434b-9c76-3b383b0d56b1",
   "metadata": {
    "nteract": {
     "transient": {
      "deleting": false
     }
    }
   },
   "source": [
    "You will notice from the missing `*` next to the columns under the dimcurrency table, now that we unselected the table, which means the data agent is instructed to not use the unselected table when generating an answer."
   ]
  },
  {
   "cell_type": "code",
   "execution_count": 17,
   "id": "eb45a0a5-e134-4b2b-a577-50d80ca8f24c",
   "metadata": {},
   "outputs": [
    {
     "data": {
      "application/vnd.livy.statement-meta+json": {
       "execution_finish_time": "2025-06-30T21:17:11.2260899Z",
       "execution_start_time": "2025-06-30T21:17:10.6932372Z",
       "livy_statement_state": "available",
       "normalized_state": "finished",
       "parent_msg_id": "dc91251b-b1ef-4506-a6cd-6cb98cc6c357",
       "queued_time": "2025-06-30T21:17:10.6920139Z",
       "session_id": "07ef0fc8-ad82-4442-8d95-1e2d6fc49627",
       "session_start_time": null,
       "spark_pool": null,
       "state": "finished",
       "statement_id": 24,
       "statement_ids": [
        24
       ]
      },
      "text/plain": [
       "StatementMeta(, 07ef0fc8-ad82-4442-8d95-1e2d6fc49627, 24, Finished, Available, Finished)"
      ]
     },
     "metadata": {},
     "output_type": "display_data"
    },
    {
     "name": "stdout",
     "output_type": "stream",
     "text": [
      " dbo\n",
      "  | dimaccount\n",
      "  |  | AccountKey\n",
      "  |  | ParentAccountKey\n",
      "  |  | AccountCodeAlternateKey\n",
      "  |  | ParentAccountCodeAlternateKey\n",
      "  |  | AccountDescription\n",
      "  |  | AccountType\n",
      "  |  | Operator\n",
      "  |  | CustomMembers\n",
      "  |  | ValueType\n",
      "  | factinternetsales\n",
      "  |  | ProductKey\n",
      "  |  | OrderDateKey\n",
      "  |  | DueDateKey\n",
      "  |  | ShipDateKey\n",
      "  |  | CustomerKey\n",
      "  |  | PromotionKey\n",
      "  |  | CurrencyKey\n",
      "  |  | SalesTerritoryKey\n",
      "  |  | SalesOrderNumber\n",
      "  |  | SalesOrderLineNumber\n",
      "  |  | RevisionNumber\n",
      "  |  | OrderQuantity\n",
      "  |  | UnitPrice\n",
      "  |  | ExtendedAmount\n",
      "  |  | UnitPriceDiscountPct\n",
      "  |  | DiscountAmount\n",
      "  |  | ProductStandardCost\n",
      "  |  | TotalProductCost\n",
      "  |  | SalesAmount\n",
      "  |  | TaxAmt\n",
      "  |  | Freight\n",
      "  |  | OrderDate\n",
      "  |  | DueDate\n",
      "  |  | ShipDate\n",
      "  | dimemployee *\n",
      "  |  | EmployeeKey\n",
      "  |  | ParentEmployeeKey\n",
      "  |  | EmployeeNationalIDAlternateKey\n",
      "  |  | SalesTerritoryKey\n",
      "  |  | FirstName\n",
      "  |  | LastName\n",
      "  |  | MiddleName\n",
      "  |  | NameStyle\n",
      "  |  | Title\n",
      "  |  | HireDate\n",
      "  |  | BirthDate\n",
      "  |  | LoginID\n",
      "  |  | EmailAddress\n",
      "  |  | Phone\n",
      "  |  | MaritalStatus\n",
      "  |  | EmergencyContactName\n",
      "  |  | EmergencyContactPhone\n",
      "  |  | SalariedFlag\n",
      "  |  | Gender\n",
      "  |  | PayFrequency\n",
      "  |  | BaseRate\n",
      "  |  | VacationHours\n",
      "  |  | SickLeaveHours\n",
      "  |  | CurrentFlag\n",
      "  |  | SalesPersonFlag\n",
      "  |  | DepartmentName\n",
      "  |  | StartDate\n",
      "  |  | EndDate\n",
      "  |  | Status\n",
      "  | dimsalesterritory\n",
      "  |  | SalesTerritoryKey\n",
      "  |  | SalesTerritoryAlternateKey\n",
      "  |  | SalesTerritoryRegion\n",
      "  |  | SalesTerritoryCountry\n",
      "  |  | SalesTerritoryGroup\n",
      "  | dimreseller\n",
      "  |  | ResellerKey\n",
      "  |  | GeographyKey\n",
      "  |  | ResellerAlternateKey\n",
      "  |  | Phone\n",
      "  |  | BusinessType\n",
      "  |  | ResellerName\n",
      "  |  | NumberEmployees\n",
      "  |  | OrderFrequency\n",
      "  |  | OrderMonth\n",
      "  |  | FirstOrderYear\n",
      "  |  | LastOrderYear\n",
      "  |  | ProductLine\n",
      "  |  | AddressLine1\n",
      "  |  | AddressLine2\n",
      "  |  | AnnualSales\n",
      "  |  | BankName\n",
      "  |  | MinPaymentType\n",
      "  |  | MinPaymentAmount\n",
      "  |  | AnnualRevenue\n",
      "  |  | YearOpened\n",
      "  | factinternetsalesreason\n",
      "  |  | SalesOrderNumber\n",
      "  |  | SalesOrderLineNumber\n",
      "  |  | SalesReasonKey\n",
      "  | newfactcurrencyrate\n",
      "  |  | AverageRate\n",
      "  |  | CurrencyID\n",
      "  |  | CurrencyDate\n",
      "  |  | EndOfDayRate\n",
      "  |  | CurrencyKey\n",
      "  |  | DateKey\n",
      "  | dimproductcategory\n",
      "  |  | ProductCategoryKey\n",
      "  |  | ProductCategoryAlternateKey\n",
      "  |  | EnglishProductCategoryName\n",
      "  |  | SpanishProductCategoryName\n",
      "  |  | FrenchProductCategoryName\n",
      "  | factsurveyresponse\n",
      "  |  | SurveyResponseKey\n",
      "  |  | DateKey\n",
      "  |  | CustomerKey\n",
      "  |  | ProductCategoryKey\n",
      "  |  | EnglishProductCategoryName\n",
      "  |  | ProductSubcategoryKey\n",
      "  |  | EnglishProductSubcategoryName\n",
      "  |  | Date\n",
      "  | factcurrencyrate\n",
      "  |  | CurrencyKey\n",
      "  |  | DateKey\n",
      "  |  | AverageRate\n",
      "  |  | EndOfDayRate\n",
      "  |  | Date\n",
      "  | dimgeography\n",
      "  |  | GeographyKey\n",
      "  |  | City\n",
      "  |  | StateProvinceCode\n",
      "  |  | StateProvinceName\n",
      "  |  | CountryRegionCode\n",
      "  |  | EnglishCountryRegionName\n",
      "  |  | SpanishCountryRegionName\n",
      "  |  | FrenchCountryRegionName\n",
      "  |  | PostalCode\n",
      "  |  | SalesTerritoryKey\n",
      "  |  | IpAddressLocator\n",
      "  | dimscenario\n",
      "  |  | ScenarioKey\n",
      "  |  | ScenarioName\n",
      "  | dimsalesreason\n",
      "  |  | SalesReasonKey\n",
      "  |  | SalesReasonAlternateKey\n",
      "  |  | SalesReasonName\n",
      "  |  | SalesReasonReasonType\n",
      "  | dimcurrency\n",
      "  |  | CurrencyKey\n",
      "  |  | CurrencyAlternateKey\n",
      "  |  | CurrencyName\n",
      "  | factresellersales\n",
      "  |  | ProductKey\n",
      "  |  | OrderDateKey\n",
      "  |  | DueDateKey\n",
      "  |  | ShipDateKey\n",
      "  |  | ResellerKey\n",
      "  |  | EmployeeKey\n",
      "  |  | PromotionKey\n",
      "  |  | CurrencyKey\n",
      "  |  | SalesTerritoryKey\n",
      "  |  | SalesOrderNumber\n",
      "  |  | SalesOrderLineNumber\n",
      "  |  | RevisionNumber\n",
      "  |  | OrderQuantity\n",
      "  |  | UnitPrice\n",
      "  |  | ExtendedAmount\n",
      "  |  | UnitPriceDiscountPct\n",
      "  |  | DiscountAmount\n",
      "  |  | ProductStandardCost\n",
      "  |  | TotalProductCost\n",
      "  |  | SalesAmount\n",
      "  |  | TaxAmt\n",
      "  |  | Freight\n",
      "  |  | CarrierTrackingNumber\n",
      "  |  | CustomerPONumber\n",
      "  |  | OrderDate\n",
      "  |  | DueDate\n",
      "  |  | ShipDate\n",
      "  | dimorganization\n",
      "  |  | OrganizationKey\n",
      "  |  | ParentOrganizationKey\n",
      "  |  | PercentageOfOwnership\n",
      "  |  | OrganizationName\n",
      "  |  | CurrencyKey\n",
      "  | factproductinventory\n",
      "  |  | ProductKey\n",
      "  |  | DateKey\n",
      "  |  | MovementDate\n",
      "  |  | UnitCost\n",
      "  |  | UnitsIn\n",
      "  |  | UnitsOut\n",
      "  |  | UnitsBalance\n",
      "  | factcallcenter\n",
      "  |  | FactCallCenterID\n",
      "  |  | DateKey\n",
      "  |  | WageType\n",
      "  |  | Shift\n",
      "  |  | LevelOneOperators\n",
      "  |  | LevelTwoOperators\n",
      "  |  | TotalOperators\n",
      "  |  | Calls\n",
      "  |  | AutomaticResponses\n",
      "  |  | Orders\n",
      "  |  | IssuesRaised\n",
      "  |  | AverageTimePerIssue\n",
      "  |  | ServiceGrade\n",
      "  |  | Date\n",
      "  | dimdate\n",
      "  |  | DateKey\n",
      "  |  | FullDateAlternateKey\n",
      "  |  | DayNumberOfWeek\n",
      "  |  | EnglishDayNameOfWeek\n",
      "  |  | SpanishDayNameOfWeek\n",
      "  |  | FrenchDayNameOfWeek\n",
      "  |  | DayNumberOfMonth\n",
      "  |  | DayNumberOfYear\n",
      "  |  | WeekNumberOfYear\n",
      "  |  | EnglishMonthName\n",
      "  |  | SpanishMonthName\n",
      "  |  | FrenchMonthName\n",
      "  |  | MonthNumberOfYear\n",
      "  |  | CalendarQuarter\n",
      "  |  | CalendarYear\n",
      "  |  | CalendarSemester\n",
      "  |  | FiscalQuarter\n",
      "  |  | FiscalYear\n",
      "  |  | FiscalSemester\n",
      "  | prospectivebuyer\n",
      "  |  | ProspectiveBuyerKey\n",
      "  |  | ProspectAlternateKey\n",
      "  |  | FirstName\n",
      "  |  | MiddleName\n",
      "  |  | LastName\n",
      "  |  | BirthDate\n",
      "  |  | MaritalStatus\n",
      "  |  | Gender\n",
      "  |  | EmailAddress\n",
      "  |  | YearlyIncome\n",
      "  |  | TotalChildren\n",
      "  |  | NumberChildrenAtHome\n",
      "  |  | Education\n",
      "  |  | Occupation\n",
      "  |  | HouseOwnerFlag\n",
      "  |  | NumberCarsOwned\n",
      "  |  | AddressLine1\n",
      "  |  | AddressLine2\n",
      "  |  | City\n",
      "  |  | StateProvinceCode\n",
      "  |  | PostalCode\n",
      "  |  | Phone\n",
      "  |  | Salutation\n",
      "  |  | Unknown\n",
      "  | dimcustomer\n",
      "  |  | CustomerKey\n",
      "  |  | GeographyKey\n",
      "  |  | CustomerAlternateKey\n",
      "  |  | Title\n",
      "  |  | FirstName\n",
      "  |  | MiddleName\n",
      "  |  | LastName\n",
      "  |  | NameStyle\n",
      "  |  | BirthDate\n",
      "  |  | MaritalStatus\n",
      "  |  | Suffix\n",
      "  |  | Gender\n",
      "  |  | EmailAddress\n",
      "  |  | YearlyIncome\n",
      "  |  | TotalChildren\n",
      "  |  | NumberChildrenAtHome\n",
      "  |  | EnglishEducation\n",
      "  |  | SpanishEducation\n",
      "  |  | FrenchEducation\n",
      "  |  | EnglishOccupation\n",
      "  |  | SpanishOccupation\n",
      "  |  | FrenchOccupation\n",
      "  |  | HouseOwnerFlag\n",
      "  |  | NumberCarsOwned\n",
      "  |  | AddressLine1\n",
      "  |  | AddressLine2\n",
      "  |  | Phone\n",
      "  |  | DateFirstPurchase\n",
      "  |  | CommuteDistance\n",
      "  | dimproduct\n",
      "  |  | ProductKey\n",
      "  |  | ProductAlternateKey\n",
      "  |  | ProductSubcategoryKey\n",
      "  |  | WeightUnitMeasureCode\n",
      "  |  | SizeUnitMeasureCode\n",
      "  |  | EnglishProductName\n",
      "  |  | SpanishProductName\n",
      "  |  | FrenchProductName\n",
      "  |  | StandardCost\n",
      "  |  | FinishedGoodsFlag\n",
      "  |  | Color\n",
      "  |  | SafetyStockLevel\n",
      "  |  | ReorderPoint\n",
      "  |  | ListPrice\n",
      "  |  | Size\n",
      "  |  | SizeRange\n",
      "  |  | Weight\n",
      "  |  | DaysToManufacture\n",
      "  |  | ProductLine\n",
      "  |  | DealerPrice\n",
      "  |  | Class\n",
      "  |  | Style\n",
      "  |  | ModelName\n",
      "  |  | EnglishDescription\n",
      "  |  | FrenchDescription\n",
      "  |  | ChineseDescription\n",
      "  |  | ArabicDescription\n",
      "  |  | HebrewDescription\n",
      "  |  | ThaiDescription\n",
      "  |  | GermanDescription\n",
      "  |  | JapaneseDescription\n",
      "  |  | TurkishDescription\n",
      "  |  | StartDate\n",
      "  |  | EndDate\n",
      "  |  | Status\n",
      "  | factadditionalinternationalproductdescription\n",
      "  |  | ProductKey\n",
      "  |  | CultureName\n",
      "  |  | ProductDescription\n",
      "  | factfinance\n",
      "  |  | FinanceKey\n",
      "  |  | DateKey\n",
      "  |  | OrganizationKey\n",
      "  |  | DepartmentGroupKey\n",
      "  |  | ScenarioKey\n",
      "  |  | AccountKey\n",
      "  |  | Amount\n",
      "  |  | Date\n",
      "  | factsalesquota\n",
      "  |  | SalesQuotaKey\n",
      "  |  | EmployeeKey\n",
      "  |  | DateKey\n",
      "  |  | CalendarYear\n",
      "  |  | CalendarQuarter\n",
      "  |  | SalesAmountQuota\n",
      "  |  | Date\n",
      "  | dimproductsubcategory\n",
      "  |  | ProductSubcategoryKey\n",
      "  |  | ProductSubcategoryAlternateKey\n",
      "  |  | EnglishProductSubcategoryName\n",
      "  |  | SpanishProductSubcategoryName\n",
      "  |  | FrenchProductSubcategoryName\n",
      "  |  | ProductCategoryKey\n",
      "  | dimdepartmentgroup\n",
      "  |  | DepartmentGroupKey\n",
      "  |  | ParentDepartmentGroupKey\n",
      "  |  | DepartmentGroupName\n",
      "  | dimpromotion\n",
      "  |  | PromotionKey\n",
      "  |  | PromotionAlternateKey\n",
      "  |  | EnglishPromotionName\n",
      "  |  | SpanishPromotionName\n",
      "  |  | FrenchPromotionName\n",
      "  |  | DiscountPct\n",
      "  |  | EnglishPromotionType\n",
      "  |  | SpanishPromotionType\n",
      "  |  | FrenchPromotionType\n",
      "  |  | EnglishPromotionCategory\n",
      "  |  | SpanishPromotionCategory\n",
      "  |  | FrenchPromotionCategory\n",
      "  |  | StartDate\n",
      "  |  | EndDate\n",
      "  |  | MinQty\n",
      "  |  | MaxQty\n"
     ]
    },
    {
     "data": {
      "text/plain": [
       "'AdventureWorks'"
      ]
     },
     "execution_count": 52,
     "metadata": {},
     "output_type": "execute_result"
    }
   ],
   "source": [
    "datasource.pretty_print()"
   ]
  },
  {
   "cell_type": "markdown",
   "id": "f3da9f27-19bf-491f-82bd-df303f3fb65f",
   "metadata": {
    "nteract": {
     "transient": {
      "deleting": false
     }
    }
   },
   "source": [
    "We can add instructions to the data source that will help it with query generation"
   ]
  },
  {
   "cell_type": "code",
   "execution_count": 19,
   "id": "7c877f00-3516-4a2a-90e2-4bbb3b63b222",
   "metadata": {},
   "outputs": [
    {
     "data": {
      "application/vnd.livy.statement-meta+json": {
       "execution_finish_time": "2025-06-30T21:23:24.6439714Z",
       "execution_start_time": "2025-06-30T21:23:22.7683902Z",
       "livy_statement_state": "available",
       "normalized_state": "finished",
       "parent_msg_id": "d99cfcba-672f-40b4-a9c3-e6ce98cd2b61",
       "queued_time": "2025-06-30T21:23:22.767187Z",
       "session_id": "07ef0fc8-ad82-4442-8d95-1e2d6fc49627",
       "session_start_time": null,
       "spark_pool": null,
       "state": "finished",
       "statement_id": 26,
       "statement_ids": [
        26
       ]
      },
      "text/plain": [
       "StatementMeta(, 07ef0fc8-ad82-4442-8d95-1e2d6fc49627, 26, Finished, Available, Finished)"
      ]
     },
     "metadata": {},
     "output_type": "display_data"
    },
    {
     "data": {
      "text/plain": [
       "'When asked about employees use the dimemployee table to retrieve detailed information'"
      ]
     },
     "execution_count": 58,
     "metadata": {},
     "output_type": "execute_result"
    }
   ],
   "source": [
    "ds_notes = \"When asked about employees use the dimemployee table to retrieve detailed information\"\n",
    "datasource.update_configuration(instructions=ds_notes)\n",
    "datasource.get_configuration()[\"additional_instructions\"]"
   ]
  },
  {
   "cell_type": "markdown",
   "id": "8bff61b9-5951-49e1-b456-e4ae3b4deeb6",
   "metadata": {
    "nteract": {
     "transient": {
      "deleting": false
     }
    }
   },
   "source": [
    "We can also add few-shot examples"
   ]
  },
  {
   "cell_type": "code",
   "execution_count": 20,
   "id": "5d6c6f0a-4214-4454-8c36-a4e696a4ebe5",
   "metadata": {},
   "outputs": [
    {
     "data": {
      "application/vnd.livy.statement-meta+json": {
       "execution_finish_time": "2025-06-30T21:23:46.1156614Z",
       "execution_start_time": "2025-06-30T21:23:44.8287541Z",
       "livy_statement_state": "available",
       "normalized_state": "finished",
       "parent_msg_id": "b173bc7e-aca1-4548-8388-33e42aae4abd",
       "queued_time": "2025-06-30T21:23:44.8275346Z",
       "session_id": "07ef0fc8-ad82-4442-8d95-1e2d6fc49627",
       "session_start_time": null,
       "spark_pool": null,
       "state": "finished",
       "statement_id": 27,
       "statement_ids": [
        27
       ]
      },
      "text/plain": [
       "StatementMeta(, 07ef0fc8-ad82-4442-8d95-1e2d6fc49627, 27, Finished, Available, Finished)"
      ]
     },
     "metadata": {},
     "output_type": "display_data"
    }
   ],
   "source": [
    "example_dict = {\n",
    "    \"How many employees are there in the company?\": \"SELECT COUNT(*) AS NumberOfEmployees FROM dbo.dimemployee\"\n",
    "}\n",
    "datasource.add_fewshots(example_dict)"
   ]
  },
  {
   "cell_type": "code",
   "execution_count": 21,
   "id": "71b4e14c-5ef1-4578-9847-312be6101b98",
   "metadata": {},
   "outputs": [
    {
     "data": {
      "application/vnd.livy.statement-meta+json": {
       "execution_finish_time": "2025-06-30T21:23:54.1958678Z",
       "execution_start_time": "2025-06-30T21:23:53.6699798Z",
       "livy_statement_state": "available",
       "normalized_state": "finished",
       "parent_msg_id": "3daf6f27-f2b3-4b01-b8a9-84e8093029ec",
       "queued_time": "2025-06-30T21:23:53.668711Z",
       "session_id": "07ef0fc8-ad82-4442-8d95-1e2d6fc49627",
       "session_start_time": null,
       "spark_pool": null,
       "state": "finished",
       "statement_id": 28,
       "statement_ids": [
        28
       ]
      },
      "text/plain": [
       "StatementMeta(, 07ef0fc8-ad82-4442-8d95-1e2d6fc49627, 28, Finished, Available, Finished)"
      ]
     },
     "metadata": {},
     "output_type": "display_data"
    },
    {
     "data": {
      "text/html": [
       "<div>\n",
       "<style scoped>\n",
       "    .dataframe tbody tr th:only-of-type {\n",
       "        vertical-align: middle;\n",
       "    }\n",
       "\n",
       "    .dataframe tbody tr th {\n",
       "        vertical-align: top;\n",
       "    }\n",
       "\n",
       "    .dataframe thead th {\n",
       "        text-align: right;\n",
       "    }\n",
       "</style>\n",
       "<table border=\"1\" class=\"dataframe\">\n",
       "  <thead>\n",
       "    <tr style=\"text-align: right;\">\n",
       "      <th></th>\n",
       "      <th>Id</th>\n",
       "      <th>Question</th>\n",
       "      <th>Query</th>\n",
       "      <th>State</th>\n",
       "      <th>Embedding</th>\n",
       "    </tr>\n",
       "  </thead>\n",
       "  <tbody>\n",
       "    <tr>\n",
       "      <th>0</th>\n",
       "      <td>f66aaa38-db99-466d-bdb0-54aea81c1ff5</td>\n",
       "      <td>How many employees are there in the company?</td>\n",
       "      <td>SELECT COUNT(*) AS NumberOfEmployees FROM dbo....</td>\n",
       "      <td>validating</td>\n",
       "      <td>None</td>\n",
       "    </tr>\n",
       "  </tbody>\n",
       "</table>\n",
       "</div>"
      ],
      "text/plain": [
       "                                     Id  \\\n",
       "0  f66aaa38-db99-466d-bdb0-54aea81c1ff5   \n",
       "\n",
       "                                       Question  \\\n",
       "0  How many employees are there in the company?   \n",
       "\n",
       "                                               Query       State Embedding  \n",
       "0  SELECT COUNT(*) AS NumberOfEmployees FROM dbo....  validating      None  "
      ]
     },
     "execution_count": 64,
     "metadata": {},
     "output_type": "execute_result"
    }
   ],
   "source": [
    "datasource.get_fewshots()"
   ]
  },
  {
   "cell_type": "markdown",
   "id": "c3c405f9-06af-42cb-ab27-1c83bdb8495d",
   "metadata": {
    "nteract": {
     "transient": {
      "deleting": false
     }
    }
   },
   "source": [
    "We can delete few-shots using their ids"
   ]
  },
  {
   "cell_type": "code",
   "execution_count": 23,
   "id": "80c4d06f-6596-406a-b4f9-9878e5137f73",
   "metadata": {},
   "outputs": [
    {
     "data": {
      "application/vnd.livy.statement-meta+json": {
       "execution_finish_time": "2025-06-30T21:24:12.2016241Z",
       "execution_start_time": "2025-06-30T21:24:11.0191318Z",
       "livy_statement_state": "available",
       "normalized_state": "finished",
       "parent_msg_id": "3aad836f-b816-4fc1-9a0f-7fa245dbbb87",
       "queued_time": "2025-06-30T21:24:11.017964Z",
       "session_id": "07ef0fc8-ad82-4442-8d95-1e2d6fc49627",
       "session_start_time": null,
       "spark_pool": null,
       "state": "finished",
       "statement_id": 30,
       "statement_ids": [
        30
       ]
      },
      "text/plain": [
       "StatementMeta(, 07ef0fc8-ad82-4442-8d95-1e2d6fc49627, 30, Finished, Available, Finished)"
      ]
     },
     "metadata": {},
     "output_type": "display_data"
    }
   ],
   "source": [
    "# make sure the replace the id of the few-shot example with the id that is assigned to your few-shot example\n",
    "datasource.remove_fewshot(\"f66aaa38-db99-466d-bdb0-54aea81c1ff5\")"
   ]
  },
  {
   "cell_type": "code",
   "execution_count": 24,
   "id": "6fb44c12-0bd7-40d3-8dda-0156868e42a9",
   "metadata": {},
   "outputs": [
    {
     "data": {
      "application/vnd.livy.statement-meta+json": {
       "execution_finish_time": "2025-06-30T21:24:14.4138342Z",
       "execution_start_time": "2025-06-30T21:24:13.877862Z",
       "livy_statement_state": "available",
       "normalized_state": "finished",
       "parent_msg_id": "fd8b9e8d-b6f1-4eaa-b35e-6aa41547e914",
       "queued_time": "2025-06-30T21:24:13.8765928Z",
       "session_id": "07ef0fc8-ad82-4442-8d95-1e2d6fc49627",
       "session_start_time": null,
       "spark_pool": null,
       "state": "finished",
       "statement_id": 31,
       "statement_ids": [
        31
       ]
      },
      "text/plain": [
       "StatementMeta(, 07ef0fc8-ad82-4442-8d95-1e2d6fc49627, 31, Finished, Available, Finished)"
      ]
     },
     "metadata": {},
     "output_type": "display_data"
    },
    {
     "data": {
      "text/html": [
       "<div>\n",
       "<style scoped>\n",
       "    .dataframe tbody tr th:only-of-type {\n",
       "        vertical-align: middle;\n",
       "    }\n",
       "\n",
       "    .dataframe tbody tr th {\n",
       "        vertical-align: top;\n",
       "    }\n",
       "\n",
       "    .dataframe thead th {\n",
       "        text-align: right;\n",
       "    }\n",
       "</style>\n",
       "<table border=\"1\" class=\"dataframe\">\n",
       "  <thead>\n",
       "    <tr style=\"text-align: right;\">\n",
       "      <th></th>\n",
       "      <th>Id</th>\n",
       "      <th>Question</th>\n",
       "      <th>Query</th>\n",
       "      <th>State</th>\n",
       "      <th>Embedding</th>\n",
       "    </tr>\n",
       "  </thead>\n",
       "  <tbody>\n",
       "  </tbody>\n",
       "</table>\n",
       "</div>"
      ],
      "text/plain": [
       "Empty DataFrame\n",
       "Columns: [Id, Question, Query, State, Embedding]\n",
       "Index: []"
      ]
     },
     "execution_count": 73,
     "metadata": {},
     "output_type": "execute_result"
    }
   ],
   "source": [
    "datasource.get_fewshots()"
   ]
  },
  {
   "cell_type": "markdown",
   "id": "58e57562-53f2-4261-a7b3-dad20fdb7764",
   "metadata": {
    "nteract": {
     "transient": {
      "deleting": false
     }
    }
   },
   "source": [
    "Finally, we can delete the data agent"
   ]
  },
  {
   "cell_type": "code",
   "execution_count": 25,
   "id": "af9d0536-3cad-45f4-bd36-5047f5743a4c",
   "metadata": {},
   "outputs": [
    {
     "data": {
      "application/vnd.livy.statement-meta+json": {
       "execution_finish_time": "2025-06-30T21:24:49.2357854Z",
       "execution_start_time": "2025-06-30T21:24:47.857099Z",
       "livy_statement_state": "available",
       "normalized_state": "finished",
       "parent_msg_id": "99ba7c34-8c0d-4360-a286-7be4d2301b6c",
       "queued_time": "2025-06-30T21:24:47.8559232Z",
       "session_id": "07ef0fc8-ad82-4442-8d95-1e2d6fc49627",
       "session_start_time": null,
       "spark_pool": null,
       "state": "finished",
       "statement_id": 32,
       "statement_ids": [
        32
       ]
      },
      "text/plain": [
       "StatementMeta(, 07ef0fc8-ad82-4442-8d95-1e2d6fc49627, 32, Finished, Available, Finished)"
      ]
     },
     "metadata": {},
     "output_type": "display_data"
    }
   ],
   "source": [
    "delete_data_agent(data_agent_name)"
   ]
  }
 ],
 "metadata": {
  "language_info": {
   "name": "python"
  }
 },
 "nbformat": 4,
 "nbformat_minor": 5
}
