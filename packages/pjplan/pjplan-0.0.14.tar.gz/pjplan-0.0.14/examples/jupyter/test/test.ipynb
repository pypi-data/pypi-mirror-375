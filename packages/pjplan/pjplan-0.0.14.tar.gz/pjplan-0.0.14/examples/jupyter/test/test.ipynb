{
 "cells": [
  {
   "cell_type": "code",
   "execution_count": 1,
   "id": "initial_id",
   "metadata": {
    "collapsed": true,
    "ExecuteTime": {
     "end_time": "2023-08-24T12:20:19.232608900Z",
     "start_time": "2023-08-24T12:20:19.210614200Z"
    }
   },
   "outputs": [],
   "source": [
    "import sys\n",
    "from datetime import datetime\n",
    "\n",
    "sys.path.append('../../src')\n",
    "\n",
    "import pjplan as pl\n",
    "from pjplan import Task, WBS, ForwardScheduler, Resource"
   ]
  },
  {
   "cell_type": "code",
   "execution_count": 2,
   "outputs": [],
   "source": [
    "wbs = pl.read_csv(\"res.csv\")\n",
    "wbs[351105].start"
   ],
   "metadata": {
    "collapsed": false,
    "ExecuteTime": {
     "end_time": "2023-08-24T12:20:19.263632700Z",
     "start_time": "2023-08-24T12:20:19.234611Z"
    }
   },
   "id": "21d9ae9d16c97e0c"
  },
  {
   "cell_type": "code",
   "execution_count": 8,
   "outputs": [
    {
     "name": "stdout",
     "output_type": "stream",
     "text": [
      "resource Arkady Makarov Arkady Makarov\n",
      "resource Arkady Makarov Arkady Makarov\n",
      "resource Arkady Makarov Arkady Makarov\n",
      "resource Arkady Makarov Arkady Makarov\n",
      "resource Arkady Makarov Arkady Makarov\n",
      "resource Arkady Makarov Arkady Makarov\n",
      "resource Arkady Makarov Arkady Makarov\n",
      "resource Arkady Makarov Arkady Makarov\n",
      "resource Arkady Makarov Arkady Makarov\n",
      "resource Arkady Makarov Arkady Makarov\n",
      "resource Arkady Makarov Arkady Makarov\n",
      "resource Arkady Makarov Arkady Makarov\n",
      "resource Arkady Makarov Arkady Makarov\n",
      "resource Arkady Makarov Arkady Makarov\n",
      "resource Arkady Makarov Arkady Makarov\n",
      "resource Arkady Makarov Arkady Makarov\n",
      "resource Arkady Makarov Arkady Makarov\n",
      "resource Arkady Makarov Arkady Makarov\n",
      "resource Arkady Makarov Arkady Makarov\n",
      "resource Arkady Makarov Arkady Makarov\n",
      "resource Arkady Makarov Arkady Makarov\n",
      "resource Arkady Makarov Arkady Makarov\n",
      "resource Arkady Makarov Arkady Makarov\n",
      "resource Arkady Makarov Arkady Makarov\n",
      "resource Arkady Makarov Arkady Makarov\n",
      "resource Arkady Makarov Arkady Makarov\n",
      "resource Arkady Makarov Arkady Makarov\n",
      "resource Arkady Makarov Arkady Makarov\n",
      "resource Arkady Makarov Arkady Makarov\n",
      "resource Arkady Makarov Arkady Makarov\n",
      "resource Arkady Makarov Arkady Makarov\n",
      "resource Arkady Makarov Arkady Makarov\n",
      "resource Arkady Makarov Arkady Makarov\n",
      "resource Arkady Makarov Arkady Makarov\n",
      "resource Arkady Makarov Arkady Makarov\n",
      "resource Arkady Makarov Arkady Makarov\n",
      "resource Arkady Makarov Arkady Makarov\n",
      "resource Arkady Makarov Arkady Makarov\n",
      "resource Arkady Makarov Arkady Makarov\n",
      "resource Arkady Makarov Arkady Makarov\n",
      "resource Arkady Makarov Arkady Makarov\n",
      "resource Arkady Makarov Arkady Makarov\n",
      "resource Arkady Makarov Arkady Makarov\n",
      "resource Arkady Makarov Arkady Makarov\n",
      "resource Arkady Makarov Arkady Makarov\n",
      "resource Arkady Makarov Arkady Makarov\n",
      "resource Arkady Makarov Arkady Makarov\n",
      "resource Arkady Makarov Arkady Makarov\n",
      "resource Arkady Makarov Arkady Makarov\n",
      "resource Arkady Makarov Arkady Makarov\n",
      "resource Arkady Makarov Arkady Makarov\n",
      "resource Arkady Makarov Arkady Makarov\n",
      "resource Arkady Makarov Arkady Makarov\n",
      "resource Arkady Makarov Arkady Makarov\n",
      "resource Arkady Makarov Arkady Makarov\n",
      "resource Arkady Makarov Arkady Makarov\n",
      "resource Arkady Makarov Arkady Makarov\n",
      "resource Arkady Makarov Arkady Makarov\n",
      "resource Arkady Makarov Arkady Makarov\n",
      "resource Arkady Makarov Arkady Makarov\n",
      "resource Arkady Makarov Arkady Makarov\n",
      "resource Arkady Makarov Arkady Makarov\n",
      "resource Arkady Makarov Arkady Makarov\n",
      "resource Arkady Makarov Arkady Makarov\n",
      "resource Arkady Makarov Arkady Makarov\n",
      "resource Arkady Makarov Arkady Makarov\n",
      "resource Arkady Makarov Arkady Makarov\n",
      "resource Arkady Makarov Arkady Makarov\n",
      "resource Arkady Makarov Arkady Makarov\n",
      "resource Arkady Makarov Arkady Makarov\n",
      "resource Arkady Makarov Arkady Makarov\n",
      "resource Arkady Makarov Arkady Makarov\n",
      "resource Arkady Makarov Arkady Makarov\n",
      "resource Arkady Makarov Arkady Makarov\n",
      "resource Arkady Makarov Arkady Makarov\n",
      "resource Arkady Makarov Arkady Makarov\n",
      "2023-07-28 00:00:00 2023-08-24 19:33:32.853456 Описать интеграцию проекта Опросы (схема, описание вики). Service Task\n",
      "2023-08-04 00:00:00 2023-08-04 00:00:00 Опросы: Создание шаблона сервиса Frontend - декомпозиция и оценка задач Service Task\n",
      "2023-08-09 00:00:00 2023-08-09 00:00:00 Опросы: Подготовка: Создать заготовку сервиса TE.S7.Survey.FrontEnd в репозитории проекта Task\n",
      "2023-08-15 00:00:00 2023-08-15 00:00:00 Автоматического развертывания приложения на средах dev, uat, prod  Service Task\n",
      "2023-08-15 00:00:00 2023-08-15 00:00:00 Опросы: Настроить аутентификацию WSO2 - декомпозиция и оценка задач Service Task\n",
      "2023-08-16 00:00:00 2023-08-16 00:00:00 Опросы: изучение данных тикета OAuth Service Task\n",
      "2023-08-18 00:00:00 2023-08-18 00:00:00 Автоматическое проставление тагов \"on dev\" \"on uat\" \"on prod\" Service Task\n",
      "2023-08-18 00:00:00 2023-08-18 00:00:00 Опросы: Создание шаблона сервиса Survey - декомпозиция и оценка задач Service Task\n",
      "2023-08-18 00:00:00 2023-08-18 00:00:00 Опросы: Подключить автотризацию WSO2 Task\n",
      "2023-08-21 00:00:00 2023-08-21 00:00:00 Создать роли на основе групп AD пользователя Task\n",
      "2023-08-23 00:00:00 2023-08-24 19:33:32.853456 Создать сервис определения группы AD пользователя Task\n",
      "2023-08-24 00:00:00 2023-08-24 19:33:32.853456 Опросы: Настройка инфраструктуры проекта - декомпозиция и оценка задач Service Task\n",
      "2023-08-24 00:00:00 2023-08-24 00:00:00 Опросы: Настроить проект TFS - декомпозиция и оценка задач Service Task\n",
      "2023-08-24 00:00:00 2023-08-24 19:33:32.853456 Опросы: TFS: Настроить pipeline для автоматического сбора заврешённых задач для release notes Task\n",
      "2023-08-24 00:00:00 2023-08-24 00:00:00 Опросы: TFS: Настроить ветку master. Определить политики, раздать доступы. Service Task\n",
      "2023-08-24 00:00:00 2023-08-24 00:00:00 Опросы: Настроить развертывание приложения и деплой - декомпозиция и оченка задач Service Task\n",
      "2023-08-24 00:00:00 2023-08-31 21:00:00 Подключить сервис получения пользователя Task\n",
      "2023-08-24 00:00:00 2023-08-24 00:00:00 Опросы: Создание и настройка ролевой модели пользователей - декомпозиция и оценка задач Service Task\n",
      "2023-08-24 00:00:00 2023-08-24 00:00:00 Опросы: Экспорт результатов в csv - декомпозиция и оценка задач Service Task\n",
      "2023-08-24 18:00:00 2023-08-25 03:00:00 Опросы: Подготовка: Создание страничек в вики: \"Окружение\" \"Подготовка рабочего места\" Task\n",
      "2023-08-25 03:00:00 2023-08-28 03:00:00 Автоматический прогон юнит тестов Service Task\n",
      "2023-08-28 03:00:00 2023-08-28 21:00:00 Создать инструкцию по локальному развертыванию приложения Service Task\n",
      "2023-08-28 21:00:00 2023-08-29 21:00:00 Описать микросервисную архитектуру проекта (схема, описание вики). Service Task\n",
      "2023-08-31 21:00:00 2023-09-01 15:00:00 Опросы: Подготовка: Создать заготовку сервиса TE.S7.Survey.Survey в репозитории проекта Task\n",
      "2023-09-01 15:00:00 2023-09-05 15:00:00 Создать контракт микросервиса авторизации Task\n",
      "2023-09-05 15:00:00 2023-09-11 15:00:00 Создать политики доступа к методам API на основе ролей  Task\n"
     ]
    }
   ],
   "source": [
    "plan = ForwardScheduler(datetime(2022, 1, 1)).calc(wbs)\n",
    "tl = plan.schedule.tasks(resource='Arkady Makarov')\n",
    "mtasks = plan.schedule.tasks(resource='Arkady Makarov')\n",
    "mtasks = mtasks.order_by('start')\n",
    "for t in mtasks:\n",
    "  if t.type != \"Feature\" and t.type != \"Product Backlog Item\":\n",
    "    print(t.start, t.end, t.name, t.type)"
   ],
   "metadata": {
    "collapsed": false,
    "ExecuteTime": {
     "end_time": "2023-08-24T12:33:32.873162700Z",
     "start_time": "2023-08-24T12:33:32.839933100Z"
    }
   },
   "id": "d797ee006d2981d8"
  }
 ],
 "metadata": {
  "kernelspec": {
   "display_name": "Python 3",
   "language": "python",
   "name": "python3"
  },
  "language_info": {
   "codemirror_mode": {
    "name": "ipython",
    "version": 2
   },
   "file_extension": ".py",
   "mimetype": "text/x-python",
   "name": "python",
   "nbconvert_exporter": "python",
   "pygments_lexer": "ipython2",
   "version": "2.7.6"
  }
 },
 "nbformat": 4,
 "nbformat_minor": 5
}
