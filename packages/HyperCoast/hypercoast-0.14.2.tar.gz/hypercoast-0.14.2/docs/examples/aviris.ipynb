{
 "cells": [
  {
   "cell_type": "markdown",
   "metadata": {},
   "source": [
    "[![image](https://colab.research.google.com/assets/colab-badge.svg)](https://colab.research.google.com/github/opengeos/HyperCoast/blob/main/docs/examples/aviris.ipynb)\n",
    "\n",
    "# Visualizing AVIRIS data interactively with HyperCoast\n",
    "\n",
    "This notebook demonstrates how to visualize [AVIRIS](https://aviris.jpl.nasa.gov) hyperspectral data interactively with HyperCoast. For more information about AVIRIS, please visit the links below:\n",
    "\n",
    "- https://aviris.jpl.nasa.gov/\n",
    "- https://aviris.jpl.nasa.gov/dataportal/\n",
    "- https://popo.jpl.nasa.gov/mmgis-aviris/?s=ujooa\n",
    "- https://daac.ornl.gov/cgi-bin/dsviewer.pl?ds_id=1988\n",
    "- https://github.com/ornldaac/deltax_workshop_2022/tree/main \n",
    "- https://github.com/jjmcnelis/aviris-ng-notebooks/tree/master"
   ]
  },
  {
   "cell_type": "code",
   "execution_count": null,
   "metadata": {},
   "outputs": [],
   "source": [
    "# %pip install \"hypercoast[extra]\""
   ]
  },
  {
   "cell_type": "code",
   "execution_count": null,
   "metadata": {},
   "outputs": [],
   "source": [
    "import hypercoast"
   ]
  },
  {
   "cell_type": "markdown",
   "metadata": {},
   "source": [
    "Download sample dataset from Access the AVIRIS-NG L2 Surface Reflectance product page via ORNL DAAC\n",
    "https://daac.ornl.gov/cgi-bin/dsviewer.pl?ds_id=1988\n",
    "\n",
    "![](https://i.imgur.com/3hwihRA.png)\n",
    "\n",
    "Download `ang20210401t150456_rfl_v2z1.zip` and unzip it.\n",
    "\n",
    "![](https://i.imgur.com/16jcmxd.png)"
   ]
  },
  {
   "cell_type": "markdown",
   "metadata": {},
   "source": [
    "The dataset contains 2 files: `ang20210401t150456_rfl_v2z1` and `ang20210401t150456_rfl_v2z1.hdr`. We will use the `ang20210401t150456_rfl_v2z1` file in this notebook."
   ]
  },
  {
   "cell_type": "code",
   "execution_count": null,
   "metadata": {},
   "outputs": [],
   "source": [
    "filepath = \"ang20210401t150456_rfl_v2z1\""
   ]
  },
  {
   "cell_type": "markdown",
   "metadata": {},
   "source": [
    "Read the AVIRIS data as an `xarray.Dataset` object."
   ]
  },
  {
   "cell_type": "code",
   "execution_count": null,
   "metadata": {},
   "outputs": [],
   "source": [
    "ds = hypercoast.read_aviris(filepath)\n",
    "ds"
   ]
  },
  {
   "cell_type": "markdown",
   "metadata": {},
   "source": [
    "Create an interactive map."
   ]
  },
  {
   "cell_type": "code",
   "execution_count": null,
   "metadata": {},
   "outputs": [],
   "source": [
    "m = hypercoast.Map()\n",
    "m"
   ]
  },
  {
   "cell_type": "markdown",
   "metadata": {},
   "source": [
    "Add the AVIRIS data to the map."
   ]
  },
  {
   "cell_type": "code",
   "execution_count": null,
   "metadata": {},
   "outputs": [],
   "source": [
    "m.add_aviris(ds, wavelengths=[1000, 700, 400], vmin=0, vmax=0.2)\n",
    "m.add(\"spectral\")"
   ]
  },
  {
   "cell_type": "markdown",
   "metadata": {},
   "source": [
    "![](https://i.imgur.com/RdegGqx.gif)"
   ]
  }
 ],
 "metadata": {
  "kernelspec": {
   "display_name": "hyper",
   "language": "python",
   "name": "python3"
  },
  "language_info": {
   "codemirror_mode": {
    "name": "ipython",
    "version": 3
   },
   "file_extension": ".py",
   "mimetype": "text/x-python",
   "name": "python",
   "nbconvert_exporter": "python",
   "pygments_lexer": "ipython3",
   "version": "3.10.14"
  }
 },
 "nbformat": 4,
 "nbformat_minor": 2
}
