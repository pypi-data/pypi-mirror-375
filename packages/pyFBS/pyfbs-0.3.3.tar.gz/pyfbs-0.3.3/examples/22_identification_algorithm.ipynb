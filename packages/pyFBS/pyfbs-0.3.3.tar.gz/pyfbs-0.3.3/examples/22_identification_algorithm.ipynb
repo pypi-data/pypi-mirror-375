{
 "cells": [
  {
   "cell_type": "markdown",
   "metadata": {},
   "source": [
    "# 22 Identification algorithm"
   ]
  },
  {
   "cell_type": "markdown",
   "metadata": {},
   "source": [
    "This example introduces a comprehensive experimental method to check the consistency of individual measurements based on comparisons with the complete experimental response model.  The numerical model is introduced only to enable the experimental model to be expanded using the System Equivalent Model Mixing method. The entire formulation is developed in the frequency domain."
   ]
  },
  {
   "cell_type": "code",
   "execution_count": 1,
   "metadata": {},
   "outputs": [],
   "source": [
    "import pyFBS\n",
    "\n",
    "import numpy as np\n",
    "import matplotlib.pyplot as plt\n",
    "import pandas as pd\n",
    "%matplotlib inline"
   ]
  },
  {
   "cell_type": "markdown",
   "metadata": {},
   "source": [
    "## Data import"
   ]
  },
  {
   "cell_type": "markdown",
   "metadata": {},
   "source": [
    "Importing of example data: \n",
    " - 3D model in stl format\n",
    " - locations and directions of responses and impacts in xlsx format\n",
    " - Ansys .full file\n",
    " - Ansys .res file\n",
    " - experimentally obtained FRFs stored in a pickle file"
   ]
  },
  {
   "cell_type": "code",
   "execution_count": 2,
   "metadata": {},
   "outputs": [],
   "source": [
    "# pyFBS.download_lab_testbench()"
   ]
  },
  {
   "cell_type": "code",
   "execution_count": 3,
   "metadata": {},
   "outputs": [],
   "source": [
    "stl = r\"./lab_testbench/STL/AB.stl\"\n",
    "xlsx = r\"./lab_testbench/Measurements/ammeasurements.xlsx\"\n",
    "\n",
    "full_file = r\"./lab_testbench/FEM/AB.full\"\n",
    "rst_file = r\"./lab_testbench/FEM/AB.rst\"\n",
    "\n",
    "exp_file = r\"./lab_testbench/Measurements/Y_AB.p\""
   ]
  },
  {
   "cell_type": "markdown",
   "metadata": {},
   "source": [
    "## Numerical model"
   ]
  },
  {
   "cell_type": "markdown",
   "metadata": {},
   "source": [
    "In this showcase, a numerical model of the admittance matrix will be generated using the mode superposition method which is included in the pyFBS library."
   ]
  },
  {
   "cell_type": "code",
   "execution_count": null,
   "metadata": {},
   "outputs": [
    {
     "name": "stdout",
     "output_type": "stream",
     "text": [
      "[100]\n",
      "[160]\n",
      "[3]\n"
     ]
    }
   ],
   "source": [
    "MK = pyFBS.MK_model(rst_file,full_file,no_modes = 100,recalculate = False, scale=1000)"
   ]
  },
  {
   "cell_type": "markdown",
   "metadata": {},
   "source": [
    "### Show 3D model"
   ]
  },
  {
   "cell_type": "code",
   "execution_count": 5,
   "metadata": {},
   "outputs": [],
   "source": [
    "view3D = pyFBS.display.view3D(show_origin= True)"
   ]
  },
  {
   "cell_type": "code",
   "execution_count": 6,
   "metadata": {},
   "outputs": [],
   "source": [
    "view3D.add_stl(stl,name = \"engine_mount\",color = \"#8FB1CC\",opacity = .1);"
   ]
  },
  {
   "cell_type": "code",
   "execution_count": 7,
   "metadata": {},
   "outputs": [],
   "source": [
    "view3D.plot.add_mesh(MK.mesh, scalars = np.ones(MK.mesh.points.shape[0]) ,name = \"mesh\",cmap = \"coolwarm\", show_edges = True);"
   ]
  },
  {
   "cell_type": "markdown",
   "metadata": {},
   "source": [
    "##### Import and show impact locations"
   ]
  },
  {
   "cell_type": "code",
   "execution_count": 8,
   "metadata": {},
   "outputs": [],
   "source": [
    "df_imp = pd.read_excel(xlsx, sheet_name='Impacts_AB')\n",
    "view3D.show_imp(df_imp)\n",
    "# view3D.label_imp(df_imp)\n",
    "# df_imp"
   ]
  },
  {
   "cell_type": "markdown",
   "metadata": {},
   "source": [
    "##### Import and show response locations"
   ]
  },
  {
   "cell_type": "code",
   "execution_count": 9,
   "metadata": {},
   "outputs": [],
   "source": [
    "df_acc = pd.read_excel(xlsx, sheet_name='Sensors_B')\n",
    "view3D.show_acc(df_acc,overwrite = True)\n",
    "#view3D.label_imp(df_imp)\n",
    "#df_imp"
   ]
  },
  {
   "cell_type": "code",
   "execution_count": 10,
   "metadata": {},
   "outputs": [],
   "source": [
    "df_chn = pd.read_excel(xlsx, sheet_name='Channels_AB')\n",
    "view3D.show_chn(df_chn)\n",
    "# view3D.label_chn(df_chn)\n",
    "# df_chn"
   ]
  },
  {
   "cell_type": "markdown",
   "metadata": {},
   "source": [
    "##### Updated locations of responses and impacts to where nodes actually exist"
   ]
  },
  {
   "cell_type": "code",
   "execution_count": 11,
   "metadata": {},
   "outputs": [],
   "source": [
    "df_chn_up = MK.update_locations_df(df_chn)\n",
    "df_imp_up = MK.update_locations_df(df_imp)"
   ]
  },
  {
   "cell_type": "code",
   "execution_count": 12,
   "metadata": {},
   "outputs": [],
   "source": [
    "# view3D.show_chn(df_chn_up, color = \"k\",overwrite = False)\n",
    "# view3D.show_imp(df_imp_up, color = \"k\",overwrite = False)"
   ]
  },
  {
   "cell_type": "markdown",
   "metadata": {},
   "source": [
    "### FRFs synthetization"
   ]
  },
  {
   "cell_type": "markdown",
   "metadata": {},
   "source": [
    "For the SEMM method, the numerical model should include at least those DoFs that are also included in the experimental model, but additional other DoFs may also be included. In the presented case, the numerical admittance matrix will be generated only for locations where measurements were made. "
   ]
  },
  {
   "cell_type": "code",
   "execution_count": 13,
   "metadata": {},
   "outputs": [],
   "source": [
    "MK.FRF_synth(df_chn,df_imp, \n",
    "             f_start=0,\n",
    "             f_end=2002.5,\n",
    "             f_resolution=2.5,\n",
    "             modal_damping = 0.003,\n",
    "             frf_type = \"accelerance\")"
   ]
  },
  {
   "cell_type": "code",
   "execution_count": 14,
   "metadata": {},
   "outputs": [],
   "source": [
    "Y_num = MK.FRF\n",
    "\n",
    "df_chn_num = df_chn\n",
    "df_imp_num = df_imp"
   ]
  },
  {
   "cell_type": "markdown",
   "metadata": {},
   "source": [
    "## Experimental data import"
   ]
  },
  {
   "cell_type": "code",
   "execution_count": 15,
   "metadata": {},
   "outputs": [],
   "source": [
    "freq, Y_AB_exp = np.load(exp_file, allow_pickle = True)"
   ]
  },
  {
   "cell_type": "code",
   "execution_count": 16,
   "metadata": {},
   "outputs": [],
   "source": [
    "Y_exp = np.transpose(Y_AB_exp[0:15, 5:20, :], (2, 0, 1))\n",
    "\n",
    "df_chn_exp = df_chn[0:15]\n",
    "df_imp_exp = df_imp[5:20]"
   ]
  },
  {
   "cell_type": "markdown",
   "metadata": {},
   "source": [
    "# Identification algorithm"
   ]
  },
  {
   "cell_type": "code",
   "execution_count": 17,
   "metadata": {},
   "outputs": [
    {
     "name": "stderr",
     "output_type": "stream",
     "text": [
      "100%|██████████████████████████████████████████████████████████████████████████████████| 15/15 [00:02<00:00,  5.35it/s]\n"
     ]
    }
   ],
   "source": [
    "FRF_rec, coh = pyFBS.identification_algorithm(Y_num, Y_exp, df_chn_num, df_imp_num, df_chn_exp, df_imp_exp)"
   ]
  },
  {
   "cell_type": "markdown",
   "metadata": {},
   "source": [
    "# Results"
   ]
  },
  {
   "cell_type": "code",
   "execution_count": 18,
   "metadata": {},
   "outputs": [
    {
     "data": {
      "text/html": [
       "\n",
       "<div id=\"altair-viz-ea5c5d19970d4e9291af2be44d32aedc\"></div>\n",
       "<script type=\"text/javascript\">\n",
       "  (function(spec, embedOpt){\n",
       "    let outputDiv = document.currentScript.previousElementSibling;\n",
       "    if (outputDiv.id !== \"altair-viz-ea5c5d19970d4e9291af2be44d32aedc\") {\n",
       "      outputDiv = document.getElementById(\"altair-viz-ea5c5d19970d4e9291af2be44d32aedc\");\n",
       "    }\n",
       "    const paths = {\n",
       "      \"vega\": \"https://cdn.jsdelivr.net/npm//vega@5?noext\",\n",
       "      \"vega-lib\": \"https://cdn.jsdelivr.net/npm//vega-lib?noext\",\n",
       "      \"vega-lite\": \"https://cdn.jsdelivr.net/npm//vega-lite@4.8.1?noext\",\n",
       "      \"vega-embed\": \"https://cdn.jsdelivr.net/npm//vega-embed@6?noext\",\n",
       "    };\n",
       "\n",
       "    function loadScript(lib) {\n",
       "      return new Promise(function(resolve, reject) {\n",
       "        var s = document.createElement('script');\n",
       "        s.src = paths[lib];\n",
       "        s.async = true;\n",
       "        s.onload = () => resolve(paths[lib]);\n",
       "        s.onerror = () => reject(`Error loading script: ${paths[lib]}`);\n",
       "        document.getElementsByTagName(\"head\")[0].appendChild(s);\n",
       "      });\n",
       "    }\n",
       "\n",
       "    function showError(err) {\n",
       "      outputDiv.innerHTML = `<div class=\"error\" style=\"color:red;\">${err}</div>`;\n",
       "      throw err;\n",
       "    }\n",
       "\n",
       "    function displayChart(vegaEmbed) {\n",
       "      vegaEmbed(outputDiv, spec, embedOpt)\n",
       "        .catch(err => showError(`Javascript Error: ${err.message}<br>This usually means there's a typo in your chart specification. See the javascript console for the full traceback.`));\n",
       "    }\n",
       "\n",
       "    if(typeof define === \"function\" && define.amd) {\n",
       "      requirejs.config({paths});\n",
       "      require([\"vega-embed\"], displayChart, err => showError(`Error loading script: ${err.message}`));\n",
       "    } else if (typeof vegaEmbed === \"function\") {\n",
       "      displayChart(vegaEmbed);\n",
       "    } else {\n",
       "      loadScript(\"vega\")\n",
       "        .then(() => loadScript(\"vega-lite\"))\n",
       "        .then(() => loadScript(\"vega-embed\"))\n",
       "        .catch(showError)\n",
       "        .then(() => displayChart(vegaEmbed));\n",
       "    }\n",
       "  })({\"config\": {\"view\": {\"continuousWidth\": 400, \"continuousHeight\": 300}}, \"data\": {\"name\": \"data-8da9914ca6cb27f030adf0b1a597f87a\"}, \"mark\": \"rect\", \"encoding\": {\"color\": {\"type\": \"quantitative\", \"field\": \"rec\", \"legend\": {\"title\": \"Value\"}, \"scale\": {\"scheme\": \"turbo\"}}, \"tooltip\": [{\"type\": \"quantitative\", \"field\": \"rec\", \"format\": \".3f\", \"title\": \"Value\"}], \"x\": {\"type\": \"ordinal\", \"axis\": {\"title\": \"Output DoFs\"}, \"field\": \"x\"}, \"y\": {\"type\": \"ordinal\", \"axis\": {\"title\": \"Input DoFs\"}, \"field\": \"y\"}}, \"height\": 200, \"title\": \"\", \"width\": 200, \"$schema\": \"https://vega.github.io/schema/vega-lite/v4.8.1.json\", \"datasets\": {\"data-8da9914ca6cb27f030adf0b1a597f87a\": [{\"x\": 0, \"y\": 0, \"rec\": 0.5783319525434052}, {\"x\": 1, \"y\": 0, \"rec\": 0.9476853075937445}, {\"x\": 2, \"y\": 0, \"rec\": 0.9180127757968658}, {\"x\": 3, \"y\": 0, \"rec\": 0.9452670997519411}, {\"x\": 4, \"y\": 0, \"rec\": 0.8892754181775271}, {\"x\": 5, \"y\": 0, \"rec\": 0.9063033965524777}, {\"x\": 6, \"y\": 0, \"rec\": 0.8527046989958658}, {\"x\": 7, \"y\": 0, \"rec\": 0.9226504674479115}, {\"x\": 8, \"y\": 0, \"rec\": 0.9569309762631762}, {\"x\": 9, \"y\": 0, \"rec\": 0.9465836517104521}, {\"x\": 10, \"y\": 0, \"rec\": 0.7191701976277705}, {\"x\": 11, \"y\": 0, \"rec\": 0.8713739803090178}, {\"x\": 12, \"y\": 0, \"rec\": 0.6953378267906789}, {\"x\": 13, \"y\": 0, \"rec\": 0.5294382088963461}, {\"x\": 14, \"y\": 0, \"rec\": 0.834672264781421}, {\"x\": 0, \"y\": 1, \"rec\": 0.6256170731044036}, {\"x\": 1, \"y\": 1, \"rec\": 0.967269342646098}, {\"x\": 2, \"y\": 1, \"rec\": 0.9509491554205579}, {\"x\": 3, \"y\": 1, \"rec\": 0.959362870793648}, {\"x\": 4, \"y\": 1, \"rec\": 0.9275202294254499}, {\"x\": 5, \"y\": 1, \"rec\": 0.9444104352455358}, {\"x\": 6, \"y\": 1, \"rec\": 0.9001660322230428}, {\"x\": 7, \"y\": 1, \"rec\": 0.9615680072735598}, {\"x\": 8, \"y\": 1, \"rec\": 0.9618365048471752}, {\"x\": 9, \"y\": 1, \"rec\": 0.9514151498650598}, {\"x\": 10, \"y\": 1, \"rec\": 0.7405926621663514}, {\"x\": 11, \"y\": 1, \"rec\": 0.9106642148499305}, {\"x\": 12, \"y\": 1, \"rec\": 0.736780008491202}, {\"x\": 13, \"y\": 1, \"rec\": 0.5327993746507959}, {\"x\": 14, \"y\": 1, \"rec\": 0.7983458108293983}, {\"x\": 0, \"y\": 2, \"rec\": 0.6221813300756398}, {\"x\": 1, \"y\": 2, \"rec\": 0.9786147181847111}, {\"x\": 2, \"y\": 2, \"rec\": 0.9623840404986332}, {\"x\": 3, \"y\": 2, \"rec\": 0.9733269631410402}, {\"x\": 4, \"y\": 2, \"rec\": 0.9360050857941264}, {\"x\": 5, \"y\": 2, \"rec\": 0.9467692945606788}, {\"x\": 6, \"y\": 2, \"rec\": 0.913430158875053}, {\"x\": 7, \"y\": 2, \"rec\": 0.9704188632406792}, {\"x\": 8, \"y\": 2, \"rec\": 0.95488059972397}, {\"x\": 9, \"y\": 2, \"rec\": 0.9712164402697958}, {\"x\": 10, \"y\": 2, \"rec\": 0.772623654260232}, {\"x\": 11, \"y\": 2, \"rec\": 0.908851795555098}, {\"x\": 12, \"y\": 2, \"rec\": 0.6851727641974031}, {\"x\": 13, \"y\": 2, \"rec\": 0.5871111543728305}, {\"x\": 14, \"y\": 2, \"rec\": 0.7583402537682409}, {\"x\": 0, \"y\": 3, \"rec\": 0.6147154721497177}, {\"x\": 1, \"y\": 3, \"rec\": 0.9800998972810379}, {\"x\": 2, \"y\": 3, \"rec\": 0.9661137454357254}, {\"x\": 3, \"y\": 3, \"rec\": 0.9671841139031135}, {\"x\": 4, \"y\": 3, \"rec\": 0.9129041765743696}, {\"x\": 5, \"y\": 3, \"rec\": 0.9302320416973047}, {\"x\": 6, \"y\": 3, \"rec\": 0.9170899935061354}, {\"x\": 7, \"y\": 3, \"rec\": 0.9692132666725705}, {\"x\": 8, \"y\": 3, \"rec\": 0.9305273206384476}, {\"x\": 9, \"y\": 3, \"rec\": 0.9604391718878795}, {\"x\": 10, \"y\": 3, \"rec\": 0.7994375178440297}, {\"x\": 11, \"y\": 3, \"rec\": 0.9172402880980872}, {\"x\": 12, \"y\": 3, \"rec\": 0.734949008606173}, {\"x\": 13, \"y\": 3, \"rec\": 0.541686437053586}, {\"x\": 14, \"y\": 3, \"rec\": 0.7199411631617643}, {\"x\": 0, \"y\": 4, \"rec\": 0.66224221440617}, {\"x\": 1, \"y\": 4, \"rec\": 0.9718940253342626}, {\"x\": 2, \"y\": 4, \"rec\": 0.9765163851931358}, {\"x\": 3, \"y\": 4, \"rec\": 0.9652106736500449}, {\"x\": 4, \"y\": 4, \"rec\": 0.9372365132219688}, {\"x\": 5, \"y\": 4, \"rec\": 0.9230118220641825}, {\"x\": 6, \"y\": 4, \"rec\": 0.9208956765953712}, {\"x\": 7, \"y\": 4, \"rec\": 0.9433816822992754}, {\"x\": 8, \"y\": 4, \"rec\": 0.9057472186444635}, {\"x\": 9, \"y\": 4, \"rec\": 0.9702750842223539}, {\"x\": 10, \"y\": 4, \"rec\": 0.7586746147459035}, {\"x\": 11, \"y\": 4, \"rec\": 0.8690937602020387}, {\"x\": 12, \"y\": 4, \"rec\": 0.6785037127954205}, {\"x\": 13, \"y\": 4, \"rec\": 0.5043241564848091}, {\"x\": 14, \"y\": 4, \"rec\": 0.8282553703265186}, {\"x\": 0, \"y\": 5, \"rec\": 0.6287029521366104}, {\"x\": 1, \"y\": 5, \"rec\": 0.9901819392951398}, {\"x\": 2, \"y\": 5, \"rec\": 0.9936099516190162}, {\"x\": 3, \"y\": 5, \"rec\": 0.9816884767446433}, {\"x\": 4, \"y\": 5, \"rec\": 0.87919479183116}, {\"x\": 5, \"y\": 5, \"rec\": 0.8321227704004619}, {\"x\": 6, \"y\": 5, \"rec\": 0.8668043678885579}, {\"x\": 7, \"y\": 5, \"rec\": 0.9263614319333309}, {\"x\": 8, \"y\": 5, \"rec\": 0.9443690060830764}, {\"x\": 9, \"y\": 5, \"rec\": 0.9345773189426538}, {\"x\": 10, \"y\": 5, \"rec\": 0.666891411054193}, {\"x\": 11, \"y\": 5, \"rec\": 0.8649979038615914}, {\"x\": 12, \"y\": 5, \"rec\": 0.7412659832061433}, {\"x\": 13, \"y\": 5, \"rec\": 0.5382659446133279}, {\"x\": 14, \"y\": 5, \"rec\": 0.7306130022110916}, {\"x\": 0, \"y\": 6, \"rec\": 0.5431019558713269}, {\"x\": 1, \"y\": 6, \"rec\": 0.9882380298412893}, {\"x\": 2, \"y\": 6, \"rec\": 0.9805058118487859}, {\"x\": 3, \"y\": 6, \"rec\": 0.9753366048747264}, {\"x\": 4, \"y\": 6, \"rec\": 0.8882682230800955}, {\"x\": 5, \"y\": 6, \"rec\": 0.8483904652369406}, {\"x\": 6, \"y\": 6, \"rec\": 0.8686000319518159}, {\"x\": 7, \"y\": 6, \"rec\": 0.9645988638493042}, {\"x\": 8, \"y\": 6, \"rec\": 0.9357721419499401}, {\"x\": 9, \"y\": 6, \"rec\": 0.9671932512069134}, {\"x\": 10, \"y\": 6, \"rec\": 0.7982839525949049}, {\"x\": 11, \"y\": 6, \"rec\": 0.9334062018923014}, {\"x\": 12, \"y\": 6, \"rec\": 0.8068331592250556}, {\"x\": 13, \"y\": 6, \"rec\": 0.5264522892701815}, {\"x\": 14, \"y\": 6, \"rec\": 0.6778730638753083}, {\"x\": 0, \"y\": 7, \"rec\": 0.6347349379632315}, {\"x\": 1, \"y\": 7, \"rec\": 0.9808136129763588}, {\"x\": 2, \"y\": 7, \"rec\": 0.9709517584010325}, {\"x\": 3, \"y\": 7, \"rec\": 0.977387845469428}, {\"x\": 4, \"y\": 7, \"rec\": 0.93223717206924}, {\"x\": 5, \"y\": 7, \"rec\": 0.9168093070910992}, {\"x\": 6, \"y\": 7, \"rec\": 0.9064914386784635}, {\"x\": 7, \"y\": 7, \"rec\": 0.9405195634161062}, {\"x\": 8, \"y\": 7, \"rec\": 0.9053652928296898}, {\"x\": 9, \"y\": 7, \"rec\": 0.932261997986751}, {\"x\": 10, \"y\": 7, \"rec\": 0.7153220563843389}, {\"x\": 11, \"y\": 7, \"rec\": 0.851875480886514}, {\"x\": 12, \"y\": 7, \"rec\": 0.7142674832851799}, {\"x\": 13, \"y\": 7, \"rec\": 0.6251949815592498}, {\"x\": 14, \"y\": 7, \"rec\": 0.8228506146276411}, {\"x\": 0, \"y\": 8, \"rec\": 0.5297689103999723}, {\"x\": 1, \"y\": 8, \"rec\": 0.9917561963979195}, {\"x\": 2, \"y\": 8, \"rec\": 0.9898336878725411}, {\"x\": 3, \"y\": 8, \"rec\": 0.9798035760071128}, {\"x\": 4, \"y\": 8, \"rec\": 0.8967812776286517}, {\"x\": 5, \"y\": 8, \"rec\": 0.8132951144308942}, {\"x\": 6, \"y\": 8, \"rec\": 0.8570954809498362}, {\"x\": 7, \"y\": 8, \"rec\": 0.9297843318862469}, {\"x\": 8, \"y\": 8, \"rec\": 0.9453809444245159}, {\"x\": 9, \"y\": 8, \"rec\": 0.9674018212367088}, {\"x\": 10, \"y\": 8, \"rec\": 0.718672095402877}, {\"x\": 11, \"y\": 8, \"rec\": 0.8879556280941193}, {\"x\": 12, \"y\": 8, \"rec\": 0.7838157358654486}, {\"x\": 13, \"y\": 8, \"rec\": 0.5240639096971056}, {\"x\": 14, \"y\": 8, \"rec\": 0.6943035768478899}, {\"x\": 0, \"y\": 9, \"rec\": 0.5614929111781845}, {\"x\": 1, \"y\": 9, \"rec\": 0.9898808036725018}, {\"x\": 2, \"y\": 9, \"rec\": 0.9926646631190167}, {\"x\": 3, \"y\": 9, \"rec\": 0.9713380558539947}, {\"x\": 4, \"y\": 9, \"rec\": 0.8938965220403253}, {\"x\": 5, \"y\": 9, \"rec\": 0.840485716891673}, {\"x\": 6, \"y\": 9, \"rec\": 0.8201733866323785}, {\"x\": 7, \"y\": 9, \"rec\": 0.9106880711466457}, {\"x\": 8, \"y\": 9, \"rec\": 0.9358072571502128}, {\"x\": 9, \"y\": 9, \"rec\": 0.9698508530254822}, {\"x\": 10, \"y\": 9, \"rec\": 0.7135703192301069}, {\"x\": 11, \"y\": 9, \"rec\": 0.8904326805836875}, {\"x\": 12, \"y\": 9, \"rec\": 0.7978958191732328}, {\"x\": 13, \"y\": 9, \"rec\": 0.558543487059466}, {\"x\": 14, \"y\": 9, \"rec\": 0.6925761606489161}, {\"x\": 0, \"y\": 10, \"rec\": 0.6019462349178757}, {\"x\": 1, \"y\": 10, \"rec\": 0.9647704229209214}, {\"x\": 2, \"y\": 10, \"rec\": 0.9643511982440871}, {\"x\": 3, \"y\": 10, \"rec\": 0.9624418927397851}, {\"x\": 4, \"y\": 10, \"rec\": 0.9284394838847992}, {\"x\": 5, \"y\": 10, \"rec\": 0.9534404308676016}, {\"x\": 6, \"y\": 10, \"rec\": 0.9090481842749476}, {\"x\": 7, \"y\": 10, \"rec\": 0.9407137711672926}, {\"x\": 8, \"y\": 10, \"rec\": 0.9343992517904249}, {\"x\": 9, \"y\": 10, \"rec\": 0.9627600060962013}, {\"x\": 10, \"y\": 10, \"rec\": 0.7592317323103864}, {\"x\": 11, \"y\": 10, \"rec\": 0.8922352385472815}, {\"x\": 12, \"y\": 10, \"rec\": 0.6779970074052498}, {\"x\": 13, \"y\": 10, \"rec\": 0.5013348526335801}, {\"x\": 14, \"y\": 10, \"rec\": 0.777683882338195}, {\"x\": 0, \"y\": 11, \"rec\": 0.6683325223919668}, {\"x\": 1, \"y\": 11, \"rec\": 0.9797593070025953}, {\"x\": 2, \"y\": 11, \"rec\": 0.9655187896879035}, {\"x\": 3, \"y\": 11, \"rec\": 0.9742177473271475}, {\"x\": 4, \"y\": 11, \"rec\": 0.9190881081162718}, {\"x\": 5, \"y\": 11, \"rec\": 0.8873664778843623}, {\"x\": 6, \"y\": 11, \"rec\": 0.8743783580991333}, {\"x\": 7, \"y\": 11, \"rec\": 0.9613130872997576}, {\"x\": 8, \"y\": 11, \"rec\": 0.9643604421770177}, {\"x\": 9, \"y\": 11, \"rec\": 0.9864102958103652}, {\"x\": 10, \"y\": 11, \"rec\": 0.7744792053457924}, {\"x\": 11, \"y\": 11, \"rec\": 0.9163369333130549}, {\"x\": 12, \"y\": 11, \"rec\": 0.7575701853212499}, {\"x\": 13, \"y\": 11, \"rec\": 0.5748060907266308}, {\"x\": 14, \"y\": 11, \"rec\": 0.8110916035928069}, {\"x\": 0, \"y\": 12, \"rec\": 0.6167816551725347}, {\"x\": 1, \"y\": 12, \"rec\": 0.9917036469604312}, {\"x\": 2, \"y\": 12, \"rec\": 0.9881783236639107}, {\"x\": 3, \"y\": 12, \"rec\": 0.9749305387370243}, {\"x\": 4, \"y\": 12, \"rec\": 0.9145790584663652}, {\"x\": 5, \"y\": 12, \"rec\": 0.8594036809392502}, {\"x\": 6, \"y\": 12, \"rec\": 0.8760633962561907}, {\"x\": 7, \"y\": 12, \"rec\": 0.9133640187267352}, {\"x\": 8, \"y\": 12, \"rec\": 0.9478097414915069}, {\"x\": 9, \"y\": 12, \"rec\": 0.9542073837864673}, {\"x\": 10, \"y\": 12, \"rec\": 0.7312788062601984}, {\"x\": 11, \"y\": 12, \"rec\": 0.8691969113224716}, {\"x\": 12, \"y\": 12, \"rec\": 0.7220448665583111}, {\"x\": 13, \"y\": 12, \"rec\": 0.5610489110716914}, {\"x\": 14, \"y\": 12, \"rec\": 0.7247797607856601}, {\"x\": 0, \"y\": 13, \"rec\": 0.6064507876094947}, {\"x\": 1, \"y\": 13, \"rec\": 0.9406607312702608}, {\"x\": 2, \"y\": 13, \"rec\": 0.9178683090924051}, {\"x\": 3, \"y\": 13, \"rec\": 0.9442721414208385}, {\"x\": 4, \"y\": 13, \"rec\": 0.8814756319550795}, {\"x\": 5, \"y\": 13, \"rec\": 0.8711453075455}, {\"x\": 6, \"y\": 13, \"rec\": 0.9094749861957003}, {\"x\": 7, \"y\": 13, \"rec\": 0.9694111735621593}, {\"x\": 8, \"y\": 13, \"rec\": 0.9494439313808601}, {\"x\": 9, \"y\": 13, \"rec\": 0.9605527020540662}, {\"x\": 10, \"y\": 13, \"rec\": 0.8164249731394366}, {\"x\": 11, \"y\": 13, \"rec\": 0.9201903358696101}, {\"x\": 12, \"y\": 13, \"rec\": 0.7767985727167115}, {\"x\": 13, \"y\": 13, \"rec\": 0.5651315523287006}, {\"x\": 14, \"y\": 13, \"rec\": 0.8111297531754134}, {\"x\": 0, \"y\": 14, \"rec\": 0.6552980709993389}, {\"x\": 1, \"y\": 14, \"rec\": 0.9808092391039271}, {\"x\": 2, \"y\": 14, \"rec\": 0.9478755840979408}, {\"x\": 3, \"y\": 14, \"rec\": 0.9561765289250634}, {\"x\": 4, \"y\": 14, \"rec\": 0.9435041447503264}, {\"x\": 5, \"y\": 14, \"rec\": 0.9082908270475186}, {\"x\": 6, \"y\": 14, \"rec\": 0.8891735091627497}, {\"x\": 7, \"y\": 14, \"rec\": 0.9347405607895761}, {\"x\": 8, \"y\": 14, \"rec\": 0.869942221820883}, {\"x\": 9, \"y\": 14, \"rec\": 0.9329050044155215}, {\"x\": 10, \"y\": 14, \"rec\": 0.7376580815224048}, {\"x\": 11, \"y\": 14, \"rec\": 0.8412514439593383}, {\"x\": 12, \"y\": 14, \"rec\": 0.6588625177458912}, {\"x\": 13, \"y\": 14, \"rec\": 0.5711213959500385}, {\"x\": 14, \"y\": 14, \"rec\": 0.8697129308219531}]}}, {\"mode\": \"vega-lite\"});\n",
       "</script>"
      ],
      "text/plain": [
       "alt.Chart(...)"
      ]
     },
     "execution_count": 18,
     "metadata": {},
     "output_type": "execute_result"
    }
   ],
   "source": [
    "pyFBS.imshow(np.average(coh, axis=0))"
   ]
  },
  {
   "cell_type": "code",
   "execution_count": 19,
   "metadata": {},
   "outputs": [
    {
     "data": {
      "text/plain": [
       "[<matplotlib.lines.Line2D at 0x2c1d1053d90>]"
      ]
     },
     "execution_count": 19,
     "metadata": {},
     "output_type": "execute_result"
    },
    {
     "data": {
      "image/png": "[encoded data removed]",
      "text/plain": [
       "<Figure size 432x288 with 1 Axes>"
      ]
     },
     "metadata": {
      "needs_background": "light"
     },
     "output_type": "display_data"
    }
   ],
   "source": [
    "o = 0\n",
    "i = 1\n",
    "\n",
    "plt.semilogy(freq, np.abs(Y_exp[:,o,i]))\n",
    "plt.semilogy(freq, np.abs(FRF_rec[:,o,i]))"
   ]
  },
  {
   "cell_type": "code",
   "execution_count": 20,
   "metadata": {},
   "outputs": [
    {
     "data": {
      "text/plain": [
       "[<matplotlib.lines.Line2D at 0x2c1d84d1850>]"
      ]
     },
     "execution_count": 20,
     "metadata": {},
     "output_type": "execute_result"
    },
    {
     "data": {
      "image/png": "[encoded data removed]",
      "text/plain": [
       "<Figure size 432x288 with 1 Axes>"
      ]
     },
     "metadata": {
      "needs_background": "light"
     },
     "output_type": "display_data"
    }
   ],
   "source": [
    "o = 0\n",
    "i = 0\n",
    "\n",
    "plt.semilogy(freq, np.abs(Y_exp[:,o,i]))\n",
    "plt.semilogy(freq, np.abs(FRF_rec[:,o,i]))"
   ]
  }
 ],
 "metadata": {
  "kernelspec": {
   "display_name": "Python 3",
   "language": "python",
   "name": "python3"
  },
  "language_info": {
   "codemirror_mode": {
    "name": "ipython",
    "version": 3
   },
   "file_extension": ".py",
   "mimetype": "text/x-python",
   "name": "python",
   "nbconvert_exporter": "python",
   "pygments_lexer": "ipython3",
   "version": "3.8.8"
  }
 },
 "nbformat": 4,
 "nbformat_minor": 4
}
