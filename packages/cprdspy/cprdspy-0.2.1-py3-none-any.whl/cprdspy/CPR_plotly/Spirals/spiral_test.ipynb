{
 "cells": [
  {
   "cell_type": "code",
   "execution_count": 1,
   "id": "951c48a4",
   "metadata": {},
   "outputs": [],
   "source": [
    "from spiral_config import *\n",
    "import numpy as np"
   ]
  },
  {
   "cell_type": "code",
   "execution_count": null,
   "id": "4ebd4b4e",
   "metadata": {},
   "outputs": [],
   "source": [
    "n_spiral_rotate(3,1,'#0f0',np.pi/6,0,\"both\")"
   ]
  },
  {
   "cell_type": "code",
   "execution_count": null,
   "id": "f132af7c",
   "metadata": {},
   "outputs": [],
   "source": [
    "from spiral_config import logSpiral\n",
    "\n",
    "# 基本用法\n",
    "fig = logSpiral(\n",
    "    n=4,  # 螺旋参数\n",
    "    cyc=2,  # 圈数\n",
    "    color=\"blue\",  # 颜色\n",
    "    direction=\"both\",  # 螺旋方向：both/in/out\n",
    "    symmetry=True,  # 是否对称\n",
    "    theta=0,  # 相位角\n",
    ").show()\n",
    "\n",
    "# 向内螺旋\n",
    "fig = logSpiral(n=4, cyc=2, direction=\"in\").show()\n",
    "# 或使用兼容函数\n",
    "fig = logSpiral_in(n=4, cyc=2)\n",
    "fig.show()"
   ]
  },
  {
   "cell_type": "code",
   "execution_count": null,
   "id": "72358673",
   "metadata": {},
   "outputs": [],
   "source": [
    "from spiral_config import *\n",
    "rodincoil_colorful(R=1, r=2, n=10, colors=[\"red\", \"green\", \"blue\", \"yellow\", \"purple\"]*2, theta=0, width=1, opacity=0.5)"
   ]
  },
  {
   "cell_type": "code",
   "execution_count": null,
   "id": "2ae65f33",
   "metadata": {},
   "outputs": [],
   "source": [
    "rodincoil(1,2,12,\"#0f0\",0)"
   ]
  },
  {
   "cell_type": "code",
   "execution_count": null,
   "id": "32fef53c",
   "metadata": {},
   "outputs": [],
   "source": [
    "chrysanthemum_by_petal(\n",
    "    n=5,  # 花瓣数\n",
    "    cyc=3,  # 圈数\n",
    "    N=12,\n",
    "    colors=[\"red\",\"orange\",\"yellow\",\"green\",\"cyan\",\"blue\"]*2,  # 颜色\n",
    "    theta=0,  # 相位角\n",
    ").show()"
   ]
  },
  {
   "cell_type": "code",
   "execution_count": null,
   "id": "6e637e98",
   "metadata": {},
   "outputs": [],
   "source": [
    "chrysanthemum_petal(\n",
    "    n=4,\n",
    "    cyc=1,\n",
    "    theta=0,\n",
    "    color=\"red\",\n",
    "    width=2,\n",
    "    opacity=0.5,\n",
    "    # num_points=100000,\n",
    ")"
   ]
  },
  {
   "cell_type": "code",
   "execution_count": null,
   "id": "4c0b5d03",
   "metadata": {},
   "outputs": [],
   "source": [
    "logSpiral(\n",
    "    n=4,  # 螺旋参数\n",
    "    cyc=1,  # 圈数\n",
    "    color=\"blue\",  # 颜色\n",
    "    direction=\"both\",  # 螺旋方向：both/in/out\n",
    "    symmetry=True,  # 是否对称\n",
    "    theta=0.5*np.pi,  # 相位角\n",
    "    num_points=100000,  # 点的数量  \n",
    ")"
   ]
  },
  {
   "cell_type": "code",
   "execution_count": null,
   "id": "c3d738e9",
   "metadata": {},
   "outputs": [],
   "source": [
    "n_spiral(3,12,1,\"blue\",0,True,1,0.5)"
   ]
  },
  {
   "cell_type": "code",
   "execution_count": null,
   "id": "498f2621",
   "metadata": {},
   "outputs": [
    {
     "ename": "",
     "evalue": "",
     "output_type": "error",
     "traceback": [
      "\u001b[1;31m在当前单元格或上一个单元格中执行代码时 Kernel 崩溃。\n",
      "\u001b[1;31m请查看单元格中的代码，以确定故障的可能原因。\n",
      "\u001b[1;31m单击<a href='https://aka.ms/vscodeJupyterKernelCrash'>此处</a>了解详细信息。\n",
      "\u001b[1;31m有关更多详细信息，请查看 Jupyter <a href='command:jupyter.viewOutput'>log</a>。"
     ]
    }
   ],
   "source": [
    "n_spiral_rotate(\n",
    "    4,6,1,'#0f0',np.pi/12,0,\"both\",num_points=100000, symmetry=True, width=1, opacity=0.5\n",
    ")"
   ]
  },
  {
   "cell_type": "code",
   "execution_count": null,
   "id": "b7c8c7ce",
   "metadata": {},
   "outputs": [],
   "source": []
  }
 ],
 "metadata": {
  "kernelspec": {
   "display_name": ".venv",
   "language": "python",
   "name": "python3"
  },
  "language_info": {
   "codemirror_mode": {
    "name": "ipython",
    "version": 3
   },
   "file_extension": ".py",
   "mimetype": "text/x-python",
   "name": "python",
   "nbconvert_exporter": "python",
   "pygments_lexer": "ipython3",
   "version": "3.13.2"
  }
 },
 "nbformat": 4,
 "nbformat_minor": 5
}
