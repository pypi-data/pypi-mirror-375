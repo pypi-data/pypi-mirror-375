{
 "cells": [
  {
   "cell_type": "markdown",
   "id": "6611e6d6",
   "metadata": {},
   "source": [
    "单元测试：验证 `plcoding.research.monotone` 模块中的 `MCLIterator` 类是否工作正常，它实现了极化码的高效列表译码，既可以用于单调链极化码，又可以用于经典的极化码"
   ]
  },
  {
   "cell_type": "code",
   "execution_count": 1,
   "id": "d8d9b488",
   "metadata": {},
   "outputs": [],
   "source": [
    "import plcoding\n",
    "from plcoding.research import monotone\n",
    "import numpy as np\n",
    "from tqdm import trange"
   ]
  },
  {
   "cell_type": "code",
   "execution_count": 2,
   "id": "a0cc6ad8",
   "metadata": {},
   "outputs": [],
   "source": [
    "# 生成一个概率分布\n",
    "jProb = monotone.JointProb(probs=[0.1286, 0.0175, 0.0175, 0.8364], bases=[2, 2])\n",
    "#jProb = monotone.JointProb(probs=[0.11, 0.89], bases=[2])\n",
    "# 初始化一个极化变换上的列表迭代器对象\n",
    "pIter = monotone.MCLIterator(block_len=(1 << 10), jProb=jProb, list_size=4)\n",
    "pIter.set_priors(jProb.gen_iids(pIter.N))\n",
    "# 生成一条单调链\n",
    "superscripts = np.tile(np.arange(jProb.M), (pIter.N, 1)).T.ravel()\n",
    "#np.random.shuffle(superscripts)\n",
    "chain = monotone.MNChain(sups=superscripts, M=jProb.M, N=pIter.N)"
   ]
  },
  {
   "cell_type": "markdown",
   "id": "c1e199de",
   "metadata": {},
   "source": [
    "我们要绘制译码的BLER-Rate曲线，但不同于经典极化码的是，单调链极化码处理多个信源，每个信源都有一个对应的码率，所以我们这里采用一个技巧，将它们的码率等比例增加，对应的曲线横轴含义为和速率Sum-Rate"
   ]
  },
  {
   "cell_type": "code",
   "execution_count": 3,
   "id": "71db1051",
   "metadata": {},
   "outputs": [],
   "source": [
    "# 获取两个信源的信息分配比例（单位比特）\n",
    "Hs = chain.polarize(jProb, _nsim=100)\n",
    "ratio = Hs.mean(axis=1)\n",
    "ratio /= ratio.sum()\n",
    "# 从理论界开始，逐渐增加比特，并按照比例进行分配\n",
    "test_rates = np.arange(start=1, stop=2, step=0.1) * jProb.joint_entropy()\n",
    "test_blers = np.zeros_like(test_rates)"
   ]
  },
  {
   "cell_type": "code",
   "execution_count": 4,
   "id": "07caeb12",
   "metadata": {},
   "outputs": [
    {
     "name": "stderr",
     "output_type": "stream",
     "text": [
      "100%|███████████████████████████████████████████| 10/10 [01:58<00:00, 11.80s/it]\n"
     ]
    }
   ],
   "source": [
    "# 对每个测试码率，仿真多轮\n",
    "for r in trange(len(test_rates), ncols=80):\n",
    "    # 先针对当前测试码率，生成对应的冻结集\n",
    "    test_L = np.array(test_rates[r] * ratio / np.array([np.log2(q) for q in jProb.bases]) * pIter.N, dtype=int)\n",
    "    frozen = np.empty_like(Hs, dtype=bool)\n",
    "    for var in range(jProb.M):\n",
    "        frozen[var, :] = plcoding.topk_indicate(Hs[var, :], test_L[var])\n",
    "    # 然后仿真多轮\n",
    "    nsim = 100\n",
    "    for s in range(nsim):\n",
    "        # 随机生成码字\n",
    "        x = np.random.choice(a=jProb.size, p=jProb.probs, size=(pIter.N,))\n",
    "        xs = pIter.split_on(x)\n",
    "        us = pIter.transform(xs)\n",
    "        # 译码开始\n",
    "        pIter.reset()\n",
    "        for t in range(len(chain)):\n",
    "            var, index = chain.sups[t], chain.subs[t]\n",
    "            if frozen[var, index]:\n",
    "                pIter.freeze_with(var, index, us[var, index])\n",
    "            else:\n",
    "                pIter.explore_at(var, index)\n",
    "        # 译码结束，检查BLER\n",
    "        results = pIter.final_list()\n",
    "        llhs = pIter.final_llhs()\n",
    "        test_blers[r] += (results[np.argmax(llhs)] != xs).any() / nsim"
   ]
  },
  {
   "cell_type": "code",
   "execution_count": 5,
   "id": "5901bd88",
   "metadata": {},
   "outputs": [
    {
     "data": {
      "image/png": "[encoded data removed]",
      "text/plain": [
       "<Figure size 600x300 with 1 Axes>"
      ]
     },
     "metadata": {},
     "output_type": "display_data"
    }
   ],
   "source": [
    "# 绘制BLER-Rate曲线\n",
    "from matplotlib import pyplot as plt\n",
    "plt.figure(figsize=[6, 3])\n",
    "plt.semilogy(test_rates, test_blers)\n",
    "plt.axis([np.min(test_rates), np.max(test_rates), 1.0 / nsim, 1.0])\n",
    "plt.grid(); plt.show()"
   ]
  }
 ],
 "metadata": {
  "kernelspec": {
   "display_name": "rzc_d2l",
   "language": "python",
   "name": "python3"
  },
  "language_info": {
   "codemirror_mode": {
    "name": "ipython",
    "version": 3
   },
   "file_extension": ".py",
   "mimetype": "text/x-python",
   "name": "python",
   "nbconvert_exporter": "python",
   "pygments_lexer": "ipython3",
   "version": "3.11.11"
  }
 },
 "nbformat": 4,
 "nbformat_minor": 5
}
