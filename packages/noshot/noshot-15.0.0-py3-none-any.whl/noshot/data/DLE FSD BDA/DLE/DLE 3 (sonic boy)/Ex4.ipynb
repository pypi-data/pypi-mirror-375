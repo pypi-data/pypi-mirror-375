{
 "cells": [
  {
   "cell_type": "code",
   "execution_count": null,
   "id": "6a60369e-1161-4281-b04d-f0168bf5ef7f",
   "metadata": {},
   "outputs": [],
   "source": [
    "import tensorflow as tf\n",
    "from tensorflow.keras.preprocessing.image import ImageDataGenerator\n",
    "from tensorflow.keras.layers import Conv2D, MaxPooling2D, Conv2DTranspose, Input\n",
    "from tensorflow.keras.models import Model\n",
    "import matplotlib.pyplot as plt\n",
    "import numpy as np"
   ]
  },
  {
   "cell_type": "code",
   "execution_count": null,
   "id": "b1c3acba-dff0-4bbb-9b35-16f18d36f84f",
   "metadata": {},
   "outputs": [],
   "source": [
    "# Paths to images and masks directories\n",
    "image_dir = r\"D:\\Neeraj\\SEM 7\\DLE LAB\\Banana FCN\\Banana FCN\\Images\"\n",
    "mask_dir = r\"D:\\Neeraj\\SEM 7\\DLE LAB\\Banana FCN\\Banana FCN\\Mask\"\n",
    "\n",
    "# Image and mask data generators\n",
    "image_datagen = ImageDataGenerator(rescale=1./255)\n",
    "mask_datagen = ImageDataGenerator(rescale=1./255)"
   ]
  },
  {
   "cell_type": "code",
   "execution_count": null,
   "id": "a25255b3-ad4f-4037-8ca7-e66572ac6352",
   "metadata": {},
   "outputs": [],
   "source": [
    "image_generator = image_datagen.flow_from_directory(\n",
    "    image_dir,\n",
    "    class_mode=None,\n",
    "    color_mode='rgb',\n",
    "    target_size=(128, 128),\n",
    "    batch_size=8,\n",
    "    seed=42\n",
    ")"
   ]
  },
  {
   "cell_type": "code",
   "execution_count": null,
   "id": "f06864c7-8962-44f8-a51f-89e29335eab8",
   "metadata": {},
   "outputs": [],
   "source": [
    "mask_generator = mask_datagen.flow_from_directory(\n",
    "    mask_dir,\n",
    "    class_mode=None,\n",
    "    color_mode='grayscale',\n",
    "    target_size=(128, 128),\n",
    "    batch_size=8,\n",
    "    seed=42\n",
    ")"
   ]
  },
  {
   "cell_type": "code",
   "execution_count": null,
   "id": "2ab0717a-efb1-4178-b1a3-da50bff63147",
   "metadata": {},
   "outputs": [],
   "source": [
    "# Combine generators into one which yields image and mask\n",
    "train_generator = zip(image_generator, mask_generator)"
   ]
  },
  {
   "cell_type": "code",
   "execution_count": null,
   "id": "c07463ee-7151-49b9-b62f-b7cd750fbae9",
   "metadata": {},
   "outputs": [],
   "source": [
    "def build_fcnn():\n",
    "    inputs = Input((128, 128, 3))\n",
    "\n",
    "    # Encoder\n",
    "    conv1 = Conv2D(128, (3, 3), activation='relu', padding='same')(inputs)\n",
    "    pool1 = MaxPooling2D((2, 2))(conv1)\n",
    "\n",
    "    conv2 = Conv2D(256, (3, 3), activation='relu', padding='same')(pool1)\n",
    "    pool2 = MaxPooling2D((2, 2))(conv2)\n",
    "\n",
    "    # Decoder\n",
    "    conv3 = Conv2D(256, (3, 3), activation='relu', padding='same')(pool2)\n",
    "    up1 = Conv2DTranspose(128, (2, 2), strides=(2, 2), padding='same')(conv3)\n",
    "\n",
    "    conv4 = Conv2D(128, (3, 3), activation='relu', padding='same')(up1)\n",
    "    up2 = Conv2DTranspose(64, (2, 2), strides=(2, 2), padding='same')(conv4)\n",
    "\n",
    "    outputs = Conv2D(1, (1, 1), activation='sigmoid', padding='same')(up2)\n",
    "\n",
    "    model = Model(inputs, outputs)\n",
    "    return model\n",
    "\n",
    "model = build_fcnn()\n",
    "model.compile(optimizer='adam', loss='binary_crossentropy', metrics=['accuracy'])\n",
    "model.summary()"
   ]
  },
  {
   "cell_type": "code",
   "execution_count": null,
   "id": "6fd59bd5-ef68-4245-8f38-6d07f0d1168e",
   "metadata": {},
   "outputs": [],
   "source": [
    "# Train the FCNN model\n",
    "def combined_generator(image_gen, mask_gen):\n",
    "    while True:  # Keep yielding data indefinitely\n",
    "        img_batch = next(image_gen)\n",
    "        mask_batch = next(mask_gen)\n",
    "        yield img_batch, mask_batch  # Keras expects (input, target)\n",
    "# Fit the model with the custom generator\n",
    "train_generator = combined_generator(image_generator, mask_generator)\n",
    "model.fit(train_generator, steps_per_epoch=len(image_generator), epochs=5)"
   ]
  },
  {
   "cell_type": "code",
   "execution_count": null,
   "id": "77a2606d-0d22-4c8c-95cf-df9c4ddec7ae",
   "metadata": {},
   "outputs": [],
   "source": [
    "# Sample image for prediction\n",
    "sample_image = image_generator[0][0]\n",
    "predicted_mask = model.predict(np.expand_dims(sample_image, axis=0))[0]\n",
    "\n",
    "# Display the original image and predicted mask\n",
    "plt.figure(figsize=(10, 5))\n",
    "\n",
    "plt.subplot(1, 2, 1)\n",
    "plt.title(\"Original Image\")\n",
    "plt.imshow(sample_image)\n",
    "\n",
    "plt.subplot(1, 2, 2)\n",
    "plt.title(\"Predicted Mask\")\n",
    "plt.imshow(predicted_mask.squeeze(), cmap='gray')\n",
    "\n",
    "plt.show()"
   ]
  },
  {
   "cell_type": "code",
   "execution_count": null,
   "id": "87630680-a078-42f4-92bd-cce91efe2d0f",
   "metadata": {},
   "outputs": [],
   "source": []
  }
 ],
 "metadata": {
  "kernelspec": {
   "display_name": "Python 3 (ipykernel)",
   "language": "python",
   "name": "python3"
  },
  "language_info": {
   "codemirror_mode": {
    "name": "ipython",
    "version": 3
   },
   "file_extension": ".py",
   "mimetype": "text/x-python",
   "name": "python",
   "nbconvert_exporter": "python",
   "pygments_lexer": "ipython3",
   "version": "3.12.4"
  }
 },
 "nbformat": 4,
 "nbformat_minor": 5
}
