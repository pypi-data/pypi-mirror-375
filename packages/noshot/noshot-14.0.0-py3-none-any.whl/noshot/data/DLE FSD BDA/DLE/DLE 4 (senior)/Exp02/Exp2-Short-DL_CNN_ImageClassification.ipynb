{
 "cells": [
  {
   "cell_type": "markdown",
   "id": "6b08756f",
   "metadata": {},
   "source": [
    "# Apply convolutional neural network for the same image classification dataset and compare DNN and CNN in terms of parameters and performance"
   ]
  },
  {
   "cell_type": "code",
   "execution_count": null,
   "id": "a0bfab06-b12f-46b6-818f-a9ccddb17f74",
   "metadata": {
    "id": "a0bfab06-b12f-46b6-818f-a9ccddb17f74",
    "outputId": "7fce260d-6542-45ae-9331-ef2fbd3276ed"
   },
   "outputs": [],
   "source": [
    "!pip install Kaggle\n",
    "!pip install opendatasets\n",
    "import opendatasets as od\n",
    "import pandas\n",
    "od.download(\n",
    "    \"https://www.kaggle.com/datasets/prakharrastogi534/bean-leaf-dataset/data\",force=True)"
   ]
  },
  {
   "cell_type": "code",
   "execution_count": null,
   "id": "83ef5252-c7dc-480c-b6e1-999465440421",
   "metadata": {
    "id": "83ef5252-c7dc-480c-b6e1-999465440421",
    "outputId": "a53c12e9-9ec1-4dfc-846b-1fbb826ab20a"
   },
   "outputs": [],
   "source": [
    "!pip install tensorflow"
   ]
  },
  {
   "cell_type": "code",
   "execution_count": null,
   "id": "08d18c5b-917f-44eb-8051-d23126b7770a",
   "metadata": {
    "id": "08d18c5b-917f-44eb-8051-d23126b7770a",
    "outputId": "151c6f85-1b99-479b-a14b-8201af5f547f"
   },
   "outputs": [],
   "source": [
    "import tensorflow as tf\n",
    "import tensorflow as tf\n",
    "from tensorflow.keras import layers, models\n",
    "from tensorflow.keras.preprocessing.image import ImageDataGenerator\n",
    "import matplotlib.pyplot as plt\n",
    "import seaborn as sns\n",
    "import numpy as np\n",
    "from sklearn.metrics import classification_report, confusion_matrix"
   ]
  },
  {
   "cell_type": "code",
   "execution_count": null,
   "id": "d0f0c066-4d98-43f4-9ece-f12da6c4ff94",
   "metadata": {
    "id": "d0f0c066-4d98-43f4-9ece-f12da6c4ff94"
   },
   "outputs": [],
   "source": [
    "train_dir=r'C:\\Users\\User\\Documents\\Jupyternotebookprgs\\bean-leaf-dataset\\train\\train'\n",
    "validation_dir=r'C:\\Users\\User\\Documents\\Jupyternotebookprgs\\bean-leaf-dataset\\validation\\validation'\n",
    "test_dir=r'C:\\Users\\User\\Documents\\Jupyternotebookprgs\\bean-leaf-dataset\\test\\test'"
   ]
  },
  {
   "cell_type": "code",
   "execution_count": null,
   "id": "be68a49f-7284-4481-a776-742218a276a7",
   "metadata": {
    "id": "be68a49f-7284-4481-a776-742218a276a7"
   },
   "outputs": [],
   "source": [
    "train_datagen = ImageDataGenerator(\n",
    "    rescale=1./255,\n",
    "    rotation_range=40,\n",
    "    width_shift_range=0.2,\n",
    "    height_shift_range=0.2,\n",
    "    shear_range=0.2,\n",
    "    zoom_range=0.2,\n",
    "    horizontal_flip=True,\n",
    "    fill_mode='nearest'\n",
    ")"
   ]
  },
  {
   "cell_type": "code",
   "execution_count": null,
   "id": "25f04809-f073-4748-a87c-0771b6b89f9a",
   "metadata": {
    "id": "25f04809-f073-4748-a87c-0771b6b89f9a"
   },
   "outputs": [],
   "source": [
    "validation_datagen = ImageDataGenerator(rescale=1./255)\n",
    "test_datagen = ImageDataGenerator(rescale=1./255)"
   ]
  },
  {
   "cell_type": "code",
   "execution_count": null,
   "id": "36a6ed4a-e961-47e8-9225-292e7298cb8d",
   "metadata": {
    "id": "36a6ed4a-e961-47e8-9225-292e7298cb8d",
    "outputId": "ae5a6d17-8f5e-4536-86ce-c52fb059f097"
   },
   "outputs": [],
   "source": [
    "train_generator = train_datagen.flow_from_directory(\n",
    "    train_dir, target_size=(150, 150), batch_size=32, class_mode='sparse'\n",
    ")"
   ]
  },
  {
   "cell_type": "code",
   "execution_count": null,
   "id": "a0e150d9-8057-4c07-be06-966bbe6e26a3",
   "metadata": {
    "id": "a0e150d9-8057-4c07-be06-966bbe6e26a3",
    "outputId": "a77a76ff-fd24-451f-a18e-5e0122b86bfc"
   },
   "outputs": [],
   "source": [
    "validation_generator = validation_datagen.flow_from_directory(\n",
    "    validation_dir, target_size=(150, 150), batch_size=32, class_mode='sparse'\n",
    ")"
   ]
  },
  {
   "cell_type": "code",
   "execution_count": null,
   "id": "4cef37dc-3af1-49c3-9f7d-134687400a01",
   "metadata": {
    "id": "4cef37dc-3af1-49c3-9f7d-134687400a01",
    "outputId": "25405fdf-d8c0-4b68-9159-707f94ce98d0"
   },
   "outputs": [],
   "source": [
    "test_generator = test_datagen.flow_from_directory(\n",
    "    test_dir, target_size=(150, 150), batch_size=32, class_mode='sparse', shuffle=False\n",
    ")\n"
   ]
  },
  {
   "cell_type": "code",
   "execution_count": null,
   "id": "5139b795",
   "metadata": {
    "id": "5139b795",
    "outputId": "67351a99-3612-4fee-d795-791b25efe8bc"
   },
   "outputs": [],
   "source": [
    "class_names = list(test_generator.class_indices.keys())\n",
    "class_names"
   ]
  },
  {
   "cell_type": "code",
   "execution_count": null,
   "id": "2ee841f4-6d52-4aeb-8db4-1ccd907d7b7a",
   "metadata": {
    "id": "2ee841f4-6d52-4aeb-8db4-1ccd907d7b7a",
    "outputId": "bdba5bd7-949e-4031-8e00-0c2ddb03e1e1"
   },
   "outputs": [],
   "source": [
    "model = models.Sequential([\n",
    "    layers.Flatten(input_shape=(150, 150, 3)),  # Flatten the input (150, 150, 3) to 150*150*3 = 67500\n",
    "    layers.Dense(512, activation='relu'),\n",
    "    layers.Dense(256, activation='relu'),\n",
    "    layers.Dense(128, activation='relu'),\n",
    "    layers.Dense(len(class_names), activation='softmax')\n",
    "])"
   ]
  },
  {
   "cell_type": "code",
   "execution_count": null,
   "id": "7cb22179-4433-448e-9335-9690bfb2bf1e",
   "metadata": {
    "id": "7cb22179-4433-448e-9335-9690bfb2bf1e",
    "outputId": "f180ed05-2cd1-4de1-ff18-c906bb84f4d4"
   },
   "outputs": [],
   "source": [
    "model.compile(\n",
    "    optimizer='adam',\n",
    "    loss='sparse_categorical_crossentropy',\n",
    "    metrics=['accuracy']\n",
    ")"
   ]
  },
  {
   "cell_type": "code",
   "execution_count": null,
   "id": "5750b6e9",
   "metadata": {
    "id": "5750b6e9",
    "outputId": "b2d7aef0-9570-461a-bf6c-abf8fefe4f5e"
   },
   "outputs": [],
   "source": [
    "history = model.fit(\n",
    "    train_generator,\n",
    "    epochs=5,\n",
    "    validation_data=validation_generator,\n",
    "\n",
    ")"
   ]
  },
  {
   "cell_type": "code",
   "execution_count": null,
   "id": "5a313b75",
   "metadata": {
    "id": "5a313b75",
    "outputId": "a76bd934-a9d3-4f5f-927d-0d177cb5f309"
   },
   "outputs": [],
   "source": [
    "test_loss, test_acc = model.evaluate(test_generator, steps=test_generator.samples // test_generator.batch_size)\n",
    "print(f'Test accuracy: {test_acc}')"
   ]
  },
  {
   "cell_type": "code",
   "execution_count": null,
   "id": "3cb43468",
   "metadata": {
    "id": "3cb43468",
    "outputId": "90b54c16-a4b9-40ce-daa1-5246caa8e3ed"
   },
   "outputs": [],
   "source": [
    "Y_pred = model.predict(test_generator, steps=test_generator.samples // test_generator.batch_size + 1)\n",
    "y_pred = np.argmax(Y_pred, axis=1)"
   ]
  },
  {
   "cell_type": "code",
   "execution_count": null,
   "id": "6e03f8b6",
   "metadata": {
    "id": "6e03f8b6",
    "outputId": "0239f1fa-e1fd-46dc-ea30-3465080b2749"
   },
   "outputs": [],
   "source": [
    "print(classification_report(y_true, y_pred, target_names=class_names))"
   ]
  },
  {
   "cell_type": "code",
   "execution_count": null,
   "id": "648bda44",
   "metadata": {
    "id": "648bda44"
   },
   "outputs": [],
   "source": []
  },
  {
   "cell_type": "code",
   "execution_count": null,
   "id": "7eb184d5",
   "metadata": {
    "id": "7eb184d5"
   },
   "outputs": [],
   "source": [
    "CNN_model = models.Sequential([\n",
    "    layers.Conv2D(32, (3, 3), activation='relu', input_shape=(150, 150, 3)),\n",
    "    layers.MaxPooling2D((2, 2)),\n",
    "    layers.Conv2D(64, (3, 3), activation='relu'),\n",
    "    layers.MaxPooling2D((2, 2)),\n",
    "    layers.Conv2D(128, (3, 3), activation='relu'),\n",
    "    layers.MaxPooling2D((2, 2)),\n",
    "    layers.Conv2D(128, (3, 3), activation='relu'),\n",
    "    layers.MaxPooling2D((2, 2)),\n",
    "    layers.Flatten(),\n",
    "    layers.Dense(512, activation='relu'),\n",
    "    layers.Dense(len(class_names), activation='softmax')\n",
    "])\n"
   ]
  },
  {
   "cell_type": "markdown",
   "id": "d391e18f",
   "metadata": {
    "id": "d391e18f"
   },
   "source": [
    "Visualize the Feature Map"
   ]
  },
  {
   "cell_type": "code",
   "execution_count": null,
   "id": "fa0a18bc",
   "metadata": {
    "id": "fa0a18bc"
   },
   "outputs": [],
   "source": [
    "from tensorflow.keras.models import Model\n",
    "\n",
    "# Specify the layers to visualize\n",
    "layer_names = [\n",
    "    'conv2d',  # 1st Conv Layer\n",
    "    'max_pooling2d',  # 1st MaxPooling Layer\n",
    "    'conv2d_1',  # 2nd Conv Layer\n",
    "    'max_pooling2d_1',  # 2nd MaxPooling Layer\n",
    "    'conv2d_2',  # 3rd Conv Layer\n",
    "    'max_pooling2d_2',  # 3rd MaxPooling Layer\n",
    "    'conv2d_3',  # 4th Conv Layer\n",
    "    'max_pooling2d_3'  # 4th MaxPooling Layer\n",
    "]\n",
    "\n",
    "# Create a new model that outputs the feature maps\n",
    "layer_outputs = [CNN_model.get_layer(name).output for name in layer_names]\n",
    "feature_map_model = Model(inputs=CNN_model.input, outputs=layer_outputs)\n"
   ]
  },
  {
   "cell_type": "code",
   "execution_count": null,
   "id": "7ae275da",
   "metadata": {
    "id": "7ae275da"
   },
   "outputs": [],
   "source": [
    "from tensorflow.keras.preprocessing import image\n",
    "import numpy as np\n",
    "\n",
    "img_path = r'C:\\Users\\User\\Documents\\Jupyternotebookprgs\\bean-leaf-dataset\\train\\train\\angular_leaf_spot\\angular_leaf_spot_train.0.jpg'  # Update this path\n",
    "img = image.load_img(img_path, target_size=(150, 150))\n",
    "img_array = image.img_to_array(img)\n",
    "img_array = np.expand_dims(img_array, axis=0)  # Add batch dimension\n",
    "img_array /= 255.0  # Normalize the image\n"
   ]
  },
  {
   "cell_type": "code",
   "execution_count": null,
   "id": "9a989eba",
   "metadata": {
    "id": "9a989eba",
    "outputId": "cb4d70d0-204b-4ca2-93e9-b3e1cc713dbe"
   },
   "outputs": [],
   "source": [
    "feature_maps = feature_map_model.predict(img_array)\n"
   ]
  },
  {
   "cell_type": "code",
   "execution_count": null,
   "id": "7fb737e9",
   "metadata": {
    "id": "7fb737e9",
    "outputId": "2d9eb44e-cd14-4dfc-f7ee-e8b6f82ff8cb"
   },
   "outputs": [],
   "source": [
    "import matplotlib.pyplot as plt\n",
    "\n",
    "def plot_feature_maps(feature_maps, layer_names):\n",
    "    n_layers = len(layer_names)\n",
    "    fig, axes = plt.subplots(n_layers, 10, figsize=(20, 20))\n",
    "\n",
    "    for i, layer_name in enumerate(layer_names):\n",
    "        fmap = feature_maps[i]\n",
    "        n_features = fmap.shape[-1]\n",
    "        for j in range(min(n_features, 10)):\n",
    "            ax = axes[i, j]\n",
    "            ax.imshow(fmap[0, :, :, j], cmap='viridis')\n",
    "            ax.axis('off')\n",
    "        axes[i, 0].set_title(f'Layer: {layer_name}')\n",
    "\n",
    "    plt.tight_layout()\n",
    "    plt.show()\n",
    "\n",
    "plot_feature_maps(feature_maps, layer_names)\n"
   ]
  },
  {
   "cell_type": "code",
   "execution_count": null,
   "id": "c0645049-c2f6-4f1a-adce-55f1b743eed3",
   "metadata": {
    "id": "c0645049-c2f6-4f1a-adce-55f1b743eed3"
   },
   "outputs": [],
   "source": [
    "CNN_model.compile(\n",
    "    optimizer='adam',\n",
    "    loss='sparse_categorical_crossentropy',\n",
    "    metrics=['accuracy']\n",
    ")"
   ]
  },
  {
   "cell_type": "code",
   "execution_count": null,
   "id": "c56323f2-3524-424c-b232-a0db433b72ed",
   "metadata": {
    "id": "c56323f2-3524-424c-b232-a0db433b72ed",
    "outputId": "6a387ae7-dd10-4b21-8d88-747a8324849d"
   },
   "outputs": [],
   "source": [
    "CNN_history = CNN_model.fit(\n",
    "    train_generator,\n",
    "    epochs=5,\n",
    "    validation_data=validation_generator,\n",
    "\n",
    ")"
   ]
  },
  {
   "cell_type": "code",
   "execution_count": null,
   "id": "1e5d4cc3-7550-469e-9d80-5b914d895b63",
   "metadata": {
    "id": "1e5d4cc3-7550-469e-9d80-5b914d895b63",
    "outputId": "ce3e721a-14d1-42c9-ecf6-c0a1729b14fb"
   },
   "outputs": [],
   "source": [
    "test_loss, test_acc = CNN_model.evaluate(test_generator, steps=test_generator.samples // test_generator.batch_size)\n",
    "print(f'Test accuracy: {test_acc}')"
   ]
  },
  {
   "cell_type": "code",
   "execution_count": null,
   "id": "64f25696-1315-43e3-825c-d9e852fd2783",
   "metadata": {
    "id": "64f25696-1315-43e3-825c-d9e852fd2783",
    "outputId": "07fdb09f-20cc-48aa-cea8-0e65145ccb0a"
   },
   "outputs": [],
   "source": [
    "CNN_Y_pred = CNN_model.predict(test_generator, steps=test_generator.samples // test_generator.batch_size + 1)\n",
    "CNN_y_pred = np.argmax(CNN_Y_pred, axis=1)\n"
   ]
  },
  {
   "cell_type": "code",
   "execution_count": null,
   "id": "f33d6e62-5f49-4962-8ba9-69abda6976ea",
   "metadata": {
    "id": "f33d6e62-5f49-4962-8ba9-69abda6976ea"
   },
   "outputs": [],
   "source": [
    "y_true = test_generator.classes\n"
   ]
  },
  {
   "cell_type": "code",
   "execution_count": null,
   "id": "31a7fa08-1081-4a9c-8370-908671bc5505",
   "metadata": {
    "id": "31a7fa08-1081-4a9c-8370-908671bc5505",
    "outputId": "ed71b9c1-4765-42f8-bb87-a72c3b0b9ba0"
   },
   "outputs": [],
   "source": [
    "print(classification_report(y_true, CNN_y_pred , target_names=class_names))\n"
   ]
  },
  {
   "cell_type": "code",
   "execution_count": null,
   "id": "a137ffdc-a0ff-4e82-a0b5-ed62ef2c564f",
   "metadata": {
    "id": "a137ffdc-a0ff-4e82-a0b5-ed62ef2c564f"
   },
   "outputs": [],
   "source": [
    "def plot_confusion_matrix(y_true, y_pred, class_names):\n",
    "    cm = confusion_matrix(y_true, y_pred)\n",
    "    print(cm)\n",
    "\n",
    "    plt.figure(figsize=(5, 5))\n",
    "    sns.heatmap(cm, annot=True, cmap='Blues', fmt='g', xticklabels=class_names, yticklabels=class_names)\n",
    "    plt.xlabel('Predicted')\n",
    "    plt.ylabel('True')\n",
    "    plt.title('Confusion Matrix')\n",
    "    plt.show()"
   ]
  },
  {
   "cell_type": "code",
   "execution_count": null,
   "id": "4a0db27f-b2f9-46e8-9dc3-15df1bb1a38d",
   "metadata": {
    "id": "4a0db27f-b2f9-46e8-9dc3-15df1bb1a38d",
    "outputId": "d2529d1d-ef92-4e7f-8639-7a375657228f"
   },
   "outputs": [],
   "source": [
    "plot_confusion_matrix(y_true, CNN_y_pred, class_names)\n"
   ]
  },
  {
   "cell_type": "code",
   "execution_count": null,
   "id": "a4e7c2cc-16b5-4427-b808-ae32ac7b95e6",
   "metadata": {
    "id": "a4e7c2cc-16b5-4427-b808-ae32ac7b95e6"
   },
   "outputs": [],
   "source": [
    "def plot_training_history(history):\n",
    "    acc = history.history['accuracy']\n",
    "    val_acc = history.history['val_accuracy']\n",
    "    loss = history.history['loss']\n",
    "    val_loss = history.history['val_loss']\n",
    "    epochs = range(len(acc))\n",
    "\n",
    "    plt.figure(figsize=(12, 4))\n",
    "\n",
    "    plt.subplot(1, 2, 1)\n",
    "    plt.plot(epochs, acc, 'b', label='Training accuracy')\n",
    "    plt.plot(epochs, val_acc, 'r', label='Validation accuracy')\n",
    "    plt.title('Training and validation accuracy')\n",
    "    plt.legend()\n",
    "\n",
    "    plt.subplot(1, 2, 2)\n",
    "    plt.plot(epochs, loss, 'b', label='Training loss')\n",
    "    plt.plot(epochs, val_loss, 'r', label='Validation loss')\n",
    "    plt.title('Training and validation loss')\n",
    "    plt.legend()\n",
    "\n",
    "    plt.show()"
   ]
  },
  {
   "cell_type": "code",
   "execution_count": null,
   "id": "3c474de3-ed19-47ab-92ef-b6484baaaecb",
   "metadata": {
    "id": "3c474de3-ed19-47ab-92ef-b6484baaaecb",
    "outputId": "9c9f2f48-9891-43de-ab77-60e192e16df3"
   },
   "outputs": [],
   "source": [
    "plot_training_history(CNN_history)"
   ]
  },
  {
   "cell_type": "code",
   "execution_count": null,
   "id": "53ec029b-123d-4e01-b6f3-92d705f64689",
   "metadata": {
    "id": "53ec029b-123d-4e01-b6f3-92d705f64689"
   },
   "outputs": [],
   "source": [
    "def plot_predictions(generator, model, class_names):\n",
    "    x, y_true = next(generator)\n",
    "    y_pred_prob = CNN_model.predict(x)\n",
    "    y_pred = np.argmax(y_pred_prob, axis=1)\n",
    "\n",
    "    plt.figure(figsize=(20, 10))\n",
    "    for i in range(12):\n",
    "        plt.subplot(3, 4, i + 1)\n",
    "        plt.imshow(x[i])\n",
    "        plt.title(f'True: {class_names[int(y_true[i])]}, Pred: {class_names[y_pred[i]]}\\nProb: {y_pred_prob[i][y_pred[i]]:.2f}')\n",
    "        plt.axis('off')\n",
    "    plt.show()"
   ]
  },
  {
   "cell_type": "code",
   "execution_count": null,
   "id": "53913002-8093-4ff9-a9e7-121669333dec",
   "metadata": {
    "id": "53913002-8093-4ff9-a9e7-121669333dec",
    "outputId": "37dba8c0-8af9-486a-8d46-879b28b34c04"
   },
   "outputs": [],
   "source": [
    "plot_predictions(test_generator, CNN_model, class_names)\n"
   ]
  },
  {
   "cell_type": "code",
   "execution_count": null,
   "id": "991a0720",
   "metadata": {
    "id": "991a0720"
   },
   "outputs": [],
   "source": [
    "from sklearn.metrics import precision_score, recall_score, f1_score, accuracy_score\n",
    "import numpy as np\n"
   ]
  },
  {
   "cell_type": "code",
   "execution_count": null,
   "id": "be5dd19c",
   "metadata": {
    "id": "be5dd19c"
   },
   "outputs": [],
   "source": [
    "precision_dnn = precision_score(y_true, y_pred, average='weighted')\n",
    "recall_dnn = recall_score(y_true, y_pred, average='weighted')\n",
    "f1_dnn = f1_score(y_true, y_pred, average='weighted')\n",
    "accuracy_dnn = accuracy_score(y_true, y_pred)\n",
    "\n",
    "# Calculate metrics for CNN model\n",
    "precision_cnn = precision_score(y_true, CNN_y_pred, average='weighted')\n",
    "recall_cnn = recall_score(y_true, CNN_y_pred, average='weighted')\n",
    "f1_cnn = f1_score(y_true, CNN_y_pred, average='weighted')\n",
    "accuracy_cnn = accuracy_score(y_true, CNN_y_pred)\n",
    "\n"
   ]
  },
  {
   "cell_type": "code",
   "execution_count": null,
   "id": "89e25117-c92e-4121-9719-d2dcd0e5906a",
   "metadata": {
    "id": "89e25117-c92e-4121-9719-d2dcd0e5906a",
    "outputId": "4d4a6fac-5b2a-459d-830b-3f5536d79f63"
   },
   "outputs": [],
   "source": [
    "import matplotlib.pyplot as plt\n",
    "import numpy as np\n",
    "import pandas as pd\n",
    "\n",
    "# Metrics for DNN\n",
    "dnn_metrics = {\n",
    "    'Precision': precision_dnn,\n",
    "    'Recall': recall_dnn,\n",
    "    'F1 Score': f1_dnn,\n",
    "    'Accuracy': accuracy_dnn,\n",
    "    'Loss': 1.6507\n",
    "}\n",
    "\n",
    "# Metrics for CNN\n",
    "cnn_metrics = {\n",
    "    'Precision': precision_cnn,\n",
    "    'Recall': recall_cnn,\n",
    "    'F1 Score': f1_cnn,\n",
    "    'Accuracy': accuracy_cnn,\n",
    "    'Loss': 0.6988\n",
    "}\n",
    "\n",
    "# Convert to DataFrame for easy plotting\n",
    "metrics_df = pd.DataFrame({\n",
    "    'Metric': list(dnn_metrics.keys()) + list(cnn_metrics.keys()),\n",
    "    'Value': list(dnn_metrics.values()) + list(cnn_metrics.values()),\n",
    "    'Model': ['DNN']*len(dnn_metrics) + ['CNN']*len(cnn_metrics)\n",
    "})\n",
    "\n",
    "# Set up the plot\n",
    "plt.figure(figsize=(5,5))\n",
    "\n",
    "# Bar positions\n",
    "x = np.arange(len(dnn_metrics))  # the label locations\n",
    "width = 0.35  # the width of the bars\n",
    "\n",
    "# Plotting bars\n",
    "bars1 = plt.bar(x - width/2, list(dnn_metrics.values()), width, label='DNN', color='blue')\n",
    "bars2 = plt.bar(x + width/2, list(cnn_metrics.values()), width, label='CNN', color='orange')\n",
    "\n",
    "# Adding labels, title, and legend\n",
    "plt.xlabel('Metrics', fontsize=12)\n",
    "plt.ylabel('Scores', fontsize=12)\n",
    "plt.title('Comparison of Model Performance', fontsize=14)\n",
    "plt.xticks(x, list(dnn_metrics.keys()), rotation=45)\n",
    "plt.legend()\n",
    "\n",
    "# Add value labels on top of the bars\n",
    "def add_labels(bars):\n",
    "    for bar in bars:\n",
    "        height = bar.get_height()\n",
    "        plt.annotate(f'{height:.2f}',\n",
    "                     xy=(bar.get_x() + bar.get_width() / 2, height),\n",
    "                     xytext=(0, 3),  # 3 points vertical offset\n",
    "                     textcoords=\"offset points\",\n",
    "                     ha='center', va='bottom')\n",
    "\n",
    "add_labels(bars1)\n",
    "add_labels(bars2)\n",
    "\n",
    "# Display the plot\n",
    "plt.tight_layout()\n",
    "plt.show()\n"
   ]
  }
 ],
 "metadata": {
  "colab": {
   "provenance": []
  },
  "kernelspec": {
   "display_name": "Python 3 (ipykernel)",
   "language": "python",
   "name": "python3"
  },
  "language_info": {
   "codemirror_mode": {
    "name": "ipython",
    "version": 3
   },
   "file_extension": ".py",
   "mimetype": "text/x-python",
   "name": "python",
   "nbconvert_exporter": "python",
   "pygments_lexer": "ipython3",
   "version": "3.12.4"
  }
 },
 "nbformat": 4,
 "nbformat_minor": 5
}
