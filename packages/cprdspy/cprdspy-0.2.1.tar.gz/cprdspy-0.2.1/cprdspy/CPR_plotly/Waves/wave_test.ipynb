{
 "cells": [
  {
   "cell_type": "code",
   "execution_count": 1,
   "id": "bd98e5e0",
   "metadata": {},
   "outputs": [],
   "source": [
    "from wave_config import *"
   ]
  },
  {
   "cell_type": "code",
   "execution_count": 2,
   "id": "dc60ff9f",
   "metadata": {},
   "outputs": [],
   "source": [
    "wave_circle_geometric(A=2, F=6, P=12, color='#0f0', theta=0, R=1, direction='both', width=1, opacity=0.5, num_points=100, show_center=True)"
   ]
  },
  {
   "cell_type": "code",
   "execution_count": 3,
   "id": "637bc78f",
   "metadata": {},
   "outputs": [],
   "source": [
    "config.center_color='#f88'\n",
    "import numpy as np\n",
    "wave_circle_pro_i(3, 6, 12, '#f88', 0, 1)"
   ]
  },
  {
   "cell_type": "code",
   "execution_count": 4,
   "id": "ab9b4434",
   "metadata": {},
   "outputs": [],
   "source": [
    "wave_circle_ari_i(1, 2, 12, '#f88', 0, 2)"
   ]
  },
  {
   "cell_type": "code",
   "execution_count": null,
   "id": "b1271664",
   "metadata": {},
   "outputs": [],
   "source": [
    "wave_circle_ari_o(1, 2, 12, '#f88', 0, 2)"
   ]
  },
  {
   "cell_type": "code",
   "execution_count": null,
   "id": "714b36c7",
   "metadata": {},
   "outputs": [],
   "source": [
    "fig = wave_circle_ari_i(1, 2, 12, \"#f88\", 0, 2)\n",
    "sub_fig = wave_circle_ari_o(1, 2, 12, \"#8f8\", 0, 2)\n",
    "for trace in sub_fig.data:\n",
    "    fig.add_trace(trace)\n",
    "fig.show()"
   ]
  },
  {
   "cell_type": "code",
   "execution_count": null,
   "id": "b6174f20",
   "metadata": {},
   "outputs": [],
   "source": []
  }
 ],
 "metadata": {
  "kernelspec": {
   "display_name": ".venv",
   "language": "python",
   "name": "python3"
  },
  "language_info": {
   "codemirror_mode": {
    "name": "ipython",
    "version": 3
   },
   "file_extension": ".py",
   "mimetype": "text/x-python",
   "name": "python",
   "nbconvert_exporter": "python",
   "pygments_lexer": "ipython3",
   "version": "3.13.2"
  }
 },
 "nbformat": 4,
 "nbformat_minor": 5
}
