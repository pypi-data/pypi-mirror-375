{
 "cells": [
  {
   "cell_type": "markdown",
   "id": "b7039faa",
   "metadata": {},
   "source": [
    "# 结合用户代码，展示单点旋转算法在花瓣绘制中的应用\n",
    "\n",
    "本示例将结合自定义绘图函数，演示如何通过单点旋转算法实现花瓣的旋转与分布效果。"
   ]
  },
  {
   "cell_type": "markdown",
   "id": "51d70fd2",
   "metadata": {},
   "source": [
    "## 1. 导入必要库与函数\n",
    "\n",
    "首先导入 numpy、matplotlib 以及自定义的 arc_degree 函数，为后续花瓣绘制做准备。"
   ]
  },
  {
   "cell_type": "code",
   "execution_count": null,
   "id": "cb7c7a80",
   "metadata": {},
   "outputs": [],
   "source": [
    "import numpy as np\n",
    "import matplotlib.pyplot as plt\n",
    "\n",
    "# 假设 arc_degree 已在同目录下定义或已导入\n",
    "# from CirclePointRoundSourcePure import arc_degree"
   ]
  },
  {
   "cell_type": "markdown",
   "id": "0e0083db",
   "metadata": {},
   "source": [
    "## 2. 定义单点旋转算法函数\n",
    "\n",
    "实现 draw_petal_any 函数，通过 rotate_theta 参数控制花瓣围绕中心点旋转。"
   ]
  },
  {
   "cell_type": "code",
   "execution_count": null,
   "id": "97827cb6",
   "metadata": {},
   "outputs": [],
   "source": [
    "def draw_petal_any(center, r, d, rotate_theta=0, color='b'):\n",
    "    a = np.sqrt(r**2 - d**2 / 4)\n",
    "    theta = 2 * np.arctan(2 * a / d)\n",
    "    theta_b1 = np.pi + np.pi/2 - theta/2\n",
    "    theta_e1 = np.pi + np.pi/2 + theta/2\n",
    "    theta_b2 = np.pi/2 - theta/2\n",
    "    theta_e2 = np.pi/2 + theta/2\n",
    "    center1 = (a + center[0], d/2 + center[1])\n",
    "    center2 = (a + center[0], center[1] - d/2)\n",
    "    arc_degree(center1, r, theta_b1 + rotate_theta, theta_e1 + rotate_theta, color)\n",
    "    arc_degree(center2, r, theta_b2 + rotate_theta, theta_e2 + rotate_theta, color)"
   ]
  },
  {
   "cell_type": "markdown",
   "id": "6a1ec931",
   "metadata": {},
   "source": [
    "## 3. 绘制旋转花瓣示例\n",
    "\n",
    "调用 draw_petal_any，设置不同的 rotate_theta，展示单个花瓣的旋转效果。"
   ]
  },
  {
   "cell_type": "code",
   "execution_count": null,
   "id": "e1c88b14",
   "metadata": {},
   "outputs": [],
   "source": [
    "plt.figure(figsize=(6, 6))\n",
    "draw_petal_any((0, 0), 1, 1.5, rotate_theta=0, color='r')\n",
    "draw_petal_any((0, 0), 1, 1.5, rotate_theta=np.pi/6, color='g')\n",
    "draw_petal_any((0, 0), 1, 1.5, rotate_theta=np.pi/3, color='b')\n",
    "plt.axis('equal')\n",
    "plt.axis('off')\n",
    "plt.show()"
   ]
  },
  {
   "cell_type": "markdown",
   "id": "196dd433",
   "metadata": {},
   "source": [
    "## 4. 批量绘制多旋转花瓣\n",
    "\n",
    "使用循环批量调用 draw_petal_any，实现多个花瓣围绕中心点均匀分布旋转的效果。"
   ]
  },
  {
   "cell_type": "code",
   "execution_count": null,
   "id": "f1ee9f19",
   "metadata": {},
   "outputs": [],
   "source": [
    "plt.figure(figsize=(6, 6))\n",
    "num_petals = 12\n",
    "for i in range(num_petals):\n",
    "    angle = i * 2 * np.pi / num_petals\n",
    "    draw_petal_any((0, 0), 1, 1.5, rotate_theta=angle, color=plt.cm.hsv(i / num_petals))\n",
    "plt.axis('equal')\n",
    "plt.axis('off')\n",
    "plt.show()"
   ]
  }
 ],
 "metadata": {
  "language_info": {
   "name": "python"
  }
 },
 "nbformat": 4,
 "nbformat_minor": 5
}
