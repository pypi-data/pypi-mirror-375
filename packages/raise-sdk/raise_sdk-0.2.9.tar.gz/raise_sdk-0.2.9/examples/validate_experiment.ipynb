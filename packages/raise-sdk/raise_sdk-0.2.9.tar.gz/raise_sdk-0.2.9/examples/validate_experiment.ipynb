{
 "cells": [
  {
   "cell_type": "markdown",
   "metadata": {},
   "source": [
    "# Validating an experiment with raise_sdk\n",
    "\n",
    "This notebook demonstrates how to run an experiment using the `raise_sdk` package, which automates the setup and execution of experiments in a controlled environment (either with Docker or without it)."
   ]
  },
  {
   "cell_type": "markdown",
   "metadata": {},
   "source": [
    "### Check Installation of `raise_sdk`\n",
    "\n",
    "Before running the experiment, ensure that the `raise_sdk` package is installed in your environment. Follow these steps to install and verify the package:\n",
    "\n",
    "1. **Install the `raise_sdk` package**\n",
    "\n",
    "   Open a terminal or command prompt and run the following command to install the `raise_sdk` package:\n",
    "\n",
    "   ```bash\n",
    "   pip install raise_sdk\n",
    "\n",
    "This will download and install the package from PyPI (Python Package Index) into your environment.\n",
    "\n",
    "2. **Verify Installation**\n",
    "\n",
    "   After installation, you can verify that the package has been installed correctly. Run the following Python code:\n",
    "\n",
    "   ```python\n",
    "   import raise_sdk\n",
    "   print(raise_sdk.__version__)\n",
    "\n",
    "If the installation was successful, it should print the version of the raise_sdk package installed in your environment. If no errors are raised, the package is installed and ready to use.\n",
    "\n",
    "3. **Troubleshooting**\n",
    "\n",
    "   If you encounter any issues during installation:\n",
    "   - Ensure your Python environment is properly set up.\n",
    "   - If you're using Python 3, you might need to run:\n",
    "\n",
    "      ```bash\n",
    "      pip3 install raise_sdk\n",
    "\n",
    "   - If you're working within a virtual environment, make sure it is activated before running the install command."
   ]
  },
  {
   "cell_type": "markdown",
   "metadata": {},
   "source": [
    "### Step 1: Import the `revo` module\n",
    "\n",
    "First, we import the `revo` module from the `raise_sdk` package:"
   ]
  },
  {
   "cell_type": "code",
   "execution_count": 1,
   "metadata": {},
   "outputs": [],
   "source": [
    "from raise_sdk import revo"
   ]
  },
  {
   "cell_type": "markdown",
   "metadata": {},
   "source": [
    "### Step 2: Start the Experiment\n",
    "\n",
    "Next, we call the start() function to initiate the process. This function will handle everything required to run the experiment:\n",
    "\n",
    "- It will prompt you to select the necessary files:\n",
    "\n",
    "    - The script(s) (main.py): select the scripts that will be used during the experiment. NOTE: the main script that will be executed must be named `main.py`.\n",
    "    - The requirements.txt file: this file contains the dependencies needed for the experiment.\n",
    "    - The dataset file(s) (CSV format): select the dataset that will be used for the experiment.\n",
    "\n",
    "- It will check if Docker is available. If Docker is unavailable, you will be asked whether you'd like to proceed without Docker.\n",
    "\n",
    "- The experiment will be executed either in a Docker container or as a standard Python script, depending on Docker's availability.\n",
    "\n",
    "- After the experiment completes, execution time and status will be logged. Temporary files and Docker images (if used) will be cleaned up automatically."
   ]
  },
  {
   "cell_type": "code",
   "execution_count": 2,
   "metadata": {},
   "outputs": [
    {
     "name": "stderr",
     "output_type": "stream",
     "text": [
      "2025-01-27 10:44:03 - raise_sdk.revo.LocalCodeRunner - INFO - - Experiment path: c:\\Users\\anappa\\Documents\\MyProjects\\RAISE\\Development\\RaiseSDK\\examples\\myexperiments\\20250127104403\n",
      "2025-01-27 10:44:03 - raise_sdk.revo.LocalCodeRunner - INFO - - Root path: c:\\Users\\anappa\\Documents\\MyProjects\\RAISE\\Development\\RaiseSDK\\examples\n",
      "2025-01-27 10:44:03 - raise_sdk.revo.LocalCodeRunner - INFO - - Experiment id: 20250127104403\n",
      "2025-01-27 10:44:03 - docker.utils.config - DEBUG - Trying paths: ['C:\\\\Users\\\\anappa\\\\.docker\\\\config.json', 'C:\\\\Users\\\\anappa\\\\.dockercfg']\n",
      "2025-01-27 10:44:03 - docker.utils.config - DEBUG - Found file at path: C:\\Users\\anappa\\.docker\\config.json\n",
      "2025-01-27 10:44:03 - docker.auth - DEBUG - Found 'credsStore' section\n",
      "2025-01-27 10:44:03 - urllib3.connectionpool - DEBUG - http://localhost:None \"GET /version HTTP/1.1\" 200 None\n",
      "2025-01-27 10:44:03 - raise_sdk.revo.LocalCodeRunner - INFO - New connection to docker established.\n",
      "2025-01-27 10:44:03 - raise_sdk.revo.LocalCodeRunner - INFO -  Experiment path prepared for running the code.\n",
      "2025-01-27 10:44:03 - docker.api.build - DEBUG - Looking for auth config\n",
      "2025-01-27 10:44:03 - docker.api.build - DEBUG - Sending auth config ()\n",
      "2025-01-27 10:44:03 - urllib3.connectionpool - DEBUG - http://localhost:None \"POST /v1.47/build?t=img_raise_20250127104403&q=False&nocache=True&rm=True&forcerm=True&pull=False&dockerfile=Dockerfile&labels=%7B%22img_raise%22%3A+%22This+image+will+be+removed+after+execution%22%7D HTTP/1.1\" 200 None\n",
      "2025-01-27 10:44:44 - urllib3.connectionpool - DEBUG - http://localhost:None \"GET /v1.47/images/73923e4d3b6c/json HTTP/1.1\" 200 None\n",
      "2025-01-27 10:44:44 - raise_sdk.revo.LocalCodeRunner - INFO -  Docker image generated for experiment_id = 20250127104403.\n",
      "2025-01-27 10:44:44 - raise_sdk.revo.LocalCodeRunner - INFO -  Running the container for the experiment...\n",
      "2025-01-27 10:44:44 - urllib3.connectionpool - DEBUG - http://localhost:None \"POST /v1.47/containers/create?name=container_raise_20250127104403 HTTP/1.1\" 201 None\n",
      "2025-01-27 10:44:45 - urllib3.connectionpool - DEBUG - http://localhost:None \"GET /v1.47/containers/5ac2277093793fb88b90e125897e2e45c6e088c6845eb8d285c17192aca9aabe/json HTTP/1.1\" 200 None\n",
      "2025-01-27 10:44:45 - urllib3.connectionpool - DEBUG - http://localhost:None \"POST /v1.47/containers/5ac2277093793fb88b90e125897e2e45c6e088c6845eb8d285c17192aca9aabe/start HTTP/1.1\" 204 0\n",
      "2025-01-27 10:44:45 - urllib3.connectionpool - DEBUG - http://localhost:None \"POST /v1.47/containers/5ac2277093793fb88b90e125897e2e45c6e088c6845eb8d285c17192aca9aabe/wait HTTP/1.1\" 200 None\n",
      "2025-01-27 10:44:48 - raise_sdk.revo.LocalCodeRunner - INFO -  Execution ended successfully.\n",
      "2025-01-27 10:44:48 - raise_sdk.revo.LocalCodeRunner - INFO - Experiment results:\n",
      "\t- Execution time: 0:00:03.769176\n",
      "\t- Status code: 0\n",
      "2025-01-27 10:44:48 - raise_sdk.revo.LocalCodeRunner - INFO -  Removing docker image after execution...\n",
      "2025-01-27 10:44:53 - urllib3.connectionpool - DEBUG - http://localhost:None \"DELETE /v1.47/images/img_raise_20250127104403?force=False&noprune=False HTTP/1.1\" 200 None\n",
      "2025-01-27 10:44:53 - raise_sdk.revo.LocalCodeRunner - INFO - Image removed for experiment_id = 20250127104403\n"
     ]
    }
   ],
   "source": [
    "revo.start()"
   ]
  },
  {
   "cell_type": "markdown",
   "metadata": {},
   "source": [
    "Congratulations! You've successfully validated your code using the `raise_sdk` package.\n",
    "\n",
    "- **Results**: Check the `results/` directory in the experiment folder to find the output of your experiment.\n",
    "- **Logs**: The `log/` directory contains detailed logs of the execution, which can be useful for debugging or understanding the experiment flow.\n",
    "\n",
    "With these results and logs, you can review the outcome of the experiment and further analyze the performance of your code. If any issues arise, refer to the logs for detailed insights."
   ]
  }
 ],
 "metadata": {
  "kernelspec": {
   "display_name": ".venv",
   "language": "python",
   "name": "python3"
  },
  "language_info": {
   "codemirror_mode": {
    "name": "ipython",
    "version": 3
   },
   "file_extension": ".py",
   "mimetype": "text/x-python",
   "name": "python",
   "nbconvert_exporter": "python",
   "pygments_lexer": "ipython3",
   "version": "3.11.9"
  }
 },
 "nbformat": 4,
 "nbformat_minor": 2
}
