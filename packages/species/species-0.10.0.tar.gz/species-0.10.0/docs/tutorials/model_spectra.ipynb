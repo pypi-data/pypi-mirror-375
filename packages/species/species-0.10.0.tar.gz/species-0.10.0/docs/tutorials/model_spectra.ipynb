{
 "cells": [
  {
   "cell_type": "markdown",
   "metadata": {},
   "source": [
    "# Model spectra and synthetic photometry"
   ]
  },
  {
   "cell_type": "markdown",
   "metadata": {},
   "source": [
    "In this tutorial, we will have a look at a synthetic spectrum from the [Sonora Diamondback](https://ui.adsabs.harvard.edu/abs/2024ApJ...975...59M) atmospheric model. The spectra are first downloaded and added to the database. Then we will use the functionalities of [ReadModel](https://species.readthedocs.io/en/latest/species.read.html#species.read.read_model.ReadModel) to extract a spectrum and calculate a photometric flux."
   ]
  },
  {
   "cell_type": "markdown",
   "metadata": {},
   "source": [
    "## Getting started"
   ]
  },
  {
   "cell_type": "markdown",
   "metadata": {},
   "source": [
    "We start by importing the required classes and functions from `species`."
   ]
  },
  {
   "cell_type": "code",
   "execution_count": 1,
   "metadata": {},
   "outputs": [],
   "source": [
    "from species import SpeciesInit\n",
    "from species.data.database import Database\n",
    "from species.read.read_model import ReadModel\n",
    "from species.plot.plot_spectrum import plot_spectrum"
   ]
  },
  {
   "cell_type": "markdown",
   "metadata": {},
   "source": [
    "Then we initialize `species` with [SpeciesInit](https://species.readthedocs.io/en/latest/species.core.html#species.core.species_init.SpeciesInit), which creates a default configuration file and the HDF5 database."
   ]
  },
  {
   "cell_type": "code",
   "execution_count": 2,
   "metadata": {},
   "outputs": [
    {
     "name": "stdout",
     "output_type": "stream",
     "text": [
      "=======\n",
      "species\n",
      "=======\n",
      "\n",
      "Version: 0.9.1.dev62+ge110897.d20250410\n",
      "Working folder: /Users/tomasstolker/applications/species/docs/tutorials\n",
      "\n",
      "Creating species_config.ini... [DONE]\n",
      "Creating species_database.hdf5... [DONE]\n",
      "Creating data folder... [DONE]\n",
      "\n",
      "Configuration settings:\n",
      "   - Database: species_database.hdf5\n",
      "   - Data folder: data\n",
      "   - Magnitude of Vega: 0.03\n",
      "\n",
      "Multiprocessing: mpi4py not installed\n"
     ]
    },
    {
     "data": {
      "text/plain": [
       "<species.core.species_init.SpeciesInit at 0x126616780>"
      ]
     },
     "execution_count": 2,
     "metadata": {},
     "output_type": "execute_result"
    }
   ],
   "source": [
    "SpeciesInit()"
   ]
  },
  {
   "cell_type": "markdown",
   "metadata": {},
   "source": [
    "## Adding model spectra to the database"
   ]
  },
  {
   "cell_type": "markdown",
   "metadata": {},
   "source": [
    "To store the spectra, we first create an instance of [Database](https://species.readthedocs.io/en/latest/species.data.html#species.data.database.Database)."
   ]
  },
  {
   "cell_type": "code",
   "execution_count": 3,
   "metadata": {},
   "outputs": [],
   "source": [
    "database = Database()"
   ]
  },
  {
   "cell_type": "markdown",
   "metadata": {},
   "source": [
    "Let's check which atmospheric models are available by running the [available_models](https://species.readthedocs.io/en/latest/species.data.html#species.data.database.Database.available_models) method of the [Database](https://species.readthedocs.io/en/latest/species.data.html#species.data.database.Database) object."
   ]
  },
  {
   "cell_type": "code",
   "execution_count": 4,
   "metadata": {},
   "outputs": [
    {
     "name": "stdout",
     "output_type": "stream",
     "text": [
      "\n",
      "-----------------------\n",
      "Available model spectra\n",
      "-----------------------\n",
      "\n",
      "   - AMES-Cond:\n",
      "      - Label = ames-cond\n",
      "      - Model parameters: ['teff', 'logg']\n",
      "      - Teff range (K): [100, 6600]\n",
      "      - Wavelength range (um): [0.5, 40]\n",
      "      - Sampling (lambda/d_lambda): 2000\n",
      "      - File size: 57 MB\n",
      "\n",
      "   - AMES-Dusty:\n",
      "      - Label = ames-dusty\n",
      "      - Model parameters: ['teff', 'logg']\n",
      "      - Teff range (K): [500, 4000]\n",
      "      - Wavelength range (um): [0.5, 40]\n",
      "      - Sampling (lambda/d_lambda): 2000\n",
      "      - File size: 22 MB\n",
      "\n",
      "   - ATMO:\n",
      "      - Label = atmo\n",
      "      - Model parameters: ['teff', 'logg']\n",
      "      - Teff range (K): [200, 3000]\n",
      "      - Wavelength range (um): [0.2, 2000]\n",
      "      - Sampling (lambda/d_lambda): 1000\n",
      "      - File size: 21 MB\n",
      "      - Reference: Phillips et al. (2020)\n",
      "      - URL: https://ui.adsabs.harvard.edu/abs/2020A%26A...637A..38P\n",
      "\n",
      "   - ATMO CEQ:\n",
      "      - Label = atmo-ceq\n",
      "      - Model parameters: ['teff', 'logg']\n",
      "      - Teff range (K): [200, 3000]\n",
      "      - Wavelength range (um): [0.2, 2000]\n",
      "      - Sampling (lambda/d_lambda): 2000\n",
      "      - File size: 39 MB\n",
      "      - Reference: Phillips et al. (2020)\n",
      "      - URL: https://ui.adsabs.harvard.edu/abs/2020A%26A...637A..38P\n",
      "\n",
      "   - ATMO NEQ strong:\n",
      "      - Label = atmo-neq-strong\n",
      "      - Model parameters: ['teff', 'logg']\n",
      "      - Teff range (K): [200, 1800]\n",
      "      - Wavelength range (um): [0.2, 2000]\n",
      "      - Sampling (lambda/d_lambda): 2000\n",
      "      - File size: 24 MB\n",
      "      - Reference: Phillips et al. (2020)\n",
      "      - URL: https://ui.adsabs.harvard.edu/abs/2020A%26A...637A..38P\n",
      "\n",
      "   - ATMO NEQ weak:\n",
      "      - Label = atmo-neq-weak\n",
      "      - Model parameters: ['teff', 'logg']\n",
      "      - Teff range (K): [200, 1800]\n",
      "      - Wavelength range (um): [0.2, 2000]\n",
      "      - Sampling (lambda/d_lambda): 2000\n",
      "      - File size: 23 MB\n",
      "      - Reference: Phillips et al. (2020)\n",
      "      - URL: https://ui.adsabs.harvard.edu/abs/2020A%26A...637A..38P\n",
      "\n",
      "   - ATMO (Petrus et al. 2023):\n",
      "      - Label = atmo-petrus2023\n",
      "      - Model parameters: ['teff', 'logg', 'feh', 'c_o_ratio', 'ad_index']\n",
      "      - Teff range (K): [800, 3000]\n",
      "      - Wavelength range (um): [0.2, 30]\n",
      "      - Sampling (lambda/d_lambda): 3000\n",
      "      - File size: 1.6 GB\n",
      "      - Reference: Petrus et al. (2023)\n",
      "      - URL: https://ui.adsabs.harvard.edu/abs/2023A%26A...670L...9P\n",
      "\n",
      "   - ATMO (Petrus et al. 2023):\n",
      "      - Label = atmo-petrus2023-highres\n",
      "      - Model parameters: ['teff', 'logg', 'feh', 'c_o_ratio', 'ad_index']\n",
      "      - Teff range (K): [800, 3000]\n",
      "      - Wavelength range (um): [0.2, 2.5]\n",
      "      - Sampling (lambda/d_lambda): 10000\n",
      "      - File size: 2.4 GB\n",
      "      - Reference: Petrus et al. (2023)\n",
      "      - URL: https://ui.adsabs.harvard.edu/abs/2023A%26A...670L...9P\n",
      "\n",
      "   - blackbody:\n",
      "      - Label = blackbody\n",
      "      - Model parameters: ['teff']\n",
      "      - Teff range (K): [10, 20000]\n",
      "      - Wavelength range (um): [0.1, 5000]\n",
      "      - Sampling (lambda/d_lambda): 1000\n",
      "      - File size: 41 MB\n",
      "\n",
      "   - BT-Cond:\n",
      "      - Label = bt-cond\n",
      "      - Model parameters: ['teff', 'logg']\n",
      "      - Teff range (K): [800, 4000]\n",
      "      - Wavelength range (um): [0.1, 100]\n",
      "      - Sampling (lambda/d_lambda): 5000\n",
      "      - File size: 64 MB\n",
      "\n",
      "   - BT-Cond:\n",
      "      - Label = bt-cond-feh\n",
      "      - Model parameters: ['teff', 'logg', 'feh']\n",
      "      - Teff range (K): [2600, 4000]\n",
      "      - Wavelength range (um): [0.1, 100]\n",
      "      - Sampling (lambda/d_lambda): 5000\n",
      "      - File size: 148 MB\n",
      "\n",
      "   - BT-Dusty:\n",
      "      - Label = bt-dusty\n",
      "      - Model parameters: ['teff', 'logg']\n",
      "      - Teff range (K): [1000, 4000]\n",
      "      - Wavelength range (um): [0.1, 100]\n",
      "      - Sampling (lambda/d_lambda): 5000\n",
      "      - File size: 46 MB\n",
      "\n",
      "   - BT-NextGen:\n",
      "      - Label = bt-nextgen\n",
      "      - Model parameters: ['teff', 'logg', 'feh']\n",
      "      - Teff range (K): [2600, 30000]\n",
      "      - Wavelength range (um): [0.1, 5000]\n",
      "      - Sampling (lambda/d_lambda): 2000\n",
      "      - File size: 226 MB\n",
      "\n",
      "   - BT-NextGen:\n",
      "      - Label = bt-nextgen-highres\n",
      "      - Model parameters: ['teff', 'logg', 'feh']\n",
      "      - Teff range (K): [2600, 30000]\n",
      "      - Wavelength range (um): [0.1, 50]\n",
      "      - Sampling (lambda/d_lambda): 200000\n",
      "      - File size: 1.3 GB\n",
      "\n",
      "   - BT-NextGen:\n",
      "      - Label = bt-nextgen-optical\n",
      "      - Model parameters: ['teff', 'logg', 'feh']\n",
      "      - Teff range (K): [2600, 30000]\n",
      "      - Wavelength range (um): [0.1, 1.0]\n",
      "      - Sampling (lambda/d_lambda): 500000\n",
      "      - File size: 7.2 GB\n",
      "\n",
      "   - BT-NextGen subsolar:\n",
      "      - Label = bt-nextgen-subsolar\n",
      "      - Model parameters: ['teff', 'logg', 'feh']\n",
      "      - Teff range (K): [2600, 30000]\n",
      "      - Wavelength range (um): [0.1, 50]\n",
      "      - Sampling (lambda/d_lambda): 2000\n",
      "      - Extra details: [alpha/Fe] = 0.4\n",
      "      - File size: 564 MB\n",
      "\n",
      "   - BT-Settl:\n",
      "      - Label = bt-settl\n",
      "      - Model parameters: ['teff', 'logg']\n",
      "      - Teff range (K): [400, 4000]\n",
      "      - Wavelength range (um): [0.1, 500]\n",
      "      - Sampling (lambda/d_lambda): 2000\n",
      "      - File size: 45 MB\n",
      "\n",
      "   - BT-Settl CIFIST:\n",
      "      - Label = bt-settl-cifist\n",
      "      - Model parameters: ['teff', 'logg']\n",
      "      - Teff range (K): [1200, 7000]\n",
      "      - Wavelength range (um): [0.1, 5000]\n",
      "      - Sampling (lambda/d_lambda): 10000\n",
      "      - File size: 442 MB\n",
      "\n",
      "   - DRIFT-PHOENIX:\n",
      "      - Label = drift-phoenix\n",
      "      - Model parameters: ['teff', 'logg', 'feh']\n",
      "      - Teff range (K): [1000, 3000]\n",
      "      - Wavelength range (um): [0.1, 500]\n",
      "      - Sampling (lambda/d_lambda): 2000\n",
      "      - File size: 109 MB\n",
      "      - Reference: Helling et al. (2008)\n",
      "      - URL: https://ui.adsabs.harvard.edu/abs/2008ApJ...675L.105H\n",
      "\n",
      "   - Exo-REM:\n",
      "      - Label = exo-rem-lowres\n",
      "      - Model parameters: ['teff', 'logg', 'feh', 'c_o_ratio']\n",
      "      - Teff range (K): [400, 2000]\n",
      "      - Wavelength range (um): [0.34, 250.0]\n",
      "      - Sampling (lambda/d_lambda): 500\n",
      "      - File size: 493 MB\n",
      "      - Reference: Charnay et al. (2018)\n",
      "      - URL: https://ui.adsabs.harvard.edu/abs/2018ApJ...854..172C\n",
      "\n",
      "   - Exo-REM:\n",
      "      - Label = exo-rem-nocloud\n",
      "      - Model parameters: ['teff', 'logg', 'feh', 'c_o_ratio']\n",
      "      - Teff range (K): [200, 1950]\n",
      "      - Wavelength range (um): [0.34, 250.0]\n",
      "      - Sampling (lambda/d_lambda): 500\n",
      "      - File size: 356 MB\n",
      "      - Reference: Charnay et al. (2018)\n",
      "      - URL: https://ui.adsabs.harvard.edu/abs/2018ApJ...854..172C\n",
      "\n",
      "   - Exo-REM:\n",
      "      - Label = exo-rem-highres\n",
      "      - Model parameters: ['teff', 'logg', 'feh', 'c_o_ratio']\n",
      "      - Teff range (K): [400, 2000]\n",
      "      - Wavelength range (um): [0.7, 250.0]\n",
      "      - Sampling (lambda/d_lambda): 20000\n",
      "      - File size: 14 GB\n",
      "      - Reference: Charnay et al. (2018)\n",
      "      - URL: https://ui.adsabs.harvard.edu/abs/2018ApJ...854..172C\n",
      "\n",
      "   - Exo-REM:\n",
      "      - Label = exo-rem-highres-isotopes\n",
      "      - Model parameters: ['teff', 'logg', 'feh', 'c_o_ratio', 'log_co_iso']\n",
      "      - Teff range (K): [400, 2000]\n",
      "      - Wavelength range (um): [0.7, 250.0]\n",
      "      - Sampling (lambda/d_lambda): 20000\n",
      "      - File size: 6.2G GB\n",
      "      - Reference: Charnay et al. (2018)\n",
      "      - URL: https://ui.adsabs.harvard.edu/abs/2018ApJ...854..172C\n",
      "\n",
      "   - Koester WD:\n",
      "      - Label = koester-wd\n",
      "      - Model parameters: ['teff', 'logg']\n",
      "      - Teff range (K): [5000, 80000]\n",
      "      - Wavelength range (um): [0.1, 3]\n",
      "      - Sampling (lambda/d_lambda): 1000\n",
      "      - File size: 44 MB\n",
      "      - Reference: Koester (2010)\n",
      "      - URL: https://ui.adsabs.harvard.edu/abs/2010MmSAI..81..921K\n",
      "\n",
      "   - coolTLUSTY clear EQ:\n",
      "      - Label = lacy2023-clear-eq\n",
      "      - Model parameters: ['teff', 'logg', 'feh']\n",
      "      - Teff range (K): [200, 600]\n",
      "      - Wavelength range (um): [0.4, 300]\n",
      "      - Sampling (lambda/d_lambda): 4000\n",
      "      - File size: 137 MB\n",
      "      - Reference: Lacy & Burrows (2023)\n",
      "      - URL: https://ui.adsabs.harvard.edu/abs/2023ApJ...950....8L\n",
      "\n",
      "   - coolTLUSTY clear NEQ:\n",
      "      - Label = lacy2023-clear-neq\n",
      "      - Model parameters: ['teff', 'logg', 'feh']\n",
      "      - Teff range (K): [200, 600]\n",
      "      - Wavelength range (um): [0.4, 300]\n",
      "      - Sampling (lambda/d_lambda): 4000\n",
      "      - File size: 136 MB\n",
      "      - Reference: Lacy & Burrows (2023)\n",
      "      - URL: https://ui.adsabs.harvard.edu/abs/2023ApJ...950....8L\n",
      "\n",
      "   - coolTLUSTY thick clouds EQ:\n",
      "      - Label = lacy2023-cloudy-thick-eq\n",
      "      - Model parameters: ['teff', 'logg', 'feh']\n",
      "      - Teff range (K): [200, 450]\n",
      "      - Wavelength range (um): [0.4, 300]\n",
      "      - Sampling (lambda/d_lambda): 4000\n",
      "      - File size: 74 MB\n",
      "      - Reference: Lacy & Burrows (2023)\n",
      "      - URL: https://ui.adsabs.harvard.edu/abs/2023ApJ...950....8L\n",
      "\n",
      "   - coolTLUSTY thick clouds NEQ:\n",
      "      - Label = lacy2023-cloudy-thick-neq\n",
      "      - Model parameters: ['teff', 'logg', 'feh']\n",
      "      - Teff range (K): [200, 450]\n",
      "      - Wavelength range (um): [0.4, 300]\n",
      "      - Sampling (lambda/d_lambda): 4000\n",
      "      - File size: 63 MB\n",
      "      - Reference: Lacy & Burrows (2023)\n",
      "      - URL: https://ui.adsabs.harvard.edu/abs/2023ApJ...950....8L\n",
      "\n",
      "   - coolTLUSTY thin clouds EQ:\n",
      "      - Label = lacy2023-cloudy-thin-eq\n",
      "      - Model parameters: ['teff', 'logg', 'feh']\n",
      "      - Teff range (K): [200, 450]\n",
      "      - Wavelength range (um): [0.4, 300]\n",
      "      - Sampling (lambda/d_lambda): 4000\n",
      "      - File size: 75 MB\n",
      "      - Reference: Lacy & Burrows (2023)\n",
      "      - URL: https://ui.adsabs.harvard.edu/abs/2023ApJ...950....8L\n",
      "\n",
      "   - coolTLUSTY thin clouds NEQ:\n",
      "      - Label = lacy2023-cloudy-thin-neq\n",
      "      - Model parameters: ['teff', 'logg', 'feh']\n",
      "      - Teff range (K): [200, 450]\n",
      "      - Wavelength range (um): [0.4, 300]\n",
      "      - Sampling (lambda/d_lambda): 4000\n",
      "      - File size: 46 MB\n",
      "      - Reference: Lacy & Burrows (2023)\n",
      "      - URL: https://ui.adsabs.harvard.edu/abs/2023ApJ...950....8L\n",
      "\n",
      "   - Morley et al. (2012):\n",
      "      - Label = morley2012\n",
      "      - Model parameters: ['teff', 'logg', 'fsed']\n",
      "      - Teff range (K): [400, 1300]\n",
      "      - Wavelength range (um): [0.6, 30]\n",
      "      - Sampling (lambda/d_lambda): 6000\n",
      "      - File size: 62 MB\n",
      "      - Reference: Morley et al. (2012)\n",
      "      - URL: https://ui.adsabs.harvard.edu/abs/2012ApJ...756..172M\n",
      "\n",
      "   - petitCODE cool clear:\n",
      "      - Label = petitcode-cool-clear\n",
      "      - Model parameters: ['teff', 'logg', 'feh']\n",
      "      - Teff range (K): [500, 1000]\n",
      "      - Wavelength range (um): [0.1, 250]\n",
      "      - Sampling (lambda/d_lambda): 1000\n",
      "      - File size: 62 MB\n",
      "      - Reference: Mollière et al. (2015)\n",
      "      - URL: https://ui.adsabs.harvard.edu/abs/2015ApJ...813...47M\n",
      "\n",
      "   - petitCODE cool cloudy:\n",
      "      - Label = petitcode-cool-cloudy\n",
      "      - Model parameters: ['teff', 'logg', 'feh', 'fsed']\n",
      "      - Teff range (K): [500, 850]\n",
      "      - Wavelength range (um): [0.1, 250]\n",
      "      - Sampling (lambda/d_lambda): 1000\n",
      "      - Extra details: log(Kzz) = 7.5\n",
      "      - File size: 163 MB\n",
      "      - Reference: Mollière et al. (2015)\n",
      "      - URL: https://ui.adsabs.harvard.edu/abs/2015ApJ...813...47M\n",
      "\n",
      "   - petitCODE hot clear:\n",
      "      - Label = petitcode-hot-clear\n",
      "      - Model parameters: ['teff', 'logg', 'feh', 'c_o_ratio']\n",
      "      - Teff range (K): [1000, 2000]\n",
      "      - Wavelength range (um): [0.1, 250]\n",
      "      - Sampling (lambda/d_lambda): 1000\n",
      "      - File size: 31 MB\n",
      "      - Reference: Mollière et al. (2015)\n",
      "      - URL: https://ui.adsabs.harvard.edu/abs/2015ApJ...813...47M\n",
      "\n",
      "   - petitCODE hot cloudy:\n",
      "      - Label = petitcode-hot-cloudy\n",
      "      - Model parameters: ['teff', 'logg', 'feh', 'c_o_ratio', 'fsed']\n",
      "      - Teff range (K): [1000, 2000]\n",
      "      - Wavelength range (um): [0.1, 250]\n",
      "      - Sampling (lambda/d_lambda): 1000\n",
      "      - File size: 92 MB\n",
      "      - Reference: Mollière et al. (2015)\n",
      "      - URL: https://ui.adsabs.harvard.edu/abs/2015ApJ...813...47M\n",
      "\n",
      "   - petitCODE clear (Linder et al. 2019):\n",
      "      - Label = petitcode-linder2019-clear\n",
      "      - Model parameters: ['teff', 'logg', 'feh']\n",
      "      - Teff range (K): [150, 1000]\n",
      "      - Wavelength range (um): [0.1, 250]\n",
      "      - Sampling (lambda/d_lambda): 1000\n",
      "      - File size: 163 MB\n",
      "      - Reference: Linder et al. (2019)\n",
      "      - URL: https://ui.adsabs.harvard.edu/abs/2019A%26A...623A..85L\n",
      "\n",
      "   - petitCODE cloudy (Linder et al. 2019):\n",
      "      - Label = petitcode-linder2019-cloudy\n",
      "      - Model parameters: ['teff', 'logg', 'feh', 'fsed']\n",
      "      - Teff range (K): [150, 1000]\n",
      "      - Wavelength range (um): [0.1, 250]\n",
      "      - Sampling (lambda/d_lambda): 1000\n",
      "      - File size: 976 MB\n",
      "      - Reference: Linder et al. (2019)\n",
      "      - URL: https://ui.adsabs.harvard.edu/abs/2019A%26A...623A..85L\n",
      "\n",
      "   - PHOENIX (Husser et al. 2013):\n",
      "      - Label = phoenix-husser2013\n",
      "      - Model parameters: ['teff', 'logg', 'feh']\n",
      "      - Teff range (K): [2300, 12000]\n",
      "      - Wavelength range (um): [0.5, 5]\n",
      "      - Sampling (lambda/d_lambda): 20000\n",
      "      - Extra details: [alpha/Fe] = 0.0\n",
      "      - File size: 4.7 GB\n",
      "      - Reference: Husser et al. (2013)\n",
      "      - URL: https://ui.adsabs.harvard.edu/abs/2013A%26A...553A...6H\n",
      "\n",
      "   - Saumon & Marley (2008) clear:\n",
      "      - Label = saumon2008-clear\n",
      "      - Model parameters: ['teff', 'logg']\n",
      "      - Teff range (K): [500, 2400]\n",
      "      - Wavelength range (um): [0.4, 50]\n",
      "      - Sampling (lambda/d_lambda): 6000\n",
      "      - File size: 87 MB\n",
      "\n",
      "   - Saumon & Marley (2008) cloudy:\n",
      "      - Label = saumon2008-cloudy\n",
      "      - Model parameters: ['teff', 'logg']\n",
      "      - Teff range (K): [500, 2400]\n",
      "      - Wavelength range (um): [0.4, 50]\n",
      "      - Sampling (lambda/d_lambda): 6000\n",
      "      - File size: 54 MB\n",
      "\n",
      "   - Sonora Cholla:\n",
      "      - Label = sonora-cholla\n",
      "      - Model parameters: ['teff', 'logg', 'log_kzz']\n",
      "      - Teff range (K): [500, 1300]\n",
      "      - Wavelength range (um): [1, 250]\n",
      "      - Sampling (lambda/d_lambda): 5000\n",
      "      - Extra details: [Fe/H] = 0.0\n",
      "      - File size: 149 MB\n",
      "      - Reference: Karalidi et al. (2021)\n",
      "      - URL: https://zenodo.org/record/4450269\n",
      "\n",
      "   - Sonora Bobcat:\n",
      "      - Label = sonora-bobcat\n",
      "      - Model parameters: ['teff', 'logg', 'feh']\n",
      "      - Teff range (K): [200, 2400]\n",
      "      - Wavelength range (um): [0.4, 50]\n",
      "      - Sampling (lambda/d_lambda): 5000\n",
      "      - File size: 392 MB\n",
      "      - Reference: Marley et al. (2021)\n",
      "      - URL: https://zenodo.org/record/5063476\n",
      "\n",
      "   - Sonora Bobcat C/O:\n",
      "      - Label = sonora-bobcat-co\n",
      "      - Model parameters: ['teff', 'c_o_ratio']\n",
      "      - Teff range (K): [200, 2400]\n",
      "      - Wavelength range (um): [0.4, 50]\n",
      "      - Sampling (lambda/d_lambda): 5000\n",
      "      - Extra details: [Fe/H] = 0.0, log(g) = 5.0\n",
      "      - File size: 41 MB\n",
      "      - Reference: Marley et al. (2021)\n",
      "      - URL: https://zenodo.org/record/5063476\n",
      "\n",
      "   - Sonora Elf Owl:\n",
      "      - Label = sonora-elfowl-l\n",
      "      - Model parameters: ['teff', 'logg', 'feh', 'c_o_ratio', 'log_kzz']\n",
      "      - Teff range (K): [1300, 2400]\n",
      "      - Wavelength range (um): [0.6, 15]\n",
      "      - Sampling (lambda/d_lambda): 60000\n",
      "      - File size: 36 GB\n",
      "      - Reference: Mukherjee et al. (2023)\n",
      "      - URL: https://zenodo.org/records/10385987\n",
      "\n",
      "   - Sonora Elf Owl:\n",
      "      - Label = sonora-elfowl-t\n",
      "      - Model parameters: ['teff', 'logg', 'feh', 'c_o_ratio', 'log_kzz']\n",
      "      - Teff range (K): [575, 1200]\n",
      "      - Wavelength range (um): [0.6, 15]\n",
      "      - Sampling (lambda/d_lambda): 60000\n",
      "      - File size: 36 GB\n",
      "      - Reference: Mukherjee et al. (2023)\n",
      "      - URL: https://zenodo.org/records/10385821\n",
      "\n",
      "   - Sonora Elf Owl:\n",
      "      - Label = sonora-elfowl-y\n",
      "      - Model parameters: ['teff', 'logg', 'feh', 'c_o_ratio', 'log_kzz']\n",
      "      - Teff range (K): [275, 550]\n",
      "      - Wavelength range (um): [0.6, 15]\n",
      "      - Sampling (lambda/d_lambda): 60000\n",
      "      - File size: 36 GB\n",
      "      - Reference: Mukherjee et al. (2023)\n",
      "      - URL: https://zenodo.org/records/10381250\n",
      "\n",
      "   - Sonora Diamondback:\n",
      "      - Label = sonora-diamondback\n",
      "      - Model parameters: ['teff', 'logg', 'feh', 'fsed']\n",
      "      - Teff range (K): [900, 2400]\n",
      "      - Wavelength range (um): [0.3, 250]\n",
      "      - Sampling (lambda/d_lambda): 6000\n",
      "      - File size: 639 MB\n",
      "      - Reference: Morley et al. (2024)\n",
      "      - URL: https://zenodo.org/records/12735103\n",
      "\n",
      "   - Sonora Diamondback:\n",
      "      - Label = sonora-diamondback-highres\n",
      "      - Model parameters: ['teff', 'logg', 'feh', 'fsed']\n",
      "      - Teff range (K): [900, 2400]\n",
      "      - Wavelength range (um): [0.3, 250]\n",
      "      - Sampling (lambda/d_lambda): 30000\n",
      "      - File size: 2 GB\n",
      "      - Reference: Morley et al. (2024)\n",
      "      - URL: https://zenodo.org/records/12735103\n",
      "\n",
      "   - SPHINX:\n",
      "      - Label = sphinx\n",
      "      - Model parameters: ['teff', 'logg', 'feh', 'c_o_ratio']\n",
      "      - Teff range (K): [2000, 4000]\n",
      "      - Wavelength range (um): [0.1, 20]\n",
      "      - Sampling (lambda/d_lambda): 250\n",
      "      - File size: 63 MB\n",
      "      - Reference: Iyer et al. (2023)\n",
      "      - URL: https://zenodo.org/record/7416042\n",
      "\n"
     ]
    }
   ],
   "source": [
    "_ = database.available_models()"
   ]
  },
  {
   "cell_type": "markdown",
   "metadata": {},
   "source": [
    "Next, we will import the model spectra with the [add_model](https://species.readthedocs.io/en/latest/species.data.html#species.data.database.Database.add_model) method of [Database](https://species.readthedocs.io/en/latest/species.data.html#species.data.database.Database). This step will automatically download the [Sonora Diamondback](https://zenodo.org/records/12735103) spectra ($\\lambda/\\Delta\\lambda = 6000$) to the [data_folder](https://species.readthedocs.io/en/latest/configuration.html). The data are then unpacked and added to the database. We restrict the temperature range to 1300-1700 K, so not all spectra are unpacked and added to the databse."
   ]
  },
  {
   "cell_type": "code",
   "execution_count": 5,
   "metadata": {},
   "outputs": [
    {
     "name": "stderr",
     "output_type": "stream",
     "text": [
      "Downloading data from 'https://home.strw.leidenuniv.nl/~stolker/species/sonora-diamondback.tgz' to file '/Users/tomasstolker/applications/species/docs/tutorials/data/sonora-diamondback.tgz'.\n"
     ]
    },
    {
     "name": "stdout",
     "output_type": "stream",
     "text": [
      "\n",
      "-------------------------\n",
      "Add grid of model spectra\n",
      "-------------------------\n",
      "\n",
      "Database tag: sonora-diamondback\n",
      "Model name: Sonora Diamondback\n",
      "\n"
     ]
    },
    {
     "name": "stderr",
     "output_type": "stream",
     "text": [
      "100%|████████████████████████████████████████| 726M/726M [00:00<00:00, 363GB/s]\n"
     ]
    },
    {
     "name": "stdout",
     "output_type": "stream",
     "text": [
      "\n",
      "Unpacking 375/1200 model spectra from Sonora Diamondback (639 MB)... [DONE]\n",
      "\n",
      "Please cite Morley et al. (2024) when using Sonora Diamondback in a publication\n",
      "Reference URL: https://zenodo.org/records/12735103\n",
      "\n",
      "Wavelength range (um) = 0.3 - 250\n",
      "Sampling (lambda/d_lambda) = 6000\n",
      "Teff range (K) = 1300.0 - 1700.0\n",
      "\n",
      "Adding Sonora Diamondback model spectra... data/sonora-diamondback/sonora-diamondback_teff_1700_logg_5.5_feh_0.5_fsed_8_spec.npy \n",
      "\n",
      "Grid points stored in the database:\n",
      "   - Teff = [1300. 1400. 1500. 1600. 1700.]\n",
      "   - log(g) = [3.5 4.  4.5 5.  5.5]\n",
      "   - [Fe/H] = [-0.5  0.   0.5]\n",
      "   - f_sed = [1. 2. 3. 4. 8.]\n",
      "\n",
      "Number of grid points per parameter:\n",
      "   - teff: 5\n",
      "   - logg: 5\n",
      "   - feh: 3\n",
      "   - fsed: 5\n",
      "\n",
      "Number of stored grid points: 375\n",
      "Number of interpolated grid points: 0\n",
      "Number of missing grid points: 0\n"
     ]
    }
   ],
   "source": [
    "database.add_model(model='sonora-diamondback', teff_range=(1300., 1700.))"
   ]
  },
  {
   "cell_type": "markdown",
   "metadata": {},
   "source": [
    "## Interpolating the model grid"
   ]
  },
  {
   "cell_type": "markdown",
   "metadata": {},
   "source": [
    "We will now read the spectra from the database by creating an instance of [ReadModel](https://species.readthedocs.io/en/latest/species.read.html#species.read.read_model.ReadModel)."
   ]
  },
  {
   "cell_type": "code",
   "execution_count": 6,
   "metadata": {},
   "outputs": [],
   "source": [
    "model = ReadModel(model='sonora-diamondback', wavel_range=(0.5, 10.))"
   ]
  },
  {
   "cell_type": "markdown",
   "metadata": {},
   "source": [
    "Let's see what the grid boundaries are of the model grid that we stored in the database."
   ]
  },
  {
   "cell_type": "code",
   "execution_count": 7,
   "metadata": {},
   "outputs": [
    {
     "data": {
      "text/plain": [
       "{'teff': (np.float64(1300.0), np.float64(1700.0)),\n",
       " 'logg': (np.float64(3.5), np.float64(5.5)),\n",
       " 'feh': (np.float64(-0.5), np.float64(0.5)),\n",
       " 'fsed': (np.float64(1.0), np.float64(8.0))}"
      ]
     },
     "execution_count": 7,
     "metadata": {},
     "output_type": "execute_result"
    }
   ],
   "source": [
    "model.get_bounds()"
   ]
  },
  {
   "cell_type": "markdown",
   "metadata": {},
   "source": [
    "We will now interpolate the grid in the ($T_\\mathrm{eff}$, $\\log(g)$, $[\\mathrm{Fe}/\\mathrm{H}]$, $f_\\mathrm{sed}$) space by providing the parameters in a dictionary. The radius and distance (or parallax) are optional, otherwise the emitted flux is given at the planet surface."
   ]
  },
  {
   "cell_type": "code",
   "execution_count": 8,
   "metadata": {},
   "outputs": [],
   "source": [
    "model_param = {'teff':1510., 'logg':4.1, 'feh':0.1, 'fsed': 2.5, 'radius': 1., 'distance': 100.}"
   ]
  },
  {
   "cell_type": "markdown",
   "metadata": {},
   "source": [
    "To interpolate a spectrum, we use the [get_model](https://species.readthedocs.io/en/latest/species.read.html#species.read.read_model.ReadModel.get_model) method and provide the parameter dictionary as input, and we also set the optional resolving power, `spec_res`, such that the spectrum will be smoothed to this provided instrument resolution."
   ]
  },
  {
   "cell_type": "code",
   "execution_count": 9,
   "metadata": {},
   "outputs": [],
   "source": [
    "model_box = model.get_model(model_param=model_param, spec_res=200.)"
   ]
  },
  {
   "cell_type": "markdown",
   "metadata": {},
   "source": [
    "The returned data are stored in a [ModelBox](https://species.readthedocs.io/en/latest/species.core.html#species.core.box.ModelBox). Let's have a look at its content!"
   ]
  },
  {
   "cell_type": "code",
   "execution_count": 10,
   "metadata": {},
   "outputs": [
    {
     "name": "stdout",
     "output_type": "stream",
     "text": [
      "Opening ModelBox...\n",
      "model = sonora-diamondback\n",
      "type = None\n",
      "wavelength = [ 0.49850832  0.49859061  0.49867291 ... 10.02768223 10.02933755\n",
      " 10.03099315]\n",
      "flux = [3.18634948e-19 3.18562800e-19 3.18394012e-19 ... 1.09300526e-18\n",
      " 1.09339313e-18 1.09381960e-18]\n",
      "parameters = {'teff': 1510.0, 'logg': 4.1, 'feh': 0.1, 'fsed': 2.5, 'radius': 1.0, 'distance': 100.0, 'log_lum_atm': np.float64(-4.30572764588594), 'log_lum': np.float64(-4.30572764588594), 'mass': np.float64(5.079072973539381)}\n",
      "quantity = flux\n",
      "contribution = None\n",
      "bol_flux = None\n",
      "spec_res = 200.0\n",
      "extra_out = None\n"
     ]
    }
   ],
   "source": [
    "model_box.open_box()"
   ]
  },
  {
   "cell_type": "markdown",
   "metadata": {},
   "source": [
    "We will now create a new dictionary with the same atmospheric parameters, but we will also include the visual extinction, $A_V$, and use the extinction relation from [Gordon et al. (2023)](https://ui.adsabs.harvard.edu/abs/2023ApJ...950...86G) through the [dust-extinction](https://dust-extinction.readthedocs.io) package."
   ]
  },
  {
   "cell_type": "code",
   "execution_count": 11,
   "metadata": {},
   "outputs": [
    {
     "name": "stdout",
     "output_type": "stream",
     "text": [
      "{'teff': 1510.0, 'logg': 4.1, 'feh': 0.1, 'fsed': 2.5, 'radius': 1.0, 'distance': 100.0, 'log_lum_atm': np.float64(-4.30572764588594), 'log_lum': np.float64(-4.30572764588594), 'mass': np.float64(5.079072973539381), 'ext_model': 'G23', 'ext_av': 5.0}\n"
     ]
    }
   ],
   "source": [
    "param_ext = model_param.copy()\n",
    "param_ext['ext_model'] = 'G23'\n",
    "param_ext['ext_av'] = 5.0\n",
    "print(param_ext)"
   ]
  },
  {
   "cell_type": "markdown",
   "metadata": {},
   "source": [
    "We use again the [get_model](https://species.readthedocs.io/en/latest/species.read.html#species.read.read_model.ReadModel.get_model) method and store the result in another [ModelBox](https://species.readthedocs.io/en/latest/species.core.html#species.core.box.ModelBox)."
   ]
  },
  {
   "cell_type": "code",
   "execution_count": 12,
   "metadata": {},
   "outputs": [],
   "source": [
    "model_ext = model.get_model(model_param=param_ext, spec_res=200.)"
   ]
  },
  {
   "cell_type": "markdown",
   "metadata": {},
   "source": [
    "The two boxes with the model spectra are now provided as input to the [plot_spectrum](https://species.readthedocs.io/en/latest/species.plot.html#species.plot.plot_spectrum.plot_spectrum) function. We also include the filter profiles of several common filters."
   ]
  },
  {
   "cell_type": "code",
   "execution_count": 13,
   "metadata": {},
   "outputs": [
    {
     "name": "stdout",
     "output_type": "stream",
     "text": [
      "\n",
      "-------------\n",
      "Plot spectrum\n",
      "-------------\n",
      "\n",
      "Boxes:\n",
      "   - ModelBox\n",
      "   - ModelBox\n",
      "\n",
      "Object type: planet\n",
      "Quantity: flux density\n",
      "Units: ('um', 'W m-2 um-1')\n",
      "Filter profiles: ['MKO/NSFCam.J', 'MKO/NSFCam.H', 'MKO/NSFCam.K', 'MKO/NSFCam.Lp', 'MKO/NSFCam.Mp']\n",
      "\n",
      "Figure size: (7.0, 3.0)\n",
      "Legend parameters: None\n",
      "Include model name: False\n",
      "Font sizes: {'xlabel': 11.0, 'ylabel': 11.0, 'title': 13.0, 'legend': 9.0}\n"
     ]
    },
    {
     "data": {
      "image/png": "[encoded data removed]",
      "text/plain": [
       "<Figure size 700x300 with 2 Axes>"
      ]
     },
     "metadata": {},
     "output_type": "display_data"
    }
   ],
   "source": [
    "fig = plot_spectrum(boxes=[model_box, model_ext],\n",
    "                    filters=['MKO/NSFCam.J', 'MKO/NSFCam.H', 'MKO/NSFCam.K', 'MKO/NSFCam.Lp', 'MKO/NSFCam.Mp'],\n",
    "                    xlim=(0.8, 5.),\n",
    "                    legend={'loc': 'upper right', 'frameon': False, 'fontsize': 8.5},\n",
    "                    figsize=(7., 3.),\n",
    "                    output=None)"
   ]
  },
  {
   "cell_type": "markdown",
   "metadata": {},
   "source": [
    "The [plot_spectrum](https://species.readthedocs.io/en/latest/species.plot.html#species.plot.plot_spectrum.plot_spectrum) function returned the [Figure](https://matplotlib.org/stable/api/figure_api.html#matplotlib.figure.Figure) object of the plot. The functionalities of [Matplotlib](https://matplotlib.org/stable/index.html) can be used for further customization of the plot. For example, the axes of the plot are stored at the `axes` attribute of `Figure`."
   ]
  },
  {
   "cell_type": "code",
   "execution_count": 14,
   "metadata": {},
   "outputs": [
    {
     "data": {
      "text/plain": [
       "[<Axes: xlabel='Wavelength (µm)', ylabel='$F_\\\\lambda$ (W m$^{-2}$ µm$^{-1}$)'>,\n",
       " <Axes: ylabel='$T_\\\\lambda$'>]"
      ]
     },
     "execution_count": 14,
     "metadata": {},
     "output_type": "execute_result"
    }
   ],
   "source": [
    "fig.axes"
   ]
  },
  {
   "cell_type": "markdown",
   "metadata": {},
   "source": [
    "## Extracting a spectrum at a grid point"
   ]
  },
  {
   "cell_type": "markdown",
   "metadata": {},
   "source": [
    "It is also possible to extract a spectrum at one of the grid points, which doesn't require any interpolation. Let's check with the [get_points](https://species.readthedocs.io/en/latest/species.read.html#species.read.read_model.ReadModel.get_points) method what parameter values are stored in the database."
   ]
  },
  {
   "cell_type": "code",
   "execution_count": 15,
   "metadata": {},
   "outputs": [
    {
     "data": {
      "text/plain": [
       "{'teff': array([1300., 1400., 1500., 1600., 1700.]),\n",
       " 'logg': array([3.5, 4. , 4.5, 5. , 5.5]),\n",
       " 'feh': array([-0.5,  0. ,  0.5]),\n",
       " 'fsed': array([1., 2., 3., 4., 8.])}"
      ]
     },
     "execution_count": 15,
     "metadata": {},
     "output_type": "execute_result"
    }
   ],
   "source": [
    "model.get_points()"
   ]
  },
  {
   "cell_type": "markdown",
   "metadata": {},
   "source": [
    "We create a dictionary with values at one of the grid points."
   ]
  },
  {
   "cell_type": "code",
   "execution_count": 16,
   "metadata": {},
   "outputs": [],
   "source": [
    "model_param = {'teff':1500., 'logg':4., 'feh':0., 'fsed': 2.}"
   ]
  },
  {
   "cell_type": "markdown",
   "metadata": {},
   "source": [
    "And now use the [get_data](https://species.readthedocs.io/en/latest/species.read.html#species.read.read_model.ReadModel.get_data) method to extract a spectrum."
   ]
  },
  {
   "cell_type": "code",
   "execution_count": 17,
   "metadata": {},
   "outputs": [],
   "source": [
    "model_full = model.get_data(model_param)"
   ]
  },
  {
   "cell_type": "markdown",
   "metadata": {},
   "source": [
    "Let's make another plot with [plot_spectrum](https://species.readthedocs.io/en/latest/species.plot.html#species.plot.plot_spectrum.plot_spectrum). In this case, the spectrum is shown without applying a smoothing, although the `spec_res` parameter can also be set in `get_data`."
   ]
  },
  {
   "cell_type": "code",
   "execution_count": 18,
   "metadata": {},
   "outputs": [
    {
     "name": "stdout",
     "output_type": "stream",
     "text": [
      "\n",
      "-------------\n",
      "Plot spectrum\n",
      "-------------\n",
      "\n",
      "Boxes:\n",
      "   - ModelBox\n",
      "\n",
      "Object type: planet\n",
      "Quantity: flux density\n",
      "Units: ('um', 'W m-2 um-1')\n",
      "Filter profiles: None\n",
      "\n",
      "Figure size: (7.0, 3.0)\n",
      "Legend parameters: None\n",
      "Include model name: False\n",
      "Font sizes: {'xlabel': 11.0, 'ylabel': 11.0, 'title': 13.0, 'legend': 9.0}\n"
     ]
    },
    {
     "data": {
      "image/png": "[encoded data removed]",
      "text/plain": [
       "<Figure size 700x300 with 1 Axes>"
      ]
     },
     "metadata": {},
     "output_type": "display_data"
    }
   ],
   "source": [
    "fig = plot_spectrum(boxes=[model_full],\n",
    "                    filters=None,\n",
    "                    xlim=(0.8, 5.),\n",
    "                    legend={'loc': 'upper right', 'frameon': False, 'fontsize': 10.},\n",
    "                    figsize=(7., 3.),\n",
    "                    output=None)"
   ]
  },
  {
   "cell_type": "markdown",
   "metadata": {},
   "source": [
    "## Calculating synthetic photometry"
   ]
  },
  {
   "cell_type": "markdown",
   "metadata": {},
   "source": [
    "The [ReadModel](https://species.readthedocs.io/en/latest/species.read.html#species.read.read_model.ReadModel) class can also be used for calculating photometric fluxes and magnitudes. To do so, we create a new instance and set the `filter_name` argument to the [VLT/NACO $M'$ filter](http://svo2.cab.inta-csic.es/svo/theory/fps/index.php?id=Paranal/NACO.Mp&&mode=browse&gname=Paranal&gname2=NACO#filter). This will automatically download and add the filter profile. "
   ]
  },
  {
   "cell_type": "code",
   "execution_count": 19,
   "metadata": {},
   "outputs": [],
   "source": [
    "model = ReadModel(model='sonora-diamondback', filter_name='Paranal/NACO.Mp')"
   ]
  },
  {
   "cell_type": "markdown",
   "metadata": {},
   "source": [
    "We create again a dictionary with the parameters but now run the [get_flux](https://species.readthedocs.io/en/latest/species.read.html#species.read.read_model.ReadModel.get_flux) method, which returns the flux in W m$^{-2}$ $\\mu$m$^{-1}$."
   ]
  },
  {
   "cell_type": "code",
   "execution_count": 20,
   "metadata": {},
   "outputs": [
    {
     "name": "stderr",
     "output_type": "stream",
     "text": [
      "Downloading data from 'https://archive.stsci.edu/hlsps/reference-atlases/cdbs/current_calspec/alpha_lyr_stis_011.fits' to file '/Users/tomasstolker/applications/species/docs/tutorials/data/alpha_lyr_stis_011.fits'.\n"
     ]
    },
    {
     "name": "stdout",
     "output_type": "stream",
     "text": [
      "\n"
     ]
    },
    {
     "name": "stderr",
     "output_type": "stream",
     "text": [
      "100%|████████████████████████████████████████| 288k/288k [00:00<00:00, 133MB/s]\n"
     ]
    },
    {
     "name": "stdout",
     "output_type": "stream",
     "text": [
      "\n",
      "Adding spectrum: Vega\n",
      "Reference: Bohlin et al. 2014, PASP, 126\n",
      "URL: https://ui.adsabs.harvard.edu/abs/2014PASP..126..711B/abstract\n",
      "Flux (W m-2 um-1) = 8.74e-18\n"
     ]
    }
   ],
   "source": [
    "model_param = {'teff':1510., 'logg':4.1, 'feh':0.1, 'fsed': 2.5, 'radius': 1., 'distance': 100.}\n",
    "flux = model.get_flux(model_param)\n",
    "print(f'Flux (W m-2 um-1) = {flux[0]:.2e}')"
   ]
  },
  {
   "cell_type": "markdown",
   "metadata": {},
   "source": [
    "Since we provided a radius and distance, the emitted flux at the planet surface has been scaled by $(\\mathrm{radius}/\\mathrm{distance})^2$."
   ]
  },
  {
   "cell_type": "markdown",
   "metadata": {},
   "source": [
    "Similarly, we can use the [get_magnitude](https://species.readthedocs.io/en/latest/species.read.html#species.read.read_model.ReadModel.get_magnitude) method to calculate the synthetic magnitude for the NACO $M'$ filter. Note that the returned absolute magnitude is set to `None` if the parameter dictionary does not contain a radius and distance."
   ]
  },
  {
   "cell_type": "code",
   "execution_count": 21,
   "metadata": {},
   "outputs": [
    {
     "name": "stdout",
     "output_type": "stream",
     "text": [
      "Apparent magnitude = 15.96\n",
      "Absolute magnitude = 10.96\n"
     ]
    }
   ],
   "source": [
    "app_mag, abs_mag = model.get_magnitude(model_param)\n",
    "print(f'Apparent magnitude = {app_mag:.2f}')\n",
    "print(f'Absolute magnitude = {abs_mag:.2f}')"
   ]
  },
  {
   "cell_type": "markdown",
   "metadata": {},
   "source": [
    "As expected, at a distance of 100 pc, the difference between the apparent and absolute magnitude is 5."
   ]
  }
 ],
 "metadata": {
  "kernelspec": {
   "display_name": "Python 3 (ipykernel)",
   "language": "python",
   "name": "python3"
  },
  "language_info": {
   "codemirror_mode": {
    "name": "ipython",
    "version": 3
   },
   "file_extension": ".py",
   "mimetype": "text/x-python",
   "name": "python",
   "nbconvert_exporter": "python",
   "pygments_lexer": "ipython3",
   "version": "3.12.7"
  }
 },
 "nbformat": 4,
 "nbformat_minor": 4
}
