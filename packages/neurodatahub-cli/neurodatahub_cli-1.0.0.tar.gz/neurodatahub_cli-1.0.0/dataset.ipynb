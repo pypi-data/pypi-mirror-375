{
 "cells": [
  {
   "cell_type": "markdown",
   "id": "c0d750ca",
   "metadata": {},
   "source": [
    "# Datatsets\n",
    "Detailed description of how to download them"
   ]
  },
  {
   "cell_type": "markdown",
   "id": "fb254929",
   "metadata": {},
   "source": [
    "## INDI"
   ]
  },
  {
   "cell_type": "markdown",
   "id": "a048c946",
   "metadata": {},
   "source": [
    "https://fcon_1000.projects.nitrc.org/indi/req_access.html"
   ]
  },
  {
   "cell_type": "markdown",
   "id": "fed97560",
   "metadata": {},
   "source": [
    "### DLBS\n",
    "\n",
    "Summary: The Dallas Lifespan Brain Study (DLBS) is a major effort designed to understand the antecedents of preservation and decline of cognitive function at different stages of the adult lifespan, with a particular interest in the early stages of a healthy brain’s march towards Alzheimer Disease. The DLBS aims to (1) understand how brain atrophy as well as accumulation of amyloid and tau affects healthy aging and cognition, (2) understand how the brain develops “neural scaffolds” to support cognition, and also (3) develop a corpus of research on the cognitive neuroscience of middle age. We have enrolled 350 healthy adults, aged 20-89 in the study who are thoroughly characterized in terms of cognition, brain structure and brain function across the adult lifespan. At Wave 1, DLBS participants received a structural MRI with DTI, three task-based functional MRI scans, and a resting state scan on a Philips 3T scanner and extensive cognitive testing combined with a detailed psychosocial battery. Amyloid imaging, using F-18 Florbetapir was conducted on a Siemens ECAT HR PET scanner on 60% of the sample during Wave 1. The DLBS is one of the most complete studies of the aging mind that is available, particularly in the United States, and can address many important hypotheses regarding the cognitive neuroscience of aging.\n",
    "\n",
    "Data: \n",
    "Cognitive data (N = 315)\n",
    "Anatomical MRI scans (N = 315)\n",
    "Amyloid PET scans (N =147)\n",
    "APOE gene information (N = 264, will add APOE for remaining subjects shortly)\n",
    "Demographic information: Age, gender, race, ethnicity categories, Education, MMSE scores\n",
    "\n",
    "Number of Sites : 1\n",
    "\n",
    "Project Page : [https://fcon_1000.projects.nitrc.org/indi/retro/dlbs.html](https://fcon_1000.projects.nitrc.org/indi/retro/dlbs.html)"
   ]
  },
  {
   "cell_type": "markdown",
   "id": "c2d8132e",
   "metadata": {},
   "source": [
    "### HBN \n",
    "Summary: The Healthy Brain Network (HBN) intends to revolutionize child and adolescent psychiatry by providing the scientific community with a large-scale dataset of 10,000 participants through an open data-sharing model. The aggregated database will bring multimodal brain imaging, genetics, and biological samples together with a standardized deep phenotyping protocol that spans a broad range of clinically relevant psychiatric, behavioral, cognitive, and lifestyle information. Rather than the more common model of focusing on a single disorder, we will include a broad range of disorders to promote the identification of biomarkers capable of differentiating between them. This strategy will also allow scientists to evaluate and refine the boundaries between disorders from a biological perspective. The proposed sample will form the foundations on which future efforts can build longitudinal components to facilitate predictions of risk and outcome.\n",
    "\n",
    "Paper: https://www.nature.com/articles/sdata2017181\n"
   ]
  },
  {
   "cell_type": "markdown",
   "id": "122f1735",
   "metadata": {},
   "source": [
    "```bash\n",
    "aws s3 sync --no-sign-request s3://fcp-indi/data/Projects/HBN/MRI/ . --exclude \"*\" --include \"*/sub-*/anat/*\"\n",
    "```"
   ]
  },
  {
   "cell_type": "markdown",
   "id": "2d822770",
   "metadata": {},
   "source": [
    "### CORR"
   ]
  },
  {
   "cell_type": "markdown",
   "id": "7e13ace8",
   "metadata": {},
   "source": [
    "```bash\n",
    "aws s3 sync --no-sign-request s3://fcp-indi/data/Projects/CORR/RawDataBIDS/ /CORR --exclude * --include */sub-*/ses-*/anat/* \n",
    "```"
   ]
  },
  {
   "cell_type": "markdown",
   "id": "7ec7bb17",
   "metadata": {},
   "source": [
    "### FCON1000"
   ]
  },
  {
   "cell_type": "markdown",
   "id": "5c28cee9",
   "metadata": {},
   "source": [
    "```bash\n",
    "aws s3 sync --no-sign-request s3://fcp-indi/data/Projects/FCON1000/ . --exclude \"*\" --include \"*/anat/*\"\n",
    "aws s3 sync --no-sign-request s3://fcp-indi/data/Projects/FCON1000/ . --exclude \"*\" --include \"participants.tsv\"\n",
    "```"
   ]
  },
  {
   "cell_type": "markdown",
   "id": "4ba4eedc",
   "metadata": {},
   "source": [
    "### ADHD 200"
   ]
  },
  {
   "cell_type": "markdown",
   "id": "9a234070",
   "metadata": {},
   "source": [
    "```bash\n",
    "aws s3 sync --no-sign-request s3://fcp-indi/data/Projects/ADHD200/RawDataBIDS/ . --exclude \"*/func/*\"\n",
    "```"
   ]
  },
  {
   "cell_type": "markdown",
   "id": "1db517de",
   "metadata": {},
   "source": [
    "### BGSP"
   ]
  },
  {
   "cell_type": "markdown",
   "id": "881f907e",
   "metadata": {},
   "source": [
    "```bash\n",
    "aws s3 sync --no-sign-request s3://fcp-indi/data/Projects/BGSP/orig_bids/ . --exclude \"*\" --include \"sub-*/*/anat/*\"\n",
    "```"
   ]
  },
  {
   "cell_type": "markdown",
   "id": "9d9b9050",
   "metadata": {},
   "source": [
    "### NKI-Rockland enhanced"
   ]
  },
  {
   "cell_type": "markdown",
   "id": "d69128e2",
   "metadata": {},
   "source": [
    "```bash\n",
    "aws s3 sync --no-sign-request s3://fcp-indi/data/Projects/RocklandSample/RawDataBIDSLatest/ NKI_fMRI/ --exclude \"*\" --include \"sub-*/ses-BAS*/*\"\n",
    "```"
   ]
  },
  {
   "cell_type": "markdown",
   "id": "c9c1c59d",
   "metadata": {},
   "source": [
    "### SLIM"
   ]
  },
  {
   "cell_type": "markdown",
   "id": "12b09cb8",
   "metadata": {},
   "source": [
    "```bash\n",
    "aws s3 sync --no-sign-request s3://fcp-indi/data/Projects/INDI/SLIM/RawData/ ./data/ --exclude \"*\" --include \"sub-*/ses-*/anat/*\"\n",
    "```"
   ]
  },
  {
   "cell_type": "markdown",
   "id": "b00d3b23",
   "metadata": {},
   "source": [
    "### ATLAS"
   ]
  },
  {
   "cell_type": "markdown",
   "id": "39b96566",
   "metadata": {},
   "source": [
    "```bash\n",
    "aws s3 ls --no-sign-request s3://fcp-indi/data/Projects/INDI/ATLAS\n",
    "```"
   ]
  },
  {
   "cell_type": "markdown",
   "id": "eab5041f",
   "metadata": {},
   "source": [
    "### DLBS"
   ]
  },
  {
   "cell_type": "markdown",
   "id": "427a1cf5",
   "metadata": {},
   "source": [
    "ftp://www.nitrc.org/fcon_1000/htdocs/indi/retro/dlbs_content/dlbs_imaging.tar.gz"
   ]
  },
  {
   "cell_type": "markdown",
   "id": "1b2c63a7",
   "metadata": {},
   "source": [
    "### NPC"
   ]
  },
  {
   "cell_type": "markdown",
   "id": "3be21322",
   "metadata": {},
   "source": [
    "```bash\n",
    "aws s3 sync --no-sign-request s3://openneuro.org/ds002330 ds002330-download/ . --exclude \"*/dwi/*\" --exclude \"*/func/*\" --exclude \"*/fmap/*\"\n",
    "```"
   ]
  },
  {
   "cell_type": "markdown",
   "id": "36a7a31c",
   "metadata": {},
   "source": [
    "### MPI-LEMON\n",
    "https://fcon_1000.projects.nitrc.org/indi/retro/MPI_LEMON.html"
   ]
  },
  {
   "cell_type": "markdown",
   "id": "84322c3b",
   "metadata": {},
   "source": [
    "```bash\n",
    "aws s3 sync --no-sign-request s3://fcp-indi/data/Projects/INDI/MPI-LEMON/MRI_MPILMBB_LEMON/ . --exclude \"*/dwi/*\" --exclude \"*/func/*\" --exclude \"*/fmap/*\"\n",
    "```"
   ]
  },
  {
   "cell_type": "markdown",
   "id": "4a9d47cc",
   "metadata": {},
   "source": [
    "### Narratives"
   ]
  },
  {
   "cell_type": "markdown",
   "id": "c9588e9b",
   "metadata": {},
   "source": [
    "```bash\n",
    "aws s3 sync --no-sign-request s3://openneuro.org/ds000221 ds000221-download/\n",
    "# or\n",
    "aws s3 ls --no-sign-request s3://fcp-indi/data/Projects/narratives/\n",
    "```"
   ]
  },
  {
   "cell_type": "markdown",
   "id": "2d869980",
   "metadata": {},
   "source": [
    "## ABIDE-1 ABIDE-2"
   ]
  },
  {
   "cell_type": "markdown",
   "id": "e9d61d7d",
   "metadata": {},
   "source": [
    "```bash\n",
    "aws s3 sync --no-sign-request s3://fcp-indi/data/Projects/ABIDE/RawDataBIDS/ . --exclude \"*\" --include \"*/anat/*\"\n",
    "aws s3 sync --no-sign-request s3://fcp-indi/data/Projects/ABIDE2/RawData/ . --exclude \"*\" --include \"*/anat/*\"\n",
    "```"
   ]
  },
  {
   "cell_type": "markdown",
   "id": "0c49913a",
   "metadata": {},
   "source": [
    "## openBHB"
   ]
  },
  {
   "cell_type": "markdown",
   "id": "40ad1d44",
   "metadata": {},
   "source": [
    "### The Reading Brain Project L1 Adults"
   ]
  },
  {
   "cell_type": "markdown",
   "id": "efda56cc",
   "metadata": {},
   "source": [
    "```bash\n",
    "aws s3 sync --no-sign-request s3://openneuro.org/ds003974 . --exclude \"*/dwi/*\" --exclude \"*/func/*\" --exclude \"*/fmap/*\"\n",
    "```"
   ]
  },
  {
   "cell_type": "markdown",
   "id": "b23ca8df",
   "metadata": {},
   "source": [
    "### The Reading Brain Project L2 Adults"
   ]
  },
  {
   "cell_type": "markdown",
   "id": "565afd59",
   "metadata": {},
   "source": [
    "```bash\n",
    "aws s3 sync --no-sign-request s3://openneuro.org/ds003872 . --exclude \"*/dwi/*\" --exclude \"*/func/*\" --exclude \"*/fmap/*\"\n",
    "```"
   ]
  },
  {
   "cell_type": "markdown",
   "id": "5d41b1e0",
   "metadata": {},
   "source": [
    "### localiser\n",
    "https://osf.io/vhtf6/files/osfstorage#"
   ]
  },
  {
   "cell_type": "markdown",
   "id": "b2773f7d",
   "metadata": {},
   "source": [
    "### yale High Res"
   ]
  },
  {
   "cell_type": "markdown",
   "id": "52113f3c",
   "metadata": {},
   "source": [
    "aria2c -x 10 -s 10 -j 10 https://fcp-indi.s3.amazonaws.com/data/Projects/INDI/YALE/highres.tar.gz\n",
    "\n",
    "\n",
    "aws s3 sync --no-sign-request s3://fcp-indi/data/Projects/INDI/YALE/folder/highres/ . --exclude \"*\" --include \"sub-*/ses-*/anat/*MPR_T1w.nii.gz\"\n"
   ]
  },
  {
   "cell_type": "markdown",
   "id": "333d6268",
   "metadata": {},
   "source": [
    "### yale Low Res\n",
    "\n",
    "MPRAGE, FLAIR and multiple runs of fMRI"
   ]
  },
  {
   "cell_type": "markdown",
   "id": "b32eb09c",
   "metadata": {},
   "source": [
    "aria2c -x 10 -j 10 -s 10 https://fcp-indi.s3.amazonaws.com/data/Projects/INDI/YALE/lowres.tar.gz"
   ]
  },
  {
   "cell_type": "markdown",
   "id": "f25286fb",
   "metadata": {},
   "source": [
    "## Independent Datasets"
   ]
  },
  {
   "cell_type": "markdown",
   "id": "1cf02184",
   "metadata": {},
   "source": [
    "### WU-1200 (HCP-YA/ HCP_1200)\n",
    "\n",
    "Summary:Mapping the human brain is one of the great scientific challenges of the 21st century. The Human Connectome Project (HCP) has tackled key aspects of this challenge by charting the neural pathways that underlie brain function and behavior, including high-quality neuroimaging data in over 1100 healthy young adults. Using greatly improved methods for data acquisition, analysis, and sharing, the HCP has provided the scientific community with data and discoveries that greatly enhance our understanding of human brain structure, function, and connectivity and their relationships to behavior. The ‘HCP-style’ neuroimaging approach is being applied to a new generation of studies, including the Lifespan HCP and Connectomes Related to Human Disease projects. \n",
    "\n",
    "Go to the project page login to the connectome db and enable aws access and secret key\n",
    "\n",
    "Project Page: [https://www.humanconnectome.org/study/hcp-young-adult](https://www.humanconnectome.org/study/hcp-young-adult)"
   ]
  },
  {
   "cell_type": "markdown",
   "id": "70568715",
   "metadata": {},
   "source": [
    "```bash\n",
    "aws configure\n",
    "aws s3 ls s3://hcp-openaccess/HCP_1200\n",
    "aws s3 sync s3://hcp-openaccess/HCP_1200/ HCP_1200 --exclude \"*\" --include \"*/T1w/T1w_acpc_dc_restore_brain.nii.gz\"\n",
    "```"
   ]
  },
  {
   "cell_type": "markdown",
   "id": "cd29c038",
   "metadata": {},
   "source": [
    "### IXI\n",
    "\n",
    "Summary: In this project we have collected nearly 600 MR images from normal, healthy subjects. The MR image acquisition protocol for each subject includes:\n",
    "\n",
    "T1, T2 and PD-weighted images, MRA images, Diffusion-weighted images (15 directions)\n",
    "The data has been collected at three different hospitals in London:\n",
    "\n",
    "Number of Sites : 3\n",
    "1. Hammersmith Hospital using a Philips 3T system (details of scanner parameters)\n",
    "2. Guy’s Hospital using a Philips 1.5T system (details of scanner parameters)\n",
    "3. Institute of Psychiatry using a GE 1.5T system (details of the scan parameters not available at the moment)\n",
    "\n",
    "Project Page : [https://brain-development.org/ixi-dataset/](https://brain-development.org/ixi-dataset/)"
   ]
  },
  {
   "cell_type": "markdown",
   "id": "c8349d5b",
   "metadata": {},
   "source": [
    "```bash\n",
    "aria2c -x 10 -j 10 -s 10 http://biomedic.doc.ic.ac.uk/brain-development/downloads/IXI/IXI-T1.tar\n",
    "```"
   ]
  },
  {
   "cell_type": "markdown",
   "id": "a8defeb1",
   "metadata": {},
   "source": [
    "### CAMCAN"
   ]
  },
  {
   "cell_type": "markdown",
   "id": "3de6cf8f",
   "metadata": {},
   "source": [
    "Apply for access here : https://camcan-archive.mrc-cbu.cam.ac.uk/dataaccess/index.php"
   ]
  },
  {
   "cell_type": "markdown",
   "id": "8670af85",
   "metadata": {},
   "source": [
    "### Agelity"
   ]
  },
  {
   "cell_type": "markdown",
   "id": "8d7b2a05",
   "metadata": {},
   "source": [
    "Downloaded from Nitrc\n",
    "\n",
    "\n",
    "files included\n",
    "A_P_mag_FIELDMAPPING    b1000      b1000_P_A  b3000_A_P  P_A_mag_FIELDMAPPING    RESTING_EEG  T1\n",
    "A_P_phase_FIELDMAPPING  b1000_A_P  b3000      b3000_P_A  P_A_phase_FIELDMAPPING  rsfMRI"
   ]
  },
  {
   "cell_type": "markdown",
   "id": "fe8646e0",
   "metadata": {},
   "source": [
    "### CHBMP"
   ]
  },
  {
   "cell_type": "markdown",
   "id": "7371f519",
   "metadata": {},
   "source": [
    "https://www.nature.com/articles/s41597-021-00829-7"
   ]
  },
  {
   "cell_type": "markdown",
   "id": "73e71759",
   "metadata": {},
   "source": [
    "### OMEGA"
   ]
  },
  {
   "cell_type": "markdown",
   "id": "7a161585",
   "metadata": {},
   "source": [
    "https://www.mcgill.ca/bic/neuroinformatics/omega"
   ]
  },
  {
   "cell_type": "markdown",
   "id": "0a082988",
   "metadata": {},
   "source": [
    "## Openneuro"
   ]
  },
  {
   "cell_type": "markdown",
   "id": "88c6906e",
   "metadata": {},
   "source": [
    "### AOMIC-1D1000"
   ]
  },
  {
   "cell_type": "markdown",
   "id": "2543a4ee",
   "metadata": {},
   "source": [
    "```bash\n",
    "aws s3 sync --no-sign-request s3://openneuro.org/ds003097 . --exclude \"*\" --include \"sub-*/anat/*T1w*\"\n",
    "```"
   ]
  },
  {
   "cell_type": "markdown",
   "id": "76c4cbef",
   "metadata": {},
   "source": [
    "### AOMIC - PIOP2"
   ]
  },
  {
   "cell_type": "markdown",
   "id": "e0e45dd9",
   "metadata": {},
   "source": [
    "```bash\n",
    "aws s3 sync --no-sign-request s3://openneuro.org/ds002790 . --exclude \"*\" --include \"sub-*/anat/*T1w*\"\n",
    "```"
   ]
  },
  {
   "cell_type": "markdown",
   "id": "5cefa209",
   "metadata": {},
   "source": [
    "### AOMIC - PIOP 1"
   ]
  },
  {
   "cell_type": "markdown",
   "id": "73a96f26",
   "metadata": {},
   "source": [
    "```bash\n",
    "aws s3 sync --no-sign-request s3://openneuro.org/ds002785 . --exclude \"*\" --include \"sub-*/anat/*T1w*\"\n",
    "```"
   ]
  },
  {
   "cell_type": "markdown",
   "id": "b4ec7f7b",
   "metadata": {},
   "source": [
    "```bash\n",
    "aws s3 sync --no-sign-request s3://openneuro.org/ds002345 ds002345-download/ --exclude \"*\" --include \"*T1w*\"\n",
    "```"
   ]
  },
  {
   "cell_type": "markdown",
   "id": "c35dda83",
   "metadata": {},
   "source": [
    "### MPI-brain body\n",
    "\n",
    "https://fcon_1000.projects.nitrc.org/indi/retro/MPI.html"
   ]
  },
  {
   "cell_type": "markdown",
   "id": "b61fce97",
   "metadata": {},
   "source": [
    "```bash\n",
    "aws s3 sync --no-sign-request s3://openneuro.org/ds000221/ . --exclude * --include \"**/*T1w.nii.gz\"\n",
    "```"
   ]
  },
  {
   "cell_type": "markdown",
   "id": "9bf269db",
   "metadata": {},
   "source": [
    "### 28andMe"
   ]
  },
  {
   "cell_type": "markdown",
   "id": "4ca57457",
   "metadata": {},
   "source": [
    "```bash\n",
    "aws s3 sync --no-sign-request s3://openneuro.org/ds002674 ds002674-download/\n",
    "```"
   ]
  },
  {
   "cell_type": "markdown",
   "id": "93cdf633",
   "metadata": {},
   "source": [
    "### 28andHe"
   ]
  },
  {
   "cell_type": "markdown",
   "id": "f3c7a4a8",
   "metadata": {},
   "source": [
    "```bash\n",
    "aws s3 sync --no-sign-request s3://openneuro.org/ds005115 ds005115-download/\n",
    "```"
   ]
  },
  {
   "cell_type": "markdown",
   "id": "c1c9eb2b",
   "metadata": {},
   "source": [
    "### Pixar"
   ]
  },
  {
   "cell_type": "markdown",
   "id": "11132b93",
   "metadata": {},
   "source": [
    "```bash\n",
    "aws s3 sync --no-sign-request s3://openneuro.org/ds000228 . --exclude \"*\" --include \"sub-*/anat/*T1w*\"\n",
    "```"
   ]
  },
  {
   "cell_type": "markdown",
   "id": "2c0cfe57",
   "metadata": {},
   "source": [
    "### Something else"
   ]
  },
  {
   "cell_type": "markdown",
   "id": "b63c2b22",
   "metadata": {},
   "source": [
    "```bash\n",
    "aws s3 sync --no-sign-request s3://openneuro.org/ds005115 ds005115-download/ --exclude \"*\" --include \"sub-01_ses-*_T1w.nii.gz\"\n",
    "```"
   ]
  },
  {
   "cell_type": "markdown",
   "id": "fad571f1",
   "metadata": {},
   "source": [
    "###  Longitudinal Brain Correlates of Multisensory Lexical Processing in Children\n",
    "\n",
    "https://openneuro.org/datasets/ds001894/versions/1.4.2"
   ]
  },
  {
   "cell_type": "markdown",
   "id": "78a568a8",
   "metadata": {},
   "source": [
    "```bash\n",
    "aws s3 sync --no-sign-request s3://openneuro.org/ds001894 . --exclude \"*\" --include \"*T1w.nii.gz\"\n",
    "```"
   ]
  },
  {
   "cell_type": "markdown",
   "id": "d6c9162b",
   "metadata": {},
   "source": [
    "### Max Planck Institut Leipzig Mind-Brain-Body Dataset\n",
    "The participants included in this dataset (n = 321) participated in one or two protocols. Each of these protocols included structural and resting-state fMRI data acquisition.\n",
    "\n",
    "This dataset includes the available modalities:\n",
    "\n",
    "FLAIR\n",
    "T1map\n",
    "T1w\n",
    "defacemask\n",
    "bold\n",
    "T2w\n",
    "dwi\n",
    "fieldmap"
   ]
  },
  {
   "cell_type": "markdown",
   "id": "1104f6c6",
   "metadata": {},
   "source": [
    "### UCLA Consortium for Neuropsychiatric Phenomics LA5c Study\n",
    "\n",
    "https://openneuro.org/datasets/ds000030/versions/00016/download"
   ]
  },
  {
   "cell_type": "markdown",
   "id": "a52e935d",
   "metadata": {},
   "source": [
    "```bash\n",
    "aws s3 sync --no-sign-request s3://openneuro.org/ds000030 . --exclude \"*\" --include \"sub-01_ses-*_T1w.nii.gz\"\n",
    "```"
   ]
  },
  {
   "cell_type": "markdown",
   "id": "659f7936",
   "metadata": {},
   "source": [
    "## OASIS"
   ]
  },
  {
   "cell_type": "markdown",
   "id": "56ac3d91",
   "metadata": {},
   "source": [
    "### OASIS-1\n",
    "Cross-sectional MRI Data in Young, Middle Aged, Nondemented and Demented Older Adults\n",
    "\n",
    "Summary: This set consists of a cross-sectional collection of 416 subjects aged 18 to 96. For each subject, 3 or 4 individual T1-weighted MRI scans obtained in single scan sessions are included. The subjects are all right-handed and include both men and women. 100 of the included subjects over the age of 60 have been clinically diagnosed with very mild to moderate Alzheimer’s disease (AD). Additionally, a reliability data set is included containing 20 nondemented subjects imaged on a subsequent visit within 90 days of their initial session.\n",
    "\n",
    "Project Page: [https://sites.wustl.edu/oasisbrains/home/oasis-1/](https://sites.wustl.edu/oasisbrains/home/oasis-1/)\n"
   ]
  },
  {
   "cell_type": "markdown",
   "id": "1999ec33",
   "metadata": {},
   "source": [
    "```bash\n",
    "for i in {1..12}\n",
    "do\n",
    "    aria2c -x 10 -j 10 -s 10 https://download.nrg.wustl.edu/data/oasis_cross-sectional_disc$i.tar.gz \n",
    "done\n",
    "find -type f -name \"*tar.gz\" -exec tar -xvzf {} \\;\n",
    "# fslchangetype NIFIT_GZ Important !!\n",
    "```"
   ]
  },
  {
   "cell_type": "markdown",
   "id": "1f513afa",
   "metadata": {},
   "source": [
    "### OASIS-2\n",
    "Cross-sectional MRLongitudinal MRI Data in Nondemented and Demented Older AdultsI Data in Young, Middle Aged, Nondemented and Demented Older Adults\n",
    "\n",
    "Summary: This set consists of a longitudinal collection of 150 subjects aged 60 to 96. Each subject was scanned on two or more visits, separated by at least one year for a total of 373 imaging sessions. For each subject, 3 or 4 individual T1-weighted MRI scans obtained in single scan sessions are included. The subjects are all right-handed and include both men and women. 72 of the subjects were characterized as nondemented throughout the study. 64 of the included subjects were characterized as demented at the time of their initial visits and remained so for subsequent scans, including 51 individuals with mild to moderate Alzheimer’s disease. Another 14 subjects were characterized as nondemented at the time of their initial visit and were subsequently characterized as demented at a later visit."
   ]
  },
  {
   "cell_type": "markdown",
   "id": "51ea37d1",
   "metadata": {},
   "source": [
    "```bash\n",
    "aria2c -x 10 -j 10 -s 10 https://download.nrg.wustl.edu/data/OAS2_RAW_PART1.tar.gz\n",
    "aria2c -x 10 -j 10 -s 10 https://download.nrg.wustl.edu/data/OAS2_RAW_PART2.tar.gz\n",
    "```"
   ]
  },
  {
   "cell_type": "markdown",
   "id": "1c288b23",
   "metadata": {},
   "source": [
    "## RBC Reproducible Brain Charts\n",
    "\n",
    "[https://reprobrainchart.github.io/](https://reprobrainchart.github.io/)"
   ]
  },
  {
   "cell_type": "markdown",
   "id": "921fa492",
   "metadata": {},
   "source": [
    "### PNC\n",
    "\n",
    "Summary: The PNC includes a population-based sample of over 9500 individuals from the greater Philadelphia area, ages 8-21 years who received medical care at the CHOP network. The participants presented for diverse medical conditions, ranging from a well child visit and minor problems to chronic condition management to potentially life threatening health problems. They were not ascertained through psychiatric services.  They were initially enrolled in the genetic study at CHOP’s Center for Applied Genomics (CAG). Upon assent/consent, participants were genotyped during the time of their clinical visit and provided written permission to be recontacted for studies of complex pediatric disorders. The PNC participants were selected at random after stratification by sex, age and ethnicity. The overall inclusion criteria included 1. ability to provide signed informed consent (parental consent was required for participants under age 18), 2. English language proficiency, and 3. physical and cognitive ability to participate in computerized clinical assessment and neurocognitive testing. All PNC participants were assessed neuropsychiatrically with a structured interview and completed the Computerized Neurocognitive Battery (CNB). A total of 1445 participants also received neuroimaging that included functional MRI (resting state and activated blood oxygenation-level dependent and perfusion measures with arterial spin labeling), structural MRI, and diffusion tensor imaging (DTI). (Satterthwaite et al., 2014)\n",
    "\n",
    "Number of Sites: ??\n",
    "\n",
    "Size : 193 GB\n",
    "\n",
    "Project Page: [https://www.med.upenn.edu/bbl/philadelphianeurodevelopmentalcohort.html](https://www.med.upenn.edu/bbl/philadelphianeurodevelopmentalcohort.html)"
   ]
  },
  {
   "cell_type": "markdown",
   "id": "877c8f55",
   "metadata": {},
   "source": [
    "```bash\n",
    "git clone https://github.com/ReproBrainChart/PNC_BIDS.git\n",
    "datalad clone https://github.com/ReproBrainChart/PNC_BIDS.git -b complete-pass-0.1\n",
    "datalad get *\n",
    "```"
   ]
  },
  {
   "cell_type": "markdown",
   "id": "5eac09ea",
   "metadata": {},
   "source": [
    "### BHRC\n",
    "\n",
    "Size: 103GB"
   ]
  },
  {
   "cell_type": "markdown",
   "id": "75e11522",
   "metadata": {},
   "source": [
    "```bash\n",
    "git clone https://github.com/ReproBrainChart/BHRC_BIDS.git\n",
    "datalad clone https://github.com/ReproBrainChart/BHRC_BIDS.git -b complete-pass-0.1\n",
    "datalad get *\n",
    "```"
   ]
  },
  {
   "cell_type": "markdown",
   "id": "5d879cd4",
   "metadata": {},
   "source": [
    "### CCNP"
   ]
  },
  {
   "cell_type": "markdown",
   "id": "6186abab",
   "metadata": {},
   "source": [
    "```bash\n",
    "git clone https://github.com/ReproBrainChart/CCNP_BIDS.git\n",
    "datalad clone https://github.com/ReproBrainChart/CCNP_BIDS.git -b complete-pass-0.1\n",
    "datalad get *\n",
    "```"
   ]
  },
  {
   "cell_type": "markdown",
   "id": "7ee4c740",
   "metadata": {},
   "source": [
    "### Chinese Connecotme Project\n",
    "https://www.scidb.cn/en/detail?dataSetId=f512d085f3d3452a9b14689e9997ca94#p2"
   ]
  },
  {
   "cell_type": "markdown",
   "id": "df6962b5",
   "metadata": {},
   "source": [
    "### Imaging Chinese Young Brains (I See Your Brain/ ISYB)"
   ]
  },
  {
   "cell_type": "markdown",
   "id": "45699615",
   "metadata": {},
   "source": []
  },
  {
   "cell_type": "markdown",
   "id": "c3b047d8",
   "metadata": {},
   "source": [
    "## Doubtful"
   ]
  },
  {
   "cell_type": "markdown",
   "id": "54c3f882",
   "metadata": {},
   "source": [
    "Structural and functional MRI dataset from the Adolescent Health and Development in Context (AHDC) study in Columbus, Ohio\n",
    "\n",
    "https://openneuro.org/datasets/ds005896/versions/1.0.0"
   ]
  },
  {
   "cell_type": "markdown",
   "id": "006351b4",
   "metadata": {},
   "source": [
    "https://iidpportal.medicine.iu.edu/data-access/index.html"
   ]
  },
  {
   "cell_type": "markdown",
   "id": "a656fc56",
   "metadata": {},
   "source": [
    "# Pre-requisites\n",
    "Before starting downloading the MRI images, please chaeack if you have the necessary tools to effcicinetly download, process and anlayse the data"
   ]
  },
  {
   "cell_type": "markdown",
   "id": "3d9f42b8",
   "metadata": {},
   "source": [
    "## Accounts\n",
    "\n",
    "1. Nitrc\n",
    "2. AWS"
   ]
  },
  {
   "cell_type": "markdown",
   "id": "a76c5f03",
   "metadata": {},
   "source": [
    "## Packages\n",
    "1. Aria2c\n",
    "2. DataLad\n",
    "3. aws\n",
    "4. PyTorch"
   ]
  },
  {
   "cell_type": "markdown",
   "id": "2d09fbd5",
   "metadata": {},
   "source": [
    "## ToolBox\n",
    "1. FSL\n",
    "2. ANTs-N4BiasCorrection\n",
    "3. neuroHarmonise"
   ]
  },
  {
   "cell_type": "code",
   "execution_count": null,
   "id": "299d9dfd",
   "metadata": {},
   "outputs": [
    {
     "data": {
      "text/html": [
       "<div>\n",
       "<style scoped>\n",
       "    .dataframe tbody tr th:only-of-type {\n",
       "        vertical-align: middle;\n",
       "    }\n",
       "\n",
       "    .dataframe tbody tr th {\n",
       "        vertical-align: top;\n",
       "    }\n",
       "\n",
       "    .dataframe thead th {\n",
       "        text-align: right;\n",
       "    }\n",
       "</style>\n",
       "<table border=\"1\" class=\"dataframe\">\n",
       "  <thead>\n",
       "    <tr style=\"text-align: right;\">\n",
       "      <th></th>\n",
       "      <th>Pathology/Component</th>\n",
       "      <th>Dataset</th>\n",
       "      <th>Reason 1</th>\n",
       "      <th>Reason 2</th>\n",
       "      <th>Reason 3</th>\n",
       "      <th>Caution</th>\n",
       "    </tr>\n",
       "  </thead>\n",
       "  <tbody>\n",
       "    <tr>\n",
       "      <th>0</th>\n",
       "      <td>Alzheimer's Disease</td>\n",
       "      <td>ADNI</td>\n",
       "      <td>Standard dataset, widely used in many studies</td>\n",
       "      <td>Restricted but easy to access</td>\n",
       "      <td>Deep phenotyped datasets</td>\n",
       "      <td>Multi-site, multi-vendor, multi-sequence data ...</td>\n",
       "    </tr>\n",
       "    <tr>\n",
       "      <th>1</th>\n",
       "      <td>Young Adults (Healthy)</td>\n",
       "      <td>AOMIC</td>\n",
       "      <td>Easy to access</td>\n",
       "      <td>Large cohort size</td>\n",
       "      <td>High-quality imaging data</td>\n",
       "      <td>No cognitive tests associated with the study; ...</td>\n",
       "    </tr>\n",
       "    <tr>\n",
       "      <th>2</th>\n",
       "      <td>Schizophrenia</td>\n",
       "      <td>COBRE</td>\n",
       "      <td>Easy to access</td>\n",
       "      <td>Includes both patients and controls</td>\n",
       "      <td>High-quality imaging data</td>\n",
       "      <td>Small cohort size</td>\n",
       "    </tr>\n",
       "    <tr>\n",
       "      <th>3</th>\n",
       "      <td>Healthy Genetics</td>\n",
       "      <td>BGSP</td>\n",
       "      <td>Large cohort with necessary modalities for sta...</td>\n",
       "      <td>Restricted but easy to access</td>\n",
       "      <td>Widely considered important</td>\n",
       "      <td>Approval may take time; need to apply to both ...</td>\n",
       "    </tr>\n",
       "    <tr>\n",
       "      <th>4</th>\n",
       "      <td>Dementia (MRI + PET)</td>\n",
       "      <td>MCSA</td>\n",
       "      <td>Longitudinal data with over 3500 scans</td>\n",
       "      <td>Restricted but easy to access</td>\n",
       "      <td>Key dataset to test on; relatively new</td>\n",
       "      <td>Identifying the imaging site is difficult; may...</td>\n",
       "    </tr>\n",
       "  </tbody>\n",
       "</table>\n",
       "</div>"
      ],
      "text/plain": [
       "      Pathology/Component Dataset  \\\n",
       "0     Alzheimer's Disease    ADNI   \n",
       "1  Young Adults (Healthy)   AOMIC   \n",
       "2           Schizophrenia   COBRE   \n",
       "3        Healthy Genetics    BGSP   \n",
       "4    Dementia (MRI + PET)    MCSA   \n",
       "\n",
       "                                            Reason 1  \\\n",
       "0      Standard dataset, widely used in many studies   \n",
       "1                                     Easy to access   \n",
       "2                                     Easy to access   \n",
       "3  Large cohort with necessary modalities for sta...   \n",
       "4             Longitudinal data with over 3500 scans   \n",
       "\n",
       "                              Reason 2  \\\n",
       "0        Restricted but easy to access   \n",
       "1                    Large cohort size   \n",
       "2  Includes both patients and controls   \n",
       "3        Restricted but easy to access   \n",
       "4        Restricted but easy to access   \n",
       "\n",
       "                                 Reason 3  \\\n",
       "0                Deep phenotyped datasets   \n",
       "1               High-quality imaging data   \n",
       "2               High-quality imaging data   \n",
       "3             Widely considered important   \n",
       "4  Key dataset to test on; relatively new   \n",
       "\n",
       "                                             Caution  \n",
       "0  Multi-site, multi-vendor, multi-sequence data ...  \n",
       "1  No cognitive tests associated with the study; ...  \n",
       "2                                  Small cohort size  \n",
       "3  Approval may take time; need to apply to both ...  \n",
       "4  Identifying the imaging site is difficult; may...  "
      ]
     },
     "execution_count": 1,
     "metadata": {},
     "output_type": "execute_result"
    }
   ],
   "source": [
    "import pandas as pd\n",
    "pd.read_csv('docs/assets/goto.csv').head()"
   ]
  }
 ],
 "metadata": {
  "kernelspec": {
   "display_name": "torch",
   "language": "python",
   "name": "python3"
  },
  "language_info": {
   "codemirror_mode": {
    "name": "ipython",
    "version": 3
   },
   "file_extension": ".py",
   "mimetype": "text/x-python",
   "name": "python",
   "nbconvert_exporter": "python",
   "pygments_lexer": "ipython3",
   "version": "3.9.16"
  }
 },
 "nbformat": 4,
 "nbformat_minor": 5
}
