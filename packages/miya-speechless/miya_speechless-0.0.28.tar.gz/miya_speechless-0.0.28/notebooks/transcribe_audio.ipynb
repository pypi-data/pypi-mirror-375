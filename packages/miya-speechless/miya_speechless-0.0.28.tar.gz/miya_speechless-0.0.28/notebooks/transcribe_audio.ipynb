{
 "cells": [
  {
   "cell_type": "code",
   "execution_count": 1,
   "metadata": {},
   "outputs": [],
   "source": [
    "from openai import OpenAI\n",
    "import os\n",
    "from dotenv import load_dotenv\n",
    "from speechless.transcribe_audio import transcribe_audio_and_write, transcribe_audio"
   ]
  },
  {
   "cell_type": "code",
   "execution_count": 2,
   "metadata": {},
   "outputs": [],
   "source": [
    "FOLDER_TO_STORE = \"../data/transcripts\""
   ]
  },
  {
   "cell_type": "code",
   "execution_count": 3,
   "metadata": {},
   "outputs": [],
   "source": [
    "AUDIO_FILE_PATHS = [\n",
    "    \"../data/audio/best_sales_pitch_the_wolf_of_wall_street.mp3\",\n",
    "    \"../data/audio/poor_vs_great_customer_service.mp3\",\n",
    "    \"../data/audio/customer_and_banker_conversation_in_bank_animated_video_by_prime_time_5.mp3\",\n",
    "    \"../data/audio/sales_call_example_1.mp3\"\n",
    "]"
   ]
  },
  {
   "cell_type": "code",
   "execution_count": 4,
   "metadata": {},
   "outputs": [],
   "source": [
    "for audio_file_path in AUDIO_FILE_PATHS:\n",
    "    # Transcribe the audio and write the transcribed text to a file\n",
    "    transcribe_audio_and_write(audio_file_path, FOLDER_TO_STORE)"
   ]
  },
  {
   "cell_type": "code",
   "execution_count": null,
   "metadata": {},
   "outputs": [],
   "source": []
  }
 ],
 "metadata": {
  "kernelspec": {
   "display_name": "speechless-ncOQqsHn-py3.12",
   "language": "python",
   "name": "python3"
  },
  "language_info": {
   "codemirror_mode": {
    "name": "ipython",
    "version": 3
   },
   "file_extension": ".py",
   "mimetype": "text/x-python",
   "name": "python",
   "nbconvert_exporter": "python",
   "pygments_lexer": "ipython3",
   "version": "3.12.7"
  }
 },
 "nbformat": 4,
 "nbformat_minor": 2
}
